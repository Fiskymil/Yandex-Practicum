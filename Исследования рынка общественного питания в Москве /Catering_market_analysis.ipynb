{
 "cells": [
  {
   "cell_type": "markdown",
   "metadata": {},
   "source": [
    "# Исследование рынка общественного питания на основе открытых данных"
   ]
  },
  {
   "cell_type": "markdown",
   "metadata": {},
   "source": [
    "## Цель проекта\n",
    "\n",
    "Исследовать вопрос - будет ли успешным и популярным на долгое время кафе, в\n",
    "котором гостей обслуживают роботы-официанты. По результатам анализа подготовить\n",
    "презентацию для инвесторов с рекомендациями"
   ]
  },
  {
   "cell_type": "markdown",
   "metadata": {},
   "source": [
    "## Описание данных\n",
    "\n",
    "- id — идентификатор объекта;\n",
    "- object_name — название объекта общественного питания;\n",
    "- chain — сетевой ресторан;\n",
    "- object_type — тип объекта общественного питания;\n",
    "- address — адрес;\n",
    "- number — количество посадочных мест."
   ]
  },
  {
   "cell_type": "markdown",
   "metadata": {},
   "source": [
    "## Шаг №1. Загрузка данных и подготовка к анализу\n",
    "Загрузим данные о заведениях общественного питания Москвы. Убедимся, что тип данных в каждой колонке — правильный, а также отсутствуют пропущенные значения и дубликаты. "
   ]
  },
  {
   "cell_type": "code",
   "execution_count": 3,
   "metadata": {},
   "outputs": [],
   "source": [
    "import pandas as pd\n",
    "import seaborn as sns\n",
    "import matplotlib.pyplot as plt\n",
    "import numpy as np\n",
    "import os"
   ]
  },
  {
   "cell_type": "code",
   "execution_count": 4,
   "metadata": {},
   "outputs": [],
   "source": [
    "# загрузим данные\n",
    "pth1 = 'rest_data.csv'\n",
    "pth2 = '/datasets/rest_data.csv'\n",
    "\n",
    "if os.path.exists(pth1):\n",
    "    rest_data = pd.read_csv(pth1)\n",
    "elif os.path.exists(pth2):\n",
    "    rest_data = pd.read_csv(pth2)\n",
    "else:\n",
    "    print('Something is wrong')"
   ]
  },
  {
   "cell_type": "code",
   "execution_count": 5,
   "metadata": {},
   "outputs": [
    {
     "data": {
      "text/html": [
       "<div>\n",
       "<style scoped>\n",
       "    .dataframe tbody tr th:only-of-type {\n",
       "        vertical-align: middle;\n",
       "    }\n",
       "\n",
       "    .dataframe tbody tr th {\n",
       "        vertical-align: top;\n",
       "    }\n",
       "\n",
       "    .dataframe thead th {\n",
       "        text-align: right;\n",
       "    }\n",
       "</style>\n",
       "<table border=\"1\" class=\"dataframe\">\n",
       "  <thead>\n",
       "    <tr style=\"text-align: right;\">\n",
       "      <th></th>\n",
       "      <th>id</th>\n",
       "      <th>object_name</th>\n",
       "      <th>chain</th>\n",
       "      <th>object_type</th>\n",
       "      <th>address</th>\n",
       "      <th>number</th>\n",
       "    </tr>\n",
       "  </thead>\n",
       "  <tbody>\n",
       "    <tr>\n",
       "      <th>0</th>\n",
       "      <td>151635</td>\n",
       "      <td>СМЕТАНА</td>\n",
       "      <td>нет</td>\n",
       "      <td>кафе</td>\n",
       "      <td>город Москва, улица Егора Абакумова, дом 9</td>\n",
       "      <td>48</td>\n",
       "    </tr>\n",
       "    <tr>\n",
       "      <th>1</th>\n",
       "      <td>77874</td>\n",
       "      <td>Родник</td>\n",
       "      <td>нет</td>\n",
       "      <td>кафе</td>\n",
       "      <td>город Москва, улица Талалихина, дом 2/1, корпус 1</td>\n",
       "      <td>35</td>\n",
       "    </tr>\n",
       "    <tr>\n",
       "      <th>2</th>\n",
       "      <td>24309</td>\n",
       "      <td>Кафе «Академия»</td>\n",
       "      <td>нет</td>\n",
       "      <td>кафе</td>\n",
       "      <td>город Москва, Абельмановская улица, дом 6</td>\n",
       "      <td>95</td>\n",
       "    </tr>\n",
       "    <tr>\n",
       "      <th>3</th>\n",
       "      <td>21894</td>\n",
       "      <td>ПИЦЦЕТОРИЯ</td>\n",
       "      <td>да</td>\n",
       "      <td>кафе</td>\n",
       "      <td>город Москва, Абрамцевская улица, дом 1</td>\n",
       "      <td>40</td>\n",
       "    </tr>\n",
       "    <tr>\n",
       "      <th>4</th>\n",
       "      <td>119365</td>\n",
       "      <td>Кафе «Вишневая метель»</td>\n",
       "      <td>нет</td>\n",
       "      <td>кафе</td>\n",
       "      <td>город Москва, Абрамцевская улица, дом 9, корпус 1</td>\n",
       "      <td>50</td>\n",
       "    </tr>\n",
       "    <tr>\n",
       "      <th>5</th>\n",
       "      <td>27429</td>\n",
       "      <td>СТОЛ. ПРИ ГОУ СОШ № 1051</td>\n",
       "      <td>нет</td>\n",
       "      <td>столовая</td>\n",
       "      <td>город Москва, Абрамцевская улица, дом 15, корп...</td>\n",
       "      <td>240</td>\n",
       "    </tr>\n",
       "    <tr>\n",
       "      <th>6</th>\n",
       "      <td>148815</td>\n",
       "      <td>Брусника</td>\n",
       "      <td>да</td>\n",
       "      <td>кафе</td>\n",
       "      <td>город Москва, переулок Сивцев Вражек, дом 6/2</td>\n",
       "      <td>10</td>\n",
       "    </tr>\n",
       "    <tr>\n",
       "      <th>7</th>\n",
       "      <td>20957</td>\n",
       "      <td>Буфет МТУСИ</td>\n",
       "      <td>нет</td>\n",
       "      <td>столовая</td>\n",
       "      <td>город Москва, Авиамоторная улица, дом 8, строе...</td>\n",
       "      <td>90</td>\n",
       "    </tr>\n",
       "    <tr>\n",
       "      <th>8</th>\n",
       "      <td>20958</td>\n",
       "      <td>КПФ СЕМЬЯ-1</td>\n",
       "      <td>нет</td>\n",
       "      <td>столовая</td>\n",
       "      <td>город Москва, Авиамоторная улица, дом 8, строе...</td>\n",
       "      <td>150</td>\n",
       "    </tr>\n",
       "    <tr>\n",
       "      <th>9</th>\n",
       "      <td>28858</td>\n",
       "      <td>Столовая МТУСИ</td>\n",
       "      <td>нет</td>\n",
       "      <td>столовая</td>\n",
       "      <td>город Москва, Авиамоторная улица, дом 8, строе...</td>\n",
       "      <td>120</td>\n",
       "    </tr>\n",
       "  </tbody>\n",
       "</table>\n",
       "</div>"
      ],
      "text/plain": [
       "       id               object_name chain object_type  \\\n",
       "0  151635                   СМЕТАНА   нет        кафе   \n",
       "1   77874                    Родник   нет        кафе   \n",
       "2   24309           Кафе «Академия»   нет        кафе   \n",
       "3   21894                ПИЦЦЕТОРИЯ    да        кафе   \n",
       "4  119365    Кафе «Вишневая метель»   нет        кафе   \n",
       "5   27429  СТОЛ. ПРИ ГОУ СОШ № 1051   нет    столовая   \n",
       "6  148815                  Брусника    да        кафе   \n",
       "7   20957               Буфет МТУСИ   нет    столовая   \n",
       "8   20958               КПФ СЕМЬЯ-1   нет    столовая   \n",
       "9   28858            Столовая МТУСИ   нет    столовая   \n",
       "\n",
       "                                             address  number  \n",
       "0         город Москва, улица Егора Абакумова, дом 9      48  \n",
       "1  город Москва, улица Талалихина, дом 2/1, корпус 1      35  \n",
       "2          город Москва, Абельмановская улица, дом 6      95  \n",
       "3            город Москва, Абрамцевская улица, дом 1      40  \n",
       "4  город Москва, Абрамцевская улица, дом 9, корпус 1      50  \n",
       "5  город Москва, Абрамцевская улица, дом 15, корп...     240  \n",
       "6      город Москва, переулок Сивцев Вражек, дом 6/2      10  \n",
       "7  город Москва, Авиамоторная улица, дом 8, строе...      90  \n",
       "8  город Москва, Авиамоторная улица, дом 8, строе...     150  \n",
       "9  город Москва, Авиамоторная улица, дом 8, строе...     120  "
      ]
     },
     "execution_count": 5,
     "metadata": {},
     "output_type": "execute_result"
    }
   ],
   "source": [
    "rest_data.head(10)"
   ]
  },
  {
   "cell_type": "code",
   "execution_count": 6,
   "metadata": {},
   "outputs": [
    {
     "name": "stdout",
     "output_type": "stream",
     "text": [
      "<class 'pandas.core.frame.DataFrame'>\n",
      "RangeIndex: 15366 entries, 0 to 15365\n",
      "Data columns (total 6 columns):\n",
      " #   Column       Non-Null Count  Dtype \n",
      "---  ------       --------------  ----- \n",
      " 0   id           15366 non-null  int64 \n",
      " 1   object_name  15366 non-null  object\n",
      " 2   chain        15366 non-null  object\n",
      " 3   object_type  15366 non-null  object\n",
      " 4   address      15366 non-null  object\n",
      " 5   number       15366 non-null  int64 \n",
      "dtypes: int64(2), object(4)\n",
      "memory usage: 720.4+ KB\n"
     ]
    }
   ],
   "source": [
    "rest_data.info()"
   ]
  },
  {
   "cell_type": "code",
   "execution_count": 7,
   "metadata": {},
   "outputs": [
    {
     "data": {
      "text/plain": [
       "0"
      ]
     },
     "execution_count": 7,
     "metadata": {},
     "output_type": "execute_result"
    }
   ],
   "source": [
    "rest_data.duplicated().sum()"
   ]
  },
  {
   "cell_type": "code",
   "execution_count": 8,
   "metadata": {},
   "outputs": [
    {
     "data": {
      "text/plain": [
       "82"
      ]
     },
     "execution_count": 8,
     "metadata": {},
     "output_type": "execute_result"
    }
   ],
   "source": [
    "rest_data[['object_name', 'chain', 'object_type', 'address', 'number']].duplicated().sum()"
   ]
  },
  {
   "cell_type": "code",
   "execution_count": 9,
   "metadata": {},
   "outputs": [],
   "source": [
    "rest_data.drop_duplicates(subset=['object_name', 'chain', 'object_type', 'address', 'number'],inplace=True)"
   ]
  },
  {
   "cell_type": "code",
   "execution_count": 10,
   "metadata": {
    "scrolled": true
   },
   "outputs": [
    {
     "data": {
      "text/plain": [
       "0"
      ]
     },
     "execution_count": 10,
     "metadata": {},
     "output_type": "execute_result"
    }
   ],
   "source": [
    "rest_data[['object_name', 'chain', 'object_type', 'address', 'number']].duplicated().sum()"
   ]
  },
  {
   "cell_type": "markdown",
   "metadata": {},
   "source": [
    "## Шаг №2. Анализ данных\n",
    "- Исследуйте соотношение видов объектов общественного питания по количеству. Постройте график.\n",
    "- Исследуйте соотношение сетевых и несетевых заведений по количеству. Постройте график.\n",
    "- Для какого вида объекта общественного питания характерно сетевое распространение?\n",
    "- Что характерно для сетевых заведений: много заведений с небольшим числом посадочных мест в каждом или мало заведений с большим количеством посадочных мест?\n",
    "- Для каждого вида объекта общественного питания опишите среднее количество посадочных мест. Какой вид предоставляет в среднем самое большое количество посадочных мест? Постройте графики.\n",
    "- Выделите в отдельный столбец информацию об улице из столбца address .\n",
    "- Постройте график топ-10 улиц по количеству объектов общественного питания. Воспользуйтесь внешней информацией и ответьте на вопрос — в каких районах Москвы находятся эти улицы?\n",
    "- Найдите число улиц с одним объектом общественного питания. Воспользуйтесь внешней информацией и ответьте на вопрос — в каких районах Москвы находятся эти улицы?"
   ]
  },
  {
   "cell_type": "markdown",
   "metadata": {},
   "source": [
    "#### Исследуем соотношение видов объектов общественного питания по количеству. Построим график."
   ]
  },
  {
   "cell_type": "code",
   "execution_count": 11,
   "metadata": {},
   "outputs": [
    {
     "data": {
      "image/png": "[encoded data removed]",
      "text/plain": [
       "<Figure size 720x504 with 1 Axes>"
      ]
     },
     "metadata": {
      "needs_background": "light"
     },
     "output_type": "display_data"
    }
   ],
   "source": [
    "plt.figure(figsize = (10,7))\n",
    "\n",
    "ax = sns.barplot(x=rest_data.object_type.value_counts().index, \n",
    "                y=rest_data.object_type.value_counts(),\n",
    "                palette=\"crest\")\n",
    "\n",
    "ax.grid()\n",
    "plt.ylabel(\"Количество\")\n",
    "plt.xticks([0, 1, 2,3,4,5,6,7,8],['кафе', 'столовая', 'ресторан', 'предприятие\\nбыстрого\\nобслуживания',\n",
    "       'бар', 'буфет', 'кафетерий', 'закусочная', 'магазин\\n(отдел\\nкулинарии)'])\n",
    "\n",
    "plt.xlabel('Вид объекта')\n",
    "plt.title('Количество объектов питание разных видов')\n",
    "# ax.set_xticklabels(ax.get_xticklabels(),rotation=-15,ha=\"left\",rotation_mode='anchor')\n",
    "plt.tight_layout()\n"
   ]
  },
  {
   "cell_type": "code",
   "execution_count": 43,
   "metadata": {},
   "outputs": [
    {
     "data": {
      "image/png": "[encoded data removed]",
      "text/plain": [
       "<Figure size 720x504 with 1 Axes>"
      ]
     },
     "metadata": {
      "needs_background": "light"
     },
     "output_type": "display_data"
    }
   ],
   "source": [
    "# Код ревьюера\n",
    "\n",
    "plt.figure(figsize = (10,7))\n",
    "\n",
    "ax = sns.barplot(x=rest_data.object_type.value_counts().index, \n",
    "                y=rest_data.object_type.value_counts(),\n",
    "                palette=\"crest\")\n",
    "\n",
    "old_ticks, old_labels = plt.xticks()\n",
    "plt.xticks(old_ticks, ['\\n'.join(label.get_text().split()) for label in old_labels])\n",
    "\n",
    "ax.grid()\n",
    "\n",
    "plt.ylabel(\"Количество\")\n",
    "plt.xlabel('Вид объекта')\n",
    "\n",
    "plt.title('Количество объектов питание разных видов')\n",
    "plt.tight_layout()\n"
   ]
  },
  {
   "cell_type": "markdown",
   "metadata": {},
   "source": [
    "Видим, что из всех видов объектов общественного питания преобладают кафе, далее идут столовые, рестораны и предприятия быстрого обслуживания"
   ]
  },
  {
   "cell_type": "markdown",
   "metadata": {},
   "source": [
    "#### Исследуем соотношение сетевых и несетевых заведений по количеству. Построим график.\n"
   ]
  },
  {
   "cell_type": "code",
   "execution_count": 13,
   "metadata": {
    "scrolled": false
   },
   "outputs": [
    {
     "data": {
      "image/png": "[encoded data removed]",
      "text/plain": [
       "<Figure size 648x432 with 1 Axes>"
      ]
     },
     "metadata": {
      "needs_background": "light"
     },
     "output_type": "display_data"
    }
   ],
   "source": [
    "plt.figure(figsize = (9,6))\n",
    "ax = sns.barplot(x=rest_data.chain.value_counts().index, \n",
    "                y=rest_data.chain.value_counts(),\n",
    "                palette=\"crest\",\n",
    "                )\n",
    "\n",
    "ax.grid()\n",
    "plt.ylabel(\"Количество\")\n",
    "plt.xlabel('Сетевое заведение?')\n",
    "plt.title('Количество сетевых и несетевых заведений')\n",
    "plt.tight_layout()\n"
   ]
  },
  {
   "cell_type": "markdown",
   "metadata": {},
   "source": [
    "Несетевых заведений существенно больше чем сетевых\n"
   ]
  },
  {
   "cell_type": "markdown",
   "metadata": {},
   "source": [
    "#### Для какого вида объекта общественного питания характерно сетевое распространение?"
   ]
  },
  {
   "cell_type": "code",
   "execution_count": 14,
   "metadata": {
    "scrolled": false
   },
   "outputs": [
    {
     "data": {
      "image/png": "[encoded data removed]",
      "text/plain": [
       "<Figure size 864x504 with 1 Axes>"
      ]
     },
     "metadata": {
      "needs_background": "light"
     },
     "output_type": "display_data"
    }
   ],
   "source": [
    "plt.figure(figsize = (12,7))\n",
    "\n",
    "ax = sns.countplot(x = 'object_type', hue = 'chain', data = rest_data, palette = 'magma')\n",
    "\n",
    "ax.grid()\n",
    "plt.ylabel(\"Количество\")\n",
    "plt.xlabel('Вид объекта')\n",
    "plt.title('Количество объектов питание разных видов')\n",
    "plt.xticks([0, 1, 2,3,4,5,6,7,8],['кафе', 'столовая', 'закусочная', 'предприятие\\nбыстрого\\nобслуживания',\n",
    "       'ресторан', 'кафетерий', 'буфет', 'бар', 'магазин\\n(отдел\\nкулинарии)'])\n",
    "# ax.set_xticklabels(ax.get_xticklabels(),rotation=-15,ha=\"left\",rotation_mode='anchor')\n",
    "plt.tight_layout()\n"
   ]
  },
  {
   "cell_type": "markdown",
   "metadata": {},
   "source": [
    "Для всех видов объектов общественного питания больше характерно несетевое распространение. Большая доля сетевых заведений наблюдается у предприятий быстрого обслуживания. Наименьшая доля - у столовых."
   ]
  },
  {
   "cell_type": "code",
   "execution_count": 15,
   "metadata": {},
   "outputs": [
    {
     "data": {
      "image/png": "[encoded data removed]",
      "text/plain": [
       "<Figure size 864x504 with 1 Axes>"
      ]
     },
     "metadata": {
      "needs_background": "light"
     },
     "output_type": "display_data"
    }
   ],
   "source": [
    "plt.figure(figsize = (12,7))\n",
    "\n",
    "\n",
    "chain_proportion = rest_data.query('chain == \"да\"').groupby('object_type').id.count()\\\n",
    "    /rest_data.groupby('object_type').id.count()\n",
    "\n",
    "ax = sns.barplot(x=chain_proportion.sort_values(ascending=False).index,\n",
    "                 y=chain_proportion.sort_values(ascending=False).values, \n",
    "                 palette = 'crest')\n",
    "\n",
    "ax.grid()\n",
    "plt.ylabel(\"Доля сетевых заведений\")\n",
    "plt.xlabel('Вид объекта')\n",
    "plt.title('Доля сетевых заведений для разных объектов')\n",
    "plt.xticks([0, 1, 2,3,4,5,6,7,8],['предприятие\\nбыстрого\\nобслуживания', 'магазин\\n(отдел\\nкулинарии)',\n",
    "       'ресторан', 'кафе', 'закусочная', 'кафетерий', 'бар', 'буфет',\n",
    "       'столовая'])\n",
    "# ax.set_xticklabels(ax.get_xticklabels(),rotation=-15,ha=\"left\",rotation_mode='anchor')\n",
    "plt.tight_layout()"
   ]
  },
  {
   "cell_type": "markdown",
   "metadata": {},
   "source": [
    "#### Что характерно для сетевых заведений: много заведений с небольшим числом посадочных мест в каждом или мало заведений с большим количеством посадочных мест?\n",
    "\n"
   ]
  },
  {
   "cell_type": "code",
   "execution_count": 16,
   "metadata": {},
   "outputs": [],
   "source": [
    "to_scatter = rest_data.query('chain == \"да\"').object_name.value_counts().to_frame().join(\n",
    "    rest_data.groupby('object_name').number.mean()).join(\n",
    "        rest_data[['object_name','chain']].drop_duplicates().set_index('object_name'))"
   ]
  },
  {
   "cell_type": "code",
   "execution_count": 17,
   "metadata": {},
   "outputs": [
    {
     "data": {
      "image/png": "[encoded data removed]",
      "text/plain": [
       "<Figure size 432x288 with 1 Axes>"
      ]
     },
     "metadata": {
      "needs_background": "light"
     },
     "output_type": "display_data"
    }
   ],
   "source": [
    "# дя сетевых заведений посчитаем количество заведений каждого object_name и построим гистограмму \n",
    "rest_data.query('chain == \"да\"').object_name.value_counts().hist(bins=100);"
   ]
  },
  {
   "cell_type": "code",
   "execution_count": 18,
   "metadata": {},
   "outputs": [
    {
     "data": {
      "text/plain": [
       "count    724.000000\n",
       "mean       4.093923\n",
       "std       12.601654\n",
       "min        1.000000\n",
       "25%        1.000000\n",
       "50%        1.000000\n",
       "75%        2.000000\n",
       "max      155.000000\n",
       "Name: object_name, dtype: float64"
      ]
     },
     "execution_count": 18,
     "metadata": {},
     "output_type": "execute_result"
    }
   ],
   "source": [
    "# также посмотрим статистику методом describe\n",
    "rest_data.query('chain == \"да\"').object_name.value_counts().describe()"
   ]
  },
  {
   "cell_type": "markdown",
   "metadata": {},
   "source": [
    "75% сетевых заведений имеют в своей сети не более двух ресторанов"
   ]
  },
  {
   "cell_type": "code",
   "execution_count": 19,
   "metadata": {},
   "outputs": [
    {
     "data": {
      "image/png": "[encoded data removed]",
      "text/plain": [
       "<Figure size 432x288 with 1 Axes>"
      ]
     },
     "metadata": {
      "needs_background": "light"
     },
     "output_type": "display_data"
    }
   ],
   "source": [
    "# гистограмма количетсва посадочных мест для сетевых заведений \n",
    "rest_data.query('chain == \"да\"').number.hist(bins=100);"
   ]
  },
  {
   "cell_type": "code",
   "execution_count": 20,
   "metadata": {},
   "outputs": [
    {
     "data": {
      "text/plain": [
       "count    2964.000000\n",
       "mean       52.981107\n",
       "std        57.152817\n",
       "min         0.000000\n",
       "25%        15.000000\n",
       "50%        40.000000\n",
       "75%        72.000000\n",
       "max       580.000000\n",
       "Name: number, dtype: float64"
      ]
     },
     "execution_count": 20,
     "metadata": {},
     "output_type": "execute_result"
    }
   ],
   "source": [
    "rest_data.query('chain == \"да\"').number.describe()"
   ]
  },
  {
   "cell_type": "markdown",
   "metadata": {},
   "source": [
    "50% сетевых заведений имеют более 40 посадочных мест"
   ]
  },
  {
   "cell_type": "markdown",
   "metadata": {},
   "source": [
    "Основываясь на имеющемся наборе данных, можно заключить, что для сетевых заведений характерно малое количество заведений с большим количеством посадочных мест. (Хотя кажется, что должно быть наоборот)"
   ]
  },
  {
   "cell_type": "markdown",
   "metadata": {},
   "source": [
    "Будем считать, что все, что меньше квантили 75 - немного, все что выше квантили 75 - много."
   ]
  },
  {
   "cell_type": "code",
   "execution_count": 21,
   "metadata": {},
   "outputs": [],
   "source": [
    "frame_to_group = rest_data.query('chain == \"да\"').groupby('object_name').agg({'number':['count','mean']})\n",
    "frame_to_group.columns = ['count','mean']\n",
    "# Отбросим сети, состоящие из 1 заведения\n",
    "frame_to_group = frame_to_group.query('count!=1')"
   ]
  },
  {
   "cell_type": "code",
   "execution_count": 22,
   "metadata": {
    "scrolled": false
   },
   "outputs": [
    {
     "data": {
      "text/plain": [
       "count    274.000000\n",
       "mean      57.743796\n",
       "std       48.462715\n",
       "min        0.000000\n",
       "25%       20.083333\n",
       "50%       44.791530\n",
       "75%       83.104167\n",
       "max      245.000000\n",
       "Name: mean, dtype: float64"
      ]
     },
     "execution_count": 22,
     "metadata": {},
     "output_type": "execute_result"
    }
   ],
   "source": [
    "frame_to_group['mean'].describe()"
   ]
  },
  {
   "cell_type": "markdown",
   "metadata": {},
   "source": [
    "Таким образом, для количества посадочных мест положим: если меньше 80 - немного, если больше 80 - много\n"
   ]
  },
  {
   "cell_type": "code",
   "execution_count": 23,
   "metadata": {
    "scrolled": true
   },
   "outputs": [
    {
     "data": {
      "text/plain": [
       "count    274.000000\n",
       "mean       9.175182\n",
       "std       19.464591\n",
       "min        2.000000\n",
       "25%        2.000000\n",
       "50%        3.000000\n",
       "75%        7.000000\n",
       "max      155.000000\n",
       "Name: count, dtype: float64"
      ]
     },
     "execution_count": 23,
     "metadata": {},
     "output_type": "execute_result"
    }
   ],
   "source": [
    "frame_to_group['count'].describe()"
   ]
  },
  {
   "cell_type": "markdown",
   "metadata": {},
   "source": [
    "Для количества заведений положим: если меньше либо равно 7 - немного, если больше 7 - много"
   ]
  },
  {
   "cell_type": "code",
   "execution_count": 24,
   "metadata": {},
   "outputs": [],
   "source": [
    "# сгруппируем данные с учетом условий, определенных выше\n",
    "frame_to_group.loc[((frame_to_group['count']<=7) & \n",
    "                    (frame_to_group['mean']>80)),'group'] = 'Много мест, немного заведений'\n",
    "\n",
    "frame_to_group.loc[((frame_to_group['count']<=7) & \n",
    "                    (frame_to_group['mean']<=80)),'group'] = 'Немного мест, немного заведений'\n",
    "\n",
    "frame_to_group.loc[((frame_to_group['count']>7) & \n",
    "                    (frame_to_group['mean']>80)),'group'] = 'Много мест, много заведений'\n",
    "\n",
    "frame_to_group.loc[((frame_to_group['count']>7) & \n",
    "                    (frame_to_group['mean']<=80)),'group'] = 'Немного мест, много заведений'"
   ]
  },
  {
   "cell_type": "code",
   "execution_count": 25,
   "metadata": {
    "scrolled": true
   },
   "outputs": [
    {
     "data": {
      "text/plain": [
       "Немного мест, немного заведений    156\n",
       "Много мест, немного заведений       59\n",
       "Немного мест, много заведений       44\n",
       "Много мест, много заведений         15\n",
       "Name: group, dtype: int64"
      ]
     },
     "execution_count": 25,
     "metadata": {},
     "output_type": "execute_result"
    }
   ],
   "source": [
    "frame_to_group['group'].value_counts()"
   ]
  },
  {
   "cell_type": "code",
   "execution_count": 45,
   "metadata": {},
   "outputs": [
    {
     "data": {
      "text/plain": [
       "object_name\n",
       "Bocconcino                     мало заведений\n",
       "Burger Club                    мало заведений\n",
       "COFIX                          мало заведений\n",
       "Coffeeshop Company    среднее число заведений\n",
       "Cofix                         много заведений\n",
       "                               ...           \n",
       "Шоколадница                   много заведений\n",
       "Штолле                        много заведений\n",
       "ЯКИТОРИЯ              среднее число заведений\n",
       "Якитория                      много заведений\n",
       "кафе «Старбакс»                мало заведений\n",
       "Name: count, Length: 274, dtype: category\n",
       "Categories (3, object): ['мало заведений' < 'среднее число заведений' < 'много заведений']"
      ]
     },
     "execution_count": 45,
     "metadata": {},
     "output_type": "execute_result"
    }
   ],
   "source": [
    "# Код ревьюера\n",
    "\n",
    "pd.cut(frame_to_group['count'], bins=[1,3,6,155], labels=['мало заведений', 'среднее число заведений', 'много заведений'])\n",
    "# аналогично можно сделать для `mean`, а потом объединить столбы"
   ]
  },
  {
   "cell_type": "markdown",
   "metadata": {},
   "source": [
    "#### Для каждого вида объекта общественного питания опишите среднее количество посадочных мест. Какой вид предоставляет в среднем самое большое количество посадочных мест?"
   ]
  },
  {
   "cell_type": "code",
   "execution_count": 26,
   "metadata": {},
   "outputs": [
    {
     "data": {
      "image/png": "[encoded data removed]",
      "text/plain": [
       "<Figure size 720x432 with 1 Axes>"
      ]
     },
     "metadata": {
      "needs_background": "light"
     },
     "output_type": "display_data"
    }
   ],
   "source": [
    "mean_n_on_type = rest_data.groupby('object_type').number.mean()\n",
    "\n",
    "plt.figure(figsize = (10,6))\n",
    "ax = mean_n_on_type.plot(kind='bar')\n",
    "ax.grid()\n",
    "plt.ylabel(\"Среднее количество посадочных мест\")\n",
    "plt.xlabel('Вид объекта')\n",
    "plt.title('Среднее количество посадочных мест в зависимости от типа объета')\n",
    "ax.set_xticklabels(ax.get_xticklabels(),rotation=-15,ha=\"left\",rotation_mode='anchor')\n",
    "plt.tight_layout()\n"
   ]
  },
  {
   "cell_type": "markdown",
   "metadata": {},
   "source": [
    "Видим, что самое большое количетсво посадочных мест наблюдается для заведений типа  \"столовая\"."
   ]
  },
  {
   "cell_type": "markdown",
   "metadata": {},
   "source": [
    "#### Выделим в отдельный столбец информацию об улице из столбца address"
   ]
  },
  {
   "cell_type": "code",
   "execution_count": 27,
   "metadata": {},
   "outputs": [],
   "source": [
    "# воспользуемся методом split\n",
    "rest_data = rest_data.join(rest_data.address.str.split(',',expand=True)[1]).rename({1:'street'},axis=1).copy()"
   ]
  },
  {
   "cell_type": "markdown",
   "metadata": {},
   "source": [
    "#### Построим график топ-10 улиц по количеству объектов общественного питания."
   ]
  },
  {
   "cell_type": "code",
   "execution_count": 28,
   "metadata": {},
   "outputs": [],
   "source": [
    "# напишем функцию, возвращающую улицу по столбцу с адресом\n",
    "def get_street(data):\n",
    "    split = data['address'].split(', ', maxsplit=-1)\n",
    "    if  len(split) > 2 and (\"улица\" in split[1] or \"шоссе\" in split[1] or \"переулок\" in split[1] \n",
    "        or 'бульвар' in split[1] or 'проспект' in split[1] or 'набережная' in split[1]\n",
    "        or 'площадь' in split[1] or 'тупик' in split[1] or 'аллея' in split[1] or 'тоннель' in split[1] or 'линия' in split[1] or 'путепровод' in split[1]):\n",
    "        return split[1]\n",
    "        \n",
    "    elif len(split) > 2 and (\"улица\" in split[2] or \"шоссе\" in split[2] or \"переулок\" in split[2]  \n",
    "        or 'бульвар' in split[2] or 'проспект' in split[2] or 'набережная' in split[2]\n",
    "        or 'площадь' in split[2] or 'тупик' in split[2] or 'аллея' in split[2] or 'тоннель' in split[2] or 'линия' in split[2] or 'путепровод' in split[2]):\n",
    "        return split[2]"
   ]
  },
  {
   "cell_type": "code",
   "execution_count": 29,
   "metadata": {},
   "outputs": [],
   "source": [
    "rest_data['street']=rest_data.apply(get_street, axis=1)"
   ]
  },
  {
   "cell_type": "code",
   "execution_count": 30,
   "metadata": {},
   "outputs": [
    {
     "data": {
      "image/png": "[encoded data removed]",
      "text/plain": [
       "<Figure size 720x432 with 1 Axes>"
      ]
     },
     "metadata": {
      "needs_background": "light"
     },
     "output_type": "display_data"
    }
   ],
   "source": [
    "plt.figure(figsize = (10,6))\n",
    "plt.title('Топ-10 улиц по количеству объектов общественного питания')\n",
    "\n",
    "ax=rest_data.street.value_counts().head(10).plot(kind='barh')\n",
    "ax.grid()"
   ]
  },
  {
   "cell_type": "code",
   "execution_count": 31,
   "metadata": {},
   "outputs": [],
   "source": [
    "# создадим список из топ-10 улиц\n",
    "top10_streets  = rest_data.street.value_counts().head(10).index.to_list()"
   ]
  },
  {
   "cell_type": "markdown",
   "metadata": {},
   "source": [
    "Подключим к проекту внешние файлы (с ресурса data.mos.ru), содержащие информацию об улицах и районах Москвы"
   ]
  },
  {
   "cell_type": "code",
   "execution_count": 32,
   "metadata": {},
   "outputs": [],
   "source": [
    "from io import BytesIO\n",
    "import requests\n",
    "spreadsheet_id = '1SfVXAmmSu8PSAoffW1n_50oyfiqKwajtRHFg2TqzEFI'\n",
    "file_name = 'https://docs.google.com/spreadsheets/d/{}/export?format=csv'.format(spreadsheet_id)\n",
    "r = requests.get(file_name)\n",
    "df_1 = pd.read_csv(BytesIO(r.content))\n",
    "\n",
    "spreadsheet_id = '1-GNt78gX__aDONOS9NuZmhtiWr2nefos7PHr7Sne2u8'\n",
    "file_name = 'https://docs.google.com/spreadsheets/d/{}/export?format=csv'.format(spreadsheet_id)\n",
    "r = requests.get(file_name)\n",
    "df_2 = pd.read_csv(BytesIO(r.content))"
   ]
  },
  {
   "cell_type": "markdown",
   "metadata": {},
   "source": [
    "Дообработаем внешние файлы"
   ]
  },
  {
   "cell_type": "code",
   "execution_count": 33,
   "metadata": {},
   "outputs": [],
   "source": [
    "# оставим только необходимую информацию из файлов\n",
    "df_2 = df_2[['Kod','Name']]\n",
    "df_1 = df_1[['Полное наименование','Код ОМК ТЕ']]\n",
    "df_1 = df_1.rename({'Код ОМК ТЕ':'code','Полное наименование':'street'},axis=1)\n",
    "df_2 = df_2.rename({'Kod':'code','Name':'district'},axis=1)\n",
    "\n",
    "# разделим столбец с кодами районов на части\n",
    "df_1 = df_1.join(df_1.code.str.split(';',expand=True))\n",
    "df_1 = df_1.drop(columns='code')\n",
    "df_1.columns = [ 'street',  'code_0', 'code_1', 'code_2', 'code_3', 'code_4', 'code_5','code_6','code_7','code_8' ]\n",
    "\n",
    "# приведем к Int64\n",
    "df_2.code = df_2.code.astype('Int64')"
   ]
  },
  {
   "cell_type": "code",
   "execution_count": 34,
   "metadata": {},
   "outputs": [
    {
     "data": {
      "text/plain": [
       "208"
      ]
     },
     "execution_count": 34,
     "metadata": {},
     "output_type": "execute_result"
    }
   ],
   "source": [
    "df_1.duplicated().sum()"
   ]
  },
  {
   "cell_type": "code",
   "execution_count": 35,
   "metadata": {},
   "outputs": [
    {
     "data": {
      "text/plain": [
       "0"
      ]
     },
     "execution_count": 35,
     "metadata": {},
     "output_type": "execute_result"
    }
   ],
   "source": [
    "df_2.duplicated().sum()"
   ]
  },
  {
   "cell_type": "code",
   "execution_count": 36,
   "metadata": {},
   "outputs": [],
   "source": [
    "df_1.drop_duplicates(inplace=True)"
   ]
  },
  {
   "cell_type": "code",
   "execution_count": 37,
   "metadata": {},
   "outputs": [
    {
     "data": {
      "text/html": [
       "<div>\n",
       "<style scoped>\n",
       "    .dataframe tbody tr th:only-of-type {\n",
       "        vertical-align: middle;\n",
       "    }\n",
       "\n",
       "    .dataframe tbody tr th {\n",
       "        vertical-align: top;\n",
       "    }\n",
       "\n",
       "    .dataframe thead th {\n",
       "        text-align: right;\n",
       "    }\n",
       "</style>\n",
       "<table border=\"1\" class=\"dataframe\">\n",
       "  <thead>\n",
       "    <tr style=\"text-align: right;\">\n",
       "      <th></th>\n",
       "      <th>street</th>\n",
       "      <th>district_x</th>\n",
       "      <th>district_y</th>\n",
       "      <th>district_x</th>\n",
       "      <th>district_y</th>\n",
       "      <th>district_x</th>\n",
       "      <th>district_y</th>\n",
       "      <th>district_x</th>\n",
       "      <th>district_y</th>\n",
       "      <th>district</th>\n",
       "    </tr>\n",
       "  </thead>\n",
       "  <tbody>\n",
       "    <tr>\n",
       "      <th>97</th>\n",
       "      <td>Каширское шоссе</td>\n",
       "      <td>район Москворечье-Сабурово</td>\n",
       "      <td>район Нагатино-Садовники</td>\n",
       "      <td>район Орехово-Борисово Северное</td>\n",
       "      <td>район Орехово-Борисово Южное</td>\n",
       "      <td>0</td>\n",
       "      <td>0</td>\n",
       "      <td>0</td>\n",
       "      <td>0</td>\n",
       "      <td>NaN</td>\n",
       "    </tr>\n",
       "    <tr>\n",
       "      <th>113</th>\n",
       "      <td>Кировоградская улица</td>\n",
       "      <td>район Чертаново Северное</td>\n",
       "      <td>район Чертаново Центральное</td>\n",
       "      <td>район Чертаново Южное</td>\n",
       "      <td>0</td>\n",
       "      <td>0</td>\n",
       "      <td>0</td>\n",
       "      <td>0</td>\n",
       "      <td>0</td>\n",
       "      <td>NaN</td>\n",
       "    </tr>\n",
       "    <tr>\n",
       "      <th>408</th>\n",
       "      <td>Кутузовский проспект</td>\n",
       "      <td>район Дорогомилово</td>\n",
       "      <td>район Фили-Давыдково</td>\n",
       "      <td>0</td>\n",
       "      <td>0</td>\n",
       "      <td>0</td>\n",
       "      <td>0</td>\n",
       "      <td>0</td>\n",
       "      <td>0</td>\n",
       "      <td>NaN</td>\n",
       "    </tr>\n",
       "    <tr>\n",
       "      <th>443</th>\n",
       "      <td>Ленинградский проспект</td>\n",
       "      <td>район Аэропорт</td>\n",
       "      <td>район Беговой</td>\n",
       "      <td>район Сокол</td>\n",
       "      <td>Хорошёвский район</td>\n",
       "      <td>0</td>\n",
       "      <td>0</td>\n",
       "      <td>0</td>\n",
       "      <td>0</td>\n",
       "      <td>NaN</td>\n",
       "    </tr>\n",
       "    <tr>\n",
       "      <th>449</th>\n",
       "      <td>Ленинский проспект</td>\n",
       "      <td>район Якиманка</td>\n",
       "      <td>Донской район</td>\n",
       "      <td>Гагаринский район</td>\n",
       "      <td>Ломоносовский район</td>\n",
       "      <td>Обручевский район</td>\n",
       "      <td>район Тёплый Стан</td>\n",
       "      <td>район Проспект Вернадского</td>\n",
       "      <td>район Тропарёво-Никулино</td>\n",
       "      <td>NaN</td>\n",
       "    </tr>\n",
       "    <tr>\n",
       "      <th>688</th>\n",
       "      <td>проспект Мира</td>\n",
       "      <td>Мещанский район</td>\n",
       "      <td>Алексеевский район</td>\n",
       "      <td>район Марьина Роща</td>\n",
       "      <td>Останкинский район</td>\n",
       "      <td>район Ростокино</td>\n",
       "      <td>район Свиблово</td>\n",
       "      <td>Ярославский район</td>\n",
       "      <td>0</td>\n",
       "      <td>NaN</td>\n",
       "    </tr>\n",
       "    <tr>\n",
       "      <th>1340</th>\n",
       "      <td>Пресненская набережная</td>\n",
       "      <td>Пресненский район</td>\n",
       "      <td>0</td>\n",
       "      <td>0</td>\n",
       "      <td>0</td>\n",
       "      <td>0</td>\n",
       "      <td>0</td>\n",
       "      <td>0</td>\n",
       "      <td>0</td>\n",
       "      <td>NaN</td>\n",
       "    </tr>\n",
       "    <tr>\n",
       "      <th>1386</th>\n",
       "      <td>Профсоюзная улица</td>\n",
       "      <td>Академический район</td>\n",
       "      <td>район Коньково</td>\n",
       "      <td>Обручевский район</td>\n",
       "      <td>район Тёплый Стан</td>\n",
       "      <td>район Черёмушки</td>\n",
       "      <td>район Ясенево</td>\n",
       "      <td>0</td>\n",
       "      <td>0</td>\n",
       "      <td>NaN</td>\n",
       "    </tr>\n",
       "    <tr>\n",
       "      <th>4134</th>\n",
       "      <td>Варшавское шоссе</td>\n",
       "      <td>Донской район</td>\n",
       "      <td>район Нагатино-Садовники</td>\n",
       "      <td>Нагорный район</td>\n",
       "      <td>район Чертаново Северное</td>\n",
       "      <td>район Чертаново Центральное</td>\n",
       "      <td>район Чертаново Южное</td>\n",
       "      <td>район Северное Бутово</td>\n",
       "      <td>район Южное Бутово</td>\n",
       "      <td>поселение Щербинка</td>\n",
       "    </tr>\n",
       "    <tr>\n",
       "      <th>4159</th>\n",
       "      <td>проспект Вернадского</td>\n",
       "      <td>Гагаринский район</td>\n",
       "      <td>Ломоносовский район</td>\n",
       "      <td>район Проспект Вернадского</td>\n",
       "      <td>район Раменки</td>\n",
       "      <td>район Тропарёво-Никулино</td>\n",
       "      <td>0</td>\n",
       "      <td>0</td>\n",
       "      <td>0</td>\n",
       "      <td>NaN</td>\n",
       "    </tr>\n",
       "  </tbody>\n",
       "</table>\n",
       "</div>"
      ],
      "text/plain": [
       "                      street                  district_x  \\\n",
       "97           Каширское шоссе  район Москворечье-Сабурово   \n",
       "113     Кировоградская улица    район Чертаново Северное   \n",
       "408     Кутузовский проспект          район Дорогомилово   \n",
       "443   Ленинградский проспект              район Аэропорт   \n",
       "449       Ленинский проспект              район Якиманка   \n",
       "688            проспект Мира             Мещанский район   \n",
       "1340  Пресненская набережная           Пресненский район   \n",
       "1386       Профсоюзная улица         Академический район   \n",
       "4134        Варшавское шоссе               Донской район   \n",
       "4159    проспект Вернадского           Гагаринский район   \n",
       "\n",
       "                       district_y                       district_x  \\\n",
       "97       район Нагатино-Садовники  район Орехово-Борисово Северное   \n",
       "113   район Чертаново Центральное            район Чертаново Южное   \n",
       "408          район Фили-Давыдково                                0   \n",
       "443                 район Беговой                      район Сокол   \n",
       "449                 Донской район                Гагаринский район   \n",
       "688            Алексеевский район               район Марьина Роща   \n",
       "1340                            0                                0   \n",
       "1386               район Коньково                Обручевский район   \n",
       "4134     район Нагатино-Садовники                   Нагорный район   \n",
       "4159          Ломоносовский район       район Проспект Вернадского   \n",
       "\n",
       "                        district_y                   district_x  \\\n",
       "97    район Орехово-Борисово Южное                            0   \n",
       "113                              0                            0   \n",
       "408                              0                            0   \n",
       "443              Хорошёвский район                            0   \n",
       "449            Ломоносовский район            Обручевский район   \n",
       "688             Останкинский район              район Ростокино   \n",
       "1340                             0                            0   \n",
       "1386             район Тёплый Стан              район Черёмушки   \n",
       "4134      район Чертаново Северное  район Чертаново Центральное   \n",
       "4159                 район Раменки     район Тропарёво-Никулино   \n",
       "\n",
       "                 district_y                  district_x  \\\n",
       "97                        0                           0   \n",
       "113                       0                           0   \n",
       "408                       0                           0   \n",
       "443                       0                           0   \n",
       "449       район Тёплый Стан  район Проспект Вернадского   \n",
       "688          район Свиблово           Ярославский район   \n",
       "1340                      0                           0   \n",
       "1386          район Ясенево                           0   \n",
       "4134  район Чертаново Южное       район Северное Бутово   \n",
       "4159                      0                           0   \n",
       "\n",
       "                    district_y            district  \n",
       "97                           0                 NaN  \n",
       "113                          0                 NaN  \n",
       "408                          0                 NaN  \n",
       "443                          0                 NaN  \n",
       "449   район Тропарёво-Никулино                 NaN  \n",
       "688                          0                 NaN  \n",
       "1340                         0                 NaN  \n",
       "1386                         0                 NaN  \n",
       "4134        район Южное Бутово  поселение Щербинка  \n",
       "4159                         0                 NaN  "
      ]
     },
     "execution_count": 37,
     "metadata": {},
     "output_type": "execute_result"
    }
   ],
   "source": [
    "# смерджим файлы по коду района\n",
    "for code in ['code_0', 'code_1', 'code_2', 'code_3', 'code_4', 'code_5','code_6','code_7','code_8']:\n",
    "# приведем столбцы с кодом к типу Int64\n",
    "    df_1[code] = df_1[code].str.lstrip('0')\n",
    "    df_1.fillna(0,inplace=True)\n",
    "    df_1[code] = df_1[code].astype('int')\n",
    "# смерджим файлы \n",
    "    df_1 = df_1.merge(df_2, how='left', left_on=code, right_on='code')\n",
    "\n",
    "# удалим ненужное из смерджинного датасета\n",
    "df_1 = df_1.drop(columns= ['code_0', 'code_1', 'code_2', 'code_3', 'code_4', 'code_5','code_6', \n",
    "                           'code_7', 'code_8', 'code_x', 'code_y','code_x', 'code_y','code'])\n",
    "\n",
    "# выведем из полученной таблице улицы, который вошли в список топ-10\n",
    "df_1.query('street.isin(@top10_streets)')"
   ]
  },
  {
   "cell_type": "code",
   "execution_count": 38,
   "metadata": {},
   "outputs": [
    {
     "name": "stdout",
     "output_type": "stream",
     "text": [
      "Районы, в которых находятся топ-10 улиц по количеству объектов общественного питания:\n",
      " {'район Ясенево', 'район Ростокино', 'район Чертаново Центральное', 'Ломоносовский район', 'район Южное Бутово', 'Мещанский район', 'район Проспект Вернадского', 'район Якиманка', 'Донской район', 'Гагаринский район', 'район Черёмушки', 'район Марьина Роща', 'район Аэропорт', 'район Орехово-Борисово Северное', 'район Беговой', 'район Коньково', 'Пресненский район', 'район Тропарёво-Никулино', 'район Сокол', 'район Чертаново Северное', 'Останкинский район', 'район Тёплый Стан', 'район Северное Бутово', 'район Орехово-Борисово Южное', 'район Дорогомилово', 'поселение Щербинка', 'Хорошёвский район', 'Обручевский район', 'район Свиблово', 'район Чертаново Южное', 'Алексеевский район', 'Нагорный район', 'район Москворечье-Сабурово', 'район Раменки', 'Академический район', 'район Нагатино-Садовники', 'Ярославский район', 'район Фили-Давыдково'}\n"
     ]
    }
   ],
   "source": [
    "# создадим множество из районов, в которых находятся топ-10 улиц\n",
    "top10_dist_set = set(np.concatenate(df_1.query('street.isin(@top10_streets)').iloc[:,1::].values))\n",
    "top10_dist_set.remove(np.nan)\n",
    "top10_dist_set.remove(0)\n",
    "print(\"Районы, в которых находятся топ-10 улиц по количеству объектов общественного питания:\\n\", top10_dist_set)"
   ]
  },
  {
   "cell_type": "code",
   "execution_count": 39,
   "metadata": {},
   "outputs": [
    {
     "data": {
      "text/html": [
       "<div>\n",
       "<style scoped>\n",
       "    .dataframe tbody tr th:only-of-type {\n",
       "        vertical-align: middle;\n",
       "    }\n",
       "\n",
       "    .dataframe tbody tr th {\n",
       "        vertical-align: top;\n",
       "    }\n",
       "\n",
       "    .dataframe thead th {\n",
       "        text-align: right;\n",
       "    }\n",
       "</style>\n",
       "<table border=\"1\" class=\"dataframe\">\n",
       "  <thead>\n",
       "    <tr style=\"text-align: right;\">\n",
       "      <th></th>\n",
       "      <th>Name</th>\n",
       "    </tr>\n",
       "    <tr>\n",
       "      <th>street</th>\n",
       "      <th></th>\n",
       "    </tr>\n",
       "  </thead>\n",
       "  <tbody>\n",
       "    <tr>\n",
       "      <th>Варшавское шоссе</th>\n",
       "      <td>[район Южное Бутово, Донской район, Нагорный район, район Нагатино-Садовники, район Чертаново Северное, район Чертаново Центральное, район Чертаново Южное, район Северное Бутово, поселение Щербинка]</td>\n",
       "    </tr>\n",
       "    <tr>\n",
       "      <th>Каширское шоссе</th>\n",
       "      <td>[район Москворечье-Сабурово, район Нагатино-Садовники, район Орехово-Борисово Северное, район Орехово-Борисово Южное]</td>\n",
       "    </tr>\n",
       "    <tr>\n",
       "      <th>Кировоградская улица</th>\n",
       "      <td>[район Чертаново Северное, район Чертаново Центральное, район Чертаново Южное]</td>\n",
       "    </tr>\n",
       "    <tr>\n",
       "      <th>Кутузовский проспект</th>\n",
       "      <td>[район Фили-Давыдково, район Дорогомилово]</td>\n",
       "    </tr>\n",
       "    <tr>\n",
       "      <th>Ленинградский проспект</th>\n",
       "      <td>[район Сокол, район Аэропорт, Хорошёвский район, район Беговой]</td>\n",
       "    </tr>\n",
       "    <tr>\n",
       "      <th>Ленинский проспект</th>\n",
       "      <td>[район Якиманка, Донской район, Гагаринский район, Обручевский район, район Проспект Вернадского, район Тропарёво-Никулино, Ломоносовский район, район Тёплый Стан]</td>\n",
       "    </tr>\n",
       "    <tr>\n",
       "      <th>Пресненская набережная</th>\n",
       "      <td>[Пресненский район]</td>\n",
       "    </tr>\n",
       "    <tr>\n",
       "      <th>Профсоюзная улица</th>\n",
       "      <td>[район Коньково, район Ясенево, Академический район, район Черёмушки, Обручевский район, район Тёплый Стан]</td>\n",
       "    </tr>\n",
       "    <tr>\n",
       "      <th>проспект Вернадского</th>\n",
       "      <td>[Гагаринский район, район Раменки, район Проспект Вернадского, район Тропарёво-Никулино, Ломоносовский район]</td>\n",
       "    </tr>\n",
       "    <tr>\n",
       "      <th>проспект Мира</th>\n",
       "      <td>[район Ростокино, Останкинский район, Мещанский район, Алексеевский район, район Свиблово, Ярославский район, район Марьина Роща]</td>\n",
       "    </tr>\n",
       "  </tbody>\n",
       "</table>\n",
       "</div>"
      ],
      "text/plain": [
       "                                                                                                                                                                                                                          Name\n",
       "street                                                                                                                                                                                                                        \n",
       "Варшавское шоссе        [район Южное Бутово, Донской район, Нагорный район, район Нагатино-Садовники, район Чертаново Северное, район Чертаново Центральное, район Чертаново Южное, район Северное Бутово, поселение Щербинка]\n",
       "Каширское шоссе                                                                                          [район Москворечье-Сабурово, район Нагатино-Садовники, район Орехово-Борисово Северное, район Орехово-Борисово Южное]\n",
       "Кировоградская улица                                                                                                                            [район Чертаново Северное, район Чертаново Центральное, район Чертаново Южное]\n",
       "Кутузовский проспект                                                                                                                                                                [район Фили-Давыдково, район Дорогомилово]\n",
       "Ленинградский проспект                                                                                                                                         [район Сокол, район Аэропорт, Хорошёвский район, район Беговой]\n",
       "Ленинский проспект                                         [район Якиманка, Донской район, Гагаринский район, Обручевский район, район Проспект Вернадского, район Тропарёво-Никулино, Ломоносовский район, район Тёплый Стан]\n",
       "Пресненская набережная                                                                                                                                                                                     [Пресненский район]\n",
       "Профсоюзная улица                                                                                                  [район Коньково, район Ясенево, Академический район, район Черёмушки, Обручевский район, район Тёплый Стан]\n",
       "проспект Вернадского                                                                                             [Гагаринский район, район Раменки, район Проспект Вернадского, район Тропарёво-Никулино, Ломоносовский район]\n",
       "проспект Мира                                                                                [район Ростокино, Останкинский район, Мещанский район, Алексеевский район, район Свиблово, Ярославский район, район Марьина Роща]"
      ]
     },
     "metadata": {},
     "output_type": "display_data"
    }
   ],
   "source": [
    "# Код ревьюера\n",
    "\n",
    "df_streets = pd.read_csv('https://docs.google.com/spreadsheets/d/{}/export?format=csv'.format('1SfVXAmmSu8PSAoffW1n_50oyfiqKwajtRHFg2TqzEFI'))\n",
    "\n",
    "df_codes = pd.read_csv('https://docs.google.com/spreadsheets/d/{}/export?format=csv'.format('1-GNt78gX__aDONOS9NuZmhtiWr2nefos7PHr7Sne2u8'))\n",
    "\n",
    "df_streets = df_streets[['Полное наименование', 'Код ОМК ТЕ']]\n",
    "df_streets.columns = ['street','code']\n",
    "df_streets['code'] = df_streets['code'].str.split(';')\n",
    "df_streets = df_streets.explode('code')\n",
    "df_streets['code'] = df_streets['code'].str.lstrip('0').astype('int')\n",
    "districts = df_streets.merge(df_codes, left_on='code', right_on='Kod')\n",
    "\n",
    "with pd.option_context('display.max_colwidth', None):\n",
    "    display(districts[districts['street'].isin(top10_streets)].groupby('street').agg({'Name' : 'unique'}))"
   ]
  },
  {
   "cell_type": "markdown",
   "metadata": {},
   "source": [
    "Здесь можно отметить, что большинство районов из списка относятся к Южному, Юго-западному и Западному округам Москвы"
   ]
  },
  {
   "cell_type": "markdown",
   "metadata": {},
   "source": [
    "#### Найдем число улиц с одним объектом общественного питания."
   ]
  },
  {
   "cell_type": "code",
   "execution_count": 40,
   "metadata": {},
   "outputs": [
    {
     "name": "stdout",
     "output_type": "stream",
     "text": [
      "Число улиц с одним объектом общественного питания: 445\n"
     ]
    }
   ],
   "source": [
    "one_object_streets = rest_data.groupby('street').id.count().to_frame().query('id == 1').index.to_list()\n",
    "print(\"Число улиц с одним объектом общественного питания:\", len(one_object_streets))"
   ]
  },
  {
   "cell_type": "code",
   "execution_count": 41,
   "metadata": {},
   "outputs": [
    {
     "name": "stdout",
     "output_type": "stream",
     "text": [
      "Районы, в которых находятся улицы с одним объектом общественного питания:\n",
      " {'район Восточное Измайлово', 'Можайский район', 'район Ново-Переделкино', 'Мещанский район', 'район Новогиреево', 'Донской район', 'район Преображенское', 'район Марьина Роща', 'район Западное Дегунино', 'Пресненский район', 'Бескудниковский район', 'район Старое Крюково', 'район Капотня', 'район Котловка', 'район Южное Тушино', 'район Косино-Ухтомский', 'район Богородское', 'район Марфино', 'район Северное Медведково', 'поселение Щаповское', 'район Выхино-Жулебино', 'Молжаниновский район', 'район Савёлки', 'район Москворечье-Сабурово', 'поселение Воскресенское', 'поселение Киевский', 'район Зюзино', 'Южнопортовый район', 'район Митино', 'Войковский район', 'район Очаково-Матвеевское', 'район Ясенево', 'район Метрогородок', 'поселение Кокошкино', 'Басманный район', 'район Люблино', 'район Арбат', 'район Черёмушки', 'район Восточный', 'поселение Кленовское', 'район Северный', 'Останкинский район', 'район Северное Бутово', 'Алтуфьевский район', 'поселение Щербинка', 'поселение Марушкинское', 'поселение Первомайское', 'район Бирюлёво Восточное', 'Нагорный район', 'район Гольяново', 'Савёловский район', 'район Внуково', 'район Южное Медведково', 'Ярославский район', 'район Фили-Давыдково', 'Даниловский район', 'район Хамовники', 'район Ростокино', 'район Южное Бутово', 'Красносельский район', 'поселение Рязановское', 'Таганский район', 'Тверской район', 'район Соколиная Гора', 'район Хорошёво-Мнёвники', 'район Якиманка', 'район Солнцево', 'Бабушкинский район', 'район Текстильщики', 'Гагаринский район', 'Дмитровский район', 'поселение Московский', 'район Некрасовка', 'район Замоскворечье', 'район Царицыно', 'район Северное Измайлово', 'поселение Десеновское', 'район Чертаново Северное', 'Бутырский район', 'район Марьино', 'район Дорогомилово', 'поселение Внуковское', 'Лосиноостровский район', 'район Измайлово', 'Тимирязевский район', 'район Свиблово', 'Алексеевский район', 'поселение Краснопахорское', 'район Коптево', 'район Раменки', 'поселение Троицк', 'район Нагатино-Садовники', 'Рязанский район', 'район Лефортово', 'район Печатники', 'район Кузьминки', 'район Кунцево', 'поселение Новофедоровское', 'район Покровское-Стрешнево', 'Нижегородский район', 'район Матушкино', 'район Аэропорт', 'район Сокольники', 'район Беговой', 'район Куркино', 'район Крюково', 'район Коньково', 'район Филёвский Парк', 'район Сокол', 'район Ивановское', 'район Щукино', 'Хорошёвский район', 'Головинский район', 'Обручевский район', 'район Перово'}\n"
     ]
    }
   ],
   "source": [
    "dist_set_one_obj = set(np.concatenate(df_1.query('street.isin(@one_object_streets)').iloc[:,1::].values))\n",
    "dist_set_one_obj.remove(np.nan)\n",
    "dist_set_one_obj.remove(0)\n",
    "print(\"Районы, в которых находятся улицы с одним объектом общественного питания:\\n\", dist_set_one_obj)"
   ]
  },
  {
   "cell_type": "markdown",
   "metadata": {},
   "source": [
    "## Выводы:\n",
    "- Из всех видов объектов общественного питания преобладают кафе, далее идут столовые, рестораны и предприятия быстрого обслуживания\n",
    "- Несетевые заведения преобладают\n",
    "- Для всех видов объектов общественного питания больше характерно несетевое распространение. Большая доля сетевых заведений наблюдается у предприятий быстрого обслуживания. Наименьшая доля - у столовых.\n",
    "- Основываясь на имеющемся наборе данных, можно заключить, что для сетевых заведений характерно малое количество заведений с большим количеством посадочных мест. \n",
    "- Самое большое количетсво посадочных мест наблюдается для заведений типа  \"столовая\".\n",
    "- Топ-10 улиц по количеству объектов общественного питания: 'проспект Мира', 'Профсоюзная улица', 'Ленинградский проспект', 'Пресненская набережная', 'Варшавское шоссе', 'Ленинский проспект', 'проспект Вернадского', 'Кутузовский проспект', 'Каширское шоссе', 'Кировоградская улица'. С использованием внешнего источника данных Был сформирован список из районов, к которым отноятся указанные улицы. Большинство районов из списка относятся к Южному, Юго-западному и Западному округам Москвы\n",
    "- Число улиц с одним объектом общественного питания: 445. С использованием внешнего источника данных Был сформирован список из районов, к которым отноятся улицв с одним объектом общественного питания."
   ]
  },
  {
   "cell_type": "markdown",
   "metadata": {},
   "source": [
    "## Рекомендации:\n",
    "С точки зрения рекомендаций, можно сформировать две стратегии для открытия кафе:\n",
    "\n",
    "1. С одной стороны, кафе следует открывть в районах, где мало конкуренции (см. список районов, в которых находятся улицы с одним объектом общественного питания). Однако, в таком случае имеется риск низкого спроса ввиду отсутсвия спроса.\n",
    " \n",
    "2. С другой стороны, кафе следует открывать в районах, где имеется много заведений (см. список районов, в которых находятся топ-10 улиц по количеству объектов общественного питания), в таком случае снижается риск отсутствия спроса. Однако при такой стратегии повышается риск конкуренции.\n",
    "\n",
    "Презентация: <https://drive.google.com/file/d/1oTTJ-JclODXUZuREfeeiLzoc4__zOQiU/view?usp=sharing>\n"
   ]
  },
  {
   "cell_type": "code",
   "execution_count": null,
   "metadata": {},
   "outputs": [],
   "source": []
  }
 ],
 "metadata": {
  "ExecuteTimeLog": [
   {
    "duration": 120,
    "start_time": "2022-07-04T17:10:48.658Z"
   },
   {
    "duration": 54,
    "start_time": "2022-07-04T17:40:31.115Z"
   },
   {
    "duration": 1090,
    "start_time": "2022-07-04T17:40:33.958Z"
   },
   {
    "duration": 55,
    "start_time": "2022-07-04T17:40:35.049Z"
   },
   {
    "duration": 0,
    "start_time": "2022-07-04T17:40:35.106Z"
   },
   {
    "duration": 0,
    "start_time": "2022-07-04T17:40:35.107Z"
   },
   {
    "duration": 0,
    "start_time": "2022-07-04T17:40:35.108Z"
   },
   {
    "duration": 0,
    "start_time": "2022-07-04T17:40:35.109Z"
   },
   {
    "duration": 0,
    "start_time": "2022-07-04T17:40:35.110Z"
   },
   {
    "duration": 0,
    "start_time": "2022-07-04T17:40:35.111Z"
   },
   {
    "duration": 0,
    "start_time": "2022-07-04T17:40:35.111Z"
   },
   {
    "duration": 0,
    "start_time": "2022-07-04T17:40:35.112Z"
   },
   {
    "duration": 0,
    "start_time": "2022-07-04T17:40:35.113Z"
   },
   {
    "duration": 0,
    "start_time": "2022-07-04T17:40:35.113Z"
   },
   {
    "duration": 0,
    "start_time": "2022-07-04T17:40:35.114Z"
   },
   {
    "duration": 0,
    "start_time": "2022-07-04T17:40:35.115Z"
   },
   {
    "duration": 0,
    "start_time": "2022-07-04T17:40:35.116Z"
   },
   {
    "duration": 0,
    "start_time": "2022-07-04T17:40:35.117Z"
   },
   {
    "duration": 0,
    "start_time": "2022-07-04T17:40:35.118Z"
   },
   {
    "duration": 0,
    "start_time": "2022-07-04T17:40:35.119Z"
   },
   {
    "duration": 0,
    "start_time": "2022-07-04T17:40:35.119Z"
   },
   {
    "duration": 0,
    "start_time": "2022-07-04T17:40:35.120Z"
   },
   {
    "duration": 0,
    "start_time": "2022-07-04T17:40:35.121Z"
   },
   {
    "duration": 0,
    "start_time": "2022-07-04T17:40:35.121Z"
   },
   {
    "duration": 0,
    "start_time": "2022-07-04T17:40:35.122Z"
   },
   {
    "duration": 0,
    "start_time": "2022-07-04T17:40:35.124Z"
   },
   {
    "duration": 0,
    "start_time": "2022-07-04T17:40:35.125Z"
   },
   {
    "duration": 0,
    "start_time": "2022-07-04T17:40:35.126Z"
   },
   {
    "duration": 2,
    "start_time": "2022-07-04T17:40:55.768Z"
   },
   {
    "duration": 115,
    "start_time": "2022-07-04T17:40:55.772Z"
   },
   {
    "duration": 12,
    "start_time": "2022-07-04T17:40:55.889Z"
   },
   {
    "duration": 11,
    "start_time": "2022-07-04T17:40:55.902Z"
   },
   {
    "duration": 15,
    "start_time": "2022-07-04T17:40:55.915Z"
   },
   {
    "duration": 330,
    "start_time": "2022-07-04T17:40:55.931Z"
   },
   {
    "duration": 256,
    "start_time": "2022-07-04T17:40:56.262Z"
   },
   {
    "duration": 348,
    "start_time": "2022-07-04T17:40:56.519Z"
   },
   {
    "duration": 48,
    "start_time": "2022-07-04T17:40:56.868Z"
   },
   {
    "duration": 222,
    "start_time": "2022-07-04T17:40:56.917Z"
   },
   {
    "duration": 11,
    "start_time": "2022-07-04T17:40:57.141Z"
   },
   {
    "duration": 273,
    "start_time": "2022-07-04T17:40:57.153Z"
   },
   {
    "duration": 11,
    "start_time": "2022-07-04T17:40:57.428Z"
   },
   {
    "duration": 306,
    "start_time": "2022-07-04T17:40:57.441Z"
   },
   {
    "duration": 102,
    "start_time": "2022-07-04T17:40:57.748Z"
   },
   {
    "duration": 4,
    "start_time": "2022-07-04T17:40:57.852Z"
   },
   {
    "duration": 103,
    "start_time": "2022-07-04T17:40:57.858Z"
   },
   {
    "duration": 172,
    "start_time": "2022-07-04T17:40:57.963Z"
   },
   {
    "duration": 5,
    "start_time": "2022-07-04T17:40:58.137Z"
   },
   {
    "duration": 2096,
    "start_time": "2022-07-04T17:40:58.144Z"
   },
   {
    "duration": 20,
    "start_time": "2022-07-04T17:41:00.241Z"
   },
   {
    "duration": 38,
    "start_time": "2022-07-04T17:41:00.263Z"
   },
   {
    "duration": 0,
    "start_time": "2022-07-04T17:41:00.302Z"
   },
   {
    "duration": 0,
    "start_time": "2022-07-04T17:41:00.303Z"
   },
   {
    "duration": 0,
    "start_time": "2022-07-04T17:41:00.304Z"
   },
   {
    "duration": 0,
    "start_time": "2022-07-04T17:41:00.305Z"
   },
   {
    "duration": 12,
    "start_time": "2022-07-04T17:41:47.878Z"
   },
   {
    "duration": 964,
    "start_time": "2022-07-04T17:43:24.259Z"
   },
   {
    "duration": 981,
    "start_time": "2022-07-04T17:43:33.819Z"
   },
   {
    "duration": 1501,
    "start_time": "2022-07-04T17:45:06.714Z"
   },
   {
    "duration": 1837,
    "start_time": "2022-07-04T17:45:20.517Z"
   },
   {
    "duration": 1730,
    "start_time": "2022-07-04T17:46:03.801Z"
   },
   {
    "duration": 1651,
    "start_time": "2022-07-04T17:46:44.694Z"
   },
   {
    "duration": 1897,
    "start_time": "2022-07-04T17:47:19.709Z"
   },
   {
    "duration": 1775,
    "start_time": "2022-07-04T17:47:35.595Z"
   },
   {
    "duration": 1765,
    "start_time": "2022-07-04T17:47:40.768Z"
   },
   {
    "duration": 1898,
    "start_time": "2022-07-04T17:48:00.057Z"
   },
   {
    "duration": 1801,
    "start_time": "2022-07-04T17:48:28.770Z"
   },
   {
    "duration": 1598,
    "start_time": "2022-07-04T17:48:39.557Z"
   },
   {
    "duration": 1808,
    "start_time": "2022-07-04T17:49:07.045Z"
   },
   {
    "duration": 1742,
    "start_time": "2022-07-04T17:49:20.298Z"
   },
   {
    "duration": 1675,
    "start_time": "2022-07-04T17:49:37.803Z"
   },
   {
    "duration": 1862,
    "start_time": "2022-07-04T17:49:57.500Z"
   },
   {
    "duration": 1425,
    "start_time": "2022-07-04T18:15:24.133Z"
   },
   {
    "duration": 299,
    "start_time": "2022-07-04T18:15:25.561Z"
   },
   {
    "duration": 15,
    "start_time": "2022-07-04T18:15:25.862Z"
   },
   {
    "duration": 15,
    "start_time": "2022-07-04T18:15:25.879Z"
   },
   {
    "duration": 19,
    "start_time": "2022-07-04T18:15:25.897Z"
   },
   {
    "duration": 430,
    "start_time": "2022-07-04T18:15:25.917Z"
   },
   {
    "duration": 253,
    "start_time": "2022-07-04T18:15:26.348Z"
   },
   {
    "duration": 477,
    "start_time": "2022-07-04T18:15:26.603Z"
   },
   {
    "duration": 46,
    "start_time": "2022-07-04T18:15:27.082Z"
   },
   {
    "duration": 313,
    "start_time": "2022-07-04T18:15:27.130Z"
   },
   {
    "duration": 13,
    "start_time": "2022-07-04T18:15:27.445Z"
   },
   {
    "duration": 286,
    "start_time": "2022-07-04T18:15:27.460Z"
   },
   {
    "duration": 12,
    "start_time": "2022-07-04T18:15:27.748Z"
   },
   {
    "duration": 378,
    "start_time": "2022-07-04T18:15:27.763Z"
   },
   {
    "duration": 151,
    "start_time": "2022-07-04T18:15:28.143Z"
   },
   {
    "duration": 7,
    "start_time": "2022-07-04T18:15:28.296Z"
   },
   {
    "duration": 157,
    "start_time": "2022-07-04T18:15:28.305Z"
   },
   {
    "duration": 229,
    "start_time": "2022-07-04T18:15:28.465Z"
   },
   {
    "duration": 8,
    "start_time": "2022-07-04T18:15:28.697Z"
   },
   {
    "duration": 2593,
    "start_time": "2022-07-04T18:15:28.707Z"
   },
   {
    "duration": 1415,
    "start_time": "2022-07-04T18:15:43.380Z"
   },
   {
    "duration": 28,
    "start_time": "2022-07-04T18:16:10.443Z"
   },
   {
    "duration": 46,
    "start_time": "2022-07-04T18:24:16.142Z"
   },
   {
    "duration": 12,
    "start_time": "2022-07-04T18:24:23.346Z"
   },
   {
    "duration": 15,
    "start_time": "2022-07-04T18:25:36.573Z"
   },
   {
    "duration": 27,
    "start_time": "2022-07-04T18:25:49.086Z"
   },
   {
    "duration": 21,
    "start_time": "2022-07-04T18:26:03.247Z"
   },
   {
    "duration": 20,
    "start_time": "2022-07-04T18:26:05.928Z"
   },
   {
    "duration": 20,
    "start_time": "2022-07-04T18:26:10.394Z"
   },
   {
    "duration": 351,
    "start_time": "2022-07-04T18:26:43.819Z"
   },
   {
    "duration": 350,
    "start_time": "2022-07-04T18:26:47.243Z"
   },
   {
    "duration": 3,
    "start_time": "2022-07-04T18:33:51.551Z"
   },
   {
    "duration": 107,
    "start_time": "2022-07-04T18:33:52.664Z"
   },
   {
    "duration": 11,
    "start_time": "2022-07-04T18:33:55.095Z"
   },
   {
    "duration": 15,
    "start_time": "2022-07-04T18:33:57.041Z"
   },
   {
    "duration": 19,
    "start_time": "2022-07-04T18:33:59.446Z"
   },
   {
    "duration": 14,
    "start_time": "2022-07-04T18:34:16.577Z"
   },
   {
    "duration": 4,
    "start_time": "2022-07-04T18:34:21.019Z"
   },
   {
    "duration": 19,
    "start_time": "2022-07-04T18:34:39.915Z"
   },
   {
    "duration": 18,
    "start_time": "2022-07-04T18:35:03.312Z"
   },
   {
    "duration": 24,
    "start_time": "2022-07-04T18:35:27.874Z"
   },
   {
    "duration": 17,
    "start_time": "2022-07-04T18:35:38.657Z"
   },
   {
    "duration": 16,
    "start_time": "2022-07-04T18:35:45.676Z"
   },
   {
    "duration": 10,
    "start_time": "2022-07-04T18:35:50.647Z"
   },
   {
    "duration": 18,
    "start_time": "2022-07-04T18:35:54.107Z"
   },
   {
    "duration": 17,
    "start_time": "2022-07-04T18:36:00.001Z"
   },
   {
    "duration": 17,
    "start_time": "2022-07-04T18:36:09.005Z"
   },
   {
    "duration": 123,
    "start_time": "2022-07-04T18:36:24.138Z"
   },
   {
    "duration": 20,
    "start_time": "2022-07-04T18:36:28.279Z"
   },
   {
    "duration": 15,
    "start_time": "2022-07-04T18:36:31.212Z"
   },
   {
    "duration": 18,
    "start_time": "2022-07-04T18:36:41.512Z"
   },
   {
    "duration": 18,
    "start_time": "2022-07-04T18:36:55.508Z"
   },
   {
    "duration": 19,
    "start_time": "2022-07-04T18:37:00.558Z"
   },
   {
    "duration": 98,
    "start_time": "2022-07-04T18:38:17.373Z"
   },
   {
    "duration": 14,
    "start_time": "2022-07-04T18:38:29.189Z"
   },
   {
    "duration": 17,
    "start_time": "2022-07-04T18:38:34.097Z"
   },
   {
    "duration": 6,
    "start_time": "2022-07-04T18:44:02.777Z"
   },
   {
    "duration": 15,
    "start_time": "2022-07-04T18:44:07.753Z"
   },
   {
    "duration": 9,
    "start_time": "2022-07-04T18:44:09.459Z"
   },
   {
    "duration": 19,
    "start_time": "2022-07-04T18:44:54.729Z"
   },
   {
    "duration": 13,
    "start_time": "2022-07-04T18:45:02.866Z"
   },
   {
    "duration": 18,
    "start_time": "2022-07-04T18:45:07.294Z"
   },
   {
    "duration": 5,
    "start_time": "2022-07-04T18:45:57.275Z"
   },
   {
    "duration": 160,
    "start_time": "2022-07-04T18:45:57.284Z"
   },
   {
    "duration": 22,
    "start_time": "2022-07-04T18:45:57.447Z"
   },
   {
    "duration": 25,
    "start_time": "2022-07-04T18:45:57.472Z"
   },
   {
    "duration": 36,
    "start_time": "2022-07-04T18:45:57.500Z"
   },
   {
    "duration": 33,
    "start_time": "2022-07-04T18:45:57.539Z"
   },
   {
    "duration": 23,
    "start_time": "2022-07-04T18:45:57.574Z"
   },
   {
    "duration": 27,
    "start_time": "2022-07-04T18:45:57.600Z"
   },
   {
    "duration": 410,
    "start_time": "2022-07-04T18:46:00.314Z"
   },
   {
    "duration": 136,
    "start_time": "2022-07-04T18:49:45.898Z"
   },
   {
    "duration": 372,
    "start_time": "2022-07-04T18:49:48.727Z"
   },
   {
    "duration": 10,
    "start_time": "2022-07-04T18:50:28.676Z"
   },
   {
    "duration": 6,
    "start_time": "2022-07-04T18:50:32.383Z"
   },
   {
    "duration": 5,
    "start_time": "2022-07-04T18:50:36.590Z"
   },
   {
    "duration": 13,
    "start_time": "2022-07-04T18:50:56.671Z"
   },
   {
    "duration": 25,
    "start_time": "2022-07-04T18:51:03.637Z"
   },
   {
    "duration": 8,
    "start_time": "2022-07-04T18:51:04.970Z"
   },
   {
    "duration": 318,
    "start_time": "2022-07-04T18:51:22.770Z"
   },
   {
    "duration": 295,
    "start_time": "2022-07-04T18:52:36.496Z"
   },
   {
    "duration": 417,
    "start_time": "2022-07-04T18:52:47.761Z"
   },
   {
    "duration": 552,
    "start_time": "2022-07-04T18:52:59.132Z"
   },
   {
    "duration": 459,
    "start_time": "2022-07-04T18:53:10.609Z"
   },
   {
    "duration": 416,
    "start_time": "2022-07-04T18:53:18.870Z"
   },
   {
    "duration": 571,
    "start_time": "2022-07-04T18:56:15.202Z"
   },
   {
    "duration": 117,
    "start_time": "2022-07-04T18:56:52.630Z"
   },
   {
    "duration": 43,
    "start_time": "2022-07-04T18:57:19.831Z"
   },
   {
    "duration": 24,
    "start_time": "2022-07-04T18:58:57.838Z"
   },
   {
    "duration": 11,
    "start_time": "2022-07-04T18:59:03.021Z"
   },
   {
    "duration": 21,
    "start_time": "2022-07-04T18:59:11.404Z"
   },
   {
    "duration": 19,
    "start_time": "2022-07-04T18:59:16.987Z"
   },
   {
    "duration": 14,
    "start_time": "2022-07-04T18:59:23.702Z"
   },
   {
    "duration": 28,
    "start_time": "2022-07-04T19:00:06.137Z"
   },
   {
    "duration": 25,
    "start_time": "2022-07-04T19:00:14.852Z"
   },
   {
    "duration": 19,
    "start_time": "2022-07-04T19:00:23.484Z"
   },
   {
    "duration": 13,
    "start_time": "2022-07-04T19:00:28.903Z"
   },
   {
    "duration": 23,
    "start_time": "2022-07-04T19:00:36.611Z"
   },
   {
    "duration": 33,
    "start_time": "2022-07-04T19:01:28.901Z"
   },
   {
    "duration": 15,
    "start_time": "2022-07-04T19:01:39.823Z"
   },
   {
    "duration": 111,
    "start_time": "2022-07-04T19:02:48.472Z"
   },
   {
    "duration": 17,
    "start_time": "2022-07-04T19:03:01.072Z"
   },
   {
    "duration": 10,
    "start_time": "2022-07-04T19:03:04.607Z"
   },
   {
    "duration": 6,
    "start_time": "2022-07-04T19:03:50.698Z"
   },
   {
    "duration": 22,
    "start_time": "2022-07-04T19:03:55.474Z"
   },
   {
    "duration": 16,
    "start_time": "2022-07-04T19:03:56.896Z"
   },
   {
    "duration": 6,
    "start_time": "2022-07-04T19:04:00.127Z"
   },
   {
    "duration": 24,
    "start_time": "2022-07-04T19:04:56.225Z"
   },
   {
    "duration": 6,
    "start_time": "2022-07-04T19:05:12.202Z"
   },
   {
    "duration": 250,
    "start_time": "2022-07-04T19:05:18.473Z"
   },
   {
    "duration": 387,
    "start_time": "2022-07-04T19:06:46.471Z"
   },
   {
    "duration": 356,
    "start_time": "2022-07-04T19:07:33.098Z"
   },
   {
    "duration": 14,
    "start_time": "2022-07-04T19:08:06.048Z"
   },
   {
    "duration": 5,
    "start_time": "2022-07-04T19:08:13.330Z"
   },
   {
    "duration": 14,
    "start_time": "2022-07-04T19:08:20.585Z"
   },
   {
    "duration": 442,
    "start_time": "2022-07-04T19:08:47.738Z"
   },
   {
    "duration": 338,
    "start_time": "2022-07-04T19:08:59.896Z"
   },
   {
    "duration": 397,
    "start_time": "2022-07-04T19:09:39.802Z"
   },
   {
    "duration": 561,
    "start_time": "2022-07-04T19:09:49.229Z"
   },
   {
    "duration": 13,
    "start_time": "2022-07-04T19:09:57.638Z"
   },
   {
    "duration": 5,
    "start_time": "2022-07-04T19:10:02.128Z"
   },
   {
    "duration": 454,
    "start_time": "2022-07-04T19:10:52.168Z"
   },
   {
    "duration": 457,
    "start_time": "2022-07-04T19:11:02.423Z"
   },
   {
    "duration": 24,
    "start_time": "2022-07-04T19:16:44.073Z"
   },
   {
    "duration": 27,
    "start_time": "2022-07-04T19:16:49.865Z"
   },
   {
    "duration": 29,
    "start_time": "2022-07-04T19:16:57.267Z"
   },
   {
    "duration": 2409,
    "start_time": "2022-07-04T19:17:11.588Z"
   },
   {
    "duration": 57,
    "start_time": "2022-07-04T19:17:16.635Z"
   },
   {
    "duration": 9,
    "start_time": "2022-07-04T19:17:22.629Z"
   },
   {
    "duration": 128,
    "start_time": "2022-07-04T19:17:25.281Z"
   },
   {
    "duration": 23,
    "start_time": "2022-07-04T19:17:29.063Z"
   },
   {
    "duration": 35,
    "start_time": "2022-07-04T19:17:48.421Z"
   },
   {
    "duration": 8,
    "start_time": "2022-07-04T19:18:08.226Z"
   },
   {
    "duration": 7,
    "start_time": "2022-07-04T19:18:11.669Z"
   },
   {
    "duration": 19,
    "start_time": "2022-07-04T19:18:14.187Z"
   },
   {
    "duration": 40,
    "start_time": "2022-07-04T19:18:42.673Z"
   },
   {
    "duration": 45,
    "start_time": "2022-07-04T19:19:06.242Z"
   },
   {
    "duration": 37,
    "start_time": "2022-07-04T19:19:08.031Z"
   },
   {
    "duration": 26,
    "start_time": "2022-07-04T19:20:41.040Z"
   },
   {
    "duration": 15,
    "start_time": "2022-07-04T19:20:56.721Z"
   },
   {
    "duration": 23,
    "start_time": "2022-07-04T19:21:50.210Z"
   },
   {
    "duration": 25,
    "start_time": "2022-07-04T19:22:18.583Z"
   },
   {
    "duration": 25,
    "start_time": "2022-07-04T19:23:21.085Z"
   },
   {
    "duration": 21,
    "start_time": "2022-07-04T19:24:15.280Z"
   },
   {
    "duration": 20,
    "start_time": "2022-07-04T19:26:44.386Z"
   },
   {
    "duration": 19,
    "start_time": "2022-07-04T19:29:26.319Z"
   },
   {
    "duration": 14,
    "start_time": "2022-07-04T19:29:39.867Z"
   },
   {
    "duration": 8,
    "start_time": "2022-07-04T19:29:50.467Z"
   },
   {
    "duration": 3,
    "start_time": "2022-07-04T19:31:25.115Z"
   },
   {
    "duration": 4,
    "start_time": "2022-07-04T19:31:32.191Z"
   },
   {
    "duration": 36,
    "start_time": "2022-07-04T19:32:03.227Z"
   },
   {
    "duration": 8,
    "start_time": "2022-07-04T19:32:19.191Z"
   },
   {
    "duration": 6,
    "start_time": "2022-07-04T19:32:42.827Z"
   },
   {
    "duration": 22,
    "start_time": "2022-07-04T19:34:14.713Z"
   },
   {
    "duration": 26,
    "start_time": "2022-07-04T19:34:25.189Z"
   },
   {
    "duration": 1411,
    "start_time": "2022-07-05T04:35:26.688Z"
   },
   {
    "duration": 144,
    "start_time": "2022-07-05T04:35:28.101Z"
   },
   {
    "duration": 15,
    "start_time": "2022-07-05T04:35:28.247Z"
   },
   {
    "duration": 34,
    "start_time": "2022-07-05T04:35:28.265Z"
   },
   {
    "duration": 19,
    "start_time": "2022-07-05T04:35:28.302Z"
   },
   {
    "duration": 24,
    "start_time": "2022-07-05T04:35:28.323Z"
   },
   {
    "duration": 30,
    "start_time": "2022-07-05T04:35:28.349Z"
   },
   {
    "duration": 22,
    "start_time": "2022-07-05T04:35:28.381Z"
   },
   {
    "duration": 378,
    "start_time": "2022-07-05T04:35:28.405Z"
   },
   {
    "duration": 244,
    "start_time": "2022-07-05T04:35:28.785Z"
   },
   {
    "duration": 461,
    "start_time": "2022-07-05T04:35:29.030Z"
   },
   {
    "duration": 374,
    "start_time": "2022-07-05T04:35:29.492Z"
   },
   {
    "duration": 44,
    "start_time": "2022-07-05T04:35:29.868Z"
   },
   {
    "duration": 18,
    "start_time": "2022-07-05T04:35:29.915Z"
   },
   {
    "duration": 284,
    "start_time": "2022-07-05T04:35:29.935Z"
   },
   {
    "duration": 12,
    "start_time": "2022-07-05T04:35:30.220Z"
   },
   {
    "duration": 265,
    "start_time": "2022-07-05T04:35:30.235Z"
   },
   {
    "duration": 10,
    "start_time": "2022-07-05T04:35:30.502Z"
   },
   {
    "duration": 355,
    "start_time": "2022-07-05T04:35:30.514Z"
   },
   {
    "duration": 137,
    "start_time": "2022-07-05T04:35:30.871Z"
   },
   {
    "duration": 7,
    "start_time": "2022-07-05T04:35:31.010Z"
   },
   {
    "duration": 156,
    "start_time": "2022-07-05T04:35:31.019Z"
   },
   {
    "duration": 205,
    "start_time": "2022-07-05T04:35:31.177Z"
   },
   {
    "duration": 7,
    "start_time": "2022-07-05T04:35:31.384Z"
   },
   {
    "duration": 2167,
    "start_time": "2022-07-05T04:35:31.392Z"
   },
   {
    "duration": 29,
    "start_time": "2022-07-05T04:35:33.561Z"
   },
   {
    "duration": 336,
    "start_time": "2022-07-05T04:35:45.552Z"
   },
   {
    "duration": 17,
    "start_time": "2022-07-05T04:36:00.363Z"
   },
   {
    "duration": 26,
    "start_time": "2022-07-05T04:36:21.653Z"
   },
   {
    "duration": 7,
    "start_time": "2022-07-05T04:38:12.988Z"
   },
   {
    "duration": 7,
    "start_time": "2022-07-05T04:38:16.192Z"
   },
   {
    "duration": 17,
    "start_time": "2022-07-05T04:38:19.233Z"
   },
   {
    "duration": 14,
    "start_time": "2022-07-05T04:38:36.662Z"
   },
   {
    "duration": 11,
    "start_time": "2022-07-05T04:38:37.922Z"
   },
   {
    "duration": 17,
    "start_time": "2022-07-05T04:38:39.354Z"
   },
   {
    "duration": 29,
    "start_time": "2022-07-05T04:39:59.403Z"
   },
   {
    "duration": 17,
    "start_time": "2022-07-05T04:40:25.474Z"
   },
   {
    "duration": 12,
    "start_time": "2022-07-05T04:40:37.957Z"
   },
   {
    "duration": 17,
    "start_time": "2022-07-05T04:40:53.776Z"
   },
   {
    "duration": 2313,
    "start_time": "2022-07-05T04:41:47.440Z"
   },
   {
    "duration": 21,
    "start_time": "2022-07-05T04:41:50.237Z"
   },
   {
    "duration": 10,
    "start_time": "2022-07-05T04:41:51.527Z"
   },
   {
    "duration": 9,
    "start_time": "2022-07-05T04:41:52.477Z"
   },
   {
    "duration": 9,
    "start_time": "2022-07-05T04:41:55.173Z"
   },
   {
    "duration": 10,
    "start_time": "2022-07-05T04:42:05.974Z"
   },
   {
    "duration": 5,
    "start_time": "2022-07-05T04:42:13.173Z"
   },
   {
    "duration": 13,
    "start_time": "2022-07-05T04:42:21.173Z"
   },
   {
    "duration": 23,
    "start_time": "2022-07-05T04:42:41.918Z"
   },
   {
    "duration": 12,
    "start_time": "2022-07-05T04:42:51.079Z"
   },
   {
    "duration": 17,
    "start_time": "2022-07-05T04:42:57.014Z"
   },
   {
    "duration": 28,
    "start_time": "2022-07-05T04:43:05.063Z"
   },
   {
    "duration": 10,
    "start_time": "2022-07-05T04:43:10.981Z"
   },
   {
    "duration": 5,
    "start_time": "2022-07-05T04:43:20.679Z"
   },
   {
    "duration": 5,
    "start_time": "2022-07-05T04:43:31.077Z"
   },
   {
    "duration": 21,
    "start_time": "2022-07-05T04:43:33.973Z"
   },
   {
    "duration": 11,
    "start_time": "2022-07-05T04:43:38.645Z"
   },
   {
    "duration": 4,
    "start_time": "2022-07-05T04:43:41.095Z"
   },
   {
    "duration": 23,
    "start_time": "2022-07-05T04:43:58.545Z"
   },
   {
    "duration": 11,
    "start_time": "2022-07-05T04:44:02.815Z"
   },
   {
    "duration": 6,
    "start_time": "2022-07-05T04:44:31.391Z"
   },
   {
    "duration": 30,
    "start_time": "2022-07-05T04:45:11.677Z"
   },
   {
    "duration": 7,
    "start_time": "2022-07-05T04:45:17.437Z"
   },
   {
    "duration": 24,
    "start_time": "2022-07-05T04:45:24.457Z"
   },
   {
    "duration": 225,
    "start_time": "2022-07-05T04:45:32.478Z"
   },
   {
    "duration": 22,
    "start_time": "2022-07-05T04:45:46.393Z"
   },
   {
    "duration": 15,
    "start_time": "2022-07-05T04:46:15.775Z"
   },
   {
    "duration": 6,
    "start_time": "2022-07-05T04:46:24.146Z"
   },
   {
    "duration": 17,
    "start_time": "2022-07-05T04:46:45.559Z"
   },
   {
    "duration": 22,
    "start_time": "2022-07-05T04:46:54.781Z"
   },
   {
    "duration": 71,
    "start_time": "2022-07-05T04:47:06.705Z"
   },
   {
    "duration": 13,
    "start_time": "2022-07-05T04:47:11.440Z"
   },
   {
    "duration": 2433,
    "start_time": "2022-07-05T04:48:44.524Z"
   },
   {
    "duration": 22,
    "start_time": "2022-07-05T04:48:47.920Z"
   },
   {
    "duration": 11,
    "start_time": "2022-07-05T04:48:49.704Z"
   },
   {
    "duration": 6,
    "start_time": "2022-07-05T04:48:57.891Z"
   },
   {
    "duration": 8,
    "start_time": "2022-07-05T04:48:59.906Z"
   },
   {
    "duration": 15,
    "start_time": "2022-07-05T04:49:02.092Z"
   },
   {
    "duration": 5,
    "start_time": "2022-07-05T04:49:04.915Z"
   },
   {
    "duration": 1600,
    "start_time": "2022-07-05T04:52:23.737Z"
   },
   {
    "duration": 25,
    "start_time": "2022-07-05T04:52:26.599Z"
   },
   {
    "duration": 11,
    "start_time": "2022-07-05T04:52:30.852Z"
   },
   {
    "duration": 6,
    "start_time": "2022-07-05T04:52:32.948Z"
   },
   {
    "duration": 7,
    "start_time": "2022-07-05T04:52:36.406Z"
   },
   {
    "duration": 9,
    "start_time": "2022-07-05T04:52:42.286Z"
   },
   {
    "duration": 5,
    "start_time": "2022-07-05T04:52:44.751Z"
   },
   {
    "duration": 32,
    "start_time": "2022-07-05T04:53:08.389Z"
   },
   {
    "duration": 6,
    "start_time": "2022-07-05T04:53:18.339Z"
   },
   {
    "duration": 14,
    "start_time": "2022-07-05T04:53:22.930Z"
   },
   {
    "duration": 27,
    "start_time": "2022-07-05T04:53:25.002Z"
   },
   {
    "duration": 105,
    "start_time": "2022-07-05T04:53:40.034Z"
   },
   {
    "duration": 16,
    "start_time": "2022-07-05T04:53:43.640Z"
   },
   {
    "duration": 1806,
    "start_time": "2022-07-05T04:54:02.834Z"
   },
   {
    "duration": 33,
    "start_time": "2022-07-05T04:54:05.602Z"
   },
   {
    "duration": 22,
    "start_time": "2022-07-05T04:54:08.255Z"
   },
   {
    "duration": 272,
    "start_time": "2022-07-05T04:54:10.683Z"
   },
   {
    "duration": 14,
    "start_time": "2022-07-05T04:55:05.281Z"
   },
   {
    "duration": 5,
    "start_time": "2022-07-05T04:55:12.311Z"
   },
   {
    "duration": 5,
    "start_time": "2022-07-05T04:55:16.032Z"
   },
   {
    "duration": 1751,
    "start_time": "2022-07-05T04:55:39.382Z"
   },
   {
    "duration": 22,
    "start_time": "2022-07-05T04:55:41.481Z"
   },
   {
    "duration": 16,
    "start_time": "2022-07-05T04:55:45.358Z"
   },
   {
    "duration": 8,
    "start_time": "2022-07-05T04:55:49.411Z"
   },
   {
    "duration": 16,
    "start_time": "2022-07-05T04:55:55.187Z"
   },
   {
    "duration": 220,
    "start_time": "2022-07-05T04:56:04.783Z"
   },
   {
    "duration": 14,
    "start_time": "2022-07-05T04:56:14.610Z"
   },
   {
    "duration": 5,
    "start_time": "2022-07-05T04:56:40.099Z"
   },
   {
    "duration": 7,
    "start_time": "2022-07-05T04:56:49.778Z"
   },
   {
    "duration": 5,
    "start_time": "2022-07-05T04:56:58.528Z"
   },
   {
    "duration": 13,
    "start_time": "2022-07-05T04:57:01.958Z"
   },
   {
    "duration": 6,
    "start_time": "2022-07-05T04:57:03.656Z"
   },
   {
    "duration": 1509,
    "start_time": "2022-07-05T04:57:37.234Z"
   },
   {
    "duration": 23,
    "start_time": "2022-07-05T04:57:39.280Z"
   },
   {
    "duration": 188,
    "start_time": "2022-07-05T04:57:42.331Z"
   },
   {
    "duration": 14,
    "start_time": "2022-07-05T04:58:05.432Z"
   },
   {
    "duration": 8,
    "start_time": "2022-07-05T04:58:20.700Z"
   },
   {
    "duration": 60,
    "start_time": "2022-07-05T04:58:56.952Z"
   },
   {
    "duration": 12,
    "start_time": "2022-07-05T05:00:19.551Z"
   },
   {
    "duration": 8,
    "start_time": "2022-07-05T05:00:21.178Z"
   },
   {
    "duration": 9,
    "start_time": "2022-07-05T05:00:31.827Z"
   },
   {
    "duration": 1934,
    "start_time": "2022-07-05T05:02:01.209Z"
   },
   {
    "duration": 36,
    "start_time": "2022-07-05T05:02:04.189Z"
   },
   {
    "duration": 7,
    "start_time": "2022-07-05T05:02:05.905Z"
   },
   {
    "duration": 18,
    "start_time": "2022-07-05T05:02:08.855Z"
   },
   {
    "duration": 8,
    "start_time": "2022-07-05T05:02:46.327Z"
   },
   {
    "duration": 9,
    "start_time": "2022-07-05T05:02:48.191Z"
   },
   {
    "duration": 10,
    "start_time": "2022-07-05T05:03:26.006Z"
   },
   {
    "duration": 1199,
    "start_time": "2022-07-05T05:28:34.515Z"
   },
   {
    "duration": 94,
    "start_time": "2022-07-05T05:28:35.716Z"
   },
   {
    "duration": 14,
    "start_time": "2022-07-05T05:28:35.812Z"
   },
   {
    "duration": 46,
    "start_time": "2022-07-05T05:28:35.829Z"
   },
   {
    "duration": 26,
    "start_time": "2022-07-05T05:28:35.877Z"
   },
   {
    "duration": 19,
    "start_time": "2022-07-05T05:28:35.905Z"
   },
   {
    "duration": 15,
    "start_time": "2022-07-05T05:28:35.926Z"
   },
   {
    "duration": 27,
    "start_time": "2022-07-05T05:28:35.961Z"
   },
   {
    "duration": 431,
    "start_time": "2022-07-05T05:28:35.990Z"
   },
   {
    "duration": 360,
    "start_time": "2022-07-05T05:28:36.427Z"
   },
   {
    "duration": 523,
    "start_time": "2022-07-05T05:28:36.789Z"
   },
   {
    "duration": 386,
    "start_time": "2022-07-05T05:28:37.314Z"
   },
   {
    "duration": 48,
    "start_time": "2022-07-05T05:28:37.702Z"
   },
   {
    "duration": 35,
    "start_time": "2022-07-05T05:28:37.752Z"
   },
   {
    "duration": 304,
    "start_time": "2022-07-05T05:28:37.790Z"
   },
   {
    "duration": 18,
    "start_time": "2022-07-05T05:28:38.098Z"
   },
   {
    "duration": 291,
    "start_time": "2022-07-05T05:28:38.117Z"
   },
   {
    "duration": 11,
    "start_time": "2022-07-05T05:28:38.410Z"
   },
   {
    "duration": 348,
    "start_time": "2022-07-05T05:28:38.423Z"
   },
   {
    "duration": 144,
    "start_time": "2022-07-05T05:28:38.782Z"
   },
   {
    "duration": 8,
    "start_time": "2022-07-05T05:28:38.928Z"
   },
   {
    "duration": 165,
    "start_time": "2022-07-05T05:28:38.937Z"
   },
   {
    "duration": 217,
    "start_time": "2022-07-05T05:28:39.104Z"
   },
   {
    "duration": 9,
    "start_time": "2022-07-05T05:28:39.323Z"
   },
   {
    "duration": 2562,
    "start_time": "2022-07-05T05:28:39.333Z"
   },
   {
    "duration": 25,
    "start_time": "2022-07-05T05:28:41.897Z"
   },
   {
    "duration": 17,
    "start_time": "2022-07-05T05:28:41.924Z"
   },
   {
    "duration": 8,
    "start_time": "2022-07-05T05:28:41.946Z"
   },
   {
    "duration": 74,
    "start_time": "2022-07-05T05:28:41.957Z"
   },
   {
    "duration": 239,
    "start_time": "2022-07-05T05:28:42.033Z"
   },
   {
    "duration": 11,
    "start_time": "2022-07-05T05:28:42.275Z"
   },
   {
    "duration": 1730,
    "start_time": "2022-07-05T05:28:42.287Z"
   },
   {
    "duration": 17,
    "start_time": "2022-07-05T05:28:44.020Z"
   },
   {
    "duration": 9,
    "start_time": "2022-07-05T05:28:44.039Z"
   },
   {
    "duration": 12,
    "start_time": "2022-07-05T05:31:51.954Z"
   },
   {
    "duration": 19,
    "start_time": "2022-07-05T05:39:01.403Z"
   },
   {
    "duration": 18,
    "start_time": "2022-07-05T05:39:13.801Z"
   },
   {
    "duration": 17,
    "start_time": "2022-07-05T05:39:27.330Z"
   },
   {
    "duration": 1350,
    "start_time": "2022-07-05T10:00:26.579Z"
   },
   {
    "duration": 323,
    "start_time": "2022-07-05T10:00:27.930Z"
   },
   {
    "duration": 13,
    "start_time": "2022-07-05T10:00:28.255Z"
   },
   {
    "duration": 19,
    "start_time": "2022-07-05T10:00:28.270Z"
   },
   {
    "duration": 28,
    "start_time": "2022-07-05T10:00:28.290Z"
   },
   {
    "duration": 19,
    "start_time": "2022-07-05T10:00:28.320Z"
   },
   {
    "duration": 27,
    "start_time": "2022-07-05T10:00:28.340Z"
   },
   {
    "duration": 20,
    "start_time": "2022-07-05T10:00:28.368Z"
   },
   {
    "duration": 434,
    "start_time": "2022-07-05T10:00:28.389Z"
   },
   {
    "duration": 239,
    "start_time": "2022-07-05T10:00:28.826Z"
   },
   {
    "duration": 405,
    "start_time": "2022-07-05T10:00:29.067Z"
   },
   {
    "duration": 348,
    "start_time": "2022-07-05T10:00:29.474Z"
   },
   {
    "duration": 42,
    "start_time": "2022-07-05T10:00:29.825Z"
   },
   {
    "duration": 273,
    "start_time": "2022-07-05T10:00:29.869Z"
   },
   {
    "duration": 14,
    "start_time": "2022-07-05T10:00:30.144Z"
   },
   {
    "duration": 299,
    "start_time": "2022-07-05T10:00:30.160Z"
   },
   {
    "duration": 11,
    "start_time": "2022-07-05T10:00:30.461Z"
   },
   {
    "duration": 12,
    "start_time": "2022-07-05T10:00:53.602Z"
   },
   {
    "duration": 5,
    "start_time": "2022-07-05T10:01:48.241Z"
   },
   {
    "duration": 10,
    "start_time": "2022-07-05T10:02:08.212Z"
   },
   {
    "duration": 8,
    "start_time": "2022-07-05T10:03:48.951Z"
   },
   {
    "duration": 134,
    "start_time": "2022-07-06T12:33:13.765Z"
   },
   {
    "duration": 43,
    "start_time": "2022-07-06T12:33:27.194Z"
   },
   {
    "duration": 1665,
    "start_time": "2022-07-06T12:33:29.290Z"
   },
   {
    "duration": 246,
    "start_time": "2022-07-06T12:33:30.967Z"
   },
   {
    "duration": 15,
    "start_time": "2022-07-06T12:33:31.214Z"
   },
   {
    "duration": 32,
    "start_time": "2022-07-06T12:33:31.231Z"
   },
   {
    "duration": 28,
    "start_time": "2022-07-06T12:33:31.278Z"
   },
   {
    "duration": 16,
    "start_time": "2022-07-06T12:33:31.307Z"
   },
   {
    "duration": 13,
    "start_time": "2022-07-06T12:33:31.325Z"
   },
   {
    "duration": 41,
    "start_time": "2022-07-06T12:33:31.340Z"
   },
   {
    "duration": 442,
    "start_time": "2022-07-06T12:33:31.388Z"
   },
   {
    "duration": 393,
    "start_time": "2022-07-06T12:33:31.834Z"
   },
   {
    "duration": 296,
    "start_time": "2022-07-06T12:33:32.229Z"
   },
   {
    "duration": 474,
    "start_time": "2022-07-06T12:33:32.527Z"
   },
   {
    "duration": 374,
    "start_time": "2022-07-06T12:33:33.003Z"
   },
   {
    "duration": 46,
    "start_time": "2022-07-06T12:33:33.379Z"
   },
   {
    "duration": 307,
    "start_time": "2022-07-06T12:33:33.426Z"
   },
   {
    "duration": 33,
    "start_time": "2022-07-06T12:33:33.735Z"
   },
   {
    "duration": 338,
    "start_time": "2022-07-06T12:33:33.774Z"
   },
   {
    "duration": 13,
    "start_time": "2022-07-06T12:33:34.114Z"
   },
   {
    "duration": 35,
    "start_time": "2022-07-06T12:33:34.128Z"
   },
   {
    "duration": 16,
    "start_time": "2022-07-06T12:33:34.175Z"
   },
   {
    "duration": 10,
    "start_time": "2022-07-06T12:33:34.193Z"
   },
   {
    "duration": 107,
    "start_time": "2022-07-06T12:33:34.205Z"
   },
   {
    "duration": 11,
    "start_time": "2022-07-06T12:33:34.314Z"
   },
   {
    "duration": 388,
    "start_time": "2022-07-06T12:33:34.327Z"
   },
   {
    "duration": 83,
    "start_time": "2022-07-06T12:33:34.719Z"
   },
   {
    "duration": 7,
    "start_time": "2022-07-06T12:33:34.804Z"
   },
   {
    "duration": 201,
    "start_time": "2022-07-06T12:33:34.813Z"
   },
   {
    "duration": 271,
    "start_time": "2022-07-06T12:33:35.020Z"
   },
   {
    "duration": 8,
    "start_time": "2022-07-06T12:33:35.293Z"
   },
   {
    "duration": 2682,
    "start_time": "2022-07-06T12:33:35.302Z"
   },
   {
    "duration": 29,
    "start_time": "2022-07-06T12:33:37.986Z"
   },
   {
    "duration": 12,
    "start_time": "2022-07-06T12:33:38.017Z"
   },
   {
    "duration": 6,
    "start_time": "2022-07-06T12:33:38.032Z"
   },
   {
    "duration": 56,
    "start_time": "2022-07-06T12:33:38.039Z"
   },
   {
    "duration": 269,
    "start_time": "2022-07-06T12:33:38.097Z"
   },
   {
    "duration": 11,
    "start_time": "2022-07-06T12:33:38.373Z"
   },
   {
    "duration": 2027,
    "start_time": "2022-07-06T12:33:38.390Z"
   },
   {
    "duration": 13,
    "start_time": "2022-07-06T12:33:40.419Z"
   },
   {
    "duration": 54,
    "start_time": "2022-07-06T12:33:40.434Z"
   },
   {
    "duration": 318,
    "start_time": "2022-07-06T12:34:26.480Z"
   },
   {
    "duration": 440,
    "start_time": "2022-07-06T12:34:31.241Z"
   },
   {
    "duration": 15,
    "start_time": "2022-07-06T12:39:53.981Z"
   },
   {
    "duration": 10,
    "start_time": "2022-07-06T12:40:06.093Z"
   },
   {
    "duration": 4,
    "start_time": "2022-07-06T12:41:21.678Z"
   }
  ],
  "interpreter": {
   "hash": "aee8b7b246df8f9039afb4144a1f6fd8d2ca17a180786b69acc140d282b71a49"
  },
  "kernelspec": {
   "display_name": "Python 3 (ipykernel)",
   "language": "python",
   "name": "python3"
  },
  "language_info": {
   "codemirror_mode": {
    "name": "ipython",
    "version": 3
   },
   "file_extension": ".py",
   "mimetype": "text/x-python",
   "name": "python",
   "nbconvert_exporter": "python",
   "pygments_lexer": "ipython3",
   "version": "3.9.13"
  },
  "toc": {
   "base_numbering": 1,
   "nav_menu": {},
   "number_sections": true,
   "sideBar": true,
   "skip_h1_title": true,
   "title_cell": "Table of Contents",
   "title_sidebar": "Contents",
   "toc_cell": false,
   "toc_position": {},
   "toc_section_display": true,
   "toc_window_display": false
  }
 },
 "nbformat": 4,
 "nbformat_minor": 2
}
