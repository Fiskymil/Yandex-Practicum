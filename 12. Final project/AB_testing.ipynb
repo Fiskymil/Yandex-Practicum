{
 "cells": [
  {
   "cell_type": "markdown",
   "metadata": {},
   "source": [
    "# A/B-тестирование"
   ]
  },
  {
   "cell_type": "markdown",
   "metadata": {},
   "source": [
    "### Цель проекта:\n",
    "Провести оценку результатов A/B-теста. В распоряжении есть датасет с действиями пользователей, техническое задание и несколько вспомогательных датасетов."
   ]
  },
  {
   "cell_type": "markdown",
   "metadata": {},
   "source": [
    "### Техническое задание\n",
    "\n",
    "- Название теста: `recommender_system_test`;\n",
    "- группы: А — контрольная, B — новая платёжная воронка;\n",
    "- дата запуска: 2020-12-07;\n",
    "- дата остановки набора новых пользователей: 2020-12-21;\n",
    "- дата остановки: 2021-01-04;\n",
    "- аудитория: 15% новых пользователей из региона EU;\n",
    "- назначение теста: тестирование изменений, связанных с внедрением улучшенной рекомендательной системы;\n",
    "- ожидаемое количество участников теста: 6000.\n",
    "- ожидаемый эффект: за 14 дней с момента регистрации пользователи покажут улучшение каждой метрики не менее, чем на 10%:\n",
    "    - конверсии в просмотр карточек товаров — событие `product_page`,\n",
    "    - просмотры корзины — `product_cart`,\n",
    "    - покупки — `purchase`."
   ]
  },
  {
   "cell_type": "markdown",
   "metadata": {},
   "source": [
    "\n",
    "### Описание данных\n",
    "\n",
    "`ab_project_marketing_events.csv` — календарь маркетинговых событий на 2020 год.\n",
    "\n",
    "Структура файла:\n",
    "\n",
    "- `name` — название маркетингового события;\n",
    "- `regions` — регионы, в которых будет проводиться рекламная кампания;\n",
    "- `start_dt` — дата начала кампании;\n",
    "- `finish_dt` — дата завершения кампании.\n",
    "\n",
    "`final_ab_new_users.csv` — пользователи, зарегистрировавшиеся с 7 по 21 декабря 2020 года.\n",
    "\n",
    "Структура файла:\n",
    "\n",
    "- `user_id` — идентификатор пользователя;\n",
    "- `first_date` — дата регистрации;\n",
    "- `region` — регион пользователя;\n",
    "- `device` — устройство, с которого происходила регистрация.\n",
    "\n",
    "`final_ab_events.csv` — действия новых пользователей в период с 7 декабря 2020 по 4 января 2021 года.\n",
    "\n",
    "Структура файла:\n",
    "\n",
    "- `user_id` — идентификатор пользователя;\n",
    "- `event_dt` — дата и время покупки;\n",
    "- `event_name` — тип события;\n",
    "- `details` — дополнительные данные о событии. Например, для покупок, `purchase,` в этом поле хранится стоимость покупки в долларах.\n",
    "\n",
    "`final_ab_participants.csv` — таблица участников тестов.\n",
    "\n",
    "Структура файла:\n",
    "\n",
    "- `user_id` — идентификатор пользователя;\n",
    "- `ab_test` — название теста;\n",
    "- `group` — группа пользователя."
   ]
  },
  {
   "cell_type": "markdown",
   "metadata": {},
   "source": [
    "## Загрузка и первичный анализ данных"
   ]
  },
  {
   "cell_type": "code",
   "execution_count": 1,
   "metadata": {},
   "outputs": [],
   "source": [
    "import pandas as pd\n",
    "import seaborn as sns\n",
    "import matplotlib.pyplot as plt\n",
    "import warnings\n",
    "\n",
    "warnings.filterwarnings('ignore')\n",
    "from datetime import datetime, timedelta\n",
    "import numpy as np\n",
    "from scipy import stats as st"
   ]
  },
  {
   "cell_type": "code",
   "execution_count": 2,
   "metadata": {},
   "outputs": [
    {
     "data": {
      "text/html": [
       "<div>\n",
       "<style scoped>\n",
       "    .dataframe tbody tr th:only-of-type {\n",
       "        vertical-align: middle;\n",
       "    }\n",
       "\n",
       "    .dataframe tbody tr th {\n",
       "        vertical-align: top;\n",
       "    }\n",
       "\n",
       "    .dataframe thead th {\n",
       "        text-align: right;\n",
       "    }\n",
       "</style>\n",
       "<table border=\"1\" class=\"dataframe\">\n",
       "  <thead>\n",
       "    <tr style=\"text-align: right;\">\n",
       "      <th></th>\n",
       "      <th>name</th>\n",
       "      <th>regions</th>\n",
       "      <th>start_dt</th>\n",
       "      <th>finish_dt</th>\n",
       "    </tr>\n",
       "  </thead>\n",
       "  <tbody>\n",
       "    <tr>\n",
       "      <th>0</th>\n",
       "      <td>Christmas&amp;New Year Promo</td>\n",
       "      <td>EU, N.America</td>\n",
       "      <td>2020-12-25</td>\n",
       "      <td>2021-01-03</td>\n",
       "    </tr>\n",
       "    <tr>\n",
       "      <th>1</th>\n",
       "      <td>St. Valentine's Day Giveaway</td>\n",
       "      <td>EU, CIS, APAC, N.America</td>\n",
       "      <td>2020-02-14</td>\n",
       "      <td>2020-02-16</td>\n",
       "    </tr>\n",
       "    <tr>\n",
       "      <th>2</th>\n",
       "      <td>St. Patric's Day Promo</td>\n",
       "      <td>EU, N.America</td>\n",
       "      <td>2020-03-17</td>\n",
       "      <td>2020-03-19</td>\n",
       "    </tr>\n",
       "    <tr>\n",
       "      <th>3</th>\n",
       "      <td>Easter Promo</td>\n",
       "      <td>EU, CIS, APAC, N.America</td>\n",
       "      <td>2020-04-12</td>\n",
       "      <td>2020-04-19</td>\n",
       "    </tr>\n",
       "    <tr>\n",
       "      <th>4</th>\n",
       "      <td>4th of July Promo</td>\n",
       "      <td>N.America</td>\n",
       "      <td>2020-07-04</td>\n",
       "      <td>2020-07-11</td>\n",
       "    </tr>\n",
       "    <tr>\n",
       "      <th>5</th>\n",
       "      <td>Black Friday Ads Campaign</td>\n",
       "      <td>EU, CIS, APAC, N.America</td>\n",
       "      <td>2020-11-26</td>\n",
       "      <td>2020-12-01</td>\n",
       "    </tr>\n",
       "    <tr>\n",
       "      <th>6</th>\n",
       "      <td>Chinese New Year Promo</td>\n",
       "      <td>APAC</td>\n",
       "      <td>2020-01-25</td>\n",
       "      <td>2020-02-07</td>\n",
       "    </tr>\n",
       "    <tr>\n",
       "      <th>7</th>\n",
       "      <td>Labor day (May 1st) Ads Campaign</td>\n",
       "      <td>EU, CIS, APAC</td>\n",
       "      <td>2020-05-01</td>\n",
       "      <td>2020-05-03</td>\n",
       "    </tr>\n",
       "    <tr>\n",
       "      <th>8</th>\n",
       "      <td>International Women's Day Promo</td>\n",
       "      <td>EU, CIS, APAC</td>\n",
       "      <td>2020-03-08</td>\n",
       "      <td>2020-03-10</td>\n",
       "    </tr>\n",
       "    <tr>\n",
       "      <th>9</th>\n",
       "      <td>Victory Day CIS (May 9th) Event</td>\n",
       "      <td>CIS</td>\n",
       "      <td>2020-05-09</td>\n",
       "      <td>2020-05-11</td>\n",
       "    </tr>\n",
       "    <tr>\n",
       "      <th>10</th>\n",
       "      <td>CIS New Year Gift Lottery</td>\n",
       "      <td>CIS</td>\n",
       "      <td>2020-12-30</td>\n",
       "      <td>2021-01-07</td>\n",
       "    </tr>\n",
       "    <tr>\n",
       "      <th>11</th>\n",
       "      <td>Dragon Boat Festival Giveaway</td>\n",
       "      <td>APAC</td>\n",
       "      <td>2020-06-25</td>\n",
       "      <td>2020-07-01</td>\n",
       "    </tr>\n",
       "    <tr>\n",
       "      <th>12</th>\n",
       "      <td>Single's Day Gift Promo</td>\n",
       "      <td>APAC</td>\n",
       "      <td>2020-11-11</td>\n",
       "      <td>2020-11-12</td>\n",
       "    </tr>\n",
       "    <tr>\n",
       "      <th>13</th>\n",
       "      <td>Chinese Moon Festival</td>\n",
       "      <td>APAC</td>\n",
       "      <td>2020-10-01</td>\n",
       "      <td>2020-10-07</td>\n",
       "    </tr>\n",
       "  </tbody>\n",
       "</table>\n",
       "</div>"
      ],
      "text/plain": [
       "                                name                   regions    start_dt  \\\n",
       "0           Christmas&New Year Promo             EU, N.America  2020-12-25   \n",
       "1       St. Valentine's Day Giveaway  EU, CIS, APAC, N.America  2020-02-14   \n",
       "2             St. Patric's Day Promo             EU, N.America  2020-03-17   \n",
       "3                       Easter Promo  EU, CIS, APAC, N.America  2020-04-12   \n",
       "4                  4th of July Promo                 N.America  2020-07-04   \n",
       "5          Black Friday Ads Campaign  EU, CIS, APAC, N.America  2020-11-26   \n",
       "6             Chinese New Year Promo                      APAC  2020-01-25   \n",
       "7   Labor day (May 1st) Ads Campaign             EU, CIS, APAC  2020-05-01   \n",
       "8    International Women's Day Promo             EU, CIS, APAC  2020-03-08   \n",
       "9    Victory Day CIS (May 9th) Event                       CIS  2020-05-09   \n",
       "10         CIS New Year Gift Lottery                       CIS  2020-12-30   \n",
       "11     Dragon Boat Festival Giveaway                      APAC  2020-06-25   \n",
       "12           Single's Day Gift Promo                      APAC  2020-11-11   \n",
       "13             Chinese Moon Festival                      APAC  2020-10-01   \n",
       "\n",
       "     finish_dt  \n",
       "0   2021-01-03  \n",
       "1   2020-02-16  \n",
       "2   2020-03-19  \n",
       "3   2020-04-19  \n",
       "4   2020-07-11  \n",
       "5   2020-12-01  \n",
       "6   2020-02-07  \n",
       "7   2020-05-03  \n",
       "8   2020-03-10  \n",
       "9   2020-05-11  \n",
       "10  2021-01-07  \n",
       "11  2020-07-01  \n",
       "12  2020-11-12  \n",
       "13  2020-10-07  "
      ]
     },
     "metadata": {},
     "output_type": "display_data"
    },
    {
     "name": "stdout",
     "output_type": "stream",
     "text": [
      "<class 'pandas.core.frame.DataFrame'>\n",
      "RangeIndex: 14 entries, 0 to 13\n",
      "Data columns (total 4 columns):\n",
      " #   Column     Non-Null Count  Dtype \n",
      "---  ------     --------------  ----- \n",
      " 0   name       14 non-null     object\n",
      " 1   regions    14 non-null     object\n",
      " 2   start_dt   14 non-null     object\n",
      " 3   finish_dt  14 non-null     object\n",
      "dtypes: object(4)\n",
      "memory usage: 576.0+ bytes\n"
     ]
    }
   ],
   "source": [
    "marketing_events = pd.read_csv('/datasets/ab_project_marketing_events.csv')\n",
    "display(marketing_events)\n",
    "marketing_events.info()"
   ]
  },
  {
   "cell_type": "code",
   "execution_count": 3,
   "metadata": {},
   "outputs": [],
   "source": [
    "# Изменим тип для столбцов с датами\n",
    "marketing_events['start_dt'] = pd.to_datetime(marketing_events['start_dt'])\n",
    "marketing_events['finish_dt'] = pd.to_datetime(marketing_events['finish_dt'])\n"
   ]
  },
  {
   "cell_type": "code",
   "execution_count": 4,
   "metadata": {
    "scrolled": false
   },
   "outputs": [
    {
     "data": {
      "text/html": [
       "<div>\n",
       "<style scoped>\n",
       "    .dataframe tbody tr th:only-of-type {\n",
       "        vertical-align: middle;\n",
       "    }\n",
       "\n",
       "    .dataframe tbody tr th {\n",
       "        vertical-align: top;\n",
       "    }\n",
       "\n",
       "    .dataframe thead th {\n",
       "        text-align: right;\n",
       "    }\n",
       "</style>\n",
       "<table border=\"1\" class=\"dataframe\">\n",
       "  <thead>\n",
       "    <tr style=\"text-align: right;\">\n",
       "      <th></th>\n",
       "      <th>user_id</th>\n",
       "      <th>event_dt</th>\n",
       "      <th>event_name</th>\n",
       "      <th>details</th>\n",
       "    </tr>\n",
       "  </thead>\n",
       "  <tbody>\n",
       "    <tr>\n",
       "      <th>0</th>\n",
       "      <td>E1BDDCE0DAFA2679</td>\n",
       "      <td>2020-12-07 20:22:03</td>\n",
       "      <td>purchase</td>\n",
       "      <td>99.99</td>\n",
       "    </tr>\n",
       "    <tr>\n",
       "      <th>1</th>\n",
       "      <td>7B6452F081F49504</td>\n",
       "      <td>2020-12-07 09:22:53</td>\n",
       "      <td>purchase</td>\n",
       "      <td>9.99</td>\n",
       "    </tr>\n",
       "    <tr>\n",
       "      <th>2</th>\n",
       "      <td>9CD9F34546DF254C</td>\n",
       "      <td>2020-12-07 12:59:29</td>\n",
       "      <td>purchase</td>\n",
       "      <td>4.99</td>\n",
       "    </tr>\n",
       "    <tr>\n",
       "      <th>3</th>\n",
       "      <td>96F27A054B191457</td>\n",
       "      <td>2020-12-07 04:02:40</td>\n",
       "      <td>purchase</td>\n",
       "      <td>4.99</td>\n",
       "    </tr>\n",
       "    <tr>\n",
       "      <th>4</th>\n",
       "      <td>1FD7660FDF94CA1F</td>\n",
       "      <td>2020-12-07 10:15:09</td>\n",
       "      <td>purchase</td>\n",
       "      <td>4.99</td>\n",
       "    </tr>\n",
       "    <tr>\n",
       "      <th>...</th>\n",
       "      <td>...</td>\n",
       "      <td>...</td>\n",
       "      <td>...</td>\n",
       "      <td>...</td>\n",
       "    </tr>\n",
       "    <tr>\n",
       "      <th>440312</th>\n",
       "      <td>245E85F65C358E08</td>\n",
       "      <td>2020-12-30 19:35:55</td>\n",
       "      <td>login</td>\n",
       "      <td>NaN</td>\n",
       "    </tr>\n",
       "    <tr>\n",
       "      <th>440313</th>\n",
       "      <td>9385A108F5A0A7A7</td>\n",
       "      <td>2020-12-30 10:54:15</td>\n",
       "      <td>login</td>\n",
       "      <td>NaN</td>\n",
       "    </tr>\n",
       "    <tr>\n",
       "      <th>440314</th>\n",
       "      <td>DB650B7559AC6EAC</td>\n",
       "      <td>2020-12-30 10:59:09</td>\n",
       "      <td>login</td>\n",
       "      <td>NaN</td>\n",
       "    </tr>\n",
       "    <tr>\n",
       "      <th>440315</th>\n",
       "      <td>F80C9BDDEA02E53C</td>\n",
       "      <td>2020-12-30 09:53:39</td>\n",
       "      <td>login</td>\n",
       "      <td>NaN</td>\n",
       "    </tr>\n",
       "    <tr>\n",
       "      <th>440316</th>\n",
       "      <td>7AEC61159B672CC5</td>\n",
       "      <td>2020-12-30 11:36:13</td>\n",
       "      <td>login</td>\n",
       "      <td>NaN</td>\n",
       "    </tr>\n",
       "  </tbody>\n",
       "</table>\n",
       "<p>440317 rows × 4 columns</p>\n",
       "</div>"
      ],
      "text/plain": [
       "                 user_id             event_dt event_name  details\n",
       "0       E1BDDCE0DAFA2679  2020-12-07 20:22:03   purchase    99.99\n",
       "1       7B6452F081F49504  2020-12-07 09:22:53   purchase     9.99\n",
       "2       9CD9F34546DF254C  2020-12-07 12:59:29   purchase     4.99\n",
       "3       96F27A054B191457  2020-12-07 04:02:40   purchase     4.99\n",
       "4       1FD7660FDF94CA1F  2020-12-07 10:15:09   purchase     4.99\n",
       "...                  ...                  ...        ...      ...\n",
       "440312  245E85F65C358E08  2020-12-30 19:35:55      login      NaN\n",
       "440313  9385A108F5A0A7A7  2020-12-30 10:54:15      login      NaN\n",
       "440314  DB650B7559AC6EAC  2020-12-30 10:59:09      login      NaN\n",
       "440315  F80C9BDDEA02E53C  2020-12-30 09:53:39      login      NaN\n",
       "440316  7AEC61159B672CC5  2020-12-30 11:36:13      login      NaN\n",
       "\n",
       "[440317 rows x 4 columns]"
      ]
     },
     "metadata": {},
     "output_type": "display_data"
    },
    {
     "name": "stdout",
     "output_type": "stream",
     "text": [
      "<class 'pandas.core.frame.DataFrame'>\n",
      "RangeIndex: 440317 entries, 0 to 440316\n",
      "Data columns (total 4 columns):\n",
      " #   Column      Non-Null Count   Dtype  \n",
      "---  ------      --------------   -----  \n",
      " 0   user_id     440317 non-null  object \n",
      " 1   event_dt    440317 non-null  object \n",
      " 2   event_name  440317 non-null  object \n",
      " 3   details     62740 non-null   float64\n",
      "dtypes: float64(1), object(3)\n",
      "memory usage: 13.4+ MB\n"
     ]
    }
   ],
   "source": [
    "events = pd.read_csv('/datasets/final_ab_events.csv')\n",
    "display(events)\n",
    "events.info()"
   ]
  },
  {
   "cell_type": "markdown",
   "metadata": {},
   "source": [
    "Видим, что в столбце details  большая часть данных - пропуски. Эти пропуски могут быть связаны с тем, что рассматироваемый тип события не имеет какой-то дополнительной информации. Оставим эти пропуски, в дальнейшем этот стобец не планируем использовать "
   ]
  },
  {
   "cell_type": "code",
   "execution_count": 5,
   "metadata": {},
   "outputs": [
    {
     "data": {
      "text/plain": [
       "array(['purchase', 'product_cart', 'product_page', 'login'], dtype=object)"
      ]
     },
     "execution_count": 5,
     "metadata": {},
     "output_type": "execute_result"
    }
   ],
   "source": [
    "# посмотрим уникальные значения для event_name\n",
    "events.event_name.unique()"
   ]
  },
  {
   "cell_type": "code",
   "execution_count": 6,
   "metadata": {},
   "outputs": [],
   "source": [
    "# Изменим тип для столбцов с датами\n",
    "events['event_dt'] = pd.to_datetime(events['event_dt'])"
   ]
  },
  {
   "cell_type": "code",
   "execution_count": 7,
   "metadata": {},
   "outputs": [
    {
     "data": {
      "text/plain": [
       "0"
      ]
     },
     "execution_count": 7,
     "metadata": {},
     "output_type": "execute_result"
    }
   ],
   "source": [
    "# проверим дубликаты \n",
    "events.duplicated().sum()"
   ]
  },
  {
   "cell_type": "code",
   "execution_count": 8,
   "metadata": {},
   "outputs": [
    {
     "data": {
      "text/html": [
       "<div>\n",
       "<style scoped>\n",
       "    .dataframe tbody tr th:only-of-type {\n",
       "        vertical-align: middle;\n",
       "    }\n",
       "\n",
       "    .dataframe tbody tr th {\n",
       "        vertical-align: top;\n",
       "    }\n",
       "\n",
       "    .dataframe thead th {\n",
       "        text-align: right;\n",
       "    }\n",
       "</style>\n",
       "<table border=\"1\" class=\"dataframe\">\n",
       "  <thead>\n",
       "    <tr style=\"text-align: right;\">\n",
       "      <th></th>\n",
       "      <th>user_id</th>\n",
       "      <th>first_date</th>\n",
       "      <th>region</th>\n",
       "      <th>device</th>\n",
       "    </tr>\n",
       "  </thead>\n",
       "  <tbody>\n",
       "    <tr>\n",
       "      <th>0</th>\n",
       "      <td>D72A72121175D8BE</td>\n",
       "      <td>2020-12-07</td>\n",
       "      <td>EU</td>\n",
       "      <td>PC</td>\n",
       "    </tr>\n",
       "    <tr>\n",
       "      <th>1</th>\n",
       "      <td>F1C668619DFE6E65</td>\n",
       "      <td>2020-12-07</td>\n",
       "      <td>N.America</td>\n",
       "      <td>Android</td>\n",
       "    </tr>\n",
       "    <tr>\n",
       "      <th>2</th>\n",
       "      <td>2E1BF1D4C37EA01F</td>\n",
       "      <td>2020-12-07</td>\n",
       "      <td>EU</td>\n",
       "      <td>PC</td>\n",
       "    </tr>\n",
       "    <tr>\n",
       "      <th>3</th>\n",
       "      <td>50734A22C0C63768</td>\n",
       "      <td>2020-12-07</td>\n",
       "      <td>EU</td>\n",
       "      <td>iPhone</td>\n",
       "    </tr>\n",
       "    <tr>\n",
       "      <th>4</th>\n",
       "      <td>E1BDDCE0DAFA2679</td>\n",
       "      <td>2020-12-07</td>\n",
       "      <td>N.America</td>\n",
       "      <td>iPhone</td>\n",
       "    </tr>\n",
       "    <tr>\n",
       "      <th>...</th>\n",
       "      <td>...</td>\n",
       "      <td>...</td>\n",
       "      <td>...</td>\n",
       "      <td>...</td>\n",
       "    </tr>\n",
       "    <tr>\n",
       "      <th>61728</th>\n",
       "      <td>1DB53B933257165D</td>\n",
       "      <td>2020-12-20</td>\n",
       "      <td>EU</td>\n",
       "      <td>Android</td>\n",
       "    </tr>\n",
       "    <tr>\n",
       "      <th>61729</th>\n",
       "      <td>538643EB4527ED03</td>\n",
       "      <td>2020-12-20</td>\n",
       "      <td>EU</td>\n",
       "      <td>Mac</td>\n",
       "    </tr>\n",
       "    <tr>\n",
       "      <th>61730</th>\n",
       "      <td>7ADEE837D5D8CBBD</td>\n",
       "      <td>2020-12-20</td>\n",
       "      <td>EU</td>\n",
       "      <td>PC</td>\n",
       "    </tr>\n",
       "    <tr>\n",
       "      <th>61731</th>\n",
       "      <td>1C7D23927835213F</td>\n",
       "      <td>2020-12-20</td>\n",
       "      <td>EU</td>\n",
       "      <td>iPhone</td>\n",
       "    </tr>\n",
       "    <tr>\n",
       "      <th>61732</th>\n",
       "      <td>8F04273BB2860229</td>\n",
       "      <td>2020-12-20</td>\n",
       "      <td>EU</td>\n",
       "      <td>Android</td>\n",
       "    </tr>\n",
       "  </tbody>\n",
       "</table>\n",
       "<p>61733 rows × 4 columns</p>\n",
       "</div>"
      ],
      "text/plain": [
       "                user_id  first_date     region   device\n",
       "0      D72A72121175D8BE  2020-12-07         EU       PC\n",
       "1      F1C668619DFE6E65  2020-12-07  N.America  Android\n",
       "2      2E1BF1D4C37EA01F  2020-12-07         EU       PC\n",
       "3      50734A22C0C63768  2020-12-07         EU   iPhone\n",
       "4      E1BDDCE0DAFA2679  2020-12-07  N.America   iPhone\n",
       "...                 ...         ...        ...      ...\n",
       "61728  1DB53B933257165D  2020-12-20         EU  Android\n",
       "61729  538643EB4527ED03  2020-12-20         EU      Mac\n",
       "61730  7ADEE837D5D8CBBD  2020-12-20         EU       PC\n",
       "61731  1C7D23927835213F  2020-12-20         EU   iPhone\n",
       "61732  8F04273BB2860229  2020-12-20         EU  Android\n",
       "\n",
       "[61733 rows x 4 columns]"
      ]
     },
     "metadata": {},
     "output_type": "display_data"
    },
    {
     "name": "stdout",
     "output_type": "stream",
     "text": [
      "<class 'pandas.core.frame.DataFrame'>\n",
      "RangeIndex: 61733 entries, 0 to 61732\n",
      "Data columns (total 4 columns):\n",
      " #   Column      Non-Null Count  Dtype \n",
      "---  ------      --------------  ----- \n",
      " 0   user_id     61733 non-null  object\n",
      " 1   first_date  61733 non-null  object\n",
      " 2   region      61733 non-null  object\n",
      " 3   device      61733 non-null  object\n",
      "dtypes: object(4)\n",
      "memory usage: 1.9+ MB\n"
     ]
    }
   ],
   "source": [
    "new_users = pd.read_csv('/datasets/final_ab_new_users.csv')\n",
    "display(new_users)\n",
    "new_users.info()"
   ]
  },
  {
   "cell_type": "code",
   "execution_count": 9,
   "metadata": {},
   "outputs": [
    {
     "data": {
      "text/plain": [
       "array(['EU', 'N.America', 'APAC', 'CIS'], dtype=object)"
      ]
     },
     "execution_count": 9,
     "metadata": {},
     "output_type": "execute_result"
    }
   ],
   "source": [
    "# посмотрим уникальные значения для region\n",
    "\n",
    "new_users.region.unique()"
   ]
  },
  {
   "cell_type": "code",
   "execution_count": 10,
   "metadata": {},
   "outputs": [
    {
     "data": {
      "text/plain": [
       "array(['PC', 'Android', 'iPhone', 'Mac'], dtype=object)"
      ]
     },
     "execution_count": 10,
     "metadata": {},
     "output_type": "execute_result"
    }
   ],
   "source": [
    "# посмотрим уникальные значения для device\n",
    "\n",
    "new_users.device.unique()"
   ]
  },
  {
   "cell_type": "code",
   "execution_count": 11,
   "metadata": {},
   "outputs": [],
   "source": [
    "# Изменим тип для столбцов с датами\n",
    "new_users.first_date = pd.to_datetime(new_users.first_date)"
   ]
  },
  {
   "cell_type": "code",
   "execution_count": 12,
   "metadata": {},
   "outputs": [
    {
     "data": {
      "text/plain": [
       "0"
      ]
     },
     "execution_count": 12,
     "metadata": {},
     "output_type": "execute_result"
    }
   ],
   "source": [
    "# проверим дубликаты \n",
    "new_users.duplicated().sum()"
   ]
  },
  {
   "cell_type": "code",
   "execution_count": 13,
   "metadata": {},
   "outputs": [
    {
     "data": {
      "text/html": [
       "<div>\n",
       "<style scoped>\n",
       "    .dataframe tbody tr th:only-of-type {\n",
       "        vertical-align: middle;\n",
       "    }\n",
       "\n",
       "    .dataframe tbody tr th {\n",
       "        vertical-align: top;\n",
       "    }\n",
       "\n",
       "    .dataframe thead th {\n",
       "        text-align: right;\n",
       "    }\n",
       "</style>\n",
       "<table border=\"1\" class=\"dataframe\">\n",
       "  <thead>\n",
       "    <tr style=\"text-align: right;\">\n",
       "      <th></th>\n",
       "      <th>user_id</th>\n",
       "      <th>group</th>\n",
       "      <th>ab_test</th>\n",
       "    </tr>\n",
       "  </thead>\n",
       "  <tbody>\n",
       "    <tr>\n",
       "      <th>0</th>\n",
       "      <td>D1ABA3E2887B6A73</td>\n",
       "      <td>A</td>\n",
       "      <td>recommender_system_test</td>\n",
       "    </tr>\n",
       "    <tr>\n",
       "      <th>1</th>\n",
       "      <td>A7A3664BD6242119</td>\n",
       "      <td>A</td>\n",
       "      <td>recommender_system_test</td>\n",
       "    </tr>\n",
       "    <tr>\n",
       "      <th>2</th>\n",
       "      <td>DABC14FDDFADD29E</td>\n",
       "      <td>A</td>\n",
       "      <td>recommender_system_test</td>\n",
       "    </tr>\n",
       "    <tr>\n",
       "      <th>3</th>\n",
       "      <td>04988C5DF189632E</td>\n",
       "      <td>A</td>\n",
       "      <td>recommender_system_test</td>\n",
       "    </tr>\n",
       "    <tr>\n",
       "      <th>4</th>\n",
       "      <td>482F14783456D21B</td>\n",
       "      <td>B</td>\n",
       "      <td>recommender_system_test</td>\n",
       "    </tr>\n",
       "    <tr>\n",
       "      <th>...</th>\n",
       "      <td>...</td>\n",
       "      <td>...</td>\n",
       "      <td>...</td>\n",
       "    </tr>\n",
       "    <tr>\n",
       "      <th>18263</th>\n",
       "      <td>1D302F8688B91781</td>\n",
       "      <td>B</td>\n",
       "      <td>interface_eu_test</td>\n",
       "    </tr>\n",
       "    <tr>\n",
       "      <th>18264</th>\n",
       "      <td>3DE51B726983B657</td>\n",
       "      <td>A</td>\n",
       "      <td>interface_eu_test</td>\n",
       "    </tr>\n",
       "    <tr>\n",
       "      <th>18265</th>\n",
       "      <td>F501F79D332BE86C</td>\n",
       "      <td>A</td>\n",
       "      <td>interface_eu_test</td>\n",
       "    </tr>\n",
       "    <tr>\n",
       "      <th>18266</th>\n",
       "      <td>63FBE257B05F2245</td>\n",
       "      <td>A</td>\n",
       "      <td>interface_eu_test</td>\n",
       "    </tr>\n",
       "    <tr>\n",
       "      <th>18267</th>\n",
       "      <td>79F9ABFB029CF724</td>\n",
       "      <td>B</td>\n",
       "      <td>interface_eu_test</td>\n",
       "    </tr>\n",
       "  </tbody>\n",
       "</table>\n",
       "<p>18268 rows × 3 columns</p>\n",
       "</div>"
      ],
      "text/plain": [
       "                user_id group                  ab_test\n",
       "0      D1ABA3E2887B6A73     A  recommender_system_test\n",
       "1      A7A3664BD6242119     A  recommender_system_test\n",
       "2      DABC14FDDFADD29E     A  recommender_system_test\n",
       "3      04988C5DF189632E     A  recommender_system_test\n",
       "4      482F14783456D21B     B  recommender_system_test\n",
       "...                 ...   ...                      ...\n",
       "18263  1D302F8688B91781     B        interface_eu_test\n",
       "18264  3DE51B726983B657     A        interface_eu_test\n",
       "18265  F501F79D332BE86C     A        interface_eu_test\n",
       "18266  63FBE257B05F2245     A        interface_eu_test\n",
       "18267  79F9ABFB029CF724     B        interface_eu_test\n",
       "\n",
       "[18268 rows x 3 columns]"
      ]
     },
     "metadata": {},
     "output_type": "display_data"
    },
    {
     "name": "stdout",
     "output_type": "stream",
     "text": [
      "<class 'pandas.core.frame.DataFrame'>\n",
      "RangeIndex: 18268 entries, 0 to 18267\n",
      "Data columns (total 3 columns):\n",
      " #   Column   Non-Null Count  Dtype \n",
      "---  ------   --------------  ----- \n",
      " 0   user_id  18268 non-null  object\n",
      " 1   group    18268 non-null  object\n",
      " 2   ab_test  18268 non-null  object\n",
      "dtypes: object(3)\n",
      "memory usage: 428.3+ KB\n"
     ]
    }
   ],
   "source": [
    "participants = pd.read_csv('/datasets/final_ab_participants.csv')\n",
    "display(participants)\n",
    "participants.info()"
   ]
  },
  {
   "cell_type": "code",
   "execution_count": 14,
   "metadata": {},
   "outputs": [
    {
     "data": {
      "text/plain": [
       "0"
      ]
     },
     "execution_count": 14,
     "metadata": {},
     "output_type": "execute_result"
    }
   ],
   "source": [
    "# проверим дубликаты\n",
    "participants.duplicated().sum()"
   ]
  },
  {
   "cell_type": "markdown",
   "metadata": {},
   "source": [
    "**Выводы:**\n",
    "- данные загружены\n",
    "- явных строк-дубликатов в датасетах не обнаружно, в уникальных значений категориальных столбцов неявных дубликатов не обнаружено\n",
    "- типы данных приведены к нужным\n",
    "- в таблице events  в столбце details  большая часть данных - пропуски. Эти пропуски могут быть связаны с тем, что рассматироваемый тип события не имеет какой-то дополнительной информации. Оставили эти пропуски, в дальнейшем этот стобец не планируем использовать "
   ]
  },
  {
   "cell_type": "markdown",
   "metadata": {},
   "source": [
    "## Оценка корректности проведения теста"
   ]
  },
  {
   "cell_type": "code",
   "execution_count": 15,
   "metadata": {
    "scrolled": true
   },
   "outputs": [
    {
     "data": {
      "text/plain": [
       "array(['recommender_system_test', 'interface_eu_test'], dtype=object)"
      ]
     },
     "execution_count": 15,
     "metadata": {},
     "output_type": "execute_result"
    }
   ],
   "source": [
    "participants.ab_test.unique()"
   ]
  },
  {
   "cell_type": "markdown",
   "metadata": {},
   "source": [
    "Видим, что в таблице участников есть информация по двум тестам: recommender_system_test и interface_eu_test. Нас же интересует recommender_system_test "
   ]
  },
  {
   "cell_type": "code",
   "execution_count": 16,
   "metadata": {},
   "outputs": [
    {
     "data": {
      "text/plain": [
       "array(['A', 'B'], dtype=object)"
      ]
     },
     "execution_count": 16,
     "metadata": {},
     "output_type": "execute_result"
    }
   ],
   "source": [
    "participants.query('ab_test == \"recommender_system_test\"').group.unique()"
   ]
  },
  {
   "cell_type": "markdown",
   "metadata": {},
   "source": [
    "Для recommender_system_test есть две группы: А и В, это соответствует техзаданию."
   ]
  },
  {
   "cell_type": "code",
   "execution_count": 17,
   "metadata": {},
   "outputs": [
    {
     "name": "stdout",
     "output_type": "stream",
     "text": [
      "<class 'pandas.core.frame.DataFrame'>\n",
      "RangeIndex: 440317 entries, 0 to 440316\n",
      "Data columns (total 4 columns):\n",
      " #   Column      Non-Null Count   Dtype         \n",
      "---  ------      --------------   -----         \n",
      " 0   user_id     440317 non-null  object        \n",
      " 1   event_dt    440317 non-null  datetime64[ns]\n",
      " 2   event_name  440317 non-null  object        \n",
      " 3   details     62740 non-null   float64       \n",
      "dtypes: datetime64[ns](1), float64(1), object(2)\n",
      "memory usage: 13.4+ MB\n"
     ]
    }
   ],
   "source": [
    "events.info()"
   ]
  },
  {
   "cell_type": "code",
   "execution_count": 18,
   "metadata": {},
   "outputs": [
    {
     "name": "stdout",
     "output_type": "stream",
     "text": [
      "Минимальная дата (дата запуска): 2020-12-07\n",
      "Максимальная дата (дата остановки): 2020-12-30\n"
     ]
    }
   ],
   "source": [
    "print('Минимальная дата (дата запуска):',events.event_dt.dt.date.min())\n",
    "print('Максимальная дата (дата остановки):',events.event_dt.dt.date.max())"
   ]
  },
  {
   "cell_type": "markdown",
   "metadata": {},
   "source": [
    "Видим, что дата запуска соответсвует критериям техзадания. **Дата остановки не соотвествует** - тест закончился 2020-12-30, хотя в техзадании говорится про 2021-01-04. Так как тест закончился на 5 дней раньше - последние зарегистрированные пользователи провели в приложении меньше 14 дней - что также противоречит условиям ТЗ"
   ]
  },
  {
   "cell_type": "code",
   "execution_count": 19,
   "metadata": {
    "scrolled": false
   },
   "outputs": [],
   "source": [
    "# создадим множество пользователей - участников recommender_system_test\n",
    "recsys_participants = set(participants.query('ab_test == \"recommender_system_test\"').user_id.unique())\n",
    "# создадим соответствующий датафрейм \n",
    "new_users_recsys = new_users.query('user_id in @recsys_participants')"
   ]
  },
  {
   "cell_type": "code",
   "execution_count": 20,
   "metadata": {},
   "outputs": [
    {
     "name": "stdout",
     "output_type": "stream",
     "text": [
      "Дата начала набора новых пользователей: 2020-12-07 00:00:00\n",
      "Дата окончания набора новых пользователей: 2020-12-21 00:00:00\n"
     ]
    }
   ],
   "source": [
    "print('Дата начала набора новых пользователей:',new_users_recsys.first_date.min())\n",
    "print('Дата окончания набора новых пользователей:',new_users_recsys.first_date.max())"
   ]
  },
  {
   "cell_type": "markdown",
   "metadata": {},
   "source": [
    "Дата окончания набора новых пользователей  **соответствует** требованию техзадания. Набор продолжался до 21 декабря, что соответствует ТЗ. "
   ]
  },
  {
   "cell_type": "code",
   "execution_count": 21,
   "metadata": {},
   "outputs": [
    {
     "data": {
      "text/plain": [
       "0.14"
      ]
     },
     "execution_count": 21,
     "metadata": {},
     "output_type": "execute_result"
    }
   ],
   "source": [
    "# посчитаем долю юзеров из EU, попадающих в нужный тест относительно общего количества юзеров из  EU\n",
    "round(new_users_recsys.query('region == \"EU\" ').user_id.count() / \\\n",
    "    new_users.query('region == \"EU\"').user_id.count(),2)\n"
   ]
  },
  {
   "cell_type": "markdown",
   "metadata": {},
   "source": [
    "Здесь все почти соотвествует техзаданию. Аудитория теста - 14% новых пользователей из региона EU"
   ]
  },
  {
   "cell_type": "code",
   "execution_count": 22,
   "metadata": {},
   "outputs": [
    {
     "data": {
      "text/plain": [
       "EU           6351\n",
       "N.America     223\n",
       "APAC           72\n",
       "CIS            55\n",
       "Name: region, dtype: int64"
      ]
     },
     "execution_count": 22,
     "metadata": {},
     "output_type": "execute_result"
    }
   ],
   "source": [
    "new_users_recsys.region.value_counts()"
   ]
  },
  {
   "cell_type": "markdown",
   "metadata": {},
   "source": [
    "Видим, что из новых пользователей участников recommender_system_test есть помимо EU встречаются другие регионы"
   ]
  },
  {
   "cell_type": "code",
   "execution_count": 23,
   "metadata": {},
   "outputs": [
    {
     "data": {
      "text/plain": [
       "6351"
      ]
     },
     "execution_count": 23,
     "metadata": {},
     "output_type": "execute_result"
    }
   ],
   "source": [
    "new_users_recsys.query('region == \"EU\"').user_id.count()"
   ]
  },
  {
   "cell_type": "markdown",
   "metadata": {},
   "source": [
    "Количество участников несколько выше, чем в требовании ТЗ, но не критично. "
   ]
  },
  {
   "cell_type": "code",
   "execution_count": 24,
   "metadata": {},
   "outputs": [],
   "source": [
    "start_date = events.event_dt.dt.date.min()\n",
    "end_date = events.event_dt.dt.date.max()"
   ]
  },
  {
   "cell_type": "code",
   "execution_count": 25,
   "metadata": {
    "scrolled": false
   },
   "outputs": [
    {
     "data": {
      "text/html": [
       "<div>\n",
       "<style scoped>\n",
       "    .dataframe tbody tr th:only-of-type {\n",
       "        vertical-align: middle;\n",
       "    }\n",
       "\n",
       "    .dataframe tbody tr th {\n",
       "        vertical-align: top;\n",
       "    }\n",
       "\n",
       "    .dataframe thead th {\n",
       "        text-align: right;\n",
       "    }\n",
       "</style>\n",
       "<table border=\"1\" class=\"dataframe\">\n",
       "  <thead>\n",
       "    <tr style=\"text-align: right;\">\n",
       "      <th></th>\n",
       "      <th>name</th>\n",
       "      <th>regions</th>\n",
       "      <th>start_dt</th>\n",
       "      <th>finish_dt</th>\n",
       "    </tr>\n",
       "  </thead>\n",
       "  <tbody>\n",
       "    <tr>\n",
       "      <th>0</th>\n",
       "      <td>Christmas&amp;New Year Promo</td>\n",
       "      <td>EU, N.America</td>\n",
       "      <td>2020-12-25</td>\n",
       "      <td>2021-01-03</td>\n",
       "    </tr>\n",
       "  </tbody>\n",
       "</table>\n",
       "</div>"
      ],
      "text/plain": [
       "                       name        regions   start_dt  finish_dt\n",
       "0  Christmas&New Year Promo  EU, N.America 2020-12-25 2021-01-03"
      ]
     },
     "execution_count": 25,
     "metadata": {},
     "output_type": "execute_result"
    }
   ],
   "source": [
    "# Убедимся, что время проведения теста не не совпадает с маркетинговыми активностями, проводимыми в регионе EU\n",
    "marketing_events.query('''\n",
    "\n",
    "        regions.str.contains(\"EU\") and\\\n",
    "        (start_dt<@start_date and finish_dt>@end_date or\\\n",
    "        start_dt>@start_date and start_dt<@end_date and finish_dt>@end_date or\\\n",
    "        start_dt<@start_date and finish_dt > @start_date and  finish_dt<@end_date )\n",
    "\n",
    "                        ''' )"
   ]
  },
  {
   "cell_type": "markdown",
   "metadata": {},
   "source": [
    "Здесь видим, что маркетинговая кампания \"Christmas&New Year Promo\" началась за 5 дней до даты остановки теста. Проведение данной акции может влиять на результаты проводимого А/В теста и, соотсетственно, привести к неправильным выводам. "
   ]
  },
  {
   "cell_type": "markdown",
   "metadata": {},
   "source": [
    "Проверим аудиторию теста. Удостоверимся, что нет пересечений с конкурирующим тестом и нет пользователей, участвующих в двух группах теста одновременно. Проверим равномерность распределения по тестовым группам и правильность их формирования."
   ]
  },
  {
   "cell_type": "code",
   "execution_count": 26,
   "metadata": {},
   "outputs": [],
   "source": [
    "# Для удобства объеденим датасет с участниками тестирования с датасетом новых пользователей.\n",
    "# Будем использовать inner join. Таким образом, останутся только те участники, которые есть в таблице с новыми пользователями\n",
    "participants = participants.merge(new_users, on='user_id')\n",
    "# Также обросим пользователей не из региона EU\n",
    "participants = participants.query('region == \"EU\"')"
   ]
  },
  {
   "cell_type": "code",
   "execution_count": 27,
   "metadata": {},
   "outputs": [
    {
     "data": {
      "text/plain": [
       "interface_eu_test          11567\n",
       "recommender_system_test     6351\n",
       "Name: ab_test, dtype: int64"
      ]
     },
     "execution_count": 27,
     "metadata": {},
     "output_type": "execute_result"
    }
   ],
   "source": [
    "# посмотрим сколько пользователей принимали участие в двух тестах\n",
    "participants.ab_test.value_counts()"
   ]
  },
  {
   "cell_type": "code",
   "execution_count": 28,
   "metadata": {},
   "outputs": [
    {
     "name": "stdout",
     "output_type": "stream",
     "text": [
      "Количесво пользователей, учавcтсвующих одновременно в двух тестах: 1602\n"
     ]
    }
   ],
   "source": [
    "print('Количесво пользователей, учавcтсвующих одновременно в двух тестах:',\n",
    "      len(set(participants.query('ab_test == \"recommender_system_test\"'\n",
    "                                    )['user_id']) & set(participants.query('ab_test == \"interface_eu_test\"')['user_id'])\n",
    "          )\n",
    "      )\n"
   ]
  },
  {
   "cell_type": "markdown",
   "metadata": {},
   "source": [
    "Видим, что у нас есть пользователи, которые одновременно участвуют в двух разных А/В тестах - это может привести к некорректным результатам, поскольку мы не знаем изменения какого из тестов повлияли на поведение пользователей. Для получения независимых результатов тестирования и корректных выводов отбросим пользователей recommender_system_test, которые попадают в группу В (группа с изменением) конкурирующего теста."
   ]
  },
  {
   "cell_type": "code",
   "execution_count": 29,
   "metadata": {},
   "outputs": [],
   "source": [
    "good_set = (set(participants.query('ab_test == \"recommender_system_test\"'\n",
    "                                   )['user_id']) - set(participants.query('ab_test == \"interface_eu_test\" and group == \"B\"')['user_id']))\n",
    "participants_recsys = participants.query(\n",
    "    \"user_id in @good_set and ab_test == 'recommender_system_test'\").reset_index(drop=True)\n"
   ]
  },
  {
   "cell_type": "code",
   "execution_count": 30,
   "metadata": {},
   "outputs": [
    {
     "data": {
      "text/plain": [
       "(5568, 6)"
      ]
     },
     "execution_count": 30,
     "metadata": {},
     "output_type": "execute_result"
    }
   ],
   "source": [
    "participants_recsys.shape"
   ]
  },
  {
   "cell_type": "markdown",
   "metadata": {},
   "source": [
    "Оставили в итоговом датафрейме только 5568 независимых пользователей, что несколько меньше требованиям ТЗ"
   ]
  },
  {
   "cell_type": "code",
   "execution_count": 31,
   "metadata": {},
   "outputs": [
    {
     "name": "stdout",
     "output_type": "stream",
     "text": [
      "Количесво пользователей, учавтсвующих одновременно в двух тестах: 0\n"
     ]
    }
   ],
   "source": [
    "# Проверим, нет ли у нас пользователей, участвующих в двух группах теста одновременно\n",
    "print('Количесво пользователей, учавтсвующих одновременно в двух тестах:',\n",
    "      len(set(participants_recsys.query('group == \"A\"')['user_id']) & set(participants_recsys.query('group == \"B\"')['user_id'])\n",
    "          )\n",
    "      )\n"
   ]
  },
  {
   "cell_type": "markdown",
   "metadata": {},
   "source": [
    "Здесь все хорошо, группы А и В не пересекаются"
   ]
  },
  {
   "cell_type": "markdown",
   "metadata": {},
   "source": [
    "Количество участников несколько выше, чем в требовании ТЗ, но не критично. "
   ]
  },
  {
   "cell_type": "code",
   "execution_count": 32,
   "metadata": {},
   "outputs": [
    {
     "data": {
      "text/plain": [
       "A    3195\n",
       "B    2373\n",
       "Name: group, dtype: int64"
      ]
     },
     "execution_count": 32,
     "metadata": {},
     "output_type": "execute_result"
    }
   ],
   "source": [
    "# посмотрим сколько пользователей в каждой из групп\n",
    "participants_recsys.group.value_counts()\n"
   ]
  },
  {
   "cell_type": "markdown",
   "metadata": {},
   "source": [
    "В группе А пользователей больше чем в группе В - это не совсем правильно. Такая несбалансированность может сказаться при сравнении количества действий пользователей. Однако, на оценку таких относительнх метрик как конверсия несбалансированнсть групп не должна повлиять "
   ]
  },
  {
   "cell_type": "markdown",
   "metadata": {},
   "source": [
    "**Выводы**:\n",
    "- Видим, что дата запуска соответсвует критериям ТЗ. **Дата остановки не соотвествует** - тест закончился 2020-12-30, хотя в техзадании говорится про 2021-01-04\n",
    "- Дата окончания набора новых пользователей  **соответствует** требованию техзадания. \n",
    "- Аудитория теста - 14% новых пользователей из региона EU\n",
    "- Маркетинговая кампания \"Christmas&New Year Promo\" началась за 5 дней до даты остановки теста. Проведение данной акции может влиять на результаты проводимого А/В теста и, соотсетственно, привести к неправильным выводам. Будем аккуратны с действиями полозователей в последнии 5 дней теста.\n",
    "- Есть пользователи, которые одновременно участвуют в двух разных А/В тестах - это может привести к некорректным результатам, поскольку мы не знаем изменения какого из тестов повлияли на поведение пользователей. Для получения независимых результатов тестирования и корректных выводов отбросили пользователей recommender_system_test, которые попадают в группу В (группа с изменением) конкурирующего теста.\n",
    "- Оставили в итоговом датафрейме только 5568 независимых пользователей\n",
    "- Для теста recommender_system_test нет пользователей, участвующих в двух группах теста одновременно\n",
    "- В группе А содержится 3195 пользователей, в группе В 2373\n"
   ]
  },
  {
   "cell_type": "markdown",
   "metadata": {},
   "source": [
    "### Исследовательский анализ данных"
   ]
  },
  {
   "cell_type": "markdown",
   "metadata": {},
   "source": [
    "Посмотрим как количество событий на пользователя распределены в выборках А/В теста "
   ]
  },
  {
   "cell_type": "code",
   "execution_count": 33,
   "metadata": {},
   "outputs": [],
   "source": [
    "# создадим датафрейм с событиями, которые совершали интересующие нас пользователи из теста recommender_system_test\n",
    "events_recsys = events.query('user_id in @good_set').reset_index(drop=True)\n",
    "# создадим столбец дат\n",
    "events_recsys['date'] = events_recsys['event_dt'].dt.date\n",
    "\n",
    "# добавим столбец с группами А и В\n",
    "events_recsys = events_recsys.merge(\n",
    "    participants_recsys[['user_id', 'group']], on='user_id')\n"
   ]
  },
  {
   "cell_type": "code",
   "execution_count": 34,
   "metadata": {},
   "outputs": [
    {
     "data": {
      "image/png": "[encoded data removed]",
      "text/plain": [
       "<Figure size 1224x360 with 1 Axes>"
      ]
     },
     "metadata": {
      "needs_background": "light"
     },
     "output_type": "display_data"
    }
   ],
   "source": [
    "# Построим бокс-плоты количества событий на пользователя для соответствующих групп\n",
    "plt.figure(figsize=(17, 5))\n",
    "\n",
    "sns.boxplot(y=\"group\", x=\"event_name\",  data=events_recsys.groupby(\n",
    "    ['user_id', 'group'], as_index=False).event_name.count())\n",
    "\n",
    "plt.title(\n",
    "    'Распределение количества событий на пользователя для групп A/B теста', fontsize=14);\n"
   ]
  },
  {
   "cell_type": "markdown",
   "metadata": {},
   "source": [
    "Видим, что количество событий на пользователя распределены несколько по-разному в выборках А/В теста. Пользователи группы А совершают в среднем 7 событий, пользователи группы B в среднем совершают 5 событий. В целом распредения для группы В смещены в область низких значений количества событий"
   ]
  },
  {
   "cell_type": "code",
   "execution_count": 35,
   "metadata": {},
   "outputs": [
    {
     "data": {
      "image/png": "[encoded data removed]",
      "text/plain": [
       "<Figure size 936x360 with 1 Axes>"
      ]
     },
     "metadata": {},
     "output_type": "display_data"
    }
   ],
   "source": [
    "# Посмотрим на распределения пользовательских событий по датам \n",
    "\n",
    "sns.set_theme(style=\"whitegrid\")\n",
    "\n",
    "plt.figure(figsize=(13, 5))\n",
    "\n",
    "sns.histplot(data=events_recsys,\n",
    "             x='date', \n",
    "             hue='group'  \n",
    "             )\n",
    "plt.xlim(events_recsys['date'].min(), events_recsys['event_dt'].max())\n",
    "plt.title('Распределение событий по дням для групп A/B теста', fontsize=14);\n"
   ]
  },
  {
   "cell_type": "code",
   "execution_count": 36,
   "metadata": {
    "scrolled": false
   },
   "outputs": [
    {
     "data": {
      "image/png": "[encoded data removed]",
      "text/plain": [
       "<Figure size 936x360 with 1 Axes>"
      ]
     },
     "metadata": {},
     "output_type": "display_data"
    },
    {
     "data": {
      "image/png": "[encoded data removed]",
      "text/plain": [
       "<Figure size 936x360 with 1 Axes>"
      ]
     },
     "metadata": {},
     "output_type": "display_data"
    },
    {
     "data": {
      "image/png": "[encoded data removed]",
      "text/plain": [
       "<Figure size 936x360 with 1 Axes>"
      ]
     },
     "metadata": {},
     "output_type": "display_data"
    },
    {
     "data": {
      "image/png": "[encoded data removed]",
      "text/plain": [
       "<Figure size 936x360 with 1 Axes>"
      ]
     },
     "metadata": {},
     "output_type": "display_data"
    }
   ],
   "source": [
    "# Также посмотрим распределения по датам  с разбивкой по типу события\n",
    "for ev in events_recsys.event_name.unique():\n",
    "    plt.figure(figsize=(13, 5))\n",
    "\n",
    "    sns.histplot(data=events_recsys.query('event_name == @ev'),\n",
    "             x='date', \n",
    "             hue='group'  \n",
    "             )\n",
    "\n",
    "    plt.xlim(events_recsys['date'].min(), events_recsys['event_dt'].max())\n",
    "    plt.title(f'Распределение событий по дням для групп A/B теста (события {ev})', fontsize=14);\n",
    "\n",
    "    plt.show()"
   ]
  },
  {
   "cell_type": "markdown",
   "metadata": {},
   "source": [
    "В распределении по дням пользователи двух групп также ведут себя по разному: пользователи группы В совершают меньше событий. Видим, что в начале теста активность пользователей находится на одном уровне, однако после 13 декабря активность пользователей группы А резко возрастает. После 21 декабря и до конца теста активность двух групп начинает снижаться. В последние 5 дней теста (когда начали маркетинговую кампанию \"Christmas&New Year Promo\") не отмечается каких-то явных изменений пользовательской активности"
   ]
  },
  {
   "cell_type": "code",
   "execution_count": 37,
   "metadata": {},
   "outputs": [
    {
     "data": {
      "image/png": "[encoded data removed]",
      "text/plain": [
       "<Figure size 936x360 with 1 Axes>"
      ]
     },
     "metadata": {},
     "output_type": "display_data"
    }
   ],
   "source": [
    "# Посмотрим на распределения регистраций новых пользователей по датам \n",
    "\n",
    "sns.set_theme(style=\"whitegrid\")\n",
    "\n",
    "plt.figure(figsize=(13, 5))\n",
    "\n",
    "sns.histplot(data=participants,\n",
    "             x='first_date', \n",
    "             hue='group'  \n",
    "             )\n",
    "plt.title('Распределение регистраций новых пользователей по дням для групп A/B теста', fontsize=14);\n"
   ]
  },
  {
   "cell_type": "markdown",
   "metadata": {},
   "source": [
    "Здесь видим, что регистрации новых пользователей распределены по дням похоже. Видим, что на 21 декабря приходится максимальное количество новых пользователей - с этим скорее всего связан пик пользовательской активности на графиках с распределением событий по дням"
   ]
  },
  {
   "cell_type": "markdown",
   "metadata": {},
   "source": [
    "### Конверсия"
   ]
  },
  {
   "cell_type": "markdown",
   "metadata": {},
   "source": [
    "Поссмотрим как меняется конверсия в воронке в выборках на разных этапах.\n",
    "Согласно ТЗ, ожидаемый эффект: пользователи покажут улучшение конверсии в просмотр карточек товаров, просмотры корзины и покупки не менее, чем на 10%\n"
   ]
  },
  {
   "cell_type": "code",
   "execution_count": 38,
   "metadata": {},
   "outputs": [
    {
     "name": "stdout",
     "output_type": "stream",
     "text": [
      "Конверсия для группы А:\n"
     ]
    },
    {
     "data": {
      "text/html": [
       "<div>\n",
       "<style scoped>\n",
       "    .dataframe tbody tr th:only-of-type {\n",
       "        vertical-align: middle;\n",
       "    }\n",
       "\n",
       "    .dataframe tbody tr th {\n",
       "        vertical-align: top;\n",
       "    }\n",
       "\n",
       "    .dataframe thead th {\n",
       "        text-align: right;\n",
       "    }\n",
       "</style>\n",
       "<table border=\"1\" class=\"dataframe\">\n",
       "  <thead>\n",
       "    <tr style=\"text-align: right;\">\n",
       "      <th></th>\n",
       "      <th>user_id</th>\n",
       "    </tr>\n",
       "    <tr>\n",
       "      <th>event_name</th>\n",
       "      <th></th>\n",
       "    </tr>\n",
       "  </thead>\n",
       "  <tbody>\n",
       "    <tr>\n",
       "      <th>login</th>\n",
       "      <td>71.33</td>\n",
       "    </tr>\n",
       "    <tr>\n",
       "      <th>product_page</th>\n",
       "      <td>46.20</td>\n",
       "    </tr>\n",
       "    <tr>\n",
       "      <th>purchase</th>\n",
       "      <td>22.97</td>\n",
       "    </tr>\n",
       "    <tr>\n",
       "      <th>product_cart</th>\n",
       "      <td>21.47</td>\n",
       "    </tr>\n",
       "  </tbody>\n",
       "</table>\n",
       "</div>"
      ],
      "text/plain": [
       "              user_id\n",
       "event_name           \n",
       "login           71.33\n",
       "product_page    46.20\n",
       "purchase        22.97\n",
       "product_cart    21.47"
      ]
     },
     "metadata": {},
     "output_type": "display_data"
    },
    {
     "name": "stdout",
     "output_type": "stream",
     "text": [
      "Конверсия для группы B:\n"
     ]
    },
    {
     "data": {
      "text/html": [
       "<div>\n",
       "<style scoped>\n",
       "    .dataframe tbody tr th:only-of-type {\n",
       "        vertical-align: middle;\n",
       "    }\n",
       "\n",
       "    .dataframe tbody tr th {\n",
       "        vertical-align: top;\n",
       "    }\n",
       "\n",
       "    .dataframe thead th {\n",
       "        text-align: right;\n",
       "    }\n",
       "</style>\n",
       "<table border=\"1\" class=\"dataframe\">\n",
       "  <thead>\n",
       "    <tr style=\"text-align: right;\">\n",
       "      <th></th>\n",
       "      <th>user_id</th>\n",
       "    </tr>\n",
       "    <tr>\n",
       "      <th>event_name</th>\n",
       "      <th></th>\n",
       "    </tr>\n",
       "  </thead>\n",
       "  <tbody>\n",
       "    <tr>\n",
       "      <th>login</th>\n",
       "      <td>32.49</td>\n",
       "    </tr>\n",
       "    <tr>\n",
       "      <th>product_page</th>\n",
       "      <td>18.08</td>\n",
       "    </tr>\n",
       "    <tr>\n",
       "      <th>purchase</th>\n",
       "      <td>9.23</td>\n",
       "    </tr>\n",
       "    <tr>\n",
       "      <th>product_cart</th>\n",
       "      <td>9.02</td>\n",
       "    </tr>\n",
       "  </tbody>\n",
       "</table>\n",
       "</div>"
      ],
      "text/plain": [
       "              user_id\n",
       "event_name           \n",
       "login           32.49\n",
       "product_page    18.08\n",
       "purchase         9.23\n",
       "product_cart     9.02"
      ]
     },
     "execution_count": 38,
     "metadata": {},
     "output_type": "execute_result"
    }
   ],
   "source": [
    "# Посчитаем конверсию в целевые действия для двух групп \n",
    "print('Конверсия для группы А:')\n",
    "display(round((events_recsys.query('group==\"A\"').groupby('event_name').user_id.nunique() /\n",
    "      participants_recsys.query('group==\"A\"').user_id.nunique()*100), 2).sort_values(ascending=False).to_frame())\n",
    "\n",
    "print('Конверсия для группы B:')\n",
    "round((events_recsys.query('group==\"B\"').groupby('event_name').user_id.nunique() /\n",
    "      participants_recsys.query('group==\"B\"').user_id.nunique()*100), 2).sort_values(ascending=False).to_frame()\n",
    "\n"
   ]
  },
  {
   "cell_type": "markdown",
   "metadata": {},
   "source": [
    "Видим, общая конверсия пользователей для группы существенно B ниже чем в группе А. \n",
    "\n",
    "Также, довольно странно, что конверсия в покупку несколько выше, чем конверсия в просмотр корзины.\n",
    "\n",
    "Для группы А: \n",
    "- 46% участников совершают просмотр карточек товаров \n",
    "- 22% участников просматривают корзину\n",
    "- 23% участников делают покупку\n",
    "\n",
    "Для группы В: \n",
    "- 18% участников совершают просмотр карточек товаров \n",
    "- 9% участников просматривают корзину\n",
    "- 9% участников делают покупку\n",
    "\n",
    "Заявленное в ТЗ увеличения метрик на 10% не наблюдается - скорее наоборот.\n",
    "\n",
    "Напрашиавется **вывод**, о том, что введение новой рекомендательной системы негативно сказывается на конверсии пользователей."
   ]
  },
  {
   "cell_type": "markdown",
   "metadata": {},
   "source": [
    "### Результаты A/B-тестирования"
   ]
  },
  {
   "cell_type": "markdown",
   "metadata": {},
   "source": [
    "Необходимо отметить, что множество пунктов из ТЗ и критериев корректности А/В эксперимента в нашем случае не были корректно учтены: \n",
    "- **Дата остановки не соотвествует требованиям ТЗ** - тест закончился 2020-12-30, хотя в техзадании говорится про 2021-01-04. Так как тест закончился на 5 дней раньше - последние зарегистрированные пользователи провели в приложении меньше 14 дней - что противоречит условиям ТЗ\n",
    "- Дата окончания набора новых пользователей  **не соответствует** требованию техзадания. Набор продолжался до 23 декабря, а в техзадании говорится о 21 декабря. \n",
    "- **Маркетинговая кампания \"Christmas&New Year Promo\" началась за 5 дней** до даты остановки теста. Проведение данной акции может влиять на результаты проводимого А/В теста и, соотсетственно, привести к неправильным выводам. \n",
    "- Есть **пользователи**, которые **одновременно участвуют в двух разных А/В тестах** - это может привести к некорректным результатам, поскольку мы не знаем изменения какого из тестов повлияли на поведение пользователей. Для получения независимых результатов тестирования и корректных выводов были вынуждены отбросить пользователей recommender_system_test, которые попадают в группу В (группа с изменением) конкурирующего теста.\n",
    "- Группы А и В **несбалансированны**, что также является критерием неправильного проведения эксперимента\n",
    "- Как показал исследовательский анализ данных, конверсии в просмотр карточек товаров, просмотры корзины и покупки для группы с новой рекомендательной системой существенно ниже, чем у контрольной группы без изменений. Хотя изначально план ТЗ предполагал, что конверсии должны улучшиться не менее чем на 10% относительно контрольной группы. На деле **видим ухдшение метрик на 50%** и более.\n",
    "\n",
    "**В общем данный тест нельзя назвать корректно проведенным**\n",
    "\n"
   ]
  },
  {
   "cell_type": "markdown",
   "metadata": {},
   "source": [
    "#### Наконец, проверим статистическую разницу долей z-критерием."
   ]
  },
  {
   "cell_type": "code",
   "execution_count": 39,
   "metadata": {},
   "outputs": [],
   "source": [
    "# напишем функцию для выполнения z-теста\n",
    "def z_test(df, df2, ev, g_1, g_2):\n",
    "\n",
    "    alpha = 0.05 # критический уровень статистической значимости\n",
    "\n",
    "    event = np.array([df.query('event_name == @ev & group == @g_1').user_id.nunique(), \n",
    "                            df.query('event_name == @ev & group == @g_2').user_id.nunique()])\n",
    "\n",
    "    all_events = np.array([df2.query('group == @g_1').user_id.nunique(),\n",
    "                        df2.query('group == @g_2').user_id.nunique() ])\n",
    "\n",
    "    # пропорция в первой группе:\n",
    "    p1 = event[0]/all_events[0]\n",
    "\n",
    "    # пропорция во второй группе:\n",
    "    p2 = event[1]/all_events[1]\n",
    "\n",
    "    # пропорция в комбинированном датасете:\n",
    "    p_combined = (event[0] + event[1]) / (all_events[0] + all_events[1])\n",
    "\n",
    "    # разница пропорций в датасетах\n",
    "    difference = p1 - p2 \n",
    "\n",
    "    # считаем статистику в ст.отклонениях стандартного нормального распределения\n",
    "    z_value = difference / np.sqrt(\n",
    "        p_combined * (1 - p_combined) * (1 / all_events[0] + 1 / all_events[1])\n",
    "    )\n",
    "\n",
    "    # задаем стандартное нормальное распределение (среднее 0, ст.отклонение 1)\n",
    "    distr = st.norm(0, 1)\n",
    "\n",
    "    p_value = (1 - distr.cdf(abs(z_value))) * 2\n",
    "    print('Результаты статистического теста для групп {}, {}, и события {}:'.format(g_1,g_2, ev))\n",
    "    print('p-значение: ', p_value)\n",
    "\n",
    "    if p_value < alpha:\n",
    "        print('Отвергаем нулевую гипотезу: между долями есть значимая разница\\n')\n",
    "    else:\n",
    "        print(\n",
    "            'Не получилось отвергнуть нулевую гипотезу, нет оснований считать доли разными\\n'\n",
    "        ) \n",
    " \n"
   ]
  },
  {
   "cell_type": "code",
   "execution_count": 40,
   "metadata": {},
   "outputs": [
    {
     "name": "stdout",
     "output_type": "stream",
     "text": [
      "Результаты статистического теста для групп A, B, и события purchase:\n",
      "p-значение:  0.0\n",
      "Отвергаем нулевую гипотезу: между долями есть значимая разница\n",
      "\n",
      "Результаты статистического теста для групп A, B, и события product_cart:\n",
      "p-значение:  0.0\n",
      "Отвергаем нулевую гипотезу: между долями есть значимая разница\n",
      "\n",
      "Результаты статистического теста для групп A, B, и события product_page:\n",
      "p-значение:  0.0\n",
      "Отвергаем нулевую гипотезу: между долями есть значимая разница\n",
      "\n"
     ]
    }
   ],
   "source": [
    "# запустим z-тест по каждому из событий для контрольных групп А/B теста\n",
    "for event in ['purchase', 'product_cart', 'product_page']:\n",
    "    z_test(events_recsys,participants_recsys, event, 'A', 'B')"
   ]
  },
  {
   "cell_type": "markdown",
   "metadata": {},
   "source": [
    "**Вывод:** Различия между значениями группы A и В в конкретном случае являются существенными. Это подтверждает результаты исследовательского анализа по конверсии - введение новой рекомендательной системы негативно сказывается конверсии в целевые действия. Гипотеза о росте метрик  на 10% за счет внедрения рекомендательной системы на имеющихся данных не подтвердилась."
   ]
  },
  {
   "cell_type": "markdown",
   "metadata": {},
   "source": [
    "## Общий вывод"
   ]
  },
  {
   "cell_type": "markdown",
   "metadata": {},
   "source": [
    "В рамках проекта были проведена оценка результатов A/B-теста. Было показано, что что множество пунктов из ТЗ и критериев корректности А/В эксперимента в нашем случае не были корректно учтены: \n",
    "- **Дата остановки не соотвествует требованиям ТЗ** - тест закончился 2020-12-30, хотя в техзадании говорится про 2021-01-04. Так как тест закончился на 5 дней раньше - последние зарегистрированные пользователи провели в приложении меньше 14 дней - что противоречит условиям ТЗ\n",
    "- **Маркетинговая кампания \"Christmas&New Year Promo\" началась за 5 дней** до даты остановки теста. Проведение данной акции может влиять на результаты проводимого А/В теста и, соотсетственно, привести к неправильным выводам. \n",
    "- Есть **пользователи**, которые **одновременно участвуют в двух разных А/В тестах** - это может привести к некорректным результатам, поскольку мы не знаем изменения какого из тестов повлияли на поведение пользователей. Для получения независимых результатов тестирования и корректных выводов были вынуждены отбросить пользователей recommender_system_test, которые попадают в группу В (группа с изменением) конкурирующего теста.\n",
    "- Группы А и В **несбалансированны**, что также является критерием неправильного проведения эксперимента\n",
    "\n",
    "\n",
    "Учитывая требования ТЗ и формальные критерии корректности А/В экспериментов, данный тест нельзя назвать корректно проведенным. \n",
    "\n",
    "Исследовательский анализ показал, что количество событий на пользователя распределены несколько по-разному в выборках А/В теста. Пользователи группы А совершают в среднем 7 событий, пользователи группы B в среднем совершают 5 событий. В целом распредения для группы В смещены в область низких значений количества событий.\n",
    "В распределении по дням пользователи двух групп также ведут себя по разному: пользователи группы В совершают меньше событий. Видим, что в начале теста активность пользователей находится на одном уровне, однако после 13 декабря активность пользователей группы А резко возрастает. После 21 декабря и до конца теста активность двух групп начинает снижаться. В последние 5 дней теста (когда начали маркетинговую кампанию \"Christmas&New Year Promo\") не отмечается каких-то явных изменений пользовательской активности. Конверсии в просмотр карточек товаров, просмотры корзины и покупки для группы с новой рекомендательной системой существенно ниже, чем у контрольной группы без изменений. Хотя изначально план ТЗ предполагал, что конверсии должны улучшиться не менее чем на 10% относительно контрольной группы. На деле **видим ухдшение метрик на 50%** и более.\n",
    "\n",
    "Результат статистического z-теста показал, что различия между значениями группы A и В в конкретном случае являются существенными. Это подтверждает результаты анализа по конверсии - введение новой рекомендательной системы негативно сказывается конверсии в целевые действия. Гипотеза о росте метрик  на 10% за счет внедрения рекомендательной системы на имеющихся данных не подтвердилась.\n",
    "\n",
    "### Рекомендации:\n",
    "Чтобы окончательно убедиться в адекватности результатов, **рекомендуется** провести тест повторно с учетом всех пунктов ТЗ и формальных критериев правильности А/В экспериментов. Также, при проведени нового эксперимента следует выбрать более подходящее и спокойной время, чем канун нового года. Перед проведением рекомендуется убедиться в отсутствии планов на проведение маркетинговых событий во время теста.\n"
   ]
  }
 ],
 "metadata": {
  "ExecuteTimeLog": [
   {
    "duration": 1260,
    "start_time": "2022-09-04T16:44:43.851Z"
   },
   {
    "duration": 80,
    "start_time": "2022-09-04T16:44:45.113Z"
   },
   {
    "duration": 4,
    "start_time": "2022-09-04T16:44:45.195Z"
   },
   {
    "duration": 717,
    "start_time": "2022-09-04T16:44:45.201Z"
   },
   {
    "duration": 34,
    "start_time": "2022-09-04T16:44:45.920Z"
   },
   {
    "duration": 107,
    "start_time": "2022-09-04T16:44:45.956Z"
   },
   {
    "duration": 197,
    "start_time": "2022-09-04T16:44:46.064Z"
   },
   {
    "duration": 211,
    "start_time": "2022-09-04T16:44:46.262Z"
   },
   {
    "duration": 5,
    "start_time": "2022-09-04T16:44:46.475Z"
   },
   {
    "duration": 8,
    "start_time": "2022-09-04T16:44:46.482Z"
   },
   {
    "duration": 18,
    "start_time": "2022-09-04T16:44:46.491Z"
   },
   {
    "duration": 40,
    "start_time": "2022-09-04T16:44:46.511Z"
   },
   {
    "duration": 76,
    "start_time": "2022-09-04T16:44:46.554Z"
   },
   {
    "duration": 19,
    "start_time": "2022-09-04T16:44:46.634Z"
   },
   {
    "duration": 5,
    "start_time": "2022-09-04T16:44:46.654Z"
   },
   {
    "duration": 9,
    "start_time": "2022-09-04T16:44:46.660Z"
   },
   {
    "duration": 43,
    "start_time": "2022-09-04T16:44:46.670Z"
   },
   {
    "duration": 305,
    "start_time": "2022-09-04T16:44:46.714Z"
   },
   {
    "duration": 4,
    "start_time": "2022-09-04T16:44:47.021Z"
   },
   {
    "duration": 26,
    "start_time": "2022-09-04T16:44:47.026Z"
   },
   {
    "duration": 25,
    "start_time": "2022-09-04T16:44:47.054Z"
   },
   {
    "duration": 11,
    "start_time": "2022-09-04T16:44:47.080Z"
   },
   {
    "duration": 12,
    "start_time": "2022-09-04T16:44:47.093Z"
   },
   {
    "duration": 40,
    "start_time": "2022-09-04T16:44:47.106Z"
   },
   {
    "duration": 36,
    "start_time": "2022-09-04T16:44:47.149Z"
   },
   {
    "duration": 5,
    "start_time": "2022-09-04T16:44:47.187Z"
   },
   {
    "duration": 15,
    "start_time": "2022-09-04T16:44:47.194Z"
   },
   {
    "duration": 15,
    "start_time": "2022-09-04T16:44:47.210Z"
   },
   {
    "duration": 26,
    "start_time": "2022-09-04T16:44:47.226Z"
   },
   {
    "duration": 12,
    "start_time": "2022-09-04T16:44:47.254Z"
   },
   {
    "duration": 8,
    "start_time": "2022-09-04T16:44:47.267Z"
   },
   {
    "duration": 75,
    "start_time": "2022-09-04T16:44:47.277Z"
   },
   {
    "duration": 149,
    "start_time": "2022-09-04T16:44:47.354Z"
   },
   {
    "duration": 453,
    "start_time": "2022-09-04T16:44:47.504Z"
   },
   {
    "duration": 1332,
    "start_time": "2022-09-04T16:44:47.958Z"
   },
   {
    "duration": 459,
    "start_time": "2022-09-04T16:44:49.292Z"
   },
   {
    "duration": 31,
    "start_time": "2022-09-04T16:44:49.753Z"
   },
   {
    "duration": 6,
    "start_time": "2022-09-04T16:44:49.785Z"
   },
   {
    "duration": 52,
    "start_time": "2022-09-04T16:44:49.793Z"
   },
   {
    "duration": 1311,
    "start_time": "2022-09-04T17:28:57.932Z"
   },
   {
    "duration": 79,
    "start_time": "2022-09-04T17:28:59.245Z"
   },
   {
    "duration": 4,
    "start_time": "2022-09-04T17:28:59.326Z"
   },
   {
    "duration": 650,
    "start_time": "2022-09-04T17:28:59.331Z"
   },
   {
    "duration": 26,
    "start_time": "2022-09-04T17:28:59.983Z"
   },
   {
    "duration": 113,
    "start_time": "2022-09-04T17:29:00.011Z"
   },
   {
    "duration": 169,
    "start_time": "2022-09-04T17:29:00.126Z"
   },
   {
    "duration": 197,
    "start_time": "2022-09-04T17:29:00.296Z"
   },
   {
    "duration": 6,
    "start_time": "2022-09-04T17:29:00.494Z"
   },
   {
    "duration": 15,
    "start_time": "2022-09-04T17:29:00.501Z"
   },
   {
    "duration": 13,
    "start_time": "2022-09-04T17:29:00.517Z"
   },
   {
    "duration": 31,
    "start_time": "2022-09-04T17:29:00.531Z"
   },
   {
    "duration": 75,
    "start_time": "2022-09-04T17:29:00.563Z"
   },
   {
    "duration": 8,
    "start_time": "2022-09-04T17:29:00.640Z"
   },
   {
    "duration": 11,
    "start_time": "2022-09-04T17:29:11.622Z"
   },
   {
    "duration": 7,
    "start_time": "2022-09-04T17:29:29.248Z"
   },
   {
    "duration": 15,
    "start_time": "2022-09-04T17:29:33.326Z"
   },
   {
    "duration": 7,
    "start_time": "2022-09-04T17:30:15.924Z"
   },
   {
    "duration": 118,
    "start_time": "2022-09-04T17:30:28.761Z"
   },
   {
    "duration": 8,
    "start_time": "2022-09-04T17:30:37.166Z"
   },
   {
    "duration": 24,
    "start_time": "2022-09-04T17:30:37.544Z"
   },
   {
    "duration": 11,
    "start_time": "2022-09-04T17:30:47.274Z"
   },
   {
    "duration": 5,
    "start_time": "2022-09-04T17:31:03.506Z"
   },
   {
    "duration": 5,
    "start_time": "2022-09-04T17:31:06.077Z"
   },
   {
    "duration": 42,
    "start_time": "2022-09-04T17:33:42.753Z"
   },
   {
    "duration": 13,
    "start_time": "2022-09-04T17:34:30.989Z"
   },
   {
    "duration": 16,
    "start_time": "2022-09-04T17:34:40.819Z"
   },
   {
    "duration": 23,
    "start_time": "2022-09-04T17:35:01.412Z"
   },
   {
    "duration": 1109,
    "start_time": "2022-09-04T17:35:24.624Z"
   },
   {
    "duration": 41,
    "start_time": "2022-09-04T17:35:25.735Z"
   },
   {
    "duration": 4,
    "start_time": "2022-09-04T17:35:25.777Z"
   },
   {
    "duration": 500,
    "start_time": "2022-09-04T17:35:25.782Z"
   },
   {
    "duration": 24,
    "start_time": "2022-09-04T17:35:26.284Z"
   },
   {
    "duration": 101,
    "start_time": "2022-09-04T17:35:26.309Z"
   },
   {
    "duration": 173,
    "start_time": "2022-09-04T17:35:26.412Z"
   },
   {
    "duration": 80,
    "start_time": "2022-09-04T17:35:26.587Z"
   },
   {
    "duration": 5,
    "start_time": "2022-09-04T17:35:26.669Z"
   },
   {
    "duration": 8,
    "start_time": "2022-09-04T17:35:26.676Z"
   },
   {
    "duration": 12,
    "start_time": "2022-09-04T17:35:26.685Z"
   },
   {
    "duration": 45,
    "start_time": "2022-09-04T17:35:26.698Z"
   },
   {
    "duration": 38,
    "start_time": "2022-09-04T17:35:26.744Z"
   },
   {
    "duration": 9,
    "start_time": "2022-09-04T17:35:26.785Z"
   },
   {
    "duration": 4,
    "start_time": "2022-09-04T17:35:26.795Z"
   },
   {
    "duration": 10,
    "start_time": "2022-09-04T17:35:26.801Z"
   },
   {
    "duration": 62,
    "start_time": "2022-09-04T17:35:26.812Z"
   },
   {
    "duration": 288,
    "start_time": "2022-09-04T17:35:26.875Z"
   },
   {
    "duration": 7,
    "start_time": "2022-09-04T17:35:27.164Z"
   },
   {
    "duration": 16,
    "start_time": "2022-09-04T17:35:27.172Z"
   },
   {
    "duration": 10,
    "start_time": "2022-09-04T17:35:27.189Z"
   },
   {
    "duration": 16,
    "start_time": "2022-09-04T17:35:27.201Z"
   },
   {
    "duration": 23,
    "start_time": "2022-09-04T17:35:27.218Z"
   },
   {
    "duration": 25,
    "start_time": "2022-09-04T17:36:30.228Z"
   },
   {
    "duration": 51,
    "start_time": "2022-09-04T17:38:04.950Z"
   },
   {
    "duration": 22,
    "start_time": "2022-09-04T17:38:08.444Z"
   },
   {
    "duration": 4,
    "start_time": "2022-09-04T17:38:10.978Z"
   },
   {
    "duration": 17,
    "start_time": "2022-09-04T17:38:43.960Z"
   },
   {
    "duration": 98,
    "start_time": "2022-09-04T17:38:55.955Z"
   },
   {
    "duration": 5,
    "start_time": "2022-09-04T17:39:03.628Z"
   },
   {
    "duration": 8,
    "start_time": "2022-09-04T17:39:13.512Z"
   },
   {
    "duration": 20,
    "start_time": "2022-09-04T17:40:01.426Z"
   },
   {
    "duration": 156,
    "start_time": "2022-09-04T17:40:19.609Z"
   },
   {
    "duration": 141,
    "start_time": "2022-09-04T17:46:11.479Z"
   },
   {
    "duration": 279,
    "start_time": "2022-09-04T17:46:13.091Z"
   },
   {
    "duration": 10,
    "start_time": "2022-09-04T17:47:16.469Z"
   },
   {
    "duration": 9,
    "start_time": "2022-09-04T17:47:33.254Z"
   },
   {
    "duration": 16,
    "start_time": "2022-09-04T17:49:38.862Z"
   },
   {
    "duration": 14,
    "start_time": "2022-09-04T17:51:40.281Z"
   },
   {
    "duration": 12,
    "start_time": "2022-09-04T17:52:27.003Z"
   },
   {
    "duration": 10,
    "start_time": "2022-09-04T17:52:35.345Z"
   },
   {
    "duration": 12,
    "start_time": "2022-09-04T17:53:10.893Z"
   },
   {
    "duration": 13,
    "start_time": "2022-09-04T17:53:29.466Z"
   },
   {
    "duration": 1063,
    "start_time": "2022-09-04T17:59:09.789Z"
   },
   {
    "duration": 41,
    "start_time": "2022-09-04T17:59:10.854Z"
   },
   {
    "duration": 5,
    "start_time": "2022-09-04T17:59:10.896Z"
   },
   {
    "duration": 549,
    "start_time": "2022-09-04T17:59:10.902Z"
   },
   {
    "duration": 24,
    "start_time": "2022-09-04T17:59:11.453Z"
   },
   {
    "duration": 121,
    "start_time": "2022-09-04T17:59:11.479Z"
   },
   {
    "duration": 179,
    "start_time": "2022-09-04T17:59:11.601Z"
   },
   {
    "duration": 88,
    "start_time": "2022-09-04T17:59:11.781Z"
   },
   {
    "duration": 6,
    "start_time": "2022-09-04T17:59:11.871Z"
   },
   {
    "duration": 24,
    "start_time": "2022-09-04T17:59:11.880Z"
   },
   {
    "duration": 29,
    "start_time": "2022-09-04T17:59:11.905Z"
   },
   {
    "duration": 62,
    "start_time": "2022-09-04T17:59:11.936Z"
   },
   {
    "duration": 58,
    "start_time": "2022-09-04T17:59:12.000Z"
   },
   {
    "duration": 8,
    "start_time": "2022-09-04T17:59:12.060Z"
   },
   {
    "duration": 28,
    "start_time": "2022-09-04T17:59:12.070Z"
   },
   {
    "duration": 34,
    "start_time": "2022-09-04T17:59:12.099Z"
   },
   {
    "duration": 58,
    "start_time": "2022-09-04T17:59:12.134Z"
   },
   {
    "duration": 278,
    "start_time": "2022-09-04T17:59:12.194Z"
   },
   {
    "duration": 15,
    "start_time": "2022-09-04T17:59:12.473Z"
   },
   {
    "duration": 10,
    "start_time": "2022-09-04T17:59:12.490Z"
   },
   {
    "duration": 59,
    "start_time": "2022-09-04T17:59:12.502Z"
   },
   {
    "duration": 35,
    "start_time": "2022-09-04T17:59:12.563Z"
   },
   {
    "duration": 17,
    "start_time": "2022-09-04T17:59:12.600Z"
   },
   {
    "duration": 292,
    "start_time": "2022-09-04T17:59:12.618Z"
   },
   {
    "duration": 14,
    "start_time": "2022-09-04T17:59:12.911Z"
   },
   {
    "duration": 54,
    "start_time": "2022-09-04T17:59:12.926Z"
   },
   {
    "duration": 7,
    "start_time": "2022-09-04T17:59:12.981Z"
   },
   {
    "duration": 17,
    "start_time": "2022-09-04T17:59:12.992Z"
   },
   {
    "duration": 37,
    "start_time": "2022-09-04T17:59:13.011Z"
   },
   {
    "duration": 3,
    "start_time": "2022-09-04T17:59:13.050Z"
   },
   {
    "duration": 29,
    "start_time": "2022-09-04T17:59:13.054Z"
   },
   {
    "duration": 19,
    "start_time": "2022-09-04T17:59:13.084Z"
   },
   {
    "duration": 93,
    "start_time": "2022-09-04T17:59:13.104Z"
   },
   {
    "duration": 158,
    "start_time": "2022-09-04T17:59:13.199Z"
   },
   {
    "duration": 444,
    "start_time": "2022-09-04T17:59:13.358Z"
   },
   {
    "duration": 1284,
    "start_time": "2022-09-04T17:59:13.803Z"
   },
   {
    "duration": 441,
    "start_time": "2022-09-04T17:59:15.088Z"
   },
   {
    "duration": 35,
    "start_time": "2022-09-04T17:59:15.530Z"
   },
   {
    "duration": 6,
    "start_time": "2022-09-04T17:59:15.566Z"
   },
   {
    "duration": 50,
    "start_time": "2022-09-04T17:59:15.573Z"
   },
   {
    "duration": 1110,
    "start_time": "2022-09-04T18:00:42.317Z"
   },
   {
    "duration": 59,
    "start_time": "2022-09-04T18:00:43.429Z"
   },
   {
    "duration": 4,
    "start_time": "2022-09-04T18:00:43.489Z"
   },
   {
    "duration": 539,
    "start_time": "2022-09-04T18:00:43.495Z"
   },
   {
    "duration": 32,
    "start_time": "2022-09-04T18:00:44.039Z"
   },
   {
    "duration": 103,
    "start_time": "2022-09-04T18:00:44.073Z"
   },
   {
    "duration": 195,
    "start_time": "2022-09-04T18:00:44.178Z"
   },
   {
    "duration": 91,
    "start_time": "2022-09-04T18:00:44.374Z"
   },
   {
    "duration": 6,
    "start_time": "2022-09-04T18:00:44.466Z"
   },
   {
    "duration": 8,
    "start_time": "2022-09-04T18:00:44.474Z"
   },
   {
    "duration": 11,
    "start_time": "2022-09-04T18:00:44.484Z"
   },
   {
    "duration": 55,
    "start_time": "2022-09-04T18:00:44.497Z"
   },
   {
    "duration": 49,
    "start_time": "2022-09-04T18:00:44.555Z"
   },
   {
    "duration": 8,
    "start_time": "2022-09-04T18:00:44.605Z"
   },
   {
    "duration": 5,
    "start_time": "2022-09-04T18:00:44.614Z"
   },
   {
    "duration": 11,
    "start_time": "2022-09-04T18:00:44.620Z"
   },
   {
    "duration": 49,
    "start_time": "2022-09-04T18:00:44.633Z"
   },
   {
    "duration": 299,
    "start_time": "2022-09-04T18:00:44.684Z"
   },
   {
    "duration": 15,
    "start_time": "2022-09-04T18:00:44.985Z"
   },
   {
    "duration": 3,
    "start_time": "2022-09-04T18:00:45.001Z"
   },
   {
    "duration": 16,
    "start_time": "2022-09-04T18:01:18.300Z"
   },
   {
    "duration": 46,
    "start_time": "2022-09-04T18:01:24.780Z"
   },
   {
    "duration": 148,
    "start_time": "2022-09-04T18:01:28.216Z"
   },
   {
    "duration": 48,
    "start_time": "2022-09-04T18:01:33.696Z"
   },
   {
    "duration": 18,
    "start_time": "2022-09-04T18:01:41.383Z"
   },
   {
    "duration": 11,
    "start_time": "2022-09-04T18:01:52.110Z"
   },
   {
    "duration": 109,
    "start_time": "2022-09-04T18:02:06.944Z"
   },
   {
    "duration": 23,
    "start_time": "2022-09-04T18:02:09.643Z"
   },
   {
    "duration": 30,
    "start_time": "2022-09-04T18:03:25.375Z"
   },
   {
    "duration": 24,
    "start_time": "2022-09-04T18:03:39.065Z"
   },
   {
    "duration": 1048,
    "start_time": "2022-09-04T18:05:45.482Z"
   },
   {
    "duration": 43,
    "start_time": "2022-09-04T18:05:46.531Z"
   },
   {
    "duration": 4,
    "start_time": "2022-09-04T18:05:46.575Z"
   },
   {
    "duration": 503,
    "start_time": "2022-09-04T18:05:46.581Z"
   },
   {
    "duration": 24,
    "start_time": "2022-09-04T18:05:47.087Z"
   },
   {
    "duration": 102,
    "start_time": "2022-09-04T18:05:47.113Z"
   },
   {
    "duration": 175,
    "start_time": "2022-09-04T18:05:47.216Z"
   },
   {
    "duration": 82,
    "start_time": "2022-09-04T18:05:47.393Z"
   },
   {
    "duration": 5,
    "start_time": "2022-09-04T18:05:47.477Z"
   },
   {
    "duration": 10,
    "start_time": "2022-09-04T18:05:47.484Z"
   },
   {
    "duration": 11,
    "start_time": "2022-09-04T18:05:47.496Z"
   },
   {
    "duration": 42,
    "start_time": "2022-09-04T18:05:47.509Z"
   },
   {
    "duration": 50,
    "start_time": "2022-09-04T18:05:47.552Z"
   },
   {
    "duration": 9,
    "start_time": "2022-09-04T18:05:47.605Z"
   },
   {
    "duration": 5,
    "start_time": "2022-09-04T18:05:47.616Z"
   },
   {
    "duration": 16,
    "start_time": "2022-09-04T18:05:47.622Z"
   },
   {
    "duration": 43,
    "start_time": "2022-09-04T18:05:47.639Z"
   },
   {
    "duration": 276,
    "start_time": "2022-09-04T18:05:47.684Z"
   },
   {
    "duration": 15,
    "start_time": "2022-09-04T18:05:47.961Z"
   },
   {
    "duration": 4,
    "start_time": "2022-09-04T18:05:47.978Z"
   },
   {
    "duration": 28,
    "start_time": "2022-09-04T18:05:56.084Z"
   },
   {
    "duration": 14,
    "start_time": "2022-09-04T18:14:05.893Z"
   },
   {
    "duration": 18,
    "start_time": "2022-09-04T18:14:43.078Z"
   },
   {
    "duration": 15,
    "start_time": "2022-09-04T18:14:46.417Z"
   },
   {
    "duration": 1095,
    "start_time": "2022-09-04T18:16:32.743Z"
   },
   {
    "duration": 40,
    "start_time": "2022-09-04T18:16:33.840Z"
   },
   {
    "duration": 5,
    "start_time": "2022-09-04T18:16:33.881Z"
   },
   {
    "duration": 513,
    "start_time": "2022-09-04T18:16:33.887Z"
   },
   {
    "duration": 23,
    "start_time": "2022-09-04T18:16:34.403Z"
   },
   {
    "duration": 92,
    "start_time": "2022-09-04T18:16:34.438Z"
   },
   {
    "duration": 168,
    "start_time": "2022-09-04T18:16:34.532Z"
   },
   {
    "duration": 81,
    "start_time": "2022-09-04T18:16:34.701Z"
   },
   {
    "duration": 6,
    "start_time": "2022-09-04T18:16:34.784Z"
   },
   {
    "duration": 11,
    "start_time": "2022-09-04T18:16:34.791Z"
   },
   {
    "duration": 12,
    "start_time": "2022-09-04T18:16:34.803Z"
   },
   {
    "duration": 45,
    "start_time": "2022-09-04T18:16:34.817Z"
   },
   {
    "duration": 48,
    "start_time": "2022-09-04T18:16:34.863Z"
   },
   {
    "duration": 8,
    "start_time": "2022-09-04T18:16:34.914Z"
   },
   {
    "duration": 4,
    "start_time": "2022-09-04T18:16:34.924Z"
   },
   {
    "duration": 13,
    "start_time": "2022-09-04T18:16:34.930Z"
   },
   {
    "duration": 41,
    "start_time": "2022-09-04T18:16:34.945Z"
   },
   {
    "duration": 274,
    "start_time": "2022-09-04T18:16:34.988Z"
   },
   {
    "duration": 15,
    "start_time": "2022-09-04T18:16:35.264Z"
   },
   {
    "duration": 4,
    "start_time": "2022-09-04T18:16:35.281Z"
   },
   {
    "duration": 19,
    "start_time": "2022-09-04T18:16:35.287Z"
   },
   {
    "duration": 5,
    "start_time": "2022-09-04T18:16:35.307Z"
   },
   {
    "duration": 28,
    "start_time": "2022-09-04T18:16:35.313Z"
   },
   {
    "duration": 278,
    "start_time": "2022-09-04T18:16:35.342Z"
   },
   {
    "duration": 20,
    "start_time": "2022-09-04T18:16:35.622Z"
   },
   {
    "duration": 36,
    "start_time": "2022-09-04T18:16:35.644Z"
   },
   {
    "duration": 7,
    "start_time": "2022-09-04T18:16:35.681Z"
   },
   {
    "duration": 21,
    "start_time": "2022-09-04T18:16:35.689Z"
   },
   {
    "duration": 30,
    "start_time": "2022-09-04T18:16:35.711Z"
   },
   {
    "duration": 4,
    "start_time": "2022-09-04T18:16:35.742Z"
   },
   {
    "duration": 12,
    "start_time": "2022-09-04T18:16:35.747Z"
   },
   {
    "duration": 5,
    "start_time": "2022-09-04T18:16:35.760Z"
   },
   {
    "duration": 79,
    "start_time": "2022-09-04T18:16:35.767Z"
   },
   {
    "duration": 150,
    "start_time": "2022-09-04T18:16:35.848Z"
   },
   {
    "duration": 473,
    "start_time": "2022-09-04T18:16:35.999Z"
   },
   {
    "duration": 1339,
    "start_time": "2022-09-04T18:16:36.473Z"
   },
   {
    "duration": 471,
    "start_time": "2022-09-04T18:16:37.814Z"
   },
   {
    "duration": 32,
    "start_time": "2022-09-04T18:16:38.287Z"
   },
   {
    "duration": 9,
    "start_time": "2022-09-04T18:16:38.340Z"
   },
   {
    "duration": 63,
    "start_time": "2022-09-04T18:16:38.351Z"
   }
  ],
  "kernelspec": {
   "display_name": "Python 3 (ipykernel)",
   "language": "python",
   "name": "python3"
  },
  "language_info": {
   "codemirror_mode": {
    "name": "ipython",
    "version": 3
   },
   "file_extension": ".py",
   "mimetype": "text/x-python",
   "name": "python",
   "nbconvert_exporter": "python",
   "pygments_lexer": "ipython3",
   "version": "3.9.13"
  },
  "toc": {
   "base_numbering": 1,
   "nav_menu": {},
   "number_sections": true,
   "sideBar": true,
   "skip_h1_title": true,
   "title_cell": "Table of Contents",
   "title_sidebar": "Contents",
   "toc_cell": false,
   "toc_position": {},
   "toc_section_display": true,
   "toc_window_display": true
  },
  "vscode": {
   "interpreter": {
    "hash": "aee8b7b246df8f9039afb4144a1f6fd8d2ca17a180786b69acc140d282b71a49"
   }
  }
 },
 "nbformat": 4,
 "nbformat_minor": 2
}
