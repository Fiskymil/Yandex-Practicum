{
 "cells": [
  {
   "cell_type": "markdown",
   "metadata": {},
   "source": [
    "# Мобильные приложения — Выделение групп пользователей на основе поведения"
   ]
  },
  {
   "cell_type": "markdown",
   "metadata": {},
   "source": [
    "# Основные цели данного прокта:\n",
    "- **Проведение исследовательского анализа данных**\n",
    "- **Сегментация пользователей на основе действий**\n",
    "- **Проверка статистических гипотез**\n",
    "- **Ответ на вопросы бизнеса:**\n",
    "    1. Пользователи какой группы склонные часто возвращаться в мобильное приложение?\n",
    "    2. Пользователи какой группы часто делают целевое событие?\n"
   ]
  },
  {
   "cell_type": "markdown",
   "metadata": {},
   "source": [
    "### **Описание данных:**\n",
    "\n",
    "Датасет содержит данные о событиях, совершенных в мобильном приложении \"Ненужные вещи\". В нем пользователи продают свои ненужные вещи, размещая их на доске объявлений.\n",
    "\n",
    "В датасете содержатся данные пользователей, впервые совершивших действия в приложении после 7 октября 2019 года.\n",
    "\n",
    "Датасет **mobile_dataset.csv** содержит колонки:\n",
    "- `event.time` — время совершения\n",
    "- `event.name` — название события\n",
    "- `user.id` — идентификатор пользователя\n",
    "\n",
    "Датасет **mobile_sources.csv** содержит колонки:\n",
    "- `userId` — идентификатор пользователя\n",
    "- `source` — источник, с которого пользователь установил приложение\n",
    "\n",
    "Расшифровки событий:\n",
    "- `advert_open` — открытие карточки объявления\n",
    "- `photos_show` — просмотр фотографий в объявлении\n",
    "- `tips_show` — пользователь увидел рекомендованные объявления\n",
    "- `tips_click` — пользователь кликнул по рекомендованному объявлению\n",
    "- `contacts_show` и `show_contacts` — пользователь нажал на кнопку \"посмотреть номер телефона\" на карточке объявления\n",
    "- `contacts_call` — пользователь позвонил по номеру телефона на карточке объявления\n",
    "- `map` — пользователь открыл карту размещенных объявлений\n",
    "- `search_1` — `search_7` — разные события, связанные с поиском по сайту\n",
    "- `favorites_add` — добавление объявления в избранное"
   ]
  },
  {
   "cell_type": "markdown",
   "metadata": {},
   "source": [
    "## Загрузка и предобработка данных"
   ]
  },
  {
   "cell_type": "code",
   "execution_count": 1,
   "metadata": {},
   "outputs": [],
   "source": [
    "# импорт необходимых библиотек\n",
    "import pandas as pd\n",
    "import seaborn as sns\n",
    "import matplotlib.pyplot as plt\n",
    "from datetime import datetime, timedelta\n",
    "import numpy as np\n",
    "from scipy import stats as st\n",
    "from sklearn.preprocessing import StandardScaler\n",
    "from scipy.cluster.hierarchy import dendrogram, linkage \n",
    "from sklearn.cluster import KMeans\n",
    "import warnings\n",
    "warnings.filterwarnings('ignore')\n"
   ]
  },
  {
   "cell_type": "code",
   "execution_count": 2,
   "metadata": {},
   "outputs": [],
   "source": [
    "# загрузим данные\n",
    "mobile_sourсes = pd.read_csv('https://code.s3.yandex.net/datasets/mobile_soures.csv')\n",
    "\n",
    "mobile_dataset = pd.read_csv('https://code.s3.yandex.net/datasets/mobile_dataset.csv')\n"
   ]
  },
  {
   "cell_type": "code",
   "execution_count": 3,
   "metadata": {},
   "outputs": [
    {
     "data": {
      "text/html": [
       "<div>\n",
       "<style scoped>\n",
       "    .dataframe tbody tr th:only-of-type {\n",
       "        vertical-align: middle;\n",
       "    }\n",
       "\n",
       "    .dataframe tbody tr th {\n",
       "        vertical-align: top;\n",
       "    }\n",
       "\n",
       "    .dataframe thead th {\n",
       "        text-align: right;\n",
       "    }\n",
       "</style>\n",
       "<table border=\"1\" class=\"dataframe\">\n",
       "  <thead>\n",
       "    <tr style=\"text-align: right;\">\n",
       "      <th></th>\n",
       "      <th>event.time</th>\n",
       "      <th>event.name</th>\n",
       "      <th>user.id</th>\n",
       "    </tr>\n",
       "  </thead>\n",
       "  <tbody>\n",
       "    <tr>\n",
       "      <th>0</th>\n",
       "      <td>2019-10-07 00:00:00.431357</td>\n",
       "      <td>advert_open</td>\n",
       "      <td>020292ab-89bc-4156-9acf-68bc2783f894</td>\n",
       "    </tr>\n",
       "    <tr>\n",
       "      <th>1</th>\n",
       "      <td>2019-10-07 00:00:01.236320</td>\n",
       "      <td>tips_show</td>\n",
       "      <td>020292ab-89bc-4156-9acf-68bc2783f894</td>\n",
       "    </tr>\n",
       "    <tr>\n",
       "      <th>2</th>\n",
       "      <td>2019-10-07 00:00:02.245341</td>\n",
       "      <td>tips_show</td>\n",
       "      <td>cf7eda61-9349-469f-ac27-e5b6f5ec475c</td>\n",
       "    </tr>\n",
       "    <tr>\n",
       "      <th>3</th>\n",
       "      <td>2019-10-07 00:00:07.039334</td>\n",
       "      <td>tips_show</td>\n",
       "      <td>020292ab-89bc-4156-9acf-68bc2783f894</td>\n",
       "    </tr>\n",
       "    <tr>\n",
       "      <th>4</th>\n",
       "      <td>2019-10-07 00:00:56.319813</td>\n",
       "      <td>advert_open</td>\n",
       "      <td>cf7eda61-9349-469f-ac27-e5b6f5ec475c</td>\n",
       "    </tr>\n",
       "  </tbody>\n",
       "</table>\n",
       "</div>"
      ],
      "text/plain": [
       "                   event.time   event.name  \\\n",
       "0  2019-10-07 00:00:00.431357  advert_open   \n",
       "1  2019-10-07 00:00:01.236320    tips_show   \n",
       "2  2019-10-07 00:00:02.245341    tips_show   \n",
       "3  2019-10-07 00:00:07.039334    tips_show   \n",
       "4  2019-10-07 00:00:56.319813  advert_open   \n",
       "\n",
       "                                user.id  \n",
       "0  020292ab-89bc-4156-9acf-68bc2783f894  \n",
       "1  020292ab-89bc-4156-9acf-68bc2783f894  \n",
       "2  cf7eda61-9349-469f-ac27-e5b6f5ec475c  \n",
       "3  020292ab-89bc-4156-9acf-68bc2783f894  \n",
       "4  cf7eda61-9349-469f-ac27-e5b6f5ec475c  "
      ]
     },
     "execution_count": 3,
     "metadata": {},
     "output_type": "execute_result"
    }
   ],
   "source": [
    "mobile_dataset.head()"
   ]
  },
  {
   "cell_type": "code",
   "execution_count": 4,
   "metadata": {},
   "outputs": [
    {
     "data": {
      "text/html": [
       "<div>\n",
       "<style scoped>\n",
       "    .dataframe tbody tr th:only-of-type {\n",
       "        vertical-align: middle;\n",
       "    }\n",
       "\n",
       "    .dataframe tbody tr th {\n",
       "        vertical-align: top;\n",
       "    }\n",
       "\n",
       "    .dataframe thead th {\n",
       "        text-align: right;\n",
       "    }\n",
       "</style>\n",
       "<table border=\"1\" class=\"dataframe\">\n",
       "  <thead>\n",
       "    <tr style=\"text-align: right;\">\n",
       "      <th></th>\n",
       "      <th>userId</th>\n",
       "      <th>source</th>\n",
       "    </tr>\n",
       "  </thead>\n",
       "  <tbody>\n",
       "    <tr>\n",
       "      <th>0</th>\n",
       "      <td>020292ab-89bc-4156-9acf-68bc2783f894</td>\n",
       "      <td>other</td>\n",
       "    </tr>\n",
       "    <tr>\n",
       "      <th>1</th>\n",
       "      <td>cf7eda61-9349-469f-ac27-e5b6f5ec475c</td>\n",
       "      <td>yandex</td>\n",
       "    </tr>\n",
       "    <tr>\n",
       "      <th>2</th>\n",
       "      <td>8c356c42-3ba9-4cb6-80b8-3f868d0192c3</td>\n",
       "      <td>yandex</td>\n",
       "    </tr>\n",
       "    <tr>\n",
       "      <th>3</th>\n",
       "      <td>d9b06b47-0f36-419b-bbb0-3533e582a6cb</td>\n",
       "      <td>other</td>\n",
       "    </tr>\n",
       "    <tr>\n",
       "      <th>4</th>\n",
       "      <td>f32e1e2a-3027-4693-b793-b7b3ff274439</td>\n",
       "      <td>google</td>\n",
       "    </tr>\n",
       "  </tbody>\n",
       "</table>\n",
       "</div>"
      ],
      "text/plain": [
       "                                 userId  source\n",
       "0  020292ab-89bc-4156-9acf-68bc2783f894   other\n",
       "1  cf7eda61-9349-469f-ac27-e5b6f5ec475c  yandex\n",
       "2  8c356c42-3ba9-4cb6-80b8-3f868d0192c3  yandex\n",
       "3  d9b06b47-0f36-419b-bbb0-3533e582a6cb   other\n",
       "4  f32e1e2a-3027-4693-b793-b7b3ff274439  google"
      ]
     },
     "execution_count": 4,
     "metadata": {},
     "output_type": "execute_result"
    }
   ],
   "source": [
    "mobile_sourсes.head()"
   ]
  },
  {
   "cell_type": "code",
   "execution_count": 5,
   "metadata": {},
   "outputs": [
    {
     "name": "stdout",
     "output_type": "stream",
     "text": [
      "4293\n",
      "4293\n"
     ]
    }
   ],
   "source": [
    "# посмотрим, информация по скольким пользователям содержится в одном и другом датасетах\n",
    "print(mobile_dataset['user.id'].nunique())\n",
    "print(mobile_sourсes['userId'].nunique())"
   ]
  },
  {
   "cell_type": "markdown",
   "metadata": {},
   "source": [
    "Количество одинаковое: имеем данные по 4293 пользователям"
   ]
  },
  {
   "cell_type": "code",
   "execution_count": 6,
   "metadata": {},
   "outputs": [],
   "source": [
    "# объединим датасеты в один датафрейм\n",
    "mobile_dataset = mobile_dataset.merge(mobile_sourсes, left_on='user.id', right_on='userId', right_index=False)\n",
    "mobile_dataset.drop(columns='userId',inplace=True)\n",
    "\n",
    "# изменим имена столбцам\n",
    "mobile_dataset.columns = ['event_time', 'event', 'user_id', 'source']"
   ]
  },
  {
   "cell_type": "code",
   "execution_count": 7,
   "metadata": {},
   "outputs": [
    {
     "data": {
      "text/html": [
       "<div>\n",
       "<style scoped>\n",
       "    .dataframe tbody tr th:only-of-type {\n",
       "        vertical-align: middle;\n",
       "    }\n",
       "\n",
       "    .dataframe tbody tr th {\n",
       "        vertical-align: top;\n",
       "    }\n",
       "\n",
       "    .dataframe thead th {\n",
       "        text-align: right;\n",
       "    }\n",
       "</style>\n",
       "<table border=\"1\" class=\"dataframe\">\n",
       "  <thead>\n",
       "    <tr style=\"text-align: right;\">\n",
       "      <th></th>\n",
       "      <th>event_time</th>\n",
       "      <th>event</th>\n",
       "      <th>user_id</th>\n",
       "      <th>source</th>\n",
       "    </tr>\n",
       "  </thead>\n",
       "  <tbody>\n",
       "    <tr>\n",
       "      <th>0</th>\n",
       "      <td>2019-10-07 00:00:00.431357</td>\n",
       "      <td>advert_open</td>\n",
       "      <td>020292ab-89bc-4156-9acf-68bc2783f894</td>\n",
       "      <td>other</td>\n",
       "    </tr>\n",
       "    <tr>\n",
       "      <th>1</th>\n",
       "      <td>2019-10-07 00:00:01.236320</td>\n",
       "      <td>tips_show</td>\n",
       "      <td>020292ab-89bc-4156-9acf-68bc2783f894</td>\n",
       "      <td>other</td>\n",
       "    </tr>\n",
       "    <tr>\n",
       "      <th>2</th>\n",
       "      <td>2019-10-07 00:00:07.039334</td>\n",
       "      <td>tips_show</td>\n",
       "      <td>020292ab-89bc-4156-9acf-68bc2783f894</td>\n",
       "      <td>other</td>\n",
       "    </tr>\n",
       "    <tr>\n",
       "      <th>3</th>\n",
       "      <td>2019-10-07 00:01:27.770232</td>\n",
       "      <td>advert_open</td>\n",
       "      <td>020292ab-89bc-4156-9acf-68bc2783f894</td>\n",
       "      <td>other</td>\n",
       "    </tr>\n",
       "    <tr>\n",
       "      <th>4</th>\n",
       "      <td>2019-10-07 00:01:34.804591</td>\n",
       "      <td>tips_show</td>\n",
       "      <td>020292ab-89bc-4156-9acf-68bc2783f894</td>\n",
       "      <td>other</td>\n",
       "    </tr>\n",
       "  </tbody>\n",
       "</table>\n",
       "</div>"
      ],
      "text/plain": [
       "                   event_time        event  \\\n",
       "0  2019-10-07 00:00:00.431357  advert_open   \n",
       "1  2019-10-07 00:00:01.236320    tips_show   \n",
       "2  2019-10-07 00:00:07.039334    tips_show   \n",
       "3  2019-10-07 00:01:27.770232  advert_open   \n",
       "4  2019-10-07 00:01:34.804591    tips_show   \n",
       "\n",
       "                                user_id source  \n",
       "0  020292ab-89bc-4156-9acf-68bc2783f894  other  \n",
       "1  020292ab-89bc-4156-9acf-68bc2783f894  other  \n",
       "2  020292ab-89bc-4156-9acf-68bc2783f894  other  \n",
       "3  020292ab-89bc-4156-9acf-68bc2783f894  other  \n",
       "4  020292ab-89bc-4156-9acf-68bc2783f894  other  "
      ]
     },
     "execution_count": 7,
     "metadata": {},
     "output_type": "execute_result"
    }
   ],
   "source": [
    "mobile_dataset.head()"
   ]
  },
  {
   "cell_type": "code",
   "execution_count": 8,
   "metadata": {},
   "outputs": [
    {
     "name": "stdout",
     "output_type": "stream",
     "text": [
      "<class 'pandas.core.frame.DataFrame'>\n",
      "Int64Index: 74197 entries, 0 to 74196\n",
      "Data columns (total 4 columns):\n",
      " #   Column      Non-Null Count  Dtype \n",
      "---  ------      --------------  ----- \n",
      " 0   event_time  74197 non-null  object\n",
      " 1   event       74197 non-null  object\n",
      " 2   user_id     74197 non-null  object\n",
      " 3   source      74197 non-null  object\n",
      "dtypes: object(4)\n",
      "memory usage: 2.8+ MB\n"
     ]
    }
   ],
   "source": [
    "mobile_dataset.info()"
   ]
  },
  {
   "cell_type": "markdown",
   "metadata": {},
   "source": [
    "Имеем 74197 событий, четыре столбца с типами object. Пропусков в данных нет"
   ]
  },
  {
   "cell_type": "code",
   "execution_count": 9,
   "metadata": {},
   "outputs": [],
   "source": [
    "# приведем столбец со временем события к datetime\n",
    "mobile_dataset.event_time = pd.to_datetime(mobile_dataset.event_time)"
   ]
  },
  {
   "cell_type": "code",
   "execution_count": 10,
   "metadata": {},
   "outputs": [
    {
     "data": {
      "text/plain": [
       "0"
      ]
     },
     "execution_count": 10,
     "metadata": {},
     "output_type": "execute_result"
    }
   ],
   "source": [
    "# проверим наличие строк-дубликатов\n",
    "mobile_dataset.duplicated().sum()"
   ]
  },
  {
   "cell_type": "markdown",
   "metadata": {},
   "source": [
    "Дубликатов нет"
   ]
  },
  {
   "cell_type": "code",
   "execution_count": 11,
   "metadata": {},
   "outputs": [
    {
     "data": {
      "text/plain": [
       "array(['other', 'yandex', 'google'], dtype=object)"
      ]
     },
     "execution_count": 11,
     "metadata": {},
     "output_type": "execute_result"
    }
   ],
   "source": [
    "# проверим уникальные значения в столбце с источником\n",
    "mobile_dataset.source.unique()"
   ]
  },
  {
   "cell_type": "code",
   "execution_count": 12,
   "metadata": {},
   "outputs": [
    {
     "data": {
      "text/plain": [
       "array(['advert_open', 'tips_show', 'map', 'tips_click', 'search_4',\n",
       "       'search_2', 'search_5', 'contacts_show', 'search_6', 'photos_show',\n",
       "       'search_1', 'search_3', 'favorites_add', 'contacts_call',\n",
       "       'search_7', 'show_contacts'], dtype=object)"
      ]
     },
     "execution_count": 12,
     "metadata": {},
     "output_type": "execute_result"
    }
   ],
   "source": [
    "# проверим уникальные значения в столбце с типом события\n",
    "mobile_dataset.event.unique()"
   ]
  },
  {
   "cell_type": "markdown",
   "metadata": {},
   "source": [
    "Видим два одинаковых события, названных по-разному: show_contacts и contacts_show"
   ]
  },
  {
   "cell_type": "code",
   "execution_count": 13,
   "metadata": {},
   "outputs": [
    {
     "data": {
      "text/plain": [
       "array(['advert_open', 'tips_show', 'map', 'tips_click', 'search_4',\n",
       "       'search_2', 'search_5', 'contacts_show', 'search_6', 'photos_show',\n",
       "       'search_1', 'search_3', 'favorites_add', 'contacts_call',\n",
       "       'search_7'], dtype=object)"
      ]
     },
     "execution_count": 13,
     "metadata": {},
     "output_type": "execute_result"
    }
   ],
   "source": [
    "# заменим show_contacts на contacts_show\n",
    "mobile_dataset.event.replace('show_contacts', 'contacts_show', inplace=True)\n",
    "mobile_dataset.event.unique()\n"
   ]
  },
  {
   "cell_type": "code",
   "execution_count": 14,
   "metadata": {},
   "outputs": [],
   "source": [
    "# создадим столбец с датами событий\n",
    "mobile_dataset['date'] = mobile_dataset['event_time'].dt.date"
   ]
  },
  {
   "cell_type": "code",
   "execution_count": 15,
   "metadata": {},
   "outputs": [],
   "source": [
    "# Выполним сешионизацию пользовательских действий. Для каждой сессии зададим уникальный id\n",
    "# Отсортируем датафрейм по пользователям и времени событий\n",
    "mobile_dataset = mobile_dataset.sort_values(['user_id', 'event_time'])\n",
    "\n",
    "# Положим тайм-аут между сессиями в 35 минут \n",
    "g = (mobile_dataset.groupby('user_id')['event_time'].diff() > pd.Timedelta('35Min')).cumsum()\n",
    "mobile_dataset['session_id'] = mobile_dataset.groupby(['user_id', g], sort=False).ngroup() + 1"
   ]
  },
  {
   "cell_type": "code",
   "execution_count": 16,
   "metadata": {},
   "outputs": [
    {
     "data": {
      "text/plain": [
       "10178"
      ]
     },
     "execution_count": 16,
     "metadata": {},
     "output_type": "execute_result"
    }
   ],
   "source": [
    "mobile_dataset.session_id.nunique()"
   ]
  },
  {
   "cell_type": "markdown",
   "metadata": {},
   "source": [
    "Всего выделили 10178 различных сессий"
   ]
  },
  {
   "cell_type": "code",
   "execution_count": 17,
   "metadata": {},
   "outputs": [
    {
     "data": {
      "text/html": [
       "<div>\n",
       "<style scoped>\n",
       "    .dataframe tbody tr th:only-of-type {\n",
       "        vertical-align: middle;\n",
       "    }\n",
       "\n",
       "    .dataframe tbody tr th {\n",
       "        vertical-align: top;\n",
       "    }\n",
       "\n",
       "    .dataframe thead th {\n",
       "        text-align: right;\n",
       "    }\n",
       "</style>\n",
       "<table border=\"1\" class=\"dataframe\">\n",
       "  <thead>\n",
       "    <tr style=\"text-align: right;\">\n",
       "      <th></th>\n",
       "      <th>event_time</th>\n",
       "      <th>event</th>\n",
       "      <th>user_id</th>\n",
       "      <th>source</th>\n",
       "      <th>date</th>\n",
       "      <th>session_id</th>\n",
       "    </tr>\n",
       "  </thead>\n",
       "  <tbody>\n",
       "    <tr>\n",
       "      <th>2171</th>\n",
       "      <td>2019-10-07 13:39:45.989359</td>\n",
       "      <td>tips_show</td>\n",
       "      <td>0001b1d5-b74a-4cbf-aeb0-7df5947bf349</td>\n",
       "      <td>other</td>\n",
       "      <td>2019-10-07</td>\n",
       "      <td>1</td>\n",
       "    </tr>\n",
       "    <tr>\n",
       "      <th>2172</th>\n",
       "      <td>2019-10-07 13:40:31.052909</td>\n",
       "      <td>tips_show</td>\n",
       "      <td>0001b1d5-b74a-4cbf-aeb0-7df5947bf349</td>\n",
       "      <td>other</td>\n",
       "      <td>2019-10-07</td>\n",
       "      <td>1</td>\n",
       "    </tr>\n",
       "    <tr>\n",
       "      <th>2173</th>\n",
       "      <td>2019-10-07 13:41:05.722489</td>\n",
       "      <td>tips_show</td>\n",
       "      <td>0001b1d5-b74a-4cbf-aeb0-7df5947bf349</td>\n",
       "      <td>other</td>\n",
       "      <td>2019-10-07</td>\n",
       "      <td>1</td>\n",
       "    </tr>\n",
       "    <tr>\n",
       "      <th>2174</th>\n",
       "      <td>2019-10-07 13:43:20.735461</td>\n",
       "      <td>tips_show</td>\n",
       "      <td>0001b1d5-b74a-4cbf-aeb0-7df5947bf349</td>\n",
       "      <td>other</td>\n",
       "      <td>2019-10-07</td>\n",
       "      <td>1</td>\n",
       "    </tr>\n",
       "    <tr>\n",
       "      <th>2175</th>\n",
       "      <td>2019-10-07 13:45:30.917502</td>\n",
       "      <td>tips_show</td>\n",
       "      <td>0001b1d5-b74a-4cbf-aeb0-7df5947bf349</td>\n",
       "      <td>other</td>\n",
       "      <td>2019-10-07</td>\n",
       "      <td>1</td>\n",
       "    </tr>\n",
       "  </tbody>\n",
       "</table>\n",
       "</div>"
      ],
      "text/plain": [
       "                     event_time      event  \\\n",
       "2171 2019-10-07 13:39:45.989359  tips_show   \n",
       "2172 2019-10-07 13:40:31.052909  tips_show   \n",
       "2173 2019-10-07 13:41:05.722489  tips_show   \n",
       "2174 2019-10-07 13:43:20.735461  tips_show   \n",
       "2175 2019-10-07 13:45:30.917502  tips_show   \n",
       "\n",
       "                                   user_id source        date  session_id  \n",
       "2171  0001b1d5-b74a-4cbf-aeb0-7df5947bf349  other  2019-10-07           1  \n",
       "2172  0001b1d5-b74a-4cbf-aeb0-7df5947bf349  other  2019-10-07           1  \n",
       "2173  0001b1d5-b74a-4cbf-aeb0-7df5947bf349  other  2019-10-07           1  \n",
       "2174  0001b1d5-b74a-4cbf-aeb0-7df5947bf349  other  2019-10-07           1  \n",
       "2175  0001b1d5-b74a-4cbf-aeb0-7df5947bf349  other  2019-10-07           1  "
      ]
     },
     "execution_count": 17,
     "metadata": {},
     "output_type": "execute_result"
    }
   ],
   "source": [
    "mobile_dataset.head()"
   ]
  },
  {
   "cell_type": "markdown",
   "metadata": {},
   "source": [
    "## EDA\n"
   ]
  },
  {
   "cell_type": "code",
   "execution_count": 18,
   "metadata": {},
   "outputs": [
    {
     "data": {
      "text/plain": [
       "datetime.date(2019, 10, 7)"
      ]
     },
     "metadata": {},
     "output_type": "display_data"
    },
    {
     "data": {
      "text/plain": [
       "datetime.date(2019, 11, 3)"
      ]
     },
     "execution_count": 18,
     "metadata": {},
     "output_type": "execute_result"
    }
   ],
   "source": [
    "# минимальная и максимальная дата в наборе данных\n",
    "display(mobile_dataset.date.min())\n",
    "mobile_dataset.date.max()\n"
   ]
  },
  {
   "cell_type": "markdown",
   "metadata": {},
   "source": [
    "Видим, что в в данных содержатся события примерно за месяц: с 7 октября по 3 марта 2019 года. "
   ]
  },
  {
   "cell_type": "code",
   "execution_count": 19,
   "metadata": {
    "scrolled": true
   },
   "outputs": [
    {
     "data": {
      "image/png": "[encoded data removed]",
      "text/plain": [
       "<Figure size 1224x288 with 1 Axes>"
      ]
     },
     "metadata": {},
     "output_type": "display_data"
    }
   ],
   "source": [
    "sns.set_theme(style=\"whitegrid\")\n",
    "\n",
    "plt.figure(figsize=(17, 4))\n",
    "\n",
    "sns.histplot(mobile_dataset['event_time'],\n",
    "             bins=200\n",
    "             )\n",
    "plt.xlim(mobile_dataset.event_time.min(), mobile_dataset.event_time.max())\n",
    "plt.title('Распределение событий по времени', fontsize=14);\n",
    "\n"
   ]
  },
  {
   "cell_type": "markdown",
   "metadata": {},
   "source": [
    "События распределены по времени достаточно равномерно, каких-то \"каникул\" не наблюдается. Видим, что каждые сутки в ночное время происходит спад пользовательской активности."
   ]
  },
  {
   "cell_type": "code",
   "execution_count": 20,
   "metadata": {},
   "outputs": [
    {
     "data": {
      "image/png": "[encoded data removed]",
      "text/plain": [
       "<Figure size 432x504 with 1 Axes>"
      ]
     },
     "metadata": {},
     "output_type": "display_data"
    }
   ],
   "source": [
    "# Посмотрим на частоту совершения каждого из событий \n",
    "mobile_dataset.event.value_counts().sort_values(ascending=True).plot(kind='barh',\n",
    "                                                                     figsize=(6, 7),\n",
    "                                                                     width=0.9\n",
    "                                                                     )\n",
    "plt.xlabel('Количество событий')\n",
    "plt.title('Частота совершения событий', fontsize=14);\n"
   ]
  },
  {
   "cell_type": "markdown",
   "metadata": {},
   "source": [
    "Чаще всего пользователи пользуются подсказками и смотрят фотографии в объявлении. Реже всего совершают разные события, связанные с поиском по сайту. Однако, если события, связанные с поиском, объединить в одно, выводы могут поменяться"
   ]
  },
  {
   "cell_type": "code",
   "execution_count": 21,
   "metadata": {},
   "outputs": [
    {
     "data": {
      "image/png": "[encoded data removed]",
      "text/plain": [
       "<Figure size 432x504 with 1 Axes>"
      ]
     },
     "metadata": {},
     "output_type": "display_data"
    }
   ],
   "source": [
    "# Посмотрим из каких источников приходят пользователи\n",
    "mobile_dataset.drop_duplicates(subset='user_id').source.value_counts().sort_values(ascending=True).plot(kind='barh',\n",
    "                                                                                                        figsize=(\n",
    "                                                                                                            6, 7),\n",
    "                                                                                                        width=0.7\n",
    "                                                                                                        )\n",
    "plt.xlabel('Количество пользователей')\n",
    "plt.title('Количество пользователей для каждого из источников', fontsize=14);\n"
   ]
  },
  {
   "cell_type": "markdown",
   "metadata": {},
   "source": [
    "Больше всего пользователей пришло через Яндекс. Через Гугл и другие источники примерно одинаковое количество"
   ]
  },
  {
   "cell_type": "code",
   "execution_count": 22,
   "metadata": {},
   "outputs": [
    {
     "data": {
      "image/png": "[encoded data removed]",
      "text/plain": [
       "<Figure size 1224x288 with 1 Axes>"
      ]
     },
     "metadata": {},
     "output_type": "display_data"
    }
   ],
   "source": [
    "# Посмотрим в какие дни происходили первые действия пользователей\n",
    "min_date = mobile_dataset.groupby('user_id').event_time.min()\n",
    "\n",
    "plt.figure(figsize=(17, 4))\n",
    "\n",
    "sns.histplot(min_date, bins=30)\n",
    "plt.xlim(mobile_dataset.event_time.min(), mobile_dataset.event_time.max())\n",
    "plt.title('Количество новых пользователей', fontsize=14);\n"
   ]
  },
  {
   "cell_type": "markdown",
   "metadata": {},
   "source": [
    "Видим что на протяжении всего месяца какие-то пользователи совершали свою первую активность в приложении"
   ]
  },
  {
   "cell_type": "markdown",
   "metadata": {},
   "source": [
    "### Ретеншн и конверсия"
   ]
  },
  {
   "cell_type": "code",
   "execution_count": 23,
   "metadata": {},
   "outputs": [
    {
     "data": {
      "text/plain": [
       "user_id\n",
       "0001b1d5-b74a-4cbf-aeb0-7df5947bf349   2019-10-07 13:39:45.989359\n",
       "00157779-810c-4498-9e05-a1e9e3cedf93   2019-10-19 21:34:33.849769\n",
       "00463033-5717-4bf1-91b4-09183923b9df   2019-11-01 13:54:35.385028\n",
       "004690c3-5a84-4bb7-a8af-e0c8f8fca64e   2019-10-18 22:14:05.555052\n",
       "00551e79-152e-4441-9cf7-565d7eb04090   2019-10-25 16:44:41.263364\n",
       "                                                  ...            \n",
       "ffab8d8a-30bb-424a-a3ab-0b63ebbf7b07   2019-10-13 16:11:27.414960\n",
       "ffc01466-fdb1-4460-ae94-e800f52eb136   2019-10-07 20:32:49.997044\n",
       "ffcf50d9-293c-4254-8243-4890b030b238   2019-10-23 11:51:35.199237\n",
       "ffe68f10-e48e-470e-be9b-eeb93128ff1a   2019-10-21 16:39:33.867145\n",
       "fffb9e79-b927-4dbb-9b48-7fd09b23a62b   2019-10-12 00:57:21.241896\n",
       "Name: event_time, Length: 4293, dtype: datetime64[ns]"
      ]
     },
     "execution_count": 23,
     "metadata": {},
     "output_type": "execute_result"
    }
   ],
   "source": [
    "min_date"
   ]
  },
  {
   "cell_type": "code",
   "execution_count": 24,
   "metadata": {},
   "outputs": [],
   "source": [
    "# Зададим функцию, которая будет считать retention а заодно и датафрейм с пользовательскими сессиями\n",
    "\n",
    "def get_retention(\n",
    "    dataset,\n",
    "    observation_date,\n",
    "    horizon,\n",
    "    ignore_horizon=False,\n",
    "    dimensions=[]\n",
    "):\n",
    "\n",
    "    # исключаем пользователей, не «доживших» до горизонта анализа\n",
    "    last_suitable_acquisition_date = observation_date\n",
    "    if not ignore_horizon:\n",
    "        last_suitable_acquisition_date = observation_date - timedelta(\n",
    "            days=horizon - 1\n",
    "        )\n",
    "\n",
    "   # Создадим столбец с временем первой активности пользователей в приложении\n",
    "    min_date = dataset.groupby('user_id').event_time.min()\n",
    "    min_date.name = 'first_ts'\n",
    "    dataset = dataset.merge(min_date, on='user_id')\n",
    "\n",
    "    # Создадим столбец с временем начала сессии\n",
    "    start_date = dataset.groupby('session_id').event_time.min()\n",
    "    start_date.name = 'session_start'\n",
    "    dataset = dataset.merge(start_date, on='session_id')\n",
    "\n",
    "    # Создадим столбец с временем окончания сессии\n",
    "    finish_date = dataset.groupby('session_id').event_time.max()\n",
    "    finish_date.name = 'session_finish'\n",
    "    dataset = dataset.merge(finish_date, on='session_id')\n",
    "\n",
    "    # Создадим столбец с количеством действий внутри сессии\n",
    "    av_events_num = dataset.groupby(\n",
    "        ['session_id']).event_time.count()\n",
    "    av_events_num.name = 'av_events_num'\n",
    "    dataset = dataset.merge(av_events_num, on='session_id')\n",
    "\n",
    "    sessions = dataset.drop_duplicates(subset='session_id')\n",
    "    # mobile_dataset.event_time = pd.to_datetime(mobile_dataset.event_time)\n",
    "    sessions['dt'] = pd.to_datetime(sessions.first_ts.dt.date)\n",
    "    result_raw = sessions.query('dt <= @last_suitable_acquisition_date')\n",
    "    sessions.drop(columns=['event', 'event_time'], inplace=True)\n",
    "\n",
    "    result_raw['week'] = result_raw['dt'].dt.strftime('%U')\n",
    "\n",
    "    # лайфтайм для каждой сессии\n",
    "    # result_raw['lifetime'] = (\n",
    "    #     result_raw['session_start'] - result_raw['first_ts']\n",
    "    # ).dt.days\n",
    "    result_raw['lifetime'] = result_raw['session_start'].dt.strftime('%U').astype(\n",
    "        'int') - result_raw['first_ts'].dt.strftime('%U').astype('int')\n",
    "    # рассчитываем удержание\n",
    "    result_grouped = result_raw.pivot_table(\n",
    "        index=dimensions, columns='lifetime', values='user_id', aggfunc='nunique'\n",
    "    )\n",
    "    cohort_sizes = (\n",
    "        result_raw.groupby(dimensions)\n",
    "        .agg({'user_id': 'nunique'})\n",
    "        .rename(columns={'user_id': 'cohort_size'})\n",
    "    )\n",
    "    result_grouped = cohort_sizes.merge(\n",
    "        result_grouped, on=dimensions, how='left'\n",
    "    )\n",
    "    result_grouped = result_grouped.div(result_grouped['cohort_size'], axis=0)\n",
    "\n",
    "    # исключаем все лайфтаймы, превышающие горизонт анализа\n",
    "    result_grouped = result_grouped[\n",
    "        ['cohort_size'] + list(range(horizon))\n",
    "    ]\n",
    "\n",
    "    # восстанавливаем столбец с размерами когорт\n",
    "    result_grouped['cohort_size'] = cohort_sizes\n",
    "\n",
    "    # возвращаем таблицу удержания и сырые данные\n",
    "    # сырые данные пригодятся, если нужно будет отыскать ошибку в расчётах\n",
    "    return result_raw, result_grouped, sessions\n"
   ]
  },
  {
   "cell_type": "code",
   "execution_count": 25,
   "metadata": {
    "scrolled": false
   },
   "outputs": [
    {
     "data": {
      "image/png": "[encoded data removed]",
      "text/plain": [
       "<Figure size 1080x432 with 2 Axes>"
      ]
     },
     "metadata": {},
     "output_type": "display_data"
    }
   ],
   "source": [
    "# Считаем ретеншн на момент последней даты с горизонтом анализа 4 недели, формируем когорты по неделям первой активности пользователей\n",
    "retention_raw, retention, sessions = get_retention(\n",
    "    mobile_dataset, observation_date=datetime(2019, 11, 3).date(), horizon=4, dimensions=['week']\n",
    ")\n",
    "\n",
    "# строим хитмэп без нулевого лайфтайма\n",
    "\n",
    "plt.figure(figsize=(15, 6))  # задаём размер графика\n",
    "sns.heatmap(\n",
    "    retention.drop(columns=['cohort_size', 0]).fillna(0),  # удаляем лишние столбцы\n",
    "    annot=True,  # включаем подписи\n",
    "    fmt='.2%',  # переводим значения в проценты\n",
    ")\n",
    "plt.title('Тепловая карта удержания', fontsize=14)  # название графика\n",
    "plt.show()\n"
   ]
  },
  {
   "cell_type": "markdown",
   "metadata": {},
   "source": [
    " Видим, что на первую неделю удержание пользователей составляет порядка 21-25%. Ко второй неделе удержание уже падает до 13-14%. К третьей неделе можем оценивать только по когорте 40 - для нее удержание упало с 14 до 12%"
   ]
  },
  {
   "cell_type": "code",
   "execution_count": 26,
   "metadata": {},
   "outputs": [
    {
     "data": {
      "text/plain": [
       "22.85"
      ]
     },
     "execution_count": 26,
     "metadata": {},
     "output_type": "execute_result"
    }
   ],
   "source": [
    "# Оценим конверсию в целевое действие contacts_show. \n",
    "\n",
    "round((mobile_dataset.query('event == \"contacts_show\"')['user_id'].nunique() / mobile_dataset['user_id'].nunique()) * 100,2)\n"
   ]
  },
  {
   "cell_type": "markdown",
   "metadata": {},
   "source": [
    "Только 23% пользователей совершают целевое действие contacts_show"
   ]
  },
  {
   "cell_type": "markdown",
   "metadata": {},
   "source": [
    "### Посчитаем следующие параметры-признаки для каждого из пользователей: \n",
    "- Средняя длина сессии \n",
    "- Количество проведенных сессий \n",
    "- Среднее число событий внутри сессии \n",
    "- Средний перерыв между сессиями"
   ]
  },
  {
   "cell_type": "code",
   "execution_count": 27,
   "metadata": {},
   "outputs": [],
   "source": [
    "# посчитаем вспомогательные параметры\n",
    "\n",
    "# длина каждой сессии\n",
    "sessions['session_length'] = (\n",
    "    sessions['session_finish'] - sessions['session_start']).astype('timedelta64[s]')\n",
    "\n",
    "# окончание предыдущей сессии\n",
    "sessions['prev_ses_end'] = sessions.groupby(\n",
    "    'user_id')['session_finish'].shift(1)\n",
    "\n",
    "# перерыв после предыдущей сессии\n",
    "sessions['betw_ses_brake'] = (\n",
    "    sessions.session_start - sessions.prev_ses_end).astype('timedelta64[s]')\n"
   ]
  },
  {
   "cell_type": "code",
   "execution_count": 28,
   "metadata": {
    "scrolled": true
   },
   "outputs": [
    {
     "data": {
      "text/html": [
       "<div>\n",
       "<style scoped>\n",
       "    .dataframe tbody tr th:only-of-type {\n",
       "        vertical-align: middle;\n",
       "    }\n",
       "\n",
       "    .dataframe tbody tr th {\n",
       "        vertical-align: top;\n",
       "    }\n",
       "\n",
       "    .dataframe thead th {\n",
       "        text-align: right;\n",
       "    }\n",
       "</style>\n",
       "<table border=\"1\" class=\"dataframe\">\n",
       "  <thead>\n",
       "    <tr style=\"text-align: right;\">\n",
       "      <th></th>\n",
       "      <th>mean_ses_len</th>\n",
       "      <th>ses_count</th>\n",
       "      <th>av_events_per_ses</th>\n",
       "      <th>av_brake</th>\n",
       "    </tr>\n",
       "    <tr>\n",
       "      <th>user_id</th>\n",
       "      <th></th>\n",
       "      <th></th>\n",
       "      <th></th>\n",
       "      <th></th>\n",
       "    </tr>\n",
       "  </thead>\n",
       "  <tbody>\n",
       "    <tr>\n",
       "      <th>0001b1d5-b74a-4cbf-aeb0-7df5947bf349</th>\n",
       "      <td>689.750000</td>\n",
       "      <td>4</td>\n",
       "      <td>8.750000</td>\n",
       "      <td>428501.333333</td>\n",
       "    </tr>\n",
       "    <tr>\n",
       "      <th>00157779-810c-4498-9e05-a1e9e3cedf93</th>\n",
       "      <td>1961.833333</td>\n",
       "      <td>6</td>\n",
       "      <td>11.833333</td>\n",
       "      <td>253695.800000</td>\n",
       "    </tr>\n",
       "    <tr>\n",
       "      <th>00463033-5717-4bf1-91b4-09183923b9df</th>\n",
       "      <td>1482.000000</td>\n",
       "      <td>1</td>\n",
       "      <td>10.000000</td>\n",
       "      <td>0.000000</td>\n",
       "    </tr>\n",
       "    <tr>\n",
       "      <th>004690c3-5a84-4bb7-a8af-e0c8f8fca64e</th>\n",
       "      <td>1107.000000</td>\n",
       "      <td>6</td>\n",
       "      <td>5.333333</td>\n",
       "      <td>222928.600000</td>\n",
       "    </tr>\n",
       "    <tr>\n",
       "      <th>00551e79-152e-4441-9cf7-565d7eb04090</th>\n",
       "      <td>186.333333</td>\n",
       "      <td>3</td>\n",
       "      <td>2.666667</td>\n",
       "      <td>146495.500000</td>\n",
       "    </tr>\n",
       "    <tr>\n",
       "      <th>00554293-7e00-4122-b898-4e892c4a7c53</th>\n",
       "      <td>211.000000</td>\n",
       "      <td>2</td>\n",
       "      <td>5.500000</td>\n",
       "      <td>4854.000000</td>\n",
       "    </tr>\n",
       "    <tr>\n",
       "      <th>005fbea5-2678-406f-88a6-fbe9787e2268</th>\n",
       "      <td>648.000000</td>\n",
       "      <td>1</td>\n",
       "      <td>5.000000</td>\n",
       "      <td>0.000000</td>\n",
       "    </tr>\n",
       "    <tr>\n",
       "      <th>00653802-5ff1-4071-bc17-347fc4cef569</th>\n",
       "      <td>510.000000</td>\n",
       "      <td>1</td>\n",
       "      <td>5.000000</td>\n",
       "      <td>0.000000</td>\n",
       "    </tr>\n",
       "    <tr>\n",
       "      <th>006a32d4-ee10-40dc-b237-11e0fde81cbc</th>\n",
       "      <td>941.000000</td>\n",
       "      <td>1</td>\n",
       "      <td>6.000000</td>\n",
       "      <td>0.000000</td>\n",
       "    </tr>\n",
       "    <tr>\n",
       "      <th>006f6ced-225b-4f9c-9f17-23404bc6835f</th>\n",
       "      <td>544.000000</td>\n",
       "      <td>1</td>\n",
       "      <td>5.000000</td>\n",
       "      <td>0.000000</td>\n",
       "    </tr>\n",
       "  </tbody>\n",
       "</table>\n",
       "</div>"
      ],
      "text/plain": [
       "                                      mean_ses_len  ses_count  \\\n",
       "user_id                                                         \n",
       "0001b1d5-b74a-4cbf-aeb0-7df5947bf349    689.750000          4   \n",
       "00157779-810c-4498-9e05-a1e9e3cedf93   1961.833333          6   \n",
       "00463033-5717-4bf1-91b4-09183923b9df   1482.000000          1   \n",
       "004690c3-5a84-4bb7-a8af-e0c8f8fca64e   1107.000000          6   \n",
       "00551e79-152e-4441-9cf7-565d7eb04090    186.333333          3   \n",
       "00554293-7e00-4122-b898-4e892c4a7c53    211.000000          2   \n",
       "005fbea5-2678-406f-88a6-fbe9787e2268    648.000000          1   \n",
       "00653802-5ff1-4071-bc17-347fc4cef569    510.000000          1   \n",
       "006a32d4-ee10-40dc-b237-11e0fde81cbc    941.000000          1   \n",
       "006f6ced-225b-4f9c-9f17-23404bc6835f    544.000000          1   \n",
       "\n",
       "                                      av_events_per_ses       av_brake  \n",
       "user_id                                                                 \n",
       "0001b1d5-b74a-4cbf-aeb0-7df5947bf349           8.750000  428501.333333  \n",
       "00157779-810c-4498-9e05-a1e9e3cedf93          11.833333  253695.800000  \n",
       "00463033-5717-4bf1-91b4-09183923b9df          10.000000       0.000000  \n",
       "004690c3-5a84-4bb7-a8af-e0c8f8fca64e           5.333333  222928.600000  \n",
       "00551e79-152e-4441-9cf7-565d7eb04090           2.666667  146495.500000  \n",
       "00554293-7e00-4122-b898-4e892c4a7c53           5.500000    4854.000000  \n",
       "005fbea5-2678-406f-88a6-fbe9787e2268           5.000000       0.000000  \n",
       "00653802-5ff1-4071-bc17-347fc4cef569           5.000000       0.000000  \n",
       "006a32d4-ee10-40dc-b237-11e0fde81cbc           6.000000       0.000000  \n",
       "006f6ced-225b-4f9c-9f17-23404bc6835f           5.000000       0.000000  "
      ]
     },
     "execution_count": 28,
     "metadata": {},
     "output_type": "execute_result"
    }
   ],
   "source": [
    "# создадим датафрейм с параметрами пользователей\n",
    "\n",
    "user_features = sessions.groupby('user_id').agg({'session_length': ['mean', 'count'], # средняя длина и количество сессий \n",
    "                                                 'av_events_num': 'mean', # среднее число событий внутри сессии\n",
    "                                                 'betw_ses_brake': 'mean'}) # средний перерыв между сессиями\n",
    "user_features.columns = ['mean_ses_len',\n",
    "                         'ses_count',\n",
    "                         'av_events_per_ses',\n",
    "                         'av_brake']\n",
    "\n",
    "user_features.fillna(0, inplace=True)\n",
    "user_features.head(10)\n"
   ]
  },
  {
   "cell_type": "code",
   "execution_count": 29,
   "metadata": {
    "scrolled": false
   },
   "outputs": [
    {
     "data": {
      "image/png": "[encoded data removed]",
      "text/plain": [
       "<Figure size 432x288 with 1 Axes>"
      ]
     },
     "metadata": {},
     "output_type": "display_data"
    },
    {
     "data": {
      "image/png": "[encoded data removed]",
      "text/plain": [
       "<Figure size 432x288 with 1 Axes>"
      ]
     },
     "metadata": {},
     "output_type": "display_data"
    },
    {
     "data": {
      "image/png": "[encoded data removed]",
      "text/plain": [
       "<Figure size 432x288 with 1 Axes>"
      ]
     },
     "metadata": {},
     "output_type": "display_data"
    },
    {
     "data": {
      "image/png": "[encoded data removed]",
      "text/plain": [
       "<Figure size 432x288 with 1 Axes>"
      ]
     },
     "metadata": {},
     "output_type": "display_data"
    }
   ],
   "source": [
    "# посмотрим на распределения полученных признаков\n",
    "for col in user_features.columns:\n",
    "    sns.histplot(data=user_features,\n",
    "                 x=col,\n",
    "                 kde=True,\n",
    "                 bins=50,\n",
    "                 stat=\"density\",\n",
    "                 fill=False,\n",
    "                 common_norm=False\n",
    "                 )\n",
    "    plt.xlim(user_features[col].min(),user_features[col].quantile(0.995))\n",
    "    plt.show()\n"
   ]
  },
  {
   "cell_type": "markdown",
   "metadata": {},
   "source": [
    "**Общий вывод:** \n",
    "- События распределены по времени достаточно равномерно, каких-то \"каникул\" не наблюдается. Видим, что каждые сутки в ночное время происходит спад пользовательской активности.\n",
    "- Чаще всего пользователи пользуются подсказками и смотрят фотографии в объявлении. Реже всего совершают разные события, связанные с поиском по сайту. \n",
    "- Больше всего пользователей пришло через Яндекс. Через Гугл и другие источники примерно одинаковое количество\n",
    "- Только 23% пользователей совершают целевое действие contacts_show\n",
    "- На первую неделю удержание пользователей составляет порядка 21-25%. Ко второй неделе удержание уже падает до 13-14%."
   ]
  },
  {
   "cell_type": "markdown",
   "metadata": {},
   "source": [
    "## Сегментация пользователей"
   ]
  },
  {
   "cell_type": "markdown",
   "metadata": {},
   "source": [
    "Сегментацию будем проводить на основе расчитанных параметров-признаков. Для начала оценим примерное количество кластеров, на которые делятся пользователи приложения, построим дендрограмму. Затем воспользуемся алгоритмом кластеризации K-means и разделим общий набор пользователей на нужное число кластеров"
   ]
  },
  {
   "cell_type": "code",
   "execution_count": 30,
   "metadata": {},
   "outputs": [
    {
     "data": {
      "image/png": "[encoded data removed]",
      "text/plain": [
       "<Figure size 864x504 with 1 Axes>"
      ]
     },
     "metadata": {},
     "output_type": "display_data"
    },
    {
     "name": "stdout",
     "output_type": "stream",
     "text": [
      "CPU times: user 1min 45s, sys: 22.3 s, total: 2min 7s\n",
      "Wall time: 2min 8s\n"
     ]
    }
   ],
   "source": [
    "%%time\n",
    "# стандартизируем данные\n",
    "sc = StandardScaler()\n",
    "X_sc = sc.fit_transform(user_features)\n",
    "\n",
    "\n",
    "# построим матрицу расстояний функцией linkage() на стандартизованной матрице признаков и нарисуем дендрограмму\n",
    "linked = linkage(X_sc, method='ward')\n",
    "plt.figure(figsize=(12, 7))\n",
    "dendrogram(linked, orientation='top')\n",
    "plt.title('Hierarchial clustering')\n",
    "plt.show()\n"
   ]
  },
  {
   "cell_type": "markdown",
   "metadata": {},
   "source": [
    "На полученной дендрограмме иерархической кластеризации, в зависимости от порога расстояния, можно выделить примерно 3 - 4 кластера объектов. Для получения наиболее сбалансированных сегментов, положим количество кластеров равное 3"
   ]
  },
  {
   "cell_type": "code",
   "execution_count": 31,
   "metadata": {},
   "outputs": [],
   "source": [
    "# обучим модель кластеризации K-Means и спрогнозируем кластеры пользователей.\n",
    "\n",
    "km = KMeans(n_clusters=3, random_state=42)\n",
    "user_features['segment'] = km.fit_predict(X_sc)\n",
    "mobile_dataset = mobile_dataset.merge(user_features.segment, on='user_id')"
   ]
  },
  {
   "cell_type": "code",
   "execution_count": 32,
   "metadata": {
    "scrolled": true
   },
   "outputs": [
    {
     "data": {
      "text/plain": [
       "2    3151\n",
       "0     641\n",
       "1     501\n",
       "Name: segment, dtype: int64"
      ]
     },
     "execution_count": 32,
     "metadata": {},
     "output_type": "execute_result"
    }
   ],
   "source": [
    "# посмотрим сколько пользователей попало в каждый сегмент\n",
    "user_features.segment.value_counts()\n"
   ]
  },
  {
   "cell_type": "markdown",
   "metadata": {},
   "source": [
    "Видим, что полученные сегменты несколько несбалансированны. Это нормально, ведь для разного уровня активности и типа поведения количество пользователей может различаться"
   ]
  },
  {
   "cell_type": "code",
   "execution_count": 33,
   "metadata": {},
   "outputs": [
    {
     "data": {
      "image/png": "[encoded data removed]",
      "text/plain": [
       "<Figure size 432x288 with 1 Axes>"
      ]
     },
     "metadata": {},
     "output_type": "display_data"
    },
    {
     "data": {
      "image/png": "[encoded data removed]",
      "text/plain": [
       "<Figure size 432x288 with 1 Axes>"
      ]
     },
     "metadata": {},
     "output_type": "display_data"
    },
    {
     "data": {
      "image/png": "[encoded data removed]",
      "text/plain": [
       "<Figure size 432x288 with 1 Axes>"
      ]
     },
     "metadata": {},
     "output_type": "display_data"
    },
    {
     "data": {
      "image/png": "[encoded data removed]",
      "text/plain": [
       "<Figure size 432x288 with 1 Axes>"
      ]
     },
     "metadata": {},
     "output_type": "display_data"
    }
   ],
   "source": [
    "# посмотрим на распределения параметров-признаков для полученных сегементов пользователей\n",
    "\n",
    "palette ={0: \"C0\", 1: \"C1\", 2: \"C2\", 3: \"C3\"}\n",
    "\n",
    "for col in user_features.drop(columns='segment').columns:\n",
    "    sns.histplot(data=user_features,\n",
    "                 x=col,\n",
    "                 hue='segment',\n",
    "                 kde=True,\n",
    "                 bins=50,\n",
    "                 stat=\"density\",\n",
    "                 fill=False,\n",
    "                 palette=palette,\n",
    "                 common_norm=False\n",
    "                 )\n",
    "    plt.xlim(user_features[col].min(),user_features[col].quantile(0.995))\n",
    "\n",
    "    plt.show()\n"
   ]
  },
  {
   "cell_type": "markdown",
   "metadata": {},
   "source": [
    "По распределениям признакаков видим для полученных сегментов: \n",
    "- сегмент \"1\" характеризуется повышенной длительностью сессии и средним числом событий в сессии \n",
    "- сегмент \"0\" характеризуется повышенным количеством сессий и повышенными промежутками между сессий\n",
    "- сегмент \"2\" характеризуется пониженными значениями всех признаков"
   ]
  },
  {
   "cell_type": "code",
   "execution_count": 34,
   "metadata": {},
   "outputs": [
    {
     "data": {
      "image/png": "[encoded data removed]",
      "text/plain": [
       "<Figure size 1080x288 with 1 Axes>"
      ]
     },
     "metadata": {},
     "output_type": "display_data"
    }
   ],
   "source": [
    "# Посмотрим на активность пользователей для полученных сегментов\n",
    "\n",
    "mobile_dataset.pivot_table(index='date',\n",
    "                           columns='segment',\n",
    "                           values='user_id',\n",
    "                           aggfunc='count').plot(kind='bar',\n",
    "                                                 stacked=True,\n",
    "                                                 width=0.9,\n",
    "                                                 figsize=(15, 4)\n",
    "                                                 )\n",
    "\n",
    "plt.title('Распределение событий по датам для выделенных сегментов пользователей', fontsize=14);\n"
   ]
  },
  {
   "cell_type": "markdown",
   "metadata": {},
   "source": [
    "Важно отметить, что пользователи каждого из сегментов активны в течении всего временного интервала"
   ]
  },
  {
   "cell_type": "code",
   "execution_count": 35,
   "metadata": {
    "scrolled": true
   },
   "outputs": [
    {
     "name": "stdout",
     "output_type": "stream",
     "text": [
      "Конверсия для сегмента 0: 32%\n",
      "Конверсия для сегмента 2: 20%\n",
      "Конверсия для сегмента 1: 26%\n"
     ]
    }
   ],
   "source": [
    "# Оценим конверсию в целевое действие contacts_show для полученных сегментов пользователей\n",
    "for segment in user_features.segment.unique():\n",
    "    conv = mobile_dataset.query('event == \"contacts_show\" and segment == @segment')[\n",
    "        'user_id'].nunique()/mobile_dataset.query('segment == @segment')['user_id'].nunique()\n",
    "    print(f'Конверсия для сегмента {segment}: {round(conv*100)}%'\n",
    "\n",
    "          )\n"
   ]
  },
  {
   "cell_type": "markdown",
   "metadata": {},
   "source": [
    "- Видим, что сегмент \"0\" лидер по конверсии в contacts_show (повышенной длительностью сессии и средним числом событий в сессии ) - его конверсия составляет 33%, это самый активный сегмент\n",
    "- Наименее активный сегмент - сегмент \"2\", его конверсия составляет 20%"
   ]
  },
  {
   "cell_type": "code",
   "execution_count": 36,
   "metadata": {
    "scrolled": false
   },
   "outputs": [
    {
     "data": {
      "image/png": "[encoded data removed]",
      "text/plain": [
       "<Figure size 1080x432 with 2 Axes>"
      ]
     },
     "metadata": {},
     "output_type": "display_data"
    },
    {
     "data": {
      "image/png": "[encoded data removed]",
      "text/plain": [
       "<Figure size 1080x432 with 2 Axes>"
      ]
     },
     "metadata": {},
     "output_type": "display_data"
    },
    {
     "data": {
      "image/png": "[encoded data removed]",
      "text/plain": [
       "<Figure size 1080x432 with 2 Axes>"
      ]
     },
     "metadata": {},
     "output_type": "display_data"
    }
   ],
   "source": [
    "# Считаем ретеншн на момент последней даты с горизонтом анализа 3 недели, формируем когорты по неделям первой активности пользователей\n",
    "for segment in user_features.segment.unique():\n",
    "    retention_raw, retention, sessions = get_retention(\n",
    "        mobile_dataset.query('segment == @segment'), observation_date=datetime(2019, 11, 3).date(), horizon=3, dimensions=['week']\n",
    "    )\n",
    "    # строим хитмэп без нулевого лайфтайма\n",
    "\n",
    "    plt.figure(figsize=(15, 6))  # задаём размер графика\n",
    "    sns.heatmap(\n",
    "        retention.drop(columns=['cohort_size', 0]).fillna(0),  # удаляем лишние столбцы\n",
    "        annot=True,  # включаем подписи\n",
    "        fmt='.2%',  # переводим значения в проценты\n",
    "    )\n",
    "    # название графика\n",
    "    plt.title(f'Тепловая карта удержания для сегмента {segment}')\n",
    "    plt.show()\n"
   ]
  },
  {
   "cell_type": "markdown",
   "metadata": {},
   "source": [
    "- С ретеншн наблюдается аналогичная ситуация как с конверсией для сегмента \"0\" - он снова лидирует. У него удержание на первую неделю 60-86%, в зависимости от когорты.\n",
    "- Пользователи других двух сегментов удерживаются одинаково плохо - для них ретеншн на первую неделю находится на уровне 11-13%\n"
   ]
  },
  {
   "cell_type": "markdown",
   "metadata": {},
   "source": [
    "**Таким образом, на данном этапе уже можем дать ответы на основные вопросы бизнеса:**\n",
    "\n",
    "- Пользователи группы группы \"0\" склонны часто возвращаться в мобильное приложение (retention 60-86% на первую неделю, 54-63% на вторую)\n",
    "- Пользователи группы группы \"0\" часто наиболее часто делают целевое действие (конверсия в contacts_show составляет 32%)\n"
   ]
  },
  {
   "cell_type": "markdown",
   "metadata": {},
   "source": [
    "## Проверка статистических гипотез\n",
    "На данном шаге проверим следующие статистические гипотезы:\n",
    "\n",
    "1. Конверсии в просмотры контактов для пользователей, пришедших через Гугл и через Яндекс различаются\n",
    "2. Конверсии в просмотры фотографии для лучшей и худшей группы (основываясь на ретеншн и конверсии) различаются"
   ]
  },
  {
   "cell_type": "code",
   "execution_count": 37,
   "metadata": {},
   "outputs": [],
   "source": [
    "# зададим критический уровень статистической значимости\n",
    "alpha = 0.05"
   ]
  },
  {
   "cell_type": "markdown",
   "metadata": {},
   "source": [
    "### 1. Конверсии в просмотры контактов для пользователей, пришедших через Гугл и через Яндекс различаются\n",
    "Сформулируем нулевую и альтернативную гипотезы:\n",
    "- H0: Конверсиия в просмотры контактов для пользователей, пришедших через Гугл и через Яндекс одинакова\n",
    "- H1: Конверсиия в просмотры контактов для пользователей, пришедших через Гугл и через Яндекс различается"
   ]
  },
  {
   "cell_type": "code",
   "execution_count": 38,
   "metadata": {},
   "outputs": [
    {
     "name": "stdout",
     "output_type": "stream",
     "text": [
      "Результаты статистического теста для групп google, yandex, и события contacts_show:\n",
      "p-значение:  0.8244316027993777\n",
      "Не получилось отвергнуть нулевую гипотезу, нет оснований считать конверсии разными\n",
      "\n"
     ]
    }
   ],
   "source": [
    "# будем использовать z-тест для сформулированной гипотезы\n",
    "\n",
    "event = np.array([mobile_dataset.query('event == \"contacts_show\" & source == \"google\"').user_id.nunique(), \n",
    "                     mobile_dataset.query('event == \"contacts_show\" & source == \"yandex\"').user_id.nunique()])\n",
    "\n",
    "all_events = np.array([mobile_dataset.query('source == \"google\"').user_id.nunique(),\n",
    "                     mobile_dataset.query('source == \"yandex\"').user_id.nunique() ])\n",
    "\n",
    "# пропорция в первой группе:\n",
    "p1 = event[0]/all_events[0]\n",
    "\n",
    "# пропорция во второй группе:\n",
    "p2 = event[1]/all_events[1]\n",
    "\n",
    "# пропорция в комбинированном датасете:\n",
    "p_combined = (event[0] + event[1]) / (all_events[0] + all_events[1])\n",
    "\n",
    "# разница пропорций в датасетах\n",
    "difference = p1 - p2 \n",
    "\n",
    "# считаем статистику в ст.отклонениях стандартного нормального распределения\n",
    "z_value = difference / np.sqrt(\n",
    "       p_combined * (1 - p_combined) * (1 / all_events[0] + 1 / all_events[1])\n",
    ")\n",
    "\n",
    "# задаем стандартное нормальное распределение (среднее 0, ст.отклонение 1)\n",
    "distr = st.norm(0, 1)\n",
    "\n",
    "p_value = (1 - distr.cdf(abs(z_value))) * 2\n",
    "print('Результаты статистического теста для групп {}, {}, и события {}:'.format(\"google\",\"yandex\", \"contacts_show\"))\n",
    "print('p-значение: ', p_value)\n",
    "\n",
    "if p_value < alpha:\n",
    "       print('Отвергаем нулевую гипотезу: между конверсиями есть значимая разница\\n')\n",
    "else:\n",
    "       print(\n",
    "       'Не получилось отвергнуть нулевую гипотезу, нет оснований считать конверсии разными\\n'\n",
    "       ) \n"
   ]
  },
  {
   "cell_type": "markdown",
   "metadata": {},
   "source": [
    "**Вывод:**  Различия между значениями конверсии в просмотр контакты для пользователей, пришедших через google и yandex в конкретном случае **не являются** статистически значимыми. "
   ]
  },
  {
   "cell_type": "markdown",
   "metadata": {},
   "source": [
    "### 2. Конверсии в просмотры фотографии для лучшей и худшей группы (основываясь на ретеншн и конверсии для выделенных сегментов) различаются\n",
    "**Напомним, что сегмент (группа) с наилучшим ретеншн: #0; с наихудшим: #2**\n",
    "\n",
    "Сформулируем нулевую и альтернативную гипотезы:\n",
    "- H0: Конверсиия в просмотры фотографии для групп 0 и 2 одинакова\n",
    "\n",
    "- H1: Конверсиия в просмотры фотографии для групп 0 и 2 различается"
   ]
  },
  {
   "cell_type": "code",
   "execution_count": 39,
   "metadata": {},
   "outputs": [
    {
     "name": "stdout",
     "output_type": "stream",
     "text": [
      "Результаты статистического теста для сегментов 0, 2, и события photos_show:\n",
      "p-значение:  9.51202876464663e-08\n",
      "Отвергаем нулевую гипотезу: между конверсиями есть значимая разница\n",
      "\n"
     ]
    }
   ],
   "source": [
    "# будем использовать z-тест для сформулированной гипотезы\n",
    "\n",
    "event = np.array([mobile_dataset.query('event == \"photos_show\" & segment == 0').user_id.nunique(), \n",
    "                     mobile_dataset.query('event == \"photos_show\" & segment == 2').user_id.nunique()])\n",
    "\n",
    "all_events = np.array([mobile_dataset.query('segment == 0').user_id.nunique(),\n",
    "                     mobile_dataset.query('segment == 2').user_id.nunique() ])\n",
    "\n",
    "# пропорция в первой группе:\n",
    "p1 = event[0]/all_events[0]\n",
    "\n",
    "# пропорция во второй группе:\n",
    "p2 = event[1]/all_events[1]\n",
    "\n",
    "# пропорция в комбинированном датасете:\n",
    "p_combined = (event[0] + event[1]) / (all_events[0] + all_events[1])\n",
    "\n",
    "# разница пропорций в датасетах\n",
    "difference = p1 - p2 \n",
    "\n",
    "# считаем статистику в ст.отклонениях стандартного нормального распределения\n",
    "z_value = difference / np.sqrt(\n",
    "       p_combined * (1 - p_combined) * (1 / all_events[0] + 1 / all_events[1])\n",
    ")\n",
    "\n",
    "# задаем стандартное нормальное распределение (среднее 0, ст.отклонение 1)\n",
    "distr = st.norm(0, 1)\n",
    "\n",
    "p_value = (1 - distr.cdf(abs(z_value))) * 2\n",
    "print('Результаты статистического теста для сегментов {}, {}, и события {}:'.format(0,2, \"photos_show\"))\n",
    "print('p-значение: ', p_value)\n",
    "\n",
    "if p_value < alpha:\n",
    "       print('Отвергаем нулевую гипотезу: между конверсиями есть значимая разница\\n')\n",
    "else:\n",
    "       print(\n",
    "       'Не получилось отвергнуть нулевую гипотезу, нет оснований считать конверсии разными\\n'\n",
    "       ) \n"
   ]
  },
  {
   "cell_type": "markdown",
   "metadata": {},
   "source": [
    " **Вывод:** Различия между значениями конверсии в просмотр фотографии для пользователей из сегментов #0 (с лучшим удержание и конверсией) и #2 (c худжшим удержанием и конверсией) в конкретном случае **являются** статистически значимыми. "
   ]
  },
  {
   "cell_type": "markdown",
   "metadata": {},
   "source": [
    "**Основные результаты по проверке статистических гипотез:**\n",
    "\n",
    "- Различия между значениями конверсии в просмотр контакты для пользователей, пришедших через google и yandex в конкретном случае **не являются** статистически значимыми. \n",
    "- Различия между значениями конверсии в просмотр фотографии для пользователей из сегментов #0 (с лучшим удержанием и конверсией) и #2 (c худшим удержанием и конверсией) в конкретном случае **являются** статистически значимыми. \n",
    "\n"
   ]
  },
  {
   "cell_type": "markdown",
   "metadata": {},
   "source": [
    "## Заключение и выводы\n",
    "\n",
    "- В рамках проекта был проанализирован набор данных с событиями, совершенных в мобильном приложении\n",
    "\n",
    "- С помощью модели кластеризации K-means была произведена сегментация пользователей на четыре группы \n",
    "\n",
    "- Для выполнения сегментации были расчитаны следующие параметры-признаки активности пользователей: средняя длина сессии, количество проведенных сессий, среднее число событий внутри сессии, средний перерыв между сессиями\n",
    "\n",
    "- Была определена группа (#0), пользователи которй склонны часто возвращаться в мобильное приложение (retention 60-86% на первую неделю, 54-63% на вторую)\n",
    "- Была определена группа (#0), пользователи которй часто наиболее часто делают целевое действие (конверсия в contacts_show составляет 32%)\n",
    "- Были проверены следующие статистические гипотезы: \n",
    "    1. Конверсии в просмотры контактов для пользователей, пришедших через Гугл и через Яндекс различаются. Различия между значениями конверсии в просмотр контакты для пользователей, пришедших через Гугл и Яндекс в конкретном случае **не являются** статистически значимыми. \n",
    "    \n",
    "    2. Конверсии в просмотры фотографии для лучшей и худшей группы (основываясь на ретеншн для выделенных сегментов) различаются. Различия между значениями конверсии в просмотр фотографии для пользователей из сегментов #0 (с лучшим удержанием и конверсией) и #2 (c худшим удержанием и конверсией) в конкретном случае **являются** статистически значимыми. \n",
    "    \n",
    "## Рекомендации\n",
    "- Так как различия между значениями конверсии в просмотр фотографии  для лучшей и худшей групп является значимой, можно предположить, что то, как пользователи смотрят фотографии, может влиять на удержание пользователей в мобильном приложении. Таким образом, для улучшения удержания имеет смысл каким-то образом модифицировать функционал, связанный с просмотром фотографий в объявлениях. Самый простой вариант - попробовать для всех новых объявлений сделать обязательной загрузку фотографий \n",
    "- Так как конверсии в просмотры контактов для пользователей, пришедших через Гугл и через Яндекс не являются значимыми, можно допустить, что для бизнеса нет разницы через через Гугл и через Яндекс приходят пользователи\n",
    "\n",
    "\n"
   ]
  }
 ],
 "metadata": {
  "ExecuteTimeLog": [
   {
    "duration": 1650,
    "start_time": "2022-08-29T21:27:24.122Z"
   },
   {
    "duration": 347,
    "start_time": "2022-08-29T21:27:25.774Z"
   },
   {
    "duration": 13,
    "start_time": "2022-08-29T21:27:26.123Z"
   },
   {
    "duration": 7,
    "start_time": "2022-08-29T21:27:26.138Z"
   },
   {
    "duration": 35,
    "start_time": "2022-08-29T21:27:26.146Z"
   },
   {
    "duration": 31,
    "start_time": "2022-08-29T21:27:26.182Z"
   },
   {
    "duration": 8,
    "start_time": "2022-08-29T21:27:26.214Z"
   },
   {
    "duration": 22,
    "start_time": "2022-08-29T21:27:26.223Z"
   },
   {
    "duration": 34,
    "start_time": "2022-08-29T21:27:26.246Z"
   },
   {
    "duration": 25,
    "start_time": "2022-08-29T21:27:26.283Z"
   },
   {
    "duration": 7,
    "start_time": "2022-08-29T21:27:26.309Z"
   },
   {
    "duration": 11,
    "start_time": "2022-08-29T21:27:26.317Z"
   },
   {
    "duration": 10,
    "start_time": "2022-08-29T21:27:26.330Z"
   },
   {
    "duration": 22,
    "start_time": "2022-08-29T21:27:26.368Z"
   },
   {
    "duration": 899,
    "start_time": "2022-08-29T21:27:26.392Z"
   },
   {
    "duration": 6,
    "start_time": "2022-08-29T21:27:27.293Z"
   },
   {
    "duration": 9,
    "start_time": "2022-08-29T21:27:27.301Z"
   },
   {
    "duration": 14,
    "start_time": "2022-08-29T21:27:27.312Z"
   },
   {
    "duration": 834,
    "start_time": "2022-08-29T21:27:27.327Z"
   },
   {
    "duration": 227,
    "start_time": "2022-08-29T21:27:28.162Z"
   },
   {
    "duration": 164,
    "start_time": "2022-08-29T21:27:28.390Z"
   },
   {
    "duration": 393,
    "start_time": "2022-08-29T21:27:28.555Z"
   },
   {
    "duration": 9,
    "start_time": "2022-08-29T21:27:28.950Z"
   },
   {
    "duration": 533,
    "start_time": "2022-08-29T21:27:28.968Z"
   },
   {
    "duration": 22,
    "start_time": "2022-08-29T21:27:29.504Z"
   },
   {
    "duration": 15,
    "start_time": "2022-08-29T21:27:29.527Z"
   },
   {
    "duration": 44,
    "start_time": "2022-08-29T21:27:29.544Z"
   },
   {
    "duration": 1023,
    "start_time": "2022-08-29T21:27:29.591Z"
   },
   {
    "duration": 119602,
    "start_time": "2022-08-29T21:27:30.616Z"
   },
   {
    "duration": 748,
    "start_time": "2022-08-29T21:29:30.220Z"
   },
   {
    "duration": 5,
    "start_time": "2022-08-29T21:29:30.970Z"
   },
   {
    "duration": 2501,
    "start_time": "2022-08-29T21:29:30.977Z"
   },
   {
    "duration": 674,
    "start_time": "2022-08-29T21:29:33.479Z"
   },
   {
    "duration": 53,
    "start_time": "2022-08-29T21:29:34.155Z"
   },
   {
    "duration": 1664,
    "start_time": "2022-08-29T21:29:34.210Z"
   },
   {
    "duration": 2,
    "start_time": "2022-08-29T21:29:35.876Z"
   },
   {
    "duration": 38,
    "start_time": "2022-08-29T21:29:35.880Z"
   },
   {
    "duration": 49,
    "start_time": "2022-08-29T21:29:35.920Z"
   },
   {
    "duration": 5,
    "start_time": "2022-08-29T21:57:10.859Z"
   },
   {
    "duration": 5,
    "start_time": "2022-08-29T21:57:15.804Z"
   },
   {
    "duration": 41,
    "start_time": "2022-08-30T11:33:12.110Z"
   },
   {
    "duration": 1792,
    "start_time": "2022-08-30T11:33:24.168Z"
   },
   {
    "duration": 415,
    "start_time": "2022-08-30T11:33:25.962Z"
   },
   {
    "duration": 13,
    "start_time": "2022-08-30T11:33:26.379Z"
   },
   {
    "duration": 8,
    "start_time": "2022-08-30T11:33:26.394Z"
   },
   {
    "duration": 21,
    "start_time": "2022-08-30T11:33:26.404Z"
   },
   {
    "duration": 52,
    "start_time": "2022-08-30T11:33:26.427Z"
   },
   {
    "duration": 8,
    "start_time": "2022-08-30T11:33:26.481Z"
   },
   {
    "duration": 28,
    "start_time": "2022-08-30T11:33:26.490Z"
   },
   {
    "duration": 35,
    "start_time": "2022-08-30T11:33:26.520Z"
   },
   {
    "duration": 24,
    "start_time": "2022-08-30T11:33:26.557Z"
   },
   {
    "duration": 7,
    "start_time": "2022-08-30T11:33:26.582Z"
   },
   {
    "duration": 12,
    "start_time": "2022-08-30T11:33:26.591Z"
   },
   {
    "duration": 12,
    "start_time": "2022-08-30T11:33:26.604Z"
   },
   {
    "duration": 44,
    "start_time": "2022-08-30T11:33:26.618Z"
   },
   {
    "duration": 795,
    "start_time": "2022-08-30T11:33:26.664Z"
   },
   {
    "duration": 6,
    "start_time": "2022-08-30T11:33:27.462Z"
   },
   {
    "duration": 44,
    "start_time": "2022-08-30T11:33:27.470Z"
   },
   {
    "duration": 27,
    "start_time": "2022-08-30T11:33:27.516Z"
   },
   {
    "duration": 757,
    "start_time": "2022-08-30T11:33:27.546Z"
   },
   {
    "duration": 207,
    "start_time": "2022-08-30T11:33:28.305Z"
   },
   {
    "duration": 150,
    "start_time": "2022-08-30T11:33:28.513Z"
   },
   {
    "duration": 383,
    "start_time": "2022-08-30T11:33:28.664Z"
   },
   {
    "duration": 11,
    "start_time": "2022-08-30T11:33:29.049Z"
   },
   {
    "duration": 528,
    "start_time": "2022-08-30T11:33:29.062Z"
   },
   {
    "duration": 18,
    "start_time": "2022-08-30T11:33:29.591Z"
   },
   {
    "duration": 10,
    "start_time": "2022-08-30T11:33:29.611Z"
   },
   {
    "duration": 35,
    "start_time": "2022-08-30T11:33:29.623Z"
   },
   {
    "duration": 932,
    "start_time": "2022-08-30T11:33:29.661Z"
   },
   {
    "duration": 113400,
    "start_time": "2022-08-30T11:33:30.594Z"
   },
   {
    "duration": 669,
    "start_time": "2022-08-30T11:35:23.996Z"
   },
   {
    "duration": 5,
    "start_time": "2022-08-30T11:35:24.666Z"
   },
   {
    "duration": 2349,
    "start_time": "2022-08-30T11:35:24.673Z"
   },
   {
    "duration": 686,
    "start_time": "2022-08-30T11:35:27.024Z"
   },
   {
    "duration": 55,
    "start_time": "2022-08-30T11:35:27.712Z"
   },
   {
    "duration": 1602,
    "start_time": "2022-08-30T11:35:27.769Z"
   },
   {
    "duration": 3,
    "start_time": "2022-08-30T11:35:29.372Z"
   },
   {
    "duration": 40,
    "start_time": "2022-08-30T11:35:29.377Z"
   },
   {
    "duration": 43,
    "start_time": "2022-08-30T11:35:29.419Z"
   },
   {
    "duration": 6,
    "start_time": "2022-08-30T11:35:38.888Z"
   },
   {
    "duration": 96,
    "start_time": "2022-08-30T11:37:45.221Z"
   },
   {
    "duration": 11,
    "start_time": "2022-08-30T11:38:01.637Z"
   },
   {
    "duration": 8,
    "start_time": "2022-08-30T11:42:13.244Z"
   },
   {
    "duration": 177,
    "start_time": "2022-08-30T11:42:43.841Z"
   },
   {
    "duration": 15,
    "start_time": "2022-08-30T11:42:57.776Z"
   },
   {
    "duration": 15,
    "start_time": "2022-08-30T11:43:00.869Z"
   },
   {
    "duration": 556,
    "start_time": "2022-08-30T11:43:08.584Z"
   },
   {
    "duration": 12,
    "start_time": "2022-08-30T11:44:03.963Z"
   },
   {
    "duration": 1883,
    "start_time": "2022-08-30T20:43:03.836Z"
   },
   {
    "duration": 862,
    "start_time": "2022-08-30T20:43:05.721Z"
   },
   {
    "duration": 18,
    "start_time": "2022-08-30T20:43:06.585Z"
   },
   {
    "duration": 8,
    "start_time": "2022-08-30T20:43:06.606Z"
   },
   {
    "duration": 19,
    "start_time": "2022-08-30T20:43:06.615Z"
   },
   {
    "duration": 66,
    "start_time": "2022-08-30T20:43:06.636Z"
   },
   {
    "duration": 8,
    "start_time": "2022-08-30T20:43:06.704Z"
   },
   {
    "duration": 26,
    "start_time": "2022-08-30T20:43:06.713Z"
   },
   {
    "duration": 19,
    "start_time": "2022-08-30T20:43:06.740Z"
   },
   {
    "duration": 48,
    "start_time": "2022-08-30T20:43:06.762Z"
   },
   {
    "duration": 7,
    "start_time": "2022-08-30T20:43:06.811Z"
   },
   {
    "duration": 10,
    "start_time": "2022-08-30T20:43:06.820Z"
   },
   {
    "duration": 11,
    "start_time": "2022-08-30T20:43:06.832Z"
   },
   {
    "duration": 54,
    "start_time": "2022-08-30T20:43:06.844Z"
   },
   {
    "duration": 819,
    "start_time": "2022-08-30T20:43:06.900Z"
   },
   {
    "duration": 5,
    "start_time": "2022-08-30T20:43:07.721Z"
   },
   {
    "duration": 11,
    "start_time": "2022-08-30T20:43:07.727Z"
   },
   {
    "duration": 17,
    "start_time": "2022-08-30T20:43:07.740Z"
   },
   {
    "duration": 845,
    "start_time": "2022-08-30T20:43:07.759Z"
   },
   {
    "duration": 243,
    "start_time": "2022-08-30T20:43:08.606Z"
   },
   {
    "duration": 181,
    "start_time": "2022-08-30T20:43:08.851Z"
   },
   {
    "duration": 396,
    "start_time": "2022-08-30T20:43:09.034Z"
   },
   {
    "duration": 6,
    "start_time": "2022-08-30T20:43:09.432Z"
   },
   {
    "duration": 22,
    "start_time": "2022-08-30T20:43:09.440Z"
   },
   {
    "duration": 590,
    "start_time": "2022-08-30T20:43:09.463Z"
   },
   {
    "duration": 34,
    "start_time": "2022-08-30T20:43:10.055Z"
   },
   {
    "duration": 12,
    "start_time": "2022-08-30T20:43:10.091Z"
   },
   {
    "duration": 22,
    "start_time": "2022-08-30T20:43:10.107Z"
   },
   {
    "duration": 1056,
    "start_time": "2022-08-30T20:43:10.131Z"
   },
   {
    "duration": 122323,
    "start_time": "2022-08-30T20:43:11.189Z"
   },
   {
    "duration": 885,
    "start_time": "2022-08-30T20:45:13.514Z"
   },
   {
    "duration": 6,
    "start_time": "2022-08-30T20:45:14.401Z"
   },
   {
    "duration": 2060,
    "start_time": "2022-08-30T20:45:14.409Z"
   },
   {
    "duration": 574,
    "start_time": "2022-08-30T20:45:16.471Z"
   },
   {
    "duration": 44,
    "start_time": "2022-08-30T20:45:17.046Z"
   },
   {
    "duration": 1331,
    "start_time": "2022-08-30T20:45:17.092Z"
   },
   {
    "duration": 3,
    "start_time": "2022-08-30T20:45:18.424Z"
   },
   {
    "duration": 379,
    "start_time": "2022-08-30T20:45:18.428Z"
   },
   {
    "duration": 45,
    "start_time": "2022-08-30T20:45:18.809Z"
   },
   {
    "duration": 5,
    "start_time": "2022-08-30T20:52:18.010Z"
   },
   {
    "duration": 4,
    "start_time": "2022-08-30T20:52:22.313Z"
   },
   {
    "duration": 5,
    "start_time": "2022-08-30T20:54:39.960Z"
   },
   {
    "duration": 5,
    "start_time": "2022-08-30T20:55:01.759Z"
   },
   {
    "duration": 2553,
    "start_time": "2022-08-30T20:55:12.630Z"
   },
   {
    "duration": 298,
    "start_time": "2022-08-30T20:55:15.185Z"
   },
   {
    "duration": 16,
    "start_time": "2022-08-30T20:55:15.485Z"
   },
   {
    "duration": 14,
    "start_time": "2022-08-30T20:55:15.504Z"
   },
   {
    "duration": 27,
    "start_time": "2022-08-30T20:55:15.520Z"
   },
   {
    "duration": 61,
    "start_time": "2022-08-30T20:55:15.550Z"
   },
   {
    "duration": 8,
    "start_time": "2022-08-30T20:55:15.613Z"
   },
   {
    "duration": 24,
    "start_time": "2022-08-30T20:55:15.623Z"
   },
   {
    "duration": 20,
    "start_time": "2022-08-30T20:55:15.649Z"
   },
   {
    "duration": 31,
    "start_time": "2022-08-30T20:55:15.689Z"
   },
   {
    "duration": 7,
    "start_time": "2022-08-30T20:55:15.722Z"
   },
   {
    "duration": 8,
    "start_time": "2022-08-30T20:55:15.731Z"
   },
   {
    "duration": 11,
    "start_time": "2022-08-30T20:55:15.741Z"
   },
   {
    "duration": 64,
    "start_time": "2022-08-30T20:55:15.754Z"
   },
   {
    "duration": 958,
    "start_time": "2022-08-30T20:55:15.820Z"
   },
   {
    "duration": 18,
    "start_time": "2022-08-30T20:55:16.780Z"
   },
   {
    "duration": 10,
    "start_time": "2022-08-30T20:55:16.806Z"
   },
   {
    "duration": 15,
    "start_time": "2022-08-30T20:55:16.817Z"
   },
   {
    "duration": 878,
    "start_time": "2022-08-30T20:55:16.834Z"
   },
   {
    "duration": 248,
    "start_time": "2022-08-30T20:55:17.714Z"
   },
   {
    "duration": 213,
    "start_time": "2022-08-30T20:55:17.963Z"
   },
   {
    "duration": 421,
    "start_time": "2022-08-30T20:55:18.177Z"
   },
   {
    "duration": 9,
    "start_time": "2022-08-30T20:55:18.603Z"
   },
   {
    "duration": 14,
    "start_time": "2022-08-30T20:55:18.614Z"
   },
   {
    "duration": 589,
    "start_time": "2022-08-30T20:55:18.630Z"
   },
   {
    "duration": 20,
    "start_time": "2022-08-30T20:55:19.221Z"
   },
   {
    "duration": 12,
    "start_time": "2022-08-30T20:55:19.244Z"
   },
   {
    "duration": 50,
    "start_time": "2022-08-30T20:55:19.259Z"
   },
   {
    "duration": 5,
    "start_time": "2022-08-30T20:55:19.311Z"
   },
   {
    "duration": 1015,
    "start_time": "2022-08-30T20:55:19.319Z"
   },
   {
    "duration": 127285,
    "start_time": "2022-08-30T20:55:20.336Z"
   },
   {
    "duration": 812,
    "start_time": "2022-08-30T20:57:27.623Z"
   },
   {
    "duration": 53,
    "start_time": "2022-08-30T20:57:28.437Z"
   },
   {
    "duration": 1952,
    "start_time": "2022-08-30T20:57:28.499Z"
   },
   {
    "duration": 500,
    "start_time": "2022-08-30T20:57:30.453Z"
   },
   {
    "duration": 55,
    "start_time": "2022-08-30T20:57:30.954Z"
   },
   {
    "duration": 1286,
    "start_time": "2022-08-30T20:57:31.011Z"
   },
   {
    "duration": 3,
    "start_time": "2022-08-30T20:57:32.306Z"
   },
   {
    "duration": 402,
    "start_time": "2022-08-30T20:57:32.311Z"
   },
   {
    "duration": 33,
    "start_time": "2022-08-30T20:57:32.714Z"
   },
   {
    "duration": 1803,
    "start_time": "2022-09-01T14:56:04.432Z"
   },
   {
    "duration": 457,
    "start_time": "2022-09-01T14:56:06.237Z"
   },
   {
    "duration": 13,
    "start_time": "2022-09-01T14:56:06.695Z"
   },
   {
    "duration": 15,
    "start_time": "2022-09-01T14:56:06.710Z"
   },
   {
    "duration": 18,
    "start_time": "2022-09-01T14:56:06.726Z"
   },
   {
    "duration": 54,
    "start_time": "2022-09-01T14:56:06.746Z"
   },
   {
    "duration": 10,
    "start_time": "2022-09-01T14:56:06.802Z"
   },
   {
    "duration": 33,
    "start_time": "2022-09-01T14:56:06.814Z"
   },
   {
    "duration": 43,
    "start_time": "2022-09-01T14:56:06.849Z"
   },
   {
    "duration": 28,
    "start_time": "2022-09-01T14:56:06.895Z"
   },
   {
    "duration": 8,
    "start_time": "2022-09-01T14:56:06.925Z"
   },
   {
    "duration": 17,
    "start_time": "2022-09-01T14:56:06.934Z"
   },
   {
    "duration": 10,
    "start_time": "2022-09-01T14:56:06.952Z"
   },
   {
    "duration": 50,
    "start_time": "2022-09-01T14:56:06.964Z"
   },
   {
    "duration": 789,
    "start_time": "2022-09-01T14:56:07.016Z"
   },
   {
    "duration": 6,
    "start_time": "2022-09-01T14:56:07.807Z"
   },
   {
    "duration": 14,
    "start_time": "2022-09-01T14:56:07.814Z"
   },
   {
    "duration": 19,
    "start_time": "2022-09-01T14:56:07.830Z"
   },
   {
    "duration": 842,
    "start_time": "2022-09-01T14:56:07.851Z"
   },
   {
    "duration": 280,
    "start_time": "2022-09-01T14:56:08.696Z"
   },
   {
    "duration": 195,
    "start_time": "2022-09-01T14:56:08.979Z"
   },
   {
    "duration": 422,
    "start_time": "2022-09-01T14:56:09.176Z"
   },
   {
    "duration": 6,
    "start_time": "2022-09-01T14:56:09.600Z"
   },
   {
    "duration": 12,
    "start_time": "2022-09-01T14:56:09.607Z"
   },
   {
    "duration": 603,
    "start_time": "2022-09-01T14:56:09.621Z"
   },
   {
    "duration": 23,
    "start_time": "2022-09-01T14:56:10.226Z"
   },
   {
    "duration": 14,
    "start_time": "2022-09-01T14:56:10.251Z"
   },
   {
    "duration": 26,
    "start_time": "2022-09-01T14:56:10.291Z"
   },
   {
    "duration": 1051,
    "start_time": "2022-09-01T14:56:10.319Z"
   },
   {
    "duration": 128280,
    "start_time": "2022-09-01T14:56:11.371Z"
   },
   {
    "duration": 844,
    "start_time": "2022-09-01T14:58:19.653Z"
   },
   {
    "duration": 6,
    "start_time": "2022-09-01T14:58:20.499Z"
   },
   {
    "duration": 2088,
    "start_time": "2022-09-01T14:58:20.506Z"
   },
   {
    "duration": 521,
    "start_time": "2022-09-01T14:58:22.595Z"
   },
   {
    "duration": 42,
    "start_time": "2022-09-01T14:58:23.117Z"
   },
   {
    "duration": 1296,
    "start_time": "2022-09-01T14:58:23.161Z"
   },
   {
    "duration": 2,
    "start_time": "2022-09-01T14:58:24.459Z"
   },
   {
    "duration": 404,
    "start_time": "2022-09-01T14:58:24.463Z"
   },
   {
    "duration": 51,
    "start_time": "2022-09-01T14:58:24.869Z"
   },
   {
    "duration": 92,
    "start_time": "2022-09-01T15:03:58.058Z"
   }
  ],
  "kernelspec": {
   "display_name": "Python 3 (ipykernel)",
   "language": "python",
   "name": "python3"
  },
  "language_info": {
   "codemirror_mode": {
    "name": "ipython",
    "version": 3
   },
   "file_extension": ".py",
   "mimetype": "text/x-python",
   "name": "python",
   "nbconvert_exporter": "python",
   "pygments_lexer": "ipython3",
   "version": "3.9.13"
  },
  "toc": {
   "base_numbering": 1,
   "nav_menu": {},
   "number_sections": true,
   "sideBar": true,
   "skip_h1_title": true,
   "title_cell": "Table of Contents",
   "title_sidebar": "Contents",
   "toc_cell": false,
   "toc_position": {},
   "toc_section_display": true,
   "toc_window_display": true
  },
  "vscode": {
   "interpreter": {
    "hash": "fad2b3e19f6001124a831cc63338520f29d11b230e24a6c6ca7361e842322056"
   }
  }
 },
 "nbformat": 4,
 "nbformat_minor": 2
}
