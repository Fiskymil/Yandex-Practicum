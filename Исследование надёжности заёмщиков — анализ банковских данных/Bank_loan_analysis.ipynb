{
 "cells": [
  {
   "cell_type": "markdown",
   "id": "7fdf009e",
   "metadata": {},
   "source": [
    "# Исследование надежности заемщиков."
   ]
  },
  {
   "cell_type": "markdown",
   "id": "cd7257aa",
   "metadata": {},
   "source": [
    "### Цель проекта: На основе статистики о платёжеспособности клиентов исследовать влияет ли семейное положение и количество детей клиента на факт возврата кредита в срок"
   ]
  },
  {
   "cell_type": "markdown",
   "id": "a282cb10",
   "metadata": {},
   "source": [
    "### Шаг 1. Обзор данных"
   ]
  },
  {
   "cell_type": "code",
   "execution_count": 1,
   "id": "f278f6cb",
   "metadata": {},
   "outputs": [],
   "source": [
    "import pandas as pd\n",
    "import seaborn as sns"
   ]
  },
  {
   "cell_type": "code",
   "execution_count": 2,
   "id": "1e06678c",
   "metadata": {},
   "outputs": [],
   "source": [
    "df = pd.read_csv('/datasets/data.csv')"
   ]
  },
  {
   "cell_type": "code",
   "execution_count": 3,
   "id": "8f7ffa18",
   "metadata": {},
   "outputs": [
    {
     "data": {
      "text/html": [
       "<div>\n",
       "<style scoped>\n",
       "    .dataframe tbody tr th:only-of-type {\n",
       "        vertical-align: middle;\n",
       "    }\n",
       "\n",
       "    .dataframe tbody tr th {\n",
       "        vertical-align: top;\n",
       "    }\n",
       "\n",
       "    .dataframe thead th {\n",
       "        text-align: right;\n",
       "    }\n",
       "</style>\n",
       "<table border=\"1\" class=\"dataframe\">\n",
       "  <thead>\n",
       "    <tr style=\"text-align: right;\">\n",
       "      <th></th>\n",
       "      <th>children</th>\n",
       "      <th>days_employed</th>\n",
       "      <th>dob_years</th>\n",
       "      <th>education</th>\n",
       "      <th>education_id</th>\n",
       "      <th>family_status</th>\n",
       "      <th>family_status_id</th>\n",
       "      <th>gender</th>\n",
       "      <th>income_type</th>\n",
       "      <th>debt</th>\n",
       "      <th>total_income</th>\n",
       "      <th>purpose</th>\n",
       "    </tr>\n",
       "  </thead>\n",
       "  <tbody>\n",
       "    <tr>\n",
       "      <th>0</th>\n",
       "      <td>1</td>\n",
       "      <td>-8437.673028</td>\n",
       "      <td>42</td>\n",
       "      <td>высшее</td>\n",
       "      <td>0</td>\n",
       "      <td>женат / замужем</td>\n",
       "      <td>0</td>\n",
       "      <td>F</td>\n",
       "      <td>сотрудник</td>\n",
       "      <td>0</td>\n",
       "      <td>253875.639453</td>\n",
       "      <td>покупка жилья</td>\n",
       "    </tr>\n",
       "    <tr>\n",
       "      <th>1</th>\n",
       "      <td>1</td>\n",
       "      <td>-4024.803754</td>\n",
       "      <td>36</td>\n",
       "      <td>среднее</td>\n",
       "      <td>1</td>\n",
       "      <td>женат / замужем</td>\n",
       "      <td>0</td>\n",
       "      <td>F</td>\n",
       "      <td>сотрудник</td>\n",
       "      <td>0</td>\n",
       "      <td>112080.014102</td>\n",
       "      <td>приобретение автомобиля</td>\n",
       "    </tr>\n",
       "    <tr>\n",
       "      <th>2</th>\n",
       "      <td>0</td>\n",
       "      <td>-5623.422610</td>\n",
       "      <td>33</td>\n",
       "      <td>Среднее</td>\n",
       "      <td>1</td>\n",
       "      <td>женат / замужем</td>\n",
       "      <td>0</td>\n",
       "      <td>M</td>\n",
       "      <td>сотрудник</td>\n",
       "      <td>0</td>\n",
       "      <td>145885.952297</td>\n",
       "      <td>покупка жилья</td>\n",
       "    </tr>\n",
       "    <tr>\n",
       "      <th>3</th>\n",
       "      <td>3</td>\n",
       "      <td>-4124.747207</td>\n",
       "      <td>32</td>\n",
       "      <td>среднее</td>\n",
       "      <td>1</td>\n",
       "      <td>женат / замужем</td>\n",
       "      <td>0</td>\n",
       "      <td>M</td>\n",
       "      <td>сотрудник</td>\n",
       "      <td>0</td>\n",
       "      <td>267628.550329</td>\n",
       "      <td>дополнительное образование</td>\n",
       "    </tr>\n",
       "    <tr>\n",
       "      <th>4</th>\n",
       "      <td>0</td>\n",
       "      <td>340266.072047</td>\n",
       "      <td>53</td>\n",
       "      <td>среднее</td>\n",
       "      <td>1</td>\n",
       "      <td>гражданский брак</td>\n",
       "      <td>1</td>\n",
       "      <td>F</td>\n",
       "      <td>пенсионер</td>\n",
       "      <td>0</td>\n",
       "      <td>158616.077870</td>\n",
       "      <td>сыграть свадьбу</td>\n",
       "    </tr>\n",
       "    <tr>\n",
       "      <th>5</th>\n",
       "      <td>0</td>\n",
       "      <td>-926.185831</td>\n",
       "      <td>27</td>\n",
       "      <td>высшее</td>\n",
       "      <td>0</td>\n",
       "      <td>гражданский брак</td>\n",
       "      <td>1</td>\n",
       "      <td>M</td>\n",
       "      <td>компаньон</td>\n",
       "      <td>0</td>\n",
       "      <td>255763.565419</td>\n",
       "      <td>покупка жилья</td>\n",
       "    </tr>\n",
       "    <tr>\n",
       "      <th>6</th>\n",
       "      <td>0</td>\n",
       "      <td>-2879.202052</td>\n",
       "      <td>43</td>\n",
       "      <td>высшее</td>\n",
       "      <td>0</td>\n",
       "      <td>женат / замужем</td>\n",
       "      <td>0</td>\n",
       "      <td>F</td>\n",
       "      <td>компаньон</td>\n",
       "      <td>0</td>\n",
       "      <td>240525.971920</td>\n",
       "      <td>операции с жильем</td>\n",
       "    </tr>\n",
       "    <tr>\n",
       "      <th>7</th>\n",
       "      <td>0</td>\n",
       "      <td>-152.779569</td>\n",
       "      <td>50</td>\n",
       "      <td>СРЕДНЕЕ</td>\n",
       "      <td>1</td>\n",
       "      <td>женат / замужем</td>\n",
       "      <td>0</td>\n",
       "      <td>M</td>\n",
       "      <td>сотрудник</td>\n",
       "      <td>0</td>\n",
       "      <td>135823.934197</td>\n",
       "      <td>образование</td>\n",
       "    </tr>\n",
       "    <tr>\n",
       "      <th>8</th>\n",
       "      <td>2</td>\n",
       "      <td>-6929.865299</td>\n",
       "      <td>35</td>\n",
       "      <td>ВЫСШЕЕ</td>\n",
       "      <td>0</td>\n",
       "      <td>гражданский брак</td>\n",
       "      <td>1</td>\n",
       "      <td>F</td>\n",
       "      <td>сотрудник</td>\n",
       "      <td>0</td>\n",
       "      <td>95856.832424</td>\n",
       "      <td>на проведение свадьбы</td>\n",
       "    </tr>\n",
       "    <tr>\n",
       "      <th>9</th>\n",
       "      <td>0</td>\n",
       "      <td>-2188.756445</td>\n",
       "      <td>41</td>\n",
       "      <td>среднее</td>\n",
       "      <td>1</td>\n",
       "      <td>женат / замужем</td>\n",
       "      <td>0</td>\n",
       "      <td>M</td>\n",
       "      <td>сотрудник</td>\n",
       "      <td>0</td>\n",
       "      <td>144425.938277</td>\n",
       "      <td>покупка жилья для семьи</td>\n",
       "    </tr>\n",
       "  </tbody>\n",
       "</table>\n",
       "</div>"
      ],
      "text/plain": [
       "   children  days_employed  dob_years education  education_id  \\\n",
       "0         1   -8437.673028         42    высшее             0   \n",
       "1         1   -4024.803754         36   среднее             1   \n",
       "2         0   -5623.422610         33   Среднее             1   \n",
       "3         3   -4124.747207         32   среднее             1   \n",
       "4         0  340266.072047         53   среднее             1   \n",
       "5         0    -926.185831         27    высшее             0   \n",
       "6         0   -2879.202052         43    высшее             0   \n",
       "7         0    -152.779569         50   СРЕДНЕЕ             1   \n",
       "8         2   -6929.865299         35    ВЫСШЕЕ             0   \n",
       "9         0   -2188.756445         41   среднее             1   \n",
       "\n",
       "      family_status  family_status_id gender income_type  debt   total_income  \\\n",
       "0   женат / замужем                 0      F   сотрудник     0  253875.639453   \n",
       "1   женат / замужем                 0      F   сотрудник     0  112080.014102   \n",
       "2   женат / замужем                 0      M   сотрудник     0  145885.952297   \n",
       "3   женат / замужем                 0      M   сотрудник     0  267628.550329   \n",
       "4  гражданский брак                 1      F   пенсионер     0  158616.077870   \n",
       "5  гражданский брак                 1      M   компаньон     0  255763.565419   \n",
       "6   женат / замужем                 0      F   компаньон     0  240525.971920   \n",
       "7   женат / замужем                 0      M   сотрудник     0  135823.934197   \n",
       "8  гражданский брак                 1      F   сотрудник     0   95856.832424   \n",
       "9   женат / замужем                 0      M   сотрудник     0  144425.938277   \n",
       "\n",
       "                      purpose  \n",
       "0               покупка жилья  \n",
       "1     приобретение автомобиля  \n",
       "2               покупка жилья  \n",
       "3  дополнительное образование  \n",
       "4             сыграть свадьбу  \n",
       "5               покупка жилья  \n",
       "6           операции с жильем  \n",
       "7                 образование  \n",
       "8       на проведение свадьбы  \n",
       "9     покупка жилья для семьи  "
      ]
     },
     "execution_count": 3,
     "metadata": {},
     "output_type": "execute_result"
    }
   ],
   "source": [
    "df.head(10)"
   ]
  },
  {
   "cell_type": "code",
   "execution_count": 4,
   "id": "95f49c71",
   "metadata": {
    "scrolled": true
   },
   "outputs": [
    {
     "name": "stdout",
     "output_type": "stream",
     "text": [
      "<class 'pandas.core.frame.DataFrame'>\n",
      "RangeIndex: 21525 entries, 0 to 21524\n",
      "Data columns (total 12 columns):\n",
      " #   Column            Non-Null Count  Dtype  \n",
      "---  ------            --------------  -----  \n",
      " 0   children          21525 non-null  int64  \n",
      " 1   days_employed     19351 non-null  float64\n",
      " 2   dob_years         21525 non-null  int64  \n",
      " 3   education         21525 non-null  object \n",
      " 4   education_id      21525 non-null  int64  \n",
      " 5   family_status     21525 non-null  object \n",
      " 6   family_status_id  21525 non-null  int64  \n",
      " 7   gender            21525 non-null  object \n",
      " 8   income_type       21525 non-null  object \n",
      " 9   debt              21525 non-null  int64  \n",
      " 10  total_income      19351 non-null  float64\n",
      " 11  purpose           21525 non-null  object \n",
      "dtypes: float64(2), int64(5), object(5)\n",
      "memory usage: 2.0+ MB\n"
     ]
    }
   ],
   "source": [
    "df.info()"
   ]
  },
  {
   "cell_type": "markdown",
   "id": "0ce2ef1c",
   "metadata": {},
   "source": [
    "В исходнй таблице содержится 12 столбцов и 21525 строк"
   ]
  },
  {
   "cell_type": "markdown",
   "id": "53bf23e4",
   "metadata": {},
   "source": [
    "### Шаг 2.1 Заполнение пропусков"
   ]
  },
  {
   "cell_type": "code",
   "execution_count": 5,
   "id": "1caa5770",
   "metadata": {
    "scrolled": true
   },
   "outputs": [
    {
     "data": {
      "text/plain": [
       "children               0\n",
       "days_employed       2174\n",
       "dob_years              0\n",
       "education              0\n",
       "education_id           0\n",
       "family_status          0\n",
       "family_status_id       0\n",
       "gender                 0\n",
       "income_type            0\n",
       "debt                   0\n",
       "total_income        2174\n",
       "purpose                0\n",
       "dtype: int64"
      ]
     },
     "execution_count": 5,
     "metadata": {},
     "output_type": "execute_result"
    }
   ],
   "source": [
    "df.isna().sum()"
   ]
  },
  {
   "cell_type": "code",
   "execution_count": 7,
   "id": "66ef2eaf",
   "metadata": {
    "scrolled": true
   },
   "outputs": [
    {
     "data": {
      "text/plain": [
       "children             0.000000\n",
       "days_employed       10.099884\n",
       "dob_years            0.000000\n",
       "education            0.000000\n",
       "education_id         0.000000\n",
       "family_status        0.000000\n",
       "family_status_id     0.000000\n",
       "gender               0.000000\n",
       "income_type          0.000000\n",
       "debt                 0.000000\n",
       "total_income        10.099884\n",
       "purpose              0.000000\n",
       "dtype: float64"
      ]
     },
     "execution_count": 7,
     "metadata": {},
     "output_type": "execute_result"
    }
   ],
   "source": [
    "df.isna().mean()*100"
   ]
  },
  {
   "cell_type": "markdown",
   "id": "e13d254c",
   "metadata": {},
   "source": [
    "Столбцы days_employed и total_income содержат 2174 пропущенных значений, это составляет ~10% относительно общего набора. Пропуски в данных о трудовом стаже и ежемесячном доходе могут быть связаны с тем, что заемщик не имеет официального трудоустройства и, соответственно, дохода. Другой вариант: заемщик не захотел преоставлять информацию о трудоустройстве и доходе. Заменим пропуски медианным значением по столбцу. В случае количественных переменных это наиболее правильное решенее, т.к. медиана в отличии от среднего более устойчива к наличию сильных выбросов и аномальных значений в данных."
   ]
  },
  {
   "cell_type": "code",
   "execution_count": 8,
   "id": "5d6f60ba",
   "metadata": {},
   "outputs": [],
   "source": [
    "columns_to_replace = ['days_employed', 'total_income']\n",
    "\n",
    "for col in columns_to_replace:\n",
    "    df[col] = df[col].fillna(df[col].median())"
   ]
  },
  {
   "cell_type": "code",
   "execution_count": 9,
   "id": "af76f0a1",
   "metadata": {},
   "outputs": [
    {
     "data": {
      "text/plain": [
       "children            0\n",
       "days_employed       0\n",
       "dob_years           0\n",
       "education           0\n",
       "education_id        0\n",
       "family_status       0\n",
       "family_status_id    0\n",
       "gender              0\n",
       "income_type         0\n",
       "debt                0\n",
       "total_income        0\n",
       "purpose             0\n",
       "dtype: int64"
      ]
     },
     "execution_count": 9,
     "metadata": {},
     "output_type": "execute_result"
    }
   ],
   "source": [
    "# проверка на наличие пропусков после выполненной замены\n",
    "df.isna().sum()"
   ]
  },
  {
   "cell_type": "markdown",
   "id": "f7b9d2b4",
   "metadata": {},
   "source": [
    "### Шаг 2.2 Проверка данных на аномалии и исправления."
   ]
  },
  {
   "cell_type": "code",
   "execution_count": 10,
   "id": "0810e89f",
   "metadata": {
    "scrolled": true
   },
   "outputs": [
    {
     "data": {
      "text/html": [
       "<div>\n",
       "<style scoped>\n",
       "    .dataframe tbody tr th:only-of-type {\n",
       "        vertical-align: middle;\n",
       "    }\n",
       "\n",
       "    .dataframe tbody tr th {\n",
       "        vertical-align: top;\n",
       "    }\n",
       "\n",
       "    .dataframe thead th {\n",
       "        text-align: right;\n",
       "    }\n",
       "</style>\n",
       "<table border=\"1\" class=\"dataframe\">\n",
       "  <thead>\n",
       "    <tr style=\"text-align: right;\">\n",
       "      <th></th>\n",
       "      <th>children</th>\n",
       "      <th>days_employed</th>\n",
       "      <th>dob_years</th>\n",
       "      <th>education_id</th>\n",
       "      <th>family_status_id</th>\n",
       "      <th>debt</th>\n",
       "      <th>total_income</th>\n",
       "    </tr>\n",
       "  </thead>\n",
       "  <tbody>\n",
       "    <tr>\n",
       "      <th>count</th>\n",
       "      <td>21525.000000</td>\n",
       "      <td>21525.000000</td>\n",
       "      <td>21525.000000</td>\n",
       "      <td>21525.000000</td>\n",
       "      <td>21525.000000</td>\n",
       "      <td>21525.000000</td>\n",
       "      <td>2.152500e+04</td>\n",
       "    </tr>\n",
       "    <tr>\n",
       "      <th>mean</th>\n",
       "      <td>0.538908</td>\n",
       "      <td>56557.335698</td>\n",
       "      <td>43.293380</td>\n",
       "      <td>0.817236</td>\n",
       "      <td>0.972544</td>\n",
       "      <td>0.080883</td>\n",
       "      <td>1.651595e+05</td>\n",
       "    </tr>\n",
       "    <tr>\n",
       "      <th>std</th>\n",
       "      <td>1.381587</td>\n",
       "      <td>134922.319298</td>\n",
       "      <td>12.574584</td>\n",
       "      <td>0.548138</td>\n",
       "      <td>1.420324</td>\n",
       "      <td>0.272661</td>\n",
       "      <td>9.786607e+04</td>\n",
       "    </tr>\n",
       "    <tr>\n",
       "      <th>min</th>\n",
       "      <td>-1.000000</td>\n",
       "      <td>-18388.949901</td>\n",
       "      <td>0.000000</td>\n",
       "      <td>0.000000</td>\n",
       "      <td>0.000000</td>\n",
       "      <td>0.000000</td>\n",
       "      <td>2.066726e+04</td>\n",
       "    </tr>\n",
       "    <tr>\n",
       "      <th>25%</th>\n",
       "      <td>0.000000</td>\n",
       "      <td>-2518.168900</td>\n",
       "      <td>33.000000</td>\n",
       "      <td>1.000000</td>\n",
       "      <td>0.000000</td>\n",
       "      <td>0.000000</td>\n",
       "      <td>1.077982e+05</td>\n",
       "    </tr>\n",
       "    <tr>\n",
       "      <th>50%</th>\n",
       "      <td>0.000000</td>\n",
       "      <td>-1203.369529</td>\n",
       "      <td>42.000000</td>\n",
       "      <td>1.000000</td>\n",
       "      <td>0.000000</td>\n",
       "      <td>0.000000</td>\n",
       "      <td>1.450179e+05</td>\n",
       "    </tr>\n",
       "    <tr>\n",
       "      <th>75%</th>\n",
       "      <td>1.000000</td>\n",
       "      <td>-385.106616</td>\n",
       "      <td>53.000000</td>\n",
       "      <td>1.000000</td>\n",
       "      <td>1.000000</td>\n",
       "      <td>0.000000</td>\n",
       "      <td>1.955436e+05</td>\n",
       "    </tr>\n",
       "    <tr>\n",
       "      <th>max</th>\n",
       "      <td>20.000000</td>\n",
       "      <td>401755.400475</td>\n",
       "      <td>75.000000</td>\n",
       "      <td>4.000000</td>\n",
       "      <td>4.000000</td>\n",
       "      <td>1.000000</td>\n",
       "      <td>2.265604e+06</td>\n",
       "    </tr>\n",
       "  </tbody>\n",
       "</table>\n",
       "</div>"
      ],
      "text/plain": [
       "           children  days_employed     dob_years  education_id  \\\n",
       "count  21525.000000   21525.000000  21525.000000  21525.000000   \n",
       "mean       0.538908   56557.335698     43.293380      0.817236   \n",
       "std        1.381587  134922.319298     12.574584      0.548138   \n",
       "min       -1.000000  -18388.949901      0.000000      0.000000   \n",
       "25%        0.000000   -2518.168900     33.000000      1.000000   \n",
       "50%        0.000000   -1203.369529     42.000000      1.000000   \n",
       "75%        1.000000    -385.106616     53.000000      1.000000   \n",
       "max       20.000000  401755.400475     75.000000      4.000000   \n",
       "\n",
       "       family_status_id          debt  total_income  \n",
       "count      21525.000000  21525.000000  2.152500e+04  \n",
       "mean           0.972544      0.080883  1.651595e+05  \n",
       "std            1.420324      0.272661  9.786607e+04  \n",
       "min            0.000000      0.000000  2.066726e+04  \n",
       "25%            0.000000      0.000000  1.077982e+05  \n",
       "50%            0.000000      0.000000  1.450179e+05  \n",
       "75%            1.000000      0.000000  1.955436e+05  \n",
       "max            4.000000      1.000000  2.265604e+06  "
      ]
     },
     "execution_count": 10,
     "metadata": {},
     "output_type": "execute_result"
    }
   ],
   "source": [
    "# выведем описательную статистику для количественных переменных\n",
    "df.describe()"
   ]
  },
  {
   "cell_type": "markdown",
   "id": "a1602490",
   "metadata": {},
   "source": [
    "Столбец days_employed содержит как положительные, так и отрицательные значения. Более 75% значений столбца days_employed отрицательные.\n",
    "Столбец children также содержит артефакты: значения \"-1\""
   ]
  },
  {
   "cell_type": "code",
   "execution_count": 11,
   "id": "75485ef8",
   "metadata": {
    "scrolled": false
   },
   "outputs": [
    {
     "data": {
      "text/plain": [
       "<AxesSubplot:>"
      ]
     },
     "execution_count": 11,
     "metadata": {},
     "output_type": "execute_result"
    },
    {
     "data": {
      "image/png": "[encoded data removed]",
      "text/plain": [
       "<Figure size 432x288 with 1 Axes>"
      ]
     },
     "metadata": {
      "needs_background": "light"
     },
     "output_type": "display_data"
    }
   ],
   "source": [
    "# гистограмма для столбца days_employed\n",
    "df['days_employed'].hist(bins=100)"
   ]
  },
  {
   "cell_type": "markdown",
   "id": "a96ff057",
   "metadata": {},
   "source": [
    "Видим, что большая часть значений days_employed является отрицательными. Можно предположить, что значения с отрицательным знаком были добавлены в таблицу по ошибке. Изменим знак у отрицательных значений. "
   ]
  },
  {
   "cell_type": "code",
   "execution_count": 12,
   "id": "735459a1",
   "metadata": {},
   "outputs": [],
   "source": [
    "df.loc[df['days_employed'] < 0, 'days_employed'] *= (-1)"
   ]
  },
  {
   "cell_type": "code",
   "execution_count": 13,
   "id": "c5ecd9e9",
   "metadata": {
    "scrolled": false
   },
   "outputs": [
    {
     "data": {
      "text/plain": [
       "<AxesSubplot:>"
      ]
     },
     "execution_count": 13,
     "metadata": {},
     "output_type": "execute_result"
    },
    {
     "data": {
      "image/png": "[encoded data removed]",
      "text/plain": [
       "<Figure size 432x288 with 1 Axes>"
      ]
     },
     "metadata": {
      "needs_background": "light"
     },
     "output_type": "display_data"
    }
   ],
   "source": [
    "# гистограмма для столбца days_employed после замены знака у отрицательных значений \n",
    "df['days_employed'].hist(bins=100)"
   ]
  },
  {
   "cell_type": "markdown",
   "id": "bf878bbd",
   "metadata": {},
   "source": [
    "Также можно обратить внимание, что значения days_employed распределены довольно странно и гистограмма \"распадается\" на две части: \n",
    "1. высокие значения от 320000 до 400000, распределенные равномерно\n",
    "2. низкие значения от 0 до 20000, имеющие ассиметричное распределение. \n",
    "\n",
    "Настораживает то, что значения в диапазоне от ~20000 до 32000 в таблице не представлены "
   ]
  },
  {
   "cell_type": "markdown",
   "id": "7b94bb97",
   "metadata": {},
   "source": [
    "В столбце children также поменяем знак у значений \"-1\""
   ]
  },
  {
   "cell_type": "code",
   "execution_count": 14,
   "id": "4e453057",
   "metadata": {},
   "outputs": [],
   "source": [
    "df.loc[df['children'] < 0, 'children'] *= (-1)"
   ]
  },
  {
   "cell_type": "code",
   "execution_count": 15,
   "id": "19a447c1",
   "metadata": {},
   "outputs": [
    {
     "data": {
      "text/plain": [
       "0     14149\n",
       "1      4865\n",
       "2      2055\n",
       "3       330\n",
       "20       76\n",
       "4        41\n",
       "5         9\n",
       "Name: children, dtype: int64"
      ]
     },
     "execution_count": 15,
     "metadata": {},
     "output_type": "execute_result"
    }
   ],
   "source": [
    "df['children'].value_counts()"
   ]
  },
  {
   "cell_type": "markdown",
   "id": "5283a37d",
   "metadata": {},
   "source": [
    "Видим, что в столбце children содержатся аномальные    значения \"20\" в количестве 76 записей. Возможно в данном случае такое обозначение было выбрано для обозначения количества детей больше 5."
   ]
  },
  {
   "cell_type": "code",
   "execution_count": 16,
   "id": "8c4cf522",
   "metadata": {
    "scrolled": false
   },
   "outputs": [
    {
     "data": {
      "text/html": [
       "<div>\n",
       "<style scoped>\n",
       "    .dataframe tbody tr th:only-of-type {\n",
       "        vertical-align: middle;\n",
       "    }\n",
       "\n",
       "    .dataframe tbody tr th {\n",
       "        vertical-align: top;\n",
       "    }\n",
       "\n",
       "    .dataframe thead th {\n",
       "        text-align: right;\n",
       "    }\n",
       "</style>\n",
       "<table border=\"1\" class=\"dataframe\">\n",
       "  <thead>\n",
       "    <tr style=\"text-align: right;\">\n",
       "      <th></th>\n",
       "      <th>children</th>\n",
       "      <th>days_employed</th>\n",
       "      <th>dob_years</th>\n",
       "      <th>education_id</th>\n",
       "      <th>family_status_id</th>\n",
       "      <th>debt</th>\n",
       "      <th>total_income</th>\n",
       "    </tr>\n",
       "  </thead>\n",
       "  <tbody>\n",
       "    <tr>\n",
       "      <th>count</th>\n",
       "      <td>21525.000000</td>\n",
       "      <td>21525.000000</td>\n",
       "      <td>21525.000000</td>\n",
       "      <td>21525.000000</td>\n",
       "      <td>21525.000000</td>\n",
       "      <td>21525.000000</td>\n",
       "      <td>2.152500e+04</td>\n",
       "    </tr>\n",
       "    <tr>\n",
       "      <th>mean</th>\n",
       "      <td>0.543275</td>\n",
       "      <td>60277.957929</td>\n",
       "      <td>43.293380</td>\n",
       "      <td>0.817236</td>\n",
       "      <td>0.972544</td>\n",
       "      <td>0.080883</td>\n",
       "      <td>1.651595e+05</td>\n",
       "    </tr>\n",
       "    <tr>\n",
       "      <th>std</th>\n",
       "      <td>1.379876</td>\n",
       "      <td>133301.583103</td>\n",
       "      <td>12.574584</td>\n",
       "      <td>0.548138</td>\n",
       "      <td>1.420324</td>\n",
       "      <td>0.272661</td>\n",
       "      <td>9.786607e+04</td>\n",
       "    </tr>\n",
       "    <tr>\n",
       "      <th>min</th>\n",
       "      <td>0.000000</td>\n",
       "      <td>24.141633</td>\n",
       "      <td>0.000000</td>\n",
       "      <td>0.000000</td>\n",
       "      <td>0.000000</td>\n",
       "      <td>0.000000</td>\n",
       "      <td>2.066726e+04</td>\n",
       "    </tr>\n",
       "    <tr>\n",
       "      <th>25%</th>\n",
       "      <td>0.000000</td>\n",
       "      <td>1025.608174</td>\n",
       "      <td>33.000000</td>\n",
       "      <td>1.000000</td>\n",
       "      <td>0.000000</td>\n",
       "      <td>0.000000</td>\n",
       "      <td>1.077982e+05</td>\n",
       "    </tr>\n",
       "    <tr>\n",
       "      <th>50%</th>\n",
       "      <td>0.000000</td>\n",
       "      <td>1808.053434</td>\n",
       "      <td>42.000000</td>\n",
       "      <td>1.000000</td>\n",
       "      <td>0.000000</td>\n",
       "      <td>0.000000</td>\n",
       "      <td>1.450179e+05</td>\n",
       "    </tr>\n",
       "    <tr>\n",
       "      <th>75%</th>\n",
       "      <td>1.000000</td>\n",
       "      <td>4779.587738</td>\n",
       "      <td>53.000000</td>\n",
       "      <td>1.000000</td>\n",
       "      <td>1.000000</td>\n",
       "      <td>0.000000</td>\n",
       "      <td>1.955436e+05</td>\n",
       "    </tr>\n",
       "    <tr>\n",
       "      <th>max</th>\n",
       "      <td>20.000000</td>\n",
       "      <td>401755.400475</td>\n",
       "      <td>75.000000</td>\n",
       "      <td>4.000000</td>\n",
       "      <td>4.000000</td>\n",
       "      <td>1.000000</td>\n",
       "      <td>2.265604e+06</td>\n",
       "    </tr>\n",
       "  </tbody>\n",
       "</table>\n",
       "</div>"
      ],
      "text/plain": [
       "           children  days_employed     dob_years  education_id  \\\n",
       "count  21525.000000   21525.000000  21525.000000  21525.000000   \n",
       "mean       0.543275   60277.957929     43.293380      0.817236   \n",
       "std        1.379876  133301.583103     12.574584      0.548138   \n",
       "min        0.000000      24.141633      0.000000      0.000000   \n",
       "25%        0.000000    1025.608174     33.000000      1.000000   \n",
       "50%        0.000000    1808.053434     42.000000      1.000000   \n",
       "75%        1.000000    4779.587738     53.000000      1.000000   \n",
       "max       20.000000  401755.400475     75.000000      4.000000   \n",
       "\n",
       "       family_status_id          debt  total_income  \n",
       "count      21525.000000  21525.000000  2.152500e+04  \n",
       "mean           0.972544      0.080883  1.651595e+05  \n",
       "std            1.420324      0.272661  9.786607e+04  \n",
       "min            0.000000      0.000000  2.066726e+04  \n",
       "25%            0.000000      0.000000  1.077982e+05  \n",
       "50%            0.000000      0.000000  1.450179e+05  \n",
       "75%            1.000000      0.000000  1.955436e+05  \n",
       "max            4.000000      1.000000  2.265604e+06  "
      ]
     },
     "execution_count": 16,
     "metadata": {},
     "output_type": "execute_result"
    }
   ],
   "source": [
    "# выведем описательную статистику для количественных переменных после исправления аномалий\n",
    "df.describe()"
   ]
  },
  {
   "cell_type": "markdown",
   "id": "e0401197",
   "metadata": {},
   "source": [
    "### Шаг 2.3. Изменение типов данных."
   ]
  },
  {
   "cell_type": "code",
   "execution_count": 17,
   "id": "2ef155d3",
   "metadata": {},
   "outputs": [
    {
     "data": {
      "text/plain": [
       "dtype('float64')"
      ]
     },
     "execution_count": 17,
     "metadata": {},
     "output_type": "execute_result"
    }
   ],
   "source": [
    "# провверка типа данных в столбце total_income\n",
    "df.total_income.dtypes"
   ]
  },
  {
   "cell_type": "code",
   "execution_count": 18,
   "id": "832a243d",
   "metadata": {},
   "outputs": [],
   "source": [
    "# изменим тип данных в столбце total_income на целочисленный (int)\n",
    "df.total_income = df.total_income.astype(int)"
   ]
  },
  {
   "cell_type": "code",
   "execution_count": 19,
   "id": "c953e3bf",
   "metadata": {},
   "outputs": [
    {
     "data": {
      "text/plain": [
       "dtype('int64')"
      ]
     },
     "execution_count": 19,
     "metadata": {},
     "output_type": "execute_result"
    }
   ],
   "source": [
    "# провверка типа данных после изменения\n",
    "df.total_income.dtypes"
   ]
  },
  {
   "cell_type": "markdown",
   "id": "824d66ed",
   "metadata": {},
   "source": [
    "### Шаг 2.4. Удаление дубликатов."
   ]
  },
  {
   "cell_type": "markdown",
   "id": "026a822c",
   "metadata": {},
   "source": [
    "Для начала оценим количество явных дубликатов а данных"
   ]
  },
  {
   "cell_type": "code",
   "execution_count": 20,
   "id": "da3ea7c5",
   "metadata": {},
   "outputs": [
    {
     "data": {
      "text/plain": [
       "54"
      ]
     },
     "execution_count": 20,
     "metadata": {},
     "output_type": "execute_result"
    }
   ],
   "source": [
    "df.duplicated().sum()"
   ]
  },
  {
   "cell_type": "code",
   "execution_count": 21,
   "id": "141ef4f6",
   "metadata": {
    "scrolled": true
   },
   "outputs": [
    {
     "data": {
      "text/html": [
       "<div>\n",
       "<style scoped>\n",
       "    .dataframe tbody tr th:only-of-type {\n",
       "        vertical-align: middle;\n",
       "    }\n",
       "\n",
       "    .dataframe tbody tr th {\n",
       "        vertical-align: top;\n",
       "    }\n",
       "\n",
       "    .dataframe thead th {\n",
       "        text-align: right;\n",
       "    }\n",
       "</style>\n",
       "<table border=\"1\" class=\"dataframe\">\n",
       "  <thead>\n",
       "    <tr style=\"text-align: right;\">\n",
       "      <th></th>\n",
       "      <th>children</th>\n",
       "      <th>days_employed</th>\n",
       "      <th>dob_years</th>\n",
       "      <th>education</th>\n",
       "      <th>education_id</th>\n",
       "      <th>family_status</th>\n",
       "      <th>family_status_id</th>\n",
       "      <th>gender</th>\n",
       "      <th>income_type</th>\n",
       "      <th>debt</th>\n",
       "      <th>total_income</th>\n",
       "      <th>purpose</th>\n",
       "    </tr>\n",
       "  </thead>\n",
       "  <tbody>\n",
       "    <tr>\n",
       "      <th>2849</th>\n",
       "      <td>0</td>\n",
       "      <td>1203.369529</td>\n",
       "      <td>41</td>\n",
       "      <td>среднее</td>\n",
       "      <td>1</td>\n",
       "      <td>женат / замужем</td>\n",
       "      <td>0</td>\n",
       "      <td>F</td>\n",
       "      <td>сотрудник</td>\n",
       "      <td>0</td>\n",
       "      <td>145017</td>\n",
       "      <td>покупка жилья для семьи</td>\n",
       "    </tr>\n",
       "    <tr>\n",
       "      <th>4182</th>\n",
       "      <td>1</td>\n",
       "      <td>1203.369529</td>\n",
       "      <td>34</td>\n",
       "      <td>ВЫСШЕЕ</td>\n",
       "      <td>0</td>\n",
       "      <td>гражданский брак</td>\n",
       "      <td>1</td>\n",
       "      <td>F</td>\n",
       "      <td>сотрудник</td>\n",
       "      <td>0</td>\n",
       "      <td>145017</td>\n",
       "      <td>свадьба</td>\n",
       "    </tr>\n",
       "    <tr>\n",
       "      <th>4851</th>\n",
       "      <td>0</td>\n",
       "      <td>1203.369529</td>\n",
       "      <td>60</td>\n",
       "      <td>среднее</td>\n",
       "      <td>1</td>\n",
       "      <td>гражданский брак</td>\n",
       "      <td>1</td>\n",
       "      <td>F</td>\n",
       "      <td>пенсионер</td>\n",
       "      <td>0</td>\n",
       "      <td>145017</td>\n",
       "      <td>свадьба</td>\n",
       "    </tr>\n",
       "    <tr>\n",
       "      <th>5557</th>\n",
       "      <td>0</td>\n",
       "      <td>1203.369529</td>\n",
       "      <td>58</td>\n",
       "      <td>среднее</td>\n",
       "      <td>1</td>\n",
       "      <td>гражданский брак</td>\n",
       "      <td>1</td>\n",
       "      <td>F</td>\n",
       "      <td>пенсионер</td>\n",
       "      <td>0</td>\n",
       "      <td>145017</td>\n",
       "      <td>сыграть свадьбу</td>\n",
       "    </tr>\n",
       "    <tr>\n",
       "      <th>7808</th>\n",
       "      <td>0</td>\n",
       "      <td>1203.369529</td>\n",
       "      <td>57</td>\n",
       "      <td>среднее</td>\n",
       "      <td>1</td>\n",
       "      <td>гражданский брак</td>\n",
       "      <td>1</td>\n",
       "      <td>F</td>\n",
       "      <td>пенсионер</td>\n",
       "      <td>0</td>\n",
       "      <td>145017</td>\n",
       "      <td>на проведение свадьбы</td>\n",
       "    </tr>\n",
       "    <tr>\n",
       "      <th>8583</th>\n",
       "      <td>0</td>\n",
       "      <td>1203.369529</td>\n",
       "      <td>58</td>\n",
       "      <td>высшее</td>\n",
       "      <td>0</td>\n",
       "      <td>Не женат / не замужем</td>\n",
       "      <td>4</td>\n",
       "      <td>F</td>\n",
       "      <td>пенсионер</td>\n",
       "      <td>0</td>\n",
       "      <td>145017</td>\n",
       "      <td>дополнительное образование</td>\n",
       "    </tr>\n",
       "    <tr>\n",
       "      <th>9238</th>\n",
       "      <td>2</td>\n",
       "      <td>1203.369529</td>\n",
       "      <td>34</td>\n",
       "      <td>среднее</td>\n",
       "      <td>1</td>\n",
       "      <td>женат / замужем</td>\n",
       "      <td>0</td>\n",
       "      <td>F</td>\n",
       "      <td>сотрудник</td>\n",
       "      <td>0</td>\n",
       "      <td>145017</td>\n",
       "      <td>покупка жилья для сдачи</td>\n",
       "    </tr>\n",
       "    <tr>\n",
       "      <th>9528</th>\n",
       "      <td>0</td>\n",
       "      <td>1203.369529</td>\n",
       "      <td>66</td>\n",
       "      <td>среднее</td>\n",
       "      <td>1</td>\n",
       "      <td>вдовец / вдова</td>\n",
       "      <td>2</td>\n",
       "      <td>F</td>\n",
       "      <td>пенсионер</td>\n",
       "      <td>0</td>\n",
       "      <td>145017</td>\n",
       "      <td>операции со своей недвижимостью</td>\n",
       "    </tr>\n",
       "    <tr>\n",
       "      <th>9627</th>\n",
       "      <td>0</td>\n",
       "      <td>1203.369529</td>\n",
       "      <td>56</td>\n",
       "      <td>среднее</td>\n",
       "      <td>1</td>\n",
       "      <td>женат / замужем</td>\n",
       "      <td>0</td>\n",
       "      <td>F</td>\n",
       "      <td>пенсионер</td>\n",
       "      <td>0</td>\n",
       "      <td>145017</td>\n",
       "      <td>операции со своей недвижимостью</td>\n",
       "    </tr>\n",
       "    <tr>\n",
       "      <th>10462</th>\n",
       "      <td>0</td>\n",
       "      <td>1203.369529</td>\n",
       "      <td>62</td>\n",
       "      <td>среднее</td>\n",
       "      <td>1</td>\n",
       "      <td>женат / замужем</td>\n",
       "      <td>0</td>\n",
       "      <td>F</td>\n",
       "      <td>пенсионер</td>\n",
       "      <td>0</td>\n",
       "      <td>145017</td>\n",
       "      <td>покупка коммерческой недвижимости</td>\n",
       "    </tr>\n",
       "  </tbody>\n",
       "</table>\n",
       "</div>"
      ],
      "text/plain": [
       "       children  days_employed  dob_years education  education_id  \\\n",
       "2849          0    1203.369529         41   среднее             1   \n",
       "4182          1    1203.369529         34    ВЫСШЕЕ             0   \n",
       "4851          0    1203.369529         60   среднее             1   \n",
       "5557          0    1203.369529         58   среднее             1   \n",
       "7808          0    1203.369529         57   среднее             1   \n",
       "8583          0    1203.369529         58    высшее             0   \n",
       "9238          2    1203.369529         34   среднее             1   \n",
       "9528          0    1203.369529         66   среднее             1   \n",
       "9627          0    1203.369529         56   среднее             1   \n",
       "10462         0    1203.369529         62   среднее             1   \n",
       "\n",
       "               family_status  family_status_id gender income_type  debt  \\\n",
       "2849         женат / замужем                 0      F   сотрудник     0   \n",
       "4182        гражданский брак                 1      F   сотрудник     0   \n",
       "4851        гражданский брак                 1      F   пенсионер     0   \n",
       "5557        гражданский брак                 1      F   пенсионер     0   \n",
       "7808        гражданский брак                 1      F   пенсионер     0   \n",
       "8583   Не женат / не замужем                 4      F   пенсионер     0   \n",
       "9238         женат / замужем                 0      F   сотрудник     0   \n",
       "9528          вдовец / вдова                 2      F   пенсионер     0   \n",
       "9627         женат / замужем                 0      F   пенсионер     0   \n",
       "10462        женат / замужем                 0      F   пенсионер     0   \n",
       "\n",
       "       total_income                            purpose  \n",
       "2849         145017            покупка жилья для семьи  \n",
       "4182         145017                            свадьба  \n",
       "4851         145017                            свадьба  \n",
       "5557         145017                    сыграть свадьбу  \n",
       "7808         145017              на проведение свадьбы  \n",
       "8583         145017         дополнительное образование  \n",
       "9238         145017            покупка жилья для сдачи  \n",
       "9528         145017    операции со своей недвижимостью  \n",
       "9627         145017    операции со своей недвижимостью  \n",
       "10462        145017  покупка коммерческой недвижимости  "
      ]
     },
     "execution_count": 21,
     "metadata": {},
     "output_type": "execute_result"
    }
   ],
   "source": [
    "duplicated_df = df[df.duplicated()].head(10) \n",
    "duplicated_df"
   ]
  },
  {
   "cell_type": "markdown",
   "id": "d4166148",
   "metadata": {},
   "source": [
    "В таблице имеется 54 явных строк-дубликатов. Удалим их с импользованием метода drop_duplicates(). Также обновим индексацию датафрейма после удаления янвых дубликатов с помощью reset_index"
   ]
  },
  {
   "cell_type": "code",
   "execution_count": 22,
   "id": "ffb9a2a5",
   "metadata": {},
   "outputs": [],
   "source": [
    "df = df.drop_duplicates().reset_index(drop=True)"
   ]
  },
  {
   "cell_type": "markdown",
   "id": "4c0cc827",
   "metadata": {},
   "source": [
    "Теперь оценим наличие неявных дубликатов в категориальных столбцах"
   ]
  },
  {
   "cell_type": "code",
   "execution_count": 23,
   "id": "dc586e2c",
   "metadata": {
    "scrolled": true
   },
   "outputs": [
    {
     "data": {
      "text/plain": [
       "array(['высшее', 'среднее', 'Среднее', 'СРЕДНЕЕ', 'ВЫСШЕЕ',\n",
       "       'неоконченное высшее', 'начальное', 'Высшее',\n",
       "       'НЕОКОНЧЕННОЕ ВЫСШЕЕ', 'Неоконченное высшее', 'НАЧАЛЬНОЕ',\n",
       "       'Начальное', 'Ученая степень', 'УЧЕНАЯ СТЕПЕНЬ', 'ученая степень'],\n",
       "      dtype=object)"
      ]
     },
     "execution_count": 23,
     "metadata": {},
     "output_type": "execute_result"
    }
   ],
   "source": [
    "# проверка уникальных значений education\n",
    "df.education.unique()"
   ]
  },
  {
   "cell_type": "markdown",
   "id": "34240a76",
   "metadata": {},
   "source": [
    "Видим, что в столбце education содержится множество неявных дубликатов, связанных с разным регистром. Выявленные дубликаты можно объяснить тем, что информация об уровене образования вручную вносилась каждым из заемщиков при подаче заявки на кредит и какой-либо постобработки данных не производилось. Для приведения всех значений education к единому регистру воспользуемся метододами .str и .lower()."
   ]
  },
  {
   "cell_type": "code",
   "execution_count": 24,
   "id": "c7fd1d4e",
   "metadata": {},
   "outputs": [],
   "source": [
    "df.education = df.education.str.lower()"
   ]
  },
  {
   "cell_type": "code",
   "execution_count": 25,
   "id": "98b2e7bf",
   "metadata": {},
   "outputs": [
    {
     "data": {
      "text/plain": [
       "array(['высшее', 'среднее', 'неоконченное высшее', 'начальное',\n",
       "       'ученая степень'], dtype=object)"
      ]
     },
     "execution_count": 25,
     "metadata": {},
     "output_type": "execute_result"
    }
   ],
   "source": [
    "# проверка уникальных значений после изменеия регистра\n",
    "df.education.unique()"
   ]
  },
  {
   "cell_type": "code",
   "execution_count": 26,
   "id": "f26c88f3",
   "metadata": {
    "scrolled": true
   },
   "outputs": [
    {
     "data": {
      "text/plain": [
       "17"
      ]
     },
     "execution_count": 26,
     "metadata": {},
     "output_type": "execute_result"
    }
   ],
   "source": [
    "# проверим таблицу на явные дубликаты после смены регистра\n",
    "df.duplicated().sum()"
   ]
  },
  {
   "cell_type": "markdown",
   "id": "5f0540c1",
   "metadata": {},
   "source": [
    "После удаления дубликатов education, связанных с регистром, в таблице появлись 17 явных дубликатов. Удалим их."
   ]
  },
  {
   "cell_type": "code",
   "execution_count": 27,
   "id": "f0216563",
   "metadata": {},
   "outputs": [],
   "source": [
    "df = df.drop_duplicates().reset_index(drop=True)"
   ]
  },
  {
   "cell_type": "markdown",
   "id": "21c27cd7",
   "metadata": {},
   "source": [
    "Аналогично проверим другие столбцы "
   ]
  },
  {
   "cell_type": "code",
   "execution_count": 28,
   "id": "ff87c578",
   "metadata": {
    "scrolled": false
   },
   "outputs": [
    {
     "data": {
      "text/plain": [
       "array(['сотрудник', 'пенсионер', 'компаньон', 'госслужащий',\n",
       "       'безработный', 'предприниматель', 'студент', 'в декрете'],\n",
       "      dtype=object)"
      ]
     },
     "execution_count": 28,
     "metadata": {},
     "output_type": "execute_result"
    }
   ],
   "source": [
    "# проверка уникальных значений income_type\n",
    "df.income_type.unique()"
   ]
  },
  {
   "cell_type": "code",
   "execution_count": 29,
   "id": "27a2e5d2",
   "metadata": {},
   "outputs": [
    {
     "data": {
      "text/plain": [
       "array(['женат / замужем', 'гражданский брак', 'вдовец / вдова',\n",
       "       'в разводе', 'Не женат / не замужем'], dtype=object)"
      ]
     },
     "execution_count": 29,
     "metadata": {},
     "output_type": "execute_result"
    }
   ],
   "source": [
    "# проверка уникальных значений family_status\n",
    "df.family_status.unique()"
   ]
  },
  {
   "cell_type": "code",
   "execution_count": 30,
   "id": "8b9dc4bd",
   "metadata": {
    "scrolled": true
   },
   "outputs": [
    {
     "data": {
      "text/plain": [
       "array(['покупка жилья', 'приобретение автомобиля',\n",
       "       'дополнительное образование', 'сыграть свадьбу',\n",
       "       'операции с жильем', 'образование', 'на проведение свадьбы',\n",
       "       'покупка жилья для семьи', 'покупка недвижимости',\n",
       "       'покупка коммерческой недвижимости', 'покупка жилой недвижимости',\n",
       "       'строительство собственной недвижимости', 'недвижимость',\n",
       "       'строительство недвижимости', 'на покупку подержанного автомобиля',\n",
       "       'на покупку своего автомобиля',\n",
       "       'операции с коммерческой недвижимостью',\n",
       "       'строительство жилой недвижимости', 'жилье',\n",
       "       'операции со своей недвижимостью', 'автомобили',\n",
       "       'заняться образованием', 'сделка с подержанным автомобилем',\n",
       "       'получение образования', 'автомобиль', 'свадьба',\n",
       "       'получение дополнительного образования', 'покупка своего жилья',\n",
       "       'операции с недвижимостью', 'получение высшего образования',\n",
       "       'свой автомобиль', 'сделка с автомобилем',\n",
       "       'профильное образование', 'высшее образование',\n",
       "       'покупка жилья для сдачи', 'на покупку автомобиля', 'ремонт жилью',\n",
       "       'заняться высшим образованием'], dtype=object)"
      ]
     },
     "execution_count": 30,
     "metadata": {},
     "output_type": "execute_result"
    }
   ],
   "source": [
    "# проверка уникальных значений purpose\n",
    "df.purpose.unique()"
   ]
  },
  {
   "cell_type": "markdown",
   "id": "2b79dea3",
   "metadata": {},
   "source": [
    "В столбце purpose можно заметить много повторяющихся по смыслу фраз, которые также можно расценивать как неявные дубликаты, например, 'покупка жилья', 'покупка недвижимости' и т.д. На данном шаге оставим значния столбца без изменений, т.к. далее на шаге 2.7 будет произведена категоризация значений рассматриваемого столбца. "
   ]
  },
  {
   "cell_type": "markdown",
   "id": "9acbb7d5",
   "metadata": {},
   "source": [
    "### Шаг 2.5. Формирование дополнительных датафреймов словарей, декомпозиция исходного датафрейма."
   ]
  },
  {
   "cell_type": "markdown",
   "id": "2d8da74d",
   "metadata": {},
   "source": [
    "Создадим два датафрейма - \"словаря\":\n",
    "1. в первом каждому уникальному значению из education поставим в соответствие уникальное значение education_id \n",
    "2. во втором каждому уникальному значению из family_status поставим в соответствие уникальное значение family_status_id"
   ]
  },
  {
   "cell_type": "code",
   "execution_count": 31,
   "id": "3ada896e",
   "metadata": {},
   "outputs": [],
   "source": [
    "# объект-словарь с education и education_id\n",
    "df_education = df[['education', 'education_id']]\n",
    "df_education = df_education.drop_duplicates().reset_index(drop=True)"
   ]
  },
  {
   "cell_type": "code",
   "execution_count": 32,
   "id": "cd066061",
   "metadata": {},
   "outputs": [],
   "source": [
    "# объект-словарь с education и education_id\n",
    "df_fam_status = df[['family_status', 'family_status_id']]\n",
    "df_fam_status = df_fam_status.drop_duplicates().reset_index(drop=True)"
   ]
  },
  {
   "cell_type": "code",
   "execution_count": 33,
   "id": "02e9165d",
   "metadata": {
    "scrolled": false
   },
   "outputs": [
    {
     "data": {
      "text/html": [
       "<div>\n",
       "<style scoped>\n",
       "    .dataframe tbody tr th:only-of-type {\n",
       "        vertical-align: middle;\n",
       "    }\n",
       "\n",
       "    .dataframe tbody tr th {\n",
       "        vertical-align: top;\n",
       "    }\n",
       "\n",
       "    .dataframe thead th {\n",
       "        text-align: right;\n",
       "    }\n",
       "</style>\n",
       "<table border=\"1\" class=\"dataframe\">\n",
       "  <thead>\n",
       "    <tr style=\"text-align: right;\">\n",
       "      <th></th>\n",
       "      <th>education</th>\n",
       "      <th>education_id</th>\n",
       "    </tr>\n",
       "  </thead>\n",
       "  <tbody>\n",
       "    <tr>\n",
       "      <th>0</th>\n",
       "      <td>высшее</td>\n",
       "      <td>0</td>\n",
       "    </tr>\n",
       "    <tr>\n",
       "      <th>1</th>\n",
       "      <td>среднее</td>\n",
       "      <td>1</td>\n",
       "    </tr>\n",
       "    <tr>\n",
       "      <th>2</th>\n",
       "      <td>неоконченное высшее</td>\n",
       "      <td>2</td>\n",
       "    </tr>\n",
       "    <tr>\n",
       "      <th>3</th>\n",
       "      <td>начальное</td>\n",
       "      <td>3</td>\n",
       "    </tr>\n",
       "    <tr>\n",
       "      <th>4</th>\n",
       "      <td>ученая степень</td>\n",
       "      <td>4</td>\n",
       "    </tr>\n",
       "  </tbody>\n",
       "</table>\n",
       "</div>"
      ],
      "text/plain": [
       "             education  education_id\n",
       "0               высшее             0\n",
       "1              среднее             1\n",
       "2  неоконченное высшее             2\n",
       "3            начальное             3\n",
       "4       ученая степень             4"
      ]
     },
     "metadata": {},
     "output_type": "display_data"
    },
    {
     "data": {
      "text/html": [
       "<div>\n",
       "<style scoped>\n",
       "    .dataframe tbody tr th:only-of-type {\n",
       "        vertical-align: middle;\n",
       "    }\n",
       "\n",
       "    .dataframe tbody tr th {\n",
       "        vertical-align: top;\n",
       "    }\n",
       "\n",
       "    .dataframe thead th {\n",
       "        text-align: right;\n",
       "    }\n",
       "</style>\n",
       "<table border=\"1\" class=\"dataframe\">\n",
       "  <thead>\n",
       "    <tr style=\"text-align: right;\">\n",
       "      <th></th>\n",
       "      <th>family_status</th>\n",
       "      <th>family_status_id</th>\n",
       "    </tr>\n",
       "  </thead>\n",
       "  <tbody>\n",
       "    <tr>\n",
       "      <th>0</th>\n",
       "      <td>женат / замужем</td>\n",
       "      <td>0</td>\n",
       "    </tr>\n",
       "    <tr>\n",
       "      <th>1</th>\n",
       "      <td>гражданский брак</td>\n",
       "      <td>1</td>\n",
       "    </tr>\n",
       "    <tr>\n",
       "      <th>2</th>\n",
       "      <td>вдовец / вдова</td>\n",
       "      <td>2</td>\n",
       "    </tr>\n",
       "    <tr>\n",
       "      <th>3</th>\n",
       "      <td>в разводе</td>\n",
       "      <td>3</td>\n",
       "    </tr>\n",
       "    <tr>\n",
       "      <th>4</th>\n",
       "      <td>Не женат / не замужем</td>\n",
       "      <td>4</td>\n",
       "    </tr>\n",
       "  </tbody>\n",
       "</table>\n",
       "</div>"
      ],
      "text/plain": [
       "           family_status  family_status_id\n",
       "0        женат / замужем                 0\n",
       "1       гражданский брак                 1\n",
       "2         вдовец / вдова                 2\n",
       "3              в разводе                 3\n",
       "4  Не женат / не замужем                 4"
      ]
     },
     "metadata": {},
     "output_type": "display_data"
    }
   ],
   "source": [
    "# проверим полученные датафреймы, чтобы убедиться, что получили нужное\n",
    "display(df_education, df_fam_status)\n"
   ]
  },
  {
   "cell_type": "markdown",
   "id": "5bd171d8",
   "metadata": {},
   "source": [
    "Удалим из исходной таблицы столбцы education и family_status"
   ]
  },
  {
   "cell_type": "code",
   "execution_count": 34,
   "id": "36b98384",
   "metadata": {},
   "outputs": [],
   "source": [
    "df.drop(['education', 'family_status'], axis = 1, inplace = True)"
   ]
  },
  {
   "cell_type": "code",
   "execution_count": 35,
   "id": "029c22ae",
   "metadata": {},
   "outputs": [
    {
     "data": {
      "text/html": [
       "<div>\n",
       "<style scoped>\n",
       "    .dataframe tbody tr th:only-of-type {\n",
       "        vertical-align: middle;\n",
       "    }\n",
       "\n",
       "    .dataframe tbody tr th {\n",
       "        vertical-align: top;\n",
       "    }\n",
       "\n",
       "    .dataframe thead th {\n",
       "        text-align: right;\n",
       "    }\n",
       "</style>\n",
       "<table border=\"1\" class=\"dataframe\">\n",
       "  <thead>\n",
       "    <tr style=\"text-align: right;\">\n",
       "      <th></th>\n",
       "      <th>children</th>\n",
       "      <th>days_employed</th>\n",
       "      <th>dob_years</th>\n",
       "      <th>education_id</th>\n",
       "      <th>family_status_id</th>\n",
       "      <th>gender</th>\n",
       "      <th>income_type</th>\n",
       "      <th>debt</th>\n",
       "      <th>total_income</th>\n",
       "      <th>purpose</th>\n",
       "    </tr>\n",
       "  </thead>\n",
       "  <tbody>\n",
       "    <tr>\n",
       "      <th>0</th>\n",
       "      <td>1</td>\n",
       "      <td>8437.673028</td>\n",
       "      <td>42</td>\n",
       "      <td>0</td>\n",
       "      <td>0</td>\n",
       "      <td>F</td>\n",
       "      <td>сотрудник</td>\n",
       "      <td>0</td>\n",
       "      <td>253875</td>\n",
       "      <td>покупка жилья</td>\n",
       "    </tr>\n",
       "    <tr>\n",
       "      <th>1</th>\n",
       "      <td>1</td>\n",
       "      <td>4024.803754</td>\n",
       "      <td>36</td>\n",
       "      <td>1</td>\n",
       "      <td>0</td>\n",
       "      <td>F</td>\n",
       "      <td>сотрудник</td>\n",
       "      <td>0</td>\n",
       "      <td>112080</td>\n",
       "      <td>приобретение автомобиля</td>\n",
       "    </tr>\n",
       "    <tr>\n",
       "      <th>2</th>\n",
       "      <td>0</td>\n",
       "      <td>5623.422610</td>\n",
       "      <td>33</td>\n",
       "      <td>1</td>\n",
       "      <td>0</td>\n",
       "      <td>M</td>\n",
       "      <td>сотрудник</td>\n",
       "      <td>0</td>\n",
       "      <td>145885</td>\n",
       "      <td>покупка жилья</td>\n",
       "    </tr>\n",
       "    <tr>\n",
       "      <th>3</th>\n",
       "      <td>3</td>\n",
       "      <td>4124.747207</td>\n",
       "      <td>32</td>\n",
       "      <td>1</td>\n",
       "      <td>0</td>\n",
       "      <td>M</td>\n",
       "      <td>сотрудник</td>\n",
       "      <td>0</td>\n",
       "      <td>267628</td>\n",
       "      <td>дополнительное образование</td>\n",
       "    </tr>\n",
       "    <tr>\n",
       "      <th>4</th>\n",
       "      <td>0</td>\n",
       "      <td>340266.072047</td>\n",
       "      <td>53</td>\n",
       "      <td>1</td>\n",
       "      <td>1</td>\n",
       "      <td>F</td>\n",
       "      <td>пенсионер</td>\n",
       "      <td>0</td>\n",
       "      <td>158616</td>\n",
       "      <td>сыграть свадьбу</td>\n",
       "    </tr>\n",
       "  </tbody>\n",
       "</table>\n",
       "</div>"
      ],
      "text/plain": [
       "   children  days_employed  dob_years  education_id  family_status_id gender  \\\n",
       "0         1    8437.673028         42             0                 0      F   \n",
       "1         1    4024.803754         36             1                 0      F   \n",
       "2         0    5623.422610         33             1                 0      M   \n",
       "3         3    4124.747207         32             1                 0      M   \n",
       "4         0  340266.072047         53             1                 1      F   \n",
       "\n",
       "  income_type  debt  total_income                     purpose  \n",
       "0   сотрудник     0        253875               покупка жилья  \n",
       "1   сотрудник     0        112080     приобретение автомобиля  \n",
       "2   сотрудник     0        145885               покупка жилья  \n",
       "3   сотрудник     0        267628  дополнительное образование  \n",
       "4   пенсионер     0        158616             сыграть свадьбу  "
      ]
     },
     "execution_count": 35,
     "metadata": {},
     "output_type": "execute_result"
    }
   ],
   "source": [
    "# Проверим исходную таблиицу\n",
    "df.head()"
   ]
  },
  {
   "cell_type": "markdown",
   "id": "61e2ad0b",
   "metadata": {},
   "source": [
    "### Шаг 2.6. Категоризация дохода."
   ]
  },
  {
   "cell_type": "markdown",
   "id": "fca00ac5",
   "metadata": {},
   "source": [
    "На основе данных о доходе проведем категоризацию данных. Для этого создадим дополнительный столбец total_income_category"
   ]
  },
  {
   "cell_type": "code",
   "execution_count": 36,
   "id": "b0e9c971",
   "metadata": {},
   "outputs": [],
   "source": [
    "# Здесь также можно воспользоваться конструкцией if, elif\n",
    "\n",
    "df.loc[(df['total_income'] >= 0) & (df['total_income'] <= 30000) , 'total_income_category'] = 'E'\n",
    "df.loc[(df['total_income'] >= 30001) & (df['total_income'] <= 50000) , 'total_income_category'] = 'D'\n",
    "df.loc[(df['total_income'] >= 50001) & (df['total_income'] <= 200000) , 'total_income_category'] = 'C'\n",
    "df.loc[(df['total_income'] >= 200001) & (df['total_income'] <= 1000000) , 'total_income_category'] = 'B'\n",
    "df.loc[df['total_income'] >= 1000001 , 'total_income_category'] = 'A'"
   ]
  },
  {
   "cell_type": "markdown",
   "id": "6440ba6b",
   "metadata": {},
   "source": [
    "### Шаг 2.7. Категоризация целей кредита."
   ]
  },
  {
   "cell_type": "markdown",
   "id": "aaa8b1fe",
   "metadata": {},
   "source": [
    "На этом шаге создадим функцию, которая на основании данных из столбца purpose сформирует новый столбец purpose_category, в который войдут следующие категории:\n",
    "- 'операции с автомобилем',\n",
    "- 'операции с недвижимостью',\n",
    "- 'проведение свадьбы',\n",
    "- 'получение образования'\n",
    "\n",
    "Но прежде изучим уникальные значения в столбце purpose"
   ]
  },
  {
   "cell_type": "code",
   "execution_count": 37,
   "id": "998f7e7d",
   "metadata": {
    "scrolled": true
   },
   "outputs": [
    {
     "data": {
      "text/plain": [
       "array(['покупка жилья', 'приобретение автомобиля',\n",
       "       'дополнительное образование', 'сыграть свадьбу',\n",
       "       'операции с жильем', 'образование', 'на проведение свадьбы',\n",
       "       'покупка жилья для семьи', 'покупка недвижимости',\n",
       "       'покупка коммерческой недвижимости', 'покупка жилой недвижимости',\n",
       "       'строительство собственной недвижимости', 'недвижимость',\n",
       "       'строительство недвижимости', 'на покупку подержанного автомобиля',\n",
       "       'на покупку своего автомобиля',\n",
       "       'операции с коммерческой недвижимостью',\n",
       "       'строительство жилой недвижимости', 'жилье',\n",
       "       'операции со своей недвижимостью', 'автомобили',\n",
       "       'заняться образованием', 'сделка с подержанным автомобилем',\n",
       "       'получение образования', 'автомобиль', 'свадьба',\n",
       "       'получение дополнительного образования', 'покупка своего жилья',\n",
       "       'операции с недвижимостью', 'получение высшего образования',\n",
       "       'свой автомобиль', 'сделка с автомобилем',\n",
       "       'профильное образование', 'высшее образование',\n",
       "       'покупка жилья для сдачи', 'на покупку автомобиля', 'ремонт жилью',\n",
       "       'заняться высшим образованием'], dtype=object)"
      ]
     },
     "execution_count": 37,
     "metadata": {},
     "output_type": "execute_result"
    }
   ],
   "source": [
    "df.purpose.unique()"
   ]
  },
  {
   "cell_type": "code",
   "execution_count": 38,
   "id": "f32d33cb",
   "metadata": {},
   "outputs": [],
   "source": [
    "def purp_categs(row):\n",
    "    if 'авто' in row:\n",
    "        return 'операции с автомобилем' \n",
    "    elif 'свад' in row:\n",
    "        return 'проведение свадьбы'\n",
    "    elif 'образов' in row:\n",
    "        return 'получение образования'\n",
    "    else:\n",
    "        return 'операции с недвижимостью'"
   ]
  },
  {
   "cell_type": "code",
   "execution_count": 39,
   "id": "db754cd4",
   "metadata": {},
   "outputs": [],
   "source": [
    "df['purpose_category'] = df['purpose'].apply(purp_categs)"
   ]
  },
  {
   "cell_type": "code",
   "execution_count": 40,
   "id": "23f9d7cd",
   "metadata": {},
   "outputs": [
    {
     "data": {
      "text/html": [
       "<div>\n",
       "<style scoped>\n",
       "    .dataframe tbody tr th:only-of-type {\n",
       "        vertical-align: middle;\n",
       "    }\n",
       "\n",
       "    .dataframe tbody tr th {\n",
       "        vertical-align: top;\n",
       "    }\n",
       "\n",
       "    .dataframe thead th {\n",
       "        text-align: right;\n",
       "    }\n",
       "</style>\n",
       "<table border=\"1\" class=\"dataframe\">\n",
       "  <thead>\n",
       "    <tr style=\"text-align: right;\">\n",
       "      <th></th>\n",
       "      <th>children</th>\n",
       "      <th>days_employed</th>\n",
       "      <th>dob_years</th>\n",
       "      <th>education_id</th>\n",
       "      <th>family_status_id</th>\n",
       "      <th>gender</th>\n",
       "      <th>income_type</th>\n",
       "      <th>debt</th>\n",
       "      <th>total_income</th>\n",
       "      <th>purpose</th>\n",
       "      <th>total_income_category</th>\n",
       "      <th>purpose_category</th>\n",
       "    </tr>\n",
       "  </thead>\n",
       "  <tbody>\n",
       "    <tr>\n",
       "      <th>0</th>\n",
       "      <td>1</td>\n",
       "      <td>8437.673028</td>\n",
       "      <td>42</td>\n",
       "      <td>0</td>\n",
       "      <td>0</td>\n",
       "      <td>F</td>\n",
       "      <td>сотрудник</td>\n",
       "      <td>0</td>\n",
       "      <td>253875</td>\n",
       "      <td>покупка жилья</td>\n",
       "      <td>B</td>\n",
       "      <td>операции с недвижимостью</td>\n",
       "    </tr>\n",
       "    <tr>\n",
       "      <th>1</th>\n",
       "      <td>1</td>\n",
       "      <td>4024.803754</td>\n",
       "      <td>36</td>\n",
       "      <td>1</td>\n",
       "      <td>0</td>\n",
       "      <td>F</td>\n",
       "      <td>сотрудник</td>\n",
       "      <td>0</td>\n",
       "      <td>112080</td>\n",
       "      <td>приобретение автомобиля</td>\n",
       "      <td>C</td>\n",
       "      <td>операции с автомобилем</td>\n",
       "    </tr>\n",
       "    <tr>\n",
       "      <th>2</th>\n",
       "      <td>0</td>\n",
       "      <td>5623.422610</td>\n",
       "      <td>33</td>\n",
       "      <td>1</td>\n",
       "      <td>0</td>\n",
       "      <td>M</td>\n",
       "      <td>сотрудник</td>\n",
       "      <td>0</td>\n",
       "      <td>145885</td>\n",
       "      <td>покупка жилья</td>\n",
       "      <td>C</td>\n",
       "      <td>операции с недвижимостью</td>\n",
       "    </tr>\n",
       "    <tr>\n",
       "      <th>3</th>\n",
       "      <td>3</td>\n",
       "      <td>4124.747207</td>\n",
       "      <td>32</td>\n",
       "      <td>1</td>\n",
       "      <td>0</td>\n",
       "      <td>M</td>\n",
       "      <td>сотрудник</td>\n",
       "      <td>0</td>\n",
       "      <td>267628</td>\n",
       "      <td>дополнительное образование</td>\n",
       "      <td>B</td>\n",
       "      <td>получение образования</td>\n",
       "    </tr>\n",
       "    <tr>\n",
       "      <th>4</th>\n",
       "      <td>0</td>\n",
       "      <td>340266.072047</td>\n",
       "      <td>53</td>\n",
       "      <td>1</td>\n",
       "      <td>1</td>\n",
       "      <td>F</td>\n",
       "      <td>пенсионер</td>\n",
       "      <td>0</td>\n",
       "      <td>158616</td>\n",
       "      <td>сыграть свадьбу</td>\n",
       "      <td>C</td>\n",
       "      <td>проведение свадьбы</td>\n",
       "    </tr>\n",
       "    <tr>\n",
       "      <th>5</th>\n",
       "      <td>0</td>\n",
       "      <td>926.185831</td>\n",
       "      <td>27</td>\n",
       "      <td>0</td>\n",
       "      <td>1</td>\n",
       "      <td>M</td>\n",
       "      <td>компаньон</td>\n",
       "      <td>0</td>\n",
       "      <td>255763</td>\n",
       "      <td>покупка жилья</td>\n",
       "      <td>B</td>\n",
       "      <td>операции с недвижимостью</td>\n",
       "    </tr>\n",
       "    <tr>\n",
       "      <th>6</th>\n",
       "      <td>0</td>\n",
       "      <td>2879.202052</td>\n",
       "      <td>43</td>\n",
       "      <td>0</td>\n",
       "      <td>0</td>\n",
       "      <td>F</td>\n",
       "      <td>компаньон</td>\n",
       "      <td>0</td>\n",
       "      <td>240525</td>\n",
       "      <td>операции с жильем</td>\n",
       "      <td>B</td>\n",
       "      <td>операции с недвижимостью</td>\n",
       "    </tr>\n",
       "    <tr>\n",
       "      <th>7</th>\n",
       "      <td>0</td>\n",
       "      <td>152.779569</td>\n",
       "      <td>50</td>\n",
       "      <td>1</td>\n",
       "      <td>0</td>\n",
       "      <td>M</td>\n",
       "      <td>сотрудник</td>\n",
       "      <td>0</td>\n",
       "      <td>135823</td>\n",
       "      <td>образование</td>\n",
       "      <td>C</td>\n",
       "      <td>получение образования</td>\n",
       "    </tr>\n",
       "    <tr>\n",
       "      <th>8</th>\n",
       "      <td>2</td>\n",
       "      <td>6929.865299</td>\n",
       "      <td>35</td>\n",
       "      <td>0</td>\n",
       "      <td>1</td>\n",
       "      <td>F</td>\n",
       "      <td>сотрудник</td>\n",
       "      <td>0</td>\n",
       "      <td>95856</td>\n",
       "      <td>на проведение свадьбы</td>\n",
       "      <td>C</td>\n",
       "      <td>проведение свадьбы</td>\n",
       "    </tr>\n",
       "    <tr>\n",
       "      <th>9</th>\n",
       "      <td>0</td>\n",
       "      <td>2188.756445</td>\n",
       "      <td>41</td>\n",
       "      <td>1</td>\n",
       "      <td>0</td>\n",
       "      <td>M</td>\n",
       "      <td>сотрудник</td>\n",
       "      <td>0</td>\n",
       "      <td>144425</td>\n",
       "      <td>покупка жилья для семьи</td>\n",
       "      <td>C</td>\n",
       "      <td>операции с недвижимостью</td>\n",
       "    </tr>\n",
       "  </tbody>\n",
       "</table>\n",
       "</div>"
      ],
      "text/plain": [
       "   children  days_employed  dob_years  education_id  family_status_id gender  \\\n",
       "0         1    8437.673028         42             0                 0      F   \n",
       "1         1    4024.803754         36             1                 0      F   \n",
       "2         0    5623.422610         33             1                 0      M   \n",
       "3         3    4124.747207         32             1                 0      M   \n",
       "4         0  340266.072047         53             1                 1      F   \n",
       "5         0     926.185831         27             0                 1      M   \n",
       "6         0    2879.202052         43             0                 0      F   \n",
       "7         0     152.779569         50             1                 0      M   \n",
       "8         2    6929.865299         35             0                 1      F   \n",
       "9         0    2188.756445         41             1                 0      M   \n",
       "\n",
       "  income_type  debt  total_income                     purpose  \\\n",
       "0   сотрудник     0        253875               покупка жилья   \n",
       "1   сотрудник     0        112080     приобретение автомобиля   \n",
       "2   сотрудник     0        145885               покупка жилья   \n",
       "3   сотрудник     0        267628  дополнительное образование   \n",
       "4   пенсионер     0        158616             сыграть свадьбу   \n",
       "5   компаньон     0        255763               покупка жилья   \n",
       "6   компаньон     0        240525           операции с жильем   \n",
       "7   сотрудник     0        135823                 образование   \n",
       "8   сотрудник     0         95856       на проведение свадьбы   \n",
       "9   сотрудник     0        144425     покупка жилья для семьи   \n",
       "\n",
       "  total_income_category          purpose_category  \n",
       "0                     B  операции с недвижимостью  \n",
       "1                     C    операции с автомобилем  \n",
       "2                     C  операции с недвижимостью  \n",
       "3                     B     получение образования  \n",
       "4                     C        проведение свадьбы  \n",
       "5                     B  операции с недвижимостью  \n",
       "6                     B  операции с недвижимостью  \n",
       "7                     C     получение образования  \n",
       "8                     C        проведение свадьбы  \n",
       "9                     C  операции с недвижимостью  "
      ]
     },
     "execution_count": 40,
     "metadata": {},
     "output_type": "execute_result"
    }
   ],
   "source": [
    "# посмотрим первые записи финальной таблицы после выполненной предобработки\n",
    "df.head(10)"
   ]
  },
  {
   "cell_type": "markdown",
   "id": "5ee50576",
   "metadata": {},
   "source": [
    "### Ответы на вопросы."
   ]
  },
  {
   "cell_type": "markdown",
   "id": "6c21d5a4",
   "metadata": {},
   "source": [
    "##### Вопрос 1: Есть ли зависимость между количеством детей и возвратом кредита в срок?\n"
   ]
  },
  {
   "cell_type": "code",
   "execution_count": 41,
   "id": "9b49b520",
   "metadata": {
    "scrolled": true
   },
   "outputs": [
    {
     "data": {
      "text/plain": [
       "0     14091\n",
       "1      4855\n",
       "2      2052\n",
       "3       330\n",
       "20       76\n",
       "4        41\n",
       "5         9\n",
       "Name: children, dtype: int64"
      ]
     },
     "execution_count": 41,
     "metadata": {},
     "output_type": "execute_result"
    }
   ],
   "source": [
    "# посмотрим количество клиентов для разных значение столбца children\n",
    "df.children.value_counts()"
   ]
  },
  {
   "cell_type": "markdown",
   "id": "319f914e",
   "metadata": {},
   "source": [
    "Видим, что в таблице содержится всего 9 записей о клиентах, имеющим 5 детей. Можно допустить, что такая выборка не является достаточно представительной. При формировании дальнейших выводов предлагаю не учитывать данную группу клиентов."
   ]
  },
  {
   "cell_type": "markdown",
   "id": "619801a0",
   "metadata": {},
   "source": [
    "Построим сводную таблицу в которой для каждого значения количества детей найдем долю тех клиентов, кто имел задолженность по возврату кредитов. Воспользуемся аггрегирующей функции mean. Отсортируем таблицу по убыванию значений задолженности\n"
   ]
  },
  {
   "cell_type": "code",
   "execution_count": 42,
   "id": "f3767071",
   "metadata": {
    "scrolled": false
   },
   "outputs": [
    {
     "data": {
      "text/html": [
       "<div>\n",
       "<style scoped>\n",
       "    .dataframe tbody tr th:only-of-type {\n",
       "        vertical-align: middle;\n",
       "    }\n",
       "\n",
       "    .dataframe tbody tr th {\n",
       "        vertical-align: top;\n",
       "    }\n",
       "\n",
       "    .dataframe thead th {\n",
       "        text-align: right;\n",
       "    }\n",
       "</style>\n",
       "<table border=\"1\" class=\"dataframe\">\n",
       "  <thead>\n",
       "    <tr style=\"text-align: right;\">\n",
       "      <th></th>\n",
       "      <th>debt</th>\n",
       "    </tr>\n",
       "    <tr>\n",
       "      <th>children</th>\n",
       "      <th></th>\n",
       "    </tr>\n",
       "  </thead>\n",
       "  <tbody>\n",
       "    <tr>\n",
       "      <th>20</th>\n",
       "      <td>0.105263</td>\n",
       "    </tr>\n",
       "    <tr>\n",
       "      <th>4</th>\n",
       "      <td>0.097561</td>\n",
       "    </tr>\n",
       "    <tr>\n",
       "      <th>2</th>\n",
       "      <td>0.094542</td>\n",
       "    </tr>\n",
       "    <tr>\n",
       "      <th>1</th>\n",
       "      <td>0.091658</td>\n",
       "    </tr>\n",
       "    <tr>\n",
       "      <th>3</th>\n",
       "      <td>0.081818</td>\n",
       "    </tr>\n",
       "    <tr>\n",
       "      <th>0</th>\n",
       "      <td>0.075438</td>\n",
       "    </tr>\n",
       "    <tr>\n",
       "      <th>5</th>\n",
       "      <td>0.000000</td>\n",
       "    </tr>\n",
       "  </tbody>\n",
       "</table>\n",
       "</div>"
      ],
      "text/plain": [
       "              debt\n",
       "children          \n",
       "20        0.105263\n",
       "4         0.097561\n",
       "2         0.094542\n",
       "1         0.091658\n",
       "3         0.081818\n",
       "0         0.075438\n",
       "5         0.000000"
      ]
     },
     "execution_count": 42,
     "metadata": {},
     "output_type": "execute_result"
    }
   ],
   "source": [
    "df.pivot_table(index = 'children', \n",
    "               values = 'debt', \n",
    "               aggfunc = 'mean').sort_values(by = 'debt', ascending = False)\n"
   ]
  },
  {
   "cell_type": "markdown",
   "id": "b87c84d5",
   "metadata": {},
   "source": [
    "##### Вывод 1:"
   ]
  },
  {
   "cell_type": "markdown",
   "id": "fa629633",
   "metadata": {},
   "source": [
    "Видим, что наибольшее значение доли клиентов с задолженностью (10.5%) соответствует группе с наибольшим количеством детей. Клиенты с другим количеством детей отражены в сводной таблице неупорядоченно, таким образом прямой зависимости между долей клиентов с задолженностью и кол-вом детей не наблюдается."
   ]
  },
  {
   "cell_type": "markdown",
   "id": "375b71e1",
   "metadata": {},
   "source": [
    "##### Вопрос 2: Есть ли зависимость между семейным положением и возвратом кредита в срок?\n"
   ]
  },
  {
   "cell_type": "markdown",
   "id": "0b2682cc",
   "metadata": {},
   "source": [
    "Построим сводную таблицу в которой для каждого идентификатора семейного положения найдем долю тех клиентов, кто имел задолженность по возврату кредитов с помощью аггрегирующей функции mean. Отсортируем таблицу по убыванию значений задолженности. И добавим расшифровку для family_status_id из созданного ранее датафрейма-словаря"
   ]
  },
  {
   "cell_type": "code",
   "execution_count": 43,
   "id": "b4cddbb6",
   "metadata": {
    "scrolled": true
   },
   "outputs": [
    {
     "data": {
      "text/html": [
       "<div>\n",
       "<style scoped>\n",
       "    .dataframe tbody tr th:only-of-type {\n",
       "        vertical-align: middle;\n",
       "    }\n",
       "\n",
       "    .dataframe tbody tr th {\n",
       "        vertical-align: top;\n",
       "    }\n",
       "\n",
       "    .dataframe thead th {\n",
       "        text-align: right;\n",
       "    }\n",
       "</style>\n",
       "<table border=\"1\" class=\"dataframe\">\n",
       "  <thead>\n",
       "    <tr style=\"text-align: right;\">\n",
       "      <th></th>\n",
       "      <th>family_status_id</th>\n",
       "      <th>debt</th>\n",
       "      <th>family_status</th>\n",
       "    </tr>\n",
       "  </thead>\n",
       "  <tbody>\n",
       "    <tr>\n",
       "      <th>0</th>\n",
       "      <td>4</td>\n",
       "      <td>0.097509</td>\n",
       "      <td>Не женат / не замужем</td>\n",
       "    </tr>\n",
       "    <tr>\n",
       "      <th>1</th>\n",
       "      <td>1</td>\n",
       "      <td>0.093471</td>\n",
       "      <td>гражданский брак</td>\n",
       "    </tr>\n",
       "    <tr>\n",
       "      <th>2</th>\n",
       "      <td>0</td>\n",
       "      <td>0.075452</td>\n",
       "      <td>женат / замужем</td>\n",
       "    </tr>\n",
       "    <tr>\n",
       "      <th>3</th>\n",
       "      <td>3</td>\n",
       "      <td>0.071130</td>\n",
       "      <td>в разводе</td>\n",
       "    </tr>\n",
       "    <tr>\n",
       "      <th>4</th>\n",
       "      <td>2</td>\n",
       "      <td>0.065693</td>\n",
       "      <td>вдовец / вдова</td>\n",
       "    </tr>\n",
       "  </tbody>\n",
       "</table>\n",
       "</div>"
      ],
      "text/plain": [
       "   family_status_id      debt          family_status\n",
       "0                 4  0.097509  Не женат / не замужем\n",
       "1                 1  0.093471       гражданский брак\n",
       "2                 0  0.075452        женат / замужем\n",
       "3                 3  0.071130              в разводе\n",
       "4                 2  0.065693         вдовец / вдова"
      ]
     },
     "execution_count": 43,
     "metadata": {},
     "output_type": "execute_result"
    }
   ],
   "source": [
    "df.pivot_table(index = 'family_status_id', \n",
    "               values = 'debt', \n",
    "               aggfunc = 'mean').sort_values(by = 'debt', \n",
    "                                             ascending = False).merge(df_fam_status, \n",
    "                                                                      on = 'family_status_id', \n",
    "                                                                      how = 'left')"
   ]
  },
  {
   "cell_type": "markdown",
   "id": "9dada7cd",
   "metadata": {},
   "source": [
    "##### Вывод 2:"
   ]
  },
  {
   "cell_type": "markdown",
   "id": "12f59af2",
   "metadata": {},
   "source": [
    "Среди клиентов, с семейным статусом \"Не женат / не замужем\" доля тех, кто имел задолженности по креду, составляет 9.75% - это наибольшее значение из всех групп. Наименьшая доля клиентов с задолженностью (6.56%) соответсвует семейному статусу \"вдовец / вдова\".\n",
    "    "
   ]
  },
  {
   "cell_type": "markdown",
   "id": "ff672918",
   "metadata": {},
   "source": [
    "##### Вопрос 3: Есть ли зависимость между уровнем дохода и возвратом кредита в срок?\n"
   ]
  },
  {
   "cell_type": "markdown",
   "id": "2a425a55",
   "metadata": {},
   "source": [
    "Построим сводную таблицу в которой для каждой категории дохода найдем долю тех клиентов, кто имел задолженность по возврату кредитов с помощью аггрегирующей функции mean. Отсортируем таблицу по убыванию значений задолженности. "
   ]
  },
  {
   "cell_type": "code",
   "execution_count": 44,
   "id": "9267333b",
   "metadata": {},
   "outputs": [
    {
     "data": {
      "text/html": [
       "<div>\n",
       "<style scoped>\n",
       "    .dataframe tbody tr th:only-of-type {\n",
       "        vertical-align: middle;\n",
       "    }\n",
       "\n",
       "    .dataframe tbody tr th {\n",
       "        vertical-align: top;\n",
       "    }\n",
       "\n",
       "    .dataframe thead th {\n",
       "        text-align: right;\n",
       "    }\n",
       "</style>\n",
       "<table border=\"1\" class=\"dataframe\">\n",
       "  <thead>\n",
       "    <tr style=\"text-align: right;\">\n",
       "      <th></th>\n",
       "      <th>debt</th>\n",
       "    </tr>\n",
       "    <tr>\n",
       "      <th>total_income_category</th>\n",
       "      <th></th>\n",
       "    </tr>\n",
       "  </thead>\n",
       "  <tbody>\n",
       "    <tr>\n",
       "      <th>E</th>\n",
       "      <td>0.090909</td>\n",
       "    </tr>\n",
       "    <tr>\n",
       "      <th>C</th>\n",
       "      <td>0.084915</td>\n",
       "    </tr>\n",
       "    <tr>\n",
       "      <th>A</th>\n",
       "      <td>0.080000</td>\n",
       "    </tr>\n",
       "    <tr>\n",
       "      <th>B</th>\n",
       "      <td>0.070621</td>\n",
       "    </tr>\n",
       "    <tr>\n",
       "      <th>D</th>\n",
       "      <td>0.060000</td>\n",
       "    </tr>\n",
       "  </tbody>\n",
       "</table>\n",
       "</div>"
      ],
      "text/plain": [
       "                           debt\n",
       "total_income_category          \n",
       "E                      0.090909\n",
       "C                      0.084915\n",
       "A                      0.080000\n",
       "B                      0.070621\n",
       "D                      0.060000"
      ]
     },
     "execution_count": 44,
     "metadata": {},
     "output_type": "execute_result"
    }
   ],
   "source": [
    "df.pivot_table(index = 'total_income_category', \n",
    "               values = 'debt', \n",
    "               aggfunc = 'mean').sort_values(by = 'debt', ascending = False)"
   ]
  },
  {
   "cell_type": "markdown",
   "id": "7323ca75",
   "metadata": {},
   "source": [
    "##### Вывод 3:"
   ]
  },
  {
   "cell_type": "markdown",
   "id": "6b9c8d22",
   "metadata": {},
   "source": [
    "Прямой зависимости между уровнем дохода и возвратом кредита в срок не наблюдается - категории дохода не совсем упорядочены относительно доли клинтов с задолженностью. Однако можно заметить, что среди клиетов, попадающих в группу \"Е\" (те, кто имеет наименьший доход) наибольшее количество тех, кто ранее имел задолженность по возврату кредитов."
   ]
  },
  {
   "cell_type": "markdown",
   "id": "b2c912ba",
   "metadata": {},
   "source": [
    "##### Вопрос 4: Как разные цели кредита влияют на его возврат в срок?\n"
   ]
  },
  {
   "cell_type": "markdown",
   "id": "a8cdbdb6",
   "metadata": {},
   "source": [
    "Построим сводную таблицу в которой для каждой категории цели займа найдем долю тех клиентов, кто имел задолженность по возврату кредитов с помощью аггрегирующей функции mean. Отсортируем таблицу по убыванию значений задолженности."
   ]
  },
  {
   "cell_type": "code",
   "execution_count": 45,
   "id": "2063802b",
   "metadata": {},
   "outputs": [
    {
     "data": {
      "text/html": [
       "<div>\n",
       "<style scoped>\n",
       "    .dataframe tbody tr th:only-of-type {\n",
       "        vertical-align: middle;\n",
       "    }\n",
       "\n",
       "    .dataframe tbody tr th {\n",
       "        vertical-align: top;\n",
       "    }\n",
       "\n",
       "    .dataframe thead th {\n",
       "        text-align: right;\n",
       "    }\n",
       "</style>\n",
       "<table border=\"1\" class=\"dataframe\">\n",
       "  <thead>\n",
       "    <tr style=\"text-align: right;\">\n",
       "      <th></th>\n",
       "      <th>debt</th>\n",
       "    </tr>\n",
       "    <tr>\n",
       "      <th>purpose_category</th>\n",
       "      <th></th>\n",
       "    </tr>\n",
       "  </thead>\n",
       "  <tbody>\n",
       "    <tr>\n",
       "      <th>операции с автомобилем</th>\n",
       "      <td>0.093590</td>\n",
       "    </tr>\n",
       "    <tr>\n",
       "      <th>получение образования</th>\n",
       "      <td>0.092200</td>\n",
       "    </tr>\n",
       "    <tr>\n",
       "      <th>проведение свадьбы</th>\n",
       "      <td>0.080034</td>\n",
       "    </tr>\n",
       "    <tr>\n",
       "      <th>операции с недвижимостью</th>\n",
       "      <td>0.072334</td>\n",
       "    </tr>\n",
       "  </tbody>\n",
       "</table>\n",
       "</div>"
      ],
      "text/plain": [
       "                              debt\n",
       "purpose_category                  \n",
       "операции с автомобилем    0.093590\n",
       "получение образования     0.092200\n",
       "проведение свадьбы        0.080034\n",
       "операции с недвижимостью  0.072334"
      ]
     },
     "execution_count": 45,
     "metadata": {},
     "output_type": "execute_result"
    }
   ],
   "source": [
    "df.pivot_table(index = 'purpose_category', \n",
    "               values = 'debt', \n",
    "               aggfunc = 'mean').sort_values(by = 'debt', ascending = False)"
   ]
  },
  {
   "cell_type": "markdown",
   "id": "dcc6c549",
   "metadata": {},
   "source": [
    "##### Вывод 4:"
   ]
  },
  {
   "cell_type": "markdown",
   "id": "1f96460b",
   "metadata": {},
   "source": [
    "Среди клиентов, с целью кредита \"операции с автомобилем\" доля тех, кто имел задолженности по креду, составляет 9.35% - это наибольшее значение из всех категорий цели кредита. Наименьшая доля клиентов с задолженностью (7.23%) соответсвует цели \"операции с недвижимостью\"."
   ]
  },
  {
   "cell_type": "markdown",
   "id": "dfe69da0",
   "metadata": {},
   "source": [
    "## Общий вывод:"
   ]
  },
  {
   "cell_type": "markdown",
   "id": "90e1c1c5",
   "metadata": {},
   "source": [
    "Был предобработан и проанализирован набор данных со статистикой о платёжеспособности клиентов банка. Проведенный анализ показал, что наиболее рискованные группы клиентов с точки зрения платежеспособности (имеющие задолженность по возврату кредита):\n",
    "- клиенты с количеством детей более 5\n",
    "- не женатые клиенты\n",
    "- клиенты с уровнем дохода 0 - 30000\n",
    "- клиенты, которые берут кредит на операции с автомобилем \n",
    "\n",
    "Наименее рискованные группы клиентов с точки зрения платежеспособности: \n",
    "- клиенты, не имеющие детей\n",
    "- клиенты с семейным статусом \"вдовец / вдова\"\n",
    "- клиенты с уровнем дохода 30001–50000\n",
    "- клиенты, которые берут кредит на различные операции с недвижимостью "
   ]
  }
 ],
 "metadata": {
  "ExecuteTimeLog": [
   {
    "duration": 735,
    "start_time": "2022-03-08T15:17:48.822Z"
   },
   {
    "duration": 65,
    "start_time": "2022-03-08T15:20:39.826Z"
   },
   {
    "duration": 27,
    "start_time": "2022-03-08T15:20:47.513Z"
   },
   {
    "duration": 342,
    "start_time": "2022-03-08T15:21:49.497Z"
   },
   {
    "duration": 56,
    "start_time": "2022-03-08T15:21:57.090Z"
   },
   {
    "duration": 18,
    "start_time": "2022-03-08T15:21:57.644Z"
   },
   {
    "duration": 14,
    "start_time": "2022-03-08T15:21:59.557Z"
   },
   {
    "duration": 15,
    "start_time": "2022-03-08T15:22:19.533Z"
   },
   {
    "duration": 13,
    "start_time": "2022-03-08T15:22:23.258Z"
   },
   {
    "duration": 19,
    "start_time": "2022-03-08T15:23:29.742Z"
   },
   {
    "duration": 14,
    "start_time": "2022-03-08T15:23:34.660Z"
   },
   {
    "duration": 29,
    "start_time": "2022-03-08T15:34:50.548Z"
   },
   {
    "duration": 13,
    "start_time": "2022-03-08T15:34:58.416Z"
   },
   {
    "duration": 14,
    "start_time": "2022-03-08T15:35:13.095Z"
   },
   {
    "duration": 15,
    "start_time": "2022-03-08T15:35:15.946Z"
   },
   {
    "duration": 258,
    "start_time": "2022-03-08T15:37:41.098Z"
   },
   {
    "duration": 11,
    "start_time": "2022-03-08T15:38:03.118Z"
   },
   {
    "duration": 8,
    "start_time": "2022-03-08T15:38:20.357Z"
   },
   {
    "duration": 11,
    "start_time": "2022-03-08T15:38:25.981Z"
   },
   {
    "duration": 15,
    "start_time": "2022-03-08T15:38:41.597Z"
   },
   {
    "duration": 8,
    "start_time": "2022-03-08T15:54:41.578Z"
   },
   {
    "duration": 13,
    "start_time": "2022-03-08T15:54:48.105Z"
   },
   {
    "duration": 8,
    "start_time": "2022-03-08T15:55:20.273Z"
   },
   {
    "duration": 18,
    "start_time": "2022-03-08T15:56:16.937Z"
   },
   {
    "duration": 25,
    "start_time": "2022-03-08T15:56:21.922Z"
   },
   {
    "duration": 3,
    "start_time": "2022-03-08T15:56:36.764Z"
   },
   {
    "duration": 80,
    "start_time": "2022-03-08T15:56:36.771Z"
   },
   {
    "duration": 23,
    "start_time": "2022-03-08T15:56:36.854Z"
   },
   {
    "duration": 15,
    "start_time": "2022-03-08T15:56:36.880Z"
   },
   {
    "duration": 12,
    "start_time": "2022-03-08T15:56:36.898Z"
   },
   {
    "duration": 20,
    "start_time": "2022-03-08T15:56:40.407Z"
   },
   {
    "duration": 13,
    "start_time": "2022-03-08T15:57:13.100Z"
   },
   {
    "duration": 25,
    "start_time": "2022-03-08T15:57:17.567Z"
   },
   {
    "duration": 21,
    "start_time": "2022-03-08T15:58:19.089Z"
   },
   {
    "duration": 8,
    "start_time": "2022-03-08T15:58:49.795Z"
   },
   {
    "duration": 7,
    "start_time": "2022-03-08T15:58:50.205Z"
   },
   {
    "duration": 13,
    "start_time": "2022-03-08T15:58:55.125Z"
   },
   {
    "duration": 13,
    "start_time": "2022-03-08T16:15:20.201Z"
   },
   {
    "duration": 20,
    "start_time": "2022-03-08T16:15:20.818Z"
   },
   {
    "duration": 3,
    "start_time": "2022-03-08T16:15:24.408Z"
   },
   {
    "duration": 52,
    "start_time": "2022-03-08T16:15:24.806Z"
   },
   {
    "duration": 19,
    "start_time": "2022-03-08T16:15:25.171Z"
   },
   {
    "duration": 15,
    "start_time": "2022-03-08T16:15:25.521Z"
   },
   {
    "duration": 13,
    "start_time": "2022-03-08T16:15:26.644Z"
   },
   {
    "duration": 18,
    "start_time": "2022-03-08T16:15:26.907Z"
   },
   {
    "duration": 7,
    "start_time": "2022-03-08T16:15:27.726Z"
   },
   {
    "duration": 13,
    "start_time": "2022-03-08T16:15:28.527Z"
   },
   {
    "duration": 7,
    "start_time": "2022-03-08T16:18:47.107Z"
   },
   {
    "duration": 376,
    "start_time": "2022-03-08T16:18:50.500Z"
   },
   {
    "duration": 1332,
    "start_time": "2022-03-08T16:19:25.307Z"
   },
   {
    "duration": 8,
    "start_time": "2022-03-08T16:23:15.164Z"
   },
   {
    "duration": 6,
    "start_time": "2022-03-08T16:23:20.356Z"
   },
   {
    "duration": 293,
    "start_time": "2022-03-08T16:24:22.251Z"
   },
   {
    "duration": 281,
    "start_time": "2022-03-08T16:24:35.714Z"
   },
   {
    "duration": 28745,
    "start_time": "2022-03-08T16:24:38.809Z"
   },
   {
    "duration": 609,
    "start_time": "2022-03-08T16:25:34.464Z"
   },
   {
    "duration": 3,
    "start_time": "2022-03-08T16:25:55.495Z"
   },
   {
    "duration": 53,
    "start_time": "2022-03-08T16:25:55.910Z"
   },
   {
    "duration": 20,
    "start_time": "2022-03-08T16:25:56.323Z"
   },
   {
    "duration": 15,
    "start_time": "2022-03-08T16:26:00.744Z"
   },
   {
    "duration": 12,
    "start_time": "2022-03-08T16:26:13.127Z"
   },
   {
    "duration": 52,
    "start_time": "2022-03-08T16:26:18.257Z"
   },
   {
    "duration": 9,
    "start_time": "2022-03-08T16:26:59.057Z"
   },
   {
    "duration": 13,
    "start_time": "2022-03-08T16:27:00.730Z"
   },
   {
    "duration": 62,
    "start_time": "2022-03-08T16:27:06.781Z"
   },
   {
    "duration": 542,
    "start_time": "2022-03-08T16:33:00.479Z"
   },
   {
    "duration": 601,
    "start_time": "2022-03-08T16:33:27.157Z"
   },
   {
    "duration": 6,
    "start_time": "2022-03-08T16:44:32.266Z"
   },
   {
    "duration": 9,
    "start_time": "2022-03-08T16:44:54.377Z"
   },
   {
    "duration": 344,
    "start_time": "2022-03-09T10:10:17.511Z"
   },
   {
    "duration": 575,
    "start_time": "2022-03-09T10:10:31.318Z"
   },
   {
    "duration": 59,
    "start_time": "2022-03-09T10:10:31.894Z"
   },
   {
    "duration": 17,
    "start_time": "2022-03-09T10:10:31.955Z"
   },
   {
    "duration": 18,
    "start_time": "2022-03-09T10:10:31.974Z"
   },
   {
    "duration": 22,
    "start_time": "2022-03-09T10:10:31.994Z"
   },
   {
    "duration": 22,
    "start_time": "2022-03-09T10:10:32.017Z"
   },
   {
    "duration": 8,
    "start_time": "2022-03-09T10:10:32.040Z"
   },
   {
    "duration": 22,
    "start_time": "2022-03-09T10:10:32.049Z"
   },
   {
    "duration": 38,
    "start_time": "2022-03-09T10:10:32.073Z"
   },
   {
    "duration": 349,
    "start_time": "2022-03-09T10:10:32.113Z"
   },
   {
    "duration": 7485,
    "start_time": "2022-03-09T10:10:32.464Z"
   },
   {
    "duration": 7613,
    "start_time": "2022-03-09T10:10:48.428Z"
   },
   {
    "duration": 8,
    "start_time": "2022-03-09T10:11:03.076Z"
   },
   {
    "duration": 9177,
    "start_time": "2022-03-09T10:11:24.123Z"
   },
   {
    "duration": 7,
    "start_time": "2022-03-09T10:11:34.620Z"
   },
   {
    "duration": 323,
    "start_time": "2022-03-09T10:11:40.892Z"
   },
   {
    "duration": 1064,
    "start_time": "2022-03-09T10:14:32.402Z"
   },
   {
    "duration": 428,
    "start_time": "2022-03-09T10:14:37.617Z"
   },
   {
    "duration": 230,
    "start_time": "2022-03-09T10:14:44.573Z"
   },
   {
    "duration": 360,
    "start_time": "2022-03-09T10:14:49.652Z"
   },
   {
    "duration": 299,
    "start_time": "2022-03-09T10:17:00.384Z"
   },
   {
    "duration": 1628,
    "start_time": "2022-03-09T10:21:33.045Z"
   },
   {
    "duration": 6,
    "start_time": "2022-03-09T10:22:54.171Z"
   },
   {
    "duration": 31,
    "start_time": "2022-03-09T10:23:26.572Z"
   },
   {
    "duration": 792,
    "start_time": "2022-03-09T10:26:13.756Z"
   },
   {
    "duration": 2,
    "start_time": "2022-03-09T10:30:53.172Z"
   },
   {
    "duration": 49,
    "start_time": "2022-03-09T10:30:53.176Z"
   },
   {
    "duration": 11,
    "start_time": "2022-03-09T10:30:53.227Z"
   },
   {
    "duration": 11,
    "start_time": "2022-03-09T10:30:53.240Z"
   },
   {
    "duration": 8,
    "start_time": "2022-03-09T10:30:53.252Z"
   },
   {
    "duration": 15,
    "start_time": "2022-03-09T10:30:53.261Z"
   },
   {
    "duration": 5,
    "start_time": "2022-03-09T10:30:53.497Z"
   },
   {
    "duration": 9,
    "start_time": "2022-03-09T10:30:53.504Z"
   },
   {
    "duration": 27,
    "start_time": "2022-03-09T10:30:53.515Z"
   },
   {
    "duration": 307,
    "start_time": "2022-03-09T10:30:53.544Z"
   },
   {
    "duration": 6,
    "start_time": "2022-03-09T10:30:53.853Z"
   },
   {
    "duration": 322,
    "start_time": "2022-03-09T10:30:53.860Z"
   },
   {
    "duration": 6,
    "start_time": "2022-03-09T10:30:54.184Z"
   },
   {
    "duration": 29,
    "start_time": "2022-03-09T10:30:55.991Z"
   },
   {
    "duration": 3,
    "start_time": "2022-03-09T17:36:16.155Z"
   },
   {
    "duration": 4,
    "start_time": "2022-03-09T17:36:29.077Z"
   },
   {
    "duration": 3,
    "start_time": "2022-03-09T17:38:00.218Z"
   },
   {
    "duration": 54,
    "start_time": "2022-03-09T17:38:00.222Z"
   },
   {
    "duration": 12,
    "start_time": "2022-03-09T17:38:00.277Z"
   },
   {
    "duration": 13,
    "start_time": "2022-03-09T17:38:00.291Z"
   },
   {
    "duration": 138,
    "start_time": "2022-03-09T17:38:00.306Z"
   },
   {
    "duration": 17,
    "start_time": "2022-03-09T17:38:00.446Z"
   },
   {
    "duration": 7,
    "start_time": "2022-03-09T17:38:00.466Z"
   },
   {
    "duration": 35,
    "start_time": "2022-03-09T17:38:00.475Z"
   },
   {
    "duration": 30,
    "start_time": "2022-03-09T17:38:00.512Z"
   },
   {
    "duration": 309,
    "start_time": "2022-03-09T17:38:00.543Z"
   },
   {
    "duration": 6,
    "start_time": "2022-03-09T17:38:00.854Z"
   },
   {
    "duration": 322,
    "start_time": "2022-03-09T17:38:00.862Z"
   },
   {
    "duration": 6,
    "start_time": "2022-03-09T17:38:01.185Z"
   },
   {
    "duration": 35,
    "start_time": "2022-03-09T17:38:01.192Z"
   },
   {
    "duration": 3,
    "start_time": "2022-03-09T17:38:01.229Z"
   },
   {
    "duration": 10,
    "start_time": "2022-03-09T17:38:01.233Z"
   },
   {
    "duration": 4,
    "start_time": "2022-03-09T17:38:03.989Z"
   },
   {
    "duration": 16,
    "start_time": "2022-03-09T17:48:56.069Z"
   },
   {
    "duration": 15,
    "start_time": "2022-03-09T17:49:50.906Z"
   },
   {
    "duration": 303,
    "start_time": "2022-03-09T17:50:51.487Z"
   },
   {
    "duration": 31,
    "start_time": "2022-03-09T17:51:01.783Z"
   },
   {
    "duration": 18,
    "start_time": "2022-03-09T17:51:15.783Z"
   },
   {
    "duration": 2,
    "start_time": "2022-03-09T17:53:38.623Z"
   },
   {
    "duration": 52,
    "start_time": "2022-03-09T17:53:38.627Z"
   },
   {
    "duration": 13,
    "start_time": "2022-03-09T17:53:38.681Z"
   },
   {
    "duration": 11,
    "start_time": "2022-03-09T17:53:38.696Z"
   },
   {
    "duration": 10,
    "start_time": "2022-03-09T17:53:38.709Z"
   },
   {
    "duration": 14,
    "start_time": "2022-03-09T17:53:38.721Z"
   },
   {
    "duration": 6,
    "start_time": "2022-03-09T17:53:38.738Z"
   },
   {
    "duration": 9,
    "start_time": "2022-03-09T17:53:38.746Z"
   },
   {
    "duration": 69,
    "start_time": "2022-03-09T17:53:38.757Z"
   },
   {
    "duration": 492,
    "start_time": "2022-03-09T17:53:38.828Z"
   },
   {
    "duration": 8,
    "start_time": "2022-03-09T17:53:39.322Z"
   },
   {
    "duration": 337,
    "start_time": "2022-03-09T17:53:39.332Z"
   },
   {
    "duration": 7,
    "start_time": "2022-03-09T17:53:39.671Z"
   },
   {
    "duration": 49,
    "start_time": "2022-03-09T17:53:39.680Z"
   },
   {
    "duration": 4,
    "start_time": "2022-03-09T17:53:39.731Z"
   },
   {
    "duration": 4,
    "start_time": "2022-03-09T17:53:39.737Z"
   },
   {
    "duration": 4,
    "start_time": "2022-03-09T17:53:39.743Z"
   },
   {
    "duration": 15,
    "start_time": "2022-03-09T17:53:39.749Z"
   },
   {
    "duration": 17,
    "start_time": "2022-03-09T17:53:41.400Z"
   },
   {
    "duration": 337,
    "start_time": "2022-03-09T17:54:00.272Z"
   },
   {
    "duration": 21,
    "start_time": "2022-03-09T17:54:03.586Z"
   },
   {
    "duration": 36,
    "start_time": "2022-03-09T17:54:17.541Z"
   },
   {
    "duration": 20,
    "start_time": "2022-03-09T17:54:29.395Z"
   },
   {
    "duration": 18,
    "start_time": "2022-03-09T17:56:42.174Z"
   },
   {
    "duration": 22,
    "start_time": "2022-03-09T17:57:03.538Z"
   },
   {
    "duration": 5,
    "start_time": "2022-03-09T17:57:52.547Z"
   },
   {
    "duration": 304,
    "start_time": "2022-03-09T18:03:24.638Z"
   },
   {
    "duration": 11,
    "start_time": "2022-03-09T18:03:30.127Z"
   },
   {
    "duration": 7,
    "start_time": "2022-03-09T18:03:34.759Z"
   },
   {
    "duration": 4,
    "start_time": "2022-03-09T18:04:15.576Z"
   },
   {
    "duration": 5,
    "start_time": "2022-03-09T18:05:50.734Z"
   },
   {
    "duration": 3,
    "start_time": "2022-03-09T18:06:36.529Z"
   },
   {
    "duration": 48,
    "start_time": "2022-03-09T18:06:36.533Z"
   },
   {
    "duration": 12,
    "start_time": "2022-03-09T18:06:36.583Z"
   },
   {
    "duration": 11,
    "start_time": "2022-03-09T18:06:36.596Z"
   },
   {
    "duration": 8,
    "start_time": "2022-03-09T18:06:36.609Z"
   },
   {
    "duration": 14,
    "start_time": "2022-03-09T18:06:36.618Z"
   },
   {
    "duration": 5,
    "start_time": "2022-03-09T18:06:36.634Z"
   },
   {
    "duration": 11,
    "start_time": "2022-03-09T18:06:36.640Z"
   },
   {
    "duration": 75,
    "start_time": "2022-03-09T18:06:36.653Z"
   },
   {
    "duration": 296,
    "start_time": "2022-03-09T18:06:36.730Z"
   },
   {
    "duration": 5,
    "start_time": "2022-03-09T18:06:37.028Z"
   },
   {
    "duration": 320,
    "start_time": "2022-03-09T18:06:37.035Z"
   },
   {
    "duration": 6,
    "start_time": "2022-03-09T18:06:37.357Z"
   },
   {
    "duration": 38,
    "start_time": "2022-03-09T18:06:37.364Z"
   },
   {
    "duration": 4,
    "start_time": "2022-03-09T18:06:37.403Z"
   },
   {
    "duration": 3,
    "start_time": "2022-03-09T18:06:37.409Z"
   },
   {
    "duration": 5,
    "start_time": "2022-03-09T18:06:37.414Z"
   },
   {
    "duration": 21,
    "start_time": "2022-03-09T18:06:37.421Z"
   },
   {
    "duration": 70,
    "start_time": "2022-03-09T18:06:37.444Z"
   },
   {
    "duration": 24,
    "start_time": "2022-03-09T18:06:37.516Z"
   },
   {
    "duration": 6,
    "start_time": "2022-03-09T18:06:43.624Z"
   },
   {
    "duration": 16,
    "start_time": "2022-03-09T18:06:45.405Z"
   },
   {
    "duration": 8,
    "start_time": "2022-03-09T18:06:45.643Z"
   },
   {
    "duration": 5,
    "start_time": "2022-03-09T18:07:33.073Z"
   },
   {
    "duration": 4,
    "start_time": "2022-03-09T18:07:58.345Z"
   },
   {
    "duration": 6,
    "start_time": "2022-03-09T18:08:30.987Z"
   },
   {
    "duration": 6,
    "start_time": "2022-03-09T18:14:34.727Z"
   },
   {
    "duration": 4,
    "start_time": "2022-03-09T18:20:45.954Z"
   },
   {
    "duration": 5,
    "start_time": "2022-03-09T18:20:59.805Z"
   },
   {
    "duration": 22,
    "start_time": "2022-03-09T18:51:57.361Z"
   },
   {
    "duration": 15,
    "start_time": "2022-03-09T18:52:09.127Z"
   },
   {
    "duration": 551,
    "start_time": "2022-03-09T18:52:29.239Z"
   },
   {
    "duration": 49,
    "start_time": "2022-03-09T18:52:29.792Z"
   },
   {
    "duration": 17,
    "start_time": "2022-03-09T18:52:29.843Z"
   },
   {
    "duration": 10,
    "start_time": "2022-03-09T18:52:29.862Z"
   },
   {
    "duration": 27,
    "start_time": "2022-03-09T18:52:29.874Z"
   },
   {
    "duration": 15,
    "start_time": "2022-03-09T18:52:29.902Z"
   },
   {
    "duration": 5,
    "start_time": "2022-03-09T18:52:29.918Z"
   },
   {
    "duration": 8,
    "start_time": "2022-03-09T18:52:29.925Z"
   },
   {
    "duration": 27,
    "start_time": "2022-03-09T18:52:29.935Z"
   },
   {
    "duration": 377,
    "start_time": "2022-03-09T18:52:29.964Z"
   },
   {
    "duration": 6,
    "start_time": "2022-03-09T18:52:30.342Z"
   },
   {
    "duration": 388,
    "start_time": "2022-03-09T18:52:30.350Z"
   },
   {
    "duration": 6,
    "start_time": "2022-03-09T18:52:30.740Z"
   },
   {
    "duration": 31,
    "start_time": "2022-03-09T18:52:30.748Z"
   },
   {
    "duration": 22,
    "start_time": "2022-03-09T18:52:30.781Z"
   },
   {
    "duration": 5,
    "start_time": "2022-03-09T18:52:30.805Z"
   },
   {
    "duration": 5,
    "start_time": "2022-03-09T18:52:30.811Z"
   },
   {
    "duration": 22,
    "start_time": "2022-03-09T18:52:30.818Z"
   },
   {
    "duration": 26,
    "start_time": "2022-03-09T18:52:30.842Z"
   },
   {
    "duration": 49,
    "start_time": "2022-03-09T18:52:30.869Z"
   },
   {
    "duration": 5,
    "start_time": "2022-03-09T18:52:30.920Z"
   },
   {
    "duration": 16,
    "start_time": "2022-03-09T18:52:30.927Z"
   },
   {
    "duration": 9,
    "start_time": "2022-03-09T18:52:30.946Z"
   },
   {
    "duration": 17,
    "start_time": "2022-03-09T18:52:30.956Z"
   },
   {
    "duration": 27,
    "start_time": "2022-03-09T18:52:30.975Z"
   },
   {
    "duration": 5,
    "start_time": "2022-03-09T18:52:31.004Z"
   },
   {
    "duration": 22,
    "start_time": "2022-03-09T18:52:51.290Z"
   },
   {
    "duration": 23,
    "start_time": "2022-03-09T18:53:06.317Z"
   },
   {
    "duration": 15,
    "start_time": "2022-03-09T18:55:33.712Z"
   },
   {
    "duration": 16,
    "start_time": "2022-03-09T18:55:34.503Z"
   },
   {
    "duration": 3,
    "start_time": "2022-03-09T18:57:28.367Z"
   },
   {
    "duration": 63,
    "start_time": "2022-03-09T18:57:28.371Z"
   },
   {
    "duration": 11,
    "start_time": "2022-03-09T18:57:28.435Z"
   },
   {
    "duration": 20,
    "start_time": "2022-03-09T18:57:28.448Z"
   },
   {
    "duration": 15,
    "start_time": "2022-03-09T18:57:28.470Z"
   },
   {
    "duration": 28,
    "start_time": "2022-03-09T18:57:28.487Z"
   },
   {
    "duration": 10,
    "start_time": "2022-03-09T18:57:28.516Z"
   },
   {
    "duration": 15,
    "start_time": "2022-03-09T18:57:28.527Z"
   },
   {
    "duration": 39,
    "start_time": "2022-03-09T18:57:28.545Z"
   },
   {
    "duration": 302,
    "start_time": "2022-03-09T18:57:28.586Z"
   },
   {
    "duration": 16,
    "start_time": "2022-03-09T18:57:28.890Z"
   },
   {
    "duration": 417,
    "start_time": "2022-03-09T18:57:28.907Z"
   },
   {
    "duration": 7,
    "start_time": "2022-03-09T18:57:29.326Z"
   },
   {
    "duration": 29,
    "start_time": "2022-03-09T18:57:29.335Z"
   },
   {
    "duration": 4,
    "start_time": "2022-03-09T18:57:29.366Z"
   },
   {
    "duration": 30,
    "start_time": "2022-03-09T18:57:29.371Z"
   },
   {
    "duration": 3,
    "start_time": "2022-03-09T18:57:29.403Z"
   },
   {
    "duration": 15,
    "start_time": "2022-03-09T18:57:29.408Z"
   },
   {
    "duration": 27,
    "start_time": "2022-03-09T18:57:29.424Z"
   },
   {
    "duration": 73,
    "start_time": "2022-03-09T18:57:29.453Z"
   },
   {
    "duration": 16,
    "start_time": "2022-03-09T18:57:29.527Z"
   },
   {
    "duration": 5,
    "start_time": "2022-03-09T18:57:29.544Z"
   },
   {
    "duration": 14,
    "start_time": "2022-03-09T18:57:29.550Z"
   },
   {
    "duration": 45,
    "start_time": "2022-03-09T18:57:29.566Z"
   },
   {
    "duration": 11,
    "start_time": "2022-03-09T18:57:29.613Z"
   },
   {
    "duration": 7,
    "start_time": "2022-03-09T18:57:29.626Z"
   },
   {
    "duration": 5,
    "start_time": "2022-03-09T18:57:29.636Z"
   },
   {
    "duration": 4,
    "start_time": "2022-03-09T18:57:29.643Z"
   },
   {
    "duration": 5,
    "start_time": "2022-03-09T18:57:29.649Z"
   },
   {
    "duration": 564,
    "start_time": "2022-03-09T18:58:02.906Z"
   },
   {
    "duration": 61,
    "start_time": "2022-03-09T18:58:03.472Z"
   },
   {
    "duration": 19,
    "start_time": "2022-03-09T18:58:03.536Z"
   },
   {
    "duration": 12,
    "start_time": "2022-03-09T18:58:03.558Z"
   },
   {
    "duration": 38,
    "start_time": "2022-03-09T18:58:03.572Z"
   },
   {
    "duration": 16,
    "start_time": "2022-03-09T18:58:03.612Z"
   },
   {
    "duration": 6,
    "start_time": "2022-03-09T18:58:03.630Z"
   },
   {
    "duration": 9,
    "start_time": "2022-03-09T18:58:03.638Z"
   },
   {
    "duration": 74,
    "start_time": "2022-03-09T18:58:03.651Z"
   },
   {
    "duration": 355,
    "start_time": "2022-03-09T18:58:03.727Z"
   },
   {
    "duration": 19,
    "start_time": "2022-03-09T18:58:04.083Z"
   },
   {
    "duration": 351,
    "start_time": "2022-03-09T18:58:04.103Z"
   },
   {
    "duration": 5,
    "start_time": "2022-03-09T18:58:04.456Z"
   },
   {
    "duration": 44,
    "start_time": "2022-03-09T18:58:04.463Z"
   },
   {
    "duration": 4,
    "start_time": "2022-03-09T18:58:04.508Z"
   },
   {
    "duration": 19,
    "start_time": "2022-03-09T18:58:04.513Z"
   },
   {
    "duration": 17,
    "start_time": "2022-03-09T18:58:04.534Z"
   },
   {
    "duration": 23,
    "start_time": "2022-03-09T18:58:04.552Z"
   },
   {
    "duration": 22,
    "start_time": "2022-03-09T18:58:04.576Z"
   },
   {
    "duration": 30,
    "start_time": "2022-03-09T18:58:04.599Z"
   },
   {
    "duration": 16,
    "start_time": "2022-03-09T18:58:04.631Z"
   },
   {
    "duration": 12,
    "start_time": "2022-03-09T18:58:04.649Z"
   },
   {
    "duration": 32,
    "start_time": "2022-03-09T18:58:04.663Z"
   },
   {
    "duration": 18,
    "start_time": "2022-03-09T18:58:04.697Z"
   },
   {
    "duration": 11,
    "start_time": "2022-03-09T18:58:04.716Z"
   },
   {
    "duration": 15,
    "start_time": "2022-03-09T18:58:04.729Z"
   },
   {
    "duration": 15,
    "start_time": "2022-03-09T18:58:04.747Z"
   },
   {
    "duration": 8,
    "start_time": "2022-03-09T18:58:04.764Z"
   },
   {
    "duration": 16,
    "start_time": "2022-03-09T18:58:04.774Z"
   },
   {
    "duration": 3,
    "start_time": "2022-03-09T18:58:56.861Z"
   },
   {
    "duration": 48,
    "start_time": "2022-03-09T18:58:56.866Z"
   },
   {
    "duration": 12,
    "start_time": "2022-03-09T18:58:56.916Z"
   },
   {
    "duration": 10,
    "start_time": "2022-03-09T18:58:56.930Z"
   },
   {
    "duration": 8,
    "start_time": "2022-03-09T18:58:56.942Z"
   },
   {
    "duration": 13,
    "start_time": "2022-03-09T18:58:56.951Z"
   },
   {
    "duration": 6,
    "start_time": "2022-03-09T18:58:57.001Z"
   },
   {
    "duration": 8,
    "start_time": "2022-03-09T18:58:57.009Z"
   },
   {
    "duration": 27,
    "start_time": "2022-03-09T18:58:57.020Z"
   },
   {
    "duration": 300,
    "start_time": "2022-03-09T18:58:57.049Z"
   },
   {
    "duration": 6,
    "start_time": "2022-03-09T18:58:57.350Z"
   },
   {
    "duration": 319,
    "start_time": "2022-03-09T18:58:57.357Z"
   },
   {
    "duration": 5,
    "start_time": "2022-03-09T18:58:57.678Z"
   },
   {
    "duration": 41,
    "start_time": "2022-03-09T18:58:57.684Z"
   },
   {
    "duration": 3,
    "start_time": "2022-03-09T18:58:57.726Z"
   },
   {
    "duration": 5,
    "start_time": "2022-03-09T18:58:57.730Z"
   },
   {
    "duration": 4,
    "start_time": "2022-03-09T18:58:57.736Z"
   },
   {
    "duration": 14,
    "start_time": "2022-03-09T18:58:57.742Z"
   },
   {
    "duration": 50,
    "start_time": "2022-03-09T18:58:57.757Z"
   },
   {
    "duration": 29,
    "start_time": "2022-03-09T18:58:57.808Z"
   },
   {
    "duration": 16,
    "start_time": "2022-03-09T18:58:57.838Z"
   },
   {
    "duration": 4,
    "start_time": "2022-03-09T18:58:57.856Z"
   },
   {
    "duration": 41,
    "start_time": "2022-03-09T18:58:57.861Z"
   },
   {
    "duration": 6,
    "start_time": "2022-03-09T18:58:57.903Z"
   },
   {
    "duration": 13,
    "start_time": "2022-03-09T18:58:57.910Z"
   },
   {
    "duration": 17,
    "start_time": "2022-03-09T18:59:55.015Z"
   },
   {
    "duration": 15,
    "start_time": "2022-03-09T19:00:02.695Z"
   },
   {
    "duration": 750,
    "start_time": "2022-03-10T17:37:24.505Z"
   },
   {
    "duration": 61,
    "start_time": "2022-03-10T17:37:25.258Z"
   },
   {
    "duration": 29,
    "start_time": "2022-03-10T17:37:25.323Z"
   },
   {
    "duration": 32,
    "start_time": "2022-03-10T17:37:25.355Z"
   },
   {
    "duration": 13,
    "start_time": "2022-03-10T17:37:25.390Z"
   },
   {
    "duration": 28,
    "start_time": "2022-03-10T17:37:25.406Z"
   },
   {
    "duration": 7,
    "start_time": "2022-03-10T17:37:25.436Z"
   },
   {
    "duration": 13,
    "start_time": "2022-03-10T17:37:25.474Z"
   },
   {
    "duration": 49,
    "start_time": "2022-03-10T17:37:25.490Z"
   },
   {
    "duration": 683,
    "start_time": "2022-03-10T17:37:25.542Z"
   },
   {
    "duration": 10,
    "start_time": "2022-03-10T17:37:26.228Z"
   },
   {
    "duration": 674,
    "start_time": "2022-03-10T17:37:26.241Z"
   },
   {
    "duration": 9,
    "start_time": "2022-03-10T17:37:26.918Z"
   },
   {
    "duration": 69,
    "start_time": "2022-03-10T17:37:26.929Z"
   },
   {
    "duration": 5,
    "start_time": "2022-03-10T17:37:27.001Z"
   },
   {
    "duration": 6,
    "start_time": "2022-03-10T17:37:27.008Z"
   },
   {
    "duration": 6,
    "start_time": "2022-03-10T17:37:27.016Z"
   },
   {
    "duration": 59,
    "start_time": "2022-03-10T17:37:27.025Z"
   },
   {
    "duration": 39,
    "start_time": "2022-03-10T17:37:27.086Z"
   },
   {
    "duration": 54,
    "start_time": "2022-03-10T17:37:27.127Z"
   },
   {
    "duration": 6,
    "start_time": "2022-03-10T17:37:27.183Z"
   },
   {
    "duration": 20,
    "start_time": "2022-03-10T17:37:27.191Z"
   },
   {
    "duration": 9,
    "start_time": "2022-03-10T17:37:27.218Z"
   },
   {
    "duration": 65,
    "start_time": "2022-03-10T17:37:27.229Z"
   },
   {
    "duration": 27,
    "start_time": "2022-03-10T17:37:27.297Z"
   },
   {
    "duration": 7,
    "start_time": "2022-03-10T17:37:27.327Z"
   },
   {
    "duration": 6,
    "start_time": "2022-03-10T17:37:27.337Z"
   },
   {
    "duration": 8,
    "start_time": "2022-03-10T17:37:27.374Z"
   },
   {
    "duration": 7,
    "start_time": "2022-03-10T17:41:32.386Z"
   },
   {
    "duration": 10,
    "start_time": "2022-03-10T17:41:38.872Z"
   },
   {
    "duration": 6,
    "start_time": "2022-03-10T17:42:16.928Z"
   },
   {
    "duration": 7,
    "start_time": "2022-03-10T17:42:39.519Z"
   },
   {
    "duration": 5,
    "start_time": "2022-03-10T17:43:04.579Z"
   },
   {
    "duration": 505,
    "start_time": "2022-03-10T17:45:00.061Z"
   },
   {
    "duration": 287,
    "start_time": "2022-03-10T17:45:11.604Z"
   },
   {
    "duration": 372,
    "start_time": "2022-03-10T17:45:19.854Z"
   },
   {
    "duration": 292,
    "start_time": "2022-03-10T17:45:53.376Z"
   },
   {
    "duration": 10,
    "start_time": "2022-03-10T17:46:04.827Z"
   },
   {
    "duration": 27,
    "start_time": "2022-03-10T17:46:09.412Z"
   },
   {
    "duration": 274,
    "start_time": "2022-03-10T17:46:14.633Z"
   },
   {
    "duration": 4,
    "start_time": "2022-03-10T17:46:25.230Z"
   },
   {
    "duration": 64,
    "start_time": "2022-03-10T17:46:25.237Z"
   },
   {
    "duration": 20,
    "start_time": "2022-03-10T17:46:25.305Z"
   },
   {
    "duration": 17,
    "start_time": "2022-03-10T17:46:25.329Z"
   },
   {
    "duration": 36,
    "start_time": "2022-03-10T17:46:25.349Z"
   },
   {
    "duration": 23,
    "start_time": "2022-03-10T17:46:25.388Z"
   },
   {
    "duration": 10,
    "start_time": "2022-03-10T17:46:25.415Z"
   },
   {
    "duration": 56,
    "start_time": "2022-03-10T17:46:25.428Z"
   },
   {
    "duration": 94,
    "start_time": "2022-03-10T17:46:25.490Z"
   },
   {
    "duration": 657,
    "start_time": "2022-03-10T17:46:25.588Z"
   },
   {
    "duration": 25,
    "start_time": "2022-03-10T17:46:26.249Z"
   },
   {
    "duration": 596,
    "start_time": "2022-03-10T17:46:26.277Z"
   },
   {
    "duration": 10,
    "start_time": "2022-03-10T17:46:26.876Z"
   },
   {
    "duration": 55,
    "start_time": "2022-03-10T17:46:26.889Z"
   },
   {
    "duration": 28,
    "start_time": "2022-03-10T17:46:26.947Z"
   },
   {
    "duration": 5,
    "start_time": "2022-03-10T17:46:26.978Z"
   },
   {
    "duration": 8,
    "start_time": "2022-03-10T17:46:26.986Z"
   },
   {
    "duration": 30,
    "start_time": "2022-03-10T17:46:26.997Z"
   },
   {
    "duration": 82,
    "start_time": "2022-03-10T17:46:27.030Z"
   },
   {
    "duration": 29,
    "start_time": "2022-03-10T17:46:27.114Z"
   },
   {
    "duration": 29,
    "start_time": "2022-03-10T17:46:27.146Z"
   },
   {
    "duration": 17,
    "start_time": "2022-03-10T17:46:27.177Z"
   },
   {
    "duration": 16,
    "start_time": "2022-03-10T17:46:27.197Z"
   },
   {
    "duration": 24,
    "start_time": "2022-03-10T17:46:27.216Z"
   },
   {
    "duration": 30,
    "start_time": "2022-03-10T17:46:27.273Z"
   },
   {
    "duration": 8,
    "start_time": "2022-03-10T17:46:27.305Z"
   },
   {
    "duration": 10,
    "start_time": "2022-03-10T17:46:27.318Z"
   },
   {
    "duration": 46,
    "start_time": "2022-03-10T17:46:27.330Z"
   },
   {
    "duration": 6,
    "start_time": "2022-03-10T17:46:27.378Z"
   },
   {
    "duration": 10,
    "start_time": "2022-03-10T17:46:27.386Z"
   },
   {
    "duration": 317,
    "start_time": "2022-03-10T17:46:38.727Z"
   },
   {
    "duration": 8,
    "start_time": "2022-03-10T17:46:41.552Z"
   },
   {
    "duration": 267,
    "start_time": "2022-03-10T17:47:25.776Z"
   },
   {
    "duration": 275,
    "start_time": "2022-03-10T17:47:32.013Z"
   },
   {
    "duration": 299,
    "start_time": "2022-03-10T17:47:38.127Z"
   },
   {
    "duration": 433,
    "start_time": "2022-03-10T17:47:43.580Z"
   },
   {
    "duration": 261,
    "start_time": "2022-03-10T17:47:47.900Z"
   },
   {
    "duration": 16,
    "start_time": "2022-03-10T17:47:55.862Z"
   },
   {
    "duration": 17,
    "start_time": "2022-03-10T17:48:23.199Z"
   },
   {
    "duration": 17,
    "start_time": "2022-03-10T17:48:38.925Z"
   },
   {
    "duration": 16,
    "start_time": "2022-03-10T17:48:43.985Z"
   },
   {
    "duration": 16,
    "start_time": "2022-03-10T17:49:26.474Z"
   },
   {
    "duration": 4,
    "start_time": "2022-03-10T17:49:50.170Z"
   },
   {
    "duration": 81,
    "start_time": "2022-03-10T17:49:50.177Z"
   },
   {
    "duration": 29,
    "start_time": "2022-03-10T17:49:50.261Z"
   },
   {
    "duration": 31,
    "start_time": "2022-03-10T17:49:50.293Z"
   },
   {
    "duration": 32,
    "start_time": "2022-03-10T17:49:50.326Z"
   },
   {
    "duration": 29,
    "start_time": "2022-03-10T17:49:50.361Z"
   },
   {
    "duration": 16,
    "start_time": "2022-03-10T17:49:50.395Z"
   },
   {
    "duration": 30,
    "start_time": "2022-03-10T17:49:50.415Z"
   },
   {
    "duration": 54,
    "start_time": "2022-03-10T17:49:50.448Z"
   },
   {
    "duration": 548,
    "start_time": "2022-03-10T17:49:50.504Z"
   },
   {
    "duration": 9,
    "start_time": "2022-03-10T17:49:51.055Z"
   },
   {
    "duration": 590,
    "start_time": "2022-03-10T17:49:51.073Z"
   },
   {
    "duration": 8,
    "start_time": "2022-03-10T17:49:51.671Z"
   },
   {
    "duration": 61,
    "start_time": "2022-03-10T17:49:51.681Z"
   },
   {
    "duration": 5,
    "start_time": "2022-03-10T17:49:51.745Z"
   },
   {
    "duration": 24,
    "start_time": "2022-03-10T17:49:51.752Z"
   },
   {
    "duration": 17,
    "start_time": "2022-03-10T17:49:51.778Z"
   },
   {
    "duration": 43,
    "start_time": "2022-03-10T17:49:51.798Z"
   },
   {
    "duration": 43,
    "start_time": "2022-03-10T17:49:51.848Z"
   },
   {
    "duration": 30,
    "start_time": "2022-03-10T17:49:51.895Z"
   },
   {
    "duration": 9,
    "start_time": "2022-03-10T17:49:51.927Z"
   },
   {
    "duration": 49,
    "start_time": "2022-03-10T17:49:51.939Z"
   },
   {
    "duration": 25,
    "start_time": "2022-03-10T17:49:51.990Z"
   },
   {
    "duration": 29,
    "start_time": "2022-03-10T17:49:52.018Z"
   },
   {
    "duration": 43,
    "start_time": "2022-03-10T17:49:52.049Z"
   },
   {
    "duration": 6,
    "start_time": "2022-03-10T17:49:52.095Z"
   },
   {
    "duration": 23,
    "start_time": "2022-03-10T17:49:52.103Z"
   },
   {
    "duration": 26,
    "start_time": "2022-03-10T17:49:52.129Z"
   },
   {
    "duration": 29,
    "start_time": "2022-03-10T17:49:52.158Z"
   },
   {
    "duration": 22,
    "start_time": "2022-03-10T17:49:52.189Z"
   },
   {
    "duration": 27,
    "start_time": "2022-03-10T17:49:52.213Z"
   },
   {
    "duration": 21,
    "start_time": "2022-03-10T17:49:52.242Z"
   },
   {
    "duration": 20,
    "start_time": "2022-03-10T17:49:52.265Z"
   },
   {
    "duration": 16,
    "start_time": "2022-03-10T17:50:59.568Z"
   },
   {
    "duration": 16,
    "start_time": "2022-03-10T17:51:08.546Z"
   },
   {
    "duration": 288,
    "start_time": "2022-03-10T17:58:04.283Z"
   },
   {
    "duration": 396,
    "start_time": "2022-03-10T17:58:13.141Z"
   },
   {
    "duration": 105,
    "start_time": "2022-03-10T17:58:23.784Z"
   },
   {
    "duration": 285,
    "start_time": "2022-03-10T17:58:26.256Z"
   },
   {
    "duration": 298,
    "start_time": "2022-03-10T17:59:48.893Z"
   },
   {
    "duration": 118,
    "start_time": "2022-03-10T17:59:55.924Z"
   },
   {
    "duration": 14,
    "start_time": "2022-03-10T18:00:08.107Z"
   },
   {
    "duration": 1105,
    "start_time": "2022-03-10T18:02:15.302Z"
   },
   {
    "duration": 1148,
    "start_time": "2022-03-10T18:02:32.492Z"
   },
   {
    "duration": 860,
    "start_time": "2022-03-10T18:03:00.853Z"
   },
   {
    "duration": 69,
    "start_time": "2022-03-10T18:03:01.717Z"
   },
   {
    "duration": 30,
    "start_time": "2022-03-10T18:03:01.788Z"
   },
   {
    "duration": 16,
    "start_time": "2022-03-10T18:03:01.821Z"
   },
   {
    "duration": 39,
    "start_time": "2022-03-10T18:03:01.840Z"
   },
   {
    "duration": 30,
    "start_time": "2022-03-10T18:03:01.881Z"
   },
   {
    "duration": 9,
    "start_time": "2022-03-10T18:03:01.914Z"
   },
   {
    "duration": 15,
    "start_time": "2022-03-10T18:03:01.925Z"
   },
   {
    "duration": 48,
    "start_time": "2022-03-10T18:03:01.974Z"
   },
   {
    "duration": 651,
    "start_time": "2022-03-10T18:03:02.025Z"
   },
   {
    "duration": 11,
    "start_time": "2022-03-10T18:03:02.679Z"
   },
   {
    "duration": 666,
    "start_time": "2022-03-10T18:03:02.693Z"
   },
   {
    "duration": 17,
    "start_time": "2022-03-10T18:03:03.362Z"
   },
   {
    "duration": 51,
    "start_time": "2022-03-10T18:03:03.382Z"
   },
   {
    "duration": 6,
    "start_time": "2022-03-10T18:03:03.436Z"
   },
   {
    "duration": 37,
    "start_time": "2022-03-10T18:03:03.445Z"
   },
   {
    "duration": 8,
    "start_time": "2022-03-10T18:03:03.484Z"
   },
   {
    "duration": 28,
    "start_time": "2022-03-10T18:03:03.494Z"
   },
   {
    "duration": 68,
    "start_time": "2022-03-10T18:03:03.525Z"
   },
   {
    "duration": 31,
    "start_time": "2022-03-10T18:03:03.596Z"
   },
   {
    "duration": 9,
    "start_time": "2022-03-10T18:03:03.630Z"
   },
   {
    "duration": 44,
    "start_time": "2022-03-10T18:03:03.641Z"
   },
   {
    "duration": 11,
    "start_time": "2022-03-10T18:03:03.688Z"
   },
   {
    "duration": 24,
    "start_time": "2022-03-10T18:03:03.701Z"
   },
   {
    "duration": 58,
    "start_time": "2022-03-10T18:03:03.728Z"
   },
   {
    "duration": 9,
    "start_time": "2022-03-10T18:03:03.789Z"
   },
   {
    "duration": 10,
    "start_time": "2022-03-10T18:03:03.805Z"
   },
   {
    "duration": 57,
    "start_time": "2022-03-10T18:03:03.818Z"
   },
   {
    "duration": 6,
    "start_time": "2022-03-10T18:03:03.878Z"
   },
   {
    "duration": 10,
    "start_time": "2022-03-10T18:03:03.886Z"
   },
   {
    "duration": 28,
    "start_time": "2022-03-10T18:03:03.899Z"
   },
   {
    "duration": 42,
    "start_time": "2022-03-10T18:03:03.931Z"
   },
   {
    "duration": 23,
    "start_time": "2022-03-10T18:03:03.977Z"
   },
   {
    "duration": 1474,
    "start_time": "2022-03-10T18:03:04.004Z"
   },
   {
    "duration": 1098,
    "start_time": "2022-03-10T18:03:50.349Z"
   },
   {
    "duration": 804,
    "start_time": "2022-03-10T18:04:01.134Z"
   },
   {
    "duration": 61,
    "start_time": "2022-03-10T18:04:01.941Z"
   },
   {
    "duration": 30,
    "start_time": "2022-03-10T18:04:02.005Z"
   },
   {
    "duration": 38,
    "start_time": "2022-03-10T18:04:02.038Z"
   },
   {
    "duration": 13,
    "start_time": "2022-03-10T18:04:02.079Z"
   },
   {
    "duration": 31,
    "start_time": "2022-03-10T18:04:02.095Z"
   },
   {
    "duration": 8,
    "start_time": "2022-03-10T18:04:02.129Z"
   },
   {
    "duration": 41,
    "start_time": "2022-03-10T18:04:02.139Z"
   },
   {
    "duration": 52,
    "start_time": "2022-03-10T18:04:02.185Z"
   },
   {
    "duration": 691,
    "start_time": "2022-03-10T18:04:02.240Z"
   },
   {
    "duration": 10,
    "start_time": "2022-03-10T18:04:02.934Z"
   },
   {
    "duration": 640,
    "start_time": "2022-03-10T18:04:02.947Z"
   },
   {
    "duration": 8,
    "start_time": "2022-03-10T18:04:03.590Z"
   },
   {
    "duration": 55,
    "start_time": "2022-03-10T18:04:03.601Z"
   },
   {
    "duration": 7,
    "start_time": "2022-03-10T18:04:03.674Z"
   },
   {
    "duration": 12,
    "start_time": "2022-03-10T18:04:03.684Z"
   },
   {
    "duration": 13,
    "start_time": "2022-03-10T18:04:03.698Z"
   },
   {
    "duration": 41,
    "start_time": "2022-03-10T18:04:03.714Z"
   },
   {
    "duration": 52,
    "start_time": "2022-03-10T18:04:03.774Z"
   },
   {
    "duration": 44,
    "start_time": "2022-03-10T18:04:03.829Z"
   },
   {
    "duration": 7,
    "start_time": "2022-03-10T18:04:03.876Z"
   },
   {
    "duration": 45,
    "start_time": "2022-03-10T18:04:03.886Z"
   },
   {
    "duration": 14,
    "start_time": "2022-03-10T18:04:03.934Z"
   },
   {
    "duration": 52,
    "start_time": "2022-03-10T18:04:03.951Z"
   },
   {
    "duration": 40,
    "start_time": "2022-03-10T18:04:04.006Z"
   },
   {
    "duration": 7,
    "start_time": "2022-03-10T18:04:04.049Z"
   },
   {
    "duration": 10,
    "start_time": "2022-03-10T18:04:04.079Z"
   },
   {
    "duration": 10,
    "start_time": "2022-03-10T18:04:04.092Z"
   },
   {
    "duration": 8,
    "start_time": "2022-03-10T18:04:04.104Z"
   },
   {
    "duration": 10,
    "start_time": "2022-03-10T18:04:04.114Z"
   },
   {
    "duration": 15,
    "start_time": "2022-03-10T18:04:04.173Z"
   },
   {
    "duration": 7,
    "start_time": "2022-03-10T18:04:04.191Z"
   },
   {
    "duration": 27,
    "start_time": "2022-03-10T18:04:04.201Z"
   },
   {
    "duration": 63,
    "start_time": "2022-03-10T18:04:04.230Z"
   },
   {
    "duration": 30,
    "start_time": "2022-03-10T18:06:00.257Z"
   },
   {
    "duration": 31,
    "start_time": "2022-03-10T18:06:24.778Z"
   },
   {
    "duration": 18,
    "start_time": "2022-03-10T18:06:32.757Z"
   },
   {
    "duration": 10,
    "start_time": "2022-03-10T18:16:38.632Z"
   },
   {
    "duration": 442,
    "start_time": "2022-03-10T18:17:28.576Z"
   },
   {
    "duration": 7,
    "start_time": "2022-03-10T18:17:31.878Z"
   },
   {
    "duration": 285,
    "start_time": "2022-03-10T18:17:47.291Z"
   },
   {
    "duration": 10,
    "start_time": "2022-03-10T18:18:04.918Z"
   },
   {
    "duration": 8,
    "start_time": "2022-03-10T18:18:12.642Z"
   },
   {
    "duration": 288,
    "start_time": "2022-03-10T18:20:27.724Z"
   },
   {
    "duration": 22,
    "start_time": "2022-03-10T18:21:59.739Z"
   },
   {
    "duration": 8,
    "start_time": "2022-03-10T18:22:07.442Z"
   },
   {
    "duration": 22,
    "start_time": "2022-03-10T18:22:14.781Z"
   },
   {
    "duration": 14,
    "start_time": "2022-03-10T18:22:17.367Z"
   },
   {
    "duration": 20,
    "start_time": "2022-03-10T18:22:23.556Z"
   },
   {
    "duration": 20,
    "start_time": "2022-03-10T18:22:28.356Z"
   },
   {
    "duration": 22,
    "start_time": "2022-03-10T18:22:31.474Z"
   },
   {
    "duration": 6,
    "start_time": "2022-03-10T18:25:00.816Z"
   },
   {
    "duration": 408,
    "start_time": "2022-03-10T18:25:07.976Z"
   },
   {
    "duration": 429,
    "start_time": "2022-03-10T18:25:19.423Z"
   },
   {
    "duration": 304,
    "start_time": "2022-03-10T18:25:30.599Z"
   },
   {
    "duration": 5,
    "start_time": "2022-03-10T18:25:37.530Z"
   },
   {
    "duration": 300,
    "start_time": "2022-03-10T18:25:46.226Z"
   },
   {
    "duration": 87,
    "start_time": "2022-03-10T18:25:56.536Z"
   },
   {
    "duration": 102,
    "start_time": "2022-03-10T18:26:00.383Z"
   },
   {
    "duration": 290,
    "start_time": "2022-03-10T18:26:09.225Z"
   },
   {
    "duration": 365,
    "start_time": "2022-03-10T18:26:27.928Z"
   },
   {
    "duration": 294,
    "start_time": "2022-03-10T18:26:40.864Z"
   },
   {
    "duration": 33,
    "start_time": "2022-03-10T18:27:28.671Z"
   },
   {
    "duration": 34,
    "start_time": "2022-03-10T18:27:43.747Z"
   },
   {
    "duration": 33,
    "start_time": "2022-03-10T18:27:51.055Z"
   },
   {
    "duration": 315,
    "start_time": "2022-03-10T18:28:01.587Z"
   },
   {
    "duration": 29,
    "start_time": "2022-03-10T18:28:07.969Z"
   },
   {
    "duration": 43,
    "start_time": "2022-03-10T18:28:25.630Z"
   },
   {
    "duration": 8,
    "start_time": "2022-03-10T18:28:29.521Z"
   },
   {
    "duration": 5,
    "start_time": "2022-03-10T18:32:03.126Z"
   },
   {
    "duration": 717,
    "start_time": "2022-03-10T18:33:32.098Z"
   },
   {
    "duration": 286,
    "start_time": "2022-03-10T18:33:53.986Z"
   },
   {
    "duration": 5,
    "start_time": "2022-03-10T18:34:33.073Z"
   },
   {
    "duration": 1757,
    "start_time": "2022-03-10T18:34:34.454Z"
   },
   {
    "duration": 5,
    "start_time": "2022-03-10T18:35:00.909Z"
   },
   {
    "duration": 1493,
    "start_time": "2022-03-10T18:35:01.634Z"
   },
   {
    "duration": 21,
    "start_time": "2022-03-10T18:35:33.299Z"
   },
   {
    "duration": 399,
    "start_time": "2022-03-10T18:35:37.592Z"
   },
   {
    "duration": 281,
    "start_time": "2022-03-10T18:35:44.045Z"
   },
   {
    "duration": 20,
    "start_time": "2022-03-10T18:35:54.456Z"
   },
   {
    "duration": 7,
    "start_time": "2022-03-10T18:36:02.201Z"
   },
   {
    "duration": 1502,
    "start_time": "2022-03-10T18:36:03.798Z"
   },
   {
    "duration": 5,
    "start_time": "2022-03-10T18:36:58.111Z"
   },
   {
    "duration": 1439,
    "start_time": "2022-03-10T18:36:58.678Z"
   },
   {
    "duration": 306,
    "start_time": "2022-03-10T18:38:02.735Z"
   },
   {
    "duration": 293,
    "start_time": "2022-03-10T18:38:11.267Z"
   },
   {
    "duration": 311,
    "start_time": "2022-03-10T18:38:15.997Z"
   },
   {
    "duration": 288,
    "start_time": "2022-03-10T18:38:23.291Z"
   },
   {
    "duration": 292,
    "start_time": "2022-03-10T18:38:29.257Z"
   },
   {
    "duration": 329,
    "start_time": "2022-03-10T18:38:33.164Z"
   },
   {
    "duration": 309,
    "start_time": "2022-03-10T18:43:14.182Z"
   },
   {
    "duration": 60,
    "start_time": "2022-03-10T18:43:18.636Z"
   },
   {
    "duration": 6,
    "start_time": "2022-03-10T18:44:48.688Z"
   },
   {
    "duration": 1453,
    "start_time": "2022-03-10T18:44:49.492Z"
   },
   {
    "duration": 5,
    "start_time": "2022-03-10T18:45:00.566Z"
   },
   {
    "duration": 1748,
    "start_time": "2022-03-10T18:45:02.014Z"
   },
   {
    "duration": 91,
    "start_time": "2022-03-10T18:45:45.074Z"
   },
   {
    "duration": 1341,
    "start_time": "2022-03-10T18:45:45.253Z"
   },
   {
    "duration": 4,
    "start_time": "2022-03-10T18:45:54.795Z"
   },
   {
    "duration": 14,
    "start_time": "2022-03-10T18:45:55.771Z"
   },
   {
    "duration": 5,
    "start_time": "2022-03-10T18:46:17.697Z"
   },
   {
    "duration": 1416,
    "start_time": "2022-03-10T18:46:18.199Z"
   },
   {
    "duration": 5,
    "start_time": "2022-03-10T18:46:34.602Z"
   },
   {
    "duration": 1479,
    "start_time": "2022-03-10T18:46:36.448Z"
   },
   {
    "duration": 5,
    "start_time": "2022-03-10T18:48:48.311Z"
   },
   {
    "duration": 10,
    "start_time": "2022-03-10T18:48:50.719Z"
   },
   {
    "duration": 28,
    "start_time": "2022-03-10T18:49:00.169Z"
   },
   {
    "duration": 8,
    "start_time": "2022-03-10T18:49:23.095Z"
   },
   {
    "duration": 27,
    "start_time": "2022-03-10T18:49:30.620Z"
   },
   {
    "duration": 286,
    "start_time": "2022-03-10T18:49:50.580Z"
   },
   {
    "duration": 5,
    "start_time": "2022-03-10T18:49:53.368Z"
   },
   {
    "duration": 12,
    "start_time": "2022-03-10T18:50:06.243Z"
   },
   {
    "duration": 7,
    "start_time": "2022-03-10T18:50:06.600Z"
   },
   {
    "duration": 28,
    "start_time": "2022-03-10T18:50:11.599Z"
   },
   {
    "duration": 5,
    "start_time": "2022-03-10T18:51:01.638Z"
   },
   {
    "duration": 13,
    "start_time": "2022-03-10T18:51:01.859Z"
   },
   {
    "duration": 31,
    "start_time": "2022-03-10T18:51:02.764Z"
   },
   {
    "duration": 356,
    "start_time": "2022-03-10T18:51:17.993Z"
   },
   {
    "duration": 30,
    "start_time": "2022-03-10T18:51:21.760Z"
   },
   {
    "duration": 15,
    "start_time": "2022-03-10T18:51:28.153Z"
   },
   {
    "duration": 16,
    "start_time": "2022-03-10T18:51:33.140Z"
   },
   {
    "duration": 5,
    "start_time": "2022-03-10T18:51:48.094Z"
   },
   {
    "duration": 14,
    "start_time": "2022-03-10T18:51:48.436Z"
   },
   {
    "duration": 13,
    "start_time": "2022-03-10T18:51:59.518Z"
   },
   {
    "duration": 29,
    "start_time": "2022-03-10T18:52:02.146Z"
   },
   {
    "duration": 31,
    "start_time": "2022-03-10T18:52:11.692Z"
   },
   {
    "duration": 24,
    "start_time": "2022-03-10T18:52:16.821Z"
   },
   {
    "duration": 96,
    "start_time": "2022-03-10T18:55:15.424Z"
   },
   {
    "duration": 4,
    "start_time": "2022-03-10T18:55:28.157Z"
   },
   {
    "duration": 12,
    "start_time": "2022-03-10T18:55:28.784Z"
   },
   {
    "duration": 28,
    "start_time": "2022-03-10T18:55:31.589Z"
   },
   {
    "duration": 18,
    "start_time": "2022-03-10T18:56:27.598Z"
   },
   {
    "duration": 536,
    "start_time": "2022-03-11T16:51:05.128Z"
   },
   {
    "duration": 777,
    "start_time": "2022-03-11T16:51:12.187Z"
   },
   {
    "duration": 65,
    "start_time": "2022-03-11T16:51:12.967Z"
   },
   {
    "duration": 30,
    "start_time": "2022-03-11T16:51:13.036Z"
   },
   {
    "duration": 15,
    "start_time": "2022-03-11T16:51:13.083Z"
   },
   {
    "duration": 15,
    "start_time": "2022-03-11T16:51:13.101Z"
   },
   {
    "duration": 22,
    "start_time": "2022-03-11T16:51:13.118Z"
   },
   {
    "duration": 39,
    "start_time": "2022-03-11T16:51:13.143Z"
   },
   {
    "duration": 12,
    "start_time": "2022-03-11T16:51:13.187Z"
   },
   {
    "duration": 44,
    "start_time": "2022-03-11T16:51:13.202Z"
   },
   {
    "duration": 639,
    "start_time": "2022-03-11T16:51:13.249Z"
   },
   {
    "duration": 8,
    "start_time": "2022-03-11T16:51:13.891Z"
   },
   {
    "duration": 610,
    "start_time": "2022-03-11T16:51:13.902Z"
   },
   {
    "duration": 9,
    "start_time": "2022-03-11T16:51:14.515Z"
   },
   {
    "duration": 64,
    "start_time": "2022-03-11T16:51:14.526Z"
   },
   {
    "duration": 6,
    "start_time": "2022-03-11T16:51:14.592Z"
   },
   {
    "duration": 6,
    "start_time": "2022-03-11T16:51:14.600Z"
   },
   {
    "duration": 6,
    "start_time": "2022-03-11T16:51:14.609Z"
   },
   {
    "duration": 23,
    "start_time": "2022-03-11T16:51:14.617Z"
   },
   {
    "duration": 74,
    "start_time": "2022-03-11T16:51:14.642Z"
   },
   {
    "duration": 31,
    "start_time": "2022-03-11T16:51:14.719Z"
   },
   {
    "duration": 29,
    "start_time": "2022-03-11T16:51:14.753Z"
   },
   {
    "duration": 16,
    "start_time": "2022-03-11T16:51:14.785Z"
   },
   {
    "duration": 9,
    "start_time": "2022-03-11T16:51:14.805Z"
   },
   {
    "duration": 25,
    "start_time": "2022-03-11T16:51:14.817Z"
   },
   {
    "duration": 56,
    "start_time": "2022-03-11T16:51:14.844Z"
   },
   {
    "duration": 7,
    "start_time": "2022-03-11T16:51:14.902Z"
   },
   {
    "duration": 7,
    "start_time": "2022-03-11T16:51:14.911Z"
   },
   {
    "duration": 7,
    "start_time": "2022-03-11T16:51:14.921Z"
   },
   {
    "duration": 6,
    "start_time": "2022-03-11T16:51:14.930Z"
   },
   {
    "duration": 44,
    "start_time": "2022-03-11T16:51:14.938Z"
   },
   {
    "duration": 21,
    "start_time": "2022-03-11T16:51:14.985Z"
   },
   {
    "duration": 10,
    "start_time": "2022-03-11T16:51:15.009Z"
   },
   {
    "duration": 26,
    "start_time": "2022-03-11T16:51:15.022Z"
   },
   {
    "duration": 53,
    "start_time": "2022-03-11T16:51:15.050Z"
   },
   {
    "duration": 7,
    "start_time": "2022-03-11T16:51:15.105Z"
   },
   {
    "duration": 4,
    "start_time": "2022-03-11T16:51:15.115Z"
   },
   {
    "duration": 7481,
    "start_time": "2022-03-11T16:51:15.121Z"
   },
   {
    "duration": -35,
    "start_time": "2022-03-11T16:51:22.639Z"
   },
   {
    "duration": 803,
    "start_time": "2022-03-11T16:51:36.855Z"
   },
   {
    "duration": 57,
    "start_time": "2022-03-11T16:51:37.660Z"
   },
   {
    "duration": 29,
    "start_time": "2022-03-11T16:51:37.720Z"
   },
   {
    "duration": 33,
    "start_time": "2022-03-11T16:51:37.752Z"
   },
   {
    "duration": 16,
    "start_time": "2022-03-11T16:51:37.787Z"
   },
   {
    "duration": 22,
    "start_time": "2022-03-11T16:51:37.806Z"
   },
   {
    "duration": 9,
    "start_time": "2022-03-11T16:51:37.831Z"
   },
   {
    "duration": 48,
    "start_time": "2022-03-11T16:51:37.845Z"
   },
   {
    "duration": 45,
    "start_time": "2022-03-11T16:51:37.896Z"
   },
   {
    "duration": 627,
    "start_time": "2022-03-11T16:51:37.943Z"
   },
   {
    "duration": 17,
    "start_time": "2022-03-11T16:51:38.573Z"
   },
   {
    "duration": 623,
    "start_time": "2022-03-11T16:51:38.592Z"
   },
   {
    "duration": 10,
    "start_time": "2022-03-11T16:51:39.218Z"
   },
   {
    "duration": 67,
    "start_time": "2022-03-11T16:51:39.231Z"
   },
   {
    "duration": 6,
    "start_time": "2022-03-11T16:51:39.301Z"
   },
   {
    "duration": 7,
    "start_time": "2022-03-11T16:51:39.310Z"
   },
   {
    "duration": 14,
    "start_time": "2022-03-11T16:51:39.319Z"
   },
   {
    "duration": 49,
    "start_time": "2022-03-11T16:51:39.335Z"
   },
   {
    "duration": 39,
    "start_time": "2022-03-11T16:51:39.387Z"
   },
   {
    "duration": 26,
    "start_time": "2022-03-11T16:51:39.428Z"
   },
   {
    "duration": 32,
    "start_time": "2022-03-11T16:51:39.457Z"
   },
   {
    "duration": 18,
    "start_time": "2022-03-11T16:51:39.492Z"
   },
   {
    "duration": 9,
    "start_time": "2022-03-11T16:51:39.516Z"
   },
   {
    "duration": 69,
    "start_time": "2022-03-11T16:51:39.529Z"
   },
   {
    "duration": 26,
    "start_time": "2022-03-11T16:51:39.602Z"
   },
   {
    "duration": 9,
    "start_time": "2022-03-11T16:51:39.630Z"
   },
   {
    "duration": 42,
    "start_time": "2022-03-11T16:51:39.642Z"
   },
   {
    "duration": 12,
    "start_time": "2022-03-11T16:51:39.686Z"
   },
   {
    "duration": 6,
    "start_time": "2022-03-11T16:51:39.701Z"
   },
   {
    "duration": 10,
    "start_time": "2022-03-11T16:51:39.710Z"
   },
   {
    "duration": 17,
    "start_time": "2022-03-11T16:51:39.723Z"
   },
   {
    "duration": 15,
    "start_time": "2022-03-11T16:51:39.742Z"
   },
   {
    "duration": 16,
    "start_time": "2022-03-11T16:51:39.783Z"
   },
   {
    "duration": 39,
    "start_time": "2022-03-11T16:51:39.802Z"
   },
   {
    "duration": 7,
    "start_time": "2022-03-11T16:51:39.844Z"
   },
   {
    "duration": 30,
    "start_time": "2022-03-11T16:51:39.854Z"
   },
   {
    "duration": 7321,
    "start_time": "2022-03-11T16:51:39.886Z"
   },
   {
    "duration": -100,
    "start_time": "2022-03-11T16:51:47.310Z"
   },
   {
    "duration": 12,
    "start_time": "2022-03-11T16:52:24.655Z"
   },
   {
    "duration": 21,
    "start_time": "2022-03-11T16:52:27.684Z"
   },
   {
    "duration": 7,
    "start_time": "2022-03-11T16:55:07.012Z"
   },
   {
    "duration": 340,
    "start_time": "2022-03-11T16:55:28.755Z"
   },
   {
    "duration": 9,
    "start_time": "2022-03-11T16:55:34.582Z"
   },
   {
    "duration": 287,
    "start_time": "2022-03-11T16:55:38.478Z"
   },
   {
    "duration": 7,
    "start_time": "2022-03-11T16:55:51.524Z"
   },
   {
    "duration": 6,
    "start_time": "2022-03-11T16:55:58.340Z"
   },
   {
    "duration": 6,
    "start_time": "2022-03-11T16:56:03.156Z"
   },
   {
    "duration": 26,
    "start_time": "2022-03-11T16:57:16.157Z"
   },
   {
    "duration": 9,
    "start_time": "2022-03-11T16:57:40.468Z"
   },
   {
    "duration": 395,
    "start_time": "2022-03-11T16:57:52.971Z"
   },
   {
    "duration": 10,
    "start_time": "2022-03-11T16:58:02.350Z"
   },
   {
    "duration": 8,
    "start_time": "2022-03-11T16:58:44.142Z"
   },
   {
    "duration": 31,
    "start_time": "2022-03-11T17:00:50.607Z"
   },
   {
    "duration": 19,
    "start_time": "2022-03-11T17:03:51.994Z"
   },
   {
    "duration": 295,
    "start_time": "2022-03-12T08:55:43.905Z"
   },
   {
    "duration": 748,
    "start_time": "2022-03-12T08:55:49.391Z"
   },
   {
    "duration": 64,
    "start_time": "2022-03-12T08:55:50.141Z"
   },
   {
    "duration": 29,
    "start_time": "2022-03-12T08:55:50.208Z"
   },
   {
    "duration": 19,
    "start_time": "2022-03-12T08:55:50.239Z"
   },
   {
    "duration": 33,
    "start_time": "2022-03-12T08:55:50.260Z"
   },
   {
    "duration": 25,
    "start_time": "2022-03-12T08:55:50.295Z"
   },
   {
    "duration": 7,
    "start_time": "2022-03-12T08:55:50.322Z"
   },
   {
    "duration": 13,
    "start_time": "2022-03-12T08:55:50.333Z"
   },
   {
    "duration": 89,
    "start_time": "2022-03-12T08:55:50.351Z"
   },
   {
    "duration": 641,
    "start_time": "2022-03-12T08:55:50.442Z"
   },
   {
    "duration": 8,
    "start_time": "2022-03-12T08:55:51.088Z"
   },
   {
    "duration": 788,
    "start_time": "2022-03-12T08:55:51.099Z"
   },
   {
    "duration": 9,
    "start_time": "2022-03-12T08:55:51.889Z"
   },
   {
    "duration": 14,
    "start_time": "2022-03-12T08:55:51.900Z"
   },
   {
    "duration": 46,
    "start_time": "2022-03-12T08:55:51.916Z"
   },
   {
    "duration": 5,
    "start_time": "2022-03-12T08:55:51.986Z"
   },
   {
    "duration": 6,
    "start_time": "2022-03-12T08:55:51.994Z"
   },
   {
    "duration": 8,
    "start_time": "2022-03-12T08:55:52.002Z"
   },
   {
    "duration": 26,
    "start_time": "2022-03-12T08:55:52.013Z"
   },
   {
    "duration": 79,
    "start_time": "2022-03-12T08:55:52.041Z"
   },
   {
    "duration": 29,
    "start_time": "2022-03-12T08:55:52.123Z"
   },
   {
    "duration": 6,
    "start_time": "2022-03-12T08:55:52.154Z"
   },
   {
    "duration": 36,
    "start_time": "2022-03-12T08:55:52.165Z"
   },
   {
    "duration": 11,
    "start_time": "2022-03-12T08:55:52.204Z"
   },
   {
    "duration": 23,
    "start_time": "2022-03-12T08:55:52.217Z"
   },
   {
    "duration": 57,
    "start_time": "2022-03-12T08:55:52.242Z"
   },
   {
    "duration": 7,
    "start_time": "2022-03-12T08:55:52.301Z"
   },
   {
    "duration": 15,
    "start_time": "2022-03-12T08:55:52.310Z"
   },
   {
    "duration": 9,
    "start_time": "2022-03-12T08:55:52.328Z"
   },
   {
    "duration": 9,
    "start_time": "2022-03-12T08:55:52.340Z"
   },
   {
    "duration": 8,
    "start_time": "2022-03-12T08:55:52.351Z"
   },
   {
    "duration": 14,
    "start_time": "2022-03-12T08:55:52.388Z"
   },
   {
    "duration": 8,
    "start_time": "2022-03-12T08:55:52.404Z"
   },
   {
    "duration": 21,
    "start_time": "2022-03-12T08:55:52.414Z"
   },
   {
    "duration": 67,
    "start_time": "2022-03-12T08:55:52.438Z"
   },
   {
    "duration": 11,
    "start_time": "2022-03-12T08:55:52.508Z"
   },
   {
    "duration": 4,
    "start_time": "2022-03-12T08:55:52.522Z"
   },
   {
    "duration": 15,
    "start_time": "2022-03-12T08:55:52.529Z"
   },
   {
    "duration": 50,
    "start_time": "2022-03-12T08:55:52.547Z"
   },
   {
    "duration": 12,
    "start_time": "2022-03-12T08:55:52.599Z"
   },
   {
    "duration": 9,
    "start_time": "2022-03-12T08:56:11.991Z"
   },
   {
    "duration": 8,
    "start_time": "2022-03-12T08:56:17.763Z"
   },
   {
    "duration": 19,
    "start_time": "2022-03-12T09:20:18.655Z"
   },
   {
    "duration": 11,
    "start_time": "2022-03-12T09:20:22.120Z"
   },
   {
    "duration": 10,
    "start_time": "2022-03-12T09:21:48.706Z"
   },
   {
    "duration": 10,
    "start_time": "2022-03-12T09:21:57.997Z"
   },
   {
    "duration": 9,
    "start_time": "2022-03-12T09:22:05.261Z"
   },
   {
    "duration": 8,
    "start_time": "2022-03-12T09:42:59.678Z"
   },
   {
    "duration": 8,
    "start_time": "2022-03-12T09:56:58.422Z"
   },
   {
    "duration": 9,
    "start_time": "2022-03-12T09:57:01.633Z"
   },
   {
    "duration": 9,
    "start_time": "2022-03-12T09:57:04.198Z"
   },
   {
    "duration": 9,
    "start_time": "2022-03-12T10:07:22.642Z"
   },
   {
    "duration": 9,
    "start_time": "2022-03-12T10:07:24.691Z"
   },
   {
    "duration": 10,
    "start_time": "2022-03-12T10:07:26.766Z"
   },
   {
    "duration": 9,
    "start_time": "2022-03-12T10:09:11.167Z"
   },
   {
    "duration": 320,
    "start_time": "2022-03-12T10:26:53.840Z"
   },
   {
    "duration": 19,
    "start_time": "2022-03-12T10:26:57.441Z"
   },
   {
    "duration": 228,
    "start_time": "2022-03-12T10:27:12.784Z"
   },
   {
    "duration": 21,
    "start_time": "2022-03-12T10:27:31.633Z"
   },
   {
    "duration": 541,
    "start_time": "2022-03-12T10:29:07.831Z"
   },
   {
    "duration": 23,
    "start_time": "2022-03-12T10:29:13.069Z"
   },
   {
    "duration": 10,
    "start_time": "2022-03-12T10:30:46.317Z"
   },
   {
    "duration": 18,
    "start_time": "2022-03-12T10:31:39.148Z"
   },
   {
    "duration": 20,
    "start_time": "2022-03-12T10:31:45.400Z"
   },
   {
    "duration": 5,
    "start_time": "2022-03-12T10:32:01.056Z"
   },
   {
    "duration": 30,
    "start_time": "2022-03-12T10:32:10.916Z"
   },
   {
    "duration": 8,
    "start_time": "2022-03-12T10:33:29.748Z"
   },
   {
    "duration": 20,
    "start_time": "2022-03-12T10:33:50.161Z"
   },
   {
    "duration": 259,
    "start_time": "2022-03-12T10:35:01.784Z"
   },
   {
    "duration": 12,
    "start_time": "2022-03-12T10:36:10.713Z"
   },
   {
    "duration": 286,
    "start_time": "2022-03-12T10:36:23.129Z"
   },
   {
    "duration": 32,
    "start_time": "2022-03-12T10:36:28.700Z"
   },
   {
    "duration": 736,
    "start_time": "2022-03-12T10:37:10.117Z"
   },
   {
    "duration": 63,
    "start_time": "2022-03-12T10:37:10.855Z"
   },
   {
    "duration": 29,
    "start_time": "2022-03-12T10:37:10.921Z"
   },
   {
    "duration": 36,
    "start_time": "2022-03-12T10:37:10.952Z"
   },
   {
    "duration": 13,
    "start_time": "2022-03-12T10:37:10.991Z"
   },
   {
    "duration": 24,
    "start_time": "2022-03-12T10:37:11.007Z"
   },
   {
    "duration": 7,
    "start_time": "2022-03-12T10:37:11.033Z"
   },
   {
    "duration": 44,
    "start_time": "2022-03-12T10:37:11.044Z"
   },
   {
    "duration": 48,
    "start_time": "2022-03-12T10:37:11.091Z"
   },
   {
    "duration": 656,
    "start_time": "2022-03-12T10:37:11.141Z"
   },
   {
    "duration": 9,
    "start_time": "2022-03-12T10:37:11.799Z"
   },
   {
    "duration": 665,
    "start_time": "2022-03-12T10:37:11.811Z"
   },
   {
    "duration": 13,
    "start_time": "2022-03-12T10:37:12.479Z"
   },
   {
    "duration": 12,
    "start_time": "2022-03-12T10:37:12.495Z"
   },
   {
    "duration": 49,
    "start_time": "2022-03-12T10:37:12.509Z"
   },
   {
    "duration": 31,
    "start_time": "2022-03-12T10:37:12.560Z"
   },
   {
    "duration": 8,
    "start_time": "2022-03-12T10:37:12.594Z"
   },
   {
    "duration": 8,
    "start_time": "2022-03-12T10:37:12.605Z"
   },
   {
    "duration": 27,
    "start_time": "2022-03-12T10:37:12.615Z"
   },
   {
    "duration": 37,
    "start_time": "2022-03-12T10:37:12.688Z"
   },
   {
    "duration": 26,
    "start_time": "2022-03-12T10:37:12.728Z"
   },
   {
    "duration": 30,
    "start_time": "2022-03-12T10:37:12.756Z"
   },
   {
    "duration": 17,
    "start_time": "2022-03-12T10:37:12.792Z"
   },
   {
    "duration": 17,
    "start_time": "2022-03-12T10:37:12.812Z"
   },
   {
    "duration": 24,
    "start_time": "2022-03-12T10:37:12.832Z"
   },
   {
    "duration": 51,
    "start_time": "2022-03-12T10:37:12.859Z"
   },
   {
    "duration": 6,
    "start_time": "2022-03-12T10:37:12.912Z"
   },
   {
    "duration": 10,
    "start_time": "2022-03-12T10:37:12.920Z"
   },
   {
    "duration": 10,
    "start_time": "2022-03-12T10:37:12.933Z"
   },
   {
    "duration": 7,
    "start_time": "2022-03-12T10:37:12.945Z"
   },
   {
    "duration": 35,
    "start_time": "2022-03-12T10:37:12.955Z"
   },
   {
    "duration": 20,
    "start_time": "2022-03-12T10:37:12.993Z"
   },
   {
    "duration": 7,
    "start_time": "2022-03-12T10:37:13.015Z"
   },
   {
    "duration": 27,
    "start_time": "2022-03-12T10:37:13.024Z"
   },
   {
    "duration": 58,
    "start_time": "2022-03-12T10:37:13.054Z"
   },
   {
    "duration": 7,
    "start_time": "2022-03-12T10:37:13.115Z"
   },
   {
    "duration": 9,
    "start_time": "2022-03-12T10:37:13.124Z"
   },
   {
    "duration": 17,
    "start_time": "2022-03-12T10:37:13.135Z"
   },
   {
    "duration": 46,
    "start_time": "2022-03-12T10:37:13.154Z"
   },
   {
    "duration": 9,
    "start_time": "2022-03-12T10:37:13.202Z"
   },
   {
    "duration": 23,
    "start_time": "2022-03-12T10:37:13.213Z"
   },
   {
    "duration": 7,
    "start_time": "2022-03-12T10:37:13.239Z"
   },
   {
    "duration": 49,
    "start_time": "2022-03-12T10:37:13.248Z"
   },
   {
    "duration": 282,
    "start_time": "2022-03-12T10:37:36.905Z"
   },
   {
    "duration": 759,
    "start_time": "2022-03-12T10:37:52.048Z"
   },
   {
    "duration": 59,
    "start_time": "2022-03-12T10:37:52.809Z"
   },
   {
    "duration": 37,
    "start_time": "2022-03-12T10:37:52.871Z"
   },
   {
    "duration": 14,
    "start_time": "2022-03-12T10:37:52.911Z"
   },
   {
    "duration": 12,
    "start_time": "2022-03-12T10:37:52.927Z"
   },
   {
    "duration": 54,
    "start_time": "2022-03-12T10:37:52.941Z"
   },
   {
    "duration": 7,
    "start_time": "2022-03-12T10:37:52.997Z"
   },
   {
    "duration": 11,
    "start_time": "2022-03-12T10:37:53.007Z"
   },
   {
    "duration": 79,
    "start_time": "2022-03-12T10:37:53.022Z"
   },
   {
    "duration": 631,
    "start_time": "2022-03-12T10:37:53.104Z"
   },
   {
    "duration": 9,
    "start_time": "2022-03-12T10:37:53.738Z"
   },
   {
    "duration": 672,
    "start_time": "2022-03-12T10:37:53.749Z"
   },
   {
    "duration": 8,
    "start_time": "2022-03-12T10:37:54.424Z"
   },
   {
    "duration": 17,
    "start_time": "2022-03-12T10:37:54.435Z"
   },
   {
    "duration": 64,
    "start_time": "2022-03-12T10:37:54.454Z"
   },
   {
    "duration": 5,
    "start_time": "2022-03-12T10:37:54.520Z"
   },
   {
    "duration": 10,
    "start_time": "2022-03-12T10:37:54.527Z"
   },
   {
    "duration": 21,
    "start_time": "2022-03-12T10:37:54.539Z"
   },
   {
    "duration": 40,
    "start_time": "2022-03-12T10:37:54.562Z"
   },
   {
    "duration": 38,
    "start_time": "2022-03-12T10:37:54.605Z"
   },
   {
    "duration": 48,
    "start_time": "2022-03-12T10:37:54.645Z"
   },
   {
    "duration": 5,
    "start_time": "2022-03-12T10:37:54.696Z"
   },
   {
    "duration": 20,
    "start_time": "2022-03-12T10:37:54.704Z"
   },
   {
    "duration": 13,
    "start_time": "2022-03-12T10:37:54.726Z"
   },
   {
    "duration": 53,
    "start_time": "2022-03-12T10:37:54.741Z"
   },
   {
    "duration": 25,
    "start_time": "2022-03-12T10:37:54.797Z"
   },
   {
    "duration": 6,
    "start_time": "2022-03-12T10:37:54.828Z"
   },
   {
    "duration": 8,
    "start_time": "2022-03-12T10:37:54.837Z"
   },
   {
    "duration": 8,
    "start_time": "2022-03-12T10:37:54.847Z"
   },
   {
    "duration": 6,
    "start_time": "2022-03-12T10:37:54.888Z"
   },
   {
    "duration": 16,
    "start_time": "2022-03-12T10:37:54.896Z"
   },
   {
    "duration": 21,
    "start_time": "2022-03-12T10:37:54.915Z"
   },
   {
    "duration": 6,
    "start_time": "2022-03-12T10:37:54.938Z"
   },
   {
    "duration": 42,
    "start_time": "2022-03-12T10:37:54.947Z"
   },
   {
    "duration": 33,
    "start_time": "2022-03-12T10:37:54.992Z"
   },
   {
    "duration": 8,
    "start_time": "2022-03-12T10:37:55.028Z"
   },
   {
    "duration": 9,
    "start_time": "2022-03-12T10:37:55.038Z"
   },
   {
    "duration": 44,
    "start_time": "2022-03-12T10:37:55.049Z"
   },
   {
    "duration": 21,
    "start_time": "2022-03-12T10:37:55.095Z"
   },
   {
    "duration": 7,
    "start_time": "2022-03-12T10:37:55.119Z"
   },
   {
    "duration": 31,
    "start_time": "2022-03-12T10:37:55.128Z"
   },
   {
    "duration": 32,
    "start_time": "2022-03-12T10:37:55.161Z"
   },
   {
    "duration": 12,
    "start_time": "2022-03-12T10:37:55.195Z"
   },
   {
    "duration": 27,
    "start_time": "2022-03-12T10:38:28.180Z"
   },
   {
    "duration": 372,
    "start_time": "2022-03-12T10:38:56.016Z"
   },
   {
    "duration": 853,
    "start_time": "2022-03-12T10:39:13.003Z"
   },
   {
    "duration": 63,
    "start_time": "2022-03-12T10:39:13.859Z"
   },
   {
    "duration": 34,
    "start_time": "2022-03-12T10:39:13.925Z"
   },
   {
    "duration": 31,
    "start_time": "2022-03-12T10:39:13.963Z"
   },
   {
    "duration": 19,
    "start_time": "2022-03-12T10:39:13.997Z"
   },
   {
    "duration": 37,
    "start_time": "2022-03-12T10:39:14.019Z"
   },
   {
    "duration": 29,
    "start_time": "2022-03-12T10:39:14.058Z"
   },
   {
    "duration": 13,
    "start_time": "2022-03-12T10:39:14.091Z"
   },
   {
    "duration": 47,
    "start_time": "2022-03-12T10:39:14.107Z"
   },
   {
    "duration": 687,
    "start_time": "2022-03-12T10:39:14.188Z"
   },
   {
    "duration": 15,
    "start_time": "2022-03-12T10:39:14.878Z"
   },
   {
    "duration": 639,
    "start_time": "2022-03-12T10:39:14.895Z"
   },
   {
    "duration": 9,
    "start_time": "2022-03-12T10:39:15.536Z"
   },
   {
    "duration": 10,
    "start_time": "2022-03-12T10:39:15.547Z"
   },
   {
    "duration": 72,
    "start_time": "2022-03-12T10:39:15.559Z"
   },
   {
    "duration": 5,
    "start_time": "2022-03-12T10:39:15.633Z"
   },
   {
    "duration": 6,
    "start_time": "2022-03-12T10:39:15.640Z"
   },
   {
    "duration": 40,
    "start_time": "2022-03-12T10:39:15.648Z"
   },
   {
    "duration": 26,
    "start_time": "2022-03-12T10:39:15.691Z"
   },
   {
    "duration": 39,
    "start_time": "2022-03-12T10:39:15.720Z"
   },
   {
    "duration": 52,
    "start_time": "2022-03-12T10:39:15.761Z"
   },
   {
    "duration": 6,
    "start_time": "2022-03-12T10:39:15.815Z"
   },
   {
    "duration": 17,
    "start_time": "2022-03-12T10:39:15.826Z"
   },
   {
    "duration": 46,
    "start_time": "2022-03-12T10:39:15.846Z"
   },
   {
    "duration": 32,
    "start_time": "2022-03-12T10:39:15.894Z"
   },
   {
    "duration": 24,
    "start_time": "2022-03-12T10:39:15.929Z"
   },
   {
    "duration": 6,
    "start_time": "2022-03-12T10:39:15.956Z"
   },
   {
    "duration": 8,
    "start_time": "2022-03-12T10:39:15.987Z"
   },
   {
    "duration": 11,
    "start_time": "2022-03-12T10:39:15.997Z"
   },
   {
    "duration": 10,
    "start_time": "2022-03-12T10:39:16.010Z"
   },
   {
    "duration": 12,
    "start_time": "2022-03-12T10:39:16.023Z"
   },
   {
    "duration": 66,
    "start_time": "2022-03-12T10:39:16.037Z"
   },
   {
    "duration": 12,
    "start_time": "2022-03-12T10:39:16.106Z"
   },
   {
    "duration": 18,
    "start_time": "2022-03-12T10:39:16.121Z"
   },
   {
    "duration": 56,
    "start_time": "2022-03-12T10:39:16.142Z"
   },
   {
    "duration": 7,
    "start_time": "2022-03-12T10:39:16.200Z"
   },
   {
    "duration": 6,
    "start_time": "2022-03-12T10:39:16.210Z"
   },
   {
    "duration": 21,
    "start_time": "2022-03-12T10:39:16.218Z"
   },
   {
    "duration": 24,
    "start_time": "2022-03-12T10:39:16.242Z"
   },
   {
    "duration": 24,
    "start_time": "2022-03-12T10:39:16.268Z"
   },
   {
    "duration": 21,
    "start_time": "2022-03-12T10:39:16.294Z"
   },
   {
    "duration": 7,
    "start_time": "2022-03-12T10:39:16.318Z"
   },
   {
    "duration": 13,
    "start_time": "2022-03-12T10:39:16.327Z"
   },
   {
    "duration": 370,
    "start_time": "2022-03-12T10:40:09.740Z"
   },
   {
    "duration": 819,
    "start_time": "2022-03-12T10:40:31.254Z"
   },
   {
    "duration": 62,
    "start_time": "2022-03-12T10:40:32.076Z"
   },
   {
    "duration": 51,
    "start_time": "2022-03-12T10:40:32.142Z"
   },
   {
    "duration": 16,
    "start_time": "2022-03-12T10:40:32.197Z"
   },
   {
    "duration": 12,
    "start_time": "2022-03-12T10:40:32.216Z"
   },
   {
    "duration": 58,
    "start_time": "2022-03-12T10:40:32.230Z"
   },
   {
    "duration": 9,
    "start_time": "2022-03-12T10:40:32.291Z"
   },
   {
    "duration": 20,
    "start_time": "2022-03-12T10:40:32.304Z"
   },
   {
    "duration": 69,
    "start_time": "2022-03-12T10:40:32.327Z"
   },
   {
    "duration": 660,
    "start_time": "2022-03-12T10:40:32.398Z"
   },
   {
    "duration": 9,
    "start_time": "2022-03-12T10:40:33.061Z"
   },
   {
    "duration": 688,
    "start_time": "2022-03-12T10:40:33.073Z"
   },
   {
    "duration": 9,
    "start_time": "2022-03-12T10:40:33.764Z"
   },
   {
    "duration": 30,
    "start_time": "2022-03-12T10:40:33.775Z"
   },
   {
    "duration": 50,
    "start_time": "2022-03-12T10:40:33.808Z"
   },
   {
    "duration": 26,
    "start_time": "2022-03-12T10:40:33.861Z"
   },
   {
    "duration": 6,
    "start_time": "2022-03-12T10:40:33.891Z"
   },
   {
    "duration": 14,
    "start_time": "2022-03-12T10:40:33.900Z"
   },
   {
    "duration": 37,
    "start_time": "2022-03-12T10:40:33.917Z"
   },
   {
    "duration": 37,
    "start_time": "2022-03-12T10:40:33.987Z"
   },
   {
    "duration": 29,
    "start_time": "2022-03-12T10:40:34.026Z"
   },
   {
    "duration": 35,
    "start_time": "2022-03-12T10:40:34.057Z"
   },
   {
    "duration": 15,
    "start_time": "2022-03-12T10:40:34.098Z"
   },
   {
    "duration": 11,
    "start_time": "2022-03-12T10:40:34.117Z"
   },
   {
    "duration": 56,
    "start_time": "2022-03-12T10:40:34.131Z"
   },
   {
    "duration": 25,
    "start_time": "2022-03-12T10:40:34.189Z"
   },
   {
    "duration": 7,
    "start_time": "2022-03-12T10:40:34.217Z"
   },
   {
    "duration": 17,
    "start_time": "2022-03-12T10:40:34.226Z"
   },
   {
    "duration": 10,
    "start_time": "2022-03-12T10:40:34.246Z"
   },
   {
    "duration": 39,
    "start_time": "2022-03-12T10:40:34.258Z"
   },
   {
    "duration": 15,
    "start_time": "2022-03-12T10:40:34.300Z"
   },
   {
    "duration": 30,
    "start_time": "2022-03-12T10:40:34.319Z"
   },
   {
    "duration": 7,
    "start_time": "2022-03-12T10:40:34.353Z"
   },
   {
    "duration": 37,
    "start_time": "2022-03-12T10:40:34.363Z"
   },
   {
    "duration": 37,
    "start_time": "2022-03-12T10:40:34.403Z"
   },
   {
    "duration": 8,
    "start_time": "2022-03-12T10:40:34.442Z"
   },
   {
    "duration": 4,
    "start_time": "2022-03-12T10:40:34.453Z"
   },
   {
    "duration": 39,
    "start_time": "2022-03-12T10:40:34.459Z"
   },
   {
    "duration": 35,
    "start_time": "2022-03-12T10:40:34.500Z"
   },
   {
    "duration": 12,
    "start_time": "2022-03-12T10:40:34.538Z"
   },
   {
    "duration": 59,
    "start_time": "2022-03-12T10:40:34.553Z"
   },
   {
    "duration": 8,
    "start_time": "2022-03-12T10:40:34.614Z"
   },
   {
    "duration": 15,
    "start_time": "2022-03-12T10:40:34.624Z"
   },
   {
    "duration": 27,
    "start_time": "2022-03-12T10:40:53.734Z"
   },
   {
    "duration": 375,
    "start_time": "2022-03-12T10:43:57.285Z"
   },
   {
    "duration": 765,
    "start_time": "2022-03-12T10:44:01.309Z"
   },
   {
    "duration": 73,
    "start_time": "2022-03-12T10:44:02.077Z"
   },
   {
    "duration": 36,
    "start_time": "2022-03-12T10:44:02.153Z"
   },
   {
    "duration": 17,
    "start_time": "2022-03-12T10:44:02.193Z"
   },
   {
    "duration": 23,
    "start_time": "2022-03-12T10:44:02.213Z"
   },
   {
    "duration": 49,
    "start_time": "2022-03-12T10:44:02.239Z"
   },
   {
    "duration": 8,
    "start_time": "2022-03-12T10:44:02.292Z"
   },
   {
    "duration": 15,
    "start_time": "2022-03-12T10:44:02.304Z"
   },
   {
    "duration": 75,
    "start_time": "2022-03-12T10:44:02.321Z"
   },
   {
    "duration": 653,
    "start_time": "2022-03-12T10:44:02.398Z"
   },
   {
    "duration": 9,
    "start_time": "2022-03-12T10:44:03.054Z"
   },
   {
    "duration": 642,
    "start_time": "2022-03-12T10:44:03.066Z"
   },
   {
    "duration": 11,
    "start_time": "2022-03-12T10:44:03.711Z"
   },
   {
    "duration": 10,
    "start_time": "2022-03-12T10:44:03.724Z"
   },
   {
    "duration": 82,
    "start_time": "2022-03-12T10:44:03.737Z"
   },
   {
    "duration": 6,
    "start_time": "2022-03-12T10:44:03.822Z"
   },
   {
    "duration": 11,
    "start_time": "2022-03-12T10:44:03.831Z"
   },
   {
    "duration": 9,
    "start_time": "2022-03-12T10:44:03.844Z"
   },
   {
    "duration": 62,
    "start_time": "2022-03-12T10:44:03.856Z"
   },
   {
    "duration": 40,
    "start_time": "2022-03-12T10:44:03.920Z"
   },
   {
    "duration": 49,
    "start_time": "2022-03-12T10:44:03.962Z"
   },
   {
    "duration": 6,
    "start_time": "2022-03-12T10:44:04.014Z"
   },
   {
    "duration": 16,
    "start_time": "2022-03-12T10:44:04.025Z"
   },
   {
    "duration": 51,
    "start_time": "2022-03-12T10:44:04.044Z"
   },
   {
    "duration": 37,
    "start_time": "2022-03-12T10:44:04.098Z"
   },
   {
    "duration": 24,
    "start_time": "2022-03-12T10:44:04.138Z"
   },
   {
    "duration": 7,
    "start_time": "2022-03-12T10:44:04.164Z"
   },
   {
    "duration": 12,
    "start_time": "2022-03-12T10:44:04.188Z"
   },
   {
    "duration": 34,
    "start_time": "2022-03-12T10:44:04.202Z"
   },
   {
    "duration": 12,
    "start_time": "2022-03-12T10:44:04.239Z"
   },
   {
    "duration": 19,
    "start_time": "2022-03-12T10:44:04.253Z"
   },
   {
    "duration": 24,
    "start_time": "2022-03-12T10:44:04.275Z"
   },
   {
    "duration": 7,
    "start_time": "2022-03-12T10:44:04.301Z"
   },
   {
    "duration": 15,
    "start_time": "2022-03-12T10:44:04.310Z"
   },
   {
    "duration": 77,
    "start_time": "2022-03-12T10:44:04.328Z"
   },
   {
    "duration": 10,
    "start_time": "2022-03-12T10:44:04.408Z"
   },
   {
    "duration": 7,
    "start_time": "2022-03-12T10:44:04.421Z"
   },
   {
    "duration": 18,
    "start_time": "2022-03-12T10:44:04.431Z"
   },
   {
    "duration": 47,
    "start_time": "2022-03-12T10:44:04.452Z"
   },
   {
    "duration": 11,
    "start_time": "2022-03-12T10:44:04.502Z"
   },
   {
    "duration": 28,
    "start_time": "2022-03-12T10:44:04.516Z"
   },
   {
    "duration": 8,
    "start_time": "2022-03-12T10:44:04.546Z"
   },
   {
    "duration": 39,
    "start_time": "2022-03-12T10:44:04.589Z"
   },
   {
    "duration": 13,
    "start_time": "2022-03-12T10:44:04.631Z"
   },
   {
    "duration": 20,
    "start_time": "2022-03-12T10:44:35.784Z"
   },
   {
    "duration": 15,
    "start_time": "2022-03-12T10:44:50.442Z"
   },
   {
    "duration": 22,
    "start_time": "2022-03-12T10:45:05.429Z"
   },
   {
    "duration": 24,
    "start_time": "2022-03-12T10:45:14.736Z"
   },
   {
    "duration": 22,
    "start_time": "2022-03-12T10:45:25.093Z"
   },
   {
    "duration": 30,
    "start_time": "2022-03-12T10:45:58.830Z"
   },
   {
    "duration": 33,
    "start_time": "2022-03-12T10:46:10.520Z"
   },
   {
    "duration": 13,
    "start_time": "2022-03-12T10:46:47.390Z"
   },
   {
    "duration": 13,
    "start_time": "2022-03-12T10:47:05.904Z"
   },
   {
    "duration": 13,
    "start_time": "2022-03-12T10:47:50.393Z"
   },
   {
    "duration": 18,
    "start_time": "2022-03-12T10:48:06.078Z"
   },
   {
    "duration": 14,
    "start_time": "2022-03-12T10:48:38.278Z"
   },
   {
    "duration": 4,
    "start_time": "2022-03-12T10:49:44.003Z"
   },
   {
    "duration": 87,
    "start_time": "2022-03-12T10:49:44.010Z"
   },
   {
    "duration": 27,
    "start_time": "2022-03-12T10:49:44.101Z"
   },
   {
    "duration": 14,
    "start_time": "2022-03-12T10:49:44.132Z"
   },
   {
    "duration": 42,
    "start_time": "2022-03-12T10:49:44.148Z"
   },
   {
    "duration": 21,
    "start_time": "2022-03-12T10:49:44.193Z"
   },
   {
    "duration": 9,
    "start_time": "2022-03-12T10:49:44.217Z"
   },
   {
    "duration": 16,
    "start_time": "2022-03-12T10:49:44.228Z"
   },
   {
    "duration": 48,
    "start_time": "2022-03-12T10:49:44.287Z"
   },
   {
    "duration": 538,
    "start_time": "2022-03-12T10:49:44.338Z"
   },
   {
    "duration": 16,
    "start_time": "2022-03-12T10:49:44.879Z"
   },
   {
    "duration": 589,
    "start_time": "2022-03-12T10:49:44.898Z"
   },
   {
    "duration": 11,
    "start_time": "2022-03-12T10:49:45.490Z"
   },
   {
    "duration": 12,
    "start_time": "2022-03-12T10:49:45.504Z"
   },
   {
    "duration": 89,
    "start_time": "2022-03-12T10:49:45.519Z"
   },
   {
    "duration": 6,
    "start_time": "2022-03-12T10:49:45.611Z"
   },
   {
    "duration": 13,
    "start_time": "2022-03-12T10:49:45.620Z"
   },
   {
    "duration": 10,
    "start_time": "2022-03-12T10:49:45.636Z"
   },
   {
    "duration": 50,
    "start_time": "2022-03-12T10:49:45.649Z"
   },
   {
    "duration": 38,
    "start_time": "2022-03-12T10:49:45.701Z"
   },
   {
    "duration": 53,
    "start_time": "2022-03-12T10:49:45.742Z"
   },
   {
    "duration": 7,
    "start_time": "2022-03-12T10:49:45.798Z"
   },
   {
    "duration": 21,
    "start_time": "2022-03-12T10:49:45.807Z"
   },
   {
    "duration": 27,
    "start_time": "2022-03-12T10:49:45.831Z"
   },
   {
    "duration": 39,
    "start_time": "2022-03-12T10:49:45.862Z"
   },
   {
    "duration": 29,
    "start_time": "2022-03-12T10:49:45.904Z"
   },
   {
    "duration": 7,
    "start_time": "2022-03-12T10:49:45.939Z"
   },
   {
    "duration": 44,
    "start_time": "2022-03-12T10:49:45.949Z"
   },
   {
    "duration": 11,
    "start_time": "2022-03-12T10:49:45.996Z"
   },
   {
    "duration": 15,
    "start_time": "2022-03-12T10:49:46.010Z"
   },
   {
    "duration": 12,
    "start_time": "2022-03-12T10:49:46.028Z"
   },
   {
    "duration": 11,
    "start_time": "2022-03-12T10:49:47.389Z"
   },
   {
    "duration": 18,
    "start_time": "2022-03-12T10:49:49.334Z"
   },
   {
    "duration": 17,
    "start_time": "2022-03-12T10:50:10.416Z"
   },
   {
    "duration": 8,
    "start_time": "2022-03-12T10:50:41.971Z"
   },
   {
    "duration": 19,
    "start_time": "2022-03-12T10:51:05.219Z"
   },
   {
    "duration": 10,
    "start_time": "2022-03-12T10:51:10.835Z"
   },
   {
    "duration": 19,
    "start_time": "2022-03-12T10:52:07.341Z"
   },
   {
    "duration": 11,
    "start_time": "2022-03-12T10:52:07.904Z"
   },
   {
    "duration": 55,
    "start_time": "2022-03-12T10:54:38.077Z"
   },
   {
    "duration": 68,
    "start_time": "2022-03-12T10:54:55.365Z"
   },
   {
    "duration": 54,
    "start_time": "2022-03-12T10:55:01.009Z"
   },
   {
    "duration": 54,
    "start_time": "2022-03-12T10:55:09.762Z"
   },
   {
    "duration": 45,
    "start_time": "2022-03-12T10:55:16.559Z"
   },
   {
    "duration": 4,
    "start_time": "2022-03-12T10:55:34.787Z"
   },
   {
    "duration": 84,
    "start_time": "2022-03-12T10:55:34.794Z"
   },
   {
    "duration": 25,
    "start_time": "2022-03-12T10:55:34.881Z"
   },
   {
    "duration": 26,
    "start_time": "2022-03-12T10:55:34.909Z"
   },
   {
    "duration": 25,
    "start_time": "2022-03-12T10:55:34.938Z"
   },
   {
    "duration": 46,
    "start_time": "2022-03-12T10:55:34.966Z"
   },
   {
    "duration": 10,
    "start_time": "2022-03-12T10:55:35.015Z"
   },
   {
    "duration": 33,
    "start_time": "2022-03-12T10:55:35.028Z"
   },
   {
    "duration": 76,
    "start_time": "2022-03-12T10:55:35.065Z"
   },
   {
    "duration": 707,
    "start_time": "2022-03-12T10:55:35.146Z"
   },
   {
    "duration": 12,
    "start_time": "2022-03-12T10:55:35.860Z"
   },
   {
    "duration": 695,
    "start_time": "2022-03-12T10:55:35.875Z"
   },
   {
    "duration": 20,
    "start_time": "2022-03-12T10:55:36.573Z"
   },
   {
    "duration": 18,
    "start_time": "2022-03-12T10:55:36.596Z"
   },
   {
    "duration": 72,
    "start_time": "2022-03-12T10:55:36.617Z"
   },
   {
    "duration": 11,
    "start_time": "2022-03-12T10:55:36.692Z"
   },
   {
    "duration": 23,
    "start_time": "2022-03-12T10:55:36.706Z"
   },
   {
    "duration": 7,
    "start_time": "2022-03-12T10:55:36.732Z"
   },
   {
    "duration": 53,
    "start_time": "2022-03-12T10:55:36.742Z"
   },
   {
    "duration": 43,
    "start_time": "2022-03-12T10:55:36.797Z"
   },
   {
    "duration": 56,
    "start_time": "2022-03-12T10:55:36.842Z"
   },
   {
    "duration": 8,
    "start_time": "2022-03-12T10:55:36.901Z"
   },
   {
    "duration": 32,
    "start_time": "2022-03-12T10:55:36.912Z"
   },
   {
    "duration": 19,
    "start_time": "2022-03-12T10:55:36.948Z"
   },
   {
    "duration": 48,
    "start_time": "2022-03-12T10:55:36.969Z"
   },
   {
    "duration": 31,
    "start_time": "2022-03-12T10:55:37.021Z"
   },
   {
    "duration": 33,
    "start_time": "2022-03-12T10:55:37.059Z"
   },
   {
    "duration": 29,
    "start_time": "2022-03-12T10:55:37.095Z"
   },
   {
    "duration": 23,
    "start_time": "2022-03-12T10:55:37.128Z"
   },
   {
    "duration": 16,
    "start_time": "2022-03-12T10:55:37.154Z"
   },
   {
    "duration": 20,
    "start_time": "2022-03-12T10:55:37.172Z"
   },
   {
    "duration": 23,
    "start_time": "2022-03-12T10:55:37.196Z"
   },
   {
    "duration": 16,
    "start_time": "2022-03-12T10:55:37.223Z"
   },
   {
    "duration": 45,
    "start_time": "2022-03-12T10:55:37.242Z"
   },
   {
    "duration": 45,
    "start_time": "2022-03-12T10:55:37.290Z"
   },
   {
    "duration": 17,
    "start_time": "2022-03-12T10:55:37.339Z"
   },
   {
    "duration": 13,
    "start_time": "2022-03-12T10:55:37.358Z"
   },
   {
    "duration": 16,
    "start_time": "2022-03-12T10:55:37.389Z"
   },
   {
    "duration": 31,
    "start_time": "2022-03-12T10:55:37.409Z"
   },
   {
    "duration": 12,
    "start_time": "2022-03-12T10:55:37.443Z"
   },
   {
    "duration": 49,
    "start_time": "2022-03-12T10:55:37.458Z"
   },
   {
    "duration": 8,
    "start_time": "2022-03-12T10:55:37.510Z"
   },
   {
    "duration": 7,
    "start_time": "2022-03-12T10:55:42.515Z"
   },
   {
    "duration": 28,
    "start_time": "2022-03-12T10:55:43.650Z"
   },
   {
    "duration": 10,
    "start_time": "2022-03-12T10:55:47.945Z"
   },
   {
    "duration": 29,
    "start_time": "2022-03-12T10:56:02.508Z"
   },
   {
    "duration": 49,
    "start_time": "2022-03-12T10:56:06.070Z"
   },
   {
    "duration": 19,
    "start_time": "2022-03-12T10:56:32.694Z"
   },
   {
    "duration": 10,
    "start_time": "2022-03-12T10:56:33.162Z"
   },
   {
    "duration": 6,
    "start_time": "2022-03-12T10:57:21.695Z"
   },
   {
    "duration": 9,
    "start_time": "2022-03-12T10:57:24.153Z"
   },
   {
    "duration": 27,
    "start_time": "2022-03-12T10:57:32.360Z"
   },
   {
    "duration": 19,
    "start_time": "2022-03-12T10:58:17.074Z"
   },
   {
    "duration": 24,
    "start_time": "2022-03-12T11:20:03.332Z"
   },
   {
    "duration": 41,
    "start_time": "2022-03-12T11:20:22.228Z"
   },
   {
    "duration": 30,
    "start_time": "2022-03-12T11:20:40.765Z"
   },
   {
    "duration": 23,
    "start_time": "2022-03-12T11:25:15.808Z"
   },
   {
    "duration": 7,
    "start_time": "2022-03-12T11:25:56.295Z"
   },
   {
    "duration": 25,
    "start_time": "2022-03-12T11:37:03.748Z"
   },
   {
    "duration": 19,
    "start_time": "2022-03-12T11:38:00.687Z"
   },
   {
    "duration": 21,
    "start_time": "2022-03-12T11:38:10.954Z"
   },
   {
    "duration": 630,
    "start_time": "2022-03-12T11:46:43.172Z"
   },
   {
    "duration": 318,
    "start_time": "2022-03-12T11:46:59.363Z"
   },
   {
    "duration": 15,
    "start_time": "2022-03-12T11:48:12.616Z"
   },
   {
    "duration": 19,
    "start_time": "2022-03-12T11:48:28.417Z"
   },
   {
    "duration": 736,
    "start_time": "2022-03-12T11:48:38.292Z"
   },
   {
    "duration": 255,
    "start_time": "2022-03-12T11:49:15.788Z"
   },
   {
    "duration": 267,
    "start_time": "2022-03-12T11:49:31.449Z"
   },
   {
    "duration": 25,
    "start_time": "2022-03-12T11:49:35.082Z"
   },
   {
    "duration": 16,
    "start_time": "2022-03-12T11:49:53.269Z"
   },
   {
    "duration": 15,
    "start_time": "2022-03-12T11:49:58.511Z"
   },
   {
    "duration": 21,
    "start_time": "2022-03-12T11:50:07.742Z"
   },
   {
    "duration": 71,
    "start_time": "2022-03-12T11:55:28.151Z"
   },
   {
    "duration": 298,
    "start_time": "2022-03-12T12:42:33.145Z"
   },
   {
    "duration": 22,
    "start_time": "2022-03-12T12:42:47.812Z"
   },
   {
    "duration": 21,
    "start_time": "2022-03-12T12:43:24.714Z"
   },
   {
    "duration": 79,
    "start_time": "2022-03-12T12:43:32.044Z"
   },
   {
    "duration": 22,
    "start_time": "2022-03-12T12:43:34.350Z"
   },
   {
    "duration": 31,
    "start_time": "2022-03-12T12:43:40.449Z"
   },
   {
    "duration": 20,
    "start_time": "2022-03-12T12:43:44.706Z"
   },
   {
    "duration": 26,
    "start_time": "2022-03-12T12:43:51.601Z"
   },
   {
    "duration": 20,
    "start_time": "2022-03-12T12:43:58.177Z"
   },
   {
    "duration": 27,
    "start_time": "2022-03-12T12:44:11.800Z"
   },
   {
    "duration": 28,
    "start_time": "2022-03-12T12:44:30.132Z"
   },
   {
    "duration": 27,
    "start_time": "2022-03-12T12:44:43.721Z"
   },
   {
    "duration": 28,
    "start_time": "2022-03-12T12:45:31.350Z"
   },
   {
    "duration": 8,
    "start_time": "2022-03-12T13:15:02.875Z"
   },
   {
    "duration": 9,
    "start_time": "2022-03-12T13:15:07.573Z"
   },
   {
    "duration": 9,
    "start_time": "2022-03-12T13:16:15.563Z"
   },
   {
    "duration": 1503,
    "start_time": "2022-03-12T13:25:50.465Z"
   },
   {
    "duration": 62,
    "start_time": "2022-03-12T13:25:51.971Z"
   },
   {
    "duration": 24,
    "start_time": "2022-03-12T13:25:52.036Z"
   },
   {
    "duration": 34,
    "start_time": "2022-03-12T13:25:52.063Z"
   },
   {
    "duration": 11,
    "start_time": "2022-03-12T13:25:52.099Z"
   },
   {
    "duration": 20,
    "start_time": "2022-03-12T13:25:52.113Z"
   },
   {
    "duration": 8,
    "start_time": "2022-03-12T13:25:52.135Z"
   },
   {
    "duration": 48,
    "start_time": "2022-03-12T13:25:52.147Z"
   },
   {
    "duration": 46,
    "start_time": "2022-03-12T13:25:52.198Z"
   },
   {
    "duration": 554,
    "start_time": "2022-03-12T13:25:52.246Z"
   },
   {
    "duration": 11,
    "start_time": "2022-03-12T13:25:52.803Z"
   },
   {
    "duration": 585,
    "start_time": "2022-03-12T13:25:52.817Z"
   },
   {
    "duration": 9,
    "start_time": "2022-03-12T13:25:53.405Z"
   },
   {
    "duration": 13,
    "start_time": "2022-03-12T13:25:53.417Z"
   },
   {
    "duration": 78,
    "start_time": "2022-03-12T13:25:53.432Z"
   },
   {
    "duration": 6,
    "start_time": "2022-03-12T13:25:53.513Z"
   },
   {
    "duration": 12,
    "start_time": "2022-03-12T13:25:53.522Z"
   },
   {
    "duration": 22,
    "start_time": "2022-03-12T13:25:53.537Z"
   },
   {
    "duration": 43,
    "start_time": "2022-03-12T13:25:53.562Z"
   },
   {
    "duration": 41,
    "start_time": "2022-03-12T13:25:53.608Z"
   },
   {
    "duration": 66,
    "start_time": "2022-03-12T13:25:53.652Z"
   },
   {
    "duration": 9,
    "start_time": "2022-03-12T13:25:53.721Z"
   },
   {
    "duration": 22,
    "start_time": "2022-03-12T13:25:53.735Z"
   },
   {
    "duration": 28,
    "start_time": "2022-03-12T13:25:53.760Z"
   },
   {
    "duration": 23,
    "start_time": "2022-03-12T13:25:53.791Z"
   },
   {
    "duration": 26,
    "start_time": "2022-03-12T13:25:53.818Z"
   },
   {
    "duration": 7,
    "start_time": "2022-03-12T13:25:53.846Z"
   },
   {
    "duration": 37,
    "start_time": "2022-03-12T13:25:53.855Z"
   },
   {
    "duration": 12,
    "start_time": "2022-03-12T13:25:53.895Z"
   },
   {
    "duration": 15,
    "start_time": "2022-03-12T13:25:53.910Z"
   },
   {
    "duration": 13,
    "start_time": "2022-03-12T13:25:53.928Z"
   },
   {
    "duration": 50,
    "start_time": "2022-03-12T13:25:53.944Z"
   },
   {
    "duration": 8,
    "start_time": "2022-03-12T13:25:53.997Z"
   },
   {
    "duration": 20,
    "start_time": "2022-03-12T13:25:54.007Z"
   },
   {
    "duration": 69,
    "start_time": "2022-03-12T13:25:54.029Z"
   },
   {
    "duration": 7,
    "start_time": "2022-03-12T13:25:54.101Z"
   },
   {
    "duration": 5,
    "start_time": "2022-03-12T13:25:54.110Z"
   },
   {
    "duration": 20,
    "start_time": "2022-03-12T13:25:54.117Z"
   },
   {
    "duration": 50,
    "start_time": "2022-03-12T13:25:54.139Z"
   },
   {
    "duration": 15,
    "start_time": "2022-03-12T13:25:54.191Z"
   },
   {
    "duration": 36,
    "start_time": "2022-03-12T13:25:54.208Z"
   },
   {
    "duration": 46,
    "start_time": "2022-03-12T13:25:54.246Z"
   },
   {
    "duration": 22,
    "start_time": "2022-03-12T13:25:54.295Z"
   },
   {
    "duration": 21,
    "start_time": "2022-03-12T13:25:54.319Z"
   },
   {
    "duration": 1909,
    "start_time": "2022-03-21T14:03:10.757Z"
   },
   {
    "duration": 86,
    "start_time": "2022-03-21T14:03:12.672Z"
   },
   {
    "duration": 27,
    "start_time": "2022-03-21T14:03:12.764Z"
   },
   {
    "duration": 51,
    "start_time": "2022-03-21T14:03:12.796Z"
   },
   {
    "duration": 14,
    "start_time": "2022-03-21T14:03:12.860Z"
   },
   {
    "duration": 27,
    "start_time": "2022-03-21T14:03:12.876Z"
   },
   {
    "duration": 8,
    "start_time": "2022-03-21T14:03:12.944Z"
   },
   {
    "duration": 14,
    "start_time": "2022-03-21T14:03:12.954Z"
   },
   {
    "duration": 77,
    "start_time": "2022-03-21T14:03:12.971Z"
   },
   {
    "duration": 409,
    "start_time": "2022-03-21T14:03:13.051Z"
   },
   {
    "duration": 9,
    "start_time": "2022-03-21T14:03:13.463Z"
   },
   {
    "duration": 470,
    "start_time": "2022-03-21T14:03:13.475Z"
   },
   {
    "duration": 7,
    "start_time": "2022-03-21T14:03:13.948Z"
   },
   {
    "duration": 12,
    "start_time": "2022-03-21T14:03:13.958Z"
   },
   {
    "duration": 88,
    "start_time": "2022-03-21T14:03:13.973Z"
   },
   {
    "duration": 6,
    "start_time": "2022-03-21T14:03:14.063Z"
   },
   {
    "duration": 8,
    "start_time": "2022-03-21T14:03:14.072Z"
   },
   {
    "duration": 8,
    "start_time": "2022-03-21T14:03:14.082Z"
   },
   {
    "duration": 67,
    "start_time": "2022-03-21T14:03:14.092Z"
   },
   {
    "duration": 42,
    "start_time": "2022-03-21T14:03:14.162Z"
   },
   {
    "duration": 53,
    "start_time": "2022-03-21T14:03:14.206Z"
   },
   {
    "duration": 8,
    "start_time": "2022-03-21T14:03:14.261Z"
   },
   {
    "duration": 17,
    "start_time": "2022-03-21T14:03:14.271Z"
   },
   {
    "duration": 9,
    "start_time": "2022-03-21T14:03:14.290Z"
   },
   {
    "duration": 72,
    "start_time": "2022-03-21T14:03:14.301Z"
   },
   {
    "duration": 40,
    "start_time": "2022-03-21T14:03:14.376Z"
   },
   {
    "duration": 25,
    "start_time": "2022-03-21T14:03:14.419Z"
   },
   {
    "duration": 10,
    "start_time": "2022-03-21T14:03:14.446Z"
   },
   {
    "duration": 9,
    "start_time": "2022-03-21T14:03:14.458Z"
   },
   {
    "duration": 12,
    "start_time": "2022-03-21T14:03:14.470Z"
   },
   {
    "duration": 10,
    "start_time": "2022-03-21T14:03:14.484Z"
   },
   {
    "duration": 57,
    "start_time": "2022-03-21T14:03:14.496Z"
   },
   {
    "duration": 7,
    "start_time": "2022-03-21T14:03:14.555Z"
   },
   {
    "duration": 18,
    "start_time": "2022-03-21T14:03:14.564Z"
   },
   {
    "duration": 58,
    "start_time": "2022-03-21T14:03:14.585Z"
   },
   {
    "duration": 9,
    "start_time": "2022-03-21T14:03:14.645Z"
   },
   {
    "duration": 5,
    "start_time": "2022-03-21T14:03:14.664Z"
   },
   {
    "duration": 22,
    "start_time": "2022-03-21T14:03:14.672Z"
   },
   {
    "duration": 57,
    "start_time": "2022-03-21T14:03:14.697Z"
   },
   {
    "duration": 7,
    "start_time": "2022-03-21T14:03:14.757Z"
   },
   {
    "duration": 27,
    "start_time": "2022-03-21T14:03:14.767Z"
   },
   {
    "duration": 56,
    "start_time": "2022-03-21T14:03:14.796Z"
   },
   {
    "duration": 25,
    "start_time": "2022-03-21T14:03:14.854Z"
   },
   {
    "duration": 27,
    "start_time": "2022-03-21T14:03:14.881Z"
   },
   {
    "duration": 23,
    "start_time": "2022-03-21T14:03:50.844Z"
   },
   {
    "duration": 13,
    "start_time": "2022-03-21T14:05:25.702Z"
   },
   {
    "duration": 13,
    "start_time": "2022-03-21T14:05:44.721Z"
   },
   {
    "duration": 1883,
    "start_time": "2022-03-21T14:07:15.856Z"
   },
   {
    "duration": 81,
    "start_time": "2022-03-21T14:07:17.745Z"
   },
   {
    "duration": 33,
    "start_time": "2022-03-21T14:07:17.828Z"
   },
   {
    "duration": 24,
    "start_time": "2022-03-21T14:07:17.864Z"
   },
   {
    "duration": 15,
    "start_time": "2022-03-21T14:07:17.892Z"
   },
   {
    "duration": 27,
    "start_time": "2022-03-21T14:07:17.942Z"
   },
   {
    "duration": 9,
    "start_time": "2022-03-21T14:07:17.971Z"
   },
   {
    "duration": 20,
    "start_time": "2022-03-21T14:07:17.983Z"
   },
   {
    "duration": 96,
    "start_time": "2022-03-21T14:07:18.006Z"
   },
   {
    "duration": 625,
    "start_time": "2022-03-21T14:07:18.105Z"
   },
   {
    "duration": 17,
    "start_time": "2022-03-21T14:07:18.733Z"
   },
   {
    "duration": 694,
    "start_time": "2022-03-21T14:07:18.752Z"
   },
   {
    "duration": 9,
    "start_time": "2022-03-21T14:07:19.449Z"
   },
   {
    "duration": 12,
    "start_time": "2022-03-21T14:07:19.465Z"
   },
   {
    "duration": 107,
    "start_time": "2022-03-21T14:07:19.480Z"
   },
   {
    "duration": 7,
    "start_time": "2022-03-21T14:07:19.590Z"
   },
   {
    "duration": 8,
    "start_time": "2022-03-21T14:07:19.601Z"
   },
   {
    "duration": 37,
    "start_time": "2022-03-21T14:07:19.612Z"
   },
   {
    "duration": 44,
    "start_time": "2022-03-21T14:07:19.652Z"
   },
   {
    "duration": 84,
    "start_time": "2022-03-21T14:07:19.699Z"
   },
   {
    "duration": 34,
    "start_time": "2022-03-21T14:07:19.786Z"
   },
   {
    "duration": 25,
    "start_time": "2022-03-21T14:07:19.823Z"
   },
   {
    "duration": 20,
    "start_time": "2022-03-21T14:07:19.851Z"
   },
   {
    "duration": 14,
    "start_time": "2022-03-21T14:07:19.874Z"
   },
   {
    "duration": 60,
    "start_time": "2022-03-21T14:07:19.891Z"
   },
   {
    "duration": 33,
    "start_time": "2022-03-21T14:07:19.954Z"
   },
   {
    "duration": 7,
    "start_time": "2022-03-21T14:07:19.990Z"
   },
   {
    "duration": 12,
    "start_time": "2022-03-21T14:07:19.999Z"
   },
   {
    "duration": 9,
    "start_time": "2022-03-21T14:07:20.044Z"
   },
   {
    "duration": 14,
    "start_time": "2022-03-21T14:07:20.056Z"
   },
   {
    "duration": 12,
    "start_time": "2022-03-21T14:07:20.072Z"
   },
   {
    "duration": 60,
    "start_time": "2022-03-21T14:07:20.087Z"
   },
   {
    "duration": 10,
    "start_time": "2022-03-21T14:07:20.150Z"
   },
   {
    "duration": 23,
    "start_time": "2022-03-21T14:07:20.163Z"
   },
   {
    "duration": 19,
    "start_time": "2022-03-21T14:07:20.188Z"
   },
   {
    "duration": 39,
    "start_time": "2022-03-21T14:07:20.210Z"
   },
   {
    "duration": 7,
    "start_time": "2022-03-21T14:07:20.252Z"
   },
   {
    "duration": 16,
    "start_time": "2022-03-21T14:07:20.261Z"
   },
   {
    "duration": 66,
    "start_time": "2022-03-21T14:07:20.279Z"
   },
   {
    "duration": 14,
    "start_time": "2022-03-21T14:07:20.348Z"
   },
   {
    "duration": 33,
    "start_time": "2022-03-21T14:07:20.371Z"
   },
   {
    "duration": 55,
    "start_time": "2022-03-21T14:07:20.407Z"
   },
   {
    "duration": 28,
    "start_time": "2022-03-21T14:07:20.465Z"
   },
   {
    "duration": 50,
    "start_time": "2022-03-21T14:07:20.495Z"
   },
   {
    "duration": 50,
    "start_time": "2022-03-23T13:15:15.735Z"
   },
   {
    "duration": 1482,
    "start_time": "2022-03-23T13:15:23.867Z"
   },
   {
    "duration": 59,
    "start_time": "2022-03-23T13:15:25.351Z"
   },
   {
    "duration": 27,
    "start_time": "2022-03-23T13:15:25.411Z"
   },
   {
    "duration": 15,
    "start_time": "2022-03-23T13:15:25.440Z"
   },
   {
    "duration": 10,
    "start_time": "2022-03-23T13:15:25.456Z"
   },
   {
    "duration": 18,
    "start_time": "2022-03-23T13:15:25.467Z"
   },
   {
    "duration": 12,
    "start_time": "2022-03-23T13:15:27.922Z"
   },
   {
    "duration": 19,
    "start_time": "2022-03-23T13:16:08.445Z"
   },
   {
    "duration": 11,
    "start_time": "2022-03-23T13:16:33.329Z"
   },
   {
    "duration": 127,
    "start_time": "2022-03-23T13:20:15.204Z"
   },
   {
    "duration": 40,
    "start_time": "2022-03-23T13:20:15.366Z"
   },
   {
    "duration": 147,
    "start_time": "2022-03-23T13:20:17.180Z"
   },
   {
    "duration": 15,
    "start_time": "2022-03-23T13:20:22.779Z"
   },
   {
    "duration": 13,
    "start_time": "2022-03-23T13:21:17.509Z"
   },
   {
    "duration": 10,
    "start_time": "2022-03-23T13:22:04.574Z"
   },
   {
    "duration": 12,
    "start_time": "2022-03-23T13:23:17.416Z"
   },
   {
    "duration": 60,
    "start_time": "2022-03-23T13:23:39.189Z"
   },
   {
    "duration": 11,
    "start_time": "2022-03-23T13:23:41.955Z"
   },
   {
    "duration": 4,
    "start_time": "2022-03-23T13:23:46.067Z"
   },
   {
    "duration": 76,
    "start_time": "2022-03-29T07:21:49.823Z"
   },
   {
    "duration": 1330,
    "start_time": "2022-12-01T09:06:35.735Z"
   },
   {
    "duration": 127,
    "start_time": "2022-12-01T09:06:37.067Z"
   },
   {
    "duration": 17,
    "start_time": "2022-12-01T09:06:37.196Z"
   },
   {
    "duration": 23,
    "start_time": "2022-12-01T09:06:37.214Z"
   },
   {
    "duration": 11,
    "start_time": "2022-12-01T09:06:37.239Z"
   },
   {
    "duration": 22,
    "start_time": "2022-12-01T09:06:37.251Z"
   },
   {
    "duration": 38,
    "start_time": "2022-12-01T09:06:37.277Z"
   },
   {
    "duration": 16,
    "start_time": "2022-12-01T09:06:37.317Z"
   },
   {
    "duration": 23,
    "start_time": "2022-12-01T09:06:37.335Z"
   },
   {
    "duration": 49,
    "start_time": "2022-12-01T09:06:37.360Z"
   },
   {
    "duration": 271,
    "start_time": "2022-12-01T09:06:37.411Z"
   },
   {
    "duration": 5,
    "start_time": "2022-12-01T09:06:37.683Z"
   },
   {
    "duration": 277,
    "start_time": "2022-12-01T09:06:37.690Z"
   },
   {
    "duration": 4,
    "start_time": "2022-12-01T09:06:37.970Z"
   },
   {
    "duration": 10,
    "start_time": "2022-12-01T09:06:37.975Z"
   },
   {
    "duration": 46,
    "start_time": "2022-12-01T09:06:37.986Z"
   },
   {
    "duration": 4,
    "start_time": "2022-12-01T09:06:38.034Z"
   },
   {
    "duration": 21,
    "start_time": "2022-12-01T09:06:38.040Z"
   },
   {
    "duration": 9,
    "start_time": "2022-12-01T09:06:38.062Z"
   },
   {
    "duration": 21,
    "start_time": "2022-12-01T09:06:38.073Z"
   },
   {
    "duration": 46,
    "start_time": "2022-12-01T09:06:38.097Z"
   },
   {
    "duration": 21,
    "start_time": "2022-12-01T09:06:38.144Z"
   },
   {
    "duration": 5,
    "start_time": "2022-12-01T09:06:38.167Z"
   },
   {
    "duration": 49,
    "start_time": "2022-12-01T09:06:38.173Z"
   },
   {
    "duration": 40,
    "start_time": "2022-12-01T09:06:38.224Z"
   },
   {
    "duration": 21,
    "start_time": "2022-12-01T09:06:38.265Z"
   },
   {
    "duration": 19,
    "start_time": "2022-12-01T09:06:38.288Z"
   },
   {
    "duration": 6,
    "start_time": "2022-12-01T09:06:38.309Z"
   },
   {
    "duration": 16,
    "start_time": "2022-12-01T09:06:38.317Z"
   },
   {
    "duration": 17,
    "start_time": "2022-12-01T09:06:38.335Z"
   },
   {
    "duration": 8,
    "start_time": "2022-12-01T09:06:38.354Z"
   },
   {
    "duration": 13,
    "start_time": "2022-12-01T09:06:38.364Z"
   },
   {
    "duration": 16,
    "start_time": "2022-12-01T09:06:38.379Z"
   },
   {
    "duration": 12,
    "start_time": "2022-12-01T09:06:38.404Z"
   },
   {
    "duration": 28,
    "start_time": "2022-12-01T09:06:38.418Z"
   },
   {
    "duration": 24,
    "start_time": "2022-12-01T09:06:38.448Z"
   },
   {
    "duration": 13,
    "start_time": "2022-12-01T09:06:38.473Z"
   },
   {
    "duration": 18,
    "start_time": "2022-12-01T09:06:38.488Z"
   },
   {
    "duration": 37,
    "start_time": "2022-12-01T09:06:38.507Z"
   },
   {
    "duration": 14,
    "start_time": "2022-12-01T09:06:38.546Z"
   },
   {
    "duration": 7,
    "start_time": "2022-12-01T09:06:38.563Z"
   },
   {
    "duration": 17,
    "start_time": "2022-12-01T09:06:38.572Z"
   },
   {
    "duration": 16,
    "start_time": "2022-12-01T09:06:38.591Z"
   },
   {
    "duration": 13,
    "start_time": "2022-12-01T09:06:38.609Z"
   },
   {
    "duration": 13,
    "start_time": "2022-12-01T09:06:38.624Z"
   }
  ],
  "kernelspec": {
   "display_name": "Python 3 (ipykernel)",
   "language": "python",
   "name": "python3"
  },
  "language_info": {
   "codemirror_mode": {
    "name": "ipython",
    "version": 3
   },
   "file_extension": ".py",
   "mimetype": "text/x-python",
   "name": "python",
   "nbconvert_exporter": "python",
   "pygments_lexer": "ipython3",
   "version": "3.9.13"
  },
  "toc": {
   "base_numbering": 1,
   "nav_menu": {},
   "number_sections": true,
   "sideBar": true,
   "skip_h1_title": true,
   "title_cell": "Table of Contents",
   "title_sidebar": "Contents",
   "toc_cell": false,
   "toc_position": {},
   "toc_section_display": true,
   "toc_window_display": false
  }
 },
 "nbformat": 4,
 "nbformat_minor": 5
}
