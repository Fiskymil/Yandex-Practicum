{
 "cells": [
  {
   "cell_type": "markdown",
   "metadata": {
    "id": "E0vqbgi9ay0H"
   },
   "source": [
    "# Исследование данных сервиса “Яндекс.Музыка” — сравнение пользователей двух городов\n"
   ]
  },
  {
   "cell_type": "markdown",
   "metadata": {
    "id": "VUC88oWjTJw2"
   },
   "source": [
    "Сравнение Москвы и Петербурга окружено мифами. Например:\n",
    " * Москва — мегаполис, подчинённый жёсткому ритму рабочей недели;\n",
    " * Петербург — культурная столица, со своими вкусами.\n",
    "\n",
    "На данных Яндекс.Музыки необходимо сравнить поведение пользователей двух столиц.\n",
    "\n",
    "**Цель исследования** — проверить три гипотезы:\n",
    "1. Активность пользователей зависит от дня недели. Причём в Москве и Петербурге это проявляется по-разному.\n",
    "2. В понедельник утром в Москве преобладают одни жанры, а в Петербурге — другие. Так же и вечером пятницы преобладают разные жанры — в зависимости от города. \n",
    "3. Москва и Петербург предпочитают разные жанры музыки. В Москве чаще слушают поп-музыку, в Петербурге — русский рэп.\n",
    "\n",
    "Данные о поведении пользователей содержатся в файле `yandex_music_project.csv`. О качестве данных ничего не известно.\n",
    "\n",
    "**Ход исследования**\n",
    "\n",
    " 1. Обзор данных.\n",
    " 2. Предобработка данных.\n",
    " 3. Проверка гипотез.\n",
    "\n"
   ]
  },
  {
   "cell_type": "markdown",
   "metadata": {
    "id": "Ml1hmfXC_Zcs"
   },
   "source": [
    "## Обзор данных\n",
    "\n",
    "Составим первое представление о данных Яндекс.Музыки.\n",
    "\n",
    "\n"
   ]
  },
  {
   "cell_type": "code",
   "execution_count": 1,
   "metadata": {
    "id": "AXN7PHPN_Zcs"
   },
   "outputs": [],
   "source": [
    "import pandas as pd"
   ]
  },
  {
   "cell_type": "code",
   "execution_count": 2,
   "metadata": {
    "id": "fFVu7vqh_Zct"
   },
   "outputs": [],
   "source": [
    "path = '/datasets/yandex_music_project.csv'\n",
    "\n",
    "df = pd.read_csv(path)"
   ]
  },
  {
   "cell_type": "code",
   "execution_count": 3,
   "metadata": {
    "id": "oWTVX3gW_Zct"
   },
   "outputs": [
    {
     "data": {
      "text/html": [
       "<div>\n",
       "<style scoped>\n",
       "    .dataframe tbody tr th:only-of-type {\n",
       "        vertical-align: middle;\n",
       "    }\n",
       "\n",
       "    .dataframe tbody tr th {\n",
       "        vertical-align: top;\n",
       "    }\n",
       "\n",
       "    .dataframe thead th {\n",
       "        text-align: right;\n",
       "    }\n",
       "</style>\n",
       "<table border=\"1\" class=\"dataframe\">\n",
       "  <thead>\n",
       "    <tr style=\"text-align: right;\">\n",
       "      <th></th>\n",
       "      <th>userID</th>\n",
       "      <th>Track</th>\n",
       "      <th>artist</th>\n",
       "      <th>genre</th>\n",
       "      <th>City</th>\n",
       "      <th>time</th>\n",
       "      <th>Day</th>\n",
       "    </tr>\n",
       "  </thead>\n",
       "  <tbody>\n",
       "    <tr>\n",
       "      <th>0</th>\n",
       "      <td>FFB692EC</td>\n",
       "      <td>Kamigata To Boots</td>\n",
       "      <td>The Mass Missile</td>\n",
       "      <td>rock</td>\n",
       "      <td>Saint-Petersburg</td>\n",
       "      <td>20:28:33</td>\n",
       "      <td>Wednesday</td>\n",
       "    </tr>\n",
       "    <tr>\n",
       "      <th>1</th>\n",
       "      <td>55204538</td>\n",
       "      <td>Delayed Because of Accident</td>\n",
       "      <td>Andreas Rönnberg</td>\n",
       "      <td>rock</td>\n",
       "      <td>Moscow</td>\n",
       "      <td>14:07:09</td>\n",
       "      <td>Friday</td>\n",
       "    </tr>\n",
       "    <tr>\n",
       "      <th>2</th>\n",
       "      <td>20EC38</td>\n",
       "      <td>Funiculì funiculà</td>\n",
       "      <td>Mario Lanza</td>\n",
       "      <td>pop</td>\n",
       "      <td>Saint-Petersburg</td>\n",
       "      <td>20:58:07</td>\n",
       "      <td>Wednesday</td>\n",
       "    </tr>\n",
       "    <tr>\n",
       "      <th>3</th>\n",
       "      <td>A3DD03C9</td>\n",
       "      <td>Dragons in the Sunset</td>\n",
       "      <td>Fire + Ice</td>\n",
       "      <td>folk</td>\n",
       "      <td>Saint-Petersburg</td>\n",
       "      <td>08:37:09</td>\n",
       "      <td>Monday</td>\n",
       "    </tr>\n",
       "    <tr>\n",
       "      <th>4</th>\n",
       "      <td>E2DC1FAE</td>\n",
       "      <td>Soul People</td>\n",
       "      <td>Space Echo</td>\n",
       "      <td>dance</td>\n",
       "      <td>Moscow</td>\n",
       "      <td>08:34:34</td>\n",
       "      <td>Monday</td>\n",
       "    </tr>\n",
       "    <tr>\n",
       "      <th>5</th>\n",
       "      <td>842029A1</td>\n",
       "      <td>Преданная</td>\n",
       "      <td>IMPERVTOR</td>\n",
       "      <td>rusrap</td>\n",
       "      <td>Saint-Petersburg</td>\n",
       "      <td>13:09:41</td>\n",
       "      <td>Friday</td>\n",
       "    </tr>\n",
       "    <tr>\n",
       "      <th>6</th>\n",
       "      <td>4CB90AA5</td>\n",
       "      <td>True</td>\n",
       "      <td>Roman Messer</td>\n",
       "      <td>dance</td>\n",
       "      <td>Moscow</td>\n",
       "      <td>13:00:07</td>\n",
       "      <td>Wednesday</td>\n",
       "    </tr>\n",
       "    <tr>\n",
       "      <th>7</th>\n",
       "      <td>F03E1C1F</td>\n",
       "      <td>Feeling This Way</td>\n",
       "      <td>Polina Griffith</td>\n",
       "      <td>dance</td>\n",
       "      <td>Moscow</td>\n",
       "      <td>20:47:49</td>\n",
       "      <td>Wednesday</td>\n",
       "    </tr>\n",
       "    <tr>\n",
       "      <th>8</th>\n",
       "      <td>8FA1D3BE</td>\n",
       "      <td>И вновь продолжается бой</td>\n",
       "      <td>NaN</td>\n",
       "      <td>ruspop</td>\n",
       "      <td>Moscow</td>\n",
       "      <td>09:17:40</td>\n",
       "      <td>Friday</td>\n",
       "    </tr>\n",
       "    <tr>\n",
       "      <th>9</th>\n",
       "      <td>E772D5C0</td>\n",
       "      <td>Pessimist</td>\n",
       "      <td>NaN</td>\n",
       "      <td>dance</td>\n",
       "      <td>Saint-Petersburg</td>\n",
       "      <td>21:20:49</td>\n",
       "      <td>Wednesday</td>\n",
       "    </tr>\n",
       "  </tbody>\n",
       "</table>\n",
       "</div>"
      ],
      "text/plain": [
       "     userID                        Track            artist   genre  \\\n",
       "0  FFB692EC            Kamigata To Boots  The Mass Missile    rock   \n",
       "1  55204538  Delayed Because of Accident  Andreas Rönnberg    rock   \n",
       "2    20EC38            Funiculì funiculà       Mario Lanza     pop   \n",
       "3  A3DD03C9        Dragons in the Sunset        Fire + Ice    folk   \n",
       "4  E2DC1FAE                  Soul People        Space Echo   dance   \n",
       "5  842029A1                    Преданная         IMPERVTOR  rusrap   \n",
       "6  4CB90AA5                         True      Roman Messer   dance   \n",
       "7  F03E1C1F             Feeling This Way   Polina Griffith   dance   \n",
       "8  8FA1D3BE     И вновь продолжается бой               NaN  ruspop   \n",
       "9  E772D5C0                    Pessimist               NaN   dance   \n",
       "\n",
       "             City        time        Day  \n",
       "0  Saint-Petersburg  20:28:33  Wednesday  \n",
       "1            Moscow  14:07:09     Friday  \n",
       "2  Saint-Petersburg  20:58:07  Wednesday  \n",
       "3  Saint-Petersburg  08:37:09     Monday  \n",
       "4            Moscow  08:34:34     Monday  \n",
       "5  Saint-Petersburg  13:09:41     Friday  \n",
       "6            Moscow  13:00:07  Wednesday  \n",
       "7            Moscow  20:47:49  Wednesday  \n",
       "8            Moscow  09:17:40     Friday  \n",
       "9  Saint-Petersburg  21:20:49  Wednesday  "
      ]
     },
     "execution_count": 3,
     "metadata": {},
     "output_type": "execute_result"
    }
   ],
   "source": [
    "df.head(10)"
   ]
  },
  {
   "cell_type": "code",
   "execution_count": 4,
   "metadata": {
    "id": "DSf2kIb-_Zct",
    "scrolled": true
   },
   "outputs": [
    {
     "name": "stdout",
     "output_type": "stream",
     "text": [
      "<class 'pandas.core.frame.DataFrame'>\n",
      "RangeIndex: 65079 entries, 0 to 65078\n",
      "Data columns (total 7 columns):\n",
      " #   Column    Non-Null Count  Dtype \n",
      "---  ------    --------------  ----- \n",
      " 0     userID  65079 non-null  object\n",
      " 1   Track     63848 non-null  object\n",
      " 2   artist    57876 non-null  object\n",
      " 3   genre     63881 non-null  object\n",
      " 4     City    65079 non-null  object\n",
      " 5   time      65079 non-null  object\n",
      " 6   Day       65079 non-null  object\n",
      "dtypes: object(7)\n",
      "memory usage: 3.5+ MB\n"
     ]
    }
   ],
   "source": [
    "df.info()"
   ]
  },
  {
   "cell_type": "markdown",
   "metadata": {
    "id": "TaQ2Iwbr_Zct"
   },
   "source": [
    "Итак, в таблице семь столбцов. Тип данных во всех столбцах — `object`.\n",
    "\n",
    "Согласно документации к данным:\n",
    "* `userID` — идентификатор пользователя;\n",
    "* `Track` — название трека;  \n",
    "* `artist` — имя исполнителя;\n",
    "* `genre` — название жанра;\n",
    "* `City` — город пользователя;\n",
    "* `time` — время начала прослушивания;\n",
    "* `Day` — день недели.\n",
    "\n",
    "В названиях колонок видны три нарушения стиля:\n",
    "1. Строчные буквы сочетаются с прописными.\n",
    "2. Встречаются пробелы.\n",
    "3. Найдите ещё одну проблему в названии колонок и опишите её в этом пункте.\n",
    "\n",
    "\n",
    "\n",
    "Количество значений в столбцах различается. Значит, в данных есть пропущенные значения.\n"
   ]
  },
  {
   "cell_type": "markdown",
   "metadata": {
    "id": "MCB6-dXG_Zct"
   },
   "source": [
    "**Выводы**\n",
    "\n",
    "В каждой строке таблицы — данные о прослушанном треке. Часть колонок описывает саму композицию: название, исполнителя и жанр. Остальные данные рассказывают о пользователе: из какого он города, когда он слушал музыку. \n",
    "\n",
    "Предварительно можно утверждать, что, данных достаточно для проверки гипотез. Но встречаются пропуски в данных, а в названиях колонок — расхождения с хорошим стилем.\n",
    "\n",
    "Чтобы двигаться дальше, нужно устранить проблемы в данных."
   ]
  },
  {
   "cell_type": "markdown",
   "metadata": {
    "id": "SjYF6Ub9_Zct"
   },
   "source": [
    "## Предобработка данных\n",
    "Исправим стиль в заголовках столбцов, исключим пропуски. Затем проверим данные на дубликаты."
   ]
  },
  {
   "cell_type": "markdown",
   "metadata": {
    "id": "dIaKXr29_Zct"
   },
   "source": [
    "### Стиль заголовков\n"
   ]
  },
  {
   "cell_type": "code",
   "execution_count": 5,
   "metadata": {
    "id": "oKOTdF_Q_Zct"
   },
   "outputs": [
    {
     "data": {
      "text/plain": [
       "Index(['  userID', 'Track', 'artist', 'genre', '  City  ', 'time', 'Day'], dtype='object')"
      ]
     },
     "execution_count": 5,
     "metadata": {},
     "output_type": "execute_result"
    }
   ],
   "source": [
    "df.columns"
   ]
  },
  {
   "cell_type": "markdown",
   "metadata": {
    "id": "zj5534cv_Zct"
   },
   "source": [
    "Приведем названия в соответствие с хорошим стилем:\n",
    "* несколько слов в названии запишем в «змеином_регистре»,\n",
    "* все символы сделаем строчными,\n",
    "* устраним пробелы.\n",
    "\n"
   ]
  },
  {
   "cell_type": "code",
   "execution_count": 6,
   "metadata": {
    "id": "ISlFqs5y_Zct"
   },
   "outputs": [],
   "source": [
    "df = df.rename(\n",
    "    columns={\n",
    "        '  userID':'user_id',\n",
    "        'Track': 'track',\n",
    "        '  City  ': 'city',\n",
    "        'Day': 'day'}\n",
    ")"
   ]
  },
  {
   "cell_type": "markdown",
   "metadata": {
    "id": "1dqbh00J_Zct"
   },
   "source": [
    "Проверьте результат. Для этого ещё раз выведите на экран названия столбцов:"
   ]
  },
  {
   "cell_type": "code",
   "execution_count": 7,
   "metadata": {
    "id": "d4NOAmTW_Zct"
   },
   "outputs": [
    {
     "data": {
      "text/plain": [
       "Index(['user_id', 'track', 'artist', 'genre', 'city', 'time', 'day'], dtype='object')"
      ]
     },
     "execution_count": 7,
     "metadata": {},
     "output_type": "execute_result"
    }
   ],
   "source": [
    "df.columns"
   ]
  },
  {
   "cell_type": "markdown",
   "metadata": {
    "id": "5ISfbcfY_Zct"
   },
   "source": [
    "### Пропуски значений\n",
    "Посчитаем, сколько в таблице пропущенных значений."
   ]
  },
  {
   "cell_type": "code",
   "execution_count": 8,
   "metadata": {
    "id": "RskX29qr_Zct"
   },
   "outputs": [
    {
     "data": {
      "text/plain": [
       "user_id       0\n",
       "track      1231\n",
       "artist     7203\n",
       "genre      1198\n",
       "city          0\n",
       "time          0\n",
       "day           0\n",
       "dtype: int64"
      ]
     },
     "execution_count": 8,
     "metadata": {},
     "output_type": "execute_result"
    }
   ],
   "source": [
    "df.isna().sum()"
   ]
  },
  {
   "cell_type": "markdown",
   "metadata": {
    "id": "qubhgnlO_Zct"
   },
   "source": [
    "Не все пропущенные значения влияют на исследование. Так в `track` и `artist` пропуски не важны для вашей работы. Достаточно заменить их явными обозначениями.\n",
    "\n",
    "Но пропуски в `genre` могут помешать сравнению музыкальных вкусов в Москве и Санкт-Петербурге. На практике было бы правильно установить причину пропусков и восстановить данные. Такой возможности нет в учебном проекте. Придётся:\n",
    "* заполнить и эти пропуски явными обозначениями,\n",
    "* оценить, насколько они повредят расчётам. "
   ]
  },
  {
   "cell_type": "markdown",
   "metadata": {
    "id": "fSv2laPA_Zct"
   },
   "source": [
    "Заменим пропущенные значения в столбцах `track`, `artist` и `genre` на строку `'unknown'`. Для этого создадим список `columns_to_replace`, переберем его элементы циклом и для каждого столбца выполним замену пропущенных значений:"
   ]
  },
  {
   "cell_type": "code",
   "execution_count": 9,
   "metadata": {
    "id": "KplB5qWs_Zct"
   },
   "outputs": [],
   "source": [
    "# перебор названий столбцов в цикле и замена пропущенных значений на 'unknown'\n",
    "columns_to_replace = ['track', 'artist', 'genre']\n",
    "\n",
    "for col in columns_to_replace:\n",
    "    df[col] = df[col].fillna('unknown')"
   ]
  },
  {
   "cell_type": "code",
   "execution_count": 10,
   "metadata": {
    "id": "Tq4nYRX4_Zct"
   },
   "outputs": [
    {
     "data": {
      "text/plain": [
       "user_id    0\n",
       "track      0\n",
       "artist     0\n",
       "genre      0\n",
       "city       0\n",
       "time       0\n",
       "day        0\n",
       "dtype: int64"
      ]
     },
     "execution_count": 10,
     "metadata": {},
     "output_type": "execute_result"
    }
   ],
   "source": [
    "df.isna().sum()"
   ]
  },
  {
   "cell_type": "markdown",
   "metadata": {
    "id": "BWKRtBJ3_Zct"
   },
   "source": [
    "### Дубликаты\n",
    "Посчитаем явные дубликаты в таблице:"
   ]
  },
  {
   "cell_type": "code",
   "execution_count": 11,
   "metadata": {
    "id": "36eES_S0_Zct"
   },
   "outputs": [
    {
     "data": {
      "text/plain": [
       "3826"
      ]
     },
     "execution_count": 11,
     "metadata": {},
     "output_type": "execute_result"
    }
   ],
   "source": [
    "df.duplicated().sum()"
   ]
  },
  {
   "cell_type": "code",
   "execution_count": 12,
   "metadata": {
    "id": "exFHq6tt_Zct"
   },
   "outputs": [],
   "source": [
    "# удаление явных дубликатов (с удалением старых индексов и формированием новых)\n",
    "df = df.drop_duplicates().reset_index(drop=True)"
   ]
  },
  {
   "cell_type": "code",
   "execution_count": 13,
   "metadata": {
    "id": "-8PuNWQ0_Zct"
   },
   "outputs": [
    {
     "data": {
      "text/plain": [
       "0"
      ]
     },
     "execution_count": 13,
     "metadata": {},
     "output_type": "execute_result"
    }
   ],
   "source": [
    "# проверка на отсутствие дубликатов\n",
    "df.duplicated().sum()"
   ]
  },
  {
   "cell_type": "markdown",
   "metadata": {
    "id": "QlFBsxAr_Zct"
   },
   "source": [
    "Избавимся от неявных дубликатов в колонке `genre`. Например, название одного и того же жанра может быть записано немного по-разному. Такие ошибки тоже повлияют на результат исследования."
   ]
  },
  {
   "cell_type": "code",
   "execution_count": 14,
   "metadata": {
    "id": "JIUcqzZN_Zct"
   },
   "outputs": [
    {
     "data": {
      "text/plain": [
       "array(['acid', 'acoustic', 'action', 'adult', 'africa', 'afrikaans',\n",
       "       'alternative', 'alternativepunk', 'ambient', 'americana',\n",
       "       'animated', 'anime', 'arabesk', 'arabic', 'arena',\n",
       "       'argentinetango', 'art', 'audiobook', 'author', 'avantgarde',\n",
       "       'axé', 'baile', 'balkan', 'beats', 'bigroom', 'black', 'bluegrass',\n",
       "       'blues', 'bollywood', 'bossa', 'brazilian', 'breakbeat', 'breaks',\n",
       "       'broadway', 'cantautori', 'cantopop', 'canzone', 'caribbean',\n",
       "       'caucasian', 'celtic', 'chamber', 'chanson', 'children', 'chill',\n",
       "       'chinese', 'choral', 'christian', 'christmas', 'classical',\n",
       "       'classicmetal', 'club', 'colombian', 'comedy', 'conjazz',\n",
       "       'contemporary', 'country', 'cuban', 'dance', 'dancehall',\n",
       "       'dancepop', 'dark', 'death', 'deep', 'deutschrock', 'deutschspr',\n",
       "       'dirty', 'disco', 'dnb', 'documentary', 'downbeat', 'downtempo',\n",
       "       'drum', 'dub', 'dubstep', 'eastern', 'easy', 'electronic',\n",
       "       'electropop', 'emo', 'entehno', 'epicmetal', 'estrada', 'ethnic',\n",
       "       'eurofolk', 'european', 'experimental', 'extrememetal', 'fado',\n",
       "       'fairytail', 'film', 'fitness', 'flamenco', 'folk', 'folklore',\n",
       "       'folkmetal', 'folkrock', 'folktronica', 'forró', 'frankreich',\n",
       "       'französisch', 'french', 'funk', 'future', 'gangsta', 'garage',\n",
       "       'german', 'ghazal', 'gitarre', 'glitch', 'gospel', 'gothic',\n",
       "       'grime', 'grunge', 'gypsy', 'handsup', \"hard'n'heavy\", 'hardcore',\n",
       "       'hardstyle', 'hardtechno', 'hip', 'hip-hop', 'hiphop',\n",
       "       'historisch', 'holiday', 'hop', 'horror', 'house', 'hymn', 'idm',\n",
       "       'independent', 'indian', 'indie', 'indipop', 'industrial',\n",
       "       'inspirational', 'instrumental', 'international', 'irish', 'jam',\n",
       "       'japanese', 'jazz', 'jewish', 'jpop', 'jungle', 'k-pop',\n",
       "       'karadeniz', 'karaoke', 'kayokyoku', 'korean', 'laiko', 'latin',\n",
       "       'latino', 'leftfield', 'local', 'lounge', 'loungeelectronic',\n",
       "       'lovers', 'malaysian', 'mandopop', 'marschmusik', 'meditative',\n",
       "       'mediterranean', 'melodic', 'metal', 'metalcore', 'mexican',\n",
       "       'middle', 'minimal', 'miscellaneous', 'modern', 'mood', 'mpb',\n",
       "       'muslim', 'native', 'neoklassik', 'neue', 'new', 'newage',\n",
       "       'newwave', 'nu', 'nujazz', 'numetal', 'oceania', 'old', 'opera',\n",
       "       'orchestral', 'other', 'piano', 'podcasts', 'pop', 'popdance',\n",
       "       'popelectronic', 'popeurodance', 'poprussian', 'post',\n",
       "       'posthardcore', 'postrock', 'power', 'progmetal', 'progressive',\n",
       "       'psychedelic', 'punjabi', 'punk', 'quebecois', 'ragga', 'ram',\n",
       "       'rancheras', 'rap', 'rave', 'reggae', 'reggaeton', 'regional',\n",
       "       'relax', 'religious', 'retro', 'rhythm', 'rnb', 'rnr', 'rock',\n",
       "       'rockabilly', 'rockalternative', 'rockindie', 'rockother',\n",
       "       'romance', 'roots', 'ruspop', 'rusrap', 'rusrock', 'russian',\n",
       "       'salsa', 'samba', 'scenic', 'schlager', 'self', 'sertanejo',\n",
       "       'shanson', 'shoegazing', 'showtunes', 'singer', 'ska', 'skarock',\n",
       "       'slow', 'smooth', 'soft', 'soul', 'soulful', 'sound', 'soundtrack',\n",
       "       'southern', 'specialty', 'speech', 'spiritual', 'sport',\n",
       "       'stonerrock', 'surf', 'swing', 'synthpop', 'synthrock',\n",
       "       'sängerportrait', 'tango', 'tanzorchester', 'taraftar', 'tatar',\n",
       "       'tech', 'techno', 'teen', 'thrash', 'top', 'traditional',\n",
       "       'tradjazz', 'trance', 'tribal', 'trip', 'triphop', 'tropical',\n",
       "       'türk', 'türkçe', 'ukrrock', 'unknown', 'urban', 'uzbek',\n",
       "       'variété', 'vi', 'videogame', 'vocal', 'western', 'world',\n",
       "       'worldbeat', 'ïîï', 'электроника'], dtype=object)"
      ]
     },
     "execution_count": 14,
     "metadata": {},
     "output_type": "execute_result"
    }
   ],
   "source": [
    "# Просмотр уникальных названий жанров\n",
    "df.genre.sort_values().unique()"
   ]
  },
  {
   "cell_type": "code",
   "execution_count": 15,
   "metadata": {
    "id": "ErNDkmns_Zct"
   },
   "outputs": [],
   "source": [
    "# Функция для замены неявных дубликатов\n",
    "def replace_wrong_genres(wrong_genres, correct_genre):\n",
    "    df.genre = df.genre.replace(wrong_genres, correct_genre)"
   ]
  },
  {
   "cell_type": "code",
   "execution_count": 16,
   "metadata": {
    "id": "YN5i2hpmSo09"
   },
   "outputs": [],
   "source": [
    "# Устранение неявных дубликатов\n",
    "wrong = ['hip', 'hop', 'hip-hop']\n",
    "\n",
    "corr = ['hiphop', 'hiphop', 'hiphop']\n",
    "\n",
    "\n",
    "replace_wrong_genres(wrong, corr)"
   ]
  },
  {
   "cell_type": "markdown",
   "metadata": {
    "id": "zQKF16_RG15m"
   },
   "source": [
    "Проверьте, что заменили неправильные названия:\n",
    "\n",
    "*   hip\n",
    "*   hop\n",
    "*   hip-hop\n",
    "\n",
    "Выведем отсортированный список уникальных значений столбца `genre`:"
   ]
  },
  {
   "cell_type": "code",
   "execution_count": 17,
   "metadata": {
    "id": "wvixALnFG15m"
   },
   "outputs": [
    {
     "data": {
      "text/plain": [
       "array(['acid', 'acoustic', 'action', 'adult', 'africa', 'afrikaans',\n",
       "       'alternative', 'alternativepunk', 'ambient', 'americana',\n",
       "       'animated', 'anime', 'arabesk', 'arabic', 'arena',\n",
       "       'argentinetango', 'art', 'audiobook', 'author', 'avantgarde',\n",
       "       'axé', 'baile', 'balkan', 'beats', 'bigroom', 'black', 'bluegrass',\n",
       "       'blues', 'bollywood', 'bossa', 'brazilian', 'breakbeat', 'breaks',\n",
       "       'broadway', 'cantautori', 'cantopop', 'canzone', 'caribbean',\n",
       "       'caucasian', 'celtic', 'chamber', 'chanson', 'children', 'chill',\n",
       "       'chinese', 'choral', 'christian', 'christmas', 'classical',\n",
       "       'classicmetal', 'club', 'colombian', 'comedy', 'conjazz',\n",
       "       'contemporary', 'country', 'cuban', 'dance', 'dancehall',\n",
       "       'dancepop', 'dark', 'death', 'deep', 'deutschrock', 'deutschspr',\n",
       "       'dirty', 'disco', 'dnb', 'documentary', 'downbeat', 'downtempo',\n",
       "       'drum', 'dub', 'dubstep', 'eastern', 'easy', 'electronic',\n",
       "       'electropop', 'emo', 'entehno', 'epicmetal', 'estrada', 'ethnic',\n",
       "       'eurofolk', 'european', 'experimental', 'extrememetal', 'fado',\n",
       "       'fairytail', 'film', 'fitness', 'flamenco', 'folk', 'folklore',\n",
       "       'folkmetal', 'folkrock', 'folktronica', 'forró', 'frankreich',\n",
       "       'französisch', 'french', 'funk', 'future', 'gangsta', 'garage',\n",
       "       'german', 'ghazal', 'gitarre', 'glitch', 'gospel', 'gothic',\n",
       "       'grime', 'grunge', 'gypsy', 'handsup', \"hard'n'heavy\", 'hardcore',\n",
       "       'hardstyle', 'hardtechno', 'hiphop', 'historisch', 'holiday',\n",
       "       'horror', 'house', 'hymn', 'idm', 'independent', 'indian', 'indie',\n",
       "       'indipop', 'industrial', 'inspirational', 'instrumental',\n",
       "       'international', 'irish', 'jam', 'japanese', 'jazz', 'jewish',\n",
       "       'jpop', 'jungle', 'k-pop', 'karadeniz', 'karaoke', 'kayokyoku',\n",
       "       'korean', 'laiko', 'latin', 'latino', 'leftfield', 'local',\n",
       "       'lounge', 'loungeelectronic', 'lovers', 'malaysian', 'mandopop',\n",
       "       'marschmusik', 'meditative', 'mediterranean', 'melodic', 'metal',\n",
       "       'metalcore', 'mexican', 'middle', 'minimal', 'miscellaneous',\n",
       "       'modern', 'mood', 'mpb', 'muslim', 'native', 'neoklassik', 'neue',\n",
       "       'new', 'newage', 'newwave', 'nu', 'nujazz', 'numetal', 'oceania',\n",
       "       'old', 'opera', 'orchestral', 'other', 'piano', 'podcasts', 'pop',\n",
       "       'popdance', 'popelectronic', 'popeurodance', 'poprussian', 'post',\n",
       "       'posthardcore', 'postrock', 'power', 'progmetal', 'progressive',\n",
       "       'psychedelic', 'punjabi', 'punk', 'quebecois', 'ragga', 'ram',\n",
       "       'rancheras', 'rap', 'rave', 'reggae', 'reggaeton', 'regional',\n",
       "       'relax', 'religious', 'retro', 'rhythm', 'rnb', 'rnr', 'rock',\n",
       "       'rockabilly', 'rockalternative', 'rockindie', 'rockother',\n",
       "       'romance', 'roots', 'ruspop', 'rusrap', 'rusrock', 'russian',\n",
       "       'salsa', 'samba', 'scenic', 'schlager', 'self', 'sertanejo',\n",
       "       'shanson', 'shoegazing', 'showtunes', 'singer', 'ska', 'skarock',\n",
       "       'slow', 'smooth', 'soft', 'soul', 'soulful', 'sound', 'soundtrack',\n",
       "       'southern', 'specialty', 'speech', 'spiritual', 'sport',\n",
       "       'stonerrock', 'surf', 'swing', 'synthpop', 'synthrock',\n",
       "       'sängerportrait', 'tango', 'tanzorchester', 'taraftar', 'tatar',\n",
       "       'tech', 'techno', 'teen', 'thrash', 'top', 'traditional',\n",
       "       'tradjazz', 'trance', 'tribal', 'trip', 'triphop', 'tropical',\n",
       "       'türk', 'türkçe', 'ukrrock', 'unknown', 'urban', 'uzbek',\n",
       "       'variété', 'vi', 'videogame', 'vocal', 'western', 'world',\n",
       "       'worldbeat', 'ïîï', 'электроника'], dtype=object)"
      ]
     },
     "execution_count": 17,
     "metadata": {},
     "output_type": "execute_result"
    }
   ],
   "source": [
    "# Проверка на неявные дубликаты\n",
    "df.genre.sort_values().unique()"
   ]
  },
  {
   "cell_type": "markdown",
   "metadata": {
    "id": "jz6a9-7HQUDd"
   },
   "source": [
    "**Выводы**\n",
    "\n",
    "Предобработка обнаружила три проблемы в данных:\n",
    "\n",
    "- нарушения в стиле заголовков,\n",
    "- пропущенные значения,\n",
    "- дубликаты — явные и неявные.\n",
    "\n",
    "Исправили заголовки, чтобы упростить работу с таблицей. Без дубликатов исследование станет более точным.\n",
    "\n",
    "Пропущенные значения заменили на `'unknown'`. Ещё предстоит увидеть, не повредят ли исследованию пропуски в колонке `genre`.\n",
    "\n",
    "Теперь можно перейти к проверке гипотез. "
   ]
  },
  {
   "cell_type": "markdown",
   "metadata": {
    "id": "WttZHXH0SqKk"
   },
   "source": [
    "## Проверка гипотез"
   ]
  },
  {
   "cell_type": "markdown",
   "metadata": {
    "id": "Im936VVi_Zcu"
   },
   "source": [
    "### Сравнение поведения пользователей двух столиц"
   ]
  },
  {
   "cell_type": "markdown",
   "metadata": {
    "id": "nwt_MuaL_Zcu"
   },
   "source": [
    "Первая гипотеза утверждает, что пользователи по-разному слушают музыку в Москве и Санкт-Петербурге. Проверьте это предположение по данным о трёх днях недели — понедельнике, среде и пятнице. Для этого:\n",
    "\n",
    "* Разделим пользователей Москвы и Санкт-Петербурга\n",
    "* Сравним, сколько треков послушала каждая группа пользователей в понедельник, среду и пятницу.\n"
   ]
  },
  {
   "cell_type": "markdown",
   "metadata": {
    "id": "8Dw_YMmT_Zcu"
   },
   "source": [
    " \n",
    "\n",
    "Оценим активность пользователей в каждом городе. Сгруппируем данные по городу и посчитайте прослушивания в каждой группе.\n",
    "\n"
   ]
  },
  {
   "cell_type": "code",
   "execution_count": 18,
   "metadata": {
    "id": "0_Qs96oh_Zcu"
   },
   "outputs": [
    {
     "data": {
      "text/plain": [
       "city\n",
       "Moscow              42741\n",
       "Saint-Petersburg    18512\n",
       "Name: genre, dtype: int64"
      ]
     },
     "execution_count": 18,
     "metadata": {},
     "output_type": "execute_result"
    }
   ],
   "source": [
    "# Подсчёт прослушиваний в каждом городе\n",
    "df.groupby('city')['genre'].count()"
   ]
  },
  {
   "cell_type": "markdown",
   "metadata": {
    "id": "dzli3w8o_Zcu"
   },
   "source": [
    "В Москве прослушиваний больше, чем в Петербурге. Из этого не следует, что московские пользователи чаще слушают музыку. Просто самих пользователей в Москве больше.\n",
    "\n",
    "Теперь сгруппируем данные по дню недели и подсчитайте прослушивания в понедельник, среду и пятницу. Учтем, что в данных есть информация только о прослушиваниях только за эти дни.\n"
   ]
  },
  {
   "cell_type": "code",
   "execution_count": 19,
   "metadata": {
    "id": "uZMKjiJz_Zcu"
   },
   "outputs": [
    {
     "data": {
      "text/plain": [
       "day\n",
       "Friday       21840\n",
       "Monday       21354\n",
       "Wednesday    18059\n",
       "Name: genre, dtype: int64"
      ]
     },
     "execution_count": 19,
     "metadata": {},
     "output_type": "execute_result"
    }
   ],
   "source": [
    "# Подсчёт прослушиваний в каждый из трёх дней\n",
    "df.groupby('day')['genre'].count()"
   ]
  },
  {
   "cell_type": "code",
   "execution_count": 20,
   "metadata": {},
   "outputs": [
    {
     "data": {
      "text/html": [
       "<div>\n",
       "<style scoped>\n",
       "    .dataframe tbody tr th:only-of-type {\n",
       "        vertical-align: middle;\n",
       "    }\n",
       "\n",
       "    .dataframe tbody tr th {\n",
       "        vertical-align: top;\n",
       "    }\n",
       "\n",
       "    .dataframe thead th {\n",
       "        text-align: right;\n",
       "    }\n",
       "</style>\n",
       "<table border=\"1\" class=\"dataframe\">\n",
       "  <thead>\n",
       "    <tr style=\"text-align: right;\">\n",
       "      <th></th>\n",
       "      <th>user_id</th>\n",
       "    </tr>\n",
       "    <tr>\n",
       "      <th>day</th>\n",
       "      <th></th>\n",
       "    </tr>\n",
       "  </thead>\n",
       "  <tbody>\n",
       "    <tr>\n",
       "      <th>Friday</th>\n",
       "      <td>21840</td>\n",
       "    </tr>\n",
       "    <tr>\n",
       "      <th>Monday</th>\n",
       "      <td>21354</td>\n",
       "    </tr>\n",
       "    <tr>\n",
       "      <th>Wednesday</th>\n",
       "      <td>18059</td>\n",
       "    </tr>\n",
       "  </tbody>\n",
       "</table>\n",
       "</div>"
      ],
      "text/plain": [
       "           user_id\n",
       "day               \n",
       "Friday       21840\n",
       "Monday       21354\n",
       "Wednesday    18059"
      ]
     },
     "execution_count": 20,
     "metadata": {},
     "output_type": "execute_result"
    }
   ],
   "source": [
    "# КОД РЕВЬЮЕРА\n",
    "\n",
    "df.groupby('day')[['user_id']].count()"
   ]
  },
  {
   "cell_type": "markdown",
   "metadata": {
    "id": "cC2tNrlL_Zcu"
   },
   "source": [
    "В среднем пользователи из двух городов менее активны по средам. Но картина может измениться, если рассмотреть каждый город в отдельности."
   ]
  },
  {
   "cell_type": "markdown",
   "metadata": {
    "id": "POzs8bGa_Zcu"
   },
   "source": [
    "\n",
    "Создадим функцию `number_tracks()`, которая посчитает прослушивания для заданного дня и города. Ей понадобятся два параметра:\n",
    "* день недели,\n",
    "* название города.\n",
    "\n",
    "В функции сохраним в переменную строки исходной таблицы, у которых значение:\n",
    "  * в колонке `day` равно параметру `day`,\n",
    "  * в колонке `city` равно параметру `city`.\n",
    "\n",
    "Для этого применим последовательную фильтрацию с логической индексацией.\n",
    "\n",
    "Затем посчитаем значения в столбце `user_id` получившейся таблицы. Результат сохраним в новую переменную. Вернем эту переменную из функции."
   ]
  },
  {
   "cell_type": "code",
   "execution_count": 21,
   "metadata": {
    "id": "Nz3GdQB1_Zcu"
   },
   "outputs": [],
   "source": [
    "# <создание функции number_tracks()>\n",
    "# Объявляется функция с двумя параметрами: day, city.\n",
    "# В переменной track_list сохраняются те строки таблицы df, для которых \n",
    "# значение в столбце 'day' равно параметру day и одновременно значение\n",
    "# в столбце 'city' равно параметру city (используйте последовательную фильтрацию\n",
    "# с помощью логической индексации).\n",
    "# В переменной track_list_count сохраняется число значений столбца 'user_id',\n",
    "# рассчитанное методом count() для таблицы track_list.\n",
    "# Функция возвращает число - значение track_list_count.\n",
    "def number_tracks(day, city):\n",
    "    track_list = df[(df['day'] == day) & (df['city'] == city)]\n",
    "    track_list_count = track_list['user_id'].count()\n",
    "    return(track_list_count)\n",
    "\n",
    "# Функция для подсчёта прослушиваний для конкретного города и дня.\n",
    "# С помощью последовательной фильтрации с логической индексацией она \n",
    "# сначала получит из исходной таблицы строки с нужным днём,\n",
    "# затем из результата отфильтрует строки с нужным городом,\n",
    "# методом count() посчитает количество значений в колонке user_id. \n",
    "# Это количество функция вернёт в качестве результата"
   ]
  },
  {
   "cell_type": "code",
   "execution_count": 22,
   "metadata": {
    "id": "rJcRATNQ_Zcu"
   },
   "outputs": [
    {
     "name": "stdout",
     "output_type": "stream",
     "text": [
      "15740\n"
     ]
    }
   ],
   "source": [
    "# количество прослушиваний в Москве по понедельникам\n",
    "print(number_tracks('Monday', 'Moscow'))"
   ]
  },
  {
   "cell_type": "code",
   "execution_count": 23,
   "metadata": {
    "id": "hq_ncZ5T_Zcu"
   },
   "outputs": [
    {
     "name": "stdout",
     "output_type": "stream",
     "text": [
      "5614\n"
     ]
    }
   ],
   "source": [
    "# количество прослушиваний в Санкт-Петербурге по понедельникам\n",
    "print(number_tracks('Monday', 'Saint-Petersburg'))"
   ]
  },
  {
   "cell_type": "code",
   "execution_count": 24,
   "metadata": {
    "id": "_NTy2VPU_Zcu"
   },
   "outputs": [
    {
     "name": "stdout",
     "output_type": "stream",
     "text": [
      "11056\n"
     ]
    }
   ],
   "source": [
    "# количество прослушиваний в Москве по средам\n",
    "print(number_tracks('Wednesday', 'Moscow'))"
   ]
  },
  {
   "cell_type": "code",
   "execution_count": 25,
   "metadata": {
    "id": "j2y3TAwo_Zcu"
   },
   "outputs": [
    {
     "name": "stdout",
     "output_type": "stream",
     "text": [
      "7003\n"
     ]
    }
   ],
   "source": [
    "# количество прослушиваний в Санкт-Петербурге по средам\n",
    "print(number_tracks('Wednesday', 'Saint-Petersburg'))"
   ]
  },
  {
   "cell_type": "code",
   "execution_count": 26,
   "metadata": {
    "id": "vYDw5u_K_Zcu"
   },
   "outputs": [
    {
     "name": "stdout",
     "output_type": "stream",
     "text": [
      "15945\n"
     ]
    }
   ],
   "source": [
    "# количество прослушиваний в Москве по пятницам\n",
    "print(number_tracks('Friday', 'Moscow'))"
   ]
  },
  {
   "cell_type": "code",
   "execution_count": 27,
   "metadata": {
    "id": "8_yzFtW3_Zcu"
   },
   "outputs": [
    {
     "name": "stdout",
     "output_type": "stream",
     "text": [
      "5895\n"
     ]
    }
   ],
   "source": [
    "# количество прослушиваний в Санкт-Петербурге по пятницам\n",
    "print(number_tracks('Friday', 'Saint-Petersburg'))"
   ]
  },
  {
   "cell_type": "code",
   "execution_count": 28,
   "metadata": {
    "id": "APAcLpOr_Zcu"
   },
   "outputs": [
    {
     "data": {
      "text/html": [
       "<div>\n",
       "<style scoped>\n",
       "    .dataframe tbody tr th:only-of-type {\n",
       "        vertical-align: middle;\n",
       "    }\n",
       "\n",
       "    .dataframe tbody tr th {\n",
       "        vertical-align: top;\n",
       "    }\n",
       "\n",
       "    .dataframe thead th {\n",
       "        text-align: right;\n",
       "    }\n",
       "</style>\n",
       "<table border=\"1\" class=\"dataframe\">\n",
       "  <thead>\n",
       "    <tr style=\"text-align: right;\">\n",
       "      <th></th>\n",
       "      <th>city</th>\n",
       "      <th>monday</th>\n",
       "      <th>wednesday</th>\n",
       "      <th>friday</th>\n",
       "    </tr>\n",
       "  </thead>\n",
       "  <tbody>\n",
       "    <tr>\n",
       "      <th>0</th>\n",
       "      <td>Moscow</td>\n",
       "      <td>15740</td>\n",
       "      <td>11056</td>\n",
       "      <td>15945</td>\n",
       "    </tr>\n",
       "    <tr>\n",
       "      <th>1</th>\n",
       "      <td>Saint-Petersburg</td>\n",
       "      <td>5614</td>\n",
       "      <td>7003</td>\n",
       "      <td>5895</td>\n",
       "    </tr>\n",
       "  </tbody>\n",
       "</table>\n",
       "</div>"
      ],
      "text/plain": [
       "               city  monday  wednesday  friday\n",
       "0            Moscow   15740      11056   15945\n",
       "1  Saint-Petersburg    5614       7003    5895"
      ]
     },
     "execution_count": 28,
     "metadata": {},
     "output_type": "execute_result"
    }
   ],
   "source": [
    "# Таблица с результатами\n",
    "names = ['city', 'monday', 'wednesday', 'friday']\n",
    "data = [['Moscow', 15740, 11056, 15945],['Saint-Petersburg', 5614, 7003, 5895]]\n",
    "\n",
    "df_nt = pd.DataFrame(data = data, columns = names)\n",
    "df_nt"
   ]
  },
  {
   "cell_type": "markdown",
   "metadata": {
    "id": "-EgPIHYu_Zcu"
   },
   "source": [
    "**Выводы**\n",
    "\n",
    "Данные показывают разницу поведения пользователей:\n",
    "\n",
    "- В Москве пик прослушиваний приходится на понедельник и пятницу, а в среду заметен спад.\n",
    "- В Петербурге, наоборот, больше слушают музыку по средам. Активность в понедельник и пятницу здесь почти в равной мере уступает среде.\n",
    "\n",
    "Значит, данные говорят в пользу первой гипотезы."
   ]
  },
  {
   "cell_type": "markdown",
   "metadata": {
    "id": "atZAxtq4_Zcu"
   },
   "source": [
    "### Музыка в начале и в конце недели"
   ]
  },
  {
   "cell_type": "markdown",
   "metadata": {
    "id": "eXrQqXFH_Zcu"
   },
   "source": [
    "Согласно второй гипотезе, утром в понедельник в Москве преобладают одни жанры, а в Петербурге — другие. Так же и вечером пятницы преобладают разные жанры — в зависимости от города."
   ]
  },
  {
   "cell_type": "markdown",
   "metadata": {
    "id": "S8UcW6Hw_Zcu"
   },
   "source": [
    "Сохраним таблицы с данными в две переменные:\n",
    "* по Москве — в `moscow_general`;\n",
    "* по Санкт-Петербургу — в `spb_general`."
   ]
  },
  {
   "cell_type": "code",
   "execution_count": 29,
   "metadata": {
    "id": "qeaFfM_P_Zcu"
   },
   "outputs": [],
   "source": [
    "# получение таблицы moscow_general из тех строк таблицы df, \n",
    "# для которых значение в столбце 'city' равно 'Moscow'\n",
    "moscow_general = df[df.city == 'Moscow']"
   ]
  },
  {
   "cell_type": "code",
   "execution_count": 30,
   "metadata": {
    "id": "ORaVRKto_Zcu"
   },
   "outputs": [],
   "source": [
    "# получение таблицы spb_general из тех строк таблицы df,\n",
    "# для которых значение в столбце 'city' равно 'Saint-Petersburg'\n",
    "spb_general = df[df.city == 'Saint-Petersburg']"
   ]
  },
  {
   "cell_type": "markdown",
   "metadata": {
    "id": "MEJV-CX2_Zcu"
   },
   "source": [
    "Создадим функцию `genre_weekday()` с четырьмя параметрами:\n",
    "* таблица (датафрейм) с данными,\n",
    "* день недели,\n",
    "* начальная временная метка в формате 'hh:mm', \n",
    "* последняя временная метка в формате 'hh:mm'.\n",
    "\n",
    "Функция должна вернуть информацию о топ-10 жанров тех треков, которые прослушивали в указанный день, в промежутке между двумя отметками времени."
   ]
  },
  {
   "cell_type": "code",
   "execution_count": 31,
   "metadata": {
    "id": "laJT9BYl_Zcu"
   },
   "outputs": [],
   "source": [
    "# Объявление функции genre_weekday() с параметрами table, day, time1, time2,\n",
    "# которая возвращает информацию о самых популярных жанрах в указанный день в\n",
    "# заданное время:\n",
    "# 1) в переменную genre_df сохраняются те строки переданного датафрейма table, для\n",
    "#    которых одновременно:\n",
    "#    - значение в столбце day равно значению аргумента day\n",
    "#    - значение в столбце time больше значения аргумента time1\n",
    "#    - значение в столбце time меньше значения аргумента time2\n",
    "#    Используйте последовательную фильтрацию с помощью логической индексации.\n",
    "# 2) сгруппировать датафрейм genre_df по столбцу genre, взять один из его\n",
    "#    столбцов и посчитать методом count() количество записей для каждого из\n",
    "#    присутствующих жанров, получившийся Series записать в переменную\n",
    "#    genre_df_count\n",
    "# 3) отсортировать genre_df_count по убыванию встречаемости и сохранить\n",
    "#    в переменную genre_df_sorted\n",
    "# 4) вернуть Series из 10 первых значений genre_df_sorted, это будут топ-10\n",
    "#    популярных жанров (в указанный день, в заданное время)\n",
    "\n",
    "def genre_weekday(table, day, time1, time2):\n",
    "    genre_df = table[(table['day'] == day) & (table['time'] > time1) & (table['time'] < time2)]\n",
    "    genre_df_count = genre_df.groupby('genre')['day'].count()\n",
    "    genre_df_sorted = genre_df_count.sort_values(ascending = False)\n",
    "    return(genre_df_sorted.head(10))"
   ]
  },
  {
   "cell_type": "markdown",
   "metadata": {
    "id": "la2s2_PF_Zcu"
   },
   "source": [
    "Cравним результаты функции `genre_weekday()` для Москвы и Санкт-Петербурга в понедельник утром (с 7:00 до 11:00) и в пятницу вечером (с 17:00 до 23:00):"
   ]
  },
  {
   "cell_type": "code",
   "execution_count": 32,
   "metadata": {
    "id": "yz7itPUQ_Zcu"
   },
   "outputs": [
    {
     "data": {
      "text/plain": [
       "genre\n",
       "pop            781\n",
       "dance          549\n",
       "electronic     480\n",
       "rock           474\n",
       "hiphop         286\n",
       "ruspop         186\n",
       "world          181\n",
       "rusrap         175\n",
       "alternative    164\n",
       "unknown        161\n",
       "Name: day, dtype: int64"
      ]
     },
     "execution_count": 32,
     "metadata": {},
     "output_type": "execute_result"
    }
   ],
   "source": [
    "# вызов функции для утра понедельника в Москве (вместо df — таблица moscow_general)\n",
    "# объекты, хранящие время, являются строками и сравниваются как строки\n",
    "# пример вызова: genre_weekday(moscow_general, 'Monday', '07:00', '11:00')\n",
    "genre_weekday(moscow_general, 'Monday', '07:00', '11:00')"
   ]
  },
  {
   "cell_type": "code",
   "execution_count": 33,
   "metadata": {
    "id": "kwUcHPdy_Zcu"
   },
   "outputs": [
    {
     "data": {
      "text/plain": [
       "genre\n",
       "pop            218\n",
       "dance          182\n",
       "rock           162\n",
       "electronic     147\n",
       "hiphop          80\n",
       "ruspop          64\n",
       "alternative     58\n",
       "rusrap          55\n",
       "jazz            44\n",
       "classical       40\n",
       "Name: day, dtype: int64"
      ]
     },
     "execution_count": 33,
     "metadata": {},
     "output_type": "execute_result"
    }
   ],
   "source": [
    "# вызов функции для утра понедельника в Петербурге (вместо df — таблица spb_general)\n",
    "genre_weekday(spb_general, 'Monday', '07:00', '11:00')"
   ]
  },
  {
   "cell_type": "code",
   "execution_count": 34,
   "metadata": {
    "id": "EzXVRE1o_Zcu"
   },
   "outputs": [
    {
     "data": {
      "text/plain": [
       "genre\n",
       "pop            713\n",
       "rock           517\n",
       "dance          495\n",
       "electronic     482\n",
       "hiphop         273\n",
       "world          208\n",
       "ruspop         170\n",
       "alternative    163\n",
       "classical      163\n",
       "rusrap         142\n",
       "Name: day, dtype: int64"
      ]
     },
     "execution_count": 34,
     "metadata": {},
     "output_type": "execute_result"
    }
   ],
   "source": [
    "# вызов функции для вечера пятницы в Москве\n",
    "genre_weekday(moscow_general, 'Friday', '17:00', '23:00')"
   ]
  },
  {
   "cell_type": "code",
   "execution_count": 35,
   "metadata": {
    "id": "JZaEKu5v_Zcu"
   },
   "outputs": [
    {
     "data": {
      "text/plain": [
       "genre\n",
       "pop            256\n",
       "electronic     216\n",
       "rock           216\n",
       "dance          210\n",
       "hiphop          97\n",
       "alternative     63\n",
       "jazz            61\n",
       "classical       60\n",
       "rusrap          59\n",
       "world           54\n",
       "Name: day, dtype: int64"
      ]
     },
     "execution_count": 35,
     "metadata": {},
     "output_type": "execute_result"
    }
   ],
   "source": [
    "# вызов функции для вечера пятницы в Петербурге\n",
    "genre_weekday(spb_general, 'Friday', '17:00', '23:00')"
   ]
  },
  {
   "cell_type": "markdown",
   "metadata": {
    "id": "wrCe4MNX_Zcu"
   },
   "source": [
    "**Выводы**\n",
    "\n",
    "Если сравнить топ-10 жанров в понедельник утром, можно сделать такие выводы:\n",
    "\n",
    "1. В Москве и Петербурге слушают похожую музыку. Единственное отличие — в московский рейтинг вошёл жанр “world”, а в петербургский — джаз и классика.\n",
    "\n",
    "2. В Москве пропущенных значений оказалось так много, что значение `'unknown'` заняло десятое место среди самых популярных жанров. Значит, пропущенные значения занимают существенную долю в данных и угрожают достоверности исследования.\n",
    "\n",
    "Вечер пятницы не меняет эту картину. Некоторые жанры поднимаются немного выше, другие спускаются, но в целом топ-10 остаётся тем же самым.\n",
    "\n",
    "Таким образом, вторая гипотеза подтвердилась лишь частично:\n",
    "* Пользователи слушают похожую музыку в начале недели и в конце.\n",
    "* Разница между Москвой и Петербургом не слишком выражена. В Москве чаще слушают русскую популярную музыку, в Петербурге — джаз.\n",
    "\n",
    "Однако пропуски в данных ставят под сомнение этот результат. В Москве их так много, что рейтинг топ-10 мог бы выглядеть иначе, если бы не утерянные  данные о жанрах."
   ]
  },
  {
   "cell_type": "markdown",
   "metadata": {
    "id": "JolODAqr_Zcu"
   },
   "source": [
    "### Жанровые предпочтения в Москве и Петербурге\n",
    "\n",
    "Гипотеза: Петербург — столица рэпа, музыку этого жанра там слушают чаще, чем в Москве.  А Москва — город контрастов, в котором, тем не менее, преобладает поп-музыка."
   ]
  },
  {
   "cell_type": "markdown",
   "metadata": {
    "id": "DlegSvaT_Zcu"
   },
   "source": [
    "Сгруппируем таблицу `moscow_general` по жанру и посчитаем прослушивания треков каждого жанра методом `count()`. Затем отсортируем результат в порядке убывания и сохраните его в таблице `moscow_genres`."
   ]
  },
  {
   "cell_type": "code",
   "execution_count": 36,
   "metadata": {
    "id": "r19lIPke_Zcu"
   },
   "outputs": [],
   "source": [
    "# одной строкой: группировка таблицы moscow_general по столбцу 'genre', \n",
    "# подсчёт числа значений 'genre' в этой группировке методом count(), \n",
    "# сортировка получившегося Series в порядке убывания и сохранение в moscow_genres\n",
    "moscow_genres = moscow_general.groupby('genre')['genre'].count().sort_values(ascending = False)"
   ]
  },
  {
   "cell_type": "markdown",
   "metadata": {
    "id": "6kMuomxTiIr8"
   },
   "source": [
    "Выведите на экран первые десять строк `moscow_genres`:"
   ]
  },
  {
   "cell_type": "code",
   "execution_count": 37,
   "metadata": {
    "id": "WhCSooF8_Zcv"
   },
   "outputs": [
    {
     "data": {
      "text/plain": [
       "genre\n",
       "pop            5892\n",
       "dance          4435\n",
       "rock           3965\n",
       "electronic     3786\n",
       "hiphop         2096\n",
       "classical      1616\n",
       "world          1432\n",
       "alternative    1379\n",
       "ruspop         1372\n",
       "rusrap         1161\n",
       "Name: genre, dtype: int64"
      ]
     },
     "execution_count": 37,
     "metadata": {},
     "output_type": "execute_result"
    }
   ],
   "source": [
    "# просмотр первых 10 строк moscow_genres\n",
    "moscow_genres.head(10)"
   ]
  },
  {
   "cell_type": "code",
   "execution_count": 38,
   "metadata": {},
   "outputs": [
    {
     "data": {
      "text/html": [
       "<div>\n",
       "<style scoped>\n",
       "    .dataframe tbody tr th:only-of-type {\n",
       "        vertical-align: middle;\n",
       "    }\n",
       "\n",
       "    .dataframe tbody tr th {\n",
       "        vertical-align: top;\n",
       "    }\n",
       "\n",
       "    .dataframe thead th {\n",
       "        text-align: right;\n",
       "    }\n",
       "</style>\n",
       "<table border=\"1\" class=\"dataframe\">\n",
       "  <thead>\n",
       "    <tr style=\"text-align: right;\">\n",
       "      <th></th>\n",
       "      <th>genre</th>\n",
       "    </tr>\n",
       "    <tr>\n",
       "      <th>genre</th>\n",
       "      <th></th>\n",
       "    </tr>\n",
       "  </thead>\n",
       "  <tbody>\n",
       "    <tr>\n",
       "      <th>pop</th>\n",
       "      <td>5892</td>\n",
       "    </tr>\n",
       "    <tr>\n",
       "      <th>dance</th>\n",
       "      <td>4435</td>\n",
       "    </tr>\n",
       "    <tr>\n",
       "      <th>rock</th>\n",
       "      <td>3965</td>\n",
       "    </tr>\n",
       "    <tr>\n",
       "      <th>electronic</th>\n",
       "      <td>3786</td>\n",
       "    </tr>\n",
       "    <tr>\n",
       "      <th>hiphop</th>\n",
       "      <td>2096</td>\n",
       "    </tr>\n",
       "    <tr>\n",
       "      <th>classical</th>\n",
       "      <td>1616</td>\n",
       "    </tr>\n",
       "    <tr>\n",
       "      <th>world</th>\n",
       "      <td>1432</td>\n",
       "    </tr>\n",
       "    <tr>\n",
       "      <th>alternative</th>\n",
       "      <td>1379</td>\n",
       "    </tr>\n",
       "    <tr>\n",
       "      <th>ruspop</th>\n",
       "      <td>1372</td>\n",
       "    </tr>\n",
       "    <tr>\n",
       "      <th>rusrap</th>\n",
       "      <td>1161</td>\n",
       "    </tr>\n",
       "  </tbody>\n",
       "</table>\n",
       "</div>"
      ],
      "text/plain": [
       "             genre\n",
       "genre             \n",
       "pop           5892\n",
       "dance         4435\n",
       "rock          3965\n",
       "electronic    3786\n",
       "hiphop        2096\n",
       "classical     1616\n",
       "world         1432\n",
       "alternative   1379\n",
       "ruspop        1372\n",
       "rusrap        1161"
      ]
     },
     "execution_count": 38,
     "metadata": {},
     "output_type": "execute_result"
    }
   ],
   "source": [
    "# КОД РЕВЬЮЕРА\n",
    "\n",
    "moscow_genres.to_frame().head(10)"
   ]
  },
  {
   "cell_type": "markdown",
   "metadata": {
    "id": "cnPG2vnN_Zcv"
   },
   "source": [
    "Теперь повторим то же и для Петербурга.\n",
    "\n",
    "Сгруппируем таблицу `spb_general` по жанру. Посчитаем прослушивания треков каждого жанра. Результат отсортируем в порядке убывания и сохраним в таблице `spb_genres`:\n"
   ]
  },
  {
   "cell_type": "code",
   "execution_count": 39,
   "metadata": {
    "id": "gluLIpE7_Zcv"
   },
   "outputs": [],
   "source": [
    "# одной строкой: группировка таблицы spb_general по столбцу 'genre', \n",
    "# подсчёт числа значений 'genre' в этой группировке методом count(), \n",
    "# сортировка получившегося Series в порядке убывания и сохранение в spb_genres\n",
    "spb_genres = spb_general.groupby('genre')['genre'].count().sort_values(ascending = False)"
   ]
  },
  {
   "cell_type": "markdown",
   "metadata": {
    "id": "5Doha_ODgyQ8"
   },
   "source": [
    "Выведем на экран первые десять строк `spb_genres`:"
   ]
  },
  {
   "cell_type": "code",
   "execution_count": 40,
   "metadata": {
    "id": "uaGJHjVU_Zcv"
   },
   "outputs": [
    {
     "data": {
      "text/plain": [
       "genre\n",
       "pop            2431\n",
       "dance          1932\n",
       "rock           1879\n",
       "electronic     1736\n",
       "hiphop          960\n",
       "alternative     649\n",
       "classical       646\n",
       "rusrap          564\n",
       "ruspop          538\n",
       "world           515\n",
       "Name: genre, dtype: int64"
      ]
     },
     "execution_count": 40,
     "metadata": {},
     "output_type": "execute_result"
    }
   ],
   "source": [
    "# просмотр первых 10 строк spb_genres\n",
    "spb_genres.head(10)"
   ]
  },
  {
   "cell_type": "markdown",
   "metadata": {
    "id": "RY51YJYu_Zcv"
   },
   "source": [
    "**Выводы**"
   ]
  },
  {
   "cell_type": "markdown",
   "metadata": {
    "id": "nVhnJEm__Zcv"
   },
   "source": [
    "Гипотеза частично подтвердилась:\n",
    "* Поп-музыка — самый популярный жанр в Москве, как и предполагала гипотеза. Более того, в топ-10 жанров встречается близкий жанр — русская популярная музыка.\n",
    "* Вопреки ожиданиям, рэп одинаково популярен в Москве и Петербурге. \n"
   ]
  },
  {
   "cell_type": "markdown",
   "metadata": {
    "id": "ykKQ0N65_Zcv"
   },
   "source": [
    "## Итоги исследования"
   ]
  },
  {
   "cell_type": "markdown",
   "metadata": {
    "id": "tjUwbHb3_Zcv"
   },
   "source": [
    "Проверили три гипотезы и установили:\n",
    "\n",
    "1. День недели по-разному влияет на активность пользователей в Москве и Петербурге. \n",
    "\n",
    "Первая гипотеза полностью подтвердилась.\n",
    "\n",
    "2. Музыкальные предпочтения не сильно меняются в течение недели — будь то Москва или Петербург. Небольшие различия заметны в начале недели, по понедельникам:\n",
    "* в Москве слушают музыку жанра “world”,\n",
    "* в Петербурге — джаз и классику.\n",
    "\n",
    "Таким образом, вторая гипотеза подтвердилась лишь отчасти. Этот результат мог оказаться иным, если бы не пропуски в данных.\n",
    "\n",
    "3. Во вкусах пользователей Москвы и Петербурга больше общего чем различий. Вопреки ожиданиям, предпочтения жанров в Петербурге напоминают московские.\n",
    "\n",
    "Третья гипотеза не подтвердилась. Если различия в предпочтениях и существуют, на основной массе пользователей они незаметны.\n",
    "\n"
   ]
  },
  {
   "cell_type": "code",
   "execution_count": null,
   "metadata": {},
   "outputs": [],
   "source": []
  }
 ],
 "metadata": {
  "ExecuteTimeLog": [
   {
    "duration": 910,
    "start_time": "2022-02-20T08:19:49.121Z"
   },
   {
    "duration": 176,
    "start_time": "2022-02-20T08:21:20.008Z"
   },
   {
    "duration": 26,
    "start_time": "2022-02-20T08:21:40.447Z"
   },
   {
    "duration": 32,
    "start_time": "2022-02-20T08:22:02.352Z"
   },
   {
    "duration": 12,
    "start_time": "2022-02-20T08:22:05.332Z"
   },
   {
    "duration": 31,
    "start_time": "2022-02-20T08:22:08.590Z"
   },
   {
    "duration": 374,
    "start_time": "2022-02-20T08:22:15.442Z"
   },
   {
    "duration": 32,
    "start_time": "2022-02-20T08:22:20.884Z"
   },
   {
    "duration": 19,
    "start_time": "2022-02-20T08:22:26.501Z"
   },
   {
    "duration": 33,
    "start_time": "2022-02-20T08:22:29.364Z"
   },
   {
    "duration": 11,
    "start_time": "2022-02-20T08:22:36.805Z"
   },
   {
    "duration": 33,
    "start_time": "2022-02-20T08:22:40.733Z"
   },
   {
    "duration": 4,
    "start_time": "2022-02-20T08:23:13.086Z"
   },
   {
    "duration": 291,
    "start_time": "2022-02-20T08:23:20.366Z"
   },
   {
    "duration": 5,
    "start_time": "2022-02-20T08:23:24.164Z"
   },
   {
    "duration": 78,
    "start_time": "2022-02-20T08:24:31.932Z"
   },
   {
    "duration": 356,
    "start_time": "2022-02-20T08:24:43.032Z"
   },
   {
    "duration": 5,
    "start_time": "2022-02-20T08:24:47.556Z"
   },
   {
    "duration": 54,
    "start_time": "2022-02-20T08:24:55.979Z"
   },
   {
    "duration": 5,
    "start_time": "2022-02-20T08:24:57.255Z"
   },
   {
    "duration": 5,
    "start_time": "2022-02-20T08:25:13.858Z"
   },
   {
    "duration": 76,
    "start_time": "2022-02-20T08:25:22.216Z"
   },
   {
    "duration": 341,
    "start_time": "2022-02-20T08:25:22.901Z"
   },
   {
    "duration": 293,
    "start_time": "2022-02-20T08:25:25.885Z"
   },
   {
    "duration": 332,
    "start_time": "2022-02-20T08:25:30.025Z"
   },
   {
    "duration": 297,
    "start_time": "2022-02-20T08:25:32.146Z"
   },
   {
    "duration": 4,
    "start_time": "2022-02-20T08:30:52.189Z"
   },
   {
    "duration": 188,
    "start_time": "2022-02-20T08:30:52.238Z"
   },
   {
    "duration": 20,
    "start_time": "2022-02-20T08:30:52.429Z"
   },
   {
    "duration": 33,
    "start_time": "2022-02-20T08:30:52.452Z"
   },
   {
    "duration": 15,
    "start_time": "2022-02-20T08:30:52.488Z"
   },
   {
    "duration": 24,
    "start_time": "2022-02-20T08:31:49.318Z"
   },
   {
    "duration": 6,
    "start_time": "2022-02-20T08:31:53.945Z"
   },
   {
    "duration": 436,
    "start_time": "2022-02-20T08:33:52.060Z"
   },
   {
    "duration": 12,
    "start_time": "2022-02-20T08:33:55.227Z"
   },
   {
    "duration": 42,
    "start_time": "2022-02-20T08:33:56.975Z"
   },
   {
    "duration": 34,
    "start_time": "2022-02-20T08:34:01.649Z"
   },
   {
    "duration": 30,
    "start_time": "2022-02-20T08:34:12.707Z"
   },
   {
    "duration": 295,
    "start_time": "2022-02-20T08:37:42.227Z"
   },
   {
    "duration": 19,
    "start_time": "2022-02-20T08:37:56.562Z"
   },
   {
    "duration": 30,
    "start_time": "2022-02-20T08:38:08.312Z"
   },
   {
    "duration": 23,
    "start_time": "2022-02-20T08:38:43.316Z"
   },
   {
    "duration": 30,
    "start_time": "2022-02-20T08:38:44.271Z"
   },
   {
    "duration": 82,
    "start_time": "2022-02-20T08:38:59.656Z"
   },
   {
    "duration": 80,
    "start_time": "2022-02-20T08:39:10.525Z"
   },
   {
    "duration": 89,
    "start_time": "2022-02-20T08:39:36.941Z"
   },
   {
    "duration": 81,
    "start_time": "2022-02-20T08:39:44.250Z"
   },
   {
    "duration": 14,
    "start_time": "2022-02-20T08:40:12.221Z"
   },
   {
    "duration": 56,
    "start_time": "2022-02-20T08:41:20.619Z"
   },
   {
    "duration": 4,
    "start_time": "2022-02-20T08:43:25.858Z"
   },
   {
    "duration": 4,
    "start_time": "2022-02-20T08:45:49.873Z"
   },
   {
    "duration": 6,
    "start_time": "2022-02-20T08:45:53.917Z"
   },
   {
    "duration": 12,
    "start_time": "2022-02-20T08:46:14.037Z"
   },
   {
    "duration": 58,
    "start_time": "2022-02-20T08:46:37.776Z"
   },
   {
    "duration": 4,
    "start_time": "2022-02-20T08:47:01.618Z"
   },
   {
    "duration": 12,
    "start_time": "2022-02-20T08:47:02.681Z"
   },
   {
    "duration": 3,
    "start_time": "2022-02-20T08:47:09.170Z"
   },
   {
    "duration": 189,
    "start_time": "2022-02-20T08:47:09.176Z"
   },
   {
    "duration": 16,
    "start_time": "2022-02-20T08:47:09.368Z"
   },
   {
    "duration": 36,
    "start_time": "2022-02-20T08:47:09.387Z"
   },
   {
    "duration": 25,
    "start_time": "2022-02-20T08:47:09.426Z"
   },
   {
    "duration": 20,
    "start_time": "2022-02-20T08:47:09.454Z"
   },
   {
    "duration": 5,
    "start_time": "2022-02-20T08:47:09.477Z"
   },
   {
    "duration": 37,
    "start_time": "2022-02-20T08:47:09.485Z"
   },
   {
    "duration": 43,
    "start_time": "2022-02-20T08:47:09.526Z"
   },
   {
    "duration": 32,
    "start_time": "2022-02-20T08:47:09.572Z"
   },
   {
    "duration": 116,
    "start_time": "2022-02-20T08:47:09.606Z"
   },
   {
    "duration": 100,
    "start_time": "2022-02-20T08:47:09.724Z"
   },
   {
    "duration": 84,
    "start_time": "2022-02-20T08:47:09.827Z"
   },
   {
    "duration": 66,
    "start_time": "2022-02-20T08:47:09.913Z"
   },
   {
    "duration": 5,
    "start_time": "2022-02-20T08:47:09.982Z"
   },
   {
    "duration": 16,
    "start_time": "2022-02-20T08:47:09.990Z"
   },
   {
    "duration": 60,
    "start_time": "2022-02-20T08:47:19.135Z"
   },
   {
    "duration": 3,
    "start_time": "2022-02-20T08:47:33.216Z"
   },
   {
    "duration": 13,
    "start_time": "2022-02-20T08:47:33.885Z"
   },
   {
    "duration": 59,
    "start_time": "2022-02-20T08:47:35.314Z"
   },
   {
    "duration": 3,
    "start_time": "2022-02-20T08:47:43.128Z"
   },
   {
    "duration": 188,
    "start_time": "2022-02-20T08:47:43.135Z"
   },
   {
    "duration": 24,
    "start_time": "2022-02-20T08:47:43.325Z"
   },
   {
    "duration": 34,
    "start_time": "2022-02-20T08:47:43.352Z"
   },
   {
    "duration": 11,
    "start_time": "2022-02-20T08:47:43.389Z"
   },
   {
    "duration": 24,
    "start_time": "2022-02-20T08:47:43.402Z"
   },
   {
    "duration": 6,
    "start_time": "2022-02-20T08:47:43.449Z"
   },
   {
    "duration": 41,
    "start_time": "2022-02-20T08:47:43.457Z"
   },
   {
    "duration": 29,
    "start_time": "2022-02-20T08:47:43.500Z"
   },
   {
    "duration": 45,
    "start_time": "2022-02-20T08:47:43.534Z"
   },
   {
    "duration": 106,
    "start_time": "2022-02-20T08:47:43.582Z"
   },
   {
    "duration": 102,
    "start_time": "2022-02-20T08:47:43.691Z"
   },
   {
    "duration": 83,
    "start_time": "2022-02-20T08:47:43.796Z"
   },
   {
    "duration": 69,
    "start_time": "2022-02-20T08:47:43.882Z"
   },
   {
    "duration": 4,
    "start_time": "2022-02-20T08:47:43.953Z"
   },
   {
    "duration": 14,
    "start_time": "2022-02-20T08:47:43.959Z"
   },
   {
    "duration": 4,
    "start_time": "2022-02-20T08:48:03.600Z"
   },
   {
    "duration": 221,
    "start_time": "2022-02-20T08:48:03.607Z"
   },
   {
    "duration": 25,
    "start_time": "2022-02-20T08:48:03.833Z"
   },
   {
    "duration": 37,
    "start_time": "2022-02-20T08:48:03.861Z"
   },
   {
    "duration": 7,
    "start_time": "2022-02-20T08:48:03.900Z"
   },
   {
    "duration": 56,
    "start_time": "2022-02-20T08:48:03.911Z"
   },
   {
    "duration": 9,
    "start_time": "2022-02-20T08:48:03.970Z"
   },
   {
    "duration": 35,
    "start_time": "2022-02-20T08:48:03.982Z"
   },
   {
    "duration": 24,
    "start_time": "2022-02-20T08:48:04.048Z"
   },
   {
    "duration": 32,
    "start_time": "2022-02-20T08:48:04.075Z"
   },
   {
    "duration": 122,
    "start_time": "2022-02-20T08:48:04.109Z"
   },
   {
    "duration": 95,
    "start_time": "2022-02-20T08:48:04.233Z"
   },
   {
    "duration": 94,
    "start_time": "2022-02-20T08:48:04.330Z"
   },
   {
    "duration": 71,
    "start_time": "2022-02-20T08:48:04.427Z"
   },
   {
    "duration": 5,
    "start_time": "2022-02-20T08:48:04.501Z"
   },
   {
    "duration": 13,
    "start_time": "2022-02-20T08:48:13.582Z"
   },
   {
    "duration": 54,
    "start_time": "2022-02-20T08:48:16.400Z"
   },
   {
    "duration": 42,
    "start_time": "2022-02-20T08:53:36.168Z"
   },
   {
    "duration": 15,
    "start_time": "2022-02-20T08:55:52.298Z"
   },
   {
    "duration": 17,
    "start_time": "2022-02-20T08:56:25.101Z"
   },
   {
    "duration": 9,
    "start_time": "2022-02-20T08:56:36.794Z"
   },
   {
    "duration": 17,
    "start_time": "2022-02-20T08:57:08.192Z"
   },
   {
    "duration": 4,
    "start_time": "2022-02-20T09:05:24.831Z"
   },
   {
    "duration": 14,
    "start_time": "2022-02-20T09:08:24.076Z"
   },
   {
    "duration": 17,
    "start_time": "2022-02-20T09:08:38.176Z"
   },
   {
    "duration": 18,
    "start_time": "2022-02-20T09:08:47.476Z"
   },
   {
    "duration": 5,
    "start_time": "2022-02-20T09:09:51.515Z"
   },
   {
    "duration": 14,
    "start_time": "2022-02-20T09:09:54.756Z"
   },
   {
    "duration": 8444,
    "start_time": "2022-02-20T09:09:54.989Z"
   },
   {
    "duration": 20,
    "start_time": "2022-02-20T09:12:25.096Z"
   },
   {
    "duration": 7377,
    "start_time": "2022-02-20T09:12:32.481Z"
   },
   {
    "duration": 20,
    "start_time": "2022-02-20T09:12:46.104Z"
   },
   {
    "duration": 7507,
    "start_time": "2022-02-20T09:12:58.031Z"
   },
   {
    "duration": 18,
    "start_time": "2022-02-20T09:13:14.863Z"
   },
   {
    "duration": 7,
    "start_time": "2022-02-20T09:13:24.007Z"
   },
   {
    "duration": 298,
    "start_time": "2022-02-20T09:13:30.376Z"
   },
   {
    "duration": 20,
    "start_time": "2022-02-20T09:13:35.314Z"
   },
   {
    "duration": 317,
    "start_time": "2022-02-20T09:13:44.419Z"
   },
   {
    "duration": 6,
    "start_time": "2022-02-20T09:13:50.349Z"
   },
   {
    "duration": 4,
    "start_time": "2022-02-20T09:14:19.614Z"
   },
   {
    "duration": 179,
    "start_time": "2022-02-20T09:14:19.621Z"
   },
   {
    "duration": 16,
    "start_time": "2022-02-20T09:14:19.802Z"
   },
   {
    "duration": 52,
    "start_time": "2022-02-20T09:14:19.821Z"
   },
   {
    "duration": 15,
    "start_time": "2022-02-20T09:14:19.876Z"
   },
   {
    "duration": 29,
    "start_time": "2022-02-20T09:14:19.893Z"
   },
   {
    "duration": 6,
    "start_time": "2022-02-20T09:14:19.924Z"
   },
   {
    "duration": 43,
    "start_time": "2022-02-20T09:14:19.933Z"
   },
   {
    "duration": 22,
    "start_time": "2022-02-20T09:14:19.978Z"
   },
   {
    "duration": 52,
    "start_time": "2022-02-20T09:14:20.003Z"
   },
   {
    "duration": 95,
    "start_time": "2022-02-20T09:14:20.058Z"
   },
   {
    "duration": 106,
    "start_time": "2022-02-20T09:14:20.156Z"
   },
   {
    "duration": 85,
    "start_time": "2022-02-20T09:14:20.264Z"
   },
   {
    "duration": 57,
    "start_time": "2022-02-20T09:14:20.351Z"
   },
   {
    "duration": 3,
    "start_time": "2022-02-20T09:14:20.411Z"
   },
   {
    "duration": 36,
    "start_time": "2022-02-20T09:14:20.417Z"
   },
   {
    "duration": 90,
    "start_time": "2022-02-20T09:14:20.455Z"
   },
   {
    "duration": 18,
    "start_time": "2022-02-20T09:14:20.547Z"
   },
   {
    "duration": 21,
    "start_time": "2022-02-20T09:14:20.568Z"
   },
   {
    "duration": 19,
    "start_time": "2022-02-20T09:14:31.089Z"
   },
   {
    "duration": 19,
    "start_time": "2022-02-20T09:14:39.201Z"
   },
   {
    "duration": 18,
    "start_time": "2022-02-20T09:14:59.296Z"
   },
   {
    "duration": 18,
    "start_time": "2022-02-20T09:16:01.828Z"
   },
   {
    "duration": 20,
    "start_time": "2022-02-20T09:16:14.657Z"
   },
   {
    "duration": 21,
    "start_time": "2022-02-20T09:16:23.772Z"
   },
   {
    "duration": 15,
    "start_time": "2022-02-20T09:16:37.616Z"
   },
   {
    "duration": 17,
    "start_time": "2022-02-20T09:16:56.079Z"
   },
   {
    "duration": 4,
    "start_time": "2022-02-20T09:19:43.025Z"
   },
   {
    "duration": 6,
    "start_time": "2022-02-20T09:21:16.400Z"
   },
   {
    "duration": 13,
    "start_time": "2022-02-20T09:21:29.528Z"
   },
   {
    "duration": 15,
    "start_time": "2022-02-20T09:23:36.098Z"
   },
   {
    "duration": 15,
    "start_time": "2022-02-20T09:23:55.462Z"
   },
   {
    "duration": 6,
    "start_time": "2022-02-20T09:32:16.775Z"
   },
   {
    "duration": 8174,
    "start_time": "2022-02-20T09:32:43.143Z"
   },
   {
    "duration": 6,
    "start_time": "2022-02-20T09:35:34.001Z"
   },
   {
    "duration": 705,
    "start_time": "2022-02-20T09:35:38.296Z"
   },
   {
    "duration": 7,
    "start_time": "2022-02-20T09:35:46.637Z"
   },
   {
    "duration": 667,
    "start_time": "2022-02-20T09:35:47.596Z"
   },
   {
    "duration": 5,
    "start_time": "2022-02-20T09:36:03.102Z"
   },
   {
    "duration": 26,
    "start_time": "2022-02-20T09:36:03.912Z"
   },
   {
    "duration": 17,
    "start_time": "2022-02-20T09:36:56.944Z"
   },
   {
    "duration": 26,
    "start_time": "2022-02-20T09:37:43.595Z"
   },
   {
    "duration": 18,
    "start_time": "2022-02-20T09:38:01.276Z"
   },
   {
    "duration": 7,
    "start_time": "2022-02-20T09:41:25.424Z"
   },
   {
    "duration": 9,
    "start_time": "2022-02-20T09:42:42.097Z"
   },
   {
    "duration": 13,
    "start_time": "2022-02-20T09:42:45.837Z"
   },
   {
    "duration": 297,
    "start_time": "2022-02-20T09:43:11.322Z"
   },
   {
    "duration": 11,
    "start_time": "2022-02-20T09:43:15.726Z"
   },
   {
    "duration": 19,
    "start_time": "2022-02-20T09:43:30.789Z"
   },
   {
    "duration": 8,
    "start_time": "2022-02-20T09:44:12.573Z"
   },
   {
    "duration": 7,
    "start_time": "2022-02-20T09:44:20.579Z"
   },
   {
    "duration": 776,
    "start_time": "2022-02-20T09:46:14.258Z"
   },
   {
    "duration": 174,
    "start_time": "2022-02-20T09:46:15.037Z"
   },
   {
    "duration": 24,
    "start_time": "2022-02-20T09:46:15.214Z"
   },
   {
    "duration": 60,
    "start_time": "2022-02-20T09:46:15.240Z"
   },
   {
    "duration": 25,
    "start_time": "2022-02-20T09:46:15.303Z"
   },
   {
    "duration": 32,
    "start_time": "2022-02-20T09:46:15.331Z"
   },
   {
    "duration": 17,
    "start_time": "2022-02-20T09:46:15.366Z"
   },
   {
    "duration": 35,
    "start_time": "2022-02-20T09:46:15.389Z"
   },
   {
    "duration": 34,
    "start_time": "2022-02-20T09:46:15.427Z"
   },
   {
    "duration": 34,
    "start_time": "2022-02-20T09:46:15.464Z"
   },
   {
    "duration": 104,
    "start_time": "2022-02-20T09:46:15.500Z"
   },
   {
    "duration": 107,
    "start_time": "2022-02-20T09:46:15.606Z"
   },
   {
    "duration": 80,
    "start_time": "2022-02-20T09:46:15.716Z"
   },
   {
    "duration": 61,
    "start_time": "2022-02-20T09:46:15.799Z"
   },
   {
    "duration": 3,
    "start_time": "2022-02-20T09:46:15.863Z"
   },
   {
    "duration": 31,
    "start_time": "2022-02-20T09:46:15.868Z"
   },
   {
    "duration": 75,
    "start_time": "2022-02-20T09:46:15.902Z"
   },
   {
    "duration": 13,
    "start_time": "2022-02-20T09:46:15.980Z"
   },
   {
    "duration": 17,
    "start_time": "2022-02-20T09:46:15.996Z"
   },
   {
    "duration": 5,
    "start_time": "2022-02-20T09:46:16.015Z"
   },
   {
    "duration": 47,
    "start_time": "2022-02-20T09:46:16.022Z"
   },
   {
    "duration": 26,
    "start_time": "2022-02-20T09:46:16.071Z"
   },
   {
    "duration": 24,
    "start_time": "2022-02-20T09:46:16.102Z"
   },
   {
    "duration": 32,
    "start_time": "2022-02-20T09:46:16.129Z"
   },
   {
    "duration": 32,
    "start_time": "2022-02-20T09:46:16.163Z"
   },
   {
    "duration": 21,
    "start_time": "2022-02-20T09:46:16.197Z"
   },
   {
    "duration": 27,
    "start_time": "2022-02-20T09:46:16.220Z"
   },
   {
    "duration": 45,
    "start_time": "2022-02-20T09:46:16.249Z"
   },
   {
    "duration": 18,
    "start_time": "2022-02-20T09:46:16.297Z"
   },
   {
    "duration": 11,
    "start_time": "2022-02-20T09:46:16.318Z"
   },
   {
    "duration": 44,
    "start_time": "2022-02-20T09:46:16.331Z"
   },
   {
    "duration": 30,
    "start_time": "2022-02-20T09:46:16.377Z"
   },
   {
    "duration": 22,
    "start_time": "2022-02-20T09:46:16.409Z"
   },
   {
    "duration": 24,
    "start_time": "2022-02-20T09:46:16.433Z"
   },
   {
    "duration": 10,
    "start_time": "2022-02-20T09:46:16.459Z"
   },
   {
    "duration": 9,
    "start_time": "2022-02-20T09:46:16.471Z"
   },
   {
    "duration": 13,
    "start_time": "2022-02-20T09:46:16.482Z"
   },
   {
    "duration": 7,
    "start_time": "2022-02-20T09:46:16.497Z"
   },
   {
    "duration": 516,
    "start_time": "2022-03-01T16:12:26.471Z"
   },
   {
    "duration": 133,
    "start_time": "2022-03-01T16:12:26.989Z"
   },
   {
    "duration": 20,
    "start_time": "2022-03-01T16:12:27.124Z"
   },
   {
    "duration": 28,
    "start_time": "2022-03-01T16:12:27.146Z"
   },
   {
    "duration": 5,
    "start_time": "2022-03-01T16:12:27.176Z"
   },
   {
    "duration": 21,
    "start_time": "2022-03-01T16:12:27.182Z"
   },
   {
    "duration": 8,
    "start_time": "2022-03-01T16:12:27.205Z"
   },
   {
    "duration": 47,
    "start_time": "2022-03-01T16:12:27.215Z"
   },
   {
    "duration": 17,
    "start_time": "2022-03-01T16:12:27.264Z"
   },
   {
    "duration": 22,
    "start_time": "2022-03-01T16:12:27.282Z"
   },
   {
    "duration": 80,
    "start_time": "2022-03-01T16:12:27.306Z"
   },
   {
    "duration": 87,
    "start_time": "2022-03-01T16:12:27.388Z"
   },
   {
    "duration": 56,
    "start_time": "2022-03-01T16:12:27.477Z"
   },
   {
    "duration": 45,
    "start_time": "2022-03-01T16:12:27.534Z"
   },
   {
    "duration": 3,
    "start_time": "2022-03-01T16:12:27.581Z"
   },
   {
    "duration": 13,
    "start_time": "2022-03-01T16:12:27.586Z"
   },
   {
    "duration": 63,
    "start_time": "2022-03-01T16:12:27.600Z"
   },
   {
    "duration": 10,
    "start_time": "2022-03-01T16:12:27.665Z"
   },
   {
    "duration": 9,
    "start_time": "2022-03-01T16:12:27.676Z"
   },
   {
    "duration": 3,
    "start_time": "2022-03-01T16:12:27.687Z"
   },
   {
    "duration": 19,
    "start_time": "2022-03-01T16:12:27.692Z"
   },
   {
    "duration": 21,
    "start_time": "2022-03-01T16:12:27.733Z"
   },
   {
    "duration": 15,
    "start_time": "2022-03-01T16:12:27.757Z"
   },
   {
    "duration": 12,
    "start_time": "2022-03-01T16:12:27.774Z"
   },
   {
    "duration": 13,
    "start_time": "2022-03-01T16:12:27.788Z"
   },
   {
    "duration": 36,
    "start_time": "2022-03-01T16:12:27.803Z"
   },
   {
    "duration": 10,
    "start_time": "2022-03-01T16:12:27.841Z"
   },
   {
    "duration": 12,
    "start_time": "2022-03-01T16:12:27.853Z"
   },
   {
    "duration": 13,
    "start_time": "2022-03-01T16:12:27.866Z"
   },
   {
    "duration": 3,
    "start_time": "2022-03-01T16:12:27.881Z"
   },
   {
    "duration": 20,
    "start_time": "2022-03-01T16:12:27.886Z"
   },
   {
    "duration": 37,
    "start_time": "2022-03-01T16:12:27.908Z"
   },
   {
    "duration": 23,
    "start_time": "2022-03-01T16:12:27.946Z"
   },
   {
    "duration": 12,
    "start_time": "2022-03-01T16:12:27.971Z"
   },
   {
    "duration": 8,
    "start_time": "2022-03-01T16:12:27.984Z"
   },
   {
    "duration": 4,
    "start_time": "2022-03-01T16:12:27.993Z"
   },
   {
    "duration": 9,
    "start_time": "2022-03-01T16:12:27.999Z"
   },
   {
    "duration": 33,
    "start_time": "2022-03-01T16:12:28.010Z"
   },
   {
    "duration": 13,
    "start_time": "2022-03-01T16:15:27.853Z"
   },
   {
    "duration": 7,
    "start_time": "2022-03-01T16:16:32.785Z"
   },
   {
    "duration": 302,
    "start_time": "2022-03-02T06:57:53.309Z"
   },
   {
    "duration": 671,
    "start_time": "2022-03-02T06:58:01.754Z"
   },
   {
    "duration": 148,
    "start_time": "2022-03-02T06:58:02.426Z"
   },
   {
    "duration": 17,
    "start_time": "2022-03-02T06:58:02.576Z"
   },
   {
    "duration": 27,
    "start_time": "2022-03-02T06:58:02.595Z"
   },
   {
    "duration": 10,
    "start_time": "2022-03-02T06:58:05.117Z"
   },
   {
    "duration": 3,
    "start_time": "2022-03-02T07:13:53.158Z"
   },
   {
    "duration": 158,
    "start_time": "2022-03-02T07:13:53.163Z"
   },
   {
    "duration": 11,
    "start_time": "2022-03-02T07:13:53.323Z"
   },
   {
    "duration": 37,
    "start_time": "2022-03-02T07:13:53.336Z"
   },
   {
    "duration": 12,
    "start_time": "2022-03-02T07:13:53.375Z"
   },
   {
    "duration": 22,
    "start_time": "2022-03-02T07:13:53.389Z"
   },
   {
    "duration": 5,
    "start_time": "2022-03-02T07:13:53.413Z"
   },
   {
    "duration": 25,
    "start_time": "2022-03-02T07:13:53.420Z"
   },
   {
    "duration": 32,
    "start_time": "2022-03-02T07:13:53.447Z"
   },
   {
    "duration": 26,
    "start_time": "2022-03-02T07:13:53.481Z"
   },
   {
    "duration": 79,
    "start_time": "2022-03-02T07:13:53.509Z"
   },
   {
    "duration": 69,
    "start_time": "2022-03-02T07:13:53.590Z"
   },
   {
    "duration": 62,
    "start_time": "2022-03-02T07:13:53.661Z"
   },
   {
    "duration": 53,
    "start_time": "2022-03-02T07:13:53.725Z"
   },
   {
    "duration": 3,
    "start_time": "2022-03-02T07:13:53.780Z"
   },
   {
    "duration": 574,
    "start_time": "2022-03-02T07:13:59.630Z"
   },
   {
    "duration": 9,
    "start_time": "2022-03-02T07:14:16.670Z"
   },
   {
    "duration": 8,
    "start_time": "2022-03-02T07:17:08.468Z"
   },
   {
    "duration": 610,
    "start_time": "2022-03-02T07:17:17.243Z"
   },
   {
    "duration": 153,
    "start_time": "2022-03-02T07:17:17.855Z"
   },
   {
    "duration": 19,
    "start_time": "2022-03-02T07:17:18.010Z"
   },
   {
    "duration": 45,
    "start_time": "2022-03-02T07:17:18.032Z"
   },
   {
    "duration": 6,
    "start_time": "2022-03-02T07:17:18.079Z"
   },
   {
    "duration": 32,
    "start_time": "2022-03-02T07:17:18.087Z"
   },
   {
    "duration": 6,
    "start_time": "2022-03-02T07:17:18.121Z"
   },
   {
    "duration": 27,
    "start_time": "2022-03-02T07:17:18.129Z"
   },
   {
    "duration": 19,
    "start_time": "2022-03-02T07:17:18.177Z"
   },
   {
    "duration": 33,
    "start_time": "2022-03-02T07:17:18.198Z"
   },
   {
    "duration": 75,
    "start_time": "2022-03-02T07:17:18.233Z"
   },
   {
    "duration": 84,
    "start_time": "2022-03-02T07:17:18.310Z"
   },
   {
    "duration": 57,
    "start_time": "2022-03-02T07:17:18.396Z"
   },
   {
    "duration": 55,
    "start_time": "2022-03-02T07:17:18.455Z"
   },
   {
    "duration": 5,
    "start_time": "2022-03-02T07:17:18.512Z"
   },
   {
    "duration": 26,
    "start_time": "2022-03-02T07:17:18.518Z"
   },
   {
    "duration": 51,
    "start_time": "2022-03-02T07:17:18.546Z"
   },
   {
    "duration": 14,
    "start_time": "2022-03-02T07:17:18.599Z"
   },
   {
    "duration": 18,
    "start_time": "2022-03-02T07:17:18.614Z"
   },
   {
    "duration": 16,
    "start_time": "2022-03-02T07:17:18.633Z"
   },
   {
    "duration": 8,
    "start_time": "2022-03-02T07:17:18.651Z"
   },
   {
    "duration": 40,
    "start_time": "2022-03-02T07:17:18.661Z"
   },
   {
    "duration": 21,
    "start_time": "2022-03-02T07:17:18.703Z"
   },
   {
    "duration": 37,
    "start_time": "2022-03-02T07:17:18.726Z"
   },
   {
    "duration": 21,
    "start_time": "2022-03-02T07:17:18.765Z"
   },
   {
    "duration": 28,
    "start_time": "2022-03-02T07:17:18.788Z"
   },
   {
    "duration": 18,
    "start_time": "2022-03-02T07:17:18.820Z"
   },
   {
    "duration": 25,
    "start_time": "2022-03-02T07:17:18.840Z"
   },
   {
    "duration": 20,
    "start_time": "2022-03-02T07:17:18.866Z"
   },
   {
    "duration": 25,
    "start_time": "2022-03-02T07:17:18.888Z"
   },
   {
    "duration": 8,
    "start_time": "2022-03-02T07:17:18.915Z"
   },
   {
    "duration": 41,
    "start_time": "2022-03-02T07:17:18.924Z"
   },
   {
    "duration": 38,
    "start_time": "2022-03-02T07:17:18.967Z"
   },
   {
    "duration": 27,
    "start_time": "2022-03-02T07:17:19.007Z"
   },
   {
    "duration": 14,
    "start_time": "2022-03-02T07:17:19.036Z"
   },
   {
    "duration": 22,
    "start_time": "2022-03-02T07:17:19.052Z"
   },
   {
    "duration": 18,
    "start_time": "2022-03-02T07:17:19.076Z"
   },
   {
    "duration": 31,
    "start_time": "2022-03-02T07:17:19.096Z"
   },
   {
    "duration": 30,
    "start_time": "2022-03-02T07:17:19.129Z"
   },
   {
    "duration": 11,
    "start_time": "2022-03-02T07:17:19.160Z"
   },
   {
    "duration": 670,
    "start_time": "2022-03-02T18:35:47.117Z"
   },
   {
    "duration": 187,
    "start_time": "2022-03-02T18:35:47.789Z"
   },
   {
    "duration": 28,
    "start_time": "2022-03-02T18:35:47.979Z"
   },
   {
    "duration": 24,
    "start_time": "2022-03-02T18:35:48.009Z"
   },
   {
    "duration": 5,
    "start_time": "2022-03-02T18:35:48.035Z"
   },
   {
    "duration": 46,
    "start_time": "2022-03-02T18:35:48.042Z"
   },
   {
    "duration": 28,
    "start_time": "2022-03-02T18:35:48.090Z"
   },
   {
    "duration": 53,
    "start_time": "2022-03-02T18:35:48.121Z"
   },
   {
    "duration": 33,
    "start_time": "2022-03-02T18:35:48.176Z"
   },
   {
    "duration": 40,
    "start_time": "2022-03-02T18:35:48.211Z"
   },
   {
    "duration": 86,
    "start_time": "2022-03-02T18:35:48.253Z"
   },
   {
    "duration": 103,
    "start_time": "2022-03-02T18:35:48.341Z"
   },
   {
    "duration": 80,
    "start_time": "2022-03-02T18:35:48.446Z"
   },
   {
    "duration": 79,
    "start_time": "2022-03-02T18:35:48.528Z"
   },
   {
    "duration": 3,
    "start_time": "2022-03-02T18:35:48.609Z"
   },
   {
    "duration": 521,
    "start_time": "2022-03-02T18:35:57.640Z"
   },
   {
    "duration": 13,
    "start_time": "2022-03-02T18:36:17.876Z"
   },
   {
    "duration": 408,
    "start_time": "2022-12-01T09:10:43.832Z"
   },
   {
    "duration": 467,
    "start_time": "2022-12-01T09:10:44.242Z"
   },
   {
    "duration": 17,
    "start_time": "2022-12-01T09:10:44.710Z"
   },
   {
    "duration": 37,
    "start_time": "2022-12-01T09:10:44.728Z"
   },
   {
    "duration": 8,
    "start_time": "2022-12-01T09:10:44.767Z"
   },
   {
    "duration": 26,
    "start_time": "2022-12-01T09:10:44.777Z"
   },
   {
    "duration": 27,
    "start_time": "2022-12-01T09:10:44.805Z"
   },
   {
    "duration": 41,
    "start_time": "2022-12-01T09:10:44.834Z"
   },
   {
    "duration": 34,
    "start_time": "2022-12-01T09:10:44.877Z"
   },
   {
    "duration": 45,
    "start_time": "2022-12-01T09:10:44.913Z"
   },
   {
    "duration": 75,
    "start_time": "2022-12-01T09:10:44.960Z"
   },
   {
    "duration": 91,
    "start_time": "2022-12-01T09:10:45.037Z"
   },
   {
    "duration": 57,
    "start_time": "2022-12-01T09:10:45.129Z"
   },
   {
    "duration": 49,
    "start_time": "2022-12-01T09:10:45.190Z"
   },
   {
    "duration": 3,
    "start_time": "2022-12-01T09:10:45.241Z"
   },
   {
    "duration": 24,
    "start_time": "2022-12-01T09:10:45.245Z"
   },
   {
    "duration": 48,
    "start_time": "2022-12-01T09:10:45.271Z"
   },
   {
    "duration": 11,
    "start_time": "2022-12-01T09:10:45.321Z"
   },
   {
    "duration": 22,
    "start_time": "2022-12-01T09:10:45.333Z"
   },
   {
    "duration": 19,
    "start_time": "2022-12-01T09:10:45.357Z"
   },
   {
    "duration": 9,
    "start_time": "2022-12-01T09:10:45.377Z"
   },
   {
    "duration": 39,
    "start_time": "2022-12-01T09:10:45.388Z"
   },
   {
    "duration": 24,
    "start_time": "2022-12-01T09:10:45.429Z"
   },
   {
    "duration": 25,
    "start_time": "2022-12-01T09:10:45.454Z"
   },
   {
    "duration": 20,
    "start_time": "2022-12-01T09:10:45.481Z"
   },
   {
    "duration": 29,
    "start_time": "2022-12-01T09:10:45.502Z"
   },
   {
    "duration": 21,
    "start_time": "2022-12-01T09:10:45.533Z"
   },
   {
    "duration": 16,
    "start_time": "2022-12-01T09:10:45.556Z"
   },
   {
    "duration": 17,
    "start_time": "2022-12-01T09:10:45.573Z"
   },
   {
    "duration": 15,
    "start_time": "2022-12-01T09:10:45.591Z"
   },
   {
    "duration": 13,
    "start_time": "2022-12-01T09:10:45.607Z"
   },
   {
    "duration": 52,
    "start_time": "2022-12-01T09:10:45.621Z"
   },
   {
    "duration": 20,
    "start_time": "2022-12-01T09:10:45.675Z"
   },
   {
    "duration": 26,
    "start_time": "2022-12-01T09:10:45.697Z"
   },
   {
    "duration": 29,
    "start_time": "2022-12-01T09:10:45.725Z"
   },
   {
    "duration": 15,
    "start_time": "2022-12-01T09:10:45.756Z"
   },
   {
    "duration": 17,
    "start_time": "2022-12-01T09:10:45.773Z"
   },
   {
    "duration": 22,
    "start_time": "2022-12-01T09:10:45.791Z"
   },
   {
    "duration": 26,
    "start_time": "2022-12-01T09:10:45.815Z"
   },
   {
    "duration": 22,
    "start_time": "2022-12-01T09:10:45.842Z"
   }
  ],
  "colab": {
   "collapsed_sections": [
    "E0vqbgi9ay0H",
    "VUC88oWjTJw2"
   ],
   "name": "yandex_music_project_2021.2.ipynb",
   "provenance": []
  },
  "kernelspec": {
   "display_name": "Python 3 (ipykernel)",
   "language": "python",
   "name": "python3"
  },
  "language_info": {
   "codemirror_mode": {
    "name": "ipython",
    "version": 3
   },
   "file_extension": ".py",
   "mimetype": "text/x-python",
   "name": "python",
   "nbconvert_exporter": "python",
   "pygments_lexer": "ipython3",
   "version": "3.9.13"
  },
  "toc": {
   "base_numbering": 1,
   "nav_menu": {},
   "number_sections": true,
   "sideBar": true,
   "skip_h1_title": true,
   "title_cell": "Table of Contents",
   "title_sidebar": "Contents",
   "toc_cell": false,
   "toc_position": {
    "height": "calc(100% - 180px)",
    "left": "10px",
    "top": "150px",
    "width": "230px"
   },
   "toc_section_display": true,
   "toc_window_display": true
  }
 },
 "nbformat": 4,
 "nbformat_minor": 1
}
