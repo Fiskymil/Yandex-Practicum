{
 "cells": [
  {
   "cell_type": "markdown",
   "metadata": {},
   "source": [
    "# Определение перспективного тарифа для телеком-компании"
   ]
  },
  {
   "cell_type": "markdown",
   "metadata": {},
   "source": [
    "# Краткое описание проекта\n",
    "\n",
    "Клиентам предлагают два тарифных плана: «Смарт» и «Ультра». Чтобы скорректировать рекламный бюджет, коммерческий департамент хочет понять, какой тариф приносит больше денег. Предстоит сделать предварительный анализ тарифов на небольшой выборке клиентов. В распоряжении данные 500 пользователей «Мегалайна»: кто они, откуда, каким тарифом пользуются, сколько звонков и сообщений каждый отправил за 2018 год. Нужно проанализировать поведение клиентов и сделать вывод — какой тариф лучше."
   ]
  },
  {
   "cell_type": "markdown",
   "metadata": {},
   "source": [
    "## Загрузка данных и изучение общей информации"
   ]
  },
  {
   "cell_type": "code",
   "execution_count": 1,
   "metadata": {},
   "outputs": [],
   "source": [
    "import pandas as pd\n",
    "import numpy as np\n",
    "import math\n",
    "import seaborn as sns\n",
    "import matplotlib.pyplot as plt\n",
    "from scipy import stats as st"
   ]
  },
  {
   "cell_type": "code",
   "execution_count": 2,
   "metadata": {},
   "outputs": [],
   "source": [
    "df_internet = pd.read_csv('/datasets/internet.csv')\n",
    "df_calls = pd.read_csv('/datasets/calls.csv')\n",
    "df_messages = pd.read_csv('/datasets/messages.csv')\n",
    "df_tariffs = pd.read_csv('/datasets/tariffs.csv')\n",
    "df_users = pd.read_csv('/datasets/users.csv')"
   ]
  },
  {
   "cell_type": "code",
   "execution_count": 3,
   "metadata": {
    "scrolled": true
   },
   "outputs": [
    {
     "data": {
      "text/html": [
       "<div>\n",
       "<style scoped>\n",
       "    .dataframe tbody tr th:only-of-type {\n",
       "        vertical-align: middle;\n",
       "    }\n",
       "\n",
       "    .dataframe tbody tr th {\n",
       "        vertical-align: top;\n",
       "    }\n",
       "\n",
       "    .dataframe thead th {\n",
       "        text-align: right;\n",
       "    }\n",
       "</style>\n",
       "<table border=\"1\" class=\"dataframe\">\n",
       "  <thead>\n",
       "    <tr style=\"text-align: right;\">\n",
       "      <th></th>\n",
       "      <th>Unnamed: 0</th>\n",
       "      <th>id</th>\n",
       "      <th>mb_used</th>\n",
       "      <th>session_date</th>\n",
       "      <th>user_id</th>\n",
       "    </tr>\n",
       "  </thead>\n",
       "  <tbody>\n",
       "    <tr>\n",
       "      <th>0</th>\n",
       "      <td>0</td>\n",
       "      <td>1000_0</td>\n",
       "      <td>112.95</td>\n",
       "      <td>2018-11-25</td>\n",
       "      <td>1000</td>\n",
       "    </tr>\n",
       "    <tr>\n",
       "      <th>1</th>\n",
       "      <td>1</td>\n",
       "      <td>1000_1</td>\n",
       "      <td>1052.81</td>\n",
       "      <td>2018-09-07</td>\n",
       "      <td>1000</td>\n",
       "    </tr>\n",
       "    <tr>\n",
       "      <th>2</th>\n",
       "      <td>2</td>\n",
       "      <td>1000_2</td>\n",
       "      <td>1197.26</td>\n",
       "      <td>2018-06-25</td>\n",
       "      <td>1000</td>\n",
       "    </tr>\n",
       "    <tr>\n",
       "      <th>3</th>\n",
       "      <td>3</td>\n",
       "      <td>1000_3</td>\n",
       "      <td>550.27</td>\n",
       "      <td>2018-08-22</td>\n",
       "      <td>1000</td>\n",
       "    </tr>\n",
       "    <tr>\n",
       "      <th>4</th>\n",
       "      <td>4</td>\n",
       "      <td>1000_4</td>\n",
       "      <td>302.56</td>\n",
       "      <td>2018-09-24</td>\n",
       "      <td>1000</td>\n",
       "    </tr>\n",
       "  </tbody>\n",
       "</table>\n",
       "</div>"
      ],
      "text/plain": [
       "   Unnamed: 0      id  mb_used session_date  user_id\n",
       "0           0  1000_0   112.95   2018-11-25     1000\n",
       "1           1  1000_1  1052.81   2018-09-07     1000\n",
       "2           2  1000_2  1197.26   2018-06-25     1000\n",
       "3           3  1000_3   550.27   2018-08-22     1000\n",
       "4           4  1000_4   302.56   2018-09-24     1000"
      ]
     },
     "execution_count": 3,
     "metadata": {},
     "output_type": "execute_result"
    }
   ],
   "source": [
    "df_internet.head()"
   ]
  },
  {
   "cell_type": "code",
   "execution_count": 4,
   "metadata": {
    "scrolled": false
   },
   "outputs": [
    {
     "name": "stdout",
     "output_type": "stream",
     "text": [
      "<class 'pandas.core.frame.DataFrame'>\n",
      "RangeIndex: 149396 entries, 0 to 149395\n",
      "Data columns (total 5 columns):\n",
      " #   Column        Non-Null Count   Dtype  \n",
      "---  ------        --------------   -----  \n",
      " 0   Unnamed: 0    149396 non-null  int64  \n",
      " 1   id            149396 non-null  object \n",
      " 2   mb_used       149396 non-null  float64\n",
      " 3   session_date  149396 non-null  object \n",
      " 4   user_id       149396 non-null  int64  \n",
      "dtypes: float64(1), int64(2), object(2)\n",
      "memory usage: 5.7+ MB\n"
     ]
    }
   ],
   "source": [
    "df_internet.info()"
   ]
  },
  {
   "cell_type": "markdown",
   "metadata": {},
   "source": [
    "Набор данных internet содержит информацию о 149396 интернет-сессиях. Пропуски в наборе отсутствуют. Набор данных содержтит 5 столбцов со следующими типами:\n",
    "- float64(1)\n",
    "- int64(2)\n",
    "- object(2)"
   ]
  },
  {
   "cell_type": "code",
   "execution_count": 5,
   "metadata": {},
   "outputs": [
    {
     "data": {
      "text/html": [
       "<div>\n",
       "<style scoped>\n",
       "    .dataframe tbody tr th:only-of-type {\n",
       "        vertical-align: middle;\n",
       "    }\n",
       "\n",
       "    .dataframe tbody tr th {\n",
       "        vertical-align: top;\n",
       "    }\n",
       "\n",
       "    .dataframe thead th {\n",
       "        text-align: right;\n",
       "    }\n",
       "</style>\n",
       "<table border=\"1\" class=\"dataframe\">\n",
       "  <thead>\n",
       "    <tr style=\"text-align: right;\">\n",
       "      <th></th>\n",
       "      <th>id</th>\n",
       "      <th>call_date</th>\n",
       "      <th>duration</th>\n",
       "      <th>user_id</th>\n",
       "    </tr>\n",
       "  </thead>\n",
       "  <tbody>\n",
       "    <tr>\n",
       "      <th>0</th>\n",
       "      <td>1000_0</td>\n",
       "      <td>2018-07-25</td>\n",
       "      <td>0.00</td>\n",
       "      <td>1000</td>\n",
       "    </tr>\n",
       "    <tr>\n",
       "      <th>1</th>\n",
       "      <td>1000_1</td>\n",
       "      <td>2018-08-17</td>\n",
       "      <td>0.00</td>\n",
       "      <td>1000</td>\n",
       "    </tr>\n",
       "    <tr>\n",
       "      <th>2</th>\n",
       "      <td>1000_2</td>\n",
       "      <td>2018-06-11</td>\n",
       "      <td>2.85</td>\n",
       "      <td>1000</td>\n",
       "    </tr>\n",
       "    <tr>\n",
       "      <th>3</th>\n",
       "      <td>1000_3</td>\n",
       "      <td>2018-09-21</td>\n",
       "      <td>13.80</td>\n",
       "      <td>1000</td>\n",
       "    </tr>\n",
       "    <tr>\n",
       "      <th>4</th>\n",
       "      <td>1000_4</td>\n",
       "      <td>2018-12-15</td>\n",
       "      <td>5.18</td>\n",
       "      <td>1000</td>\n",
       "    </tr>\n",
       "  </tbody>\n",
       "</table>\n",
       "</div>"
      ],
      "text/plain": [
       "       id   call_date  duration  user_id\n",
       "0  1000_0  2018-07-25      0.00     1000\n",
       "1  1000_1  2018-08-17      0.00     1000\n",
       "2  1000_2  2018-06-11      2.85     1000\n",
       "3  1000_3  2018-09-21     13.80     1000\n",
       "4  1000_4  2018-12-15      5.18     1000"
      ]
     },
     "execution_count": 5,
     "metadata": {},
     "output_type": "execute_result"
    }
   ],
   "source": [
    "df_calls.head()"
   ]
  },
  {
   "cell_type": "code",
   "execution_count": 6,
   "metadata": {
    "scrolled": true
   },
   "outputs": [
    {
     "name": "stdout",
     "output_type": "stream",
     "text": [
      "<class 'pandas.core.frame.DataFrame'>\n",
      "RangeIndex: 202607 entries, 0 to 202606\n",
      "Data columns (total 4 columns):\n",
      " #   Column     Non-Null Count   Dtype  \n",
      "---  ------     --------------   -----  \n",
      " 0   id         202607 non-null  object \n",
      " 1   call_date  202607 non-null  object \n",
      " 2   duration   202607 non-null  float64\n",
      " 3   user_id    202607 non-null  int64  \n",
      "dtypes: float64(1), int64(1), object(2)\n",
      "memory usage: 6.2+ MB\n"
     ]
    }
   ],
   "source": [
    "df_calls.info()"
   ]
  },
  {
   "cell_type": "markdown",
   "metadata": {},
   "source": [
    "Набор данных internet содержит информацию о 202607 звонках. Пропуски в наборе отсутствуют. Набор данных содержтит 4 столбца со следующими типами:\n",
    "- float64(1)\n",
    "- int64(1)\n",
    "- object(2)"
   ]
  },
  {
   "cell_type": "code",
   "execution_count": 7,
   "metadata": {},
   "outputs": [
    {
     "data": {
      "text/html": [
       "<div>\n",
       "<style scoped>\n",
       "    .dataframe tbody tr th:only-of-type {\n",
       "        vertical-align: middle;\n",
       "    }\n",
       "\n",
       "    .dataframe tbody tr th {\n",
       "        vertical-align: top;\n",
       "    }\n",
       "\n",
       "    .dataframe thead th {\n",
       "        text-align: right;\n",
       "    }\n",
       "</style>\n",
       "<table border=\"1\" class=\"dataframe\">\n",
       "  <thead>\n",
       "    <tr style=\"text-align: right;\">\n",
       "      <th></th>\n",
       "      <th>id</th>\n",
       "      <th>message_date</th>\n",
       "      <th>user_id</th>\n",
       "    </tr>\n",
       "  </thead>\n",
       "  <tbody>\n",
       "    <tr>\n",
       "      <th>0</th>\n",
       "      <td>1000_0</td>\n",
       "      <td>2018-06-27</td>\n",
       "      <td>1000</td>\n",
       "    </tr>\n",
       "    <tr>\n",
       "      <th>1</th>\n",
       "      <td>1000_1</td>\n",
       "      <td>2018-10-08</td>\n",
       "      <td>1000</td>\n",
       "    </tr>\n",
       "    <tr>\n",
       "      <th>2</th>\n",
       "      <td>1000_2</td>\n",
       "      <td>2018-08-04</td>\n",
       "      <td>1000</td>\n",
       "    </tr>\n",
       "    <tr>\n",
       "      <th>3</th>\n",
       "      <td>1000_3</td>\n",
       "      <td>2018-06-16</td>\n",
       "      <td>1000</td>\n",
       "    </tr>\n",
       "    <tr>\n",
       "      <th>4</th>\n",
       "      <td>1000_4</td>\n",
       "      <td>2018-12-05</td>\n",
       "      <td>1000</td>\n",
       "    </tr>\n",
       "  </tbody>\n",
       "</table>\n",
       "</div>"
      ],
      "text/plain": [
       "       id message_date  user_id\n",
       "0  1000_0   2018-06-27     1000\n",
       "1  1000_1   2018-10-08     1000\n",
       "2  1000_2   2018-08-04     1000\n",
       "3  1000_3   2018-06-16     1000\n",
       "4  1000_4   2018-12-05     1000"
      ]
     },
     "execution_count": 7,
     "metadata": {},
     "output_type": "execute_result"
    }
   ],
   "source": [
    "df_messages.head()"
   ]
  },
  {
   "cell_type": "code",
   "execution_count": 8,
   "metadata": {
    "scrolled": true
   },
   "outputs": [
    {
     "name": "stdout",
     "output_type": "stream",
     "text": [
      "<class 'pandas.core.frame.DataFrame'>\n",
      "RangeIndex: 123036 entries, 0 to 123035\n",
      "Data columns (total 3 columns):\n",
      " #   Column        Non-Null Count   Dtype \n",
      "---  ------        --------------   ----- \n",
      " 0   id            123036 non-null  object\n",
      " 1   message_date  123036 non-null  object\n",
      " 2   user_id       123036 non-null  int64 \n",
      "dtypes: int64(1), object(2)\n",
      "memory usage: 2.8+ MB\n"
     ]
    }
   ],
   "source": [
    "df_messages.info()"
   ]
  },
  {
   "cell_type": "markdown",
   "metadata": {},
   "source": [
    "Набор данных messages содержит информацию о 123036 сообщениях. Пропуски в наборе отсутствуют. Набор данных содержтит 3 столбца со следующими типами:\n",
    "- int64(1)\n",
    "- object(2)"
   ]
  },
  {
   "cell_type": "code",
   "execution_count": 9,
   "metadata": {},
   "outputs": [
    {
     "data": {
      "text/html": [
       "<div>\n",
       "<style scoped>\n",
       "    .dataframe tbody tr th:only-of-type {\n",
       "        vertical-align: middle;\n",
       "    }\n",
       "\n",
       "    .dataframe tbody tr th {\n",
       "        vertical-align: top;\n",
       "    }\n",
       "\n",
       "    .dataframe thead th {\n",
       "        text-align: right;\n",
       "    }\n",
       "</style>\n",
       "<table border=\"1\" class=\"dataframe\">\n",
       "  <thead>\n",
       "    <tr style=\"text-align: right;\">\n",
       "      <th></th>\n",
       "      <th>messages_included</th>\n",
       "      <th>mb_per_month_included</th>\n",
       "      <th>minutes_included</th>\n",
       "      <th>rub_monthly_fee</th>\n",
       "      <th>rub_per_gb</th>\n",
       "      <th>rub_per_message</th>\n",
       "      <th>rub_per_minute</th>\n",
       "      <th>tariff_name</th>\n",
       "    </tr>\n",
       "  </thead>\n",
       "  <tbody>\n",
       "    <tr>\n",
       "      <th>0</th>\n",
       "      <td>50</td>\n",
       "      <td>15360</td>\n",
       "      <td>500</td>\n",
       "      <td>550</td>\n",
       "      <td>200</td>\n",
       "      <td>3</td>\n",
       "      <td>3</td>\n",
       "      <td>smart</td>\n",
       "    </tr>\n",
       "    <tr>\n",
       "      <th>1</th>\n",
       "      <td>1000</td>\n",
       "      <td>30720</td>\n",
       "      <td>3000</td>\n",
       "      <td>1950</td>\n",
       "      <td>150</td>\n",
       "      <td>1</td>\n",
       "      <td>1</td>\n",
       "      <td>ultra</td>\n",
       "    </tr>\n",
       "  </tbody>\n",
       "</table>\n",
       "</div>"
      ],
      "text/plain": [
       "   messages_included  mb_per_month_included  minutes_included  \\\n",
       "0                 50                  15360               500   \n",
       "1               1000                  30720              3000   \n",
       "\n",
       "   rub_monthly_fee  rub_per_gb  rub_per_message  rub_per_minute tariff_name  \n",
       "0              550         200                3               3       smart  \n",
       "1             1950         150                1               1       ultra  "
      ]
     },
     "execution_count": 9,
     "metadata": {},
     "output_type": "execute_result"
    }
   ],
   "source": [
    "df_tariffs.head()"
   ]
  },
  {
   "cell_type": "code",
   "execution_count": 10,
   "metadata": {},
   "outputs": [
    {
     "name": "stdout",
     "output_type": "stream",
     "text": [
      "<class 'pandas.core.frame.DataFrame'>\n",
      "RangeIndex: 2 entries, 0 to 1\n",
      "Data columns (total 8 columns):\n",
      " #   Column                 Non-Null Count  Dtype \n",
      "---  ------                 --------------  ----- \n",
      " 0   messages_included      2 non-null      int64 \n",
      " 1   mb_per_month_included  2 non-null      int64 \n",
      " 2   minutes_included       2 non-null      int64 \n",
      " 3   rub_monthly_fee        2 non-null      int64 \n",
      " 4   rub_per_gb             2 non-null      int64 \n",
      " 5   rub_per_message        2 non-null      int64 \n",
      " 6   rub_per_minute         2 non-null      int64 \n",
      " 7   tariff_name            2 non-null      object\n",
      "dtypes: int64(7), object(1)\n",
      "memory usage: 256.0+ bytes\n"
     ]
    }
   ],
   "source": [
    "df_tariffs.info()"
   ]
  },
  {
   "cell_type": "markdown",
   "metadata": {},
   "source": [
    "Набор данных tariffs содержит информацию о двух тарифах. Пропуски в наборе отсутствуют. Набор данных содержтит 8 столбцов со следующими типами:\n",
    "- int64(7)\n",
    "- object(1)"
   ]
  },
  {
   "cell_type": "code",
   "execution_count": 11,
   "metadata": {
    "scrolled": true
   },
   "outputs": [
    {
     "data": {
      "text/html": [
       "<div>\n",
       "<style scoped>\n",
       "    .dataframe tbody tr th:only-of-type {\n",
       "        vertical-align: middle;\n",
       "    }\n",
       "\n",
       "    .dataframe tbody tr th {\n",
       "        vertical-align: top;\n",
       "    }\n",
       "\n",
       "    .dataframe thead th {\n",
       "        text-align: right;\n",
       "    }\n",
       "</style>\n",
       "<table border=\"1\" class=\"dataframe\">\n",
       "  <thead>\n",
       "    <tr style=\"text-align: right;\">\n",
       "      <th></th>\n",
       "      <th>user_id</th>\n",
       "      <th>age</th>\n",
       "      <th>churn_date</th>\n",
       "      <th>city</th>\n",
       "      <th>first_name</th>\n",
       "      <th>last_name</th>\n",
       "      <th>reg_date</th>\n",
       "      <th>tariff</th>\n",
       "    </tr>\n",
       "  </thead>\n",
       "  <tbody>\n",
       "    <tr>\n",
       "      <th>0</th>\n",
       "      <td>1000</td>\n",
       "      <td>52</td>\n",
       "      <td>NaN</td>\n",
       "      <td>Краснодар</td>\n",
       "      <td>Рафаил</td>\n",
       "      <td>Верещагин</td>\n",
       "      <td>2018-05-25</td>\n",
       "      <td>ultra</td>\n",
       "    </tr>\n",
       "    <tr>\n",
       "      <th>1</th>\n",
       "      <td>1001</td>\n",
       "      <td>41</td>\n",
       "      <td>NaN</td>\n",
       "      <td>Москва</td>\n",
       "      <td>Иван</td>\n",
       "      <td>Ежов</td>\n",
       "      <td>2018-11-01</td>\n",
       "      <td>smart</td>\n",
       "    </tr>\n",
       "    <tr>\n",
       "      <th>2</th>\n",
       "      <td>1002</td>\n",
       "      <td>59</td>\n",
       "      <td>NaN</td>\n",
       "      <td>Стерлитамак</td>\n",
       "      <td>Евгений</td>\n",
       "      <td>Абрамович</td>\n",
       "      <td>2018-06-17</td>\n",
       "      <td>smart</td>\n",
       "    </tr>\n",
       "    <tr>\n",
       "      <th>3</th>\n",
       "      <td>1003</td>\n",
       "      <td>23</td>\n",
       "      <td>NaN</td>\n",
       "      <td>Москва</td>\n",
       "      <td>Белла</td>\n",
       "      <td>Белякова</td>\n",
       "      <td>2018-08-17</td>\n",
       "      <td>ultra</td>\n",
       "    </tr>\n",
       "    <tr>\n",
       "      <th>4</th>\n",
       "      <td>1004</td>\n",
       "      <td>68</td>\n",
       "      <td>NaN</td>\n",
       "      <td>Новокузнецк</td>\n",
       "      <td>Татьяна</td>\n",
       "      <td>Авдеенко</td>\n",
       "      <td>2018-05-14</td>\n",
       "      <td>ultra</td>\n",
       "    </tr>\n",
       "  </tbody>\n",
       "</table>\n",
       "</div>"
      ],
      "text/plain": [
       "   user_id  age churn_date         city first_name  last_name    reg_date  \\\n",
       "0     1000   52        NaN    Краснодар     Рафаил  Верещагин  2018-05-25   \n",
       "1     1001   41        NaN       Москва       Иван       Ежов  2018-11-01   \n",
       "2     1002   59        NaN  Стерлитамак    Евгений  Абрамович  2018-06-17   \n",
       "3     1003   23        NaN       Москва      Белла   Белякова  2018-08-17   \n",
       "4     1004   68        NaN  Новокузнецк    Татьяна   Авдеенко  2018-05-14   \n",
       "\n",
       "  tariff  \n",
       "0  ultra  \n",
       "1  smart  \n",
       "2  smart  \n",
       "3  ultra  \n",
       "4  ultra  "
      ]
     },
     "execution_count": 11,
     "metadata": {},
     "output_type": "execute_result"
    }
   ],
   "source": [
    "df_users.head()"
   ]
  },
  {
   "cell_type": "code",
   "execution_count": 12,
   "metadata": {},
   "outputs": [
    {
     "name": "stdout",
     "output_type": "stream",
     "text": [
      "<class 'pandas.core.frame.DataFrame'>\n",
      "RangeIndex: 500 entries, 0 to 499\n",
      "Data columns (total 8 columns):\n",
      " #   Column      Non-Null Count  Dtype \n",
      "---  ------      --------------  ----- \n",
      " 0   user_id     500 non-null    int64 \n",
      " 1   age         500 non-null    int64 \n",
      " 2   churn_date  38 non-null     object\n",
      " 3   city        500 non-null    object\n",
      " 4   first_name  500 non-null    object\n",
      " 5   last_name   500 non-null    object\n",
      " 6   reg_date    500 non-null    object\n",
      " 7   tariff      500 non-null    object\n",
      "dtypes: int64(2), object(6)\n",
      "memory usage: 31.4+ KB\n"
     ]
    }
   ],
   "source": [
    "df_users.info()"
   ]
  },
  {
   "cell_type": "markdown",
   "metadata": {},
   "source": [
    "Набор данных users содержит информацию о 500 пользователей. Пропуски в столбце churn_rate означают, что если значение пропущено, то тариф ещё действовал на момент выгрузки данных Набор данных содержтит 8 столбцов со следующими типами:\n",
    "\n",
    "- int64(2)\n",
    "- object(6)"
   ]
  },
  {
   "cell_type": "markdown",
   "metadata": {},
   "source": [
    "## Подготовка данных"
   ]
  },
  {
   "cell_type": "markdown",
   "metadata": {},
   "source": [
    "### Приведем данные к нужным типам и исправим ошибки "
   ]
  },
  {
   "cell_type": "markdown",
   "metadata": {},
   "source": [
    "Из датасета internet выбросим столбец \"Unnamed: 0\", который дублирует индекс  "
   ]
  },
  {
   "cell_type": "code",
   "execution_count": 13,
   "metadata": {},
   "outputs": [],
   "source": [
    "df_internet.drop('Unnamed: 0', 1, inplace = True)"
   ]
  },
  {
   "cell_type": "markdown",
   "metadata": {},
   "source": [
    "Приведем session_date к datetime, а mb_used к float 32 с целью экономии памяти"
   ]
  },
  {
   "cell_type": "code",
   "execution_count": 14,
   "metadata": {},
   "outputs": [],
   "source": [
    "df_internet['session_date'] = pd.to_datetime(df_internet['session_date'], \n",
    "                                             format='%Y-%m-%d')\n",
    "\n",
    "df_internet['mb_used'] = df_internet['mb_used'].astype('float32')"
   ]
  },
  {
   "cell_type": "markdown",
   "metadata": {},
   "source": [
    "В датасете calls приведем call_date к datetime, а duration к float 32 с целью экономии памяти"
   ]
  },
  {
   "cell_type": "code",
   "execution_count": 15,
   "metadata": {},
   "outputs": [],
   "source": [
    "df_calls['call_date'] = pd.to_datetime(df_calls['call_date'], \n",
    "                                       format='%Y-%m-%d')\n",
    "\n",
    "df_calls['duration'] = df_calls['duration'].astype('float32')"
   ]
  },
  {
   "cell_type": "markdown",
   "metadata": {},
   "source": [
    "В датасете messages приведем message_date к datetime"
   ]
  },
  {
   "cell_type": "code",
   "execution_count": 16,
   "metadata": {},
   "outputs": [],
   "source": [
    "df_messages['message_date'] = pd.to_datetime(df_messages['message_date'],\n",
    "                                             format='%Y-%m-%d')"
   ]
  },
  {
   "cell_type": "markdown",
   "metadata": {},
   "source": [
    "В датасете users приведем reg_date к datetime"
   ]
  },
  {
   "cell_type": "code",
   "execution_count": 17,
   "metadata": {},
   "outputs": [],
   "source": [
    "df_users['reg_date'] = pd.to_datetime(df_users['reg_date'],\n",
    "                                     format='%Y-%m-%d')"
   ]
  },
  {
   "cell_type": "markdown",
   "metadata": {},
   "source": [
    "Проверим наличие строк-дубликатов в наборах данных"
   ]
  },
  {
   "cell_type": "code",
   "execution_count": 18,
   "metadata": {},
   "outputs": [
    {
     "data": {
      "text/plain": [
       "0"
      ]
     },
     "execution_count": 18,
     "metadata": {},
     "output_type": "execute_result"
    }
   ],
   "source": [
    "df_internet.duplicated().sum()"
   ]
  },
  {
   "cell_type": "code",
   "execution_count": 19,
   "metadata": {},
   "outputs": [
    {
     "data": {
      "text/plain": [
       "0"
      ]
     },
     "execution_count": 19,
     "metadata": {},
     "output_type": "execute_result"
    }
   ],
   "source": [
    "df_calls.duplicated().sum()"
   ]
  },
  {
   "cell_type": "code",
   "execution_count": 20,
   "metadata": {},
   "outputs": [
    {
     "data": {
      "text/plain": [
       "0"
      ]
     },
     "execution_count": 20,
     "metadata": {},
     "output_type": "execute_result"
    }
   ],
   "source": [
    "df_messages.duplicated().sum()"
   ]
  },
  {
   "cell_type": "code",
   "execution_count": 21,
   "metadata": {},
   "outputs": [
    {
     "data": {
      "text/plain": [
       "0"
      ]
     },
     "execution_count": 21,
     "metadata": {},
     "output_type": "execute_result"
    }
   ],
   "source": [
    "df_users.duplicated().sum()"
   ]
  },
  {
   "cell_type": "markdown",
   "metadata": {},
   "source": [
    "Строк-дубликатов в данных не имеется"
   ]
  },
  {
   "cell_type": "markdown",
   "metadata": {},
   "source": [
    "### Посчитаем для каждого пользователя следующие показатели:\n",
    "- количество сделанных звонков и израсходованных минут разговора по месяцам;\n",
    "- количество отправленных сообщений по месяцам;\n",
    "- объем израсходованного интернет-трафика по месяцам;\n",
    "- помесячную выручку с каждого пользователя (вычтите бесплатный лимит из суммарного количества звонков, сообщений и интернет - трафика; остаток умножьте на значение из тарифного плана; прибавьте абонентскую плату, соответствующую тарифному плану)."
   ]
  },
  {
   "cell_type": "code",
   "execution_count": 22,
   "metadata": {
    "scrolled": false
   },
   "outputs": [
    {
     "data": {
      "text/html": [
       "<div>\n",
       "<style scoped>\n",
       "    .dataframe tbody tr th:only-of-type {\n",
       "        vertical-align: middle;\n",
       "    }\n",
       "\n",
       "    .dataframe tbody tr th {\n",
       "        vertical-align: top;\n",
       "    }\n",
       "\n",
       "    .dataframe thead th {\n",
       "        text-align: right;\n",
       "    }\n",
       "</style>\n",
       "<table border=\"1\" class=\"dataframe\">\n",
       "  <thead>\n",
       "    <tr style=\"text-align: right;\">\n",
       "      <th></th>\n",
       "      <th>id</th>\n",
       "      <th>call_date</th>\n",
       "      <th>duration</th>\n",
       "      <th>user_id</th>\n",
       "    </tr>\n",
       "  </thead>\n",
       "  <tbody>\n",
       "    <tr>\n",
       "      <th>0</th>\n",
       "      <td>1000_0</td>\n",
       "      <td>2018-07-25</td>\n",
       "      <td>0.00</td>\n",
       "      <td>1000</td>\n",
       "    </tr>\n",
       "    <tr>\n",
       "      <th>1</th>\n",
       "      <td>1000_1</td>\n",
       "      <td>2018-08-17</td>\n",
       "      <td>0.00</td>\n",
       "      <td>1000</td>\n",
       "    </tr>\n",
       "    <tr>\n",
       "      <th>2</th>\n",
       "      <td>1000_2</td>\n",
       "      <td>2018-06-11</td>\n",
       "      <td>2.85</td>\n",
       "      <td>1000</td>\n",
       "    </tr>\n",
       "    <tr>\n",
       "      <th>3</th>\n",
       "      <td>1000_3</td>\n",
       "      <td>2018-09-21</td>\n",
       "      <td>13.80</td>\n",
       "      <td>1000</td>\n",
       "    </tr>\n",
       "    <tr>\n",
       "      <th>4</th>\n",
       "      <td>1000_4</td>\n",
       "      <td>2018-12-15</td>\n",
       "      <td>5.18</td>\n",
       "      <td>1000</td>\n",
       "    </tr>\n",
       "  </tbody>\n",
       "</table>\n",
       "</div>"
      ],
      "text/plain": [
       "       id  call_date  duration  user_id\n",
       "0  1000_0 2018-07-25      0.00     1000\n",
       "1  1000_1 2018-08-17      0.00     1000\n",
       "2  1000_2 2018-06-11      2.85     1000\n",
       "3  1000_3 2018-09-21     13.80     1000\n",
       "4  1000_4 2018-12-15      5.18     1000"
      ]
     },
     "execution_count": 22,
     "metadata": {},
     "output_type": "execute_result"
    }
   ],
   "source": [
    "df_calls.head()"
   ]
  },
  {
   "cell_type": "code",
   "execution_count": 23,
   "metadata": {},
   "outputs": [],
   "source": [
    "# округлим длительность разговора до минут\n",
    "df_calls['duration'] = np.ceil(df_calls['duration'])"
   ]
  },
  {
   "cell_type": "code",
   "execution_count": 24,
   "metadata": {},
   "outputs": [],
   "source": [
    "# создадим в исходной таблице столбец month \n",
    "df_calls['month'] = pd.DatetimeIndex(df_calls['call_date']).month\n",
    "\n",
    "# воспользуемся сводной таблицей с аггрегацией значений продолжительности звонков\n",
    "calls_amount = df_calls.pivot_table(index = ('user_id','month'),\n",
    "                                    values = 'duration',\n",
    "                                    aggfunc = ['count','sum']\n",
    "                                   )"
   ]
  },
  {
   "cell_type": "code",
   "execution_count": 25,
   "metadata": {
    "scrolled": false
   },
   "outputs": [
    {
     "data": {
      "text/html": [
       "<div>\n",
       "<style scoped>\n",
       "    .dataframe tbody tr th:only-of-type {\n",
       "        vertical-align: middle;\n",
       "    }\n",
       "\n",
       "    .dataframe tbody tr th {\n",
       "        vertical-align: top;\n",
       "    }\n",
       "\n",
       "    .dataframe thead tr th {\n",
       "        text-align: left;\n",
       "    }\n",
       "\n",
       "    .dataframe thead tr:last-of-type th {\n",
       "        text-align: right;\n",
       "    }\n",
       "</style>\n",
       "<table border=\"1\" class=\"dataframe\">\n",
       "  <thead>\n",
       "    <tr>\n",
       "      <th></th>\n",
       "      <th></th>\n",
       "      <th>count</th>\n",
       "      <th>sum</th>\n",
       "    </tr>\n",
       "    <tr>\n",
       "      <th></th>\n",
       "      <th></th>\n",
       "      <th>duration</th>\n",
       "      <th>duration</th>\n",
       "    </tr>\n",
       "    <tr>\n",
       "      <th>user_id</th>\n",
       "      <th>month</th>\n",
       "      <th></th>\n",
       "      <th></th>\n",
       "    </tr>\n",
       "  </thead>\n",
       "  <tbody>\n",
       "    <tr>\n",
       "      <th rowspan=\"5\" valign=\"top\">1000</th>\n",
       "      <th>5</th>\n",
       "      <td>22</td>\n",
       "      <td>159.0</td>\n",
       "    </tr>\n",
       "    <tr>\n",
       "      <th>6</th>\n",
       "      <td>43</td>\n",
       "      <td>172.0</td>\n",
       "    </tr>\n",
       "    <tr>\n",
       "      <th>7</th>\n",
       "      <td>47</td>\n",
       "      <td>340.0</td>\n",
       "    </tr>\n",
       "    <tr>\n",
       "      <th>8</th>\n",
       "      <td>52</td>\n",
       "      <td>408.0</td>\n",
       "    </tr>\n",
       "    <tr>\n",
       "      <th>9</th>\n",
       "      <td>58</td>\n",
       "      <td>466.0</td>\n",
       "    </tr>\n",
       "    <tr>\n",
       "      <th>...</th>\n",
       "      <th>...</th>\n",
       "      <td>...</td>\n",
       "      <td>...</td>\n",
       "    </tr>\n",
       "    <tr>\n",
       "      <th>1498</th>\n",
       "      <th>10</th>\n",
       "      <td>41</td>\n",
       "      <td>247.0</td>\n",
       "    </tr>\n",
       "    <tr>\n",
       "      <th rowspan=\"4\" valign=\"top\">1499</th>\n",
       "      <th>9</th>\n",
       "      <td>9</td>\n",
       "      <td>70.0</td>\n",
       "    </tr>\n",
       "    <tr>\n",
       "      <th>10</th>\n",
       "      <td>68</td>\n",
       "      <td>449.0</td>\n",
       "    </tr>\n",
       "    <tr>\n",
       "      <th>11</th>\n",
       "      <td>74</td>\n",
       "      <td>612.0</td>\n",
       "    </tr>\n",
       "    <tr>\n",
       "      <th>12</th>\n",
       "      <td>69</td>\n",
       "      <td>492.0</td>\n",
       "    </tr>\n",
       "  </tbody>\n",
       "</table>\n",
       "<p>3174 rows × 2 columns</p>\n",
       "</div>"
      ],
      "text/plain": [
       "                 count      sum\n",
       "              duration duration\n",
       "user_id month                  \n",
       "1000    5           22    159.0\n",
       "        6           43    172.0\n",
       "        7           47    340.0\n",
       "        8           52    408.0\n",
       "        9           58    466.0\n",
       "...                ...      ...\n",
       "1498    10          41    247.0\n",
       "1499    9            9     70.0\n",
       "        10          68    449.0\n",
       "        11          74    612.0\n",
       "        12          69    492.0\n",
       "\n",
       "[3174 rows x 2 columns]"
      ]
     },
     "execution_count": 25,
     "metadata": {},
     "output_type": "execute_result"
    }
   ],
   "source": [
    "calls_amount"
   ]
  },
  {
   "cell_type": "code",
   "execution_count": 26,
   "metadata": {},
   "outputs": [],
   "source": [
    "df_messages['month'] = pd.DatetimeIndex(df_messages['message_date']).month\n",
    "\n",
    "messages_amount = df_messages.pivot_table(index = ('user_id','month'),\n",
    "                                          values = 'id',\n",
    "                                          aggfunc = ['count']\n",
    "                                         )"
   ]
  },
  {
   "cell_type": "code",
   "execution_count": 27,
   "metadata": {},
   "outputs": [],
   "source": [
    "df_internet['month'] = pd.DatetimeIndex(df_internet['session_date']).month\n",
    "\n",
    "\n",
    "internet_amount = df_internet.pivot_table(index = ('user_id','month'),\n",
    "                                          values = 'mb_used',\n",
    "                                          aggfunc = 'sum'\n",
    "                                         )\n",
    "\n",
    "internet_amount['gb_used'] = (internet_amount.mb_used/1024).apply(np.ceil)"
   ]
  },
  {
   "cell_type": "code",
   "execution_count": 28,
   "metadata": {},
   "outputs": [
    {
     "name": "stderr",
     "output_type": "stream",
     "text": [
      "/opt/conda/lib/python3.9/site-packages/pandas/core/reshape/merge.py:648: UserWarning: merging between different levels can give an unintended result (1 levels on the left,2 on the right)\n",
      "  warnings.warn(msg, UserWarning)\n"
     ]
    }
   ],
   "source": [
    "# объединим полученные таблицы\n",
    "df_amount = internet_amount.merge(right = messages_amount, \n",
    "                                  how = 'outer', \n",
    "                                  left_index = True, \n",
    "                                  right_index = True).merge(right = calls_amount, \n",
    "                                                            how = 'outer', \n",
    "                                                            left_index = True, \n",
    "                                                            right_index = True)\n"
   ]
  },
  {
   "cell_type": "code",
   "execution_count": 29,
   "metadata": {},
   "outputs": [
    {
     "data": {
      "text/plain": [
       "Index([            'mb_used',             'gb_used',       ('count', 'id'),\n",
       "       ('count', 'duration'),   ('sum', 'duration')],\n",
       "      dtype='object')"
      ]
     },
     "execution_count": 29,
     "metadata": {},
     "output_type": "execute_result"
    }
   ],
   "source": [
    "df_amount.columns"
   ]
  },
  {
   "cell_type": "code",
   "execution_count": 30,
   "metadata": {},
   "outputs": [],
   "source": [
    "# переиминуем столбцы\n",
    "df_amount = df_amount.rename(columns = {'mb_used':'mb_total',\n",
    "                                        'gb_used':'gb_total',\n",
    "                                        ('count', 'id'):'messages_number',\n",
    "                                        ('count', 'duration'):'calls_number',\n",
    "                                        ('sum', 'duration'):'calls_duration'}\n",
    "                            )\n",
    "                 "
   ]
  },
  {
   "cell_type": "code",
   "execution_count": 31,
   "metadata": {},
   "outputs": [
    {
     "data": {
      "text/html": [
       "<div>\n",
       "<style scoped>\n",
       "    .dataframe tbody tr th:only-of-type {\n",
       "        vertical-align: middle;\n",
       "    }\n",
       "\n",
       "    .dataframe tbody tr th {\n",
       "        vertical-align: top;\n",
       "    }\n",
       "\n",
       "    .dataframe thead th {\n",
       "        text-align: right;\n",
       "    }\n",
       "</style>\n",
       "<table border=\"1\" class=\"dataframe\">\n",
       "  <thead>\n",
       "    <tr style=\"text-align: right;\">\n",
       "      <th></th>\n",
       "      <th></th>\n",
       "      <th>mb_total</th>\n",
       "      <th>gb_total</th>\n",
       "      <th>messages_number</th>\n",
       "      <th>calls_number</th>\n",
       "      <th>calls_duration</th>\n",
       "    </tr>\n",
       "    <tr>\n",
       "      <th>user_id</th>\n",
       "      <th>month</th>\n",
       "      <th></th>\n",
       "      <th></th>\n",
       "      <th></th>\n",
       "      <th></th>\n",
       "      <th></th>\n",
       "    </tr>\n",
       "  </thead>\n",
       "  <tbody>\n",
       "    <tr>\n",
       "      <th rowspan=\"3\" valign=\"top\">1000</th>\n",
       "      <th>5</th>\n",
       "      <td>2253.489990</td>\n",
       "      <td>3.0</td>\n",
       "      <td>22.0</td>\n",
       "      <td>22.0</td>\n",
       "      <td>159.0</td>\n",
       "    </tr>\n",
       "    <tr>\n",
       "      <th>6</th>\n",
       "      <td>23233.769531</td>\n",
       "      <td>23.0</td>\n",
       "      <td>60.0</td>\n",
       "      <td>43.0</td>\n",
       "      <td>172.0</td>\n",
       "    </tr>\n",
       "    <tr>\n",
       "      <th>7</th>\n",
       "      <td>14003.639648</td>\n",
       "      <td>14.0</td>\n",
       "      <td>75.0</td>\n",
       "      <td>47.0</td>\n",
       "      <td>340.0</td>\n",
       "    </tr>\n",
       "  </tbody>\n",
       "</table>\n",
       "</div>"
      ],
      "text/plain": [
       "                   mb_total  gb_total  messages_number  calls_number  \\\n",
       "user_id month                                                          \n",
       "1000    5       2253.489990       3.0             22.0          22.0   \n",
       "        6      23233.769531      23.0             60.0          43.0   \n",
       "        7      14003.639648      14.0             75.0          47.0   \n",
       "\n",
       "               calls_duration  \n",
       "user_id month                  \n",
       "1000    5               159.0  \n",
       "        6               172.0  \n",
       "        7               340.0  "
      ]
     },
     "execution_count": 31,
     "metadata": {},
     "output_type": "execute_result"
    }
   ],
   "source": [
    "df_amount.head(3)"
   ]
  },
  {
   "cell_type": "code",
   "execution_count": 32,
   "metadata": {},
   "outputs": [],
   "source": [
    "df_amount.reset_index(inplace = True)\n",
    "\n",
    "# удалим столбец mb_total\n",
    "df_amount= df_amount.drop('mb_total', axis=1)"
   ]
  },
  {
   "cell_type": "code",
   "execution_count": 33,
   "metadata": {},
   "outputs": [
    {
     "data": {
      "text/html": [
       "<div>\n",
       "<style scoped>\n",
       "    .dataframe tbody tr th:only-of-type {\n",
       "        vertical-align: middle;\n",
       "    }\n",
       "\n",
       "    .dataframe tbody tr th {\n",
       "        vertical-align: top;\n",
       "    }\n",
       "\n",
       "    .dataframe thead th {\n",
       "        text-align: right;\n",
       "    }\n",
       "</style>\n",
       "<table border=\"1\" class=\"dataframe\">\n",
       "  <thead>\n",
       "    <tr style=\"text-align: right;\">\n",
       "      <th></th>\n",
       "      <th>user_id</th>\n",
       "      <th>month</th>\n",
       "      <th>gb_total</th>\n",
       "      <th>messages_number</th>\n",
       "      <th>calls_number</th>\n",
       "      <th>calls_duration</th>\n",
       "    </tr>\n",
       "  </thead>\n",
       "  <tbody>\n",
       "    <tr>\n",
       "      <th>0</th>\n",
       "      <td>1000</td>\n",
       "      <td>5</td>\n",
       "      <td>3.0</td>\n",
       "      <td>22.0</td>\n",
       "      <td>22.0</td>\n",
       "      <td>159.0</td>\n",
       "    </tr>\n",
       "    <tr>\n",
       "      <th>1</th>\n",
       "      <td>1000</td>\n",
       "      <td>6</td>\n",
       "      <td>23.0</td>\n",
       "      <td>60.0</td>\n",
       "      <td>43.0</td>\n",
       "      <td>172.0</td>\n",
       "    </tr>\n",
       "    <tr>\n",
       "      <th>2</th>\n",
       "      <td>1000</td>\n",
       "      <td>7</td>\n",
       "      <td>14.0</td>\n",
       "      <td>75.0</td>\n",
       "      <td>47.0</td>\n",
       "      <td>340.0</td>\n",
       "    </tr>\n",
       "    <tr>\n",
       "      <th>3</th>\n",
       "      <td>1000</td>\n",
       "      <td>8</td>\n",
       "      <td>14.0</td>\n",
       "      <td>81.0</td>\n",
       "      <td>52.0</td>\n",
       "      <td>408.0</td>\n",
       "    </tr>\n",
       "    <tr>\n",
       "      <th>4</th>\n",
       "      <td>1000</td>\n",
       "      <td>9</td>\n",
       "      <td>15.0</td>\n",
       "      <td>57.0</td>\n",
       "      <td>58.0</td>\n",
       "      <td>466.0</td>\n",
       "    </tr>\n",
       "  </tbody>\n",
       "</table>\n",
       "</div>"
      ],
      "text/plain": [
       "   user_id  month  gb_total  messages_number  calls_number  calls_duration\n",
       "0     1000      5       3.0             22.0          22.0           159.0\n",
       "1     1000      6      23.0             60.0          43.0           172.0\n",
       "2     1000      7      14.0             75.0          47.0           340.0\n",
       "3     1000      8      14.0             81.0          52.0           408.0\n",
       "4     1000      9      15.0             57.0          58.0           466.0"
      ]
     },
     "execution_count": 33,
     "metadata": {},
     "output_type": "execute_result"
    }
   ],
   "source": [
    "df_amount.head()"
   ]
  },
  {
   "cell_type": "code",
   "execution_count": 34,
   "metadata": {},
   "outputs": [
    {
     "data": {
      "text/html": [
       "<div>\n",
       "<style scoped>\n",
       "    .dataframe tbody tr th:only-of-type {\n",
       "        vertical-align: middle;\n",
       "    }\n",
       "\n",
       "    .dataframe tbody tr th {\n",
       "        vertical-align: top;\n",
       "    }\n",
       "\n",
       "    .dataframe thead th {\n",
       "        text-align: right;\n",
       "    }\n",
       "</style>\n",
       "<table border=\"1\" class=\"dataframe\">\n",
       "  <thead>\n",
       "    <tr style=\"text-align: right;\">\n",
       "      <th></th>\n",
       "      <th>messages_included</th>\n",
       "      <th>mb_per_month_included</th>\n",
       "      <th>minutes_included</th>\n",
       "      <th>rub_monthly_fee</th>\n",
       "      <th>rub_per_gb</th>\n",
       "      <th>rub_per_message</th>\n",
       "      <th>rub_per_minute</th>\n",
       "      <th>tariff_name</th>\n",
       "    </tr>\n",
       "  </thead>\n",
       "  <tbody>\n",
       "    <tr>\n",
       "      <th>0</th>\n",
       "      <td>50</td>\n",
       "      <td>15360</td>\n",
       "      <td>500</td>\n",
       "      <td>550</td>\n",
       "      <td>200</td>\n",
       "      <td>3</td>\n",
       "      <td>3</td>\n",
       "      <td>smart</td>\n",
       "    </tr>\n",
       "    <tr>\n",
       "      <th>1</th>\n",
       "      <td>1000</td>\n",
       "      <td>30720</td>\n",
       "      <td>3000</td>\n",
       "      <td>1950</td>\n",
       "      <td>150</td>\n",
       "      <td>1</td>\n",
       "      <td>1</td>\n",
       "      <td>ultra</td>\n",
       "    </tr>\n",
       "  </tbody>\n",
       "</table>\n",
       "</div>"
      ],
      "text/plain": [
       "   messages_included  mb_per_month_included  minutes_included  \\\n",
       "0                 50                  15360               500   \n",
       "1               1000                  30720              3000   \n",
       "\n",
       "   rub_monthly_fee  rub_per_gb  rub_per_message  rub_per_minute tariff_name  \n",
       "0              550         200                3               3       smart  \n",
       "1             1950         150                1               1       ultra  "
      ]
     },
     "execution_count": 34,
     "metadata": {},
     "output_type": "execute_result"
    }
   ],
   "source": [
    "df_tariffs"
   ]
  },
  {
   "cell_type": "code",
   "execution_count": 35,
   "metadata": {},
   "outputs": [
    {
     "data": {
      "text/html": [
       "<div>\n",
       "<style scoped>\n",
       "    .dataframe tbody tr th:only-of-type {\n",
       "        vertical-align: middle;\n",
       "    }\n",
       "\n",
       "    .dataframe tbody tr th {\n",
       "        vertical-align: top;\n",
       "    }\n",
       "\n",
       "    .dataframe thead th {\n",
       "        text-align: right;\n",
       "    }\n",
       "</style>\n",
       "<table border=\"1\" class=\"dataframe\">\n",
       "  <thead>\n",
       "    <tr style=\"text-align: right;\">\n",
       "      <th></th>\n",
       "      <th>user_id</th>\n",
       "      <th>age</th>\n",
       "      <th>churn_date</th>\n",
       "      <th>city</th>\n",
       "      <th>first_name</th>\n",
       "      <th>last_name</th>\n",
       "      <th>reg_date</th>\n",
       "      <th>tariff</th>\n",
       "    </tr>\n",
       "  </thead>\n",
       "  <tbody>\n",
       "    <tr>\n",
       "      <th>0</th>\n",
       "      <td>1000</td>\n",
       "      <td>52</td>\n",
       "      <td>NaN</td>\n",
       "      <td>Краснодар</td>\n",
       "      <td>Рафаил</td>\n",
       "      <td>Верещагин</td>\n",
       "      <td>2018-05-25</td>\n",
       "      <td>ultra</td>\n",
       "    </tr>\n",
       "    <tr>\n",
       "      <th>1</th>\n",
       "      <td>1001</td>\n",
       "      <td>41</td>\n",
       "      <td>NaN</td>\n",
       "      <td>Москва</td>\n",
       "      <td>Иван</td>\n",
       "      <td>Ежов</td>\n",
       "      <td>2018-11-01</td>\n",
       "      <td>smart</td>\n",
       "    </tr>\n",
       "    <tr>\n",
       "      <th>2</th>\n",
       "      <td>1002</td>\n",
       "      <td>59</td>\n",
       "      <td>NaN</td>\n",
       "      <td>Стерлитамак</td>\n",
       "      <td>Евгений</td>\n",
       "      <td>Абрамович</td>\n",
       "      <td>2018-06-17</td>\n",
       "      <td>smart</td>\n",
       "    </tr>\n",
       "  </tbody>\n",
       "</table>\n",
       "</div>"
      ],
      "text/plain": [
       "   user_id  age churn_date         city first_name  last_name   reg_date  \\\n",
       "0     1000   52        NaN    Краснодар     Рафаил  Верещагин 2018-05-25   \n",
       "1     1001   41        NaN       Москва       Иван       Ежов 2018-11-01   \n",
       "2     1002   59        NaN  Стерлитамак    Евгений  Абрамович 2018-06-17   \n",
       "\n",
       "  tariff  \n",
       "0  ultra  \n",
       "1  smart  \n",
       "2  smart  "
      ]
     },
     "execution_count": 35,
     "metadata": {},
     "output_type": "execute_result"
    }
   ],
   "source": [
    "df_users.head(3)"
   ]
  },
  {
   "cell_type": "code",
   "execution_count": 36,
   "metadata": {
    "scrolled": true
   },
   "outputs": [],
   "source": [
    "# объединим полученную таблицу с информацией о тарифах и городах и возрасте пользователей\n",
    "df_amount = df_amount.merge(df_users[['user_id', 'tariff', 'city', 'age']], on='user_id').merge(df_tariffs, \n",
    "                                                                                                left_on = 'tariff', \n",
    "                                                                                                right_on = 'tariff_name')"
   ]
  },
  {
   "cell_type": "markdown",
   "metadata": {},
   "source": [
    "Убедимся, что получили то, что хотели"
   ]
  },
  {
   "cell_type": "code",
   "execution_count": 37,
   "metadata": {
    "scrolled": false
   },
   "outputs": [
    {
     "data": {
      "text/html": [
       "<div>\n",
       "<style scoped>\n",
       "    .dataframe tbody tr th:only-of-type {\n",
       "        vertical-align: middle;\n",
       "    }\n",
       "\n",
       "    .dataframe tbody tr th {\n",
       "        vertical-align: top;\n",
       "    }\n",
       "\n",
       "    .dataframe thead th {\n",
       "        text-align: right;\n",
       "    }\n",
       "</style>\n",
       "<table border=\"1\" class=\"dataframe\">\n",
       "  <thead>\n",
       "    <tr style=\"text-align: right;\">\n",
       "      <th></th>\n",
       "      <th>user_id</th>\n",
       "      <th>month</th>\n",
       "      <th>gb_total</th>\n",
       "      <th>messages_number</th>\n",
       "      <th>calls_number</th>\n",
       "      <th>calls_duration</th>\n",
       "      <th>tariff</th>\n",
       "      <th>city</th>\n",
       "      <th>age</th>\n",
       "      <th>messages_included</th>\n",
       "      <th>mb_per_month_included</th>\n",
       "      <th>minutes_included</th>\n",
       "      <th>rub_monthly_fee</th>\n",
       "      <th>rub_per_gb</th>\n",
       "      <th>rub_per_message</th>\n",
       "      <th>rub_per_minute</th>\n",
       "      <th>tariff_name</th>\n",
       "    </tr>\n",
       "  </thead>\n",
       "  <tbody>\n",
       "    <tr>\n",
       "      <th>2960</th>\n",
       "      <td>1443</td>\n",
       "      <td>11</td>\n",
       "      <td>17.0</td>\n",
       "      <td>21.0</td>\n",
       "      <td>101.0</td>\n",
       "      <td>761.0</td>\n",
       "      <td>smart</td>\n",
       "      <td>Казань</td>\n",
       "      <td>21</td>\n",
       "      <td>50</td>\n",
       "      <td>15360</td>\n",
       "      <td>500</td>\n",
       "      <td>550</td>\n",
       "      <td>200</td>\n",
       "      <td>3</td>\n",
       "      <td>3</td>\n",
       "      <td>smart</td>\n",
       "    </tr>\n",
       "    <tr>\n",
       "      <th>59</th>\n",
       "      <td>1039</td>\n",
       "      <td>10</td>\n",
       "      <td>24.0</td>\n",
       "      <td>140.0</td>\n",
       "      <td>80.0</td>\n",
       "      <td>576.0</td>\n",
       "      <td>ultra</td>\n",
       "      <td>Ярославль</td>\n",
       "      <td>40</td>\n",
       "      <td>1000</td>\n",
       "      <td>30720</td>\n",
       "      <td>3000</td>\n",
       "      <td>1950</td>\n",
       "      <td>150</td>\n",
       "      <td>1</td>\n",
       "      <td>1</td>\n",
       "      <td>ultra</td>\n",
       "    </tr>\n",
       "    <tr>\n",
       "      <th>587</th>\n",
       "      <td>1330</td>\n",
       "      <td>11</td>\n",
       "      <td>28.0</td>\n",
       "      <td>79.0</td>\n",
       "      <td>94.0</td>\n",
       "      <td>604.0</td>\n",
       "      <td>ultra</td>\n",
       "      <td>Нижний Новгород</td>\n",
       "      <td>65</td>\n",
       "      <td>1000</td>\n",
       "      <td>30720</td>\n",
       "      <td>3000</td>\n",
       "      <td>1950</td>\n",
       "      <td>150</td>\n",
       "      <td>1</td>\n",
       "      <td>1</td>\n",
       "      <td>ultra</td>\n",
       "    </tr>\n",
       "    <tr>\n",
       "      <th>2359</th>\n",
       "      <td>1301</td>\n",
       "      <td>9</td>\n",
       "      <td>1.0</td>\n",
       "      <td>NaN</td>\n",
       "      <td>10.0</td>\n",
       "      <td>65.0</td>\n",
       "      <td>smart</td>\n",
       "      <td>Махачкала</td>\n",
       "      <td>26</td>\n",
       "      <td>50</td>\n",
       "      <td>15360</td>\n",
       "      <td>500</td>\n",
       "      <td>550</td>\n",
       "      <td>200</td>\n",
       "      <td>3</td>\n",
       "      <td>3</td>\n",
       "      <td>smart</td>\n",
       "    </tr>\n",
       "    <tr>\n",
       "      <th>2044</th>\n",
       "      <td>1227</td>\n",
       "      <td>8</td>\n",
       "      <td>23.0</td>\n",
       "      <td>20.0</td>\n",
       "      <td>86.0</td>\n",
       "      <td>620.0</td>\n",
       "      <td>smart</td>\n",
       "      <td>Санкт-Петербург</td>\n",
       "      <td>66</td>\n",
       "      <td>50</td>\n",
       "      <td>15360</td>\n",
       "      <td>500</td>\n",
       "      <td>550</td>\n",
       "      <td>200</td>\n",
       "      <td>3</td>\n",
       "      <td>3</td>\n",
       "      <td>smart</td>\n",
       "    </tr>\n",
       "    <tr>\n",
       "      <th>2684</th>\n",
       "      <td>1386</td>\n",
       "      <td>9</td>\n",
       "      <td>31.0</td>\n",
       "      <td>53.0</td>\n",
       "      <td>69.0</td>\n",
       "      <td>352.0</td>\n",
       "      <td>smart</td>\n",
       "      <td>Новосибирск</td>\n",
       "      <td>21</td>\n",
       "      <td>50</td>\n",
       "      <td>15360</td>\n",
       "      <td>500</td>\n",
       "      <td>550</td>\n",
       "      <td>200</td>\n",
       "      <td>3</td>\n",
       "      <td>3</td>\n",
       "      <td>smart</td>\n",
       "    </tr>\n",
       "    <tr>\n",
       "      <th>2619</th>\n",
       "      <td>1372</td>\n",
       "      <td>2</td>\n",
       "      <td>10.0</td>\n",
       "      <td>29.0</td>\n",
       "      <td>62.0</td>\n",
       "      <td>560.0</td>\n",
       "      <td>smart</td>\n",
       "      <td>Магнитогорск</td>\n",
       "      <td>71</td>\n",
       "      <td>50</td>\n",
       "      <td>15360</td>\n",
       "      <td>500</td>\n",
       "      <td>550</td>\n",
       "      <td>200</td>\n",
       "      <td>3</td>\n",
       "      <td>3</td>\n",
       "      <td>smart</td>\n",
       "    </tr>\n",
       "    <tr>\n",
       "      <th>1333</th>\n",
       "      <td>1071</td>\n",
       "      <td>7</td>\n",
       "      <td>22.0</td>\n",
       "      <td>17.0</td>\n",
       "      <td>36.0</td>\n",
       "      <td>281.0</td>\n",
       "      <td>smart</td>\n",
       "      <td>Омск</td>\n",
       "      <td>20</td>\n",
       "      <td>50</td>\n",
       "      <td>15360</td>\n",
       "      <td>500</td>\n",
       "      <td>550</td>\n",
       "      <td>200</td>\n",
       "      <td>3</td>\n",
       "      <td>3</td>\n",
       "      <td>smart</td>\n",
       "    </tr>\n",
       "    <tr>\n",
       "      <th>1587</th>\n",
       "      <td>1134</td>\n",
       "      <td>1</td>\n",
       "      <td>10.0</td>\n",
       "      <td>32.0</td>\n",
       "      <td>42.0</td>\n",
       "      <td>332.0</td>\n",
       "      <td>smart</td>\n",
       "      <td>Красноярск</td>\n",
       "      <td>65</td>\n",
       "      <td>50</td>\n",
       "      <td>15360</td>\n",
       "      <td>500</td>\n",
       "      <td>550</td>\n",
       "      <td>200</td>\n",
       "      <td>3</td>\n",
       "      <td>3</td>\n",
       "      <td>smart</td>\n",
       "    </tr>\n",
       "    <tr>\n",
       "      <th>1323</th>\n",
       "      <td>1070</td>\n",
       "      <td>9</td>\n",
       "      <td>11.0</td>\n",
       "      <td>8.0</td>\n",
       "      <td>61.0</td>\n",
       "      <td>514.0</td>\n",
       "      <td>smart</td>\n",
       "      <td>Химки</td>\n",
       "      <td>20</td>\n",
       "      <td>50</td>\n",
       "      <td>15360</td>\n",
       "      <td>500</td>\n",
       "      <td>550</td>\n",
       "      <td>200</td>\n",
       "      <td>3</td>\n",
       "      <td>3</td>\n",
       "      <td>smart</td>\n",
       "    </tr>\n",
       "  </tbody>\n",
       "</table>\n",
       "</div>"
      ],
      "text/plain": [
       "      user_id  month  gb_total  messages_number  calls_number  calls_duration  \\\n",
       "2960     1443     11      17.0             21.0         101.0           761.0   \n",
       "59       1039     10      24.0            140.0          80.0           576.0   \n",
       "587      1330     11      28.0             79.0          94.0           604.0   \n",
       "2359     1301      9       1.0              NaN          10.0            65.0   \n",
       "2044     1227      8      23.0             20.0          86.0           620.0   \n",
       "2684     1386      9      31.0             53.0          69.0           352.0   \n",
       "2619     1372      2      10.0             29.0          62.0           560.0   \n",
       "1333     1071      7      22.0             17.0          36.0           281.0   \n",
       "1587     1134      1      10.0             32.0          42.0           332.0   \n",
       "1323     1070      9      11.0              8.0          61.0           514.0   \n",
       "\n",
       "     tariff             city  age  messages_included  mb_per_month_included  \\\n",
       "2960  smart           Казань   21                 50                  15360   \n",
       "59    ultra        Ярославль   40               1000                  30720   \n",
       "587   ultra  Нижний Новгород   65               1000                  30720   \n",
       "2359  smart        Махачкала   26                 50                  15360   \n",
       "2044  smart  Санкт-Петербург   66                 50                  15360   \n",
       "2684  smart      Новосибирск   21                 50                  15360   \n",
       "2619  smart     Магнитогорск   71                 50                  15360   \n",
       "1333  smart             Омск   20                 50                  15360   \n",
       "1587  smart       Красноярск   65                 50                  15360   \n",
       "1323  smart            Химки   20                 50                  15360   \n",
       "\n",
       "      minutes_included  rub_monthly_fee  rub_per_gb  rub_per_message  \\\n",
       "2960               500              550         200                3   \n",
       "59                3000             1950         150                1   \n",
       "587               3000             1950         150                1   \n",
       "2359               500              550         200                3   \n",
       "2044               500              550         200                3   \n",
       "2684               500              550         200                3   \n",
       "2619               500              550         200                3   \n",
       "1333               500              550         200                3   \n",
       "1587               500              550         200                3   \n",
       "1323               500              550         200                3   \n",
       "\n",
       "      rub_per_minute tariff_name  \n",
       "2960               3       smart  \n",
       "59                 1       ultra  \n",
       "587                1       ultra  \n",
       "2359               3       smart  \n",
       "2044               3       smart  \n",
       "2684               3       smart  \n",
       "2619               3       smart  \n",
       "1333               3       smart  \n",
       "1587               3       smart  \n",
       "1323               3       smart  "
      ]
     },
     "execution_count": 37,
     "metadata": {},
     "output_type": "execute_result"
    }
   ],
   "source": [
    "df_amount.sample(10)"
   ]
  },
  {
   "cell_type": "markdown",
   "metadata": {},
   "source": [
    "Посчитаем помесячную выручку с каждого пользователя "
   ]
  },
  {
   "cell_type": "code",
   "execution_count": 38,
   "metadata": {
    "scrolled": true
   },
   "outputs": [],
   "source": [
    "# перерасход сообщений\n",
    "df_amount.loc[df_amount['messages_number'] > df_amount['messages_included'],\n",
    "              'message_overspend'] = (df_amount['messages_number'] - df_amount['messages_included'])\n",
    "\n",
    "# перерасход звоноков в минутах\n",
    "df_amount.loc[df_amount['calls_duration'] > df_amount['minutes_included'],\n",
    "              'minutes_overspend'] = (df_amount['calls_duration'].apply(np.ceil) - df_amount['minutes_included'])\n",
    "\n",
    "# перерасход в гб\n",
    "df_amount.loc[df_amount['gb_total'] > (df_amount['mb_per_month_included']/1024),\n",
    "              'gb_overspend'] = (df_amount['gb_total'] - df_amount['mb_per_month_included']/1024)\n",
    "\n",
    "# заменим пропуски в перерасходах на нули\n",
    "df_amount[['message_overspend',\n",
    "           'minutes_overspend', \n",
    "           'gb_overspend']] = df_amount[['message_overspend', \n",
    "                                         'minutes_overspend', \n",
    "                                         'gb_overspend']].fillna(0)\n",
    "# выручка \n",
    "df_amount['revenue'] = (df_amount['message_overspend'] * df_amount['rub_per_message'] +\n",
    "                        df_amount['minutes_overspend'] * df_amount['rub_per_minute'] +\n",
    "                        df_amount['gb_overspend'] * df_amount['rub_per_gb'] + \n",
    "                        df_amount['rub_monthly_fee']\n",
    "                       )\n"
   ]
  },
  {
   "cell_type": "markdown",
   "metadata": {},
   "source": [
    "Найдем результирующий столбец с выручкой в конце таблицы"
   ]
  },
  {
   "cell_type": "code",
   "execution_count": 39,
   "metadata": {
    "scrolled": true
   },
   "outputs": [
    {
     "data": {
      "text/html": [
       "<div>\n",
       "<style scoped>\n",
       "    .dataframe tbody tr th:only-of-type {\n",
       "        vertical-align: middle;\n",
       "    }\n",
       "\n",
       "    .dataframe tbody tr th {\n",
       "        vertical-align: top;\n",
       "    }\n",
       "\n",
       "    .dataframe thead th {\n",
       "        text-align: right;\n",
       "    }\n",
       "</style>\n",
       "<table border=\"1\" class=\"dataframe\">\n",
       "  <thead>\n",
       "    <tr style=\"text-align: right;\">\n",
       "      <th></th>\n",
       "      <th>user_id</th>\n",
       "      <th>month</th>\n",
       "      <th>gb_total</th>\n",
       "      <th>messages_number</th>\n",
       "      <th>calls_number</th>\n",
       "      <th>calls_duration</th>\n",
       "      <th>tariff</th>\n",
       "      <th>city</th>\n",
       "      <th>age</th>\n",
       "      <th>messages_included</th>\n",
       "      <th>...</th>\n",
       "      <th>minutes_included</th>\n",
       "      <th>rub_monthly_fee</th>\n",
       "      <th>rub_per_gb</th>\n",
       "      <th>rub_per_message</th>\n",
       "      <th>rub_per_minute</th>\n",
       "      <th>tariff_name</th>\n",
       "      <th>message_overspend</th>\n",
       "      <th>minutes_overspend</th>\n",
       "      <th>gb_overspend</th>\n",
       "      <th>revenue</th>\n",
       "    </tr>\n",
       "  </thead>\n",
       "  <tbody>\n",
       "    <tr>\n",
       "      <th>2920</th>\n",
       "      <td>1433</td>\n",
       "      <td>4</td>\n",
       "      <td>19.0</td>\n",
       "      <td>96.0</td>\n",
       "      <td>66.0</td>\n",
       "      <td>406.0</td>\n",
       "      <td>smart</td>\n",
       "      <td>Подольск</td>\n",
       "      <td>71</td>\n",
       "      <td>50</td>\n",
       "      <td>...</td>\n",
       "      <td>500</td>\n",
       "      <td>550</td>\n",
       "      <td>200</td>\n",
       "      <td>3</td>\n",
       "      <td>3</td>\n",
       "      <td>smart</td>\n",
       "      <td>46.0</td>\n",
       "      <td>0.0</td>\n",
       "      <td>4.0</td>\n",
       "      <td>1488.0</td>\n",
       "    </tr>\n",
       "    <tr>\n",
       "      <th>1588</th>\n",
       "      <td>1134</td>\n",
       "      <td>2</td>\n",
       "      <td>13.0</td>\n",
       "      <td>47.0</td>\n",
       "      <td>59.0</td>\n",
       "      <td>458.0</td>\n",
       "      <td>smart</td>\n",
       "      <td>Красноярск</td>\n",
       "      <td>65</td>\n",
       "      <td>50</td>\n",
       "      <td>...</td>\n",
       "      <td>500</td>\n",
       "      <td>550</td>\n",
       "      <td>200</td>\n",
       "      <td>3</td>\n",
       "      <td>3</td>\n",
       "      <td>smart</td>\n",
       "      <td>0.0</td>\n",
       "      <td>0.0</td>\n",
       "      <td>0.0</td>\n",
       "      <td>550.0</td>\n",
       "    </tr>\n",
       "    <tr>\n",
       "      <th>309</th>\n",
       "      <td>1180</td>\n",
       "      <td>4</td>\n",
       "      <td>31.0</td>\n",
       "      <td>14.0</td>\n",
       "      <td>10.0</td>\n",
       "      <td>76.0</td>\n",
       "      <td>ultra</td>\n",
       "      <td>Москва</td>\n",
       "      <td>27</td>\n",
       "      <td>1000</td>\n",
       "      <td>...</td>\n",
       "      <td>3000</td>\n",
       "      <td>1950</td>\n",
       "      <td>150</td>\n",
       "      <td>1</td>\n",
       "      <td>1</td>\n",
       "      <td>ultra</td>\n",
       "      <td>0.0</td>\n",
       "      <td>0.0</td>\n",
       "      <td>1.0</td>\n",
       "      <td>2100.0</td>\n",
       "    </tr>\n",
       "    <tr>\n",
       "      <th>1080</th>\n",
       "      <td>1017</td>\n",
       "      <td>6</td>\n",
       "      <td>17.0</td>\n",
       "      <td>NaN</td>\n",
       "      <td>54.0</td>\n",
       "      <td>341.0</td>\n",
       "      <td>smart</td>\n",
       "      <td>Краснодар</td>\n",
       "      <td>73</td>\n",
       "      <td>50</td>\n",
       "      <td>...</td>\n",
       "      <td>500</td>\n",
       "      <td>550</td>\n",
       "      <td>200</td>\n",
       "      <td>3</td>\n",
       "      <td>3</td>\n",
       "      <td>smart</td>\n",
       "      <td>0.0</td>\n",
       "      <td>0.0</td>\n",
       "      <td>2.0</td>\n",
       "      <td>950.0</td>\n",
       "    </tr>\n",
       "    <tr>\n",
       "      <th>781</th>\n",
       "      <td>1392</td>\n",
       "      <td>4</td>\n",
       "      <td>15.0</td>\n",
       "      <td>33.0</td>\n",
       "      <td>67.0</td>\n",
       "      <td>436.0</td>\n",
       "      <td>ultra</td>\n",
       "      <td>Челябинск</td>\n",
       "      <td>54</td>\n",
       "      <td>1000</td>\n",
       "      <td>...</td>\n",
       "      <td>3000</td>\n",
       "      <td>1950</td>\n",
       "      <td>150</td>\n",
       "      <td>1</td>\n",
       "      <td>1</td>\n",
       "      <td>ultra</td>\n",
       "      <td>0.0</td>\n",
       "      <td>0.0</td>\n",
       "      <td>0.0</td>\n",
       "      <td>1950.0</td>\n",
       "    </tr>\n",
       "  </tbody>\n",
       "</table>\n",
       "<p>5 rows × 21 columns</p>\n",
       "</div>"
      ],
      "text/plain": [
       "      user_id  month  gb_total  messages_number  calls_number  calls_duration  \\\n",
       "2920     1433      4      19.0             96.0          66.0           406.0   \n",
       "1588     1134      2      13.0             47.0          59.0           458.0   \n",
       "309      1180      4      31.0             14.0          10.0            76.0   \n",
       "1080     1017      6      17.0              NaN          54.0           341.0   \n",
       "781      1392      4      15.0             33.0          67.0           436.0   \n",
       "\n",
       "     tariff        city  age  messages_included  ...  minutes_included  \\\n",
       "2920  smart    Подольск   71                 50  ...               500   \n",
       "1588  smart  Красноярск   65                 50  ...               500   \n",
       "309   ultra      Москва   27               1000  ...              3000   \n",
       "1080  smart   Краснодар   73                 50  ...               500   \n",
       "781   ultra   Челябинск   54               1000  ...              3000   \n",
       "\n",
       "      rub_monthly_fee  rub_per_gb  rub_per_message  rub_per_minute  \\\n",
       "2920              550         200                3               3   \n",
       "1588              550         200                3               3   \n",
       "309              1950         150                1               1   \n",
       "1080              550         200                3               3   \n",
       "781              1950         150                1               1   \n",
       "\n",
       "      tariff_name message_overspend  minutes_overspend  gb_overspend  revenue  \n",
       "2920        smart              46.0                0.0           4.0   1488.0  \n",
       "1588        smart               0.0                0.0           0.0    550.0  \n",
       "309         ultra               0.0                0.0           1.0   2100.0  \n",
       "1080        smart               0.0                0.0           2.0    950.0  \n",
       "781         ultra               0.0                0.0           0.0   1950.0  \n",
       "\n",
       "[5 rows x 21 columns]"
      ]
     },
     "execution_count": 39,
     "metadata": {},
     "output_type": "execute_result"
    }
   ],
   "source": [
    "df_amount.sample(5)"
   ]
  },
  {
   "cell_type": "markdown",
   "metadata": {},
   "source": [
    "## Исследовательский анализ"
   ]
  },
  {
   "cell_type": "markdown",
   "metadata": {},
   "source": [
    "Проанализируем поведение клиентов оператора, исходя из выборки. Выясним сколько минут разговора, сколько сообщений и какой объём интернет-трафика требуется пользователям каждого тарифа в месяц."
   ]
  },
  {
   "cell_type": "code",
   "execution_count": 40,
   "metadata": {
    "scrolled": true
   },
   "outputs": [
    {
     "name": "stdout",
     "output_type": "stream",
     "text": [
      "Тариф ultra:\n"
     ]
    },
    {
     "data": {
      "text/html": [
       "<div>\n",
       "<style scoped>\n",
       "    .dataframe tbody tr th:only-of-type {\n",
       "        vertical-align: middle;\n",
       "    }\n",
       "\n",
       "    .dataframe tbody tr th {\n",
       "        vertical-align: top;\n",
       "    }\n",
       "\n",
       "    .dataframe thead th {\n",
       "        text-align: right;\n",
       "    }\n",
       "</style>\n",
       "<table border=\"1\" class=\"dataframe\">\n",
       "  <thead>\n",
       "    <tr style=\"text-align: right;\">\n",
       "      <th></th>\n",
       "      <th>gb_total</th>\n",
       "      <th>messages_number</th>\n",
       "      <th>calls_number</th>\n",
       "      <th>calls_duration</th>\n",
       "      <th>revenue</th>\n",
       "    </tr>\n",
       "  </thead>\n",
       "  <tbody>\n",
       "    <tr>\n",
       "      <th>Mean</th>\n",
       "      <td>19.694359</td>\n",
       "      <td>61.161006</td>\n",
       "      <td>76.016824</td>\n",
       "      <td>545.451111</td>\n",
       "      <td>2070.152284</td>\n",
       "    </tr>\n",
       "    <tr>\n",
       "      <th>Std. dev</th>\n",
       "      <td>9.702924</td>\n",
       "      <td>45.931026</td>\n",
       "      <td>42.403348</td>\n",
       "      <td>306.925751</td>\n",
       "      <td>376.187114</td>\n",
       "    </tr>\n",
       "    <tr>\n",
       "      <th>Variance</th>\n",
       "      <td>94.146736</td>\n",
       "      <td>2109.659183</td>\n",
       "      <td>1798.043927</td>\n",
       "      <td>94203.421875</td>\n",
       "      <td>141516.745079</td>\n",
       "    </tr>\n",
       "  </tbody>\n",
       "</table>\n",
       "</div>"
      ],
      "text/plain": [
       "           gb_total  messages_number  calls_number  calls_duration  \\\n",
       "Mean      19.694359        61.161006     76.016824      545.451111   \n",
       "Std. dev   9.702924        45.931026     42.403348      306.925751   \n",
       "Variance  94.146736      2109.659183   1798.043927    94203.421875   \n",
       "\n",
       "                revenue  \n",
       "Mean        2070.152284  \n",
       "Std. dev     376.187114  \n",
       "Variance  141516.745079  "
      ]
     },
     "metadata": {},
     "output_type": "display_data"
    },
    {
     "name": "stdout",
     "output_type": "stream",
     "text": [
      "Тариф smart:\n"
     ]
    },
    {
     "data": {
      "text/html": [
       "<div>\n",
       "<style scoped>\n",
       "    .dataframe tbody tr th:only-of-type {\n",
       "        vertical-align: middle;\n",
       "    }\n",
       "\n",
       "    .dataframe tbody tr th {\n",
       "        vertical-align: top;\n",
       "    }\n",
       "\n",
       "    .dataframe thead th {\n",
       "        text-align: right;\n",
       "    }\n",
       "</style>\n",
       "<table border=\"1\" class=\"dataframe\">\n",
       "  <thead>\n",
       "    <tr style=\"text-align: right;\">\n",
       "      <th></th>\n",
       "      <th>gb_total</th>\n",
       "      <th>messages_number</th>\n",
       "      <th>calls_number</th>\n",
       "      <th>calls_duration</th>\n",
       "      <th>revenue</th>\n",
       "    </tr>\n",
       "  </thead>\n",
       "  <tbody>\n",
       "    <tr>\n",
       "      <th>Mean</th>\n",
       "      <td>16.336176</td>\n",
       "      <td>38.716441</td>\n",
       "      <td>58.621233</td>\n",
       "      <td>419.062988</td>\n",
       "      <td>1289.973531</td>\n",
       "    </tr>\n",
       "    <tr>\n",
       "      <th>Std. dev</th>\n",
       "      <td>5.737923</td>\n",
       "      <td>26.787949</td>\n",
       "      <td>25.796101</td>\n",
       "      <td>189.325623</td>\n",
       "      <td>818.404367</td>\n",
       "    </tr>\n",
       "    <tr>\n",
       "      <th>Variance</th>\n",
       "      <td>32.923756</td>\n",
       "      <td>717.594201</td>\n",
       "      <td>665.438829</td>\n",
       "      <td>35844.191406</td>\n",
       "      <td>669785.708006</td>\n",
       "    </tr>\n",
       "  </tbody>\n",
       "</table>\n",
       "</div>"
      ],
      "text/plain": [
       "           gb_total  messages_number  calls_number  calls_duration  \\\n",
       "Mean      16.336176        38.716441     58.621233      419.062988   \n",
       "Std. dev   5.737923        26.787949     25.796101      189.325623   \n",
       "Variance  32.923756       717.594201    665.438829    35844.191406   \n",
       "\n",
       "                revenue  \n",
       "Mean        1289.973531  \n",
       "Std. dev     818.404367  \n",
       "Variance  669785.708006  "
      ]
     },
     "metadata": {},
     "output_type": "display_data"
    }
   ],
   "source": [
    "\n",
    "# Посчитаем среднее количество, дисперсию и стандартное отклонение для показателей поведения пользователей и выручки \n",
    "\n",
    "\n",
    "cols = ['gb_total', 'messages_number', 'calls_number', 'calls_duration', 'revenue']\n",
    "\n",
    "print('Тариф ultra:')\n",
    "\n",
    "display(pd.DataFrame([df_amount.query('tariff == \"ultra\"')[cols].mean(),\n",
    "                      df_amount.query('tariff == \"ultra\"')[cols].std(),\n",
    "                      df_amount.query('tariff == \"ultra\"')[cols].var()], index=['Mean', 'Std. dev', 'Variance']))\n",
    "\n",
    "print('Тариф smart:')\n",
    "\n",
    "display(pd.DataFrame([df_amount.query('tariff == \"smart\"')[cols].mean(),\n",
    "                      df_amount.query('tariff == \"smart\"')[cols].std(),\n",
    "                      df_amount.query('tariff == \"smart\"')[cols].var()], index=['Mean', 'Std. dev', 'Variance']))"
   ]
  },
  {
   "cell_type": "markdown",
   "metadata": {},
   "source": [
    "Видим, что среднее количество сообщений, минут разговора, интернета и выручки на представленной выборке существенно различаются для разных тарифов. В среднем, пользователи ultra тратят больше трафика и приносят больше выручки по сравнению с пользователями smart. Однако разброс в данных о поведении пользователей, который характеризует значение дисперсии, существенно выше для тарифа ultra. Дисперсия выручки у тарифа ultra ниже чем у smart"
   ]
  },
  {
   "cell_type": "code",
   "execution_count": 41,
   "metadata": {},
   "outputs": [
    {
     "data": {
      "image/png": "[encoded data removed]",
      "text/plain": [
       "<Figure size 432x288 with 1 Axes>"
      ]
     },
     "metadata": {
      "needs_background": "light"
     },
     "output_type": "display_data"
    },
    {
     "data": {
      "image/png": "[encoded data removed]",
      "text/plain": [
       "<Figure size 432x288 with 1 Axes>"
      ]
     },
     "metadata": {
      "needs_background": "light"
     },
     "output_type": "display_data"
    },
    {
     "data": {
      "image/png": "[encoded data removed]",
      "text/plain": [
       "<Figure size 432x288 with 1 Axes>"
      ]
     },
     "metadata": {
      "needs_background": "light"
     },
     "output_type": "display_data"
    },
    {
     "data": {
      "image/png": "[encoded data removed]",
      "text/plain": [
       "<Figure size 432x288 with 1 Axes>"
      ]
     },
     "metadata": {
      "needs_background": "light"
     },
     "output_type": "display_data"
    },
    {
     "data": {
      "image/png": "[encoded data removed]",
      "text/plain": [
       "<Figure size 432x288 with 1 Axes>"
      ]
     },
     "metadata": {
      "needs_background": "light"
     },
     "output_type": "display_data"
    }
   ],
   "source": [
    "# Также, для наглядности, построим гистограммы для рассматриваемых показателей в зависимости от тарифа\n",
    "\n",
    "for col in cols:    \n",
    "    sns.histplot(data = df_amount, \n",
    "                 x = col, \n",
    "                 hue = 'tariff', \n",
    "                 kde = True,\n",
    "                 bins = 50,\n",
    "                 stat=\"density\",\n",
    "                 fill = False,\n",
    "                 common_norm=False\n",
    "                )\n",
    "    plt.show()"
   ]
  },
  {
   "cell_type": "markdown",
   "metadata": {},
   "source": [
    "Сделанные выводы подтверждаются: распределения для ultra менее плотные, дисперсия показателей поведения у пользователей ultra выше чем у пользователей smart. Пользователи ultra тратят больше телеком-трафика и приносят существенно больше выручки. Для выручки также видим, что распределение для smart, в отличии от ultra, имеет много значений выше своей абонентской платы 550 руб, то есть многим пользователям не хватает базового пакета трафика, установленного условиями тарифа. Пользователи ultra в большинстве своем укладываются в пакет трафика - хвост у распределения есть, но не такой выраженный"
   ]
  },
  {
   "cell_type": "code",
   "execution_count": 42,
   "metadata": {},
   "outputs": [],
   "source": [
    "# Создадим столбец с обобщенной информацией о городе клиена (Москва или другой город)\n",
    "\n",
    "df_amount.loc[df_amount['city'] == 'Москва','moscow_other'] = 'Moscow'\n",
    "df_amount.loc[df_amount['city'] != 'Москва','moscow_other'] = 'other'"
   ]
  },
  {
   "cell_type": "code",
   "execution_count": 43,
   "metadata": {},
   "outputs": [
    {
     "name": "stdout",
     "output_type": "stream",
     "text": [
      "Москва:\n"
     ]
    },
    {
     "data": {
      "text/html": [
       "<div>\n",
       "<style scoped>\n",
       "    .dataframe tbody tr th:only-of-type {\n",
       "        vertical-align: middle;\n",
       "    }\n",
       "\n",
       "    .dataframe tbody tr th {\n",
       "        vertical-align: top;\n",
       "    }\n",
       "\n",
       "    .dataframe thead th {\n",
       "        text-align: right;\n",
       "    }\n",
       "</style>\n",
       "<table border=\"1\" class=\"dataframe\">\n",
       "  <thead>\n",
       "    <tr style=\"text-align: right;\">\n",
       "      <th></th>\n",
       "      <th>gb_total</th>\n",
       "      <th>messages_number</th>\n",
       "      <th>calls_number</th>\n",
       "      <th>calls_duration</th>\n",
       "      <th>revenue</th>\n",
       "    </tr>\n",
       "  </thead>\n",
       "  <tbody>\n",
       "    <tr>\n",
       "      <th>Mean</th>\n",
       "      <td>18.050737</td>\n",
       "      <td>47.134420</td>\n",
       "      <td>65.544262</td>\n",
       "      <td>469.919678</td>\n",
       "      <td>1546.713584</td>\n",
       "    </tr>\n",
       "    <tr>\n",
       "      <th>Std. dev</th>\n",
       "      <td>7.645788</td>\n",
       "      <td>35.802837</td>\n",
       "      <td>33.107064</td>\n",
       "      <td>240.983322</td>\n",
       "      <td>752.088071</td>\n",
       "    </tr>\n",
       "    <tr>\n",
       "      <th>Variance</th>\n",
       "      <td>58.458076</td>\n",
       "      <td>1281.843119</td>\n",
       "      <td>1096.077676</td>\n",
       "      <td>58072.964844</td>\n",
       "      <td>565636.467012</td>\n",
       "    </tr>\n",
       "  </tbody>\n",
       "</table>\n",
       "</div>"
      ],
      "text/plain": [
       "           gb_total  messages_number  calls_number  calls_duration  \\\n",
       "Mean      18.050737        47.134420     65.544262      469.919678   \n",
       "Std. dev   7.645788        35.802837     33.107064      240.983322   \n",
       "Variance  58.458076      1281.843119   1096.077676    58072.964844   \n",
       "\n",
       "                revenue  \n",
       "Mean        1546.713584  \n",
       "Std. dev     752.088071  \n",
       "Variance  565636.467012  "
      ]
     },
     "metadata": {},
     "output_type": "display_data"
    },
    {
     "name": "stdout",
     "output_type": "stream",
     "text": [
      "Другие города:\n"
     ]
    },
    {
     "data": {
      "text/html": [
       "<div>\n",
       "<style scoped>\n",
       "    .dataframe tbody tr th:only-of-type {\n",
       "        vertical-align: middle;\n",
       "    }\n",
       "\n",
       "    .dataframe tbody tr th {\n",
       "        vertical-align: top;\n",
       "    }\n",
       "\n",
       "    .dataframe thead th {\n",
       "        text-align: right;\n",
       "    }\n",
       "</style>\n",
       "<table border=\"1\" class=\"dataframe\">\n",
       "  <thead>\n",
       "    <tr style=\"text-align: right;\">\n",
       "      <th></th>\n",
       "      <th>gb_total</th>\n",
       "      <th>messages_number</th>\n",
       "      <th>calls_number</th>\n",
       "      <th>calls_duration</th>\n",
       "      <th>revenue</th>\n",
       "    </tr>\n",
       "  </thead>\n",
       "  <tbody>\n",
       "    <tr>\n",
       "      <th>Mean</th>\n",
       "      <td>17.195215</td>\n",
       "      <td>44.875562</td>\n",
       "      <td>63.426287</td>\n",
       "      <td>453.841644</td>\n",
       "      <td>1524.936227</td>\n",
       "    </tr>\n",
       "    <tr>\n",
       "      <th>Std. dev</th>\n",
       "      <td>7.262175</td>\n",
       "      <td>34.878386</td>\n",
       "      <td>32.568419</td>\n",
       "      <td>237.266281</td>\n",
       "      <td>808.787752</td>\n",
       "    </tr>\n",
       "    <tr>\n",
       "      <th>Variance</th>\n",
       "      <td>52.739182</td>\n",
       "      <td>1216.501811</td>\n",
       "      <td>1060.701938</td>\n",
       "      <td>56295.289062</td>\n",
       "      <td>654137.628522</td>\n",
       "    </tr>\n",
       "  </tbody>\n",
       "</table>\n",
       "</div>"
      ],
      "text/plain": [
       "           gb_total  messages_number  calls_number  calls_duration  \\\n",
       "Mean      17.195215        44.875562     63.426287      453.841644   \n",
       "Std. dev   7.262175        34.878386     32.568419      237.266281   \n",
       "Variance  52.739182      1216.501811   1060.701938    56295.289062   \n",
       "\n",
       "                revenue  \n",
       "Mean        1524.936227  \n",
       "Std. dev     808.787752  \n",
       "Variance  654137.628522  "
      ]
     },
     "metadata": {},
     "output_type": "display_data"
    }
   ],
   "source": [
    "# Посчитаем статичстические параметры для показателей поведения пользователей и выручки в зависимости от города\n",
    "\n",
    "cols = ['gb_total', 'messages_number', 'calls_number', 'calls_duration', 'revenue']\n",
    "\n",
    "print('Москва:')\n",
    "\n",
    "display(pd.DataFrame([df_amount.query('moscow_other == \"Moscow\"')[cols].mean(),\n",
    "                      df_amount.query('moscow_other == \"Moscow\"')[cols].std(),\n",
    "                      df_amount.query('moscow_other == \"Moscow\"')[cols].var()], index=['Mean', 'Std. dev', 'Variance']))\n",
    "\n",
    "print('Другие города:')\n",
    "\n",
    "display(pd.DataFrame([df_amount.query('moscow_other == \"other\"')[cols].mean(),\n",
    "                      df_amount.query('moscow_other == \"other\"')[cols].std(),\n",
    "                      df_amount.query('moscow_other == \"other\"')[cols].var()], index=['Mean', 'Std. dev', 'Variance']))"
   ]
  },
  {
   "cell_type": "code",
   "execution_count": 44,
   "metadata": {
    "scrolled": false
   },
   "outputs": [
    {
     "data": {
      "image/png": "[encoded data removed]",
      "text/plain": [
       "<Figure size 432x288 with 1 Axes>"
      ]
     },
     "metadata": {
      "needs_background": "light"
     },
     "output_type": "display_data"
    },
    {
     "data": {
      "image/png": "[encoded data removed]",
      "text/plain": [
       "<Figure size 432x288 with 1 Axes>"
      ]
     },
     "metadata": {
      "needs_background": "light"
     },
     "output_type": "display_data"
    },
    {
     "data": {
      "image/png": "[encoded data removed]",
      "text/plain": [
       "<Figure size 432x288 with 1 Axes>"
      ]
     },
     "metadata": {
      "needs_background": "light"
     },
     "output_type": "display_data"
    },
    {
     "data": {
      "image/png": "[encoded data removed]",
      "text/plain": [
       "<Figure size 432x288 with 1 Axes>"
      ]
     },
     "metadata": {
      "needs_background": "light"
     },
     "output_type": "display_data"
    },
    {
     "data": {
      "image/png": "[encoded data removed]",
      "text/plain": [
       "<Figure size 432x288 with 1 Axes>"
      ]
     },
     "metadata": {
      "needs_background": "light"
     },
     "output_type": "display_data"
    }
   ],
   "source": [
    "# Также, для наглядности, построим гистограммы для рассматриваемых показателей в зависимости от города\n",
    "\n",
    "for col in cols:    \n",
    "    sns.histplot(data = df_amount, \n",
    "                 x = col, \n",
    "                 hue = 'moscow_other', \n",
    "                 hue_order=[\"Moscow\", \"other\"],\n",
    "                 kde = True,\n",
    "                 bins = 50,\n",
    "                 stat=\"density\",\n",
    "                 fill = False,\n",
    "                 common_norm = False\n",
    "                )\n",
    "    plt.show()"
   ]
  },
  {
   "cell_type": "markdown",
   "metadata": {},
   "source": [
    "Распределения показателей поведения пользователей и выручки в зависимости от города практически не отличаются на представленной выборке: гистограммы по форме совпадают, отличия в статистических параметрах также минимально"
   ]
  },
  {
   "cell_type": "markdown",
   "metadata": {},
   "source": [
    "Оценим как меняется средняя выручка по тарифам в зависимости от возраста клиента"
   ]
  },
  {
   "cell_type": "code",
   "execution_count": 45,
   "metadata": {
    "scrolled": false
   },
   "outputs": [
    {
     "data": {
      "text/plain": [
       "<AxesSubplot:title={'center':'Средняя выручка тарифа ultra в зависимости от возраста пользователй'}, xlabel='age'>"
      ]
     },
     "execution_count": 45,
     "metadata": {},
     "output_type": "execute_result"
    },
    {
     "data": {
      "image/png": "[encoded data removed]",
      "text/plain": [
       "<Figure size 1080x360 with 1 Axes>"
      ]
     },
     "metadata": {
      "needs_background": "light"
     },
     "output_type": "display_data"
    },
    {
     "data": {
      "image/png": "[encoded data removed]",
      "text/plain": [
       "<Figure size 1080x360 with 1 Axes>"
      ]
     },
     "metadata": {
      "needs_background": "light"
     },
     "output_type": "display_data"
    }
   ],
   "source": [
    "# Для тарифа smart\n",
    "\n",
    "df_amount.query('tariff == \"smart\"').pivot_table(index = 'age',                           \n",
    "                                                 values = 'revenue',\n",
    "                                                 aggfunc = np.mean).plot(kind = 'bar',\n",
    "                                                                         legend = False,\n",
    "                                                                         title = 'Средняя выручка тарифа smart в зависимости от возраста пользователй',\n",
    "                                                                         figsize=(15,5),\n",
    "                                                                         ylim = (300, 2000)\n",
    "                                                                        )\n",
    "# Для тарифа ultra\n",
    "\n",
    "df_amount.query('tariff == \"ultra\"').pivot_table(index = 'age',                           \n",
    "                                                 values = 'revenue',\n",
    "                                                 aggfunc = np.mean).plot(kind = 'bar',\n",
    "                                                                         legend = False,\n",
    "                                                                         title = 'Средняя выручка тарифа ultra в зависимости от возраста пользователй',\n",
    "                                                                         figsize=(15,5),\n",
    "                                                                         ylim = (1500, 2700)\n",
    "                                                                        )"
   ]
  },
  {
   "cell_type": "markdown",
   "metadata": {},
   "source": [
    "Видим, что средняя выручка в зависимости от возраста клиента меняется достаточно хаотично - каких-то четких паттернов и закономерностей на графиках не отмечаеется"
   ]
  },
  {
   "cell_type": "markdown",
   "metadata": {},
   "source": [
    "## Проверка гипотез"
   ]
  },
  {
   "cell_type": "markdown",
   "metadata": {},
   "source": [
    "Зададим пороговое значение alpha = 0.05"
   ]
  },
  {
   "cell_type": "code",
   "execution_count": 46,
   "metadata": {},
   "outputs": [],
   "source": [
    "alpha = 0.05"
   ]
  },
  {
   "cell_type": "markdown",
   "metadata": {},
   "source": [
    "### Cредние выручки пользователей тарифов «Ультра» и «Смарт» различаются"
   ]
  },
  {
   "cell_type": "markdown",
   "metadata": {},
   "source": [
    "Сформулируем нулевую и альтернативную гипотезы:\n",
    "- H0: Cредняя выручка пользователей тарифов «Ультра» и «Смарт» одинакова\n",
    "- H1: Cредняя выручка пользователей тарифов «Ультра» и «Смарт» различается"
   ]
  },
  {
   "cell_type": "markdown",
   "metadata": {},
   "source": [
    "Так как выручки пользователей разных тарифов не зависят друг от друга, будем сиспользовать t-test для сравнения средних значений двух независимых выборок"
   ]
  },
  {
   "cell_type": "code",
   "execution_count": 47,
   "metadata": {
    "scrolled": true
   },
   "outputs": [
    {
     "name": "stdout",
     "output_type": "stream",
     "text": [
      "p-значение:  4.2606313931076085e-250\n",
      "Отвергаем нулевую гипотезу\n"
     ]
    }
   ],
   "source": [
    "sample_ultra = df_amount.query('tariff == \"ultra\"')['revenue'] \n",
    "sample_smart = df_amount.query('tariff == \"smart\"')['revenue']\n",
    "\n",
    "results_1 = st.ttest_ind(sample_ultra, \n",
    "                         sample_smart, \n",
    "                         equal_var = False) # не будем считать дисперсии выборок равными, было показано их различие\n",
    "\n",
    "print('p-значение: ', results_1.pvalue)\n",
    "print('Не отвергаем нулевую гипотезу') if results_1.pvalue >= alpha else print('Отвергаем нулевую гипотезу')"
   ]
  },
  {
   "cell_type": "markdown",
   "metadata": {},
   "source": [
    "### Cредняя выручка пользователей из Москвы отличается от выручки пользователей из других регионов"
   ]
  },
  {
   "cell_type": "markdown",
   "metadata": {},
   "source": [
    "Сформулируем нулевую и альтернативную гипотезы:\n",
    "\n",
    "- H0: Cредняя выручка пользователей из Москвы не отличается от выручки пользователей из других регионов\n",
    "- H1: Cредняя выручка пользователей из Москвы отличается от выручки пользователей из других регионов"
   ]
  },
  {
   "cell_type": "markdown",
   "metadata": {},
   "source": [
    "Так как выручки пользователей в разных городах не зависят друг от друга, будем сиспользовать t-test для сравнения средних значений двух независимых выборок"
   ]
  },
  {
   "cell_type": "code",
   "execution_count": 48,
   "metadata": {
    "scrolled": true
   },
   "outputs": [
    {
     "name": "stdout",
     "output_type": "stream",
     "text": [
      "p-значение:  0.5440152911670224\n",
      "Не отвергаем нулевую гипотезу\n"
     ]
    }
   ],
   "source": [
    "sample_Moscow = df_amount.query('moscow_other == \"Moscow\"')['revenue'] \n",
    "sample_other = df_amount.query('moscow_other == \"other\"')['revenue']\n",
    "\n",
    "results_2 = st.ttest_ind(sample_Moscow, \n",
    "                         sample_other, \n",
    "                         equal_var = True) # будем считать дисперсии равными\n",
    "\n",
    "print('p-значение: ', results_2.pvalue)\n",
    "\n",
    "print('Не отвергаем нулевую гипотезу') if results_2.pvalue >= alpha else print('Отвергаем нулевую гипотезу')"
   ]
  },
  {
   "cell_type": "markdown",
   "metadata": {},
   "source": [
    "Вывод:\n",
    "- При проверке гипотезы о различии средней выручки пользователей тарифов «Ультра» и «Смарт», P-значение оказалось равным 4.2606313931076085e-250, что существенно меньше заданного порогового значения $\\alpha$. Таким образом, H0 была отвергнута, что говорит о том, что седняя выручка пользователей тарифов «Ультра» и «Смарт» все таки различается.\n",
    "- При проверке гипотезы о различии средней выручки пользователей из Москвы и других регионов P-значение оказалось равным 0.5440152911670224, что существенно выше заданного порогового значения $\\alpha$. При таком высоком P-значении отвергнуть H0 не представляется возможным. Таким образом, средняя выручка пользователей из Москвы не отличается от выручки пользователей из других регионов."
   ]
  },
  {
   "cell_type": "markdown",
   "metadata": {},
   "source": [
    " ## Общий вывод"
   ]
  },
  {
   "cell_type": "markdown",
   "metadata": {},
   "source": [
    "В рамках проекта былы проведен анализ тарифов на выборке из 500 клиентов телеком-компании. Исходные данные были подготовлены и проверены на ошибки. Были посчитаны следующие параметры: \n",
    "- количество сделанных звонков и израсходованных минут разговора по месяцам;\n",
    "- количество отправленных сообщений по месяцам;\n",
    "- объем израсходованного интернет-трафика по месяцам\n",
    "- помесячная выручка с каждого пользователя \n",
    "\n",
    "В ходе исследовательского анализа данных было показано, что среднее количество сообщений, минут разговора, интернета и выручки на представленной выборке существенно различаются для разных тарифов. В среднем, пользователи ultra тратят больше трафика и приносят больше выручки по сравнению с пользователями smart. Разброс в данных о поведении пользователей, который характеризует значение дисперсии, существенно выше для тарифа ultra. Дисперсия выручки у тарифа ultra ниже чем у smart. Пользователи ultra тратят больше телеком-трафика и приносят существенно больше выручки. Для выручки также видим, что распределение для smart, в отличии от ultra, имеет много значений выше своей абонентской платы 550 руб, то есть многим пользователям не хватает базового пакета трафика, установленного условиями тарифа. Пользователи ultra в большинстве своем укладываются в пакет трафика. Распределения показателей поведения пользователей и выручки в зависимости от города практически не отличаются на представленной выборке. Также было показано, что средняя выручка в зависимости от возраста клиента меняется достаточно хаотично - каких-то четких паттернов и закономерностей на графиках не отмечаеется.\n",
    "\n",
    "В ходе статистического анализа были сформулированы нулевая и альтернативаня гипотезы о равенстве выручки для двух тарифов: \n",
    "- H0: Cредняя выручка пользователей тарифов «Ультра» и «Смарт» одинакова\n",
    "- H1: Cредняя выручка пользователей тарифов «Ультра» и «Смарт» различается\n",
    "\n",
    "Проверка гипотез выполнялась с помощью T-теста для сравнения средних значений двух независимых выборок. P-значение оказалось равным 4.2606313931076085e-250, что существенно меньше заданного порогового значения alpha. Таким образом, H0 была отвергнута, что говорит о том, что седняя выручка пользователей тарифов «Ультра» и «Смарт» все таки различается.\n",
    "\n",
    "Для сравнения средней выручки пользователей из Москвы и выручки пользователей из других регионов были сформулированы следующие нулевая и альтернативаня гипотезы:\n",
    "- H0: Cредняя выручка пользователей из Москвы не отличается от выручки пользователей из других регионов\n",
    "- H1: Cредняя выручка пользователей из Москвы отличается от выручки пользователей из других регионов\n",
    "\n",
    "В данном случае также использовался T-тест для сравнения средних значений двух независимых выборок. P-значение оказалось равным 0.5440152911670224, что существенно выше заданного порогового значения alpha. При таком высоком P-значении отвергнуть H0 не представляется возможным. Таким образом, средняя выручка пользователей из Москвы не отличается от выручки пользователей из других регионов.\n",
    "\n",
    "Резюмируя результаты проведенного анализа, можно заключить, что с точки зрения выручки для рассматриваемой телеком-компании, тариф ultra предпочтительней тарифа smart.\n",
    "\n",
    " "
   ]
  }
 ],
 "metadata": {
  "ExecuteTimeLog": [
   {
    "duration": 495,
    "start_time": "2022-04-11T08:17:01.828Z"
   },
   {
    "duration": 214,
    "start_time": "2022-04-11T08:17:17.140Z"
   },
   {
    "duration": 121,
    "start_time": "2022-04-11T08:17:32.850Z"
   },
   {
    "duration": 381,
    "start_time": "2022-04-11T08:19:02.139Z"
   },
   {
    "duration": 12,
    "start_time": "2022-04-11T08:19:12.363Z"
   },
   {
    "duration": 14,
    "start_time": "2022-04-11T08:19:39.819Z"
   },
   {
    "duration": 11,
    "start_time": "2022-04-11T08:19:54.978Z"
   },
   {
    "duration": 547,
    "start_time": "2022-04-11T08:20:03.630Z"
   },
   {
    "duration": 475,
    "start_time": "2022-04-11T08:20:13.019Z"
   },
   {
    "duration": 10,
    "start_time": "2022-04-11T08:20:16.700Z"
   },
   {
    "duration": 9,
    "start_time": "2022-04-11T08:20:30.666Z"
   },
   {
    "duration": 9,
    "start_time": "2022-04-11T08:20:36.386Z"
   },
   {
    "duration": 10,
    "start_time": "2022-04-11T08:20:39.667Z"
   },
   {
    "duration": 7,
    "start_time": "2022-04-11T08:20:49.810Z"
   },
   {
    "duration": 10,
    "start_time": "2022-04-11T08:20:53.291Z"
   },
   {
    "duration": 22,
    "start_time": "2022-04-11T08:21:25.602Z"
   },
   {
    "duration": 10,
    "start_time": "2022-04-11T08:21:29.027Z"
   },
   {
    "duration": 22,
    "start_time": "2022-04-11T08:21:31.442Z"
   },
   {
    "duration": 43,
    "start_time": "2022-04-11T08:21:59.275Z"
   },
   {
    "duration": 20,
    "start_time": "2022-04-11T08:22:17.411Z"
   },
   {
    "duration": 10,
    "start_time": "2022-04-11T08:22:51.466Z"
   },
   {
    "duration": 29,
    "start_time": "2022-04-11T08:23:02.739Z"
   },
   {
    "duration": 13,
    "start_time": "2022-04-11T08:23:21.259Z"
   },
   {
    "duration": 3,
    "start_time": "2022-04-11T08:23:36.978Z"
   },
   {
    "duration": 3,
    "start_time": "2022-04-11T08:23:41.266Z"
   },
   {
    "duration": 9,
    "start_time": "2022-04-11T08:39:49.904Z"
   },
   {
    "duration": 26,
    "start_time": "2022-04-11T08:46:25.365Z"
   },
   {
    "duration": 18,
    "start_time": "2022-04-11T08:46:54.201Z"
   },
   {
    "duration": 14,
    "start_time": "2022-04-11T08:47:00.960Z"
   },
   {
    "duration": 10,
    "start_time": "2022-04-11T08:47:09.315Z"
   },
   {
    "duration": 12,
    "start_time": "2022-04-11T08:47:10.834Z"
   },
   {
    "duration": 6,
    "start_time": "2022-04-11T08:50:13.256Z"
   },
   {
    "duration": 27,
    "start_time": "2022-04-11T08:50:43.201Z"
   },
   {
    "duration": 8,
    "start_time": "2022-04-11T08:50:45.468Z"
   },
   {
    "duration": 7,
    "start_time": "2022-04-11T08:50:49.048Z"
   },
   {
    "duration": 58,
    "start_time": "2022-04-11T08:51:54.263Z"
   },
   {
    "duration": 24,
    "start_time": "2022-04-11T08:51:58.168Z"
   },
   {
    "duration": 16,
    "start_time": "2022-04-11T08:52:08.392Z"
   },
   {
    "duration": 11,
    "start_time": "2022-04-11T08:52:14.315Z"
   },
   {
    "duration": 17,
    "start_time": "2022-04-11T08:52:46.007Z"
   },
   {
    "duration": 8,
    "start_time": "2022-04-11T08:53:00.838Z"
   },
   {
    "duration": 10,
    "start_time": "2022-04-11T08:53:03.127Z"
   },
   {
    "duration": 16,
    "start_time": "2022-04-11T08:53:16.128Z"
   },
   {
    "duration": 16,
    "start_time": "2022-04-11T08:53:18.727Z"
   },
   {
    "duration": 8,
    "start_time": "2022-04-11T08:53:22.399Z"
   },
   {
    "duration": 24,
    "start_time": "2022-04-11T08:53:57.695Z"
   },
   {
    "duration": 17,
    "start_time": "2022-04-11T08:54:00.248Z"
   },
   {
    "duration": 17,
    "start_time": "2022-04-11T08:54:01.824Z"
   },
   {
    "duration": 401,
    "start_time": "2022-04-11T08:54:07.942Z"
   },
   {
    "duration": 379,
    "start_time": "2022-04-11T08:54:08.345Z"
   },
   {
    "duration": 16,
    "start_time": "2022-04-11T08:54:08.726Z"
   },
   {
    "duration": 24,
    "start_time": "2022-04-11T08:54:08.743Z"
   },
   {
    "duration": 27,
    "start_time": "2022-04-11T08:54:08.769Z"
   },
   {
    "duration": 20,
    "start_time": "2022-04-11T08:54:08.798Z"
   },
   {
    "duration": 11,
    "start_time": "2022-04-11T08:54:08.820Z"
   },
   {
    "duration": 16,
    "start_time": "2022-04-11T08:54:08.833Z"
   },
   {
    "duration": 11,
    "start_time": "2022-04-11T08:54:08.879Z"
   },
   {
    "duration": 12,
    "start_time": "2022-04-11T08:54:08.892Z"
   },
   {
    "duration": 30,
    "start_time": "2022-04-11T08:54:08.906Z"
   },
   {
    "duration": 47,
    "start_time": "2022-04-11T08:54:08.938Z"
   },
   {
    "duration": 10,
    "start_time": "2022-04-11T08:59:16.434Z"
   },
   {
    "duration": 61,
    "start_time": "2022-04-11T09:00:43.051Z"
   },
   {
    "duration": 8,
    "start_time": "2022-04-11T09:00:46.636Z"
   },
   {
    "duration": 106,
    "start_time": "2022-04-11T09:01:02.172Z"
   },
   {
    "duration": 1908,
    "start_time": "2022-04-11T09:01:30.835Z"
   },
   {
    "duration": 36,
    "start_time": "2022-04-11T09:01:49.019Z"
   },
   {
    "duration": 19,
    "start_time": "2022-04-11T09:02:01.243Z"
   },
   {
    "duration": 8,
    "start_time": "2022-04-11T09:05:42.235Z"
   },
   {
    "duration": 21,
    "start_time": "2022-04-11T09:07:31.874Z"
   },
   {
    "duration": 19,
    "start_time": "2022-04-11T09:08:12.675Z"
   },
   {
    "duration": 9,
    "start_time": "2022-04-11T09:08:39.627Z"
   },
   {
    "duration": 11,
    "start_time": "2022-04-11T09:09:16.467Z"
   },
   {
    "duration": 5,
    "start_time": "2022-04-11T09:10:12.035Z"
   },
   {
    "duration": 12,
    "start_time": "2022-04-11T09:10:18.588Z"
   },
   {
    "duration": 51,
    "start_time": "2022-04-11T09:11:32.371Z"
   },
   {
    "duration": 52,
    "start_time": "2022-04-11T09:11:35.827Z"
   },
   {
    "duration": 152,
    "start_time": "2022-04-11T09:12:07.219Z"
   },
   {
    "duration": 51,
    "start_time": "2022-04-11T09:12:28.723Z"
   },
   {
    "duration": 107,
    "start_time": "2022-04-11T09:12:30.845Z"
   },
   {
    "duration": 7,
    "start_time": "2022-04-11T09:12:58.491Z"
   },
   {
    "duration": 14,
    "start_time": "2022-04-11T09:16:37.490Z"
   },
   {
    "duration": 15,
    "start_time": "2022-04-11T10:04:23.866Z"
   },
   {
    "duration": 5,
    "start_time": "2022-04-11T10:05:15.882Z"
   },
   {
    "duration": 7,
    "start_time": "2022-04-11T10:05:22.722Z"
   },
   {
    "duration": 10,
    "start_time": "2022-04-11T10:20:33.712Z"
   },
   {
    "duration": 17,
    "start_time": "2022-04-11T10:20:59.063Z"
   },
   {
    "duration": 5,
    "start_time": "2022-04-11T10:35:59.088Z"
   },
   {
    "duration": 6,
    "start_time": "2022-04-11T10:36:08.976Z"
   },
   {
    "duration": 9,
    "start_time": "2022-04-11T10:36:28.315Z"
   },
   {
    "duration": 4,
    "start_time": "2022-04-11T10:36:33.225Z"
   },
   {
    "duration": 9,
    "start_time": "2022-04-11T10:40:40.567Z"
   },
   {
    "duration": 8,
    "start_time": "2022-04-11T10:40:44.511Z"
   },
   {
    "duration": 8,
    "start_time": "2022-04-11T10:40:52.487Z"
   },
   {
    "duration": 8,
    "start_time": "2022-04-11T10:41:26.296Z"
   },
   {
    "duration": 60,
    "start_time": "2022-04-11T10:41:53.863Z"
   },
   {
    "duration": 25,
    "start_time": "2022-04-11T10:42:52.543Z"
   },
   {
    "duration": 55,
    "start_time": "2022-04-11T10:42:56.534Z"
   },
   {
    "duration": 381,
    "start_time": "2022-04-11T18:35:03.181Z"
   },
   {
    "duration": 402,
    "start_time": "2022-04-11T18:35:04.236Z"
   },
   {
    "duration": 20,
    "start_time": "2022-04-11T18:35:05.051Z"
   },
   {
    "duration": 23,
    "start_time": "2022-04-11T18:35:07.844Z"
   },
   {
    "duration": 25,
    "start_time": "2022-04-11T18:35:18.097Z"
   },
   {
    "duration": 8,
    "start_time": "2022-04-11T18:36:16.719Z"
   },
   {
    "duration": 3,
    "start_time": "2022-04-11T18:36:36.301Z"
   },
   {
    "duration": 383,
    "start_time": "2022-04-11T18:36:36.306Z"
   },
   {
    "duration": 9,
    "start_time": "2022-04-11T18:36:36.690Z"
   },
   {
    "duration": 23,
    "start_time": "2022-04-11T18:36:36.701Z"
   },
   {
    "duration": 9,
    "start_time": "2022-04-11T18:36:36.726Z"
   },
   {
    "duration": 32,
    "start_time": "2022-04-11T18:36:36.736Z"
   },
   {
    "duration": 7,
    "start_time": "2022-04-11T18:36:36.769Z"
   },
   {
    "duration": 20,
    "start_time": "2022-04-11T18:36:36.778Z"
   },
   {
    "duration": 8,
    "start_time": "2022-04-11T18:36:36.800Z"
   },
   {
    "duration": 11,
    "start_time": "2022-04-11T18:36:36.809Z"
   },
   {
    "duration": 37,
    "start_time": "2022-04-11T18:36:36.822Z"
   },
   {
    "duration": 14,
    "start_time": "2022-04-11T18:36:36.860Z"
   },
   {
    "duration": 9,
    "start_time": "2022-04-11T18:36:36.876Z"
   },
   {
    "duration": 27,
    "start_time": "2022-04-11T18:36:36.887Z"
   },
   {
    "duration": 65,
    "start_time": "2022-04-11T18:36:36.915Z"
   },
   {
    "duration": 33,
    "start_time": "2022-04-11T18:36:36.982Z"
   },
   {
    "duration": 5,
    "start_time": "2022-04-11T18:36:37.017Z"
   },
   {
    "duration": 84,
    "start_time": "2022-04-11T18:36:37.024Z"
   },
   {
    "duration": 120,
    "start_time": "2022-04-11T18:36:37.109Z"
   },
   {
    "duration": 58,
    "start_time": "2022-04-11T18:36:37.231Z"
   },
   {
    "duration": 7,
    "start_time": "2022-04-11T18:36:37.290Z"
   },
   {
    "duration": 10,
    "start_time": "2022-04-11T18:36:37.299Z"
   },
   {
    "duration": 10,
    "start_time": "2022-04-11T18:36:37.311Z"
   },
   {
    "duration": 74,
    "start_time": "2022-04-11T18:36:43.933Z"
   },
   {
    "duration": 13,
    "start_time": "2022-04-11T18:36:48.725Z"
   },
   {
    "duration": 72,
    "start_time": "2022-04-11T18:38:16.116Z"
   },
   {
    "duration": 11,
    "start_time": "2022-04-11T18:38:19.585Z"
   },
   {
    "duration": 13,
    "start_time": "2022-04-11T18:38:22.874Z"
   },
   {
    "duration": 12,
    "start_time": "2022-04-11T18:38:26.226Z"
   },
   {
    "duration": 9,
    "start_time": "2022-04-11T18:38:57.333Z"
   },
   {
    "duration": 7,
    "start_time": "2022-04-11T18:39:45.823Z"
   },
   {
    "duration": 3,
    "start_time": "2022-04-11T18:39:57.130Z"
   },
   {
    "duration": 8,
    "start_time": "2022-04-11T18:40:00.099Z"
   },
   {
    "duration": 25,
    "start_time": "2022-04-11T18:48:21.180Z"
   },
   {
    "duration": 22,
    "start_time": "2022-04-11T18:48:24.533Z"
   },
   {
    "duration": 6,
    "start_time": "2022-04-11T18:48:29.900Z"
   },
   {
    "duration": 5,
    "start_time": "2022-04-11T18:48:37.383Z"
   },
   {
    "duration": 8,
    "start_time": "2022-04-11T18:51:37.394Z"
   },
   {
    "duration": 132,
    "start_time": "2022-04-11T18:52:54.423Z"
   },
   {
    "duration": 21,
    "start_time": "2022-04-11T18:53:01.440Z"
   },
   {
    "duration": 9,
    "start_time": "2022-04-11T18:53:01.891Z"
   },
   {
    "duration": 135,
    "start_time": "2022-04-11T18:53:04.327Z"
   },
   {
    "duration": 341,
    "start_time": "2022-04-11T18:53:19.647Z"
   },
   {
    "duration": 17,
    "start_time": "2022-04-11T18:53:22.838Z"
   },
   {
    "duration": 7,
    "start_time": "2022-04-11T18:53:47.303Z"
   },
   {
    "duration": 7,
    "start_time": "2022-04-11T18:53:51.603Z"
   },
   {
    "duration": 133,
    "start_time": "2022-04-11T18:54:46.415Z"
   },
   {
    "duration": 7,
    "start_time": "2022-04-11T18:54:49.728Z"
   },
   {
    "duration": 329,
    "start_time": "2022-04-11T18:55:36.734Z"
   },
   {
    "duration": 16,
    "start_time": "2022-04-11T18:55:38.489Z"
   },
   {
    "duration": 21,
    "start_time": "2022-04-11T18:56:13.292Z"
   },
   {
    "duration": 18,
    "start_time": "2022-04-11T18:56:13.531Z"
   },
   {
    "duration": 17,
    "start_time": "2022-04-11T18:56:52.604Z"
   },
   {
    "duration": 11,
    "start_time": "2022-04-11T18:56:53.453Z"
   },
   {
    "duration": 19,
    "start_time": "2022-04-11T18:57:14.278Z"
   },
   {
    "duration": 13,
    "start_time": "2022-04-11T18:57:18.663Z"
   },
   {
    "duration": 8,
    "start_time": "2022-04-11T18:57:27.702Z"
   },
   {
    "duration": 17,
    "start_time": "2022-04-11T18:57:30.264Z"
   },
   {
    "duration": 14,
    "start_time": "2022-04-11T18:57:43.885Z"
   },
   {
    "duration": 17,
    "start_time": "2022-04-11T18:57:46.725Z"
   },
   {
    "duration": 32,
    "start_time": "2022-04-11T18:59:16.916Z"
   },
   {
    "duration": 14,
    "start_time": "2022-04-11T18:59:19.775Z"
   },
   {
    "duration": 51,
    "start_time": "2022-04-11T19:00:10.998Z"
   },
   {
    "duration": 13,
    "start_time": "2022-04-11T19:00:12.192Z"
   },
   {
    "duration": 418,
    "start_time": "2022-04-11T19:00:28.720Z"
   },
   {
    "duration": 378,
    "start_time": "2022-04-11T19:00:29.140Z"
   },
   {
    "duration": 15,
    "start_time": "2022-04-11T19:00:29.519Z"
   },
   {
    "duration": 24,
    "start_time": "2022-04-11T19:00:29.537Z"
   },
   {
    "duration": 8,
    "start_time": "2022-04-11T19:00:29.563Z"
   },
   {
    "duration": 33,
    "start_time": "2022-04-11T19:00:29.573Z"
   },
   {
    "duration": 8,
    "start_time": "2022-04-11T19:00:29.607Z"
   },
   {
    "duration": 39,
    "start_time": "2022-04-11T19:00:29.616Z"
   },
   {
    "duration": 7,
    "start_time": "2022-04-11T19:00:29.657Z"
   },
   {
    "duration": 12,
    "start_time": "2022-04-11T19:00:29.666Z"
   },
   {
    "duration": 12,
    "start_time": "2022-04-11T19:00:29.679Z"
   },
   {
    "duration": 10,
    "start_time": "2022-04-11T19:00:29.693Z"
   },
   {
    "duration": 10,
    "start_time": "2022-04-11T19:00:29.705Z"
   },
   {
    "duration": 56,
    "start_time": "2022-04-11T19:00:29.716Z"
   },
   {
    "duration": 33,
    "start_time": "2022-04-11T19:00:29.774Z"
   },
   {
    "duration": 19,
    "start_time": "2022-04-11T19:00:29.809Z"
   },
   {
    "duration": 4,
    "start_time": "2022-04-11T19:00:29.830Z"
   },
   {
    "duration": 63,
    "start_time": "2022-04-11T19:00:29.835Z"
   },
   {
    "duration": 107,
    "start_time": "2022-04-11T19:00:29.900Z"
   },
   {
    "duration": 64,
    "start_time": "2022-04-11T19:00:30.009Z"
   },
   {
    "duration": 6,
    "start_time": "2022-04-11T19:00:30.075Z"
   },
   {
    "duration": 18,
    "start_time": "2022-04-11T19:00:30.083Z"
   },
   {
    "duration": 7,
    "start_time": "2022-04-11T19:00:30.103Z"
   },
   {
    "duration": 13,
    "start_time": "2022-04-11T19:00:30.112Z"
   },
   {
    "duration": 89,
    "start_time": "2022-04-11T19:00:30.127Z"
   },
   {
    "duration": 16,
    "start_time": "2022-04-11T19:00:30.218Z"
   },
   {
    "duration": 141,
    "start_time": "2022-04-11T19:00:57.037Z"
   },
   {
    "duration": 165,
    "start_time": "2022-04-11T19:01:01.242Z"
   },
   {
    "duration": 22,
    "start_time": "2022-04-11T19:01:26.663Z"
   },
   {
    "duration": 9,
    "start_time": "2022-04-11T19:01:27.013Z"
   },
   {
    "duration": 46,
    "start_time": "2022-04-11T19:01:27.990Z"
   },
   {
    "duration": 14,
    "start_time": "2022-04-11T19:01:28.696Z"
   },
   {
    "duration": 12,
    "start_time": "2022-04-11T19:02:16.666Z"
   },
   {
    "duration": 102,
    "start_time": "2022-04-11T19:02:55.747Z"
   },
   {
    "duration": 10,
    "start_time": "2022-04-11T19:03:03.604Z"
   },
   {
    "duration": 151,
    "start_time": "2022-04-11T19:03:06.472Z"
   },
   {
    "duration": 149,
    "start_time": "2022-04-11T19:03:16.668Z"
   },
   {
    "duration": 11,
    "start_time": "2022-04-11T19:03:18.838Z"
   },
   {
    "duration": 4,
    "start_time": "2022-04-11T19:03:46.581Z"
   },
   {
    "duration": 8,
    "start_time": "2022-04-11T19:03:56.180Z"
   },
   {
    "duration": 12,
    "start_time": "2022-04-11T19:03:58.804Z"
   },
   {
    "duration": 34,
    "start_time": "2022-04-11T19:04:03.568Z"
   },
   {
    "duration": 48,
    "start_time": "2022-04-11T19:04:06.763Z"
   },
   {
    "duration": 19,
    "start_time": "2022-04-11T19:04:12.116Z"
   },
   {
    "duration": 43,
    "start_time": "2022-04-11T19:04:29.105Z"
   },
   {
    "duration": 7,
    "start_time": "2022-04-11T19:04:37.443Z"
   },
   {
    "duration": 9,
    "start_time": "2022-04-11T19:05:14.403Z"
   },
   {
    "duration": 12,
    "start_time": "2022-04-11T19:05:17.153Z"
   },
   {
    "duration": 8,
    "start_time": "2022-04-11T19:05:20.310Z"
   },
   {
    "duration": 2347,
    "start_time": "2022-04-11T19:06:17.660Z"
   },
   {
    "duration": 10,
    "start_time": "2022-04-11T19:06:58.559Z"
   },
   {
    "duration": 39,
    "start_time": "2022-04-11T19:07:38.494Z"
   },
   {
    "duration": 10,
    "start_time": "2022-04-11T19:07:44.348Z"
   },
   {
    "duration": 12,
    "start_time": "2022-04-11T19:08:04.807Z"
   },
   {
    "duration": 10,
    "start_time": "2022-04-11T19:08:53.054Z"
   },
   {
    "duration": 31,
    "start_time": "2022-04-11T19:11:50.028Z"
   },
   {
    "duration": 11,
    "start_time": "2022-04-11T19:11:50.498Z"
   },
   {
    "duration": 31,
    "start_time": "2022-04-11T19:12:11.219Z"
   },
   {
    "duration": 12,
    "start_time": "2022-04-11T19:12:11.372Z"
   },
   {
    "duration": 11,
    "start_time": "2022-04-11T19:13:01.135Z"
   },
   {
    "duration": 34,
    "start_time": "2022-04-11T19:13:36.902Z"
   },
   {
    "duration": 11,
    "start_time": "2022-04-11T19:13:37.984Z"
   },
   {
    "duration": 5,
    "start_time": "2022-04-11T19:14:03.822Z"
   },
   {
    "duration": 15,
    "start_time": "2022-04-11T19:14:21.998Z"
   },
   {
    "duration": 4,
    "start_time": "2022-04-11T19:14:25.503Z"
   },
   {
    "duration": 24,
    "start_time": "2022-04-11T19:14:35.317Z"
   },
   {
    "duration": 14,
    "start_time": "2022-04-11T19:14:38.335Z"
   },
   {
    "duration": 7,
    "start_time": "2022-04-11T19:19:17.383Z"
   },
   {
    "duration": 9,
    "start_time": "2022-04-11T19:19:23.700Z"
   },
   {
    "duration": 18,
    "start_time": "2022-04-11T19:22:24.890Z"
   },
   {
    "duration": 8,
    "start_time": "2022-04-11T19:22:32.116Z"
   },
   {
    "duration": 12,
    "start_time": "2022-04-11T19:22:36.265Z"
   },
   {
    "duration": 13,
    "start_time": "2022-04-11T19:22:44.893Z"
   },
   {
    "duration": 7,
    "start_time": "2022-04-11T19:23:25.093Z"
   },
   {
    "duration": 4,
    "start_time": "2022-04-11T19:23:27.714Z"
   },
   {
    "duration": 7,
    "start_time": "2022-04-11T19:23:43.174Z"
   },
   {
    "duration": 16,
    "start_time": "2022-04-11T19:23:49.530Z"
   },
   {
    "duration": 7,
    "start_time": "2022-04-11T19:24:04.255Z"
   },
   {
    "duration": 55,
    "start_time": "2022-04-11T19:24:09.679Z"
   },
   {
    "duration": 15,
    "start_time": "2022-04-11T19:24:17.360Z"
   },
   {
    "duration": 11,
    "start_time": "2022-04-11T19:25:22.282Z"
   },
   {
    "duration": 32,
    "start_time": "2022-04-11T19:26:20.469Z"
   },
   {
    "duration": 11,
    "start_time": "2022-04-11T19:26:22.116Z"
   },
   {
    "duration": 33,
    "start_time": "2022-04-11T19:27:00.726Z"
   },
   {
    "duration": 13,
    "start_time": "2022-04-11T19:27:01.216Z"
   },
   {
    "duration": 9,
    "start_time": "2022-04-11T19:27:29.667Z"
   },
   {
    "duration": 2255,
    "start_time": "2022-04-11T19:29:26.381Z"
   },
   {
    "duration": 21,
    "start_time": "2022-04-11T19:29:37.254Z"
   },
   {
    "duration": 8,
    "start_time": "2022-04-11T19:29:50.139Z"
   },
   {
    "duration": 17,
    "start_time": "2022-04-11T19:30:01.101Z"
   },
   {
    "duration": 16,
    "start_time": "2022-04-11T19:30:27.178Z"
   },
   {
    "duration": 13,
    "start_time": "2022-04-11T19:30:37.824Z"
   },
   {
    "duration": 260,
    "start_time": "2022-04-11T19:30:42.072Z"
   },
   {
    "duration": 21,
    "start_time": "2022-04-11T19:31:15.921Z"
   },
   {
    "duration": 11555,
    "start_time": "2022-04-11T19:31:22.275Z"
   },
   {
    "duration": 139,
    "start_time": "2022-04-11T19:32:45.456Z"
   },
   {
    "duration": 36,
    "start_time": "2022-04-11T19:32:50.217Z"
   },
   {
    "duration": 143,
    "start_time": "2022-04-11T19:32:59.933Z"
   },
   {
    "duration": 13,
    "start_time": "2022-04-11T19:33:01.012Z"
   },
   {
    "duration": 38,
    "start_time": "2022-04-11T19:35:42.945Z"
   },
   {
    "duration": 13814,
    "start_time": "2022-04-11T19:35:59.541Z"
   },
   {
    "duration": 33,
    "start_time": "2022-04-11T19:36:15.808Z"
   },
   {
    "duration": 51,
    "start_time": "2022-04-11T19:36:29.019Z"
   },
   {
    "duration": 15,
    "start_time": "2022-04-11T19:36:29.671Z"
   },
   {
    "duration": 141,
    "start_time": "2022-04-11T19:37:42.203Z"
   },
   {
    "duration": 30,
    "start_time": "2022-04-11T19:37:53.273Z"
   },
   {
    "duration": 13,
    "start_time": "2022-04-11T19:37:54.682Z"
   },
   {
    "duration": 11,
    "start_time": "2022-04-11T19:37:59.656Z"
   },
   {
    "duration": 4,
    "start_time": "2022-04-11T19:45:42.664Z"
   },
   {
    "duration": 17,
    "start_time": "2022-04-11T19:46:48.799Z"
   },
   {
    "duration": 9,
    "start_time": "2022-04-11T19:47:10.491Z"
   },
   {
    "duration": 17,
    "start_time": "2022-04-11T19:47:13.158Z"
   },
   {
    "duration": 7,
    "start_time": "2022-04-11T19:47:27.585Z"
   },
   {
    "duration": 12,
    "start_time": "2022-04-11T19:47:31.362Z"
   },
   {
    "duration": 13,
    "start_time": "2022-04-11T19:59:21.701Z"
   },
   {
    "duration": 10,
    "start_time": "2022-04-11T19:59:53.698Z"
   },
   {
    "duration": 9,
    "start_time": "2022-04-11T20:00:09.946Z"
   },
   {
    "duration": 12,
    "start_time": "2022-04-11T20:00:12.935Z"
   },
   {
    "duration": 13,
    "start_time": "2022-04-11T20:01:05.122Z"
   },
   {
    "duration": 15,
    "start_time": "2022-04-11T20:01:05.317Z"
   },
   {
    "duration": 13,
    "start_time": "2022-04-11T20:01:11.110Z"
   },
   {
    "duration": 13,
    "start_time": "2022-04-11T20:01:20.975Z"
   },
   {
    "duration": 14,
    "start_time": "2022-04-11T20:01:45.456Z"
   },
   {
    "duration": 16,
    "start_time": "2022-04-11T20:02:51.063Z"
   },
   {
    "duration": 14,
    "start_time": "2022-04-11T20:03:12.154Z"
   },
   {
    "duration": 11,
    "start_time": "2022-04-11T20:03:18.162Z"
   },
   {
    "duration": 17,
    "start_time": "2022-04-11T20:03:19.807Z"
   },
   {
    "duration": 12,
    "start_time": "2022-04-11T20:03:47.209Z"
   },
   {
    "duration": 12,
    "start_time": "2022-04-11T20:04:05.821Z"
   },
   {
    "duration": 15,
    "start_time": "2022-04-11T20:04:06.515Z"
   },
   {
    "duration": 6,
    "start_time": "2022-04-11T20:04:17.835Z"
   },
   {
    "duration": 4,
    "start_time": "2022-04-11T20:04:20.307Z"
   },
   {
    "duration": 19,
    "start_time": "2022-04-11T20:04:53.128Z"
   },
   {
    "duration": 17,
    "start_time": "2022-04-11T20:05:27.178Z"
   },
   {
    "duration": 17,
    "start_time": "2022-04-11T20:07:59.736Z"
   },
   {
    "duration": 17,
    "start_time": "2022-04-11T20:08:49.717Z"
   },
   {
    "duration": 4,
    "start_time": "2022-04-11T20:09:24.077Z"
   },
   {
    "duration": 15,
    "start_time": "2022-04-11T20:09:27.932Z"
   },
   {
    "duration": 13,
    "start_time": "2022-04-11T20:09:53.822Z"
   },
   {
    "duration": 94,
    "start_time": "2022-04-12T09:11:29.011Z"
   },
   {
    "duration": 699,
    "start_time": "2022-04-12T09:11:34.520Z"
   },
   {
    "duration": 748,
    "start_time": "2022-04-12T09:11:35.223Z"
   },
   {
    "duration": 34,
    "start_time": "2022-04-12T09:11:35.973Z"
   },
   {
    "duration": 64,
    "start_time": "2022-04-12T09:11:36.009Z"
   },
   {
    "duration": 16,
    "start_time": "2022-04-12T09:11:36.077Z"
   },
   {
    "duration": 79,
    "start_time": "2022-04-12T09:11:36.096Z"
   },
   {
    "duration": 14,
    "start_time": "2022-04-12T09:11:36.178Z"
   },
   {
    "duration": 28,
    "start_time": "2022-04-12T09:11:36.195Z"
   },
   {
    "duration": 12,
    "start_time": "2022-04-12T09:11:36.225Z"
   },
   {
    "duration": 18,
    "start_time": "2022-04-12T09:11:36.267Z"
   },
   {
    "duration": 19,
    "start_time": "2022-04-12T09:11:36.287Z"
   },
   {
    "duration": 23,
    "start_time": "2022-04-12T09:11:36.308Z"
   },
   {
    "duration": 34,
    "start_time": "2022-04-12T09:11:36.340Z"
   },
   {
    "duration": 43,
    "start_time": "2022-04-12T09:11:36.380Z"
   },
   {
    "duration": 99,
    "start_time": "2022-04-12T09:11:36.426Z"
   },
   {
    "duration": 47,
    "start_time": "2022-04-12T09:11:36.528Z"
   },
   {
    "duration": 8,
    "start_time": "2022-04-12T09:11:36.578Z"
   },
   {
    "duration": 92,
    "start_time": "2022-04-12T09:11:36.589Z"
   },
   {
    "duration": 147,
    "start_time": "2022-04-12T09:11:36.684Z"
   },
   {
    "duration": 76,
    "start_time": "2022-04-12T09:11:36.834Z"
   },
   {
    "duration": 10,
    "start_time": "2022-04-12T09:11:36.913Z"
   },
   {
    "duration": 11,
    "start_time": "2022-04-12T09:11:36.926Z"
   },
   {
    "duration": 139,
    "start_time": "2022-04-12T09:11:36.967Z"
   },
   {
    "duration": 29,
    "start_time": "2022-04-12T09:11:37.109Z"
   },
   {
    "duration": 94,
    "start_time": "2022-04-12T09:11:37.141Z"
   },
   {
    "duration": 79,
    "start_time": "2022-04-12T09:11:37.237Z"
   },
   {
    "duration": 71,
    "start_time": "2022-04-12T09:11:37.318Z"
   },
   {
    "duration": 6,
    "start_time": "2022-04-12T09:11:37.392Z"
   },
   {
    "duration": 8,
    "start_time": "2022-04-12T09:11:37.400Z"
   },
   {
    "duration": 16,
    "start_time": "2022-04-12T09:11:37.411Z"
   },
   {
    "duration": 56,
    "start_time": "2022-04-12T09:11:37.429Z"
   },
   {
    "duration": 546,
    "start_time": "2022-04-12T09:12:06.236Z"
   },
   {
    "duration": 465,
    "start_time": "2022-04-12T09:12:06.785Z"
   },
   {
    "duration": 25,
    "start_time": "2022-04-12T09:12:07.252Z"
   },
   {
    "duration": 31,
    "start_time": "2022-04-12T09:12:07.279Z"
   },
   {
    "duration": 11,
    "start_time": "2022-04-12T09:12:07.313Z"
   },
   {
    "duration": 71,
    "start_time": "2022-04-12T09:12:07.327Z"
   },
   {
    "duration": 11,
    "start_time": "2022-04-12T09:12:07.400Z"
   },
   {
    "duration": 33,
    "start_time": "2022-04-12T09:12:07.413Z"
   },
   {
    "duration": 13,
    "start_time": "2022-04-12T09:12:07.468Z"
   },
   {
    "duration": 18,
    "start_time": "2022-04-12T09:12:07.484Z"
   },
   {
    "duration": 20,
    "start_time": "2022-04-12T09:12:07.505Z"
   },
   {
    "duration": 50,
    "start_time": "2022-04-12T09:12:07.528Z"
   },
   {
    "duration": 16,
    "start_time": "2022-04-12T09:12:07.580Z"
   },
   {
    "duration": 40,
    "start_time": "2022-04-12T09:12:07.601Z"
   },
   {
    "duration": 63,
    "start_time": "2022-04-12T09:12:07.642Z"
   },
   {
    "duration": 30,
    "start_time": "2022-04-12T09:12:07.707Z"
   },
   {
    "duration": 6,
    "start_time": "2022-04-12T09:12:07.739Z"
   },
   {
    "duration": 66,
    "start_time": "2022-04-12T09:12:07.768Z"
   },
   {
    "duration": 209,
    "start_time": "2022-04-12T09:12:07.836Z"
   },
   {
    "duration": 85,
    "start_time": "2022-04-12T09:12:08.048Z"
   },
   {
    "duration": 12,
    "start_time": "2022-04-12T09:12:08.136Z"
   },
   {
    "duration": 15,
    "start_time": "2022-04-12T09:12:08.168Z"
   },
   {
    "duration": 148,
    "start_time": "2022-04-12T09:12:08.186Z"
   },
   {
    "duration": 36,
    "start_time": "2022-04-12T09:12:08.337Z"
   },
   {
    "duration": 70,
    "start_time": "2022-04-12T09:12:08.376Z"
   },
   {
    "duration": 72,
    "start_time": "2022-04-12T09:12:08.449Z"
   },
   {
    "duration": 92,
    "start_time": "2022-04-12T09:12:08.524Z"
   },
   {
    "duration": 8,
    "start_time": "2022-04-12T09:12:08.618Z"
   },
   {
    "duration": 8,
    "start_time": "2022-04-12T09:12:08.629Z"
   },
   {
    "duration": 41,
    "start_time": "2022-04-12T09:12:08.640Z"
   },
   {
    "duration": 32,
    "start_time": "2022-04-12T09:12:08.685Z"
   },
   {
    "duration": 21,
    "start_time": "2022-04-12T09:12:15.909Z"
   },
   {
    "duration": 7,
    "start_time": "2022-04-12T09:12:23.563Z"
   },
   {
    "duration": 14,
    "start_time": "2022-04-12T09:12:26.370Z"
   },
   {
    "duration": 501,
    "start_time": "2022-04-12T09:12:58.146Z"
   },
   {
    "duration": 445,
    "start_time": "2022-04-12T09:12:58.649Z"
   },
   {
    "duration": 22,
    "start_time": "2022-04-12T09:12:59.097Z"
   },
   {
    "duration": 30,
    "start_time": "2022-04-12T09:12:59.121Z"
   },
   {
    "duration": 16,
    "start_time": "2022-04-12T09:12:59.153Z"
   },
   {
    "duration": 33,
    "start_time": "2022-04-12T09:12:59.172Z"
   },
   {
    "duration": 10,
    "start_time": "2022-04-12T09:12:59.207Z"
   },
   {
    "duration": 63,
    "start_time": "2022-04-12T09:12:59.223Z"
   },
   {
    "duration": 13,
    "start_time": "2022-04-12T09:12:59.289Z"
   },
   {
    "duration": 16,
    "start_time": "2022-04-12T09:12:59.305Z"
   },
   {
    "duration": 48,
    "start_time": "2022-04-12T09:12:59.324Z"
   },
   {
    "duration": 15,
    "start_time": "2022-04-12T09:12:59.374Z"
   },
   {
    "duration": 11,
    "start_time": "2022-04-12T09:12:59.392Z"
   },
   {
    "duration": 72,
    "start_time": "2022-04-12T09:12:59.406Z"
   },
   {
    "duration": 49,
    "start_time": "2022-04-12T09:12:59.480Z"
   },
   {
    "duration": 46,
    "start_time": "2022-04-12T09:12:59.532Z"
   },
   {
    "duration": 7,
    "start_time": "2022-04-12T09:12:59.580Z"
   },
   {
    "duration": 85,
    "start_time": "2022-04-12T09:12:59.589Z"
   },
   {
    "duration": 139,
    "start_time": "2022-04-12T09:12:59.677Z"
   },
   {
    "duration": 71,
    "start_time": "2022-04-12T09:12:59.819Z"
   },
   {
    "duration": 10,
    "start_time": "2022-04-12T09:12:59.892Z"
   },
   {
    "duration": 12,
    "start_time": "2022-04-12T09:12:59.905Z"
   },
   {
    "duration": 157,
    "start_time": "2022-04-12T09:12:59.924Z"
   },
   {
    "duration": 32,
    "start_time": "2022-04-12T09:13:00.084Z"
   },
   {
    "duration": 76,
    "start_time": "2022-04-12T09:13:00.118Z"
   },
   {
    "duration": 45,
    "start_time": "2022-04-12T09:13:00.197Z"
   },
   {
    "duration": 77,
    "start_time": "2022-04-12T09:13:00.244Z"
   },
   {
    "duration": 7,
    "start_time": "2022-04-12T09:13:00.323Z"
   },
   {
    "duration": 36,
    "start_time": "2022-04-12T09:13:00.332Z"
   },
   {
    "duration": 15,
    "start_time": "2022-04-12T09:13:00.370Z"
   },
   {
    "duration": 7,
    "start_time": "2022-04-12T09:13:00.388Z"
   },
   {
    "duration": 14,
    "start_time": "2022-04-12T09:13:27.748Z"
   },
   {
    "duration": 17,
    "start_time": "2022-04-12T09:14:53.723Z"
   },
   {
    "duration": 17,
    "start_time": "2022-04-12T09:17:22.786Z"
   },
   {
    "duration": 42,
    "start_time": "2022-04-12T09:24:11.769Z"
   },
   {
    "duration": 101,
    "start_time": "2022-04-12T09:24:23.321Z"
   },
   {
    "duration": 43,
    "start_time": "2022-04-12T09:24:26.828Z"
   },
   {
    "duration": 39,
    "start_time": "2022-04-12T09:24:52.013Z"
   },
   {
    "duration": 586,
    "start_time": "2022-04-12T09:25:10.864Z"
   },
   {
    "duration": 430,
    "start_time": "2022-04-12T09:25:11.453Z"
   },
   {
    "duration": 22,
    "start_time": "2022-04-12T09:25:11.886Z"
   },
   {
    "duration": 30,
    "start_time": "2022-04-12T09:25:11.910Z"
   },
   {
    "duration": 24,
    "start_time": "2022-04-12T09:25:11.943Z"
   },
   {
    "duration": 34,
    "start_time": "2022-04-12T09:25:11.970Z"
   },
   {
    "duration": 10,
    "start_time": "2022-04-12T09:25:12.006Z"
   },
   {
    "duration": 54,
    "start_time": "2022-04-12T09:25:12.018Z"
   },
   {
    "duration": 12,
    "start_time": "2022-04-12T09:25:12.074Z"
   },
   {
    "duration": 15,
    "start_time": "2022-04-12T09:25:12.091Z"
   },
   {
    "duration": 17,
    "start_time": "2022-04-12T09:25:12.108Z"
   },
   {
    "duration": 49,
    "start_time": "2022-04-12T09:25:12.127Z"
   },
   {
    "duration": 10,
    "start_time": "2022-04-12T09:25:12.178Z"
   },
   {
    "duration": 40,
    "start_time": "2022-04-12T09:25:12.190Z"
   },
   {
    "duration": 68,
    "start_time": "2022-04-12T09:25:12.232Z"
   },
   {
    "duration": 28,
    "start_time": "2022-04-12T09:25:12.302Z"
   },
   {
    "duration": 5,
    "start_time": "2022-04-12T09:25:12.332Z"
   },
   {
    "duration": 90,
    "start_time": "2022-04-12T09:25:12.339Z"
   },
   {
    "duration": 143,
    "start_time": "2022-04-12T09:25:12.431Z"
   },
   {
    "duration": 59,
    "start_time": "2022-04-12T09:25:12.576Z"
   },
   {
    "duration": 31,
    "start_time": "2022-04-12T09:25:12.637Z"
   },
   {
    "duration": 12,
    "start_time": "2022-04-12T09:25:12.670Z"
   },
   {
    "duration": 107,
    "start_time": "2022-04-12T09:25:12.684Z"
   },
   {
    "duration": 20,
    "start_time": "2022-04-12T09:25:12.793Z"
   },
   {
    "duration": 66,
    "start_time": "2022-04-12T09:25:12.816Z"
   },
   {
    "duration": 42,
    "start_time": "2022-04-12T09:25:12.885Z"
   },
   {
    "duration": 70,
    "start_time": "2022-04-12T09:25:12.929Z"
   },
   {
    "duration": 6,
    "start_time": "2022-04-12T09:25:13.003Z"
   },
   {
    "duration": 29,
    "start_time": "2022-04-12T09:25:13.011Z"
   },
   {
    "duration": 37,
    "start_time": "2022-04-12T09:25:13.042Z"
   },
   {
    "duration": 28,
    "start_time": "2022-04-12T09:25:13.081Z"
   },
   {
    "duration": 38,
    "start_time": "2022-04-12T09:25:13.112Z"
   },
   {
    "duration": 38,
    "start_time": "2022-04-12T09:25:13.152Z"
   },
   {
    "duration": 41,
    "start_time": "2022-04-12T09:25:13.193Z"
   },
   {
    "duration": 44,
    "start_time": "2022-04-12T09:32:18.248Z"
   },
   {
    "duration": 38,
    "start_time": "2022-04-12T09:32:35.590Z"
   },
   {
    "duration": 54,
    "start_time": "2022-04-12T09:33:52.143Z"
   },
   {
    "duration": 521,
    "start_time": "2022-04-12T09:35:05.335Z"
   },
   {
    "duration": 458,
    "start_time": "2022-04-12T09:35:05.859Z"
   },
   {
    "duration": 22,
    "start_time": "2022-04-12T09:35:06.320Z"
   },
   {
    "duration": 31,
    "start_time": "2022-04-12T09:35:06.344Z"
   },
   {
    "duration": 12,
    "start_time": "2022-04-12T09:35:06.379Z"
   },
   {
    "duration": 41,
    "start_time": "2022-04-12T09:35:06.393Z"
   },
   {
    "duration": 33,
    "start_time": "2022-04-12T09:35:06.436Z"
   },
   {
    "duration": 25,
    "start_time": "2022-04-12T09:35:06.471Z"
   },
   {
    "duration": 26,
    "start_time": "2022-04-12T09:35:06.498Z"
   },
   {
    "duration": 18,
    "start_time": "2022-04-12T09:35:06.526Z"
   },
   {
    "duration": 36,
    "start_time": "2022-04-12T09:35:06.546Z"
   },
   {
    "duration": 15,
    "start_time": "2022-04-12T09:35:06.584Z"
   },
   {
    "duration": 10,
    "start_time": "2022-04-12T09:35:06.602Z"
   },
   {
    "duration": 76,
    "start_time": "2022-04-12T09:35:06.617Z"
   },
   {
    "duration": 48,
    "start_time": "2022-04-12T09:35:06.696Z"
   },
   {
    "duration": 40,
    "start_time": "2022-04-12T09:35:06.746Z"
   },
   {
    "duration": 5,
    "start_time": "2022-04-12T09:35:06.789Z"
   },
   {
    "duration": 88,
    "start_time": "2022-04-12T09:35:06.796Z"
   },
   {
    "duration": 140,
    "start_time": "2022-04-12T09:35:06.887Z"
   },
   {
    "duration": 75,
    "start_time": "2022-04-12T09:35:07.029Z"
   },
   {
    "duration": 11,
    "start_time": "2022-04-12T09:35:07.107Z"
   },
   {
    "duration": 12,
    "start_time": "2022-04-12T09:35:07.120Z"
   },
   {
    "duration": 101,
    "start_time": "2022-04-12T09:35:07.167Z"
   },
   {
    "duration": 21,
    "start_time": "2022-04-12T09:35:07.270Z"
   },
   {
    "duration": 52,
    "start_time": "2022-04-12T09:35:07.293Z"
   },
   {
    "duration": 60,
    "start_time": "2022-04-12T09:35:07.347Z"
   },
   {
    "duration": 69,
    "start_time": "2022-04-12T09:35:07.409Z"
   },
   {
    "duration": 5,
    "start_time": "2022-04-12T09:35:07.480Z"
   },
   {
    "duration": 9,
    "start_time": "2022-04-12T09:35:07.487Z"
   },
   {
    "duration": 17,
    "start_time": "2022-04-12T09:35:07.498Z"
   },
   {
    "duration": 5,
    "start_time": "2022-04-12T09:35:07.517Z"
   },
   {
    "duration": 47,
    "start_time": "2022-04-12T09:35:07.524Z"
   },
   {
    "duration": 19,
    "start_time": "2022-04-12T09:35:07.573Z"
   },
   {
    "duration": 14,
    "start_time": "2022-04-12T09:35:07.594Z"
   },
   {
    "duration": 16,
    "start_time": "2022-04-12T09:35:07.610Z"
   },
   {
    "duration": 43,
    "start_time": "2022-04-12T09:35:18.403Z"
   },
   {
    "duration": 21,
    "start_time": "2022-04-12T09:36:58.333Z"
   },
   {
    "duration": 7,
    "start_time": "2022-04-12T09:37:00.183Z"
   },
   {
    "duration": 5,
    "start_time": "2022-04-12T09:37:00.742Z"
   },
   {
    "duration": 13,
    "start_time": "2022-04-12T09:37:01.706Z"
   },
   {
    "duration": 22,
    "start_time": "2022-04-12T09:40:32.109Z"
   },
   {
    "duration": 40,
    "start_time": "2022-04-12T09:40:33.062Z"
   },
   {
    "duration": 14,
    "start_time": "2022-04-12T09:42:20.940Z"
   },
   {
    "duration": 14,
    "start_time": "2022-04-12T09:42:24.132Z"
   },
   {
    "duration": 542,
    "start_time": "2022-04-12T09:42:31.883Z"
   },
   {
    "duration": 716,
    "start_time": "2022-04-12T09:42:32.428Z"
   },
   {
    "duration": 41,
    "start_time": "2022-04-12T09:42:33.148Z"
   },
   {
    "duration": 45,
    "start_time": "2022-04-12T09:42:33.191Z"
   },
   {
    "duration": 29,
    "start_time": "2022-04-12T09:42:33.240Z"
   },
   {
    "duration": 36,
    "start_time": "2022-04-12T09:42:33.272Z"
   },
   {
    "duration": 11,
    "start_time": "2022-04-12T09:42:33.310Z"
   },
   {
    "duration": 62,
    "start_time": "2022-04-12T09:42:33.323Z"
   },
   {
    "duration": 12,
    "start_time": "2022-04-12T09:42:33.387Z"
   },
   {
    "duration": 16,
    "start_time": "2022-04-12T09:42:33.402Z"
   },
   {
    "duration": 48,
    "start_time": "2022-04-12T09:42:33.421Z"
   },
   {
    "duration": 16,
    "start_time": "2022-04-12T09:42:33.471Z"
   },
   {
    "duration": 12,
    "start_time": "2022-04-12T09:42:33.489Z"
   },
   {
    "duration": 70,
    "start_time": "2022-04-12T09:42:33.506Z"
   },
   {
    "duration": 50,
    "start_time": "2022-04-12T09:42:33.578Z"
   },
   {
    "duration": 46,
    "start_time": "2022-04-12T09:42:33.630Z"
   },
   {
    "duration": 6,
    "start_time": "2022-04-12T09:42:33.678Z"
   },
   {
    "duration": 87,
    "start_time": "2022-04-12T09:42:33.686Z"
   },
   {
    "duration": 158,
    "start_time": "2022-04-12T09:42:33.776Z"
   },
   {
    "duration": 81,
    "start_time": "2022-04-12T09:42:33.936Z"
   },
   {
    "duration": 10,
    "start_time": "2022-04-12T09:42:34.019Z"
   },
   {
    "duration": 13,
    "start_time": "2022-04-12T09:42:34.031Z"
   },
   {
    "duration": 106,
    "start_time": "2022-04-12T09:42:34.069Z"
   },
   {
    "duration": 26,
    "start_time": "2022-04-12T09:42:34.177Z"
   },
   {
    "duration": 75,
    "start_time": "2022-04-12T09:42:34.206Z"
   },
   {
    "duration": 43,
    "start_time": "2022-04-12T09:42:34.283Z"
   },
   {
    "duration": 76,
    "start_time": "2022-04-12T09:42:34.328Z"
   },
   {
    "duration": 5,
    "start_time": "2022-04-12T09:42:34.407Z"
   },
   {
    "duration": 7,
    "start_time": "2022-04-12T09:42:34.414Z"
   },
   {
    "duration": 16,
    "start_time": "2022-04-12T09:42:34.423Z"
   },
   {
    "duration": 7,
    "start_time": "2022-04-12T09:42:34.467Z"
   },
   {
    "duration": 15,
    "start_time": "2022-04-12T09:42:34.476Z"
   },
   {
    "duration": 21,
    "start_time": "2022-04-12T09:42:34.493Z"
   },
   {
    "duration": 19,
    "start_time": "2022-04-12T09:42:34.516Z"
   },
   {
    "duration": 45,
    "start_time": "2022-04-12T09:42:34.537Z"
   },
   {
    "duration": 27,
    "start_time": "2022-04-12T09:42:34.584Z"
   },
   {
    "duration": 29,
    "start_time": "2022-04-12T09:44:58.712Z"
   },
   {
    "duration": 22,
    "start_time": "2022-04-12T09:45:58.079Z"
   },
   {
    "duration": 12,
    "start_time": "2022-04-12T09:46:10.297Z"
   },
   {
    "duration": 20,
    "start_time": "2022-04-12T09:46:17.311Z"
   },
   {
    "duration": 21,
    "start_time": "2022-04-12T09:46:40.863Z"
   },
   {
    "duration": 23,
    "start_time": "2022-04-12T09:46:45.174Z"
   },
   {
    "duration": 31,
    "start_time": "2022-04-12T09:47:23.785Z"
   },
   {
    "duration": 12,
    "start_time": "2022-04-12T09:48:39.570Z"
   },
   {
    "duration": 11,
    "start_time": "2022-04-12T09:48:45.639Z"
   },
   {
    "duration": 23,
    "start_time": "2022-04-12T09:49:08.135Z"
   },
   {
    "duration": 96,
    "start_time": "2022-04-12T09:53:11.397Z"
   },
   {
    "duration": 99,
    "start_time": "2022-04-12T09:53:43.524Z"
   },
   {
    "duration": 13,
    "start_time": "2022-04-12T09:53:47.193Z"
   },
   {
    "duration": 13,
    "start_time": "2022-04-12T09:54:03.057Z"
   },
   {
    "duration": 12,
    "start_time": "2022-04-12T09:54:27.994Z"
   },
   {
    "duration": 12,
    "start_time": "2022-04-12T09:54:53.331Z"
   },
   {
    "duration": 14,
    "start_time": "2022-04-12T09:56:28.063Z"
   },
   {
    "duration": 21,
    "start_time": "2022-04-12T09:57:18.321Z"
   },
   {
    "duration": 111,
    "start_time": "2022-04-12T09:58:29.785Z"
   },
   {
    "duration": 119,
    "start_time": "2022-04-12T09:59:02.935Z"
   },
   {
    "duration": 11,
    "start_time": "2022-04-12T09:59:11.526Z"
   },
   {
    "duration": 6,
    "start_time": "2022-04-12T09:59:35.046Z"
   },
   {
    "duration": 23,
    "start_time": "2022-04-12T09:59:38.542Z"
   },
   {
    "duration": 5,
    "start_time": "2022-04-12T10:00:12.391Z"
   },
   {
    "duration": 22,
    "start_time": "2022-04-12T10:00:12.882Z"
   },
   {
    "duration": 150,
    "start_time": "2022-04-12T10:00:36.705Z"
   },
   {
    "duration": 17,
    "start_time": "2022-04-12T10:00:43.693Z"
   },
   {
    "duration": 138,
    "start_time": "2022-04-12T10:04:09.195Z"
   },
   {
    "duration": 6,
    "start_time": "2022-04-12T10:04:18.328Z"
   },
   {
    "duration": 22,
    "start_time": "2022-04-12T10:04:18.868Z"
   },
   {
    "duration": 8,
    "start_time": "2022-04-12T10:09:54.098Z"
   },
   {
    "duration": 14,
    "start_time": "2022-04-12T10:09:56.895Z"
   },
   {
    "duration": 36,
    "start_time": "2022-04-12T10:10:54.894Z"
   },
   {
    "duration": 8,
    "start_time": "2022-04-12T10:12:03.159Z"
   },
   {
    "duration": 35,
    "start_time": "2022-04-12T10:12:04.238Z"
   },
   {
    "duration": 6,
    "start_time": "2022-04-12T10:12:46.722Z"
   },
   {
    "duration": 22,
    "start_time": "2022-04-12T10:12:49.203Z"
   },
   {
    "duration": 32,
    "start_time": "2022-04-12T10:12:51.120Z"
   },
   {
    "duration": 15,
    "start_time": "2022-04-12T10:13:07.882Z"
   },
   {
    "duration": 6,
    "start_time": "2022-04-12T10:13:13.980Z"
   },
   {
    "duration": 8,
    "start_time": "2022-04-12T10:13:18.754Z"
   },
   {
    "duration": 31,
    "start_time": "2022-04-12T10:13:19.645Z"
   },
   {
    "duration": 38,
    "start_time": "2022-04-12T10:14:19.053Z"
   },
   {
    "duration": 11,
    "start_time": "2022-04-12T10:15:01.052Z"
   },
   {
    "duration": 13,
    "start_time": "2022-04-12T10:15:15.828Z"
   },
   {
    "duration": 14,
    "start_time": "2022-04-12T10:15:23.248Z"
   },
   {
    "duration": 13,
    "start_time": "2022-04-12T10:17:20.914Z"
   },
   {
    "duration": 6,
    "start_time": "2022-04-12T10:17:23.700Z"
   },
   {
    "duration": 17,
    "start_time": "2022-04-12T10:21:53.952Z"
   },
   {
    "duration": 49,
    "start_time": "2022-04-12T10:22:34.763Z"
   },
   {
    "duration": 37,
    "start_time": "2022-04-12T10:22:41.820Z"
   },
   {
    "duration": 1495,
    "start_time": "2022-04-12T10:23:05.055Z"
   },
   {
    "duration": 13,
    "start_time": "2022-04-12T10:23:14.844Z"
   },
   {
    "duration": 24,
    "start_time": "2022-04-12T10:23:18.606Z"
   },
   {
    "duration": 5,
    "start_time": "2022-04-12T10:24:24.024Z"
   },
   {
    "duration": 9,
    "start_time": "2022-04-12T10:24:32.718Z"
   },
   {
    "duration": 29,
    "start_time": "2022-04-12T10:24:35.119Z"
   },
   {
    "duration": 7,
    "start_time": "2022-04-12T10:25:09.833Z"
   },
   {
    "duration": 36,
    "start_time": "2022-04-12T10:25:11.248Z"
   },
   {
    "duration": 98,
    "start_time": "2022-04-12T10:25:44.266Z"
   },
   {
    "duration": 11,
    "start_time": "2022-04-12T10:25:48.183Z"
   },
   {
    "duration": 37,
    "start_time": "2022-04-12T10:25:49.874Z"
   },
   {
    "duration": 37,
    "start_time": "2022-04-12T10:26:07.291Z"
   },
   {
    "duration": 17,
    "start_time": "2022-04-12T10:29:02.933Z"
   },
   {
    "duration": 4,
    "start_time": "2022-04-12T10:29:15.015Z"
   },
   {
    "duration": 16,
    "start_time": "2022-04-12T10:29:33.919Z"
   },
   {
    "duration": 28,
    "start_time": "2022-04-12T10:29:43.212Z"
   },
   {
    "duration": 21,
    "start_time": "2022-04-12T10:31:27.967Z"
   },
   {
    "duration": 15,
    "start_time": "2022-04-12T10:31:46.734Z"
   },
   {
    "duration": 23,
    "start_time": "2022-04-12T10:32:06.605Z"
   },
   {
    "duration": 27,
    "start_time": "2022-04-12T10:32:25.950Z"
   },
   {
    "duration": 10,
    "start_time": "2022-04-12T10:33:04.233Z"
   },
   {
    "duration": 34,
    "start_time": "2022-04-12T10:33:05.859Z"
   },
   {
    "duration": 102,
    "start_time": "2022-04-12T10:33:51.329Z"
   },
   {
    "duration": 108,
    "start_time": "2022-04-12T10:34:02.567Z"
   },
   {
    "duration": 9,
    "start_time": "2022-04-12T10:34:11.253Z"
   },
   {
    "duration": 138,
    "start_time": "2022-04-12T10:34:20.949Z"
   },
   {
    "duration": 114,
    "start_time": "2022-04-12T10:34:47.456Z"
   },
   {
    "duration": 24,
    "start_time": "2022-04-12T10:36:10.265Z"
   },
   {
    "duration": 16,
    "start_time": "2022-04-12T10:38:08.627Z"
   },
   {
    "duration": 18,
    "start_time": "2022-04-12T10:38:23.351Z"
   },
   {
    "duration": 20,
    "start_time": "2022-04-12T10:38:52.455Z"
   },
   {
    "duration": 17,
    "start_time": "2022-04-12T10:39:56.227Z"
   },
   {
    "duration": 26,
    "start_time": "2022-04-12T10:40:02.453Z"
   },
   {
    "duration": 13,
    "start_time": "2022-04-12T10:40:07.380Z"
   },
   {
    "duration": 59,
    "start_time": "2022-04-12T10:40:10.433Z"
   },
   {
    "duration": 17,
    "start_time": "2022-04-12T10:40:59.404Z"
   },
   {
    "duration": 18,
    "start_time": "2022-04-12T10:41:12.287Z"
   },
   {
    "duration": 41,
    "start_time": "2022-04-12T10:41:31.934Z"
   },
   {
    "duration": 12,
    "start_time": "2022-04-12T10:42:11.813Z"
   },
   {
    "duration": 19,
    "start_time": "2022-04-12T10:42:20.295Z"
   },
   {
    "duration": 13,
    "start_time": "2022-04-12T10:42:48.044Z"
   },
   {
    "duration": 11,
    "start_time": "2022-04-12T10:42:58.713Z"
   },
   {
    "duration": 22,
    "start_time": "2022-04-12T10:43:00.091Z"
   },
   {
    "duration": 10,
    "start_time": "2022-04-12T10:43:29.639Z"
   },
   {
    "duration": 24,
    "start_time": "2022-04-12T10:43:30.492Z"
   },
   {
    "duration": 35,
    "start_time": "2022-04-12T10:43:42.863Z"
   },
   {
    "duration": 44,
    "start_time": "2022-04-12T10:43:56.063Z"
   },
   {
    "duration": 21,
    "start_time": "2022-04-12T10:44:14.230Z"
   },
   {
    "duration": 4,
    "start_time": "2022-04-12T10:44:27.511Z"
   },
   {
    "duration": 607,
    "start_time": "2022-04-12T10:44:27.518Z"
   },
   {
    "duration": 13,
    "start_time": "2022-04-12T10:44:28.127Z"
   },
   {
    "duration": 28,
    "start_time": "2022-04-12T10:44:28.143Z"
   },
   {
    "duration": 18,
    "start_time": "2022-04-12T10:44:28.174Z"
   },
   {
    "duration": 35,
    "start_time": "2022-04-12T10:44:28.196Z"
   },
   {
    "duration": 36,
    "start_time": "2022-04-12T10:44:28.234Z"
   },
   {
    "duration": 26,
    "start_time": "2022-04-12T10:44:28.273Z"
   },
   {
    "duration": 12,
    "start_time": "2022-04-12T10:44:28.302Z"
   },
   {
    "duration": 60,
    "start_time": "2022-04-12T10:44:28.318Z"
   },
   {
    "duration": 15,
    "start_time": "2022-04-12T10:44:28.381Z"
   },
   {
    "duration": 21,
    "start_time": "2022-04-12T10:44:28.399Z"
   },
   {
    "duration": 48,
    "start_time": "2022-04-12T10:44:28.423Z"
   },
   {
    "duration": 62,
    "start_time": "2022-04-12T10:44:28.475Z"
   },
   {
    "duration": 97,
    "start_time": "2022-04-12T10:44:28.541Z"
   },
   {
    "duration": 57,
    "start_time": "2022-04-12T10:44:28.644Z"
   },
   {
    "duration": 8,
    "start_time": "2022-04-12T10:44:28.705Z"
   },
   {
    "duration": 97,
    "start_time": "2022-04-12T10:44:28.716Z"
   },
   {
    "duration": 153,
    "start_time": "2022-04-12T10:44:28.817Z"
   },
   {
    "duration": 63,
    "start_time": "2022-04-12T10:44:28.973Z"
   },
   {
    "duration": 32,
    "start_time": "2022-04-12T10:44:29.039Z"
   },
   {
    "duration": 17,
    "start_time": "2022-04-12T10:44:29.073Z"
   },
   {
    "duration": 117,
    "start_time": "2022-04-12T10:44:29.092Z"
   },
   {
    "duration": 24,
    "start_time": "2022-04-12T10:44:29.211Z"
   },
   {
    "duration": 74,
    "start_time": "2022-04-12T10:44:29.237Z"
   },
   {
    "duration": 61,
    "start_time": "2022-04-12T10:44:29.314Z"
   },
   {
    "duration": 23,
    "start_time": "2022-04-12T10:44:29.378Z"
   },
   {
    "duration": 7,
    "start_time": "2022-04-12T10:44:29.405Z"
   },
   {
    "duration": 12,
    "start_time": "2022-04-12T10:44:29.415Z"
   },
   {
    "duration": 53,
    "start_time": "2022-04-12T10:44:29.429Z"
   },
   {
    "duration": 7,
    "start_time": "2022-04-12T10:44:29.485Z"
   },
   {
    "duration": 16,
    "start_time": "2022-04-12T10:44:29.496Z"
   },
   {
    "duration": 13,
    "start_time": "2022-04-12T10:44:29.515Z"
   },
   {
    "duration": 23,
    "start_time": "2022-04-12T10:44:29.569Z"
   },
   {
    "duration": 19,
    "start_time": "2022-04-12T10:44:37.418Z"
   },
   {
    "duration": 16,
    "start_time": "2022-04-12T10:44:42.462Z"
   },
   {
    "duration": 19,
    "start_time": "2022-04-12T10:44:43.584Z"
   },
   {
    "duration": 9,
    "start_time": "2022-04-12T10:45:18.202Z"
   },
   {
    "duration": 113,
    "start_time": "2022-04-12T10:46:37.592Z"
   },
   {
    "duration": 4,
    "start_time": "2022-04-12T10:46:40.437Z"
   },
   {
    "duration": 4,
    "start_time": "2022-04-12T10:47:05.420Z"
   },
   {
    "duration": 515,
    "start_time": "2022-04-12T10:47:05.427Z"
   },
   {
    "duration": 18,
    "start_time": "2022-04-12T10:47:05.944Z"
   },
   {
    "duration": 50,
    "start_time": "2022-04-12T10:47:05.965Z"
   },
   {
    "duration": 13,
    "start_time": "2022-04-12T10:47:06.018Z"
   },
   {
    "duration": 59,
    "start_time": "2022-04-12T10:47:06.034Z"
   },
   {
    "duration": 12,
    "start_time": "2022-04-12T10:47:06.096Z"
   },
   {
    "duration": 58,
    "start_time": "2022-04-12T10:47:06.111Z"
   },
   {
    "duration": 17,
    "start_time": "2022-04-12T10:47:06.173Z"
   },
   {
    "duration": 17,
    "start_time": "2022-04-12T10:47:06.195Z"
   },
   {
    "duration": 55,
    "start_time": "2022-04-12T10:47:06.215Z"
   },
   {
    "duration": 25,
    "start_time": "2022-04-12T10:47:06.272Z"
   },
   {
    "duration": 16,
    "start_time": "2022-04-12T10:47:06.300Z"
   },
   {
    "duration": 87,
    "start_time": "2022-04-12T10:47:06.324Z"
   },
   {
    "duration": 87,
    "start_time": "2022-04-12T10:47:06.414Z"
   },
   {
    "duration": 43,
    "start_time": "2022-04-12T10:47:06.504Z"
   },
   {
    "duration": 20,
    "start_time": "2022-04-12T10:47:06.550Z"
   },
   {
    "duration": 65,
    "start_time": "2022-04-12T10:47:06.573Z"
   },
   {
    "duration": 224,
    "start_time": "2022-04-12T10:47:06.640Z"
   },
   {
    "duration": 75,
    "start_time": "2022-04-12T10:47:06.868Z"
   },
   {
    "duration": 32,
    "start_time": "2022-04-12T10:47:06.946Z"
   },
   {
    "duration": 14,
    "start_time": "2022-04-12T10:47:06.981Z"
   },
   {
    "duration": 125,
    "start_time": "2022-04-12T10:47:06.998Z"
   },
   {
    "duration": 23,
    "start_time": "2022-04-12T10:47:07.126Z"
   },
   {
    "duration": 87,
    "start_time": "2022-04-12T10:47:07.166Z"
   },
   {
    "duration": 78,
    "start_time": "2022-04-12T10:47:07.256Z"
   },
   {
    "duration": 54,
    "start_time": "2022-04-12T10:47:07.337Z"
   },
   {
    "duration": 9,
    "start_time": "2022-04-12T10:47:07.394Z"
   },
   {
    "duration": 9,
    "start_time": "2022-04-12T10:47:07.405Z"
   },
   {
    "duration": 58,
    "start_time": "2022-04-12T10:47:07.419Z"
   },
   {
    "duration": 10,
    "start_time": "2022-04-12T10:47:07.480Z"
   },
   {
    "duration": 17,
    "start_time": "2022-04-12T10:47:07.493Z"
   },
   {
    "duration": 18,
    "start_time": "2022-04-12T10:47:07.514Z"
   },
   {
    "duration": 46,
    "start_time": "2022-04-12T10:47:07.535Z"
   },
   {
    "duration": 25,
    "start_time": "2022-04-12T10:47:07.584Z"
   },
   {
    "duration": 17,
    "start_time": "2022-04-12T10:47:11.152Z"
   },
   {
    "duration": 27,
    "start_time": "2022-04-12T10:47:14.605Z"
   },
   {
    "duration": 47,
    "start_time": "2022-04-12T10:47:18.171Z"
   },
   {
    "duration": 37,
    "start_time": "2022-04-12T10:47:27.996Z"
   },
   {
    "duration": 40,
    "start_time": "2022-04-12T10:47:33.930Z"
   },
   {
    "duration": 22,
    "start_time": "2022-04-12T10:49:29.876Z"
   },
   {
    "duration": 29,
    "start_time": "2022-04-12T10:49:30.298Z"
   },
   {
    "duration": 19,
    "start_time": "2022-04-12T10:51:12.370Z"
   },
   {
    "duration": 36,
    "start_time": "2022-04-12T10:51:12.883Z"
   },
   {
    "duration": 22,
    "start_time": "2022-04-12T10:51:35.576Z"
   },
   {
    "duration": 30,
    "start_time": "2022-04-12T10:51:37.056Z"
   },
   {
    "duration": 521,
    "start_time": "2022-04-12T10:55:36.961Z"
   },
   {
    "duration": 515,
    "start_time": "2022-04-12T10:55:37.485Z"
   },
   {
    "duration": 24,
    "start_time": "2022-04-12T10:55:38.002Z"
   },
   {
    "duration": 30,
    "start_time": "2022-04-12T10:55:38.029Z"
   },
   {
    "duration": 21,
    "start_time": "2022-04-12T10:55:38.066Z"
   },
   {
    "duration": 34,
    "start_time": "2022-04-12T10:55:38.089Z"
   },
   {
    "duration": 11,
    "start_time": "2022-04-12T10:55:38.125Z"
   },
   {
    "duration": 62,
    "start_time": "2022-04-12T10:55:38.138Z"
   },
   {
    "duration": 12,
    "start_time": "2022-04-12T10:55:38.202Z"
   },
   {
    "duration": 24,
    "start_time": "2022-04-12T10:55:38.216Z"
   },
   {
    "duration": 16,
    "start_time": "2022-04-12T10:55:38.279Z"
   },
   {
    "duration": 17,
    "start_time": "2022-04-12T10:55:38.297Z"
   },
   {
    "duration": 17,
    "start_time": "2022-04-12T10:55:38.316Z"
   },
   {
    "duration": 61,
    "start_time": "2022-04-12T10:55:38.337Z"
   },
   {
    "duration": 75,
    "start_time": "2022-04-12T10:55:38.401Z"
   },
   {
    "duration": 33,
    "start_time": "2022-04-12T10:55:38.478Z"
   },
   {
    "duration": 5,
    "start_time": "2022-04-12T10:55:38.513Z"
   },
   {
    "duration": 87,
    "start_time": "2022-04-12T10:55:38.521Z"
   },
   {
    "duration": 151,
    "start_time": "2022-04-12T10:55:38.610Z"
   },
   {
    "duration": 67,
    "start_time": "2022-04-12T10:55:38.763Z"
   },
   {
    "duration": 38,
    "start_time": "2022-04-12T10:55:38.833Z"
   },
   {
    "duration": 14,
    "start_time": "2022-04-12T10:55:38.873Z"
   },
   {
    "duration": 126,
    "start_time": "2022-04-12T10:55:38.890Z"
   },
   {
    "duration": 24,
    "start_time": "2022-04-12T10:55:39.019Z"
   },
   {
    "duration": 78,
    "start_time": "2022-04-12T10:55:39.046Z"
   },
   {
    "duration": 70,
    "start_time": "2022-04-12T10:55:39.126Z"
   },
   {
    "duration": 58,
    "start_time": "2022-04-12T10:55:39.198Z"
   },
   {
    "duration": 15,
    "start_time": "2022-04-12T10:55:39.258Z"
   },
   {
    "duration": 16,
    "start_time": "2022-04-12T10:55:39.275Z"
   },
   {
    "duration": 21,
    "start_time": "2022-04-12T10:55:39.293Z"
   },
   {
    "duration": 9,
    "start_time": "2022-04-12T10:55:39.317Z"
   },
   {
    "duration": 15,
    "start_time": "2022-04-12T10:55:39.329Z"
   },
   {
    "duration": 33,
    "start_time": "2022-04-12T10:55:39.346Z"
   },
   {
    "duration": 23,
    "start_time": "2022-04-12T10:55:39.381Z"
   },
   {
    "duration": 17,
    "start_time": "2022-04-12T10:55:39.406Z"
   },
   {
    "duration": 49,
    "start_time": "2022-04-12T10:55:39.426Z"
   },
   {
    "duration": 32,
    "start_time": "2022-04-12T10:55:39.478Z"
   },
   {
    "duration": 24,
    "start_time": "2022-04-12T10:57:10.756Z"
   },
   {
    "duration": 2664,
    "start_time": "2022-04-12T10:57:25.088Z"
   },
   {
    "duration": 25,
    "start_time": "2022-04-12T10:57:32.530Z"
   },
   {
    "duration": 42,
    "start_time": "2022-04-12T10:57:35.837Z"
   },
   {
    "duration": 525,
    "start_time": "2022-04-12T10:57:52.663Z"
   },
   {
    "duration": 479,
    "start_time": "2022-04-12T10:57:53.191Z"
   },
   {
    "duration": 23,
    "start_time": "2022-04-12T10:57:53.672Z"
   },
   {
    "duration": 29,
    "start_time": "2022-04-12T10:57:53.698Z"
   },
   {
    "duration": 40,
    "start_time": "2022-04-12T10:57:53.731Z"
   },
   {
    "duration": 56,
    "start_time": "2022-04-12T10:57:53.773Z"
   },
   {
    "duration": 14,
    "start_time": "2022-04-12T10:57:53.831Z"
   },
   {
    "duration": 26,
    "start_time": "2022-04-12T10:57:53.867Z"
   },
   {
    "duration": 11,
    "start_time": "2022-04-12T10:57:53.895Z"
   },
   {
    "duration": 18,
    "start_time": "2022-04-12T10:57:53.908Z"
   },
   {
    "duration": 48,
    "start_time": "2022-04-12T10:57:53.929Z"
   },
   {
    "duration": 17,
    "start_time": "2022-04-12T10:57:53.980Z"
   },
   {
    "duration": 11,
    "start_time": "2022-04-12T10:57:53.999Z"
   },
   {
    "duration": 77,
    "start_time": "2022-04-12T10:57:54.015Z"
   },
   {
    "duration": 49,
    "start_time": "2022-04-12T10:57:54.094Z"
   },
   {
    "duration": 41,
    "start_time": "2022-04-12T10:57:54.145Z"
   },
   {
    "duration": 14,
    "start_time": "2022-04-12T10:57:54.188Z"
   },
   {
    "duration": 110,
    "start_time": "2022-04-12T10:57:54.204Z"
   },
   {
    "duration": 161,
    "start_time": "2022-04-12T10:57:54.318Z"
   },
   {
    "duration": 71,
    "start_time": "2022-04-12T10:57:54.481Z"
   },
   {
    "duration": 10,
    "start_time": "2022-04-12T10:57:54.568Z"
   },
   {
    "duration": 12,
    "start_time": "2022-04-12T10:57:54.580Z"
   },
   {
    "duration": 138,
    "start_time": "2022-04-12T10:57:54.594Z"
   },
   {
    "duration": 35,
    "start_time": "2022-04-12T10:57:54.734Z"
   },
   {
    "duration": 54,
    "start_time": "2022-04-12T10:57:54.771Z"
   },
   {
    "duration": 65,
    "start_time": "2022-04-12T10:57:54.828Z"
   },
   {
    "duration": 78,
    "start_time": "2022-04-12T10:57:54.895Z"
   },
   {
    "duration": 6,
    "start_time": "2022-04-12T10:57:54.975Z"
   },
   {
    "duration": 7,
    "start_time": "2022-04-12T10:57:54.983Z"
   },
   {
    "duration": 17,
    "start_time": "2022-04-12T10:57:54.992Z"
   },
   {
    "duration": 8,
    "start_time": "2022-04-12T10:57:55.012Z"
   },
   {
    "duration": 55,
    "start_time": "2022-04-12T10:57:55.023Z"
   },
   {
    "duration": 13,
    "start_time": "2022-04-12T10:57:55.081Z"
   },
   {
    "duration": 17,
    "start_time": "2022-04-12T10:57:55.097Z"
   },
   {
    "duration": 51,
    "start_time": "2022-04-12T10:57:55.116Z"
   },
   {
    "duration": 19,
    "start_time": "2022-04-12T10:57:55.171Z"
   },
   {
    "duration": 35,
    "start_time": "2022-04-12T10:57:55.192Z"
   },
   {
    "duration": 16,
    "start_time": "2022-04-12T10:58:25.462Z"
   },
   {
    "duration": 8,
    "start_time": "2022-04-12T10:58:29.961Z"
   },
   {
    "duration": 17,
    "start_time": "2022-04-12T10:58:32.843Z"
   },
   {
    "duration": 7,
    "start_time": "2022-04-12T10:59:04.949Z"
   },
   {
    "duration": 31,
    "start_time": "2022-04-12T10:59:05.770Z"
   },
   {
    "duration": 521,
    "start_time": "2022-04-12T11:00:08.759Z"
   },
   {
    "duration": 464,
    "start_time": "2022-04-12T11:00:09.282Z"
   },
   {
    "duration": 22,
    "start_time": "2022-04-12T11:00:09.749Z"
   },
   {
    "duration": 30,
    "start_time": "2022-04-12T11:00:09.774Z"
   },
   {
    "duration": 12,
    "start_time": "2022-04-12T11:00:09.807Z"
   },
   {
    "duration": 62,
    "start_time": "2022-04-12T11:00:09.821Z"
   },
   {
    "duration": 11,
    "start_time": "2022-04-12T11:00:09.886Z"
   },
   {
    "duration": 28,
    "start_time": "2022-04-12T11:00:09.899Z"
   },
   {
    "duration": 42,
    "start_time": "2022-04-12T11:00:09.929Z"
   },
   {
    "duration": 19,
    "start_time": "2022-04-12T11:00:09.974Z"
   },
   {
    "duration": 18,
    "start_time": "2022-04-12T11:00:09.995Z"
   },
   {
    "duration": 54,
    "start_time": "2022-04-12T11:00:10.015Z"
   },
   {
    "duration": 11,
    "start_time": "2022-04-12T11:00:10.071Z"
   },
   {
    "duration": 41,
    "start_time": "2022-04-12T11:00:10.089Z"
   },
   {
    "duration": 77,
    "start_time": "2022-04-12T11:00:10.132Z"
   },
   {
    "duration": 32,
    "start_time": "2022-04-12T11:00:10.211Z"
   },
   {
    "duration": 5,
    "start_time": "2022-04-12T11:00:10.268Z"
   },
   {
    "duration": 67,
    "start_time": "2022-04-12T11:00:10.276Z"
   },
   {
    "duration": 165,
    "start_time": "2022-04-12T11:00:10.346Z"
   },
   {
    "duration": 75,
    "start_time": "2022-04-12T11:00:10.514Z"
   },
   {
    "duration": 9,
    "start_time": "2022-04-12T11:00:10.591Z"
   },
   {
    "duration": 11,
    "start_time": "2022-04-12T11:00:10.602Z"
   },
   {
    "duration": 136,
    "start_time": "2022-04-12T11:00:10.616Z"
   },
   {
    "duration": 23,
    "start_time": "2022-04-12T11:00:10.754Z"
   },
   {
    "duration": 52,
    "start_time": "2022-04-12T11:00:10.779Z"
   },
   {
    "duration": 68,
    "start_time": "2022-04-12T11:00:10.833Z"
   },
   {
    "duration": 67,
    "start_time": "2022-04-12T11:00:10.904Z"
   },
   {
    "duration": 6,
    "start_time": "2022-04-12T11:00:10.973Z"
   },
   {
    "duration": 7,
    "start_time": "2022-04-12T11:00:10.981Z"
   },
   {
    "duration": 15,
    "start_time": "2022-04-12T11:00:10.990Z"
   },
   {
    "duration": 5,
    "start_time": "2022-04-12T11:00:11.007Z"
   },
   {
    "duration": 62,
    "start_time": "2022-04-12T11:00:11.015Z"
   },
   {
    "duration": 12,
    "start_time": "2022-04-12T11:00:11.079Z"
   },
   {
    "duration": 15,
    "start_time": "2022-04-12T11:00:11.093Z"
   },
   {
    "duration": 16,
    "start_time": "2022-04-12T11:00:11.110Z"
   },
   {
    "duration": 59,
    "start_time": "2022-04-12T11:00:11.128Z"
   },
   {
    "duration": 30,
    "start_time": "2022-04-12T11:00:11.189Z"
   },
   {
    "duration": 26,
    "start_time": "2022-04-12T11:02:49.947Z"
   },
   {
    "duration": 27,
    "start_time": "2022-04-12T11:02:52.978Z"
   },
   {
    "duration": 27,
    "start_time": "2022-04-12T11:02:55.679Z"
   },
   {
    "duration": 617,
    "start_time": "2022-04-12T13:16:21.391Z"
   },
   {
    "duration": 2016,
    "start_time": "2022-04-12T13:16:59.129Z"
   },
   {
    "duration": 11,
    "start_time": "2022-04-12T13:17:24.215Z"
   },
   {
    "duration": 578,
    "start_time": "2022-04-12T13:17:32.111Z"
   },
   {
    "duration": 65,
    "start_time": "2022-04-12T13:17:34.766Z"
   },
   {
    "duration": 11,
    "start_time": "2022-04-12T13:17:46.895Z"
   },
   {
    "duration": 357,
    "start_time": "2022-04-12T13:18:25.543Z"
   },
   {
    "duration": 854,
    "start_time": "2022-04-12T13:18:35.148Z"
   },
   {
    "duration": 533,
    "start_time": "2022-04-12T13:18:51.191Z"
   },
   {
    "duration": 334,
    "start_time": "2022-04-12T13:20:02.862Z"
   },
   {
    "duration": 807,
    "start_time": "2022-04-12T13:20:14.493Z"
   },
   {
    "duration": 543,
    "start_time": "2022-04-12T13:20:24.504Z"
   },
   {
    "duration": 117,
    "start_time": "2022-04-12T13:20:37.307Z"
   },
   {
    "duration": 912,
    "start_time": "2022-04-12T13:20:40.899Z"
   },
   {
    "duration": 364,
    "start_time": "2022-04-12T13:20:51.072Z"
   },
   {
    "duration": 548,
    "start_time": "2022-04-12T13:20:55.025Z"
   },
   {
    "duration": 13,
    "start_time": "2022-04-12T13:22:50.324Z"
   },
   {
    "duration": 24,
    "start_time": "2022-04-12T13:22:56.679Z"
   },
   {
    "duration": 1894,
    "start_time": "2022-04-12T13:23:11.391Z"
   },
   {
    "duration": 696,
    "start_time": "2022-04-12T13:24:17.949Z"
   },
   {
    "duration": 8,
    "start_time": "2022-04-12T13:25:30.296Z"
   },
   {
    "duration": 2373,
    "start_time": "2022-04-12T13:25:34.768Z"
   },
   {
    "duration": 1951,
    "start_time": "2022-04-12T13:25:41.762Z"
   },
   {
    "duration": 2531,
    "start_time": "2022-04-12T13:25:48.149Z"
   },
   {
    "duration": 19,
    "start_time": "2022-04-12T13:26:36.558Z"
   },
   {
    "duration": 13,
    "start_time": "2022-04-12T13:26:46.445Z"
   },
   {
    "duration": 594,
    "start_time": "2022-04-12T13:26:56.571Z"
   },
   {
    "duration": 1534,
    "start_time": "2022-04-12T13:27:10.076Z"
   },
   {
    "duration": 2348,
    "start_time": "2022-04-12T13:27:16.776Z"
   },
   {
    "duration": 242,
    "start_time": "2022-04-12T13:28:17.678Z"
   },
   {
    "duration": 2342,
    "start_time": "2022-04-12T13:28:54.776Z"
   },
   {
    "duration": 16,
    "start_time": "2022-04-12T13:31:59.962Z"
   },
   {
    "duration": 16,
    "start_time": "2022-04-12T13:32:08.499Z"
   },
   {
    "duration": 21,
    "start_time": "2022-04-12T13:32:13.069Z"
   },
   {
    "duration": 34,
    "start_time": "2022-04-12T13:32:21.590Z"
   },
   {
    "duration": 2609,
    "start_time": "2022-04-12T13:35:35.551Z"
   },
   {
    "duration": 135,
    "start_time": "2022-04-12T13:37:01.718Z"
   },
   {
    "duration": 24,
    "start_time": "2022-04-12T13:37:05.584Z"
   },
   {
    "duration": 19,
    "start_time": "2022-04-12T13:37:21.493Z"
   },
   {
    "duration": 9,
    "start_time": "2022-04-12T13:37:37.595Z"
   },
   {
    "duration": 83,
    "start_time": "2022-04-12T13:37:43.999Z"
   },
   {
    "duration": 12,
    "start_time": "2022-04-12T13:39:01.115Z"
   },
   {
    "duration": 34,
    "start_time": "2022-04-12T13:39:07.918Z"
   },
   {
    "duration": 60,
    "start_time": "2022-04-12T13:39:39.698Z"
   },
   {
    "duration": 61,
    "start_time": "2022-04-12T13:40:08.321Z"
   },
   {
    "duration": 1659,
    "start_time": "2022-04-12T13:40:33.216Z"
   },
   {
    "duration": 595,
    "start_time": "2022-04-12T13:40:34.883Z"
   },
   {
    "duration": 25,
    "start_time": "2022-04-12T13:40:35.481Z"
   },
   {
    "duration": 33,
    "start_time": "2022-04-12T13:40:35.508Z"
   },
   {
    "duration": 50,
    "start_time": "2022-04-12T13:40:35.546Z"
   },
   {
    "duration": 37,
    "start_time": "2022-04-12T13:40:35.599Z"
   },
   {
    "duration": 9,
    "start_time": "2022-04-12T13:40:35.639Z"
   },
   {
    "duration": 54,
    "start_time": "2022-04-12T13:40:35.650Z"
   },
   {
    "duration": 14,
    "start_time": "2022-04-12T13:40:35.707Z"
   },
   {
    "duration": 16,
    "start_time": "2022-04-12T13:40:35.724Z"
   },
   {
    "duration": 50,
    "start_time": "2022-04-12T13:40:35.743Z"
   },
   {
    "duration": 19,
    "start_time": "2022-04-12T13:40:35.796Z"
   },
   {
    "duration": 20,
    "start_time": "2022-04-12T13:40:35.818Z"
   },
   {
    "duration": 72,
    "start_time": "2022-04-12T13:40:35.845Z"
   },
   {
    "duration": 90,
    "start_time": "2022-04-12T13:40:35.920Z"
   },
   {
    "duration": 44,
    "start_time": "2022-04-12T13:40:36.013Z"
   },
   {
    "duration": 7,
    "start_time": "2022-04-12T13:40:36.060Z"
   },
   {
    "duration": 69,
    "start_time": "2022-04-12T13:40:36.084Z"
   },
   {
    "duration": 152,
    "start_time": "2022-04-12T13:40:36.155Z"
   },
   {
    "duration": 75,
    "start_time": "2022-04-12T13:40:36.309Z"
   },
   {
    "duration": 12,
    "start_time": "2022-04-12T13:40:36.387Z"
   },
   {
    "duration": 13,
    "start_time": "2022-04-12T13:40:36.402Z"
   },
   {
    "duration": 128,
    "start_time": "2022-04-12T13:40:36.418Z"
   },
   {
    "duration": 19,
    "start_time": "2022-04-12T13:40:36.549Z"
   },
   {
    "duration": 54,
    "start_time": "2022-04-12T13:40:36.582Z"
   },
   {
    "duration": 71,
    "start_time": "2022-04-12T13:40:36.639Z"
   },
   {
    "duration": 23,
    "start_time": "2022-04-12T13:40:36.712Z"
   },
   {
    "duration": 7,
    "start_time": "2022-04-12T13:40:36.737Z"
   },
   {
    "duration": 6,
    "start_time": "2022-04-12T13:40:36.746Z"
   },
   {
    "duration": 18,
    "start_time": "2022-04-12T13:40:36.781Z"
   },
   {
    "duration": 5,
    "start_time": "2022-04-12T13:40:36.801Z"
   },
   {
    "duration": 14,
    "start_time": "2022-04-12T13:40:36.808Z"
   },
   {
    "duration": 11,
    "start_time": "2022-04-12T13:40:36.824Z"
   },
   {
    "duration": 57,
    "start_time": "2022-04-12T13:40:36.838Z"
   },
   {
    "duration": 31,
    "start_time": "2022-04-12T13:40:36.898Z"
   },
   {
    "duration": 30,
    "start_time": "2022-04-12T13:40:36.932Z"
   },
   {
    "duration": 46,
    "start_time": "2022-04-12T13:40:36.965Z"
   },
   {
    "duration": 82,
    "start_time": "2022-04-12T13:40:37.014Z"
   },
   {
    "duration": 3478,
    "start_time": "2022-04-12T13:40:37.099Z"
   },
   {
    "duration": 2331,
    "start_time": "2022-04-12T13:41:12.486Z"
   },
   {
    "duration": 2015,
    "start_time": "2022-04-12T13:43:23.301Z"
   },
   {
    "duration": 619,
    "start_time": "2022-04-12T13:43:55.657Z"
   },
   {
    "duration": 858,
    "start_time": "2022-04-12T13:44:08.731Z"
   },
   {
    "duration": 332,
    "start_time": "2022-04-12T13:44:27.966Z"
   },
   {
    "duration": 231,
    "start_time": "2022-04-12T13:44:34.323Z"
   },
   {
    "duration": 367,
    "start_time": "2022-04-12T13:44:39.877Z"
   },
   {
    "duration": 141,
    "start_time": "2022-04-12T13:44:45.636Z"
   },
   {
    "duration": 10,
    "start_time": "2022-04-12T13:47:18.839Z"
   },
   {
    "duration": 68,
    "start_time": "2022-04-12T13:47:25.166Z"
   },
   {
    "duration": 11,
    "start_time": "2022-04-12T13:47:25.836Z"
   },
   {
    "duration": 11,
    "start_time": "2022-04-12T13:47:34.199Z"
   },
   {
    "duration": 14,
    "start_time": "2022-04-12T13:48:06.620Z"
   },
   {
    "duration": 26,
    "start_time": "2022-04-12T13:48:53.888Z"
   },
   {
    "duration": 15,
    "start_time": "2022-04-12T13:49:03.255Z"
   },
   {
    "duration": 27,
    "start_time": "2022-04-12T13:49:22.704Z"
   },
   {
    "duration": 3,
    "start_time": "2022-04-12T13:49:25.765Z"
   },
   {
    "duration": 46,
    "start_time": "2022-04-12T13:52:39.563Z"
   },
   {
    "duration": 67,
    "start_time": "2022-04-12T13:53:46.069Z"
   },
   {
    "duration": 2579,
    "start_time": "2022-04-12T13:55:12.727Z"
   },
   {
    "duration": 105,
    "start_time": "2022-04-12T14:00:57.169Z"
   },
   {
    "duration": 50,
    "start_time": "2022-04-12T14:01:02.424Z"
   },
   {
    "duration": 74,
    "start_time": "2022-04-12T14:01:10.937Z"
   },
   {
    "duration": 65,
    "start_time": "2022-04-12T14:01:39.560Z"
   },
   {
    "duration": 2454,
    "start_time": "2022-04-12T14:04:03.885Z"
   },
   {
    "duration": 75,
    "start_time": "2022-04-12T19:14:40.610Z"
   },
   {
    "duration": 1923,
    "start_time": "2022-04-12T19:14:46.080Z"
   },
   {
    "duration": 666,
    "start_time": "2022-04-12T19:14:48.006Z"
   },
   {
    "duration": 19,
    "start_time": "2022-04-12T19:14:48.674Z"
   },
   {
    "duration": 33,
    "start_time": "2022-04-12T19:14:48.696Z"
   },
   {
    "duration": 12,
    "start_time": "2022-04-12T19:14:48.731Z"
   },
   {
    "duration": 34,
    "start_time": "2022-04-12T19:14:48.745Z"
   },
   {
    "duration": 10,
    "start_time": "2022-04-12T19:14:48.781Z"
   },
   {
    "duration": 64,
    "start_time": "2022-04-12T19:14:48.793Z"
   },
   {
    "duration": 11,
    "start_time": "2022-04-12T19:14:48.859Z"
   },
   {
    "duration": 19,
    "start_time": "2022-04-12T19:14:48.875Z"
   },
   {
    "duration": 41,
    "start_time": "2022-04-12T19:14:48.897Z"
   },
   {
    "duration": 19,
    "start_time": "2022-04-12T19:14:48.941Z"
   },
   {
    "duration": 16,
    "start_time": "2022-04-12T19:14:48.963Z"
   },
   {
    "duration": 75,
    "start_time": "2022-04-12T19:14:48.981Z"
   },
   {
    "duration": 69,
    "start_time": "2022-04-12T19:14:49.059Z"
   },
   {
    "duration": 28,
    "start_time": "2022-04-12T19:14:49.131Z"
   },
   {
    "duration": 6,
    "start_time": "2022-04-12T19:14:49.161Z"
   },
   {
    "duration": 99,
    "start_time": "2022-04-12T19:14:49.169Z"
   },
   {
    "duration": 173,
    "start_time": "2022-04-12T19:14:49.270Z"
   },
   {
    "duration": 82,
    "start_time": "2022-04-12T19:14:49.445Z"
   },
   {
    "duration": 11,
    "start_time": "2022-04-12T19:14:49.529Z"
   },
   {
    "duration": 13,
    "start_time": "2022-04-12T19:14:49.542Z"
   },
   {
    "duration": 140,
    "start_time": "2022-04-12T19:14:49.558Z"
   },
   {
    "duration": 28,
    "start_time": "2022-04-12T19:14:49.700Z"
   },
   {
    "duration": 55,
    "start_time": "2022-04-12T19:14:49.731Z"
   },
   {
    "duration": 73,
    "start_time": "2022-04-12T19:14:49.789Z"
   },
   {
    "duration": 26,
    "start_time": "2022-04-12T19:14:49.864Z"
   },
   {
    "duration": 7,
    "start_time": "2022-04-12T19:14:49.895Z"
   },
   {
    "duration": 8,
    "start_time": "2022-04-12T19:14:49.925Z"
   },
   {
    "duration": 20,
    "start_time": "2022-04-12T19:14:49.935Z"
   },
   {
    "duration": 10,
    "start_time": "2022-04-12T19:14:49.958Z"
   },
   {
    "duration": 22,
    "start_time": "2022-04-12T19:14:49.971Z"
   },
   {
    "duration": 12,
    "start_time": "2022-04-12T19:14:50.025Z"
   },
   {
    "duration": 17,
    "start_time": "2022-04-12T19:14:50.040Z"
   },
   {
    "duration": 25,
    "start_time": "2022-04-12T19:14:50.060Z"
   },
   {
    "duration": 59,
    "start_time": "2022-04-12T19:14:50.088Z"
   },
   {
    "duration": 33,
    "start_time": "2022-04-12T19:14:50.149Z"
   },
   {
    "duration": 64,
    "start_time": "2022-04-12T19:14:50.185Z"
   },
   {
    "duration": 294,
    "start_time": "2022-04-12T19:14:50.252Z"
   },
   {
    "duration": 0,
    "start_time": "2022-04-12T19:14:50.549Z"
   },
   {
    "duration": 23,
    "start_time": "2022-04-12T19:15:44.566Z"
   },
   {
    "duration": 30,
    "start_time": "2022-04-12T19:15:47.842Z"
   },
   {
    "duration": 9,
    "start_time": "2022-04-12T19:16:22.762Z"
   },
   {
    "duration": 62,
    "start_time": "2022-04-12T19:19:07.187Z"
   },
   {
    "duration": 2428,
    "start_time": "2022-04-12T19:19:16.561Z"
   },
   {
    "duration": 1384,
    "start_time": "2022-04-13T08:13:45.975Z"
   },
   {
    "duration": 396,
    "start_time": "2022-04-13T08:13:47.361Z"
   },
   {
    "duration": 14,
    "start_time": "2022-04-13T08:13:47.758Z"
   },
   {
    "duration": 31,
    "start_time": "2022-04-13T08:13:47.774Z"
   },
   {
    "duration": 11,
    "start_time": "2022-04-13T08:13:47.808Z"
   },
   {
    "duration": 40,
    "start_time": "2022-04-13T08:13:47.821Z"
   },
   {
    "duration": 10,
    "start_time": "2022-04-13T08:13:47.864Z"
   },
   {
    "duration": 29,
    "start_time": "2022-04-13T08:13:47.877Z"
   },
   {
    "duration": 17,
    "start_time": "2022-04-13T08:13:47.909Z"
   },
   {
    "duration": 26,
    "start_time": "2022-04-13T08:13:47.928Z"
   },
   {
    "duration": 26,
    "start_time": "2022-04-13T08:13:47.956Z"
   },
   {
    "duration": 18,
    "start_time": "2022-04-13T08:13:47.983Z"
   },
   {
    "duration": 14,
    "start_time": "2022-04-13T08:13:48.003Z"
   },
   {
    "duration": 39,
    "start_time": "2022-04-13T08:13:48.021Z"
   },
   {
    "duration": 38,
    "start_time": "2022-04-13T08:13:48.062Z"
   },
   {
    "duration": 30,
    "start_time": "2022-04-13T08:13:48.102Z"
   },
   {
    "duration": 4,
    "start_time": "2022-04-13T08:13:48.134Z"
   },
   {
    "duration": 59,
    "start_time": "2022-04-13T08:13:48.140Z"
   },
   {
    "duration": 121,
    "start_time": "2022-04-13T08:13:48.201Z"
   },
   {
    "duration": 50,
    "start_time": "2022-04-13T08:13:48.324Z"
   },
   {
    "duration": 7,
    "start_time": "2022-04-13T08:13:48.376Z"
   },
   {
    "duration": 26,
    "start_time": "2022-04-13T08:13:48.384Z"
   },
   {
    "duration": 81,
    "start_time": "2022-04-13T08:13:48.419Z"
   },
   {
    "duration": 24,
    "start_time": "2022-04-13T08:13:48.502Z"
   },
   {
    "duration": 50,
    "start_time": "2022-04-13T08:13:48.528Z"
   },
   {
    "duration": 44,
    "start_time": "2022-04-13T08:13:48.580Z"
   },
   {
    "duration": 18,
    "start_time": "2022-04-13T08:13:48.626Z"
   },
   {
    "duration": 4,
    "start_time": "2022-04-13T08:13:48.646Z"
   },
   {
    "duration": 17,
    "start_time": "2022-04-13T08:13:48.652Z"
   },
   {
    "duration": 18,
    "start_time": "2022-04-13T08:13:48.672Z"
   },
   {
    "duration": 16,
    "start_time": "2022-04-13T08:13:48.692Z"
   },
   {
    "duration": 23,
    "start_time": "2022-04-13T08:13:48.710Z"
   },
   {
    "duration": 16,
    "start_time": "2022-04-13T08:13:48.735Z"
   },
   {
    "duration": 18,
    "start_time": "2022-04-13T08:13:48.753Z"
   },
   {
    "duration": 18,
    "start_time": "2022-04-13T08:13:48.773Z"
   },
   {
    "duration": 23,
    "start_time": "2022-04-13T08:13:48.793Z"
   },
   {
    "duration": 16,
    "start_time": "2022-04-13T08:13:48.818Z"
   },
   {
    "duration": 19,
    "start_time": "2022-04-13T08:13:48.836Z"
   },
   {
    "duration": 68,
    "start_time": "2022-04-13T08:13:48.857Z"
   },
   {
    "duration": 1524,
    "start_time": "2022-04-13T08:13:48.927Z"
   },
   {
    "duration": 45,
    "start_time": "2022-04-13T08:17:03.235Z"
   },
   {
    "duration": 1741,
    "start_time": "2022-04-13T08:17:04.486Z"
   },
   {
    "duration": 1875,
    "start_time": "2022-04-13T08:22:38.298Z"
   },
   {
    "duration": 1229,
    "start_time": "2022-04-13T08:25:38.851Z"
   },
   {
    "duration": 418,
    "start_time": "2022-04-13T08:25:40.082Z"
   },
   {
    "duration": 14,
    "start_time": "2022-04-13T08:25:40.502Z"
   },
   {
    "duration": 26,
    "start_time": "2022-04-13T08:25:40.517Z"
   },
   {
    "duration": 9,
    "start_time": "2022-04-13T08:25:40.546Z"
   },
   {
    "duration": 32,
    "start_time": "2022-04-13T08:25:40.556Z"
   },
   {
    "duration": 28,
    "start_time": "2022-04-13T08:25:40.590Z"
   },
   {
    "duration": 20,
    "start_time": "2022-04-13T08:25:40.620Z"
   },
   {
    "duration": 8,
    "start_time": "2022-04-13T08:25:40.642Z"
   },
   {
    "duration": 16,
    "start_time": "2022-04-13T08:25:40.652Z"
   },
   {
    "duration": 19,
    "start_time": "2022-04-13T08:25:40.670Z"
   },
   {
    "duration": 33,
    "start_time": "2022-04-13T08:25:40.691Z"
   },
   {
    "duration": 17,
    "start_time": "2022-04-13T08:25:40.726Z"
   },
   {
    "duration": 33,
    "start_time": "2022-04-13T08:25:40.747Z"
   },
   {
    "duration": 46,
    "start_time": "2022-04-13T08:25:40.782Z"
   },
   {
    "duration": 22,
    "start_time": "2022-04-13T08:25:40.830Z"
   },
   {
    "duration": 6,
    "start_time": "2022-04-13T08:25:40.854Z"
   },
   {
    "duration": 73,
    "start_time": "2022-04-13T08:25:40.862Z"
   },
   {
    "duration": 122,
    "start_time": "2022-04-13T08:25:40.937Z"
   },
   {
    "duration": 61,
    "start_time": "2022-04-13T08:25:41.061Z"
   },
   {
    "duration": 7,
    "start_time": "2022-04-13T08:25:41.124Z"
   },
   {
    "duration": 14,
    "start_time": "2022-04-13T08:25:41.133Z"
   },
   {
    "duration": 95,
    "start_time": "2022-04-13T08:25:41.149Z"
   },
   {
    "duration": 15,
    "start_time": "2022-04-13T08:25:41.246Z"
   },
   {
    "duration": 59,
    "start_time": "2022-04-13T08:25:41.263Z"
   },
   {
    "duration": 37,
    "start_time": "2022-04-13T08:25:41.324Z"
   },
   {
    "duration": 18,
    "start_time": "2022-04-13T08:25:41.363Z"
   },
   {
    "duration": 5,
    "start_time": "2022-04-13T08:25:41.383Z"
   },
   {
    "duration": 30,
    "start_time": "2022-04-13T08:25:41.389Z"
   },
   {
    "duration": 19,
    "start_time": "2022-04-13T08:25:41.421Z"
   },
   {
    "duration": 11,
    "start_time": "2022-04-13T08:25:41.442Z"
   },
   {
    "duration": 20,
    "start_time": "2022-04-13T08:25:41.455Z"
   },
   {
    "duration": 15,
    "start_time": "2022-04-13T08:25:41.477Z"
   },
   {
    "duration": 17,
    "start_time": "2022-04-13T08:25:41.493Z"
   },
   {
    "duration": 11,
    "start_time": "2022-04-13T08:25:41.517Z"
   },
   {
    "duration": 26,
    "start_time": "2022-04-13T08:25:41.530Z"
   },
   {
    "duration": 15,
    "start_time": "2022-04-13T08:25:41.558Z"
   },
   {
    "duration": 43,
    "start_time": "2022-04-13T08:25:41.575Z"
   },
   {
    "duration": 48,
    "start_time": "2022-04-13T08:25:41.619Z"
   },
   {
    "duration": 1904,
    "start_time": "2022-04-13T08:25:41.668Z"
   },
   {
    "duration": 16,
    "start_time": "2022-04-13T08:26:22.005Z"
   },
   {
    "duration": 104,
    "start_time": "2022-04-13T08:27:33.108Z"
   },
   {
    "duration": 11,
    "start_time": "2022-04-13T08:27:40.087Z"
   },
   {
    "duration": 13,
    "start_time": "2022-04-13T08:27:46.876Z"
   },
   {
    "duration": 14,
    "start_time": "2022-04-13T08:27:54.139Z"
   },
   {
    "duration": 137,
    "start_time": "2022-04-13T08:29:33.988Z"
   },
   {
    "duration": 12,
    "start_time": "2022-04-13T08:29:47.672Z"
   },
   {
    "duration": 13,
    "start_time": "2022-04-13T08:29:55.486Z"
   },
   {
    "duration": 6,
    "start_time": "2022-04-13T08:30:11.330Z"
   },
   {
    "duration": 7,
    "start_time": "2022-04-13T08:31:11.955Z"
   },
   {
    "duration": 12,
    "start_time": "2022-04-13T08:31:18.845Z"
   },
   {
    "duration": 9,
    "start_time": "2022-04-13T08:33:58.962Z"
   },
   {
    "duration": 11,
    "start_time": "2022-04-13T08:34:03.068Z"
   },
   {
    "duration": 30,
    "start_time": "2022-04-13T08:34:15.559Z"
   },
   {
    "duration": 6,
    "start_time": "2022-04-13T08:34:32.884Z"
   },
   {
    "duration": 6,
    "start_time": "2022-04-13T08:35:08.092Z"
   },
   {
    "duration": 1373,
    "start_time": "2022-04-13T08:35:29.455Z"
   },
   {
    "duration": 430,
    "start_time": "2022-04-13T08:35:30.830Z"
   },
   {
    "duration": 13,
    "start_time": "2022-04-13T08:35:31.262Z"
   },
   {
    "duration": 34,
    "start_time": "2022-04-13T08:35:31.277Z"
   },
   {
    "duration": 33,
    "start_time": "2022-04-13T08:35:31.314Z"
   },
   {
    "duration": 52,
    "start_time": "2022-04-13T08:35:31.349Z"
   },
   {
    "duration": 8,
    "start_time": "2022-04-13T08:35:31.403Z"
   },
   {
    "duration": 29,
    "start_time": "2022-04-13T08:35:31.413Z"
   },
   {
    "duration": 25,
    "start_time": "2022-04-13T08:35:31.445Z"
   },
   {
    "duration": 34,
    "start_time": "2022-04-13T08:35:31.471Z"
   },
   {
    "duration": 26,
    "start_time": "2022-04-13T08:35:31.507Z"
   },
   {
    "duration": 25,
    "start_time": "2022-04-13T08:35:31.535Z"
   },
   {
    "duration": 25,
    "start_time": "2022-04-13T08:35:31.562Z"
   },
   {
    "duration": 57,
    "start_time": "2022-04-13T08:35:31.590Z"
   },
   {
    "duration": 38,
    "start_time": "2022-04-13T08:35:31.649Z"
   },
   {
    "duration": 42,
    "start_time": "2022-04-13T08:35:31.690Z"
   },
   {
    "duration": 19,
    "start_time": "2022-04-13T08:35:31.734Z"
   },
   {
    "duration": 73,
    "start_time": "2022-04-13T08:35:31.755Z"
   },
   {
    "duration": 116,
    "start_time": "2022-04-13T08:35:31.830Z"
   },
   {
    "duration": 54,
    "start_time": "2022-04-13T08:35:31.948Z"
   },
   {
    "duration": 8,
    "start_time": "2022-04-13T08:35:32.018Z"
   },
   {
    "duration": 24,
    "start_time": "2022-04-13T08:35:32.028Z"
   },
   {
    "duration": 108,
    "start_time": "2022-04-13T08:35:32.054Z"
   },
   {
    "duration": 16,
    "start_time": "2022-04-13T08:35:32.164Z"
   },
   {
    "duration": 66,
    "start_time": "2022-04-13T08:35:32.182Z"
   },
   {
    "duration": 38,
    "start_time": "2022-04-13T08:35:32.250Z"
   },
   {
    "duration": 18,
    "start_time": "2022-04-13T08:35:32.290Z"
   },
   {
    "duration": 5,
    "start_time": "2022-04-13T08:35:32.318Z"
   },
   {
    "duration": 27,
    "start_time": "2022-04-13T08:35:32.325Z"
   },
   {
    "duration": 37,
    "start_time": "2022-04-13T08:35:32.354Z"
   },
   {
    "duration": 33,
    "start_time": "2022-04-13T08:35:32.392Z"
   },
   {
    "duration": 35,
    "start_time": "2022-04-13T08:35:32.427Z"
   },
   {
    "duration": 34,
    "start_time": "2022-04-13T08:35:32.464Z"
   },
   {
    "duration": 43,
    "start_time": "2022-04-13T08:35:32.499Z"
   },
   {
    "duration": 35,
    "start_time": "2022-04-13T08:35:32.544Z"
   },
   {
    "duration": 38,
    "start_time": "2022-04-13T08:35:32.581Z"
   },
   {
    "duration": 21,
    "start_time": "2022-04-13T08:35:32.621Z"
   },
   {
    "duration": 47,
    "start_time": "2022-04-13T08:35:32.644Z"
   },
   {
    "duration": 75,
    "start_time": "2022-04-13T08:35:32.693Z"
   },
   {
    "duration": 1898,
    "start_time": "2022-04-13T08:35:32.770Z"
   },
   {
    "duration": 17,
    "start_time": "2022-04-13T08:35:34.673Z"
   },
   {
    "duration": 32,
    "start_time": "2022-04-13T08:35:34.692Z"
   },
   {
    "duration": 33,
    "start_time": "2022-04-13T08:35:50.347Z"
   },
   {
    "duration": 21,
    "start_time": "2022-04-13T08:36:03.580Z"
   },
   {
    "duration": 27,
    "start_time": "2022-04-13T08:36:08.480Z"
   },
   {
    "duration": 6,
    "start_time": "2022-04-13T08:36:19.009Z"
   },
   {
    "duration": 1913,
    "start_time": "2022-04-13T08:36:41.326Z"
   },
   {
    "duration": 1250,
    "start_time": "2022-04-13T08:38:46.643Z"
   },
   {
    "duration": 449,
    "start_time": "2022-04-13T08:38:47.896Z"
   },
   {
    "duration": 14,
    "start_time": "2022-04-13T08:38:48.347Z"
   },
   {
    "duration": 24,
    "start_time": "2022-04-13T08:38:48.363Z"
   },
   {
    "duration": 9,
    "start_time": "2022-04-13T08:38:48.390Z"
   },
   {
    "duration": 40,
    "start_time": "2022-04-13T08:38:48.401Z"
   },
   {
    "duration": 8,
    "start_time": "2022-04-13T08:38:48.443Z"
   },
   {
    "duration": 29,
    "start_time": "2022-04-13T08:38:48.453Z"
   },
   {
    "duration": 14,
    "start_time": "2022-04-13T08:38:48.485Z"
   },
   {
    "duration": 21,
    "start_time": "2022-04-13T08:38:48.502Z"
   },
   {
    "duration": 19,
    "start_time": "2022-04-13T08:38:48.525Z"
   },
   {
    "duration": 30,
    "start_time": "2022-04-13T08:38:48.546Z"
   },
   {
    "duration": 15,
    "start_time": "2022-04-13T08:38:48.579Z"
   },
   {
    "duration": 38,
    "start_time": "2022-04-13T08:38:48.598Z"
   },
   {
    "duration": 37,
    "start_time": "2022-04-13T08:38:48.638Z"
   },
   {
    "duration": 21,
    "start_time": "2022-04-13T08:38:48.677Z"
   },
   {
    "duration": 5,
    "start_time": "2022-04-13T08:38:48.717Z"
   },
   {
    "duration": 67,
    "start_time": "2022-04-13T08:38:48.724Z"
   },
   {
    "duration": 117,
    "start_time": "2022-04-13T08:38:48.793Z"
   },
   {
    "duration": 59,
    "start_time": "2022-04-13T08:38:48.911Z"
   },
   {
    "duration": 7,
    "start_time": "2022-04-13T08:38:48.972Z"
   },
   {
    "duration": 13,
    "start_time": "2022-04-13T08:38:48.981Z"
   },
   {
    "duration": 80,
    "start_time": "2022-04-13T08:38:49.018Z"
   },
   {
    "duration": 26,
    "start_time": "2022-04-13T08:38:49.099Z"
   },
   {
    "duration": 48,
    "start_time": "2022-04-13T08:38:49.127Z"
   },
   {
    "duration": 49,
    "start_time": "2022-04-13T08:38:49.177Z"
   },
   {
    "duration": 19,
    "start_time": "2022-04-13T08:38:49.228Z"
   },
   {
    "duration": 5,
    "start_time": "2022-04-13T08:38:49.249Z"
   },
   {
    "duration": 11,
    "start_time": "2022-04-13T08:38:49.255Z"
   },
   {
    "duration": 20,
    "start_time": "2022-04-13T08:38:49.268Z"
   },
   {
    "duration": 12,
    "start_time": "2022-04-13T08:38:49.290Z"
   },
   {
    "duration": 12,
    "start_time": "2022-04-13T08:38:49.317Z"
   },
   {
    "duration": 17,
    "start_time": "2022-04-13T08:38:49.331Z"
   },
   {
    "duration": 25,
    "start_time": "2022-04-13T08:38:49.352Z"
   },
   {
    "duration": 20,
    "start_time": "2022-04-13T08:38:49.379Z"
   },
   {
    "duration": 20,
    "start_time": "2022-04-13T08:38:49.401Z"
   },
   {
    "duration": 16,
    "start_time": "2022-04-13T08:38:49.423Z"
   },
   {
    "duration": 45,
    "start_time": "2022-04-13T08:38:49.441Z"
   },
   {
    "duration": 54,
    "start_time": "2022-04-13T08:38:49.488Z"
   },
   {
    "duration": 1924,
    "start_time": "2022-04-13T08:38:49.544Z"
   },
   {
    "duration": 7,
    "start_time": "2022-04-13T08:38:51.472Z"
   },
   {
    "duration": 63,
    "start_time": "2022-04-13T08:38:51.481Z"
   },
   {
    "duration": 1923,
    "start_time": "2022-04-13T08:38:51.545Z"
   },
   {
    "duration": 153,
    "start_time": "2022-04-13T08:40:42.415Z"
   },
   {
    "duration": 46,
    "start_time": "2022-04-13T08:41:23.771Z"
   },
   {
    "duration": 1971,
    "start_time": "2022-04-13T08:42:03.482Z"
   },
   {
    "duration": 1764,
    "start_time": "2022-04-13T08:42:22.991Z"
   },
   {
    "duration": 1920,
    "start_time": "2022-04-13T08:43:01.851Z"
   },
   {
    "duration": 2030,
    "start_time": "2022-04-13T08:43:31.679Z"
   },
   {
    "duration": 2007,
    "start_time": "2022-04-13T08:43:41.464Z"
   },
   {
    "duration": 25,
    "start_time": "2022-04-13T08:44:39.563Z"
   },
   {
    "duration": 116,
    "start_time": "2022-04-13T08:45:59.337Z"
   },
   {
    "duration": 1196,
    "start_time": "2022-04-13T08:46:10.072Z"
   },
   {
    "duration": 424,
    "start_time": "2022-04-13T08:46:11.271Z"
   },
   {
    "duration": 14,
    "start_time": "2022-04-13T08:46:11.697Z"
   },
   {
    "duration": 28,
    "start_time": "2022-04-13T08:46:11.713Z"
   },
   {
    "duration": 10,
    "start_time": "2022-04-13T08:46:11.744Z"
   },
   {
    "duration": 30,
    "start_time": "2022-04-13T08:46:11.756Z"
   },
   {
    "duration": 9,
    "start_time": "2022-04-13T08:46:11.789Z"
   },
   {
    "duration": 22,
    "start_time": "2022-04-13T08:46:11.818Z"
   },
   {
    "duration": 25,
    "start_time": "2022-04-13T08:46:11.842Z"
   },
   {
    "duration": 19,
    "start_time": "2022-04-13T08:46:11.869Z"
   },
   {
    "duration": 20,
    "start_time": "2022-04-13T08:46:11.890Z"
   },
   {
    "duration": 20,
    "start_time": "2022-04-13T08:46:11.911Z"
   },
   {
    "duration": 16,
    "start_time": "2022-04-13T08:46:11.933Z"
   },
   {
    "duration": 35,
    "start_time": "2022-04-13T08:46:11.953Z"
   },
   {
    "duration": 46,
    "start_time": "2022-04-13T08:46:11.990Z"
   },
   {
    "duration": 22,
    "start_time": "2022-04-13T08:46:12.038Z"
   },
   {
    "duration": 4,
    "start_time": "2022-04-13T08:46:12.062Z"
   },
   {
    "duration": 75,
    "start_time": "2022-04-13T08:46:12.068Z"
   },
   {
    "duration": 121,
    "start_time": "2022-04-13T08:46:12.144Z"
   },
   {
    "duration": 57,
    "start_time": "2022-04-13T08:46:12.267Z"
   },
   {
    "duration": 8,
    "start_time": "2022-04-13T08:46:12.326Z"
   },
   {
    "duration": 14,
    "start_time": "2022-04-13T08:46:12.335Z"
   },
   {
    "duration": 105,
    "start_time": "2022-04-13T08:46:12.350Z"
   },
   {
    "duration": 15,
    "start_time": "2022-04-13T08:46:12.457Z"
   },
   {
    "duration": 55,
    "start_time": "2022-04-13T08:46:12.474Z"
   },
   {
    "duration": 36,
    "start_time": "2022-04-13T08:46:12.531Z"
   },
   {
    "duration": 19,
    "start_time": "2022-04-13T08:46:12.569Z"
   },
   {
    "duration": 5,
    "start_time": "2022-04-13T08:46:12.590Z"
   },
   {
    "duration": 24,
    "start_time": "2022-04-13T08:46:12.597Z"
   },
   {
    "duration": 18,
    "start_time": "2022-04-13T08:46:12.622Z"
   },
   {
    "duration": 9,
    "start_time": "2022-04-13T08:46:12.642Z"
   },
   {
    "duration": 13,
    "start_time": "2022-04-13T08:46:12.654Z"
   },
   {
    "duration": 14,
    "start_time": "2022-04-13T08:46:12.669Z"
   },
   {
    "duration": 41,
    "start_time": "2022-04-13T08:46:12.685Z"
   },
   {
    "duration": 17,
    "start_time": "2022-04-13T08:46:12.728Z"
   },
   {
    "duration": 19,
    "start_time": "2022-04-13T08:46:12.747Z"
   },
   {
    "duration": 17,
    "start_time": "2022-04-13T08:46:12.768Z"
   },
   {
    "duration": 49,
    "start_time": "2022-04-13T08:46:12.786Z"
   },
   {
    "duration": 45,
    "start_time": "2022-04-13T08:46:12.837Z"
   },
   {
    "duration": 2005,
    "start_time": "2022-04-13T08:46:12.884Z"
   },
   {
    "duration": 7,
    "start_time": "2022-04-13T08:46:14.893Z"
   },
   {
    "duration": 60,
    "start_time": "2022-04-13T08:46:14.901Z"
   },
   {
    "duration": 1979,
    "start_time": "2022-04-13T08:46:14.963Z"
   },
   {
    "duration": 22,
    "start_time": "2022-04-13T08:46:16.944Z"
   },
   {
    "duration": 31,
    "start_time": "2022-04-13T08:46:16.968Z"
   },
   {
    "duration": 16,
    "start_time": "2022-04-13T08:46:29.775Z"
   },
   {
    "duration": 17,
    "start_time": "2022-04-13T08:46:34.480Z"
   },
   {
    "duration": 131,
    "start_time": "2022-04-13T08:46:57.621Z"
   },
   {
    "duration": 17,
    "start_time": "2022-04-13T08:47:01.730Z"
   },
   {
    "duration": 735,
    "start_time": "2022-04-13T08:47:59.539Z"
   },
   {
    "duration": 16,
    "start_time": "2022-04-13T08:48:26.745Z"
   },
   {
    "duration": 18,
    "start_time": "2022-04-13T08:49:09.541Z"
   },
   {
    "duration": 660,
    "start_time": "2022-04-13T08:49:13.426Z"
   },
   {
    "duration": 784,
    "start_time": "2022-04-13T08:49:26.651Z"
   },
   {
    "duration": 18,
    "start_time": "2022-04-13T08:49:44.467Z"
   },
   {
    "duration": 114,
    "start_time": "2022-04-13T08:49:55.561Z"
   },
   {
    "duration": 25,
    "start_time": "2022-04-13T08:50:02.095Z"
   },
   {
    "duration": 18,
    "start_time": "2022-04-13T08:50:10.560Z"
   },
   {
    "duration": 696,
    "start_time": "2022-04-13T08:51:02.293Z"
   },
   {
    "duration": 1079,
    "start_time": "2022-04-13T08:51:08.467Z"
   },
   {
    "duration": 980,
    "start_time": "2022-04-13T08:51:16.751Z"
   },
   {
    "duration": 775,
    "start_time": "2022-04-13T08:51:24.193Z"
   },
   {
    "duration": 712,
    "start_time": "2022-04-13T08:51:31.008Z"
   },
   {
    "duration": 170,
    "start_time": "2022-04-13T08:51:44.445Z"
   },
   {
    "duration": 709,
    "start_time": "2022-04-13T08:51:51.859Z"
   },
   {
    "duration": 893,
    "start_time": "2022-04-13T08:51:56.343Z"
   },
   {
    "duration": 796,
    "start_time": "2022-04-13T08:52:07.879Z"
   },
   {
    "duration": 168,
    "start_time": "2022-04-13T08:52:53.404Z"
   },
   {
    "duration": 13,
    "start_time": "2022-04-13T08:52:58.064Z"
   },
   {
    "duration": 788,
    "start_time": "2022-04-13T08:53:47.708Z"
   },
   {
    "duration": 814,
    "start_time": "2022-04-13T08:54:04.885Z"
   },
   {
    "duration": 723,
    "start_time": "2022-04-13T08:54:10.178Z"
   },
   {
    "duration": 913,
    "start_time": "2022-04-13T08:54:15.315Z"
   },
   {
    "duration": 775,
    "start_time": "2022-04-13T08:54:19.819Z"
   },
   {
    "duration": 825,
    "start_time": "2022-04-13T08:55:53.436Z"
   },
   {
    "duration": 873,
    "start_time": "2022-04-13T08:57:32.827Z"
   },
   {
    "duration": 804,
    "start_time": "2022-04-13T08:57:56.441Z"
   },
   {
    "duration": 908,
    "start_time": "2022-04-13T08:58:02.326Z"
   },
   {
    "duration": 1050,
    "start_time": "2022-04-13T08:58:07.668Z"
   },
   {
    "duration": 1375,
    "start_time": "2022-04-13T08:58:23.508Z"
   },
   {
    "duration": 1304,
    "start_time": "2022-04-13T08:58:29.481Z"
   },
   {
    "duration": 867,
    "start_time": "2022-04-13T08:58:35.330Z"
   },
   {
    "duration": 822,
    "start_time": "2022-04-13T08:58:43.071Z"
   },
   {
    "duration": 811,
    "start_time": "2022-04-13T08:58:48.075Z"
   },
   {
    "duration": 764,
    "start_time": "2022-04-13T08:59:24.743Z"
   },
   {
    "duration": 749,
    "start_time": "2022-04-13T08:59:56.810Z"
   },
   {
    "duration": 945,
    "start_time": "2022-04-13T09:02:00.043Z"
   },
   {
    "duration": 788,
    "start_time": "2022-04-13T09:02:05.632Z"
   },
   {
    "duration": 770,
    "start_time": "2022-04-13T09:02:15.398Z"
   },
   {
    "duration": 724,
    "start_time": "2022-04-13T09:02:21.758Z"
   },
   {
    "duration": 726,
    "start_time": "2022-04-13T09:02:26.436Z"
   },
   {
    "duration": 1506,
    "start_time": "2022-04-13T09:03:48.694Z"
   },
   {
    "duration": 428,
    "start_time": "2022-04-13T09:03:50.202Z"
   },
   {
    "duration": 14,
    "start_time": "2022-04-13T09:03:50.633Z"
   },
   {
    "duration": 42,
    "start_time": "2022-04-13T09:03:50.649Z"
   },
   {
    "duration": 21,
    "start_time": "2022-04-13T09:03:50.693Z"
   },
   {
    "duration": 35,
    "start_time": "2022-04-13T09:03:50.716Z"
   },
   {
    "duration": 8,
    "start_time": "2022-04-13T09:03:50.754Z"
   },
   {
    "duration": 47,
    "start_time": "2022-04-13T09:03:50.763Z"
   },
   {
    "duration": 14,
    "start_time": "2022-04-13T09:03:50.812Z"
   },
   {
    "duration": 18,
    "start_time": "2022-04-13T09:03:50.829Z"
   },
   {
    "duration": 18,
    "start_time": "2022-04-13T09:03:50.849Z"
   },
   {
    "duration": 17,
    "start_time": "2022-04-13T09:03:50.869Z"
   },
   {
    "duration": 18,
    "start_time": "2022-04-13T09:03:50.888Z"
   },
   {
    "duration": 32,
    "start_time": "2022-04-13T09:03:50.917Z"
   },
   {
    "duration": 39,
    "start_time": "2022-04-13T09:03:50.952Z"
   },
   {
    "duration": 39,
    "start_time": "2022-04-13T09:03:50.993Z"
   },
   {
    "duration": 4,
    "start_time": "2022-04-13T09:03:51.034Z"
   },
   {
    "duration": 64,
    "start_time": "2022-04-13T09:03:51.040Z"
   },
   {
    "duration": 126,
    "start_time": "2022-04-13T09:03:51.117Z"
   },
   {
    "duration": 58,
    "start_time": "2022-04-13T09:03:51.245Z"
   },
   {
    "duration": 21,
    "start_time": "2022-04-13T09:03:51.305Z"
   },
   {
    "duration": 20,
    "start_time": "2022-04-13T09:03:51.328Z"
   },
   {
    "duration": 98,
    "start_time": "2022-04-13T09:03:51.349Z"
   },
   {
    "duration": 16,
    "start_time": "2022-04-13T09:03:51.449Z"
   },
   {
    "duration": 60,
    "start_time": "2022-04-13T09:03:51.467Z"
   },
   {
    "duration": 38,
    "start_time": "2022-04-13T09:03:51.530Z"
   },
   {
    "duration": 21,
    "start_time": "2022-04-13T09:03:51.570Z"
   },
   {
    "duration": 7,
    "start_time": "2022-04-13T09:03:51.617Z"
   },
   {
    "duration": 7,
    "start_time": "2022-04-13T09:03:51.626Z"
   },
   {
    "duration": 19,
    "start_time": "2022-04-13T09:03:51.635Z"
   },
   {
    "duration": 8,
    "start_time": "2022-04-13T09:03:51.656Z"
   },
   {
    "duration": 16,
    "start_time": "2022-04-13T09:03:51.666Z"
   },
   {
    "duration": 34,
    "start_time": "2022-04-13T09:03:51.685Z"
   },
   {
    "duration": 14,
    "start_time": "2022-04-13T09:03:51.722Z"
   },
   {
    "duration": 18,
    "start_time": "2022-04-13T09:03:51.738Z"
   },
   {
    "duration": 19,
    "start_time": "2022-04-13T09:03:51.757Z"
   },
   {
    "duration": 41,
    "start_time": "2022-04-13T09:03:51.777Z"
   },
   {
    "duration": 24,
    "start_time": "2022-04-13T09:03:51.820Z"
   },
   {
    "duration": 73,
    "start_time": "2022-04-13T09:03:51.846Z"
   },
   {
    "duration": 1987,
    "start_time": "2022-04-13T09:03:51.921Z"
   },
   {
    "duration": 7,
    "start_time": "2022-04-13T09:03:53.918Z"
   },
   {
    "duration": 57,
    "start_time": "2022-04-13T09:03:53.927Z"
   },
   {
    "duration": 2000,
    "start_time": "2022-04-13T09:03:53.986Z"
   },
   {
    "duration": 805,
    "start_time": "2022-04-13T09:03:55.988Z"
   },
   {
    "duration": 738,
    "start_time": "2022-04-13T09:03:56.795Z"
   },
   {
    "duration": 423,
    "start_time": "2022-04-13T09:07:15.376Z"
   },
   {
    "duration": 1997,
    "start_time": "2022-04-13T09:07:21.566Z"
   },
   {
    "duration": 770,
    "start_time": "2022-04-13T09:11:47.577Z"
   },
   {
    "duration": 884,
    "start_time": "2022-04-13T09:12:07.572Z"
   },
   {
    "duration": 1879,
    "start_time": "2022-04-13T09:13:31.964Z"
   },
   {
    "duration": 1983,
    "start_time": "2022-04-13T09:13:46.052Z"
   },
   {
    "duration": 2286,
    "start_time": "2022-04-13T09:16:40.111Z"
   },
   {
    "duration": 1986,
    "start_time": "2022-04-13T09:17:01.922Z"
   },
   {
    "duration": 1994,
    "start_time": "2022-04-13T09:18:29.793Z"
   },
   {
    "duration": 2150,
    "start_time": "2022-04-13T09:18:42.589Z"
   },
   {
    "duration": 1872,
    "start_time": "2022-04-13T09:18:50.982Z"
   },
   {
    "duration": 183,
    "start_time": "2022-04-13T09:19:14.611Z"
   },
   {
    "duration": 2273,
    "start_time": "2022-04-13T09:19:36.677Z"
   },
   {
    "duration": 2014,
    "start_time": "2022-04-13T09:19:42.168Z"
   },
   {
    "duration": 1880,
    "start_time": "2022-04-13T09:20:01.250Z"
   },
   {
    "duration": 108,
    "start_time": "2022-04-13T09:20:13.689Z"
   },
   {
    "duration": 905,
    "start_time": "2022-04-13T09:20:16.496Z"
   },
   {
    "duration": 759,
    "start_time": "2022-04-13T09:20:22.789Z"
   },
   {
    "duration": 771,
    "start_time": "2022-04-13T09:20:30.181Z"
   },
   {
    "duration": 708,
    "start_time": "2022-04-13T09:20:50.796Z"
   },
   {
    "duration": 20,
    "start_time": "2022-04-13T09:21:50.075Z"
   },
   {
    "duration": 740,
    "start_time": "2022-04-13T09:21:55.169Z"
   },
   {
    "duration": 864,
    "start_time": "2022-04-13T09:22:14.619Z"
   },
   {
    "duration": 1500,
    "start_time": "2022-04-13T09:22:28.335Z"
   },
   {
    "duration": 2702,
    "start_time": "2022-04-13T09:22:41.280Z"
   },
   {
    "duration": 1666,
    "start_time": "2022-04-13T09:22:45.463Z"
   },
   {
    "duration": 1888,
    "start_time": "2022-04-13T09:22:55.583Z"
   },
   {
    "duration": 1812,
    "start_time": "2022-04-13T09:23:01.160Z"
   },
   {
    "duration": 1270,
    "start_time": "2022-04-13T09:23:22.618Z"
   },
   {
    "duration": 415,
    "start_time": "2022-04-13T09:23:23.891Z"
   },
   {
    "duration": 14,
    "start_time": "2022-04-13T09:23:24.308Z"
   },
   {
    "duration": 30,
    "start_time": "2022-04-13T09:23:24.323Z"
   },
   {
    "duration": 9,
    "start_time": "2022-04-13T09:23:24.356Z"
   },
   {
    "duration": 32,
    "start_time": "2022-04-13T09:23:24.366Z"
   },
   {
    "duration": 24,
    "start_time": "2022-04-13T09:23:24.400Z"
   },
   {
    "duration": 30,
    "start_time": "2022-04-13T09:23:24.425Z"
   },
   {
    "duration": 20,
    "start_time": "2022-04-13T09:23:24.457Z"
   },
   {
    "duration": 16,
    "start_time": "2022-04-13T09:23:24.479Z"
   },
   {
    "duration": 16,
    "start_time": "2022-04-13T09:23:24.497Z"
   },
   {
    "duration": 14,
    "start_time": "2022-04-13T09:23:24.519Z"
   },
   {
    "duration": 27,
    "start_time": "2022-04-13T09:23:24.535Z"
   },
   {
    "duration": 33,
    "start_time": "2022-04-13T09:23:24.566Z"
   },
   {
    "duration": 41,
    "start_time": "2022-04-13T09:23:24.601Z"
   },
   {
    "duration": 22,
    "start_time": "2022-04-13T09:23:24.643Z"
   },
   {
    "duration": 4,
    "start_time": "2022-04-13T09:23:24.667Z"
   },
   {
    "duration": 79,
    "start_time": "2022-04-13T09:23:24.673Z"
   },
   {
    "duration": 121,
    "start_time": "2022-04-13T09:23:24.754Z"
   },
   {
    "duration": 64,
    "start_time": "2022-04-13T09:23:24.876Z"
   },
   {
    "duration": 8,
    "start_time": "2022-04-13T09:23:24.942Z"
   },
   {
    "duration": 22,
    "start_time": "2022-04-13T09:23:24.951Z"
   },
   {
    "duration": 96,
    "start_time": "2022-04-13T09:23:24.975Z"
   },
   {
    "duration": 15,
    "start_time": "2022-04-13T09:23:25.073Z"
   },
   {
    "duration": 54,
    "start_time": "2022-04-13T09:23:25.090Z"
   },
   {
    "duration": 38,
    "start_time": "2022-04-13T09:23:25.146Z"
   },
   {
    "duration": 37,
    "start_time": "2022-04-13T09:23:25.186Z"
   },
   {
    "duration": 5,
    "start_time": "2022-04-13T09:23:25.226Z"
   },
   {
    "duration": 10,
    "start_time": "2022-04-13T09:23:25.233Z"
   },
   {
    "duration": 16,
    "start_time": "2022-04-13T09:23:25.245Z"
   },
   {
    "duration": 11,
    "start_time": "2022-04-13T09:23:25.262Z"
   },
   {
    "duration": 16,
    "start_time": "2022-04-13T09:23:25.274Z"
   },
   {
    "duration": 30,
    "start_time": "2022-04-13T09:23:25.291Z"
   },
   {
    "duration": 18,
    "start_time": "2022-04-13T09:23:25.323Z"
   },
   {
    "duration": 16,
    "start_time": "2022-04-13T09:23:25.343Z"
   },
   {
    "duration": 23,
    "start_time": "2022-04-13T09:23:25.361Z"
   },
   {
    "duration": 17,
    "start_time": "2022-04-13T09:23:25.385Z"
   },
   {
    "duration": 35,
    "start_time": "2022-04-13T09:23:25.403Z"
   },
   {
    "duration": 45,
    "start_time": "2022-04-13T09:23:25.440Z"
   },
   {
    "duration": 2056,
    "start_time": "2022-04-13T09:23:25.486Z"
   },
   {
    "duration": 7,
    "start_time": "2022-04-13T09:23:27.547Z"
   },
   {
    "duration": 70,
    "start_time": "2022-04-13T09:23:27.556Z"
   },
   {
    "duration": 1933,
    "start_time": "2022-04-13T09:23:27.629Z"
   },
   {
    "duration": 802,
    "start_time": "2022-04-13T09:23:29.564Z"
   },
   {
    "duration": 749,
    "start_time": "2022-04-13T09:23:30.369Z"
   },
   {
    "duration": 873,
    "start_time": "2022-04-13T09:28:40.113Z"
   },
   {
    "duration": 717,
    "start_time": "2022-04-13T09:28:46.462Z"
   },
   {
    "duration": 1009,
    "start_time": "2022-04-13T11:53:00.172Z"
   },
   {
    "duration": 814,
    "start_time": "2022-04-13T11:53:23.366Z"
   },
   {
    "duration": 1668,
    "start_time": "2022-04-13T11:54:32.899Z"
   },
   {
    "duration": 1700,
    "start_time": "2022-04-13T11:54:51.309Z"
   },
   {
    "duration": 141,
    "start_time": "2022-04-13T11:56:41.038Z"
   },
   {
    "duration": 45,
    "start_time": "2022-04-13T11:57:00.573Z"
   },
   {
    "duration": 138,
    "start_time": "2022-04-13T11:58:15.947Z"
   },
   {
    "duration": 50,
    "start_time": "2022-04-13T11:58:26.291Z"
   },
   {
    "duration": 2195,
    "start_time": "2022-04-13T11:58:51.125Z"
   },
   {
    "duration": 45,
    "start_time": "2022-04-13T12:02:35.901Z"
   },
   {
    "duration": 1777,
    "start_time": "2022-04-13T12:02:55.320Z"
   },
   {
    "duration": 123,
    "start_time": "2022-04-13T12:03:19.209Z"
   },
   {
    "duration": 50,
    "start_time": "2022-04-13T12:03:27.262Z"
   },
   {
    "duration": 2307,
    "start_time": "2022-04-13T12:03:43.942Z"
   },
   {
    "duration": 1241,
    "start_time": "2022-04-13T12:04:33.065Z"
   },
   {
    "duration": 422,
    "start_time": "2022-04-13T12:04:34.308Z"
   },
   {
    "duration": 17,
    "start_time": "2022-04-13T12:04:34.732Z"
   },
   {
    "duration": 28,
    "start_time": "2022-04-13T12:04:34.752Z"
   },
   {
    "duration": 10,
    "start_time": "2022-04-13T12:04:34.783Z"
   },
   {
    "duration": 47,
    "start_time": "2022-04-13T12:04:34.795Z"
   },
   {
    "duration": 9,
    "start_time": "2022-04-13T12:04:34.844Z"
   },
   {
    "duration": 27,
    "start_time": "2022-04-13T12:04:34.855Z"
   },
   {
    "duration": 26,
    "start_time": "2022-04-13T12:04:34.884Z"
   },
   {
    "duration": 13,
    "start_time": "2022-04-13T12:04:34.917Z"
   },
   {
    "duration": 26,
    "start_time": "2022-04-13T12:04:34.932Z"
   },
   {
    "duration": 18,
    "start_time": "2022-04-13T12:04:34.959Z"
   },
   {
    "duration": 20,
    "start_time": "2022-04-13T12:04:34.980Z"
   },
   {
    "duration": 35,
    "start_time": "2022-04-13T12:04:35.002Z"
   },
   {
    "duration": 37,
    "start_time": "2022-04-13T12:04:35.039Z"
   },
   {
    "duration": 40,
    "start_time": "2022-04-13T12:04:35.078Z"
   },
   {
    "duration": 5,
    "start_time": "2022-04-13T12:04:35.120Z"
   },
   {
    "duration": 73,
    "start_time": "2022-04-13T12:04:35.126Z"
   },
   {
    "duration": 118,
    "start_time": "2022-04-13T12:04:35.201Z"
   },
   {
    "duration": 56,
    "start_time": "2022-04-13T12:04:35.321Z"
   },
   {
    "duration": 8,
    "start_time": "2022-04-13T12:04:35.379Z"
   },
   {
    "duration": 35,
    "start_time": "2022-04-13T12:04:35.389Z"
   },
   {
    "duration": 83,
    "start_time": "2022-04-13T12:04:35.427Z"
   },
   {
    "duration": 18,
    "start_time": "2022-04-13T12:04:35.518Z"
   },
   {
    "duration": 57,
    "start_time": "2022-04-13T12:04:35.538Z"
   },
   {
    "duration": 40,
    "start_time": "2022-04-13T12:04:35.596Z"
   },
   {
    "duration": 18,
    "start_time": "2022-04-13T12:04:35.638Z"
   },
   {
    "duration": 5,
    "start_time": "2022-04-13T12:04:35.660Z"
   },
   {
    "duration": 10,
    "start_time": "2022-04-13T12:04:35.667Z"
   },
   {
    "duration": 23,
    "start_time": "2022-04-13T12:04:35.679Z"
   },
   {
    "duration": 5,
    "start_time": "2022-04-13T12:04:35.718Z"
   },
   {
    "duration": 17,
    "start_time": "2022-04-13T12:04:35.725Z"
   },
   {
    "duration": 16,
    "start_time": "2022-04-13T12:04:35.744Z"
   },
   {
    "duration": 20,
    "start_time": "2022-04-13T12:04:35.761Z"
   },
   {
    "duration": 18,
    "start_time": "2022-04-13T12:04:35.783Z"
   },
   {
    "duration": 29,
    "start_time": "2022-04-13T12:04:35.803Z"
   },
   {
    "duration": 16,
    "start_time": "2022-04-13T12:04:35.834Z"
   },
   {
    "duration": 26,
    "start_time": "2022-04-13T12:04:35.851Z"
   },
   {
    "duration": 72,
    "start_time": "2022-04-13T12:04:35.879Z"
   },
   {
    "duration": 1747,
    "start_time": "2022-04-13T12:04:35.952Z"
   },
   {
    "duration": 17,
    "start_time": "2022-04-13T12:04:37.701Z"
   },
   {
    "duration": 51,
    "start_time": "2022-04-13T12:04:37.720Z"
   },
   {
    "duration": 1932,
    "start_time": "2022-04-13T12:04:37.773Z"
   },
   {
    "duration": 1616,
    "start_time": "2022-04-13T12:04:39.707Z"
   },
   {
    "duration": 14,
    "start_time": "2022-04-13T12:08:37.576Z"
   },
   {
    "duration": 25,
    "start_time": "2022-04-13T12:08:40.535Z"
   },
   {
    "duration": 1249,
    "start_time": "2022-04-13T12:09:16.530Z"
   },
   {
    "duration": 420,
    "start_time": "2022-04-13T12:09:17.782Z"
   },
   {
    "duration": 14,
    "start_time": "2022-04-13T12:09:18.204Z"
   },
   {
    "duration": 28,
    "start_time": "2022-04-13T12:09:18.220Z"
   },
   {
    "duration": 11,
    "start_time": "2022-04-13T12:09:18.250Z"
   },
   {
    "duration": 33,
    "start_time": "2022-04-13T12:09:18.263Z"
   },
   {
    "duration": 21,
    "start_time": "2022-04-13T12:09:18.299Z"
   },
   {
    "duration": 27,
    "start_time": "2022-04-13T12:09:18.322Z"
   },
   {
    "duration": 10,
    "start_time": "2022-04-13T12:09:18.351Z"
   },
   {
    "duration": 27,
    "start_time": "2022-04-13T12:09:18.362Z"
   },
   {
    "duration": 17,
    "start_time": "2022-04-13T12:09:18.391Z"
   },
   {
    "duration": 18,
    "start_time": "2022-04-13T12:09:18.410Z"
   },
   {
    "duration": 12,
    "start_time": "2022-04-13T12:09:18.430Z"
   },
   {
    "duration": 36,
    "start_time": "2022-04-13T12:09:18.446Z"
   },
   {
    "duration": 55,
    "start_time": "2022-04-13T12:09:18.484Z"
   },
   {
    "duration": 22,
    "start_time": "2022-04-13T12:09:18.542Z"
   },
   {
    "duration": 4,
    "start_time": "2022-04-13T12:09:18.566Z"
   },
   {
    "duration": 79,
    "start_time": "2022-04-13T12:09:18.572Z"
   },
   {
    "duration": 127,
    "start_time": "2022-04-13T12:09:18.653Z"
   },
   {
    "duration": 64,
    "start_time": "2022-04-13T12:09:18.782Z"
   },
   {
    "duration": 8,
    "start_time": "2022-04-13T12:09:18.848Z"
   },
   {
    "duration": 17,
    "start_time": "2022-04-13T12:09:18.857Z"
   },
   {
    "duration": 103,
    "start_time": "2022-04-13T12:09:18.875Z"
   },
   {
    "duration": 17,
    "start_time": "2022-04-13T12:09:18.980Z"
   },
   {
    "duration": 58,
    "start_time": "2022-04-13T12:09:18.999Z"
   },
   {
    "duration": 37,
    "start_time": "2022-04-13T12:09:19.059Z"
   },
   {
    "duration": 31,
    "start_time": "2022-04-13T12:09:19.098Z"
   },
   {
    "duration": 5,
    "start_time": "2022-04-13T12:09:19.131Z"
   },
   {
    "duration": 11,
    "start_time": "2022-04-13T12:09:19.137Z"
   },
   {
    "duration": 16,
    "start_time": "2022-04-13T12:09:19.150Z"
   },
   {
    "duration": 20,
    "start_time": "2022-04-13T12:09:19.168Z"
   },
   {
    "duration": 22,
    "start_time": "2022-04-13T12:09:19.189Z"
   },
   {
    "duration": 17,
    "start_time": "2022-04-13T12:09:19.212Z"
   },
   {
    "duration": 16,
    "start_time": "2022-04-13T12:09:19.231Z"
   },
   {
    "duration": 19,
    "start_time": "2022-04-13T12:09:19.249Z"
   },
   {
    "duration": 22,
    "start_time": "2022-04-13T12:09:19.270Z"
   },
   {
    "duration": 26,
    "start_time": "2022-04-13T12:09:19.294Z"
   },
   {
    "duration": 22,
    "start_time": "2022-04-13T12:09:19.322Z"
   },
   {
    "duration": 54,
    "start_time": "2022-04-13T12:09:19.345Z"
   },
   {
    "duration": 1775,
    "start_time": "2022-04-13T12:09:19.401Z"
   },
   {
    "duration": 8,
    "start_time": "2022-04-13T12:09:21.181Z"
   },
   {
    "duration": 63,
    "start_time": "2022-04-13T12:09:21.191Z"
   },
   {
    "duration": 1794,
    "start_time": "2022-04-13T12:09:21.256Z"
   },
   {
    "duration": 1485,
    "start_time": "2022-04-13T12:09:23.052Z"
   },
   {
    "duration": 4,
    "start_time": "2022-04-13T18:49:43.373Z"
   },
   {
    "duration": 59,
    "start_time": "2022-04-13T18:51:11.300Z"
   },
   {
    "duration": 129,
    "start_time": "2022-04-13T18:52:48.955Z"
   },
   {
    "duration": 10,
    "start_time": "2022-04-13T18:53:07.668Z"
   },
   {
    "duration": 28,
    "start_time": "2022-04-13T18:53:15.291Z"
   },
   {
    "duration": 13,
    "start_time": "2022-04-13T18:53:32.991Z"
   },
   {
    "duration": 9,
    "start_time": "2022-04-13T18:53:34.560Z"
   },
   {
    "duration": 15,
    "start_time": "2022-04-13T18:53:41.005Z"
   },
   {
    "duration": 5,
    "start_time": "2022-04-13T18:53:48.136Z"
   },
   {
    "duration": 4,
    "start_time": "2022-04-13T18:54:16.902Z"
   },
   {
    "duration": 9,
    "start_time": "2022-04-13T18:56:57.916Z"
   },
   {
    "duration": 5,
    "start_time": "2022-04-13T18:57:07.635Z"
   },
   {
    "duration": 11,
    "start_time": "2022-04-13T18:57:17.160Z"
   },
   {
    "duration": 5,
    "start_time": "2022-04-13T18:57:18.939Z"
   },
   {
    "duration": 8,
    "start_time": "2022-04-13T18:57:28.285Z"
   },
   {
    "duration": 5,
    "start_time": "2022-04-13T18:57:39.661Z"
   },
   {
    "duration": 12,
    "start_time": "2022-04-13T18:57:45.090Z"
   },
   {
    "duration": 8,
    "start_time": "2022-04-13T18:57:47.484Z"
   },
   {
    "duration": 6,
    "start_time": "2022-04-13T18:57:54.165Z"
   },
   {
    "duration": 11,
    "start_time": "2022-04-13T18:58:28.796Z"
   },
   {
    "duration": 5,
    "start_time": "2022-04-13T18:58:30.114Z"
   },
   {
    "duration": 10,
    "start_time": "2022-04-13T18:58:35.515Z"
   },
   {
    "duration": 3,
    "start_time": "2022-04-13T18:58:35.938Z"
   },
   {
    "duration": 12,
    "start_time": "2022-04-13T19:04:37.143Z"
   },
   {
    "duration": 4,
    "start_time": "2022-04-13T19:05:26.457Z"
   },
   {
    "duration": 5,
    "start_time": "2022-04-13T19:09:15.169Z"
   },
   {
    "duration": 14,
    "start_time": "2022-04-13T19:09:37.995Z"
   },
   {
    "duration": 13,
    "start_time": "2022-04-13T19:09:46.357Z"
   },
   {
    "duration": 166,
    "start_time": "2022-04-13T19:13:13.621Z"
   },
   {
    "duration": 15,
    "start_time": "2022-04-13T19:14:27.282Z"
   },
   {
    "duration": 13,
    "start_time": "2022-04-13T19:14:38.785Z"
   },
   {
    "duration": 155,
    "start_time": "2022-04-13T19:33:22.527Z"
   },
   {
    "duration": 12,
    "start_time": "2022-04-13T19:36:27.118Z"
   },
   {
    "duration": 16,
    "start_time": "2022-04-13T19:41:24.209Z"
   },
   {
    "duration": 14,
    "start_time": "2022-04-13T19:41:26.495Z"
   },
   {
    "duration": 13,
    "start_time": "2022-04-13T20:28:41.655Z"
   },
   {
    "duration": 1599,
    "start_time": "2022-04-23T18:26:27.125Z"
   },
   {
    "duration": 525,
    "start_time": "2022-04-23T18:26:28.726Z"
   },
   {
    "duration": 17,
    "start_time": "2022-04-23T18:26:29.253Z"
   },
   {
    "duration": 30,
    "start_time": "2022-04-23T18:26:29.273Z"
   },
   {
    "duration": 12,
    "start_time": "2022-04-23T18:26:29.305Z"
   },
   {
    "duration": 34,
    "start_time": "2022-04-23T18:26:29.319Z"
   },
   {
    "duration": 41,
    "start_time": "2022-04-23T18:26:29.355Z"
   },
   {
    "duration": 30,
    "start_time": "2022-04-23T18:26:29.398Z"
   },
   {
    "duration": 12,
    "start_time": "2022-04-23T18:26:29.431Z"
   },
   {
    "duration": 55,
    "start_time": "2022-04-23T18:26:29.450Z"
   },
   {
    "duration": 16,
    "start_time": "2022-04-23T18:26:29.508Z"
   },
   {
    "duration": 18,
    "start_time": "2022-04-23T18:26:29.526Z"
   },
   {
    "duration": 47,
    "start_time": "2022-04-23T18:26:29.546Z"
   },
   {
    "duration": 40,
    "start_time": "2022-04-23T18:26:29.596Z"
   },
   {
    "duration": 82,
    "start_time": "2022-04-23T18:26:29.638Z"
   },
   {
    "duration": 28,
    "start_time": "2022-04-23T18:26:29.723Z"
   },
   {
    "duration": 5,
    "start_time": "2022-04-23T18:26:29.754Z"
   },
   {
    "duration": 94,
    "start_time": "2022-04-23T18:26:29.761Z"
   },
   {
    "duration": 146,
    "start_time": "2022-04-23T18:26:29.858Z"
   },
   {
    "duration": 89,
    "start_time": "2022-04-23T18:26:30.006Z"
   },
   {
    "duration": 10,
    "start_time": "2022-04-23T18:26:30.098Z"
   },
   {
    "duration": 15,
    "start_time": "2022-04-23T18:26:30.110Z"
   },
   {
    "duration": 149,
    "start_time": "2022-04-23T18:26:30.128Z"
   },
   {
    "duration": 27,
    "start_time": "2022-04-23T18:26:30.279Z"
   },
   {
    "duration": 57,
    "start_time": "2022-04-23T18:26:30.309Z"
   },
   {
    "duration": 70,
    "start_time": "2022-04-23T18:26:30.368Z"
   },
   {
    "duration": 25,
    "start_time": "2022-04-23T18:26:30.440Z"
   },
   {
    "duration": 6,
    "start_time": "2022-04-23T18:26:30.496Z"
   },
   {
    "duration": 18,
    "start_time": "2022-04-23T18:26:30.506Z"
   },
   {
    "duration": 31,
    "start_time": "2022-04-23T18:26:30.526Z"
   },
   {
    "duration": 33,
    "start_time": "2022-04-23T18:26:30.560Z"
   },
   {
    "duration": 42,
    "start_time": "2022-04-23T18:26:30.595Z"
   },
   {
    "duration": 17,
    "start_time": "2022-04-23T18:26:30.641Z"
   },
   {
    "duration": 29,
    "start_time": "2022-04-23T18:26:30.661Z"
   },
   {
    "duration": 24,
    "start_time": "2022-04-23T18:26:30.692Z"
   },
   {
    "duration": 35,
    "start_time": "2022-04-23T18:26:30.718Z"
   },
   {
    "duration": 52,
    "start_time": "2022-04-23T18:26:30.756Z"
   },
   {
    "duration": 36,
    "start_time": "2022-04-23T18:26:30.810Z"
   },
   {
    "duration": 89,
    "start_time": "2022-04-23T18:26:30.848Z"
   },
   {
    "duration": 2796,
    "start_time": "2022-04-23T18:26:30.939Z"
   },
   {
    "duration": 8,
    "start_time": "2022-04-23T18:26:33.737Z"
   },
   {
    "duration": 93,
    "start_time": "2022-04-23T18:26:33.747Z"
   },
   {
    "duration": 2769,
    "start_time": "2022-04-23T18:26:33.842Z"
   },
   {
    "duration": 2453,
    "start_time": "2022-04-23T18:26:36.614Z"
   },
   {
    "duration": 3,
    "start_time": "2022-04-23T18:26:39.070Z"
   },
   {
    "duration": 25,
    "start_time": "2022-04-23T18:26:39.075Z"
   },
   {
    "duration": 17,
    "start_time": "2022-04-23T18:26:39.103Z"
   },
   {
    "duration": 20,
    "start_time": "2022-04-23T18:31:20.373Z"
   },
   {
    "duration": 16,
    "start_time": "2022-04-23T18:32:13.125Z"
   },
   {
    "duration": 6,
    "start_time": "2022-04-23T18:35:36.686Z"
   },
   {
    "duration": 140,
    "start_time": "2022-04-23T18:36:39.218Z"
   },
   {
    "duration": 13,
    "start_time": "2022-04-23T18:36:49.527Z"
   },
   {
    "duration": 1477,
    "start_time": "2022-04-25T06:55:50.371Z"
   },
   {
    "duration": 428,
    "start_time": "2022-04-25T06:55:51.850Z"
   },
   {
    "duration": 14,
    "start_time": "2022-04-25T06:55:52.280Z"
   },
   {
    "duration": 26,
    "start_time": "2022-04-25T06:55:52.296Z"
   },
   {
    "duration": 7,
    "start_time": "2022-04-25T06:55:52.325Z"
   },
   {
    "duration": 24,
    "start_time": "2022-04-25T06:55:52.334Z"
   },
   {
    "duration": 7,
    "start_time": "2022-04-25T06:55:52.360Z"
   },
   {
    "duration": 19,
    "start_time": "2022-04-25T06:55:52.368Z"
   },
   {
    "duration": 8,
    "start_time": "2022-04-25T06:55:52.423Z"
   },
   {
    "duration": 14,
    "start_time": "2022-04-25T06:55:52.433Z"
   },
   {
    "duration": 13,
    "start_time": "2022-04-25T06:55:52.449Z"
   },
   {
    "duration": 16,
    "start_time": "2022-04-25T06:55:52.464Z"
   },
   {
    "duration": 45,
    "start_time": "2022-04-25T06:55:52.482Z"
   },
   {
    "duration": 44,
    "start_time": "2022-04-25T06:55:52.530Z"
   },
   {
    "duration": 77,
    "start_time": "2022-04-25T06:55:52.576Z"
   },
   {
    "duration": 32,
    "start_time": "2022-04-25T06:55:52.656Z"
   },
   {
    "duration": 6,
    "start_time": "2022-04-25T06:55:52.689Z"
   },
   {
    "duration": 68,
    "start_time": "2022-04-25T06:55:52.697Z"
   },
   {
    "duration": 123,
    "start_time": "2022-04-25T06:55:52.766Z"
   },
   {
    "duration": 62,
    "start_time": "2022-04-25T06:55:52.891Z"
   },
   {
    "duration": 8,
    "start_time": "2022-04-25T06:55:52.955Z"
   },
   {
    "duration": 9,
    "start_time": "2022-04-25T06:55:52.965Z"
   },
   {
    "duration": 4,
    "start_time": "2022-04-25T06:57:35.188Z"
   },
   {
    "duration": 10,
    "start_time": "2022-04-25T06:57:40.812Z"
   },
   {
    "duration": 104,
    "start_time": "2022-04-25T06:59:13.500Z"
   },
   {
    "duration": 10,
    "start_time": "2022-04-25T06:59:15.892Z"
   },
   {
    "duration": 5,
    "start_time": "2022-04-25T06:59:34.820Z"
   },
   {
    "duration": 13,
    "start_time": "2022-04-25T06:59:35.675Z"
   },
   {
    "duration": 4,
    "start_time": "2022-04-25T06:59:43.861Z"
   },
   {
    "duration": 628,
    "start_time": "2022-04-25T06:59:43.868Z"
   },
   {
    "duration": 14,
    "start_time": "2022-04-25T06:59:44.498Z"
   },
   {
    "duration": 22,
    "start_time": "2022-04-25T06:59:44.514Z"
   },
   {
    "duration": 8,
    "start_time": "2022-04-25T06:59:44.538Z"
   },
   {
    "duration": 26,
    "start_time": "2022-04-25T06:59:44.548Z"
   },
   {
    "duration": 7,
    "start_time": "2022-04-25T06:59:44.576Z"
   },
   {
    "duration": 55,
    "start_time": "2022-04-25T06:59:44.585Z"
   },
   {
    "duration": 9,
    "start_time": "2022-04-25T06:59:44.642Z"
   },
   {
    "duration": 14,
    "start_time": "2022-04-25T06:59:44.655Z"
   },
   {
    "duration": 14,
    "start_time": "2022-04-25T06:59:44.671Z"
   },
   {
    "duration": 61,
    "start_time": "2022-04-25T06:59:44.687Z"
   },
   {
    "duration": 7,
    "start_time": "2022-04-25T06:59:44.750Z"
   },
   {
    "duration": 26,
    "start_time": "2022-04-25T06:59:44.760Z"
   },
   {
    "duration": 48,
    "start_time": "2022-04-25T06:59:44.788Z"
   },
   {
    "duration": 20,
    "start_time": "2022-04-25T06:59:44.838Z"
   },
   {
    "duration": 4,
    "start_time": "2022-04-25T06:59:44.859Z"
   },
   {
    "duration": 73,
    "start_time": "2022-04-25T06:59:44.865Z"
   },
   {
    "duration": 124,
    "start_time": "2022-04-25T06:59:44.940Z"
   },
   {
    "duration": 60,
    "start_time": "2022-04-25T06:59:45.066Z"
   },
   {
    "duration": 8,
    "start_time": "2022-04-25T06:59:45.129Z"
   },
   {
    "duration": 11,
    "start_time": "2022-04-25T06:59:45.139Z"
   },
   {
    "duration": 4,
    "start_time": "2022-04-25T06:59:50.197Z"
   },
   {
    "duration": 9,
    "start_time": "2022-04-25T06:59:50.604Z"
   },
   {
    "duration": 13,
    "start_time": "2022-04-25T06:59:54.389Z"
   },
   {
    "duration": 73,
    "start_time": "2022-04-25T07:02:48.500Z"
   },
   {
    "duration": 16,
    "start_time": "2022-04-25T07:02:53.039Z"
   },
   {
    "duration": 4,
    "start_time": "2022-04-25T07:03:43.519Z"
   },
   {
    "duration": 600,
    "start_time": "2022-04-25T07:03:43.526Z"
   },
   {
    "duration": 12,
    "start_time": "2022-04-25T07:03:44.129Z"
   },
   {
    "duration": 24,
    "start_time": "2022-04-25T07:03:44.142Z"
   },
   {
    "duration": 9,
    "start_time": "2022-04-25T07:03:44.168Z"
   },
   {
    "duration": 61,
    "start_time": "2022-04-25T07:03:44.180Z"
   },
   {
    "duration": 8,
    "start_time": "2022-04-25T07:03:44.242Z"
   },
   {
    "duration": 18,
    "start_time": "2022-04-25T07:03:44.252Z"
   },
   {
    "duration": 9,
    "start_time": "2022-04-25T07:03:44.272Z"
   },
   {
    "duration": 50,
    "start_time": "2022-04-25T07:03:44.283Z"
   },
   {
    "duration": 21,
    "start_time": "2022-04-25T07:03:44.336Z"
   },
   {
    "duration": 14,
    "start_time": "2022-04-25T07:03:44.359Z"
   },
   {
    "duration": 10,
    "start_time": "2022-04-25T07:03:44.375Z"
   },
   {
    "duration": 57,
    "start_time": "2022-04-25T07:03:44.388Z"
   },
   {
    "duration": 34,
    "start_time": "2022-04-25T07:03:44.447Z"
   },
   {
    "duration": 45,
    "start_time": "2022-04-25T07:03:44.483Z"
   },
   {
    "duration": 4,
    "start_time": "2022-04-25T07:03:44.530Z"
   },
   {
    "duration": 43,
    "start_time": "2022-04-25T07:03:44.536Z"
   },
   {
    "duration": 125,
    "start_time": "2022-04-25T07:03:44.580Z"
   },
   {
    "duration": 38,
    "start_time": "2022-04-25T07:03:44.723Z"
   },
   {
    "duration": 7,
    "start_time": "2022-04-25T07:03:44.762Z"
   },
   {
    "duration": 8,
    "start_time": "2022-04-25T07:03:44.771Z"
   },
   {
    "duration": 5,
    "start_time": "2022-04-25T07:03:44.781Z"
   },
   {
    "duration": 71,
    "start_time": "2022-04-25T07:03:44.823Z"
   },
   {
    "duration": 36,
    "start_time": "2022-04-25T07:03:44.896Z"
   },
   {
    "duration": 39,
    "start_time": "2022-04-25T07:03:44.933Z"
   },
   {
    "duration": 9,
    "start_time": "2022-04-25T07:03:54.107Z"
   },
   {
    "duration": 34,
    "start_time": "2022-04-25T07:05:38.492Z"
   },
   {
    "duration": 15,
    "start_time": "2022-04-25T07:06:00.094Z"
   },
   {
    "duration": 16,
    "start_time": "2022-04-25T07:06:21.724Z"
   },
   {
    "duration": 7,
    "start_time": "2022-04-25T07:08:05.436Z"
   },
   {
    "duration": 8,
    "start_time": "2022-04-25T07:08:14.019Z"
   },
   {
    "duration": 4,
    "start_time": "2022-04-25T07:08:16.395Z"
   },
   {
    "duration": 13,
    "start_time": "2022-04-25T07:08:43.346Z"
   },
   {
    "duration": 4,
    "start_time": "2022-04-25T07:08:50.475Z"
   },
   {
    "duration": 14,
    "start_time": "2022-04-25T07:08:55.734Z"
   },
   {
    "duration": 4,
    "start_time": "2022-04-25T07:09:05.019Z"
   },
   {
    "duration": 14,
    "start_time": "2022-04-25T07:09:05.459Z"
   },
   {
    "duration": 3,
    "start_time": "2022-04-25T07:09:13.686Z"
   },
   {
    "duration": 574,
    "start_time": "2022-04-25T07:09:13.692Z"
   },
   {
    "duration": 12,
    "start_time": "2022-04-25T07:09:14.268Z"
   },
   {
    "duration": 40,
    "start_time": "2022-04-25T07:09:14.284Z"
   },
   {
    "duration": 11,
    "start_time": "2022-04-25T07:09:14.326Z"
   },
   {
    "duration": 43,
    "start_time": "2022-04-25T07:09:14.339Z"
   },
   {
    "duration": 10,
    "start_time": "2022-04-25T07:09:14.385Z"
   },
   {
    "duration": 23,
    "start_time": "2022-04-25T07:09:14.423Z"
   },
   {
    "duration": 12,
    "start_time": "2022-04-25T07:09:14.449Z"
   },
   {
    "duration": 12,
    "start_time": "2022-04-25T07:09:14.464Z"
   },
   {
    "duration": 44,
    "start_time": "2022-04-25T07:09:14.479Z"
   },
   {
    "duration": 18,
    "start_time": "2022-04-25T07:09:14.525Z"
   },
   {
    "duration": 9,
    "start_time": "2022-04-25T07:09:14.546Z"
   },
   {
    "duration": 69,
    "start_time": "2022-04-25T07:09:14.557Z"
   },
   {
    "duration": 52,
    "start_time": "2022-04-25T07:09:14.628Z"
   },
   {
    "duration": 49,
    "start_time": "2022-04-25T07:09:14.682Z"
   },
   {
    "duration": 5,
    "start_time": "2022-04-25T07:09:14.733Z"
   },
   {
    "duration": 48,
    "start_time": "2022-04-25T07:09:14.741Z"
   },
   {
    "duration": 141,
    "start_time": "2022-04-25T07:09:14.791Z"
   },
   {
    "duration": 47,
    "start_time": "2022-04-25T07:09:14.933Z"
   },
   {
    "duration": 7,
    "start_time": "2022-04-25T07:09:14.982Z"
   },
   {
    "duration": 36,
    "start_time": "2022-04-25T07:09:14.990Z"
   },
   {
    "duration": 9,
    "start_time": "2022-04-25T07:09:15.029Z"
   },
   {
    "duration": 86,
    "start_time": "2022-04-25T07:09:15.040Z"
   },
   {
    "duration": 15,
    "start_time": "2022-04-25T07:09:15.128Z"
   },
   {
    "duration": 54,
    "start_time": "2022-04-25T07:09:15.145Z"
   },
   {
    "duration": 56,
    "start_time": "2022-04-25T07:09:15.201Z"
   },
   {
    "duration": 12,
    "start_time": "2022-04-25T07:09:15.260Z"
   },
   {
    "duration": 4,
    "start_time": "2022-04-25T07:09:20.314Z"
   },
   {
    "duration": 13,
    "start_time": "2022-04-25T07:09:20.851Z"
   },
   {
    "duration": 12,
    "start_time": "2022-04-25T07:09:54.883Z"
   },
   {
    "duration": 4,
    "start_time": "2022-04-25T07:10:16.134Z"
   },
   {
    "duration": 434,
    "start_time": "2022-04-25T07:10:16.140Z"
   },
   {
    "duration": 11,
    "start_time": "2022-04-25T07:10:16.576Z"
   },
   {
    "duration": 36,
    "start_time": "2022-04-25T07:10:16.590Z"
   },
   {
    "duration": 10,
    "start_time": "2022-04-25T07:10:16.628Z"
   },
   {
    "duration": 41,
    "start_time": "2022-04-25T07:10:16.640Z"
   },
   {
    "duration": 8,
    "start_time": "2022-04-25T07:10:16.683Z"
   },
   {
    "duration": 31,
    "start_time": "2022-04-25T07:10:16.724Z"
   },
   {
    "duration": 11,
    "start_time": "2022-04-25T07:10:16.758Z"
   },
   {
    "duration": 14,
    "start_time": "2022-04-25T07:10:16.773Z"
   },
   {
    "duration": 47,
    "start_time": "2022-04-25T07:10:16.789Z"
   },
   {
    "duration": 13,
    "start_time": "2022-04-25T07:10:16.838Z"
   },
   {
    "duration": 10,
    "start_time": "2022-04-25T07:10:16.853Z"
   },
   {
    "duration": 65,
    "start_time": "2022-04-25T07:10:16.864Z"
   },
   {
    "duration": 33,
    "start_time": "2022-04-25T07:10:16.930Z"
   },
   {
    "duration": 25,
    "start_time": "2022-04-25T07:10:16.965Z"
   },
   {
    "duration": 34,
    "start_time": "2022-04-25T07:10:16.992Z"
   },
   {
    "duration": 63,
    "start_time": "2022-04-25T07:10:17.028Z"
   },
   {
    "duration": 111,
    "start_time": "2022-04-25T07:10:17.093Z"
   },
   {
    "duration": 59,
    "start_time": "2022-04-25T07:10:17.206Z"
   },
   {
    "duration": 8,
    "start_time": "2022-04-25T07:10:17.267Z"
   },
   {
    "duration": 17,
    "start_time": "2022-04-25T07:10:17.277Z"
   },
   {
    "duration": 28,
    "start_time": "2022-04-25T07:10:17.296Z"
   },
   {
    "duration": 78,
    "start_time": "2022-04-25T07:10:17.326Z"
   },
   {
    "duration": 21,
    "start_time": "2022-04-25T07:10:17.406Z"
   },
   {
    "duration": 66,
    "start_time": "2022-04-25T07:10:17.429Z"
   },
   {
    "duration": 43,
    "start_time": "2022-04-25T07:10:17.496Z"
   },
   {
    "duration": 13,
    "start_time": "2022-04-25T07:10:17.543Z"
   },
   {
    "duration": 17,
    "start_time": "2022-04-25T07:10:22.122Z"
   },
   {
    "duration": 13,
    "start_time": "2022-04-25T07:10:28.355Z"
   },
   {
    "duration": 3,
    "start_time": "2022-04-25T07:10:52.823Z"
   },
   {
    "duration": 402,
    "start_time": "2022-04-25T07:10:52.828Z"
   },
   {
    "duration": 8,
    "start_time": "2022-04-25T07:10:53.232Z"
   },
   {
    "duration": 31,
    "start_time": "2022-04-25T07:10:53.243Z"
   },
   {
    "duration": 10,
    "start_time": "2022-04-25T07:10:53.277Z"
   },
   {
    "duration": 47,
    "start_time": "2022-04-25T07:10:53.288Z"
   },
   {
    "duration": 8,
    "start_time": "2022-04-25T07:10:53.337Z"
   },
   {
    "duration": 22,
    "start_time": "2022-04-25T07:10:53.346Z"
   },
   {
    "duration": 8,
    "start_time": "2022-04-25T07:10:53.370Z"
   },
   {
    "duration": 52,
    "start_time": "2022-04-25T07:10:53.380Z"
   },
   {
    "duration": 10,
    "start_time": "2022-04-25T07:10:53.434Z"
   },
   {
    "duration": 11,
    "start_time": "2022-04-25T07:10:53.446Z"
   },
   {
    "duration": 7,
    "start_time": "2022-04-25T07:10:53.459Z"
   },
   {
    "duration": 66,
    "start_time": "2022-04-25T07:10:53.469Z"
   },
   {
    "duration": 31,
    "start_time": "2022-04-25T07:10:53.537Z"
   },
   {
    "duration": 19,
    "start_time": "2022-04-25T07:10:53.570Z"
   },
   {
    "duration": 4,
    "start_time": "2022-04-25T07:10:53.591Z"
   },
   {
    "duration": 76,
    "start_time": "2022-04-25T07:10:53.596Z"
   },
   {
    "duration": 112,
    "start_time": "2022-04-25T07:10:53.673Z"
   },
   {
    "duration": 52,
    "start_time": "2022-04-25T07:10:53.786Z"
   },
   {
    "duration": 8,
    "start_time": "2022-04-25T07:10:53.840Z"
   },
   {
    "duration": 9,
    "start_time": "2022-04-25T07:10:53.850Z"
   },
   {
    "duration": 7,
    "start_time": "2022-04-25T07:10:53.860Z"
   },
   {
    "duration": 121,
    "start_time": "2022-04-25T07:10:53.869Z"
   },
   {
    "duration": 18,
    "start_time": "2022-04-25T07:10:53.992Z"
   },
   {
    "duration": 56,
    "start_time": "2022-04-25T07:10:54.023Z"
   },
   {
    "duration": 49,
    "start_time": "2022-04-25T07:10:58.442Z"
   },
   {
    "duration": 14,
    "start_time": "2022-04-25T07:11:10.436Z"
   },
   {
    "duration": 43,
    "start_time": "2022-04-25T07:11:22.082Z"
   },
   {
    "duration": 19,
    "start_time": "2022-04-25T07:11:23.339Z"
   },
   {
    "duration": 17,
    "start_time": "2022-04-25T07:14:31.771Z"
   },
   {
    "duration": 5,
    "start_time": "2022-04-25T07:14:33.130Z"
   },
   {
    "duration": 214,
    "start_time": "2022-04-25T07:15:05.179Z"
   },
   {
    "duration": 4,
    "start_time": "2022-04-25T07:15:10.099Z"
   },
   {
    "duration": 14,
    "start_time": "2022-04-25T07:15:11.019Z"
   },
   {
    "duration": 7,
    "start_time": "2022-04-25T07:16:33.035Z"
   },
   {
    "duration": 12,
    "start_time": "2022-04-25T07:16:33.618Z"
   },
   {
    "duration": 17,
    "start_time": "2022-04-25T07:16:49.338Z"
   },
   {
    "duration": 18,
    "start_time": "2022-04-25T07:17:21.356Z"
   },
   {
    "duration": 11,
    "start_time": "2022-04-25T07:17:27.155Z"
   },
   {
    "duration": 15,
    "start_time": "2022-04-25T07:17:37.114Z"
   },
   {
    "duration": 3,
    "start_time": "2022-04-25T07:18:24.470Z"
   },
   {
    "duration": 394,
    "start_time": "2022-04-25T07:18:24.476Z"
   },
   {
    "duration": 9,
    "start_time": "2022-04-25T07:18:24.872Z"
   },
   {
    "duration": 23,
    "start_time": "2022-04-25T07:18:24.883Z"
   },
   {
    "duration": 8,
    "start_time": "2022-04-25T07:18:24.909Z"
   },
   {
    "duration": 27,
    "start_time": "2022-04-25T07:18:24.918Z"
   },
   {
    "duration": 8,
    "start_time": "2022-04-25T07:18:24.946Z"
   },
   {
    "duration": 18,
    "start_time": "2022-04-25T07:18:24.955Z"
   },
   {
    "duration": 7,
    "start_time": "2022-04-25T07:18:24.976Z"
   },
   {
    "duration": 44,
    "start_time": "2022-04-25T07:18:24.985Z"
   },
   {
    "duration": 12,
    "start_time": "2022-04-25T07:18:25.031Z"
   },
   {
    "duration": 16,
    "start_time": "2022-04-25T07:18:25.045Z"
   },
   {
    "duration": 9,
    "start_time": "2022-04-25T07:18:25.063Z"
   },
   {
    "duration": 63,
    "start_time": "2022-04-25T07:18:25.077Z"
   },
   {
    "duration": 31,
    "start_time": "2022-04-25T07:18:25.142Z"
   },
   {
    "duration": 19,
    "start_time": "2022-04-25T07:18:25.175Z"
   },
   {
    "duration": 28,
    "start_time": "2022-04-25T07:18:25.195Z"
   },
   {
    "duration": 38,
    "start_time": "2022-04-25T07:18:25.225Z"
   },
   {
    "duration": 121,
    "start_time": "2022-04-25T07:18:25.265Z"
   },
   {
    "duration": 56,
    "start_time": "2022-04-25T07:18:25.387Z"
   },
   {
    "duration": 9,
    "start_time": "2022-04-25T07:18:25.446Z"
   },
   {
    "duration": 10,
    "start_time": "2022-04-25T07:18:25.457Z"
   },
   {
    "duration": 5,
    "start_time": "2022-04-25T07:18:25.468Z"
   },
   {
    "duration": 130,
    "start_time": "2022-04-25T07:18:25.475Z"
   },
   {
    "duration": 24,
    "start_time": "2022-04-25T07:18:25.607Z"
   },
   {
    "duration": 40,
    "start_time": "2022-04-25T07:18:25.633Z"
   },
   {
    "duration": 60,
    "start_time": "2022-04-25T07:18:25.675Z"
   },
   {
    "duration": 15,
    "start_time": "2022-04-25T07:18:25.737Z"
   },
   {
    "duration": 5,
    "start_time": "2022-04-25T07:18:25.754Z"
   },
   {
    "duration": 5,
    "start_time": "2022-04-25T07:18:25.761Z"
   },
   {
    "duration": 12,
    "start_time": "2022-04-25T07:18:25.768Z"
   },
   {
    "duration": 6,
    "start_time": "2022-04-25T07:18:31.122Z"
   },
   {
    "duration": 12,
    "start_time": "2022-04-25T07:18:32.139Z"
   },
   {
    "duration": 8,
    "start_time": "2022-04-25T07:18:51.379Z"
   },
   {
    "duration": 10,
    "start_time": "2022-04-25T07:18:53.298Z"
   },
   {
    "duration": 14,
    "start_time": "2022-04-25T07:18:55.803Z"
   },
   {
    "duration": 18,
    "start_time": "2022-04-25T07:18:58.873Z"
   },
   {
    "duration": 6,
    "start_time": "2022-04-25T07:20:47.482Z"
   },
   {
    "duration": 3580,
    "start_time": "2022-04-25T07:21:37.122Z"
   },
   {
    "duration": 14,
    "start_time": "2022-04-25T07:21:50.451Z"
   },
   {
    "duration": 20,
    "start_time": "2022-04-25T07:21:52.682Z"
   },
   {
    "duration": 15,
    "start_time": "2022-04-25T07:22:12.635Z"
   },
   {
    "duration": 206,
    "start_time": "2022-04-25T07:23:18.481Z"
   },
   {
    "duration": 16,
    "start_time": "2022-04-25T07:23:29.891Z"
   },
   {
    "duration": 10,
    "start_time": "2022-04-25T07:23:31.866Z"
   },
   {
    "duration": 22,
    "start_time": "2022-04-25T07:23:34.874Z"
   },
   {
    "duration": 14,
    "start_time": "2022-04-25T07:23:52.297Z"
   },
   {
    "duration": 12,
    "start_time": "2022-04-25T07:23:54.978Z"
   },
   {
    "duration": 21,
    "start_time": "2022-04-25T07:24:37.258Z"
   },
   {
    "duration": 1499,
    "start_time": "2022-04-25T07:31:50.717Z"
   },
   {
    "duration": 549,
    "start_time": "2022-04-25T07:31:52.219Z"
   },
   {
    "duration": 13,
    "start_time": "2022-04-25T07:31:52.773Z"
   },
   {
    "duration": 22,
    "start_time": "2022-04-25T07:31:52.787Z"
   },
   {
    "duration": 12,
    "start_time": "2022-04-25T07:31:52.811Z"
   },
   {
    "duration": 41,
    "start_time": "2022-04-25T07:31:52.825Z"
   },
   {
    "duration": 34,
    "start_time": "2022-04-25T07:31:52.869Z"
   },
   {
    "duration": 50,
    "start_time": "2022-04-25T07:31:52.904Z"
   },
   {
    "duration": 14,
    "start_time": "2022-04-25T07:31:52.959Z"
   },
   {
    "duration": 20,
    "start_time": "2022-04-25T07:31:52.975Z"
   },
   {
    "duration": 36,
    "start_time": "2022-04-25T07:31:52.997Z"
   },
   {
    "duration": 13,
    "start_time": "2022-04-25T07:31:53.035Z"
   },
   {
    "duration": 16,
    "start_time": "2022-04-25T07:31:53.050Z"
   },
   {
    "duration": 55,
    "start_time": "2022-04-25T07:31:53.068Z"
   },
   {
    "duration": 37,
    "start_time": "2022-04-25T07:31:53.125Z"
   },
   {
    "duration": 24,
    "start_time": "2022-04-25T07:31:53.164Z"
   },
   {
    "duration": 4,
    "start_time": "2022-04-25T07:31:53.190Z"
   },
   {
    "duration": 88,
    "start_time": "2022-04-25T07:31:53.195Z"
   },
   {
    "duration": 170,
    "start_time": "2022-04-25T07:31:53.285Z"
   },
   {
    "duration": 78,
    "start_time": "2022-04-25T07:31:53.457Z"
   },
   {
    "duration": 9,
    "start_time": "2022-04-25T07:31:53.538Z"
   },
   {
    "duration": 11,
    "start_time": "2022-04-25T07:31:53.549Z"
   },
   {
    "duration": 6,
    "start_time": "2022-04-25T07:31:53.562Z"
   },
   {
    "duration": 135,
    "start_time": "2022-04-25T07:31:53.570Z"
   },
   {
    "duration": 21,
    "start_time": "2022-04-25T07:31:53.708Z"
   },
   {
    "duration": 38,
    "start_time": "2022-04-25T07:31:53.730Z"
   },
   {
    "duration": 50,
    "start_time": "2022-04-25T07:31:53.772Z"
   },
   {
    "duration": 17,
    "start_time": "2022-04-25T07:31:53.824Z"
   },
   {
    "duration": 5,
    "start_time": "2022-04-25T07:31:53.842Z"
   },
   {
    "duration": 8,
    "start_time": "2022-04-25T07:31:53.848Z"
   },
   {
    "duration": 16,
    "start_time": "2022-04-25T07:31:53.858Z"
   },
   {
    "duration": 6,
    "start_time": "2022-04-25T07:31:53.875Z"
   },
   {
    "duration": 43,
    "start_time": "2022-04-25T07:31:53.883Z"
   },
   {
    "duration": 11,
    "start_time": "2022-04-25T07:31:53.928Z"
   },
   {
    "duration": 10,
    "start_time": "2022-04-25T07:31:53.941Z"
   },
   {
    "duration": 16,
    "start_time": "2022-04-25T07:31:53.952Z"
   },
   {
    "duration": 17,
    "start_time": "2022-04-25T07:31:53.970Z"
   },
   {
    "duration": 41,
    "start_time": "2022-04-25T07:31:53.988Z"
   },
   {
    "duration": 21,
    "start_time": "2022-04-25T07:31:54.031Z"
   },
   {
    "duration": 4251,
    "start_time": "2022-04-25T07:31:54.054Z"
   },
   {
    "duration": 0,
    "start_time": "2022-04-25T07:31:58.307Z"
   },
   {
    "duration": 0,
    "start_time": "2022-04-25T07:31:58.308Z"
   },
   {
    "duration": 0,
    "start_time": "2022-04-25T07:31:58.310Z"
   },
   {
    "duration": 0,
    "start_time": "2022-04-25T07:31:58.310Z"
   },
   {
    "duration": 0,
    "start_time": "2022-04-25T07:31:58.311Z"
   },
   {
    "duration": 0,
    "start_time": "2022-04-25T07:31:58.312Z"
   },
   {
    "duration": 0,
    "start_time": "2022-04-25T07:31:58.313Z"
   },
   {
    "duration": 0,
    "start_time": "2022-04-25T07:31:58.314Z"
   },
   {
    "duration": 1515,
    "start_time": "2022-04-25T07:34:02.465Z"
   },
   {
    "duration": 558,
    "start_time": "2022-04-25T07:34:03.983Z"
   },
   {
    "duration": 17,
    "start_time": "2022-04-25T07:34:04.544Z"
   },
   {
    "duration": 36,
    "start_time": "2022-04-25T07:34:04.563Z"
   },
   {
    "duration": 21,
    "start_time": "2022-04-25T07:34:04.603Z"
   },
   {
    "duration": 45,
    "start_time": "2022-04-25T07:34:04.627Z"
   },
   {
    "duration": 9,
    "start_time": "2022-04-25T07:34:04.675Z"
   },
   {
    "duration": 49,
    "start_time": "2022-04-25T07:34:04.686Z"
   },
   {
    "duration": 9,
    "start_time": "2022-04-25T07:34:04.737Z"
   },
   {
    "duration": 18,
    "start_time": "2022-04-25T07:34:04.748Z"
   },
   {
    "duration": 21,
    "start_time": "2022-04-25T07:34:04.768Z"
   },
   {
    "duration": 36,
    "start_time": "2022-04-25T07:34:04.791Z"
   },
   {
    "duration": 10,
    "start_time": "2022-04-25T07:34:04.829Z"
   },
   {
    "duration": 46,
    "start_time": "2022-04-25T07:34:04.843Z"
   },
   {
    "duration": 63,
    "start_time": "2022-04-25T07:34:04.892Z"
   },
   {
    "duration": 30,
    "start_time": "2022-04-25T07:34:04.957Z"
   },
   {
    "duration": 5,
    "start_time": "2022-04-25T07:34:04.989Z"
   },
   {
    "duration": 96,
    "start_time": "2022-04-25T07:34:04.996Z"
   },
   {
    "duration": 166,
    "start_time": "2022-04-25T07:34:05.094Z"
   },
   {
    "duration": 72,
    "start_time": "2022-04-25T07:34:05.262Z"
   },
   {
    "duration": 7,
    "start_time": "2022-04-25T07:34:05.336Z"
   },
   {
    "duration": 10,
    "start_time": "2022-04-25T07:34:05.345Z"
   },
   {
    "duration": 7,
    "start_time": "2022-04-25T07:34:05.357Z"
   },
   {
    "duration": 104,
    "start_time": "2022-04-25T07:34:05.366Z"
   },
   {
    "duration": 15,
    "start_time": "2022-04-25T07:34:05.472Z"
   },
   {
    "duration": 71,
    "start_time": "2022-04-25T07:34:05.489Z"
   },
   {
    "duration": 62,
    "start_time": "2022-04-25T07:34:05.563Z"
   },
   {
    "duration": 23,
    "start_time": "2022-04-25T07:34:05.627Z"
   },
   {
    "duration": 11,
    "start_time": "2022-04-25T07:34:05.653Z"
   },
   {
    "duration": 8,
    "start_time": "2022-04-25T07:34:05.666Z"
   },
   {
    "duration": 26,
    "start_time": "2022-04-25T07:34:05.676Z"
   },
   {
    "duration": 25,
    "start_time": "2022-04-25T07:34:05.704Z"
   },
   {
    "duration": 25,
    "start_time": "2022-04-25T07:34:05.732Z"
   },
   {
    "duration": 20,
    "start_time": "2022-04-25T07:34:05.760Z"
   },
   {
    "duration": 28,
    "start_time": "2022-04-25T07:34:05.782Z"
   },
   {
    "duration": 23,
    "start_time": "2022-04-25T07:34:05.812Z"
   },
   {
    "duration": 27,
    "start_time": "2022-04-25T07:34:05.838Z"
   },
   {
    "duration": 16,
    "start_time": "2022-04-25T07:34:05.868Z"
   },
   {
    "duration": 52,
    "start_time": "2022-04-25T07:34:05.886Z"
   },
   {
    "duration": 59,
    "start_time": "2022-04-25T07:34:05.939Z"
   },
   {
    "duration": 2501,
    "start_time": "2022-04-25T07:34:06.026Z"
   },
   {
    "duration": 9,
    "start_time": "2022-04-25T07:34:08.529Z"
   },
   {
    "duration": 105,
    "start_time": "2022-04-25T07:34:08.540Z"
   },
   {
    "duration": 1779,
    "start_time": "2022-04-25T07:34:08.646Z"
   },
   {
    "duration": 1902,
    "start_time": "2022-04-25T07:34:10.427Z"
   },
   {
    "duration": 3,
    "start_time": "2022-04-25T07:34:12.331Z"
   },
   {
    "duration": 29,
    "start_time": "2022-04-25T07:34:12.336Z"
   },
   {
    "duration": 22,
    "start_time": "2022-04-25T07:34:12.367Z"
   },
   {
    "duration": 1608,
    "start_time": "2022-04-25T07:35:40.603Z"
   },
   {
    "duration": 563,
    "start_time": "2022-04-25T07:35:42.213Z"
   },
   {
    "duration": 14,
    "start_time": "2022-04-25T07:35:42.778Z"
   },
   {
    "duration": 20,
    "start_time": "2022-04-25T07:35:42.794Z"
   },
   {
    "duration": 11,
    "start_time": "2022-04-25T07:35:42.816Z"
   },
   {
    "duration": 28,
    "start_time": "2022-04-25T07:35:42.829Z"
   },
   {
    "duration": 7,
    "start_time": "2022-04-25T07:35:42.859Z"
   },
   {
    "duration": 55,
    "start_time": "2022-04-25T07:35:42.868Z"
   },
   {
    "duration": 12,
    "start_time": "2022-04-25T07:35:42.926Z"
   },
   {
    "duration": 11,
    "start_time": "2022-04-25T07:35:42.941Z"
   },
   {
    "duration": 13,
    "start_time": "2022-04-25T07:35:42.954Z"
   },
   {
    "duration": 13,
    "start_time": "2022-04-25T07:35:42.969Z"
   },
   {
    "duration": 46,
    "start_time": "2022-04-25T07:35:42.984Z"
   },
   {
    "duration": 34,
    "start_time": "2022-04-25T07:35:43.032Z"
   },
   {
    "duration": 62,
    "start_time": "2022-04-25T07:35:43.068Z"
   },
   {
    "duration": 20,
    "start_time": "2022-04-25T07:35:43.132Z"
   },
   {
    "duration": 4,
    "start_time": "2022-04-25T07:35:43.154Z"
   },
   {
    "duration": 77,
    "start_time": "2022-04-25T07:35:43.160Z"
   },
   {
    "duration": 122,
    "start_time": "2022-04-25T07:35:43.239Z"
   },
   {
    "duration": 61,
    "start_time": "2022-04-25T07:35:43.363Z"
   },
   {
    "duration": 9,
    "start_time": "2022-04-25T07:35:43.426Z"
   },
   {
    "duration": 11,
    "start_time": "2022-04-25T07:35:43.437Z"
   },
   {
    "duration": 6,
    "start_time": "2022-04-25T07:35:43.450Z"
   },
   {
    "duration": 109,
    "start_time": "2022-04-25T07:35:43.458Z"
   },
   {
    "duration": 15,
    "start_time": "2022-04-25T07:35:43.569Z"
   },
   {
    "duration": 60,
    "start_time": "2022-04-25T07:35:43.586Z"
   },
   {
    "duration": 35,
    "start_time": "2022-04-25T07:35:43.648Z"
   },
   {
    "duration": 36,
    "start_time": "2022-04-25T07:35:43.687Z"
   },
   {
    "duration": 6,
    "start_time": "2022-04-25T07:35:43.725Z"
   },
   {
    "duration": 5,
    "start_time": "2022-04-25T07:35:43.733Z"
   },
   {
    "duration": 13,
    "start_time": "2022-04-25T07:35:43.740Z"
   },
   {
    "duration": 6,
    "start_time": "2022-04-25T07:35:43.755Z"
   },
   {
    "duration": 11,
    "start_time": "2022-04-25T07:35:43.763Z"
   },
   {
    "duration": 54,
    "start_time": "2022-04-25T07:35:43.776Z"
   },
   {
    "duration": 13,
    "start_time": "2022-04-25T07:35:43.831Z"
   },
   {
    "duration": 11,
    "start_time": "2022-04-25T07:35:43.845Z"
   },
   {
    "duration": 19,
    "start_time": "2022-04-25T07:35:43.861Z"
   },
   {
    "duration": 51,
    "start_time": "2022-04-25T07:35:43.882Z"
   },
   {
    "duration": 20,
    "start_time": "2022-04-25T07:35:43.935Z"
   },
   {
    "duration": 90,
    "start_time": "2022-04-25T07:35:43.957Z"
   },
   {
    "duration": 2496,
    "start_time": "2022-04-25T07:35:44.050Z"
   },
   {
    "duration": 8,
    "start_time": "2022-04-25T07:35:46.548Z"
   },
   {
    "duration": 75,
    "start_time": "2022-04-25T07:35:46.559Z"
   },
   {
    "duration": 1653,
    "start_time": "2022-04-25T07:35:46.636Z"
   },
   {
    "duration": 1395,
    "start_time": "2022-04-25T07:35:48.290Z"
   },
   {
    "duration": 3,
    "start_time": "2022-04-25T07:35:49.687Z"
   },
   {
    "duration": 13,
    "start_time": "2022-04-25T07:35:49.691Z"
   },
   {
    "duration": 24,
    "start_time": "2022-04-25T07:35:49.706Z"
   },
   {
    "duration": 2526,
    "start_time": "2022-04-25T10:27:40.621Z"
   },
   {
    "duration": 737,
    "start_time": "2022-04-25T10:27:43.151Z"
   },
   {
    "duration": 25,
    "start_time": "2022-04-25T10:27:43.891Z"
   },
   {
    "duration": 64,
    "start_time": "2022-04-25T10:27:43.920Z"
   },
   {
    "duration": 16,
    "start_time": "2022-04-25T10:27:43.987Z"
   },
   {
    "duration": 38,
    "start_time": "2022-04-25T10:27:44.005Z"
   },
   {
    "duration": 10,
    "start_time": "2022-04-25T10:27:44.045Z"
   },
   {
    "duration": 26,
    "start_time": "2022-04-25T10:27:44.081Z"
   },
   {
    "duration": 12,
    "start_time": "2022-04-25T10:27:44.109Z"
   },
   {
    "duration": 14,
    "start_time": "2022-04-25T10:27:44.125Z"
   },
   {
    "duration": 52,
    "start_time": "2022-04-25T10:27:44.142Z"
   },
   {
    "duration": 23,
    "start_time": "2022-04-25T10:27:44.196Z"
   },
   {
    "duration": 11,
    "start_time": "2022-04-25T10:27:44.221Z"
   },
   {
    "duration": 66,
    "start_time": "2022-04-25T10:27:44.235Z"
   },
   {
    "duration": 49,
    "start_time": "2022-04-25T10:27:44.304Z"
   },
   {
    "duration": 45,
    "start_time": "2022-04-25T10:27:44.355Z"
   },
   {
    "duration": 5,
    "start_time": "2022-04-25T10:27:44.402Z"
   },
   {
    "duration": 90,
    "start_time": "2022-04-25T10:27:44.409Z"
   },
   {
    "duration": 147,
    "start_time": "2022-04-25T10:27:44.501Z"
   },
   {
    "duration": 85,
    "start_time": "2022-04-25T10:27:44.651Z"
   },
   {
    "duration": 10,
    "start_time": "2022-04-25T10:27:44.738Z"
   },
   {
    "duration": 33,
    "start_time": "2022-04-25T10:27:44.750Z"
   },
   {
    "duration": 15,
    "start_time": "2022-04-25T10:27:44.786Z"
   },
   {
    "duration": 110,
    "start_time": "2022-04-25T10:27:44.804Z"
   },
   {
    "duration": 24,
    "start_time": "2022-04-25T10:27:44.916Z"
   },
   {
    "duration": 73,
    "start_time": "2022-04-25T10:27:44.942Z"
   },
   {
    "duration": 48,
    "start_time": "2022-04-25T10:27:45.018Z"
   },
   {
    "duration": 25,
    "start_time": "2022-04-25T10:27:45.084Z"
   },
   {
    "duration": 7,
    "start_time": "2022-04-25T10:27:45.111Z"
   },
   {
    "duration": 7,
    "start_time": "2022-04-25T10:27:45.120Z"
   },
   {
    "duration": 20,
    "start_time": "2022-04-25T10:27:45.129Z"
   },
   {
    "duration": 8,
    "start_time": "2022-04-25T10:27:45.182Z"
   },
   {
    "duration": 20,
    "start_time": "2022-04-25T10:27:45.192Z"
   },
   {
    "duration": 13,
    "start_time": "2022-04-25T10:27:45.215Z"
   },
   {
    "duration": 16,
    "start_time": "2022-04-25T10:27:45.230Z"
   },
   {
    "duration": 46,
    "start_time": "2022-04-25T10:27:45.248Z"
   },
   {
    "duration": 28,
    "start_time": "2022-04-25T10:27:45.296Z"
   },
   {
    "duration": 56,
    "start_time": "2022-04-25T10:27:45.326Z"
   },
   {
    "duration": 33,
    "start_time": "2022-04-25T10:27:45.384Z"
   },
   {
    "duration": 91,
    "start_time": "2022-04-25T10:27:45.419Z"
   },
   {
    "duration": 2693,
    "start_time": "2022-04-25T10:27:45.513Z"
   },
   {
    "duration": 9,
    "start_time": "2022-04-25T10:27:48.210Z"
   },
   {
    "duration": 85,
    "start_time": "2022-04-25T10:27:48.221Z"
   },
   {
    "duration": 2738,
    "start_time": "2022-04-25T10:27:48.309Z"
   },
   {
    "duration": 2248,
    "start_time": "2022-04-25T10:27:51.050Z"
   },
   {
    "duration": 3,
    "start_time": "2022-04-25T10:27:53.301Z"
   },
   {
    "duration": 16,
    "start_time": "2022-04-25T10:27:53.306Z"
   },
   {
    "duration": 16,
    "start_time": "2022-04-25T10:27:53.325Z"
   },
   {
    "duration": 13,
    "start_time": "2022-04-25T10:30:28.755Z"
   },
   {
    "duration": 13,
    "start_time": "2022-04-25T10:32:15.979Z"
   }
  ],
  "kernelspec": {
   "display_name": "Python 3 (ipykernel)",
   "language": "python",
   "name": "python3"
  },
  "language_info": {
   "codemirror_mode": {
    "name": "ipython",
    "version": 3
   },
   "file_extension": ".py",
   "mimetype": "text/x-python",
   "name": "python",
   "nbconvert_exporter": "python",
   "pygments_lexer": "ipython3",
   "version": "3.9.13"
  },
  "toc": {
   "base_numbering": 1,
   "nav_menu": {},
   "number_sections": true,
   "sideBar": true,
   "skip_h1_title": true,
   "title_cell": "Table of Contents",
   "title_sidebar": "Contents",
   "toc_cell": false,
   "toc_position": {},
   "toc_section_display": true,
   "toc_window_display": false
  }
 },
 "nbformat": 4,
 "nbformat_minor": 2
}
