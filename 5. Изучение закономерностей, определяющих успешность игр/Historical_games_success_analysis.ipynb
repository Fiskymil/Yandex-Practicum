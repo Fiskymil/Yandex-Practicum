{
 "cells": [
  {
   "cell_type": "markdown",
   "id": "118203fa",
   "metadata": {},
   "source": [
    "# Изучение закономерностей, определяющих успешность игр"
   ]
  },
  {
   "cell_type": "markdown",
   "id": "55d1614e",
   "metadata": {},
   "source": [
    "## Описание проекта"
   ]
  },
  {
   "cell_type": "markdown",
   "id": "14d828c7",
   "metadata": {},
   "source": [
    "Из открытых источников доступны исторические данные о продажах игр, оценки пользователей и экспертов, жанры и платформы (например, Xbox или PlayStation). Нужно выявить определяющие успешность игры закономерности. Это позволит сделать ставку на потенциально популярный продукт и спланировать рекламные кампании.\n",
    "Доступны данные до 2016 года. Представим, что сейчас декабрь 2016 г., и планируется кампанию на 2017-й. Нужно отработать принцип работы с данными. Неважно, прогнозируете ли вы продажи на 2017 год по данным 2016-го или же 2027-й — по данным 2026 года.\n",
    "\n",
    "В наборе данных попадается аббревиатура ESRB (Entertainment Software Rating Board) — это ассоциация, определяющая возрастной рейтинг компьютерных игр. ESRB оценивает игровой контент и присваивает ему подходящую возрастную категорию, например, «Для взрослых», «Для детей младшего возраста» или «Для подростков»."
   ]
  },
  {
   "cell_type": "markdown",
   "id": "d192e69e",
   "metadata": {},
   "source": [
    "## Цель проекта\n",
    "\n",
    "Используя исторические данные о продажах компьютерных игр, оценки пользователей и экспертов, жанры и платформы, выявить закономерности, определяющие успешность игры "
   ]
  },
  {
   "cell_type": "markdown",
   "id": "4e769604",
   "metadata": {},
   "source": [
    "##  Загрузка данных и изучение общей информации"
   ]
  },
  {
   "cell_type": "code",
   "execution_count": 2,
   "id": "f7c6aa4c",
   "metadata": {},
   "outputs": [],
   "source": [
    "import pandas as pd\n",
    "import numpy as np\n",
    "import seaborn as sns\n",
    "import matplotlib.pyplot as plt\n",
    "from scipy import stats as st\n",
    "import os"
   ]
  },
  {
   "cell_type": "code",
   "execution_count": 3,
   "id": "d9426d8c",
   "metadata": {},
   "outputs": [],
   "source": [
    "pth1 = 'games.csv'\n",
    "pth2 = '/datasets/games.csv'\n",
    "\n",
    "if os.path.exists(pth1):\n",
    "    df = pd.read_csv(pth1)\n",
    "elif os.path.exists(pth2):\n",
    "    df = pd.read_csv(pth2)\n",
    "else:\n",
    "    print('Something is wrong')"
   ]
  },
  {
   "cell_type": "code",
   "execution_count": 4,
   "id": "728d3c16",
   "metadata": {
    "scrolled": true
   },
   "outputs": [
    {
     "data": {
      "text/html": [
       "<div>\n",
       "<style scoped>\n",
       "    .dataframe tbody tr th:only-of-type {\n",
       "        vertical-align: middle;\n",
       "    }\n",
       "\n",
       "    .dataframe tbody tr th {\n",
       "        vertical-align: top;\n",
       "    }\n",
       "\n",
       "    .dataframe thead th {\n",
       "        text-align: right;\n",
       "    }\n",
       "</style>\n",
       "<table border=\"1\" class=\"dataframe\">\n",
       "  <thead>\n",
       "    <tr style=\"text-align: right;\">\n",
       "      <th></th>\n",
       "      <th>Name</th>\n",
       "      <th>Platform</th>\n",
       "      <th>Year_of_Release</th>\n",
       "      <th>Genre</th>\n",
       "      <th>NA_sales</th>\n",
       "      <th>EU_sales</th>\n",
       "      <th>JP_sales</th>\n",
       "      <th>Other_sales</th>\n",
       "      <th>Critic_Score</th>\n",
       "      <th>User_Score</th>\n",
       "      <th>Rating</th>\n",
       "    </tr>\n",
       "  </thead>\n",
       "  <tbody>\n",
       "    <tr>\n",
       "      <th>0</th>\n",
       "      <td>Wii Sports</td>\n",
       "      <td>Wii</td>\n",
       "      <td>2006.0</td>\n",
       "      <td>Sports</td>\n",
       "      <td>41.36</td>\n",
       "      <td>28.96</td>\n",
       "      <td>3.77</td>\n",
       "      <td>8.45</td>\n",
       "      <td>76.0</td>\n",
       "      <td>8</td>\n",
       "      <td>E</td>\n",
       "    </tr>\n",
       "    <tr>\n",
       "      <th>1</th>\n",
       "      <td>Super Mario Bros.</td>\n",
       "      <td>NES</td>\n",
       "      <td>1985.0</td>\n",
       "      <td>Platform</td>\n",
       "      <td>29.08</td>\n",
       "      <td>3.58</td>\n",
       "      <td>6.81</td>\n",
       "      <td>0.77</td>\n",
       "      <td>NaN</td>\n",
       "      <td>NaN</td>\n",
       "      <td>NaN</td>\n",
       "    </tr>\n",
       "    <tr>\n",
       "      <th>2</th>\n",
       "      <td>Mario Kart Wii</td>\n",
       "      <td>Wii</td>\n",
       "      <td>2008.0</td>\n",
       "      <td>Racing</td>\n",
       "      <td>15.68</td>\n",
       "      <td>12.76</td>\n",
       "      <td>3.79</td>\n",
       "      <td>3.29</td>\n",
       "      <td>82.0</td>\n",
       "      <td>8.3</td>\n",
       "      <td>E</td>\n",
       "    </tr>\n",
       "    <tr>\n",
       "      <th>3</th>\n",
       "      <td>Wii Sports Resort</td>\n",
       "      <td>Wii</td>\n",
       "      <td>2009.0</td>\n",
       "      <td>Sports</td>\n",
       "      <td>15.61</td>\n",
       "      <td>10.93</td>\n",
       "      <td>3.28</td>\n",
       "      <td>2.95</td>\n",
       "      <td>80.0</td>\n",
       "      <td>8</td>\n",
       "      <td>E</td>\n",
       "    </tr>\n",
       "    <tr>\n",
       "      <th>4</th>\n",
       "      <td>Pokemon Red/Pokemon Blue</td>\n",
       "      <td>GB</td>\n",
       "      <td>1996.0</td>\n",
       "      <td>Role-Playing</td>\n",
       "      <td>11.27</td>\n",
       "      <td>8.89</td>\n",
       "      <td>10.22</td>\n",
       "      <td>1.00</td>\n",
       "      <td>NaN</td>\n",
       "      <td>NaN</td>\n",
       "      <td>NaN</td>\n",
       "    </tr>\n",
       "    <tr>\n",
       "      <th>5</th>\n",
       "      <td>Tetris</td>\n",
       "      <td>GB</td>\n",
       "      <td>1989.0</td>\n",
       "      <td>Puzzle</td>\n",
       "      <td>23.20</td>\n",
       "      <td>2.26</td>\n",
       "      <td>4.22</td>\n",
       "      <td>0.58</td>\n",
       "      <td>NaN</td>\n",
       "      <td>NaN</td>\n",
       "      <td>NaN</td>\n",
       "    </tr>\n",
       "    <tr>\n",
       "      <th>6</th>\n",
       "      <td>New Super Mario Bros.</td>\n",
       "      <td>DS</td>\n",
       "      <td>2006.0</td>\n",
       "      <td>Platform</td>\n",
       "      <td>11.28</td>\n",
       "      <td>9.14</td>\n",
       "      <td>6.50</td>\n",
       "      <td>2.88</td>\n",
       "      <td>89.0</td>\n",
       "      <td>8.5</td>\n",
       "      <td>E</td>\n",
       "    </tr>\n",
       "    <tr>\n",
       "      <th>7</th>\n",
       "      <td>Wii Play</td>\n",
       "      <td>Wii</td>\n",
       "      <td>2006.0</td>\n",
       "      <td>Misc</td>\n",
       "      <td>13.96</td>\n",
       "      <td>9.18</td>\n",
       "      <td>2.93</td>\n",
       "      <td>2.84</td>\n",
       "      <td>58.0</td>\n",
       "      <td>6.6</td>\n",
       "      <td>E</td>\n",
       "    </tr>\n",
       "    <tr>\n",
       "      <th>8</th>\n",
       "      <td>New Super Mario Bros. Wii</td>\n",
       "      <td>Wii</td>\n",
       "      <td>2009.0</td>\n",
       "      <td>Platform</td>\n",
       "      <td>14.44</td>\n",
       "      <td>6.94</td>\n",
       "      <td>4.70</td>\n",
       "      <td>2.24</td>\n",
       "      <td>87.0</td>\n",
       "      <td>8.4</td>\n",
       "      <td>E</td>\n",
       "    </tr>\n",
       "    <tr>\n",
       "      <th>9</th>\n",
       "      <td>Duck Hunt</td>\n",
       "      <td>NES</td>\n",
       "      <td>1984.0</td>\n",
       "      <td>Shooter</td>\n",
       "      <td>26.93</td>\n",
       "      <td>0.63</td>\n",
       "      <td>0.28</td>\n",
       "      <td>0.47</td>\n",
       "      <td>NaN</td>\n",
       "      <td>NaN</td>\n",
       "      <td>NaN</td>\n",
       "    </tr>\n",
       "  </tbody>\n",
       "</table>\n",
       "</div>"
      ],
      "text/plain": [
       "                        Name Platform  Year_of_Release         Genre  \\\n",
       "0                 Wii Sports      Wii           2006.0        Sports   \n",
       "1          Super Mario Bros.      NES           1985.0      Platform   \n",
       "2             Mario Kart Wii      Wii           2008.0        Racing   \n",
       "3          Wii Sports Resort      Wii           2009.0        Sports   \n",
       "4   Pokemon Red/Pokemon Blue       GB           1996.0  Role-Playing   \n",
       "5                     Tetris       GB           1989.0        Puzzle   \n",
       "6      New Super Mario Bros.       DS           2006.0      Platform   \n",
       "7                   Wii Play      Wii           2006.0          Misc   \n",
       "8  New Super Mario Bros. Wii      Wii           2009.0      Platform   \n",
       "9                  Duck Hunt      NES           1984.0       Shooter   \n",
       "\n",
       "   NA_sales  EU_sales  JP_sales  Other_sales  Critic_Score User_Score Rating  \n",
       "0     41.36     28.96      3.77         8.45          76.0          8      E  \n",
       "1     29.08      3.58      6.81         0.77           NaN        NaN    NaN  \n",
       "2     15.68     12.76      3.79         3.29          82.0        8.3      E  \n",
       "3     15.61     10.93      3.28         2.95          80.0          8      E  \n",
       "4     11.27      8.89     10.22         1.00           NaN        NaN    NaN  \n",
       "5     23.20      2.26      4.22         0.58           NaN        NaN    NaN  \n",
       "6     11.28      9.14      6.50         2.88          89.0        8.5      E  \n",
       "7     13.96      9.18      2.93         2.84          58.0        6.6      E  \n",
       "8     14.44      6.94      4.70         2.24          87.0        8.4      E  \n",
       "9     26.93      0.63      0.28         0.47           NaN        NaN    NaN  "
      ]
     },
     "execution_count": 4,
     "metadata": {},
     "output_type": "execute_result"
    }
   ],
   "source": [
    "df.head(10)"
   ]
  },
  {
   "cell_type": "code",
   "execution_count": 5,
   "id": "b850bccb",
   "metadata": {
    "scrolled": true
   },
   "outputs": [
    {
     "name": "stdout",
     "output_type": "stream",
     "text": [
      "<class 'pandas.core.frame.DataFrame'>\n",
      "RangeIndex: 16715 entries, 0 to 16714\n",
      "Data columns (total 11 columns):\n",
      " #   Column           Non-Null Count  Dtype  \n",
      "---  ------           --------------  -----  \n",
      " 0   Name             16713 non-null  object \n",
      " 1   Platform         16715 non-null  object \n",
      " 2   Year_of_Release  16446 non-null  float64\n",
      " 3   Genre            16713 non-null  object \n",
      " 4   NA_sales         16715 non-null  float64\n",
      " 5   EU_sales         16715 non-null  float64\n",
      " 6   JP_sales         16715 non-null  float64\n",
      " 7   Other_sales      16715 non-null  float64\n",
      " 8   Critic_Score     8137 non-null   float64\n",
      " 9   User_Score       10014 non-null  object \n",
      " 10  Rating           9949 non-null   object \n",
      "dtypes: float64(6), object(5)\n",
      "memory usage: 1.4+ MB\n"
     ]
    }
   ],
   "source": [
    "df.info()"
   ]
  },
  {
   "cell_type": "markdown",
   "id": "c6b24aca",
   "metadata": {},
   "source": [
    "Набор данных содержит 16715 записей об исторических продажах игр и включает следующую информацию: \n",
    "- Name — название игры\n",
    "- Platform — платформа\n",
    "- Year_of_Release — год выпуска\n",
    "- Genre — жанр игры\n",
    "- NA_sales — продажи в Северной Америке (миллионы проданных копий)\n",
    "- EU_sales — продажи в Европе (миллионы проданных копий)\n",
    "- JP_sales — продажи в Японии (миллионы проданных копий)\n",
    "- Other_sales — продажи в других странах (миллионы проданных копий)\n",
    "- Critic_Score — оценка критиков (максимум 100)\n",
    "- User_Score — оценка пользователей (максимум 10)\n",
    "- Rating — рейтинг от организации ESRB (англ. Entertainment Software Rating Board). Эта ассоциация определяет рейтинг компьютерных игр и присваивает им подходящую возрастную категорию."
   ]
  },
  {
   "cell_type": "markdown",
   "id": "82a4428b",
   "metadata": {},
   "source": [
    "## Подготовка данных"
   ]
  },
  {
   "cell_type": "code",
   "execution_count": 6,
   "id": "d02e6698",
   "metadata": {
    "scrolled": true
   },
   "outputs": [],
   "source": [
    "# приведем у нижнему регистру названия столбцов\n",
    "df.columns = df.columns.str.lower()"
   ]
  },
  {
   "cell_type": "code",
   "execution_count": 7,
   "id": "7b20cc19",
   "metadata": {},
   "outputs": [
    {
     "data": {
      "text/plain": [
       "Index(['name', 'platform', 'year_of_release', 'genre', 'na_sales', 'eu_sales',\n",
       "       'jp_sales', 'other_sales', 'critic_score', 'user_score', 'rating'],\n",
       "      dtype='object')"
      ]
     },
     "execution_count": 7,
     "metadata": {},
     "output_type": "execute_result"
    }
   ],
   "source": [
    "df.columns "
   ]
  },
  {
   "cell_type": "code",
   "execution_count": 8,
   "id": "9aa74b67",
   "metadata": {},
   "outputs": [
    {
     "data": {
      "text/plain": [
       "array([76., nan, 82., 80., 89., 58., 87., 91., 61., 97., 95., 77., 88.,\n",
       "       83., 94., 93., 85., 86., 98., 96., 90., 84., 73., 74., 78., 92.,\n",
       "       71., 72., 68., 62., 49., 67., 81., 66., 56., 79., 70., 59., 64.,\n",
       "       75., 60., 63., 69., 50., 25., 42., 44., 55., 48., 57., 29., 47.,\n",
       "       65., 54., 20., 53., 37., 38., 33., 52., 30., 32., 43., 45., 51.,\n",
       "       40., 46., 39., 34., 35., 41., 36., 28., 31., 27., 26., 19., 23.,\n",
       "       24., 21., 17., 22., 13.])"
      ]
     },
     "execution_count": 8,
     "metadata": {},
     "output_type": "execute_result"
    }
   ],
   "source": [
    "df['critic_score'].unique()"
   ]
  },
  {
   "cell_type": "code",
   "execution_count": 9,
   "id": "fac5cb60",
   "metadata": {
    "scrolled": true
   },
   "outputs": [
    {
     "data": {
      "text/plain": [
       "array([2006., 1985., 2008., 2009., 1996., 1989., 1984., 2005., 1999.,\n",
       "       2007., 2010., 2013., 2004., 1990., 1988., 2002., 2001., 2011.,\n",
       "       1998., 2015., 2012., 2014., 1992., 1997., 1993., 1994., 1982.,\n",
       "       2016., 2003., 1986., 2000.,   nan, 1995., 1991., 1981., 1987.,\n",
       "       1980., 1983.])"
      ]
     },
     "execution_count": 9,
     "metadata": {},
     "output_type": "execute_result"
    }
   ],
   "source": [
    "df['year_of_release'].unique()"
   ]
  },
  {
   "cell_type": "markdown",
   "id": "b74448ab",
   "metadata": {},
   "source": [
    "Видим только целые числа - приведем к Int64"
   ]
  },
  {
   "cell_type": "code",
   "execution_count": 10,
   "id": "2a5dfdb9",
   "metadata": {},
   "outputs": [],
   "source": [
    "df[['critic_score', \n",
    "    'year_of_release']] = df[['critic_score', \n",
    "                              'year_of_release']].astype('Int64')"
   ]
  },
  {
   "cell_type": "code",
   "execution_count": 11,
   "id": "564e87b2",
   "metadata": {},
   "outputs": [
    {
     "data": {
      "text/plain": [
       "array(['8', nan, '8.3', '8.5', '6.6', '8.4', '8.6', '7.7', '6.3', '7.4',\n",
       "       '8.2', '9', '7.9', '8.1', '8.7', '7.1', '3.4', '5.3', '4.8', '3.2',\n",
       "       '8.9', '6.4', '7.8', '7.5', '2.6', '7.2', '9.2', '7', '7.3', '4.3',\n",
       "       '7.6', '5.7', '5', '9.1', '6.5', 'tbd', '8.8', '6.9', '9.4', '6.8',\n",
       "       '6.1', '6.7', '5.4', '4', '4.9', '4.5', '9.3', '6.2', '4.2', '6',\n",
       "       '3.7', '4.1', '5.8', '5.6', '5.5', '4.4', '4.6', '5.9', '3.9',\n",
       "       '3.1', '2.9', '5.2', '3.3', '4.7', '5.1', '3.5', '2.5', '1.9', '3',\n",
       "       '2.7', '2.2', '2', '9.5', '2.1', '3.6', '2.8', '1.8', '3.8', '0',\n",
       "       '1.6', '9.6', '2.4', '1.7', '1.1', '0.3', '1.5', '0.7', '1.2',\n",
       "       '2.3', '0.5', '1.3', '0.2', '0.6', '1.4', '0.9', '1', '9.7'],\n",
       "      dtype=object)"
      ]
     },
     "execution_count": 11,
     "metadata": {},
     "output_type": "execute_result"
    }
   ],
   "source": [
    "df['user_score'].unique()"
   ]
  },
  {
   "cell_type": "markdown",
   "id": "a920bc49",
   "metadata": {},
   "source": [
    "Видим значение \"tbd\"(to be tetermined) среди действительных чисел в столбце user_score - фактически это пропуск, уберем его и превратим столбец во float"
   ]
  },
  {
   "cell_type": "code",
   "execution_count": 12,
   "id": "ae32deca",
   "metadata": {},
   "outputs": [],
   "source": [
    "df.user_score.replace({'tbd': np.nan}, inplace = True)\n",
    "df['user_score'] = df['user_score'].astype('float32')"
   ]
  },
  {
   "cell_type": "markdown",
   "id": "ce1a43ee",
   "metadata": {},
   "source": [
    "Столбцы na_sales, eu_sales, jp_sales, other_sales привдем к float32 в целях экономии памяти"
   ]
  },
  {
   "cell_type": "code",
   "execution_count": 13,
   "id": "16d616ae",
   "metadata": {},
   "outputs": [],
   "source": [
    "df[['na_sales', \n",
    "    'eu_sales', \n",
    "    'jp_sales', \n",
    "    'other_sales']] = df[['na_sales', \n",
    "                          'eu_sales', \n",
    "                          'jp_sales', \n",
    "                          'other_sales']].astype('float32')"
   ]
  },
  {
   "cell_type": "code",
   "execution_count": 14,
   "id": "cd274b6c",
   "metadata": {},
   "outputs": [
    {
     "data": {
      "text/plain": [
       "0"
      ]
     },
     "execution_count": 14,
     "metadata": {},
     "output_type": "execute_result"
    }
   ],
   "source": [
    "# проверим на  дубликаты\n",
    "df.duplicated().sum()"
   ]
  },
  {
   "cell_type": "markdown",
   "id": "f6fb4a63",
   "metadata": {},
   "source": [
    "Набор данных не содержит явных дубликатов"
   ]
  },
  {
   "cell_type": "code",
   "execution_count": 15,
   "id": "6a5c472d",
   "metadata": {},
   "outputs": [
    {
     "name": "stdout",
     "output_type": "stream",
     "text": [
      "<class 'pandas.core.frame.DataFrame'>\n",
      "RangeIndex: 16715 entries, 0 to 16714\n",
      "Data columns (total 11 columns):\n",
      " #   Column           Non-Null Count  Dtype  \n",
      "---  ------           --------------  -----  \n",
      " 0   name             16713 non-null  object \n",
      " 1   platform         16715 non-null  object \n",
      " 2   year_of_release  16446 non-null  Int64  \n",
      " 3   genre            16713 non-null  object \n",
      " 4   na_sales         16715 non-null  float32\n",
      " 5   eu_sales         16715 non-null  float32\n",
      " 6   jp_sales         16715 non-null  float32\n",
      " 7   other_sales      16715 non-null  float32\n",
      " 8   critic_score     8137 non-null   Int64  \n",
      " 9   user_score       7590 non-null   float32\n",
      " 10  rating           9949 non-null   object \n",
      "dtypes: Int64(2), float32(5), object(4)\n",
      "memory usage: 1.1+ MB\n"
     ]
    }
   ],
   "source": [
    "df.info()"
   ]
  },
  {
   "cell_type": "code",
   "execution_count": 16,
   "id": "3b995796",
   "metadata": {
    "scrolled": false
   },
   "outputs": [
    {
     "data": {
      "text/plain": [
       "name                0.011965\n",
       "platform            0.000000\n",
       "year_of_release     1.609333\n",
       "genre               0.011965\n",
       "na_sales            0.000000\n",
       "eu_sales            0.000000\n",
       "jp_sales            0.000000\n",
       "other_sales         0.000000\n",
       "critic_score       51.319174\n",
       "user_score         54.591684\n",
       "rating             40.478612\n",
       "dtype: float64"
      ]
     },
     "execution_count": 16,
     "metadata": {},
     "output_type": "execute_result"
    }
   ],
   "source": [
    "# посмотрим пропуски в процентном соотношении\n",
    "df.isna().mean()*100"
   ]
  },
  {
   "cell_type": "markdown",
   "id": "eb81fd52",
   "metadata": {},
   "source": [
    "Видим, что в столбцах name, year_of_release и genre пропуски составляют всего 0-1 процента отностительно общего объема данных - просто удалим такие строки"
   ]
  },
  {
   "cell_type": "code",
   "execution_count": 17,
   "id": "70d45950",
   "metadata": {},
   "outputs": [],
   "source": [
    "df.dropna(subset=['name', 'genre', 'year_of_release'],\n",
    "          inplace = True)"
   ]
  },
  {
   "cell_type": "markdown",
   "id": "3f19f5ff",
   "metadata": {},
   "source": [
    "В столбцах critic_score, user_score, rating просто удалить пропуски не получится, они составляют около половины объема данных. Можно, конечно, заполнить медианным значением с группировкой по году или платформе, но так как столбцы с рейтингом ялвяются целевыми признаками набора данных и впоследствии на их основе будут проверяться гипотезы, необходимо сохранить значения в оценках наиболее достоверными. Поэтому придется оставить пропуски в этих столбцах без изменений."
   ]
  },
  {
   "cell_type": "markdown",
   "id": "05526bb6",
   "metadata": {},
   "source": [
    "Посчитаем суммарные продажи во всех регионах и запишем в отдельный столбец "
   ]
  },
  {
   "cell_type": "code",
   "execution_count": 18,
   "id": "508486a7",
   "metadata": {},
   "outputs": [],
   "source": [
    "sales = ['na_sales', 'eu_sales', 'jp_sales', 'other_sales']\n",
    "df['sales_total']= df[sales].sum(axis=1)"
   ]
  },
  {
   "cell_type": "code",
   "execution_count": 19,
   "id": "a7a6826c",
   "metadata": {
    "scrolled": true
   },
   "outputs": [
    {
     "data": {
      "text/html": [
       "<div>\n",
       "<style scoped>\n",
       "    .dataframe tbody tr th:only-of-type {\n",
       "        vertical-align: middle;\n",
       "    }\n",
       "\n",
       "    .dataframe tbody tr th {\n",
       "        vertical-align: top;\n",
       "    }\n",
       "\n",
       "    .dataframe thead th {\n",
       "        text-align: right;\n",
       "    }\n",
       "</style>\n",
       "<table border=\"1\" class=\"dataframe\">\n",
       "  <thead>\n",
       "    <tr style=\"text-align: right;\">\n",
       "      <th></th>\n",
       "      <th>name</th>\n",
       "      <th>platform</th>\n",
       "      <th>year_of_release</th>\n",
       "      <th>genre</th>\n",
       "      <th>na_sales</th>\n",
       "      <th>eu_sales</th>\n",
       "      <th>jp_sales</th>\n",
       "      <th>other_sales</th>\n",
       "      <th>critic_score</th>\n",
       "      <th>user_score</th>\n",
       "      <th>rating</th>\n",
       "      <th>sales_total</th>\n",
       "    </tr>\n",
       "  </thead>\n",
       "  <tbody>\n",
       "    <tr>\n",
       "      <th>0</th>\n",
       "      <td>Wii Sports</td>\n",
       "      <td>Wii</td>\n",
       "      <td>2006</td>\n",
       "      <td>Sports</td>\n",
       "      <td>41.360001</td>\n",
       "      <td>28.959999</td>\n",
       "      <td>3.77</td>\n",
       "      <td>8.45</td>\n",
       "      <td>76</td>\n",
       "      <td>8.0</td>\n",
       "      <td>E</td>\n",
       "      <td>82.539993</td>\n",
       "    </tr>\n",
       "    <tr>\n",
       "      <th>1</th>\n",
       "      <td>Super Mario Bros.</td>\n",
       "      <td>NES</td>\n",
       "      <td>1985</td>\n",
       "      <td>Platform</td>\n",
       "      <td>29.080000</td>\n",
       "      <td>3.580000</td>\n",
       "      <td>6.81</td>\n",
       "      <td>0.77</td>\n",
       "      <td>&lt;NA&gt;</td>\n",
       "      <td>NaN</td>\n",
       "      <td>NaN</td>\n",
       "      <td>40.240002</td>\n",
       "    </tr>\n",
       "    <tr>\n",
       "      <th>2</th>\n",
       "      <td>Mario Kart Wii</td>\n",
       "      <td>Wii</td>\n",
       "      <td>2008</td>\n",
       "      <td>Racing</td>\n",
       "      <td>15.680000</td>\n",
       "      <td>12.760000</td>\n",
       "      <td>3.79</td>\n",
       "      <td>3.29</td>\n",
       "      <td>82</td>\n",
       "      <td>8.3</td>\n",
       "      <td>E</td>\n",
       "      <td>35.520000</td>\n",
       "    </tr>\n",
       "    <tr>\n",
       "      <th>3</th>\n",
       "      <td>Wii Sports Resort</td>\n",
       "      <td>Wii</td>\n",
       "      <td>2009</td>\n",
       "      <td>Sports</td>\n",
       "      <td>15.610000</td>\n",
       "      <td>10.930000</td>\n",
       "      <td>3.28</td>\n",
       "      <td>2.95</td>\n",
       "      <td>80</td>\n",
       "      <td>8.0</td>\n",
       "      <td>E</td>\n",
       "      <td>32.770000</td>\n",
       "    </tr>\n",
       "    <tr>\n",
       "      <th>4</th>\n",
       "      <td>Pokemon Red/Pokemon Blue</td>\n",
       "      <td>GB</td>\n",
       "      <td>1996</td>\n",
       "      <td>Role-Playing</td>\n",
       "      <td>11.270000</td>\n",
       "      <td>8.890000</td>\n",
       "      <td>10.22</td>\n",
       "      <td>1.00</td>\n",
       "      <td>&lt;NA&gt;</td>\n",
       "      <td>NaN</td>\n",
       "      <td>NaN</td>\n",
       "      <td>31.380001</td>\n",
       "    </tr>\n",
       "  </tbody>\n",
       "</table>\n",
       "</div>"
      ],
      "text/plain": [
       "                       name platform  year_of_release         genre  \\\n",
       "0                Wii Sports      Wii             2006        Sports   \n",
       "1         Super Mario Bros.      NES             1985      Platform   \n",
       "2            Mario Kart Wii      Wii             2008        Racing   \n",
       "3         Wii Sports Resort      Wii             2009        Sports   \n",
       "4  Pokemon Red/Pokemon Blue       GB             1996  Role-Playing   \n",
       "\n",
       "    na_sales   eu_sales  jp_sales  other_sales  critic_score  user_score  \\\n",
       "0  41.360001  28.959999      3.77         8.45            76         8.0   \n",
       "1  29.080000   3.580000      6.81         0.77          <NA>         NaN   \n",
       "2  15.680000  12.760000      3.79         3.29            82         8.3   \n",
       "3  15.610000  10.930000      3.28         2.95            80         8.0   \n",
       "4  11.270000   8.890000     10.22         1.00          <NA>         NaN   \n",
       "\n",
       "  rating  sales_total  \n",
       "0      E    82.539993  \n",
       "1    NaN    40.240002  \n",
       "2      E    35.520000  \n",
       "3      E    32.770000  \n",
       "4    NaN    31.380001  "
      ]
     },
     "execution_count": 19,
     "metadata": {},
     "output_type": "execute_result"
    }
   ],
   "source": [
    "df.head()"
   ]
  },
  {
   "cell_type": "markdown",
   "id": "2bc71020",
   "metadata": {},
   "source": [
    "## Исследовательский анализ данных"
   ]
  },
  {
   "cell_type": "markdown",
   "id": "aca8b121",
   "metadata": {},
   "source": [
    "Посмотрим сколько игр выпускалось в разные годы "
   ]
  },
  {
   "cell_type": "code",
   "execution_count": 20,
   "id": "23c28756",
   "metadata": {
    "scrolled": false
   },
   "outputs": [
    {
     "data": {
      "text/plain": [
       "Text(0.5, 1.0, 'Количество выпущенных игр в разные годы')"
      ]
     },
     "execution_count": 20,
     "metadata": {},
     "output_type": "execute_result"
    },
    {
     "data": {
      "image/png": "[encoded data removed]",
      "text/plain": [
       "<Figure size 1080x360 with 1 Axes>"
      ]
     },
     "metadata": {
      "needs_background": "light"
     },
     "output_type": "display_data"
    }
   ],
   "source": [
    "df.groupby('year_of_release').name.count().plot(kind = 'bar',\n",
    "                                                figsize = (15,5),\n",
    "                                                width = 0.9)\n",
    "plt.xlabel('Год выпуска', fontsize=14)\n",
    "plt.ylabel('Количество выпущенных игр', fontsize=14)\n",
    "plt.title('Количество выпущенных игр в разные годы', fontsize=14)"
   ]
  },
  {
   "cell_type": "markdown",
   "id": "1a5fe4eb",
   "metadata": {},
   "source": [
    "Пиковые значения выпуска игр приходится на 2008-2009 годы. Видим, что до 1994 года выпуск игр был минимальным, поэтому привлекать к дальнейшему анализу данные до 1994 года не имеет смысла"
   ]
  },
  {
   "cell_type": "markdown",
   "id": "9e8a7b58",
   "metadata": {},
   "source": [
    "Посмотрим, как менялись продажи по платформам"
   ]
  },
  {
   "cell_type": "code",
   "execution_count": 21,
   "id": "e63473c1",
   "metadata": {
    "scrolled": true
   },
   "outputs": [
    {
     "data": {
      "text/plain": [
       "array(['Wii', 'NES', 'GB', 'DS', 'X360', 'PS3', 'PS2', 'SNES', 'GBA',\n",
       "       'PS4', '3DS', 'N64', 'PS', 'XB', 'PC', '2600', 'PSP', 'XOne',\n",
       "       'WiiU', 'GC', 'GEN', 'DC', 'PSV', 'SAT', 'SCD', 'WS', 'NG', 'TG16',\n",
       "       '3DO', 'GG', 'PCFX'], dtype=object)"
      ]
     },
     "execution_count": 21,
     "metadata": {},
     "output_type": "execute_result"
    }
   ],
   "source": [
    "# Какие платформы вообще есть\n",
    "df.platform.unique()"
   ]
  },
  {
   "cell_type": "code",
   "execution_count": 22,
   "id": "27aa40c0",
   "metadata": {
    "scrolled": false
   },
   "outputs": [
    {
     "data": {
      "text/html": [
       "<div>\n",
       "<style scoped>\n",
       "    .dataframe tbody tr th:only-of-type {\n",
       "        vertical-align: middle;\n",
       "    }\n",
       "\n",
       "    .dataframe tbody tr th {\n",
       "        vertical-align: top;\n",
       "    }\n",
       "\n",
       "    .dataframe thead th {\n",
       "        text-align: right;\n",
       "    }\n",
       "</style>\n",
       "<table border=\"1\" class=\"dataframe\">\n",
       "  <thead>\n",
       "    <tr style=\"text-align: right;\">\n",
       "      <th></th>\n",
       "      <th>sales_total</th>\n",
       "    </tr>\n",
       "    <tr>\n",
       "      <th>platform</th>\n",
       "      <th></th>\n",
       "    </tr>\n",
       "  </thead>\n",
       "  <tbody>\n",
       "    <tr>\n",
       "      <th>PS2</th>\n",
       "      <td>1233.559937</td>\n",
       "    </tr>\n",
       "    <tr>\n",
       "      <th>X360</th>\n",
       "      <td>961.239990</td>\n",
       "    </tr>\n",
       "    <tr>\n",
       "      <th>PS3</th>\n",
       "      <td>931.339966</td>\n",
       "    </tr>\n",
       "    <tr>\n",
       "      <th>Wii</th>\n",
       "      <td>891.179993</td>\n",
       "    </tr>\n",
       "    <tr>\n",
       "      <th>DS</th>\n",
       "      <td>802.760010</td>\n",
       "    </tr>\n",
       "    <tr>\n",
       "      <th>PS</th>\n",
       "      <td>727.580017</td>\n",
       "    </tr>\n",
       "    <tr>\n",
       "      <th>PS4</th>\n",
       "      <td>314.140015</td>\n",
       "    </tr>\n",
       "    <tr>\n",
       "      <th>GBA</th>\n",
       "      <td>312.880005</td>\n",
       "    </tr>\n",
       "    <tr>\n",
       "      <th>PSP</th>\n",
       "      <td>289.529999</td>\n",
       "    </tr>\n",
       "    <tr>\n",
       "      <th>3DS</th>\n",
       "      <td>257.809998</td>\n",
       "    </tr>\n",
       "    <tr>\n",
       "      <th>PC</th>\n",
       "      <td>252.660004</td>\n",
       "    </tr>\n",
       "    <tr>\n",
       "      <th>XB</th>\n",
       "      <td>251.569992</td>\n",
       "    </tr>\n",
       "    <tr>\n",
       "      <th>N64</th>\n",
       "      <td>218.009995</td>\n",
       "    </tr>\n",
       "    <tr>\n",
       "      <th>GC</th>\n",
       "      <td>196.729996</td>\n",
       "    </tr>\n",
       "    <tr>\n",
       "      <th>XOne</th>\n",
       "      <td>159.320007</td>\n",
       "    </tr>\n",
       "    <tr>\n",
       "      <th>GB</th>\n",
       "      <td>152.080002</td>\n",
       "    </tr>\n",
       "    <tr>\n",
       "      <th>SNES</th>\n",
       "      <td>84.669998</td>\n",
       "    </tr>\n",
       "    <tr>\n",
       "      <th>WiiU</th>\n",
       "      <td>82.190002</td>\n",
       "    </tr>\n",
       "    <tr>\n",
       "      <th>PSV</th>\n",
       "      <td>53.810001</td>\n",
       "    </tr>\n",
       "    <tr>\n",
       "      <th>SAT</th>\n",
       "      <td>33.590000</td>\n",
       "    </tr>\n",
       "    <tr>\n",
       "      <th>DC</th>\n",
       "      <td>15.950000</td>\n",
       "    </tr>\n",
       "    <tr>\n",
       "      <th>GEN</th>\n",
       "      <td>8.130000</td>\n",
       "    </tr>\n",
       "    <tr>\n",
       "      <th>WS</th>\n",
       "      <td>1.420000</td>\n",
       "    </tr>\n",
       "    <tr>\n",
       "      <th>NG</th>\n",
       "      <td>1.230000</td>\n",
       "    </tr>\n",
       "    <tr>\n",
       "      <th>SCD</th>\n",
       "      <td>0.360000</td>\n",
       "    </tr>\n",
       "    <tr>\n",
       "      <th>TG16</th>\n",
       "      <td>0.160000</td>\n",
       "    </tr>\n",
       "    <tr>\n",
       "      <th>NES</th>\n",
       "      <td>0.110000</td>\n",
       "    </tr>\n",
       "    <tr>\n",
       "      <th>3DO</th>\n",
       "      <td>0.100000</td>\n",
       "    </tr>\n",
       "    <tr>\n",
       "      <th>PCFX</th>\n",
       "      <td>0.030000</td>\n",
       "    </tr>\n",
       "  </tbody>\n",
       "</table>\n",
       "</div>"
      ],
      "text/plain": [
       "          sales_total\n",
       "platform             \n",
       "PS2       1233.559937\n",
       "X360       961.239990\n",
       "PS3        931.339966\n",
       "Wii        891.179993\n",
       "DS         802.760010\n",
       "PS         727.580017\n",
       "PS4        314.140015\n",
       "GBA        312.880005\n",
       "PSP        289.529999\n",
       "3DS        257.809998\n",
       "PC         252.660004\n",
       "XB         251.569992\n",
       "N64        218.009995\n",
       "GC         196.729996\n",
       "XOne       159.320007\n",
       "GB         152.080002\n",
       "SNES        84.669998\n",
       "WiiU        82.190002\n",
       "PSV         53.810001\n",
       "SAT         33.590000\n",
       "DC          15.950000\n",
       "GEN          8.130000\n",
       "WS           1.420000\n",
       "NG           1.230000\n",
       "SCD          0.360000\n",
       "TG16         0.160000\n",
       "NES          0.110000\n",
       "3DO          0.100000\n",
       "PCFX         0.030000"
      ]
     },
     "execution_count": 22,
     "metadata": {},
     "output_type": "execute_result"
    }
   ],
   "source": [
    "# отранжируем платформы по суммарным продажам\n",
    "top_platforms = df.query('year_of_release >= 1994'\n",
    "                        ).groupby('platform').sales_total.sum().sort_values(ascending = False)\n",
    "top_platforms.to_frame()"
   ]
  },
  {
   "cell_type": "code",
   "execution_count": 23,
   "id": "ab576009",
   "metadata": {
    "scrolled": false
   },
   "outputs": [
    {
     "data": {
      "text/plain": [
       "Text(0.5, 1.0, 'Распределение по годам для платформ с наибольшими суммарными продажами')"
      ]
     },
     "execution_count": 23,
     "metadata": {},
     "output_type": "execute_result"
    },
    {
     "data": {
      "image/png": "[encoded data removed]",
      "text/plain": [
       "<Figure size 1080x360 with 1 Axes>"
      ]
     },
     "metadata": {
      "needs_background": "light"
     },
     "output_type": "display_data"
    }
   ],
   "source": [
    "# Построим распределение по годам для 10 платформ с наибольшими суммарными продажами\n",
    "df.query('''platform in \\\n",
    "          @top_platforms.head(10).index and \\\n",
    "          year_of_release >= 1994''').pivot_table(index = 'year_of_release',\n",
    "                                                  columns = 'platform',\n",
    "                                                  values = 'sales_total',\n",
    "                                                  aggfunc = 'sum').plot(kind = 'bar',\n",
    "                                                                          stacked = True,\n",
    "                                                                          width=0.9,\n",
    "                                                                          figsize = (15,5)\n",
    "                                                                         )\n",
    "plt.ylabel('Суммарные продажи', fontsize=14)\n",
    "plt.xlabel('Год', fontsize=14) \n",
    "plt.title('Распределение по годам для платформ с наибольшими суммарными продажами', fontsize=14)"
   ]
  },
  {
   "cell_type": "markdown",
   "id": "82c7ace1",
   "metadata": {},
   "source": [
    "По графику можно видеть, что характерный срок, за который появляются новые и исчезают старые платформы: 3-4 года. Видим, что к 2015-2016г. из особо-продаваемых платформ наиболее популярной является PS4, выпуск игр на которй начался еще в 2013 году. Чтобы не учитывать при анализе устаревшие тренды, возьмем 2013 год за начало актуального периода. Для дальнейшего анализа будем использовать только данные этого актуального периода  "
   ]
  },
  {
   "cell_type": "code",
   "execution_count": 24,
   "id": "5bdafe15",
   "metadata": {},
   "outputs": [],
   "source": [
    "# сохраним исходный датасет в отдельный dataframe, вдруг пригодится\n",
    "df_init = df.copy()\n",
    "\n",
    "# ограничим датасет актуальными данными начиная с 2013.\n",
    "df = df.query('year_of_release >= 2013').reset_index(drop=True)"
   ]
  },
  {
   "cell_type": "code",
   "execution_count": 25,
   "id": "0504872b",
   "metadata": {
    "scrolled": false
   },
   "outputs": [
    {
     "data": {
      "text/html": [
       "<div>\n",
       "<style scoped>\n",
       "    .dataframe tbody tr th:only-of-type {\n",
       "        vertical-align: middle;\n",
       "    }\n",
       "\n",
       "    .dataframe tbody tr th {\n",
       "        vertical-align: top;\n",
       "    }\n",
       "\n",
       "    .dataframe thead th {\n",
       "        text-align: right;\n",
       "    }\n",
       "</style>\n",
       "<table border=\"1\" class=\"dataframe\">\n",
       "  <thead>\n",
       "    <tr style=\"text-align: right;\">\n",
       "      <th></th>\n",
       "      <th>sales_total</th>\n",
       "    </tr>\n",
       "    <tr>\n",
       "      <th>platform</th>\n",
       "      <th></th>\n",
       "    </tr>\n",
       "  </thead>\n",
       "  <tbody>\n",
       "    <tr>\n",
       "      <th>PS4</th>\n",
       "      <td>314.140015</td>\n",
       "    </tr>\n",
       "    <tr>\n",
       "      <th>PS3</th>\n",
       "      <td>181.429993</td>\n",
       "    </tr>\n",
       "    <tr>\n",
       "      <th>XOne</th>\n",
       "      <td>159.320007</td>\n",
       "    </tr>\n",
       "    <tr>\n",
       "      <th>3DS</th>\n",
       "      <td>143.250000</td>\n",
       "    </tr>\n",
       "    <tr>\n",
       "      <th>X360</th>\n",
       "      <td>136.800003</td>\n",
       "    </tr>\n",
       "    <tr>\n",
       "      <th>WiiU</th>\n",
       "      <td>64.629997</td>\n",
       "    </tr>\n",
       "    <tr>\n",
       "      <th>PC</th>\n",
       "      <td>39.430000</td>\n",
       "    </tr>\n",
       "    <tr>\n",
       "      <th>PSV</th>\n",
       "      <td>32.989998</td>\n",
       "    </tr>\n",
       "    <tr>\n",
       "      <th>Wii</th>\n",
       "      <td>13.660000</td>\n",
       "    </tr>\n",
       "    <tr>\n",
       "      <th>PSP</th>\n",
       "      <td>3.500000</td>\n",
       "    </tr>\n",
       "    <tr>\n",
       "      <th>DS</th>\n",
       "      <td>1.540000</td>\n",
       "    </tr>\n",
       "  </tbody>\n",
       "</table>\n",
       "</div>"
      ],
      "text/plain": [
       "          sales_total\n",
       "platform             \n",
       "PS4        314.140015\n",
       "PS3        181.429993\n",
       "XOne       159.320007\n",
       "3DS        143.250000\n",
       "X360       136.800003\n",
       "WiiU        64.629997\n",
       "PC          39.430000\n",
       "PSV         32.989998\n",
       "Wii         13.660000\n",
       "PSP          3.500000\n",
       "DS           1.540000"
      ]
     },
     "execution_count": 25,
     "metadata": {},
     "output_type": "execute_result"
    }
   ],
   "source": [
    "# Отранжируем платформы по суммарным продажам\n",
    "top_platforms = df.groupby('platform').sales_total.sum().sort_values(ascending = False)\n",
    "top_platforms.to_frame()"
   ]
  },
  {
   "cell_type": "markdown",
   "id": "fcc5c646",
   "metadata": {},
   "source": [
    "Видим, что за весь период с 2013г. по 2016г. по суммарным продажам лидируют платформы PS4, PS3 и XOne"
   ]
  },
  {
   "cell_type": "code",
   "execution_count": 26,
   "id": "5696c70a",
   "metadata": {},
   "outputs": [
    {
     "data": {
      "text/plain": [
       "Text(0.5, 1.0, 'Изменения суммарных продаж с 2013 по 2016 год')"
      ]
     },
     "execution_count": 26,
     "metadata": {},
     "output_type": "execute_result"
    },
    {
     "data": {
      "image/png": "[encoded data removed]",
      "text/plain": [
       "<Figure size 936x360 with 1 Axes>"
      ]
     },
     "metadata": {
      "needs_background": "light"
     },
     "output_type": "display_data"
    }
   ],
   "source": [
    "# Посмотрим как меняются суммарные продажи на платформах с 2013 по 2016г\n",
    "df.pivot_table(index = 'year_of_release',\n",
    "                                                       columns = 'platform',\n",
    "                                                       values = 'sales_total',\n",
    "                                                       aggfunc = 'sum').plot(kind = 'line',\n",
    "                                                                              marker='x', \n",
    "                                                                              linewidth=3,\n",
    "                                                                              grid = True,\n",
    "                                                                              figsize = (13,5)\n",
    "                                                                             )\n",
    "plt.ylabel('Суммарные продажи', fontsize=14)\n",
    "plt.xlabel('Год', fontsize=14)\n",
    "plt.title('Изменения суммарных продаж с 2013 по 2016 год', fontsize=14)"
   ]
  },
  {
   "cell_type": "markdown",
   "id": "aad13136",
   "metadata": {},
   "source": [
    "На графике можно заметить, что к 2016г. продажи на всех платформах снижаются относительно 2015 года. Вероятно, это связано с тем, что на момент формирвания таблицы год еще не закончился, и данные за 2016 неполные. Поэтому, лучше оринетироваться на 2015 год. К 2015 году: \n",
    "- продажи игр на платформах PS4 и XOne растут. У PS4 лучшие суммарные продажи в 2015 году\n",
    "- продажи игр на всех других платформах стремительно падают\n",
    "- PS4 и XOne можно выделить как потенциально прибыльные платформы"
   ]
  },
  {
   "cell_type": "markdown",
   "id": "f8bdbeac",
   "metadata": {},
   "source": [
    "Посмотрим распределения глобальных продаж игр с 2013. в разбивке по плафтормам. Построим диаграммы размаха."
   ]
  },
  {
   "cell_type": "code",
   "execution_count": 27,
   "id": "f42b1a28",
   "metadata": {
    "scrolled": false
   },
   "outputs": [
    {
     "data": {
      "text/plain": [
       "Text(0.5, 1.0, 'Распределение глобальных продаж игр с 2013г. в разбивке по платформам')"
      ]
     },
     "execution_count": 27,
     "metadata": {},
     "output_type": "execute_result"
    },
    {
     "data": {
      "image/png": "[encoded data removed]",
      "text/plain": [
       "<Figure size 936x432 with 1 Axes>"
      ]
     },
     "metadata": {},
     "output_type": "display_data"
    }
   ],
   "source": [
    "sns.set_theme(style=\"whitegrid\")\n",
    "plt.rcParams['figure.figsize'] = [13, 6]\n",
    "\n",
    "ax = sns.boxplot(x='platform', \n",
    "                 y='sales_total', \n",
    "                 linewidth=2,\n",
    "                 palette='Set2',\n",
    "                 data=df\n",
    "                              \n",
    "                )\n",
    "plt.ylim(0, 2.5)\n",
    "plt.ylabel('Глобальные продажи', fontsize=13)\n",
    "plt.xlabel('Платформа', fontsize=13)\n",
    "plt.title('Распределение глобальных продаж игр с 2013г. в разбивке по платформам', fontsize=14)"
   ]
  },
  {
   "cell_type": "markdown",
   "id": "6a4ff234",
   "metadata": {},
   "source": [
    "По платформе Wii видим, что уровень распределения глобальных продаж достаточно выскокий, что несколько противоречит выводам по суммарным продажам."
   ]
  },
  {
   "cell_type": "code",
   "execution_count": 28,
   "id": "5d5467aa",
   "metadata": {
    "scrolled": false
   },
   "outputs": [
    {
     "data": {
      "text/html": [
       "<div>\n",
       "<style scoped>\n",
       "    .dataframe tbody tr th:only-of-type {\n",
       "        vertical-align: middle;\n",
       "    }\n",
       "\n",
       "    .dataframe tbody tr th {\n",
       "        vertical-align: top;\n",
       "    }\n",
       "\n",
       "    .dataframe thead th {\n",
       "        text-align: right;\n",
       "    }\n",
       "</style>\n",
       "<table border=\"1\" class=\"dataframe\">\n",
       "  <thead>\n",
       "    <tr style=\"text-align: right;\">\n",
       "      <th></th>\n",
       "      <th>sales_total</th>\n",
       "    </tr>\n",
       "    <tr>\n",
       "      <th>platform</th>\n",
       "      <th></th>\n",
       "    </tr>\n",
       "  </thead>\n",
       "  <tbody>\n",
       "    <tr>\n",
       "      <th>PS4</th>\n",
       "      <td>392</td>\n",
       "    </tr>\n",
       "    <tr>\n",
       "      <th>PSV</th>\n",
       "      <td>358</td>\n",
       "    </tr>\n",
       "    <tr>\n",
       "      <th>PS3</th>\n",
       "      <td>345</td>\n",
       "    </tr>\n",
       "    <tr>\n",
       "      <th>3DS</th>\n",
       "      <td>303</td>\n",
       "    </tr>\n",
       "    <tr>\n",
       "      <th>XOne</th>\n",
       "      <td>247</td>\n",
       "    </tr>\n",
       "    <tr>\n",
       "      <th>PC</th>\n",
       "      <td>189</td>\n",
       "    </tr>\n",
       "    <tr>\n",
       "      <th>X360</th>\n",
       "      <td>186</td>\n",
       "    </tr>\n",
       "    <tr>\n",
       "      <th>WiiU</th>\n",
       "      <td>115</td>\n",
       "    </tr>\n",
       "    <tr>\n",
       "      <th>PSP</th>\n",
       "      <td>67</td>\n",
       "    </tr>\n",
       "    <tr>\n",
       "      <th>Wii</th>\n",
       "      <td>23</td>\n",
       "    </tr>\n",
       "    <tr>\n",
       "      <th>DS</th>\n",
       "      <td>8</td>\n",
       "    </tr>\n",
       "  </tbody>\n",
       "</table>\n",
       "</div>"
      ],
      "text/plain": [
       "          sales_total\n",
       "platform             \n",
       "PS4               392\n",
       "PSV               358\n",
       "PS3               345\n",
       "3DS               303\n",
       "XOne              247\n",
       "PC                189\n",
       "X360              186\n",
       "WiiU              115\n",
       "PSP                67\n",
       "Wii                23\n",
       "DS                  8"
      ]
     },
     "execution_count": 28,
     "metadata": {},
     "output_type": "execute_result"
    }
   ],
   "source": [
    "# отранжируем платформы по количеству записей \n",
    "top_platforms = df.groupby('platform').sales_total.count().sort_values(ascending = False)\n",
    "top_platforms.to_frame()"
   ]
  },
  {
   "cell_type": "markdown",
   "id": "221f55e5",
   "metadata": {},
   "source": [
    "Видим, что в выборку для платформы Wii попадают данные всего по 23 играм. Такой размер выборки явно недостаточен для оценки формы распределений, формирования закономерностей и последующих выводов. То же самое для платформы DS. "
   ]
  },
  {
   "cell_type": "markdown",
   "id": "2775d52e",
   "metadata": {},
   "source": [
    "Таким образом, анализируя боксплоты, видим, что платформы X360, PS4, XOne с 2013 года имеют наиболее высокий уровень распределений глобальных продаж (не считаем выбросы). Также видно, что межквартильный размах глобальных продаж (центральные 50% данных) по этим платформам примерно одинаков (от ~0.1 до  ~0.7) и существенно шире чем для остальных платформ. "
   ]
  },
  {
   "cell_type": "markdown",
   "id": "b244b816",
   "metadata": {},
   "source": [
    "Посмотрим как влияют оценки пользователей и критиков на общие продажи на примере платформы XOne. Для этого оценим коэффициент корреляции и построим матрицу диаграмм рассеяния для рассматриваемых признаков"
   ]
  },
  {
   "cell_type": "code",
   "execution_count": 29,
   "id": "35847fed",
   "metadata": {
    "scrolled": false
   },
   "outputs": [
    {
     "data": {
      "text/html": [
       "<div>\n",
       "<style scoped>\n",
       "    .dataframe tbody tr th:only-of-type {\n",
       "        vertical-align: middle;\n",
       "    }\n",
       "\n",
       "    .dataframe tbody tr th {\n",
       "        vertical-align: top;\n",
       "    }\n",
       "\n",
       "    .dataframe thead th {\n",
       "        text-align: right;\n",
       "    }\n",
       "</style>\n",
       "<table border=\"1\" class=\"dataframe\">\n",
       "  <thead>\n",
       "    <tr style=\"text-align: right;\">\n",
       "      <th></th>\n",
       "      <th>sales_total</th>\n",
       "      <th>user_score</th>\n",
       "      <th>critic_score</th>\n",
       "    </tr>\n",
       "  </thead>\n",
       "  <tbody>\n",
       "    <tr>\n",
       "      <th>sales_total</th>\n",
       "      <td>1.000000</td>\n",
       "      <td>-0.068925</td>\n",
       "      <td>0.416998</td>\n",
       "    </tr>\n",
       "    <tr>\n",
       "      <th>user_score</th>\n",
       "      <td>-0.068925</td>\n",
       "      <td>1.000000</td>\n",
       "      <td>0.472462</td>\n",
       "    </tr>\n",
       "    <tr>\n",
       "      <th>critic_score</th>\n",
       "      <td>0.416998</td>\n",
       "      <td>0.472462</td>\n",
       "      <td>1.000000</td>\n",
       "    </tr>\n",
       "  </tbody>\n",
       "</table>\n",
       "</div>"
      ],
      "text/plain": [
       "              sales_total  user_score  critic_score\n",
       "sales_total      1.000000   -0.068925      0.416998\n",
       "user_score      -0.068925    1.000000      0.472462\n",
       "critic_score     0.416998    0.472462      1.000000"
      ]
     },
     "metadata": {},
     "output_type": "display_data"
    },
    {
     "data": {
      "text/plain": [
       "<seaborn.axisgrid.PairGrid at 0x7f05b5dddaf0>"
      ]
     },
     "execution_count": 29,
     "metadata": {},
     "output_type": "execute_result"
    },
    {
     "data": {
      "image/png": "[encoded data removed]",
      "text/plain": [
       "<Figure size 540x540 with 12 Axes>"
      ]
     },
     "metadata": {},
     "output_type": "display_data"
    }
   ],
   "source": [
    "display(df.query('platform == \"XOne\"')[['sales_total', \n",
    "                                        'user_score', \n",
    "                                        'critic_score']].corr())\n",
    "\n",
    "sns.pairplot(df.query('platform == \"XOne\"')[['sales_total', \n",
    "                                            'user_score', \n",
    "                                            'critic_score']])"
   ]
  },
  {
   "cell_type": "markdown",
   "id": "f2df8445",
   "metadata": {},
   "source": [
    "Выводы:\n",
    "- Видим, что линейной зависимости между отзывами пользователей и общими продажами нет, коэффициент корреляции: -0.07. На графике также зависимости не прослеживается\n",
    "- Между отзывами критиков и общимим продажами коэффициент корреляции 0.42, что говорит о наличие слабой линейной взаимосвязи между признаками. Об этом говорит также график рассеяния - прослеживается некоторая завимость, которая лучше описывается нелинейной функцией, например, экспонентой."
   ]
  },
  {
   "cell_type": "markdown",
   "id": "a6b81576",
   "metadata": {},
   "source": [
    "Соотнесимем выводы по платформе Xone с продажами игр на других популярных платформах."
   ]
  },
  {
   "cell_type": "code",
   "execution_count": 30,
   "id": "4cc61fba",
   "metadata": {
    "scrolled": true
   },
   "outputs": [],
   "source": [
    "df['sales_log'] = df.sales_total.apply(np.log)"
   ]
  },
  {
   "cell_type": "code",
   "execution_count": 31,
   "id": "36965cd0",
   "metadata": {
    "scrolled": false
   },
   "outputs": [
    {
     "name": "stdout",
     "output_type": "stream",
     "text": [
      "Для платформы PS4:"
     ]
    },
    {
     "data": {
      "text/html": [
       "<div>\n",
       "<style scoped>\n",
       "    .dataframe tbody tr th:only-of-type {\n",
       "        vertical-align: middle;\n",
       "    }\n",
       "\n",
       "    .dataframe tbody tr th {\n",
       "        vertical-align: top;\n",
       "    }\n",
       "\n",
       "    .dataframe thead th {\n",
       "        text-align: right;\n",
       "    }\n",
       "</style>\n",
       "<table border=\"1\" class=\"dataframe\">\n",
       "  <thead>\n",
       "    <tr style=\"text-align: right;\">\n",
       "      <th></th>\n",
       "      <th>sales_total</th>\n",
       "      <th>user_score</th>\n",
       "      <th>critic_score</th>\n",
       "    </tr>\n",
       "  </thead>\n",
       "  <tbody>\n",
       "    <tr>\n",
       "      <th>sales_total</th>\n",
       "      <td>1.000000</td>\n",
       "      <td>-0.031957</td>\n",
       "      <td>0.406568</td>\n",
       "    </tr>\n",
       "    <tr>\n",
       "      <th>user_score</th>\n",
       "      <td>-0.031957</td>\n",
       "      <td>1.000000</td>\n",
       "      <td>0.557654</td>\n",
       "    </tr>\n",
       "    <tr>\n",
       "      <th>critic_score</th>\n",
       "      <td>0.406568</td>\n",
       "      <td>0.557654</td>\n",
       "      <td>1.000000</td>\n",
       "    </tr>\n",
       "  </tbody>\n",
       "</table>\n",
       "</div>"
      ],
      "text/plain": [
       "              sales_total  user_score  critic_score\n",
       "sales_total      1.000000   -0.031957      0.406568\n",
       "user_score      -0.031957    1.000000      0.557654\n",
       "critic_score     0.406568    0.557654      1.000000"
      ]
     },
     "metadata": {},
     "output_type": "display_data"
    },
    {
     "data": {
      "image/png": "[encoded data removed]",
      "text/plain": [
       "<Figure size 540x540 with 12 Axes>"
      ]
     },
     "metadata": {},
     "output_type": "display_data"
    },
    {
     "name": "stdout",
     "output_type": "stream",
     "text": [
      "\n",
      "Для платформы PS3:"
     ]
    },
    {
     "data": {
      "text/html": [
       "<div>\n",
       "<style scoped>\n",
       "    .dataframe tbody tr th:only-of-type {\n",
       "        vertical-align: middle;\n",
       "    }\n",
       "\n",
       "    .dataframe tbody tr th {\n",
       "        vertical-align: top;\n",
       "    }\n",
       "\n",
       "    .dataframe thead th {\n",
       "        text-align: right;\n",
       "    }\n",
       "</style>\n",
       "<table border=\"1\" class=\"dataframe\">\n",
       "  <thead>\n",
       "    <tr style=\"text-align: right;\">\n",
       "      <th></th>\n",
       "      <th>sales_total</th>\n",
       "      <th>user_score</th>\n",
       "      <th>critic_score</th>\n",
       "    </tr>\n",
       "  </thead>\n",
       "  <tbody>\n",
       "    <tr>\n",
       "      <th>sales_total</th>\n",
       "      <td>1.000000</td>\n",
       "      <td>0.002394</td>\n",
       "      <td>0.334285</td>\n",
       "    </tr>\n",
       "    <tr>\n",
       "      <th>user_score</th>\n",
       "      <td>0.002394</td>\n",
       "      <td>1.000000</td>\n",
       "      <td>0.599920</td>\n",
       "    </tr>\n",
       "    <tr>\n",
       "      <th>critic_score</th>\n",
       "      <td>0.334285</td>\n",
       "      <td>0.599920</td>\n",
       "      <td>1.000000</td>\n",
       "    </tr>\n",
       "  </tbody>\n",
       "</table>\n",
       "</div>"
      ],
      "text/plain": [
       "              sales_total  user_score  critic_score\n",
       "sales_total      1.000000    0.002394      0.334285\n",
       "user_score       0.002394    1.000000      0.599920\n",
       "critic_score     0.334285    0.599920      1.000000"
      ]
     },
     "metadata": {},
     "output_type": "display_data"
    },
    {
     "data": {
      "image/png": "[encoded data removed]",
      "text/plain": [
       "<Figure size 540x540 with 12 Axes>"
      ]
     },
     "metadata": {},
     "output_type": "display_data"
    },
    {
     "name": "stdout",
     "output_type": "stream",
     "text": [
      "\n",
      "Для платформы X360:"
     ]
    },
    {
     "data": {
      "text/html": [
       "<div>\n",
       "<style scoped>\n",
       "    .dataframe tbody tr th:only-of-type {\n",
       "        vertical-align: middle;\n",
       "    }\n",
       "\n",
       "    .dataframe tbody tr th {\n",
       "        vertical-align: top;\n",
       "    }\n",
       "\n",
       "    .dataframe thead th {\n",
       "        text-align: right;\n",
       "    }\n",
       "</style>\n",
       "<table border=\"1\" class=\"dataframe\">\n",
       "  <thead>\n",
       "    <tr style=\"text-align: right;\">\n",
       "      <th></th>\n",
       "      <th>sales_total</th>\n",
       "      <th>user_score</th>\n",
       "      <th>critic_score</th>\n",
       "    </tr>\n",
       "  </thead>\n",
       "  <tbody>\n",
       "    <tr>\n",
       "      <th>sales_total</th>\n",
       "      <td>1.000000</td>\n",
       "      <td>-0.011742</td>\n",
       "      <td>0.350345</td>\n",
       "    </tr>\n",
       "    <tr>\n",
       "      <th>user_score</th>\n",
       "      <td>-0.011742</td>\n",
       "      <td>1.000000</td>\n",
       "      <td>0.520946</td>\n",
       "    </tr>\n",
       "    <tr>\n",
       "      <th>critic_score</th>\n",
       "      <td>0.350345</td>\n",
       "      <td>0.520946</td>\n",
       "      <td>1.000000</td>\n",
       "    </tr>\n",
       "  </tbody>\n",
       "</table>\n",
       "</div>"
      ],
      "text/plain": [
       "              sales_total  user_score  critic_score\n",
       "sales_total      1.000000   -0.011742      0.350345\n",
       "user_score      -0.011742    1.000000      0.520946\n",
       "critic_score     0.350345    0.520946      1.000000"
      ]
     },
     "metadata": {},
     "output_type": "display_data"
    },
    {
     "data": {
      "image/png": "[encoded data removed]",
      "text/plain": [
       "<Figure size 540x540 with 12 Axes>"
      ]
     },
     "metadata": {},
     "output_type": "display_data"
    },
    {
     "name": "stdout",
     "output_type": "stream",
     "text": [
      "\n",
      "Для платформы WiiU:"
     ]
    },
    {
     "data": {
      "text/html": [
       "<div>\n",
       "<style scoped>\n",
       "    .dataframe tbody tr th:only-of-type {\n",
       "        vertical-align: middle;\n",
       "    }\n",
       "\n",
       "    .dataframe tbody tr th {\n",
       "        vertical-align: top;\n",
       "    }\n",
       "\n",
       "    .dataframe thead th {\n",
       "        text-align: right;\n",
       "    }\n",
       "</style>\n",
       "<table border=\"1\" class=\"dataframe\">\n",
       "  <thead>\n",
       "    <tr style=\"text-align: right;\">\n",
       "      <th></th>\n",
       "      <th>sales_total</th>\n",
       "      <th>user_score</th>\n",
       "      <th>critic_score</th>\n",
       "    </tr>\n",
       "  </thead>\n",
       "  <tbody>\n",
       "    <tr>\n",
       "      <th>sales_total</th>\n",
       "      <td>1.000000</td>\n",
       "      <td>0.419330</td>\n",
       "      <td>0.376415</td>\n",
       "    </tr>\n",
       "    <tr>\n",
       "      <th>user_score</th>\n",
       "      <td>0.419330</td>\n",
       "      <td>1.000000</td>\n",
       "      <td>0.721313</td>\n",
       "    </tr>\n",
       "    <tr>\n",
       "      <th>critic_score</th>\n",
       "      <td>0.376415</td>\n",
       "      <td>0.721313</td>\n",
       "      <td>1.000000</td>\n",
       "    </tr>\n",
       "  </tbody>\n",
       "</table>\n",
       "</div>"
      ],
      "text/plain": [
       "              sales_total  user_score  critic_score\n",
       "sales_total      1.000000    0.419330      0.376415\n",
       "user_score       0.419330    1.000000      0.721313\n",
       "critic_score     0.376415    0.721313      1.000000"
      ]
     },
     "metadata": {},
     "output_type": "display_data"
    },
    {
     "data": {
      "image/png": "[encoded data removed]",
      "text/plain": [
       "<Figure size 540x540 with 12 Axes>"
      ]
     },
     "metadata": {},
     "output_type": "display_data"
    },
    {
     "name": "stdout",
     "output_type": "stream",
     "text": [
      "\n"
     ]
    }
   ],
   "source": [
    "plats = ['PS4', 'PS3',  'X360', 'WiiU']\n",
    "\n",
    "for plat in plats:\n",
    "    print(f'Для платформы {plat}:', end = \"\")\n",
    "    \n",
    "    display(df.query('platform == @plat')[['sales_total', \n",
    "                                            'user_score', \n",
    "                                            'critic_score']].corr())\n",
    "    \n",
    "    sns.pairplot(df.query('platform == @plat')[['sales_total', \n",
    "                                            'user_score', \n",
    "                                            'critic_score']])\n",
    "    plt.show()\n",
    "    print('')\n",
    "    "
   ]
  },
  {
   "cell_type": "markdown",
   "id": "59c4fcab",
   "metadata": {},
   "source": [
    "В целом, выводы по остальным плафтормам соответствуют выводам для XOne."
   ]
  },
  {
   "cell_type": "markdown",
   "id": "bcdcf2fc",
   "metadata": {},
   "source": [
    "Посмотрим на общее распределение продаж игр в разбивке по жанрам"
   ]
  },
  {
   "cell_type": "code",
   "execution_count": 32,
   "id": "04b0dda6",
   "metadata": {},
   "outputs": [
    {
     "data": {
      "text/plain": [
       "Text(0.5, 1.0, 'Распределение глобальных продаж игр с 2013г. в разбивке по жанрам')"
      ]
     },
     "execution_count": 32,
     "metadata": {},
     "output_type": "execute_result"
    },
    {
     "data": {
      "image/png": "[encoded data removed]",
      "text/plain": [
       "<Figure size 936x432 with 1 Axes>"
      ]
     },
     "metadata": {},
     "output_type": "display_data"
    }
   ],
   "source": [
    "plt.rcParams['figure.figsize'] = [13, 6]\n",
    "\n",
    "ax = sns.boxplot(x='genre', \n",
    "                 y='sales_total', \n",
    "                 linewidth=2,\n",
    "                 palette='Set2',\n",
    "                 data=df\n",
    "                )\n",
    "plt.ylim(0, 3.5)\n",
    "plt.ylabel('Глобальные продажи', fontsize=13)\n",
    "plt.xlabel('Жанр', fontsize=13)\n",
    "plt.title('Распределение глобальных продаж игр с 2013г. в разбивке по жанрам', fontsize=14)"
   ]
  },
  {
   "cell_type": "markdown",
   "id": "f4d90eac",
   "metadata": {},
   "source": [
    "Выводы:\n",
    "- Самые прибыльные жанры (с наибольшим уровнем распределений общих продаж, не учитывая выбросов): Shooter, Sports, Platform\n",
    "- Наименее прибыльные жанры (с наименьшим уровнем распределений продаж): Puzzle, Adventure, Strategy"
   ]
  },
  {
   "cell_type": "markdown",
   "id": "c7b0f2ec",
   "metadata": {},
   "source": [
    "## Составление портрета пользователя каждого региона "
   ]
  },
  {
   "cell_type": "markdown",
   "id": "ae347cab",
   "metadata": {},
   "source": [
    "На данном шаге определим для пользователя каждого региона (NA, EU, JP):\n",
    "- Самые популярные платформы (топ-5). \n",
    "- Самые популярные жанры (топ-5). \n",
    "- Выясним, влияет ли рейтинг ESRB на продажи в отдельном регионе."
   ]
  },
  {
   "cell_type": "markdown",
   "id": "ffbcf1fe",
   "metadata": {},
   "source": [
    "#### Определим для пользователя каждого региона самые популярные платформы (топ-5)"
   ]
  },
  {
   "cell_type": "code",
   "execution_count": 33,
   "id": "a4dd74da",
   "metadata": {
    "scrolled": false
   },
   "outputs": [
    {
     "data": {
      "image/png": "[encoded data removed]",
      "text/plain": [
       "<Figure size 648x504 with 1 Axes>"
      ]
     },
     "metadata": {},
     "output_type": "display_data"
    },
    {
     "name": "stdout",
     "output_type": "stream",
     "text": [
      "Топ-5 плаформ для региона Северная Америка:\n",
      "1:PS4\n",
      "2:XOne\n",
      "3:X360\n",
      "4:PS3\n",
      "5:3DS\n",
      "\n",
      "\n"
     ]
    },
    {
     "data": {
      "image/png": "[encoded data removed]",
      "text/plain": [
       "<Figure size 648x504 with 1 Axes>"
      ]
     },
     "metadata": {},
     "output_type": "display_data"
    },
    {
     "name": "stdout",
     "output_type": "stream",
     "text": [
      "Топ-5 плаформ для региона Европа:\n",
      "1:PS4\n",
      "2:PS3\n",
      "3:XOne\n",
      "4:X360\n",
      "5:3DS\n",
      "\n",
      "\n"
     ]
    },
    {
     "data": {
      "image/png": "[encoded data removed]",
      "text/plain": [
       "<Figure size 648x504 with 1 Axes>"
      ]
     },
     "metadata": {},
     "output_type": "display_data"
    },
    {
     "name": "stdout",
     "output_type": "stream",
     "text": [
      "Топ-5 плаформ для региона Япония:\n",
      "1:3DS\n",
      "2:PS3\n",
      "3:PSV\n",
      "4:PS4\n",
      "5:WiiU\n",
      "\n",
      "\n"
     ]
    }
   ],
   "source": [
    "#создадим словарь, связывающий названия столбцов с продажами и регионы, соответствующие им\n",
    "regions = {'na_sales':'Северная Америка', \n",
    "           'eu_sales':'Европа', \n",
    "           'jp_sales':'Япония'}\n",
    "\n",
    "for col, reg in regions.items():\n",
    "    \n",
    "    pivot = df.pivot_table(index = 'platform',\n",
    "                     values = col,\n",
    "                     aggfunc = 'sum').sort_values(by = col)\n",
    "    \n",
    "# построим барплот-рейтинг \n",
    "    pivot.plot(kind = 'barh',\n",
    "                stacked = True,\n",
    "                width=1,\n",
    "                figsize = (9,7),\n",
    "                legend = False\n",
    "                )\n",
    "    \n",
    "    plt.ylabel('Платформа', fontsize=11)\n",
    "    plt.xlabel('Суммарные продажи', fontsize=11)\n",
    "    plt.title(f'Рейтинг популярности платформ для региона {reg}:', fontsize=14)\n",
    "    plt.show()\n",
    "    print(f'Топ-5 плаформ для региона {reg}:')\n",
    "    \n",
    "# топ-5 платформ    \n",
    "    for i in range(5):\n",
    "        print(f'{i+1}:{pivot.index[-1:-6:-1][i]}') \n",
    "    print('\\n')    \n",
    "    \n",
    "   "
   ]
  },
  {
   "cell_type": "markdown",
   "id": "6c08bad5",
   "metadata": {},
   "source": [
    "#### Определим для пользователя каждого региона самые популярные жанры (топ-5)"
   ]
  },
  {
   "cell_type": "code",
   "execution_count": 34,
   "id": "bdc62e76",
   "metadata": {
    "scrolled": false
   },
   "outputs": [
    {
     "data": {
      "image/png": "[encoded data removed]",
      "text/plain": [
       "<Figure size 648x504 with 1 Axes>"
      ]
     },
     "metadata": {},
     "output_type": "display_data"
    },
    {
     "name": "stdout",
     "output_type": "stream",
     "text": [
      "Топ-5 жанров для региона Северная Америка:\n",
      "1:Action\n",
      "2:Shooter\n",
      "3:Sports\n",
      "4:Role-Playing\n",
      "5:Misc\n",
      "\n",
      "\n"
     ]
    },
    {
     "data": {
      "image/png": "[encoded data removed]",
      "text/plain": [
       "<Figure size 648x504 with 1 Axes>"
      ]
     },
     "metadata": {},
     "output_type": "display_data"
    },
    {
     "name": "stdout",
     "output_type": "stream",
     "text": [
      "Топ-5 жанров для региона Европа:\n",
      "1:Action\n",
      "2:Shooter\n",
      "3:Sports\n",
      "4:Role-Playing\n",
      "5:Racing\n",
      "\n",
      "\n"
     ]
    },
    {
     "data": {
      "image/png": "[encoded data removed]",
      "text/plain": [
       "<Figure size 648x504 with 1 Axes>"
      ]
     },
     "metadata": {},
     "output_type": "display_data"
    },
    {
     "name": "stdout",
     "output_type": "stream",
     "text": [
      "Топ-5 жанров для региона Япония:\n",
      "1:Role-Playing\n",
      "2:Action\n",
      "3:Misc\n",
      "4:Fighting\n",
      "5:Shooter\n",
      "\n",
      "\n"
     ]
    }
   ],
   "source": [
    "for col, reg in regions.items():\n",
    "    \n",
    "    pivot = df.pivot_table(index = 'genre',\n",
    "                            values = col,\n",
    "                            aggfunc = 'sum'\n",
    "                           ).sort_values(by = col)\n",
    "# построим барплот-рейтинг    \n",
    "    pivot.plot(kind = 'barh',\n",
    "               stacked = True,\n",
    "               width=1,\n",
    "               figsize = (9,7),\n",
    "               legend = False\n",
    "                              )\n",
    "    \n",
    "    \n",
    "    plt.ylabel('Платформа', fontsize=11)\n",
    "    plt.xlabel('Суммарные продажи', fontsize=11)\n",
    "    plt.title(f'Рейтинг популярности жанров для региона {reg}:', fontsize=14)\n",
    "    plt.show()\n",
    "    \n",
    "    print(f'Топ-5 жанров для региона {reg}:')\n",
    "    \n",
    "#  топ-5 жанров   \n",
    "    for i in range(5):\n",
    "        print(f'{i+1}:{pivot.index[-1:-6:-1][i]}') \n",
    "        \n",
    "    print('\\n')  \n"
   ]
  },
  {
   "cell_type": "markdown",
   "id": "a5b7c0b4",
   "metadata": {},
   "source": [
    "#### Выясним, влияет ли рейтинг ESRB на продажи в отдельном регионе."
   ]
  },
  {
   "cell_type": "code",
   "execution_count": 38,
   "id": "5b5878b1",
   "metadata": {},
   "outputs": [],
   "source": [
    "# для привличения к дальнейшему анализу заменим пропущенные значения в rating на Undefined\n",
    "df.rating.fillna('Undefined', inplace = True)"
   ]
  },
  {
   "cell_type": "code",
   "execution_count": 39,
   "id": "f0a66c05",
   "metadata": {
    "scrolled": false
   },
   "outputs": [
    {
     "data": {
      "image/png": "[encoded data removed]",
      "text/plain": [
       "<Figure size 720x432 with 1 Axes>"
      ]
     },
     "metadata": {},
     "output_type": "display_data"
    }
   ],
   "source": [
    "df.pivot_table(index='rating', \n",
    "               values = regions.keys(),\n",
    "               aggfunc = 'sum'\n",
    "              ).sort_values(by='na_sales').plot(kind = 'bar',   \n",
    "                                                figsize = (10,6),\n",
    "                                                width = 0.8,\n",
    "                                                legend = True)\n",
    "plt.xlabel('Рейтинг ESRB', fontsize=12)\n",
    "plt.ylabel('Суммарные продажи', fontsize=12)\n",
    "plt.title(f'Суммарные продажи в зависимости от рейтинга ESRB для разных регионов', fontsize=14)\n",
    "plt.show()"
   ]
  },
  {
   "cell_type": "markdown",
   "id": "73d5c1c9",
   "metadata": {},
   "source": [
    "Вывод: портреты пользователей из Северной Америки и Европы максимально похожи. У них полностью совпадают топ-5 по популярности платформ(PS4, XOne, X360, PS3, 3DS), а также зависимость продаж от рейтинга ESRB. Топ-5 жанров также почти не отличаются - для северной Америки это Action, Shooter, Sports, Role-Playing и Misc, для Европы: Action, Shooter, Sports, Role-Playing и Racing.\n"
   ]
  },
  {
   "cell_type": "markdown",
   "id": "1b734a9c",
   "metadata": {},
   "source": [
    "Портрет пользователя из Японии несколько отличается от портретов пользователей Северной Америки и Европы. Топ-5 плаформ для региона Япония: 3DS, PS3, PSV, PS4, WiiU. Топ-5 жанров: Role-Playing, Action, Misc, Fighting, Shooter. Зависимость продаж от рейтинга ESRB также отличается от таковой для пользователей из Европы и Америки."
   ]
  },
  {
   "cell_type": "code",
   "execution_count": 36,
   "id": "c9f1735c",
   "metadata": {},
   "outputs": [
    {
     "data": {
      "text/plain": [
       "array(['M', nan, 'E', 'T', 'E10+'], dtype=object)"
      ]
     },
     "execution_count": 36,
     "metadata": {},
     "output_type": "execute_result"
    }
   ],
   "source": [
    "# какие значния рейтинга ESRB имеются в актуальных данных с 2013 года\n",
    "df.rating.unique()"
   ]
  },
  {
   "cell_type": "code",
   "execution_count": 37,
   "id": "c3805c15",
   "metadata": {},
   "outputs": [
    {
     "data": {
      "text/plain": [
       "array(['E', nan, 'M', 'T', 'E10+', 'K-A', 'AO', 'EC', 'RP'], dtype=object)"
      ]
     },
     "execution_count": 37,
     "metadata": {},
     "output_type": "execute_result"
    }
   ],
   "source": [
    "# какие значния рейтинга ESRB имеются для всех данных \n",
    "df_init.rating.unique()"
   ]
  },
  {
   "cell_type": "markdown",
   "id": "600e1ccf",
   "metadata": {},
   "source": [
    "## Проверка гипотез"
   ]
  },
  {
   "cell_type": "markdown",
   "id": "85c74956",
   "metadata": {},
   "source": [
    "На данном шаге проверим следющие статистические гипотезы:\n",
    "- Средние пользовательские рейтинги платформ Xbox One и PC одинаковые;\n",
    "- Средние пользовательские рейтинги жанров Action и Sports разные."
   ]
  },
  {
   "cell_type": "markdown",
   "id": "42d2a148",
   "metadata": {},
   "source": [
    "Для проверки гипотез зададим пороговое значение уровня значимости   $\\alpha$ = 0.05"
   ]
  },
  {
   "cell_type": "code",
   "execution_count": 38,
   "id": "be1ffb83",
   "metadata": {},
   "outputs": [],
   "source": [
    "alpha = 0.05"
   ]
  },
  {
   "cell_type": "markdown",
   "id": "d7101ad1",
   "metadata": {},
   "source": [
    "#### Средние пользовательские рейтинги платформ Xbox One и PC одинаковые"
   ]
  },
  {
   "cell_type": "code",
   "execution_count": 39,
   "id": "e1eb055e",
   "metadata": {
    "scrolled": false
   },
   "outputs": [
    {
     "data": {
      "text/plain": [
       "<AxesSubplot:xlabel='user_score', ylabel='Density'>"
      ]
     },
     "execution_count": 39,
     "metadata": {},
     "output_type": "execute_result"
    },
    {
     "data": {
      "image/png": "[encoded data removed]",
      "text/plain": [
       "<Figure size 576x360 with 1 Axes>"
      ]
     },
     "metadata": {},
     "output_type": "display_data"
    }
   ],
   "source": [
    "# Построим гистограммы для пользовательских рейтингов \n",
    "plt.figure(figsize=(8,5))\n",
    "\n",
    "sns.histplot(data = df.query('platform == \"PC\" or platform == \"XOne\"'), \n",
    "                 x = 'user_score', \n",
    "                 hue = 'platform', \n",
    "                 kde = True,\n",
    "                 bins = 30,\n",
    "                 stat=\"density\",\n",
    "                 fill = False,\n",
    "                 common_norm = False\n",
    "               \n",
    "                )\n"
   ]
  },
  {
   "cell_type": "markdown",
   "id": "063cc58f",
   "metadata": {},
   "source": [
    "Видим, что распределения рейтингов для платформ Xone и PC визуально похожи, однако гистограмма для PC менее плотная"
   ]
  },
  {
   "cell_type": "code",
   "execution_count": 40,
   "id": "93b61731",
   "metadata": {
    "scrolled": false
   },
   "outputs": [
    {
     "name": "stdout",
     "output_type": "stream",
     "text": [
      "PC:\n"
     ]
    },
    {
     "data": {
      "text/html": [
       "<div>\n",
       "<style scoped>\n",
       "    .dataframe tbody tr th:only-of-type {\n",
       "        vertical-align: middle;\n",
       "    }\n",
       "\n",
       "    .dataframe tbody tr th {\n",
       "        vertical-align: top;\n",
       "    }\n",
       "\n",
       "    .dataframe thead th {\n",
       "        text-align: right;\n",
       "    }\n",
       "</style>\n",
       "<table border=\"1\" class=\"dataframe\">\n",
       "  <thead>\n",
       "    <tr style=\"text-align: right;\">\n",
       "      <th></th>\n",
       "      <th>user_score</th>\n",
       "    </tr>\n",
       "  </thead>\n",
       "  <tbody>\n",
       "    <tr>\n",
       "      <th>Mean</th>\n",
       "      <td>6.269678</td>\n",
       "    </tr>\n",
       "    <tr>\n",
       "      <th>Std. dev</th>\n",
       "      <td>1.742381</td>\n",
       "    </tr>\n",
       "    <tr>\n",
       "      <th>Variance</th>\n",
       "      <td>3.035893</td>\n",
       "    </tr>\n",
       "    <tr>\n",
       "      <th>Count</th>\n",
       "      <td>155.000000</td>\n",
       "    </tr>\n",
       "  </tbody>\n",
       "</table>\n",
       "</div>"
      ],
      "text/plain": [
       "          user_score\n",
       "Mean        6.269678\n",
       "Std. dev    1.742381\n",
       "Variance    3.035893\n",
       "Count     155.000000"
      ]
     },
     "metadata": {},
     "output_type": "display_data"
    },
    {
     "name": "stdout",
     "output_type": "stream",
     "text": [
      "XOne:\n"
     ]
    },
    {
     "data": {
      "text/html": [
       "<div>\n",
       "<style scoped>\n",
       "    .dataframe tbody tr th:only-of-type {\n",
       "        vertical-align: middle;\n",
       "    }\n",
       "\n",
       "    .dataframe tbody tr th {\n",
       "        vertical-align: top;\n",
       "    }\n",
       "\n",
       "    .dataframe thead th {\n",
       "        text-align: right;\n",
       "    }\n",
       "</style>\n",
       "<table border=\"1\" class=\"dataframe\">\n",
       "  <thead>\n",
       "    <tr style=\"text-align: right;\">\n",
       "      <th></th>\n",
       "      <th>user_score</th>\n",
       "    </tr>\n",
       "  </thead>\n",
       "  <tbody>\n",
       "    <tr>\n",
       "      <th>Mean</th>\n",
       "      <td>6.521429</td>\n",
       "    </tr>\n",
       "    <tr>\n",
       "      <th>Std. dev</th>\n",
       "      <td>1.380941</td>\n",
       "    </tr>\n",
       "    <tr>\n",
       "      <th>Variance</th>\n",
       "      <td>1.906997</td>\n",
       "    </tr>\n",
       "    <tr>\n",
       "      <th>Count</th>\n",
       "      <td>182.000000</td>\n",
       "    </tr>\n",
       "  </tbody>\n",
       "</table>\n",
       "</div>"
      ],
      "text/plain": [
       "          user_score\n",
       "Mean        6.521429\n",
       "Std. dev    1.380941\n",
       "Variance    1.906997\n",
       "Count     182.000000"
      ]
     },
     "metadata": {},
     "output_type": "display_data"
    }
   ],
   "source": [
    "# Посчитаем статичстические параметры для пользовательских рейтингов \n",
    "cols = ['user_score']\n",
    "\n",
    "print('PC:')\n",
    "\n",
    "display(pd.DataFrame([df.query('platform == \"PC\"')[cols].mean(),\n",
    "                      df.query('platform == \"PC\"')[cols].std(),\n",
    "                      df.query('platform == \"PC\"')[cols].var(),\n",
    "                      df.query('platform == \"PC\"')[cols].count()], index=['Mean', 'Std. dev', 'Variance', 'Count']))\n",
    "\n",
    "print('XOne:')\n",
    "\n",
    "display(pd.DataFrame([df.query('platform == \"XOne\"')[cols].mean(),\n",
    "                      df.query('platform == \"XOne\"')[cols].std(),\n",
    "                      df.query('platform == \"XOne\"')[cols].var(),\n",
    "                      df.query('platform == \"XOne\"')[cols].count()], index=['Mean', 'Std. dev', 'Variance', 'Count']))"
   ]
  },
  {
   "cell_type": "markdown",
   "id": "c25eb369",
   "metadata": {},
   "source": [
    "Видим, что что на имеющейся выборке дисперсии рейтингов в зависимости от платформы отличаются (var=3 для PC против var=1.9 для Xone), поэтому при проверке гипотез стоит учитывать данный факт."
   ]
  },
  {
   "cell_type": "markdown",
   "id": "57898cf8",
   "metadata": {},
   "source": [
    "Сформулируем нулевую и альтернативную гипотезы:"
   ]
  },
  {
   "cell_type": "markdown",
   "id": "b61ffd76",
   "metadata": {},
   "source": [
    "- H0: Средние пользовательские рейтинги платформ Xbox One и PC одинаковые\n",
    "- H1: Средние пользовательские рейтинги платформы Xbox One и PC отличаются"
   ]
  },
  {
   "cell_type": "code",
   "execution_count": 41,
   "id": "08d591a9",
   "metadata": {
    "scrolled": true
   },
   "outputs": [
    {
     "name": "stdout",
     "output_type": "stream",
     "text": [
      "p-значение: 0.14759702913383088\n",
      "Не отвергаем нулевую гипотезу\n"
     ]
    }
   ],
   "source": [
    "sample_pc = df.query('platform == \"PC\"').user_score.dropna()\n",
    "sample_xone = df.query('platform == \"XOne\"').user_score.dropna()\n",
    "\n",
    "# Так как рейтинги пользователей для разных платформ не зависят друг от друга,\n",
    "# будем сиспользовать t-test для сравнения средних значений двух независимых выборок\n",
    "\n",
    "results = st.ttest_ind(sample_pc,\n",
    "                       sample_xone,\n",
    "                       equal_var = False) # дисперсии не считаем равными\n",
    "\n",
    "print(f'p-значение: {results.pvalue}')\n",
    "\n",
    "print('Не отвергаем нулевую гипотезу') if results.pvalue >= alpha else print('Отвергаем нулевую гипотезу')"
   ]
  },
  {
   "cell_type": "markdown",
   "id": "9e192107",
   "metadata": {},
   "source": [
    "#### Средние пользовательские рейтинги жанров Action и Sports разные"
   ]
  },
  {
   "cell_type": "code",
   "execution_count": 42,
   "id": "9ff180af",
   "metadata": {},
   "outputs": [
    {
     "data": {
      "text/plain": [
       "<AxesSubplot:xlabel='user_score', ylabel='Density'>"
      ]
     },
     "execution_count": 42,
     "metadata": {},
     "output_type": "execute_result"
    },
    {
     "data": {
      "image/png": "[encoded data removed]",
      "text/plain": [
       "<Figure size 576x360 with 1 Axes>"
      ]
     },
     "metadata": {},
     "output_type": "display_data"
    }
   ],
   "source": [
    "# Построим гистограммы для пользовательских рейтингов в зависимости от жанров \n",
    "plt.figure(figsize=(8,5))\n",
    "\n",
    "sns.histplot(data = df.query('genre == \"Action\" or genre == \"Sports\"'), \n",
    "                 x = 'user_score', \n",
    "                 hue = 'genre', \n",
    "                 kde = True,\n",
    "                 bins = 30,\n",
    "                 stat=\"density\",\n",
    "                 fill = False,\n",
    "                 common_norm = False\n",
    "               \n",
    "                )\n"
   ]
  },
  {
   "cell_type": "markdown",
   "id": "b3edad78",
   "metadata": {},
   "source": [
    "Видим, что распределения рейтингов для жанров Action и Sports визуально существенно различаются. Гистрограмма для Action имеет вид скошенного нормального распределения, гистограмма для Sports меньше напоминает нормальное распределение и имеет больший разброс значений.  "
   ]
  },
  {
   "cell_type": "code",
   "execution_count": 43,
   "id": "5eb6b210",
   "metadata": {
    "scrolled": false
   },
   "outputs": [
    {
     "name": "stdout",
     "output_type": "stream",
     "text": [
      "Action:\n"
     ]
    },
    {
     "data": {
      "text/html": [
       "<div>\n",
       "<style scoped>\n",
       "    .dataframe tbody tr th:only-of-type {\n",
       "        vertical-align: middle;\n",
       "    }\n",
       "\n",
       "    .dataframe tbody tr th {\n",
       "        vertical-align: top;\n",
       "    }\n",
       "\n",
       "    .dataframe thead th {\n",
       "        text-align: right;\n",
       "    }\n",
       "</style>\n",
       "<table border=\"1\" class=\"dataframe\">\n",
       "  <thead>\n",
       "    <tr style=\"text-align: right;\">\n",
       "      <th></th>\n",
       "      <th>user_score</th>\n",
       "    </tr>\n",
       "  </thead>\n",
       "  <tbody>\n",
       "    <tr>\n",
       "      <th>Mean</th>\n",
       "      <td>6.837532</td>\n",
       "    </tr>\n",
       "    <tr>\n",
       "      <th>Std. dev</th>\n",
       "      <td>1.330173</td>\n",
       "    </tr>\n",
       "    <tr>\n",
       "      <th>Variance</th>\n",
       "      <td>1.769361</td>\n",
       "    </tr>\n",
       "    <tr>\n",
       "      <th>Count</th>\n",
       "      <td>389.000000</td>\n",
       "    </tr>\n",
       "  </tbody>\n",
       "</table>\n",
       "</div>"
      ],
      "text/plain": [
       "          user_score\n",
       "Mean        6.837532\n",
       "Std. dev    1.330173\n",
       "Variance    1.769361\n",
       "Count     389.000000"
      ]
     },
     "metadata": {},
     "output_type": "display_data"
    },
    {
     "name": "stdout",
     "output_type": "stream",
     "text": [
      "Sports:\n"
     ]
    },
    {
     "data": {
      "text/html": [
       "<div>\n",
       "<style scoped>\n",
       "    .dataframe tbody tr th:only-of-type {\n",
       "        vertical-align: middle;\n",
       "    }\n",
       "\n",
       "    .dataframe tbody tr th {\n",
       "        vertical-align: top;\n",
       "    }\n",
       "\n",
       "    .dataframe thead th {\n",
       "        text-align: right;\n",
       "    }\n",
       "</style>\n",
       "<table border=\"1\" class=\"dataframe\">\n",
       "  <thead>\n",
       "    <tr style=\"text-align: right;\">\n",
       "      <th></th>\n",
       "      <th>user_score</th>\n",
       "    </tr>\n",
       "  </thead>\n",
       "  <tbody>\n",
       "    <tr>\n",
       "      <th>Mean</th>\n",
       "      <td>5.238125</td>\n",
       "    </tr>\n",
       "    <tr>\n",
       "      <th>Std. dev</th>\n",
       "      <td>1.783427</td>\n",
       "    </tr>\n",
       "    <tr>\n",
       "      <th>Variance</th>\n",
       "      <td>3.180613</td>\n",
       "    </tr>\n",
       "    <tr>\n",
       "      <th>Count</th>\n",
       "      <td>160.000000</td>\n",
       "    </tr>\n",
       "  </tbody>\n",
       "</table>\n",
       "</div>"
      ],
      "text/plain": [
       "          user_score\n",
       "Mean        5.238125\n",
       "Std. dev    1.783427\n",
       "Variance    3.180613\n",
       "Count     160.000000"
      ]
     },
     "metadata": {},
     "output_type": "display_data"
    }
   ],
   "source": [
    "# Посчитаем статичстические параметры для пользовательских рейтингов в зависимости от жанров \n",
    "cols = ['user_score']\n",
    "\n",
    "print('Action:')\n",
    "\n",
    "display(pd.DataFrame([df.query('genre == \"Action\"')[cols].mean(),\n",
    "                      df.query('genre == \"Action\"')[cols].std(),\n",
    "                      df.query('genre == \"Action\"')[cols].var(),\n",
    "                      df.query('genre == \"Action\"')[cols].count()], index=['Mean', 'Std. dev', 'Variance', 'Count']))\n",
    "\n",
    "print('Sports:')\n",
    "\n",
    "display(pd.DataFrame([df.query('genre == \"Sports\"')[cols].mean(),\n",
    "                      df.query('genre == \"Sports\"')[cols].std(),\n",
    "                      df.query('genre == \"Sports\"')[cols].var(),\n",
    "                      df.query('genre == \"Sports\"')[cols].count()], index=['Mean', 'Std. dev', 'Variance', 'Count']))"
   ]
  },
  {
   "cell_type": "markdown",
   "id": "17069c88",
   "metadata": {},
   "source": [
    "Видим, что на имеющейся выборке дисперсии рейтингов в зависимости от платформы отличаются (var=3.2 для PC против var=1.8 для Xone), при проверке гипотез необходимо это учитывать."
   ]
  },
  {
   "cell_type": "markdown",
   "id": "b0ff8ea5",
   "metadata": {},
   "source": [
    "Сформулируем нулевую и альтернативную гипотезы:\n",
    "\n",
    "- H0: Средние пользовательские рейтинги жанров Action и Sports одинаковые\n",
    "- H1: Средние пользовательские рейтинги жанров Action и Sports отличаются"
   ]
  },
  {
   "cell_type": "code",
   "execution_count": 44,
   "id": "0d2c4847",
   "metadata": {
    "scrolled": true
   },
   "outputs": [
    {
     "name": "stdout",
     "output_type": "stream",
     "text": [
      "p-значение: 1.445999656754529e-20\n",
      "Отвергаем нулевую гипотезу\n"
     ]
    }
   ],
   "source": [
    "sample_action = df.query('genre == \"Action\"').user_score.dropna()\n",
    "sample_sports = df.query('genre == \"Sports\"').user_score.dropna()\n",
    "\n",
    "# Так как рейтинги пользователей для разных жанров не зависят друг от друга,\n",
    "# будем использовать t-test для сравнения средних значений двух независимых выборок\n",
    "\n",
    "results = st.ttest_ind(sample_action,\n",
    "                       sample_sports,\n",
    "                       equal_var = False) # дисперсии не считаем равными\n",
    "\n",
    "print(f'p-значение: {results.pvalue}')\n",
    "\n",
    "print('Не отвергаем нулевую гипотезу') if results.pvalue >= alpha else print('Отвергаем нулевую гипотезу')"
   ]
  },
  {
   "cell_type": "markdown",
   "id": "71132d45",
   "metadata": {},
   "source": [
    "Вывод: \n",
    "- При проверке гипотезы о равенстве средних пользовательских рейтингов платформ Xbox One и PC, P-значение оказалось равным 0.14759702913383088, что выше заданного порогового значения $\\alpha$. При таком высоком P-значении отвергнуть H0 не представляется возможным. Таким образом, средние пользовательские рейтинги платформ Xbox One и PC одинаковые\n",
    "\n",
    "- При проверке гипотезы о равенстве средних пользовательских рейтингов жанров Action и Sports, P-значение оказалось равным 1.445999656754529e-20, что существенно меньше заданного порогового значения $\\alpha$. При таком P-значении нулевая гипотеза H0 была отвергнута. Таким образом, средние пользовательские рейтинги жанров Action и Sports отличаются."
   ]
  },
  {
   "cell_type": "markdown",
   "id": "2fd353aa",
   "metadata": {},
   "source": [
    "Видим, что в использование более строгого ограничения на параметр $\\alpha$ (например, $\\alpha$ = 0.01) не повлияло бы на полученные выводы."
   ]
  },
  {
   "cell_type": "markdown",
   "id": "e29c8b11",
   "metadata": {},
   "source": [
    "## Общий вывод"
   ]
  },
  {
   "cell_type": "markdown",
   "id": "78dc2381",
   "metadata": {},
   "source": [
    "В рамках проекта был проведен анализ данных по продажам видеоигр с 1980 по 2016 год. Были выявлены определяющие успешность игры закономерности.\n",
    "\n",
    "Исходные данные были подготовлены и проверены на ошибки. По возможности в данных были заполнены пропуски (где это уместно). Дополнительно были расчитаны суммарные продажи во всех регионах.\n",
    "В ходе исследовательского анализа данных было показано, что пиковые значения выпуска игр приходится на 2008-2009 годы. До 1994 года выпуск игр был минимальным, поэтому привлекать к дальнейшему анализу данные до 1994 года не имеет смысла. Было выявлено, что характерный срок, за который появляются новые и исчезают старые платформы: 3-4 года. Показано, что к 2015-2016г. из особо-продаваемых платформ наиболее популярной является PS4, выпуск игр на которой начался еще в 2013 году. Чтобы не учитывать при анализе устаревшие тренды, для последующего анализа 2013 год был принят за начало актуального периода. \n",
    "\n",
    "В ходе исследовательского анализа данных было выявлено:\n",
    "- За весь период с 2013г. по 2016г. по суммарным продажам лидируют платформы PS4, PS3 и XOne\n",
    "- Продажи игр на платформах PS4 и XOne к 2015-2016г. растут. У PS4 лучшие суммарные продажи в 2015 году. Продажи игр на всех других платформах стремительно падают\n",
    "- PS4 и XOne можно выделить как потенциально прибыльные платформы\n",
    "- Линейной зависимости между отзывами пользователей и общими продажами нет, коэффициент корреляции: -0.07. На диаграммах рассеивания также зависимости не прослеживается\n",
    "- Между отзывами критиков и общимим продажами коэффициент корреляции 0.42, что говорит об отсутствии уверенной линейной взаимосвязи между признаками. Об этом говорит также график рассеяния - прослеживается некоторая завимость, которая лучше описывается нелинейной функцией, например, экспонентой.\n",
    "- Самые прибыльные жанры (с наибольшим уровнем распределений общих продаж, не учитывая выбросов): Shooter, Sports, Platform\n",
    "- Наименее прибыльные жанры (с наименьшим уровнем распределений продаж): Puzzle, Adventure, Strategy\n",
    "\n",
    "В рамках проекта был составлен портрет пользователя для регионов NA, EU и JP. Портреты пользователей из Северной Америки и Европы максимально похожи. У них полностью совпадают топ-5 по популярности платформ (PS4, XOne, X360, PS3, 3DS), а также зависимость продаж от рейтинга ESRB. Топ-5 жанров также почти не отличаются - для северной Америки это Action, Shooter, Sports, Role-Playing и Misc, для Европы: Action, Shooter, Sports, Role-Playing и Racing. Больше всего у пользователей Северной Америки и Европы пользуются спросом игры категории M (игры для взрослых) , меньше всего - игры категории T (для подростков) по рейтингу ESRB.\n",
    "\n",
    "Портрет пользователя из Японии несколько отличается от портретов пользователей Северной Америки и Европы. Топ-5 плаформ для региона Япония: 3DS, PS3, PSV, PS4, WiiU. Топ-5 жанров: Role-Playing, Action, Misc, Fighting, Shooter. Зависимость продаж от рейтинга ESRB также отличается от таковой для пользователей из Европы и Америки. У японцев больше всего пользуются спросом игры для подростков (T), меньше всего - игры для пользователей от 10 лет и старше (E10+).\n",
    "\n",
    "В ходе статистического анализа были сформулированы нулевая и альтернативаня гипотезы о равенстве средних пользовательских рейтингов жанров Action и Sports:\n",
    "- H0: Средние пользовательские рейтинги жанров Action и Sports одинаковые\n",
    "\n",
    "- H1: Средние пользовательские рейтинги жанров Action и Sports отличаются\n",
    "\n",
    "Проверка гипотез выполнялась с помощью T-теста для сравнения средних значений двух независимых выборок. P-значение оказалось равным 1.446e-20, что существенно меньше заданного порогового значения  $\\alpha$. Таким образом, H0 была отвергнута. Можем считать, что cредние пользовательские рейтинги жанров Action и Sports отличаются.\n",
    "\n",
    "Для сравнения cредних пользовательских рейтингов платформ Xbox One и PC были сформулированы следующие нулевая и альтернативная гипотезы:\n",
    "- H0: Средние пользовательские рейтинги платформ Xbox One и PC одинаковые\n",
    "- H1: Средние пользовательские рейтинги платформы Xbox One и PC отличаются\n",
    "\n",
    "В данном случае также использовался T-тест для сравнения средних значений двух независимых выборок. P-значение оказалось равным 0.148, что существенно выше заданного порогового значения $\\alpha$. При таком высоком P-значении отвергнуть H0 не представляется возможным. Таким образом, можем считать, что средние пользовательские рейтинги платформ Xbox One и PC одинаковые\n",
    "\n",
    "Резюмируя результаты проведенного анализа, можно заключить, что при планировании выпуска видеоигры на 2017 год, необходимо ограничить выбор платформы на PS4 и XOne - данные платформы выделяются как потенциально наиболее прибыльные к 2017 году. Среди жанров следует рассматривать Shooter, Sports и Platform. При планировании разных кампаний по выпуску игр для Японии и Северной Америки + Европы необходимо учитывать составленные портреты пользователей (в рамках исследования показано, что портрет игрока-японца отличается от авропейца и американца)"
   ]
  }
 ],
 "metadata": {
  "ExecuteTimeLog": [
   {
    "duration": 1458,
    "start_time": "2022-04-25T11:51:57.106Z"
   },
   {
    "duration": 278,
    "start_time": "2022-04-25T11:51:58.566Z"
   },
   {
    "duration": 0,
    "start_time": "2022-04-25T11:51:58.848Z"
   },
   {
    "duration": 0,
    "start_time": "2022-04-25T11:51:58.850Z"
   },
   {
    "duration": 0,
    "start_time": "2022-04-25T11:51:58.852Z"
   },
   {
    "duration": 0,
    "start_time": "2022-04-25T11:51:58.853Z"
   },
   {
    "duration": 0,
    "start_time": "2022-04-25T11:51:58.854Z"
   },
   {
    "duration": 0,
    "start_time": "2022-04-25T11:51:58.855Z"
   },
   {
    "duration": 0,
    "start_time": "2022-04-25T11:51:58.856Z"
   },
   {
    "duration": 0,
    "start_time": "2022-04-25T11:51:58.856Z"
   },
   {
    "duration": 0,
    "start_time": "2022-04-25T11:51:58.859Z"
   },
   {
    "duration": 0,
    "start_time": "2022-04-25T11:51:58.860Z"
   },
   {
    "duration": 0,
    "start_time": "2022-04-25T11:51:58.861Z"
   },
   {
    "duration": 0,
    "start_time": "2022-04-25T11:51:58.862Z"
   },
   {
    "duration": 0,
    "start_time": "2022-04-25T11:51:58.863Z"
   },
   {
    "duration": 0,
    "start_time": "2022-04-25T11:51:58.864Z"
   },
   {
    "duration": 0,
    "start_time": "2022-04-25T11:51:58.865Z"
   },
   {
    "duration": 0,
    "start_time": "2022-04-25T11:51:58.866Z"
   },
   {
    "duration": 0,
    "start_time": "2022-04-25T11:51:58.867Z"
   },
   {
    "duration": 0,
    "start_time": "2022-04-25T11:51:58.869Z"
   },
   {
    "duration": 0,
    "start_time": "2022-04-25T11:51:58.870Z"
   },
   {
    "duration": 0,
    "start_time": "2022-04-25T11:51:58.871Z"
   },
   {
    "duration": 0,
    "start_time": "2022-04-25T11:51:58.872Z"
   },
   {
    "duration": 0,
    "start_time": "2022-04-25T11:51:58.873Z"
   },
   {
    "duration": 0,
    "start_time": "2022-04-25T11:51:58.875Z"
   },
   {
    "duration": 0,
    "start_time": "2022-04-25T11:51:58.876Z"
   },
   {
    "duration": 0,
    "start_time": "2022-04-25T11:51:58.923Z"
   },
   {
    "duration": 0,
    "start_time": "2022-04-25T11:51:58.924Z"
   },
   {
    "duration": 0,
    "start_time": "2022-04-25T11:51:58.925Z"
   },
   {
    "duration": 0,
    "start_time": "2022-04-25T11:51:58.926Z"
   },
   {
    "duration": 0,
    "start_time": "2022-04-25T11:51:58.927Z"
   },
   {
    "duration": 0,
    "start_time": "2022-04-25T11:51:58.928Z"
   },
   {
    "duration": 0,
    "start_time": "2022-04-25T11:51:58.929Z"
   },
   {
    "duration": 0,
    "start_time": "2022-04-25T11:51:58.931Z"
   },
   {
    "duration": 0,
    "start_time": "2022-04-25T11:51:58.932Z"
   },
   {
    "duration": 0,
    "start_time": "2022-04-25T11:51:58.933Z"
   },
   {
    "duration": 0,
    "start_time": "2022-04-25T11:51:58.934Z"
   },
   {
    "duration": 1,
    "start_time": "2022-04-25T11:51:58.935Z"
   },
   {
    "duration": 0,
    "start_time": "2022-04-25T11:51:58.937Z"
   },
   {
    "duration": 0,
    "start_time": "2022-04-25T11:51:58.938Z"
   },
   {
    "duration": 4,
    "start_time": "2022-04-25T11:53:05.202Z"
   },
   {
    "duration": 164,
    "start_time": "2022-04-25T11:53:05.209Z"
   },
   {
    "duration": 0,
    "start_time": "2022-04-25T11:53:05.376Z"
   },
   {
    "duration": 0,
    "start_time": "2022-04-25T11:53:05.378Z"
   },
   {
    "duration": 0,
    "start_time": "2022-04-25T11:53:05.380Z"
   },
   {
    "duration": 0,
    "start_time": "2022-04-25T11:53:05.381Z"
   },
   {
    "duration": 0,
    "start_time": "2022-04-25T11:53:05.382Z"
   },
   {
    "duration": 0,
    "start_time": "2022-04-25T11:53:05.383Z"
   },
   {
    "duration": 0,
    "start_time": "2022-04-25T11:53:05.384Z"
   },
   {
    "duration": 0,
    "start_time": "2022-04-25T11:53:05.385Z"
   },
   {
    "duration": 0,
    "start_time": "2022-04-25T11:53:05.387Z"
   },
   {
    "duration": 0,
    "start_time": "2022-04-25T11:53:05.388Z"
   },
   {
    "duration": 0,
    "start_time": "2022-04-25T11:53:05.389Z"
   },
   {
    "duration": 0,
    "start_time": "2022-04-25T11:53:05.390Z"
   },
   {
    "duration": 0,
    "start_time": "2022-04-25T11:53:05.391Z"
   },
   {
    "duration": 0,
    "start_time": "2022-04-25T11:53:05.392Z"
   },
   {
    "duration": 0,
    "start_time": "2022-04-25T11:53:05.393Z"
   },
   {
    "duration": 0,
    "start_time": "2022-04-25T11:53:05.394Z"
   },
   {
    "duration": 0,
    "start_time": "2022-04-25T11:53:05.395Z"
   },
   {
    "duration": 0,
    "start_time": "2022-04-25T11:53:05.396Z"
   },
   {
    "duration": 0,
    "start_time": "2022-04-25T11:53:05.397Z"
   },
   {
    "duration": 0,
    "start_time": "2022-04-25T11:53:05.397Z"
   },
   {
    "duration": 0,
    "start_time": "2022-04-25T11:53:05.398Z"
   },
   {
    "duration": 0,
    "start_time": "2022-04-25T11:53:05.399Z"
   },
   {
    "duration": 0,
    "start_time": "2022-04-25T11:53:05.400Z"
   },
   {
    "duration": 0,
    "start_time": "2022-04-25T11:53:05.401Z"
   },
   {
    "duration": 0,
    "start_time": "2022-04-25T11:53:05.402Z"
   },
   {
    "duration": 0,
    "start_time": "2022-04-25T11:53:05.403Z"
   },
   {
    "duration": 0,
    "start_time": "2022-04-25T11:53:05.404Z"
   },
   {
    "duration": 0,
    "start_time": "2022-04-25T11:53:05.405Z"
   },
   {
    "duration": 0,
    "start_time": "2022-04-25T11:53:05.406Z"
   },
   {
    "duration": 0,
    "start_time": "2022-04-25T11:53:05.407Z"
   },
   {
    "duration": 0,
    "start_time": "2022-04-25T11:53:05.408Z"
   },
   {
    "duration": 0,
    "start_time": "2022-04-25T11:53:05.409Z"
   },
   {
    "duration": 0,
    "start_time": "2022-04-25T11:53:05.410Z"
   },
   {
    "duration": 0,
    "start_time": "2022-04-25T11:53:05.411Z"
   },
   {
    "duration": 0,
    "start_time": "2022-04-25T11:53:05.422Z"
   },
   {
    "duration": 0,
    "start_time": "2022-04-25T11:53:05.423Z"
   },
   {
    "duration": 0,
    "start_time": "2022-04-25T11:53:05.424Z"
   },
   {
    "duration": 0,
    "start_time": "2022-04-25T11:53:05.425Z"
   },
   {
    "duration": 0,
    "start_time": "2022-04-25T11:53:05.427Z"
   },
   {
    "duration": 3,
    "start_time": "2022-04-25T11:53:18.875Z"
   },
   {
    "duration": 4,
    "start_time": "2022-04-25T11:53:18.880Z"
   },
   {
    "duration": 53,
    "start_time": "2022-04-25T11:53:18.886Z"
   },
   {
    "duration": 21,
    "start_time": "2022-04-25T11:53:18.941Z"
   },
   {
    "duration": 16,
    "start_time": "2022-04-25T11:53:18.964Z"
   },
   {
    "duration": 4,
    "start_time": "2022-04-25T11:53:18.981Z"
   },
   {
    "duration": 4,
    "start_time": "2022-04-25T11:53:19.023Z"
   },
   {
    "duration": 7,
    "start_time": "2022-04-25T11:53:19.029Z"
   },
   {
    "duration": 5,
    "start_time": "2022-04-25T11:53:19.038Z"
   },
   {
    "duration": 8,
    "start_time": "2022-04-25T11:53:19.045Z"
   },
   {
    "duration": 6,
    "start_time": "2022-04-25T11:53:19.054Z"
   },
   {
    "duration": 10,
    "start_time": "2022-04-25T11:53:19.061Z"
   },
   {
    "duration": 7,
    "start_time": "2022-04-25T11:53:19.072Z"
   },
   {
    "duration": 55,
    "start_time": "2022-04-25T11:53:19.081Z"
   },
   {
    "duration": 15,
    "start_time": "2022-04-25T11:53:19.137Z"
   },
   {
    "duration": 16,
    "start_time": "2022-04-25T11:53:19.153Z"
   },
   {
    "duration": 10,
    "start_time": "2022-04-25T11:53:19.171Z"
   },
   {
    "duration": 5,
    "start_time": "2022-04-25T11:53:19.183Z"
   },
   {
    "duration": 43,
    "start_time": "2022-04-25T11:53:19.190Z"
   },
   {
    "duration": 345,
    "start_time": "2022-04-25T11:53:19.235Z"
   },
   {
    "duration": 6,
    "start_time": "2022-04-25T11:53:19.581Z"
   },
   {
    "duration": 34,
    "start_time": "2022-04-25T11:53:19.589Z"
   },
   {
    "duration": 926,
    "start_time": "2022-04-25T11:53:19.625Z"
   },
   {
    "duration": 8,
    "start_time": "2022-04-25T11:53:20.553Z"
   },
   {
    "duration": 21,
    "start_time": "2022-04-25T11:53:20.563Z"
   },
   {
    "duration": 508,
    "start_time": "2022-04-25T11:53:20.587Z"
   },
   {
    "duration": 451,
    "start_time": "2022-04-25T11:53:21.098Z"
   },
   {
    "duration": 13,
    "start_time": "2022-04-25T11:53:21.554Z"
   },
   {
    "duration": 1619,
    "start_time": "2022-04-25T11:53:21.568Z"
   },
   {
    "duration": 6469,
    "start_time": "2022-04-25T11:53:23.189Z"
   },
   {
    "duration": 299,
    "start_time": "2022-04-25T11:53:29.660Z"
   },
   {
    "duration": 615,
    "start_time": "2022-04-25T11:53:29.961Z"
   },
   {
    "duration": 745,
    "start_time": "2022-04-25T11:53:30.578Z"
   },
   {
    "duration": 196,
    "start_time": "2022-04-25T11:53:31.324Z"
   },
   {
    "duration": 3,
    "start_time": "2022-04-25T11:53:31.522Z"
   },
   {
    "duration": 318,
    "start_time": "2022-04-25T11:53:31.527Z"
   },
   {
    "duration": 41,
    "start_time": "2022-04-25T11:53:31.847Z"
   },
   {
    "duration": 41,
    "start_time": "2022-04-25T11:53:31.890Z"
   },
   {
    "duration": 467,
    "start_time": "2022-04-25T11:53:31.933Z"
   },
   {
    "duration": 66,
    "start_time": "2022-04-25T11:53:32.403Z"
   },
   {
    "duration": 16,
    "start_time": "2022-04-25T11:53:32.471Z"
   },
   {
    "duration": 217,
    "start_time": "2022-04-25T11:55:06.790Z"
   },
   {
    "duration": 1863,
    "start_time": "2022-04-26T06:23:26.273Z"
   },
   {
    "duration": 196,
    "start_time": "2022-04-26T06:23:28.139Z"
   },
   {
    "duration": 0,
    "start_time": "2022-04-26T06:23:28.338Z"
   },
   {
    "duration": 0,
    "start_time": "2022-04-26T06:23:28.339Z"
   },
   {
    "duration": 0,
    "start_time": "2022-04-26T06:23:28.340Z"
   },
   {
    "duration": 0,
    "start_time": "2022-04-26T06:23:28.342Z"
   },
   {
    "duration": 0,
    "start_time": "2022-04-26T06:23:28.343Z"
   },
   {
    "duration": 0,
    "start_time": "2022-04-26T06:23:28.344Z"
   },
   {
    "duration": 0,
    "start_time": "2022-04-26T06:23:28.346Z"
   },
   {
    "duration": 0,
    "start_time": "2022-04-26T06:23:28.347Z"
   },
   {
    "duration": 0,
    "start_time": "2022-04-26T06:23:28.348Z"
   },
   {
    "duration": 0,
    "start_time": "2022-04-26T06:23:28.349Z"
   },
   {
    "duration": 0,
    "start_time": "2022-04-26T06:23:28.351Z"
   },
   {
    "duration": 0,
    "start_time": "2022-04-26T06:23:28.352Z"
   },
   {
    "duration": 0,
    "start_time": "2022-04-26T06:23:28.382Z"
   },
   {
    "duration": 0,
    "start_time": "2022-04-26T06:23:28.383Z"
   },
   {
    "duration": 0,
    "start_time": "2022-04-26T06:23:28.384Z"
   },
   {
    "duration": 0,
    "start_time": "2022-04-26T06:23:28.386Z"
   },
   {
    "duration": 0,
    "start_time": "2022-04-26T06:23:28.387Z"
   },
   {
    "duration": 0,
    "start_time": "2022-04-26T06:23:28.388Z"
   },
   {
    "duration": 0,
    "start_time": "2022-04-26T06:23:28.390Z"
   },
   {
    "duration": 0,
    "start_time": "2022-04-26T06:23:28.391Z"
   },
   {
    "duration": 0,
    "start_time": "2022-04-26T06:23:28.392Z"
   },
   {
    "duration": 57,
    "start_time": "2022-04-26T06:23:41.350Z"
   },
   {
    "duration": 32,
    "start_time": "2022-04-26T06:23:42.702Z"
   },
   {
    "duration": 22,
    "start_time": "2022-04-26T06:23:42.887Z"
   },
   {
    "duration": 4,
    "start_time": "2022-04-26T06:23:44.518Z"
   },
   {
    "duration": 6,
    "start_time": "2022-04-26T06:23:44.702Z"
   },
   {
    "duration": 7,
    "start_time": "2022-04-26T06:23:44.889Z"
   },
   {
    "duration": 6,
    "start_time": "2022-04-26T06:23:45.087Z"
   },
   {
    "duration": 10,
    "start_time": "2022-04-26T06:23:46.006Z"
   },
   {
    "duration": 7,
    "start_time": "2022-04-26T06:23:46.383Z"
   },
   {
    "duration": 9,
    "start_time": "2022-04-26T06:23:48.054Z"
   },
   {
    "duration": 8,
    "start_time": "2022-04-26T06:23:48.838Z"
   },
   {
    "duration": 23,
    "start_time": "2022-04-26T06:23:49.263Z"
   },
   {
    "duration": 19,
    "start_time": "2022-04-26T06:23:50.014Z"
   },
   {
    "duration": 17,
    "start_time": "2022-04-26T06:23:51.014Z"
   },
   {
    "duration": 14,
    "start_time": "2022-04-26T06:23:54.245Z"
   },
   {
    "duration": 5,
    "start_time": "2022-04-26T06:24:23.198Z"
   },
   {
    "duration": 57,
    "start_time": "2022-04-26T06:24:23.205Z"
   },
   {
    "duration": 23,
    "start_time": "2022-04-26T06:24:23.265Z"
   },
   {
    "duration": 35,
    "start_time": "2022-04-26T06:24:23.290Z"
   },
   {
    "duration": 4,
    "start_time": "2022-04-26T06:24:23.328Z"
   },
   {
    "duration": 28,
    "start_time": "2022-04-26T06:24:23.334Z"
   },
   {
    "duration": 27,
    "start_time": "2022-04-26T06:24:23.364Z"
   },
   {
    "duration": 22,
    "start_time": "2022-04-26T06:24:23.394Z"
   },
   {
    "duration": 39,
    "start_time": "2022-04-26T06:24:23.418Z"
   },
   {
    "duration": 26,
    "start_time": "2022-04-26T06:24:23.460Z"
   },
   {
    "duration": 54,
    "start_time": "2022-04-26T06:24:23.489Z"
   },
   {
    "duration": 17,
    "start_time": "2022-04-26T06:24:23.546Z"
   },
   {
    "duration": 38,
    "start_time": "2022-04-26T06:24:23.567Z"
   },
   {
    "duration": 21,
    "start_time": "2022-04-26T06:24:23.608Z"
   },
   {
    "duration": 15,
    "start_time": "2022-04-26T06:24:23.633Z"
   },
   {
    "duration": 37,
    "start_time": "2022-04-26T06:24:23.650Z"
   },
   {
    "duration": 6,
    "start_time": "2022-04-26T06:24:23.690Z"
   },
   {
    "duration": 38,
    "start_time": "2022-04-26T06:24:23.698Z"
   },
   {
    "duration": 603,
    "start_time": "2022-04-26T06:24:23.738Z"
   },
   {
    "duration": 7,
    "start_time": "2022-04-26T06:24:24.343Z"
   },
   {
    "duration": 44,
    "start_time": "2022-04-26T06:24:24.352Z"
   },
   {
    "duration": 1096,
    "start_time": "2022-04-26T06:24:24.398Z"
   },
   {
    "duration": 10,
    "start_time": "2022-04-26T06:24:30.727Z"
   },
   {
    "duration": 35,
    "start_time": "2022-04-26T06:24:34.415Z"
   },
   {
    "duration": 36,
    "start_time": "2022-04-26T06:24:37.814Z"
   },
   {
    "duration": 1510,
    "start_time": "2022-04-26T06:29:48.729Z"
   },
   {
    "duration": 52,
    "start_time": "2022-04-26T06:29:50.242Z"
   },
   {
    "duration": 28,
    "start_time": "2022-04-26T06:29:50.297Z"
   },
   {
    "duration": 20,
    "start_time": "2022-04-26T06:29:50.327Z"
   },
   {
    "duration": 7,
    "start_time": "2022-04-26T06:29:50.350Z"
   },
   {
    "duration": 8,
    "start_time": "2022-04-26T06:29:50.381Z"
   },
   {
    "duration": 8,
    "start_time": "2022-04-26T06:29:50.391Z"
   },
   {
    "duration": 12,
    "start_time": "2022-04-26T06:29:50.401Z"
   },
   {
    "duration": 14,
    "start_time": "2022-04-26T06:29:50.415Z"
   },
   {
    "duration": 7,
    "start_time": "2022-04-26T06:29:50.431Z"
   },
   {
    "duration": 43,
    "start_time": "2022-04-26T06:29:50.440Z"
   },
   {
    "duration": 9,
    "start_time": "2022-04-26T06:29:50.485Z"
   },
   {
    "duration": 23,
    "start_time": "2022-04-26T06:29:50.496Z"
   },
   {
    "duration": 19,
    "start_time": "2022-04-26T06:29:50.523Z"
   },
   {
    "duration": 49,
    "start_time": "2022-04-26T06:29:50.545Z"
   },
   {
    "duration": 15,
    "start_time": "2022-04-26T06:29:50.596Z"
   },
   {
    "duration": 6,
    "start_time": "2022-04-26T06:29:50.613Z"
   },
   {
    "duration": 22,
    "start_time": "2022-04-26T06:29:50.622Z"
   },
   {
    "duration": 596,
    "start_time": "2022-04-26T06:29:50.646Z"
   },
   {
    "duration": 7,
    "start_time": "2022-04-26T06:29:51.244Z"
   },
   {
    "duration": 42,
    "start_time": "2022-04-26T06:29:51.253Z"
   },
   {
    "duration": 1067,
    "start_time": "2022-04-26T06:29:51.298Z"
   },
   {
    "duration": 18,
    "start_time": "2022-04-26T06:29:52.367Z"
   },
   {
    "duration": 12,
    "start_time": "2022-04-26T06:29:52.388Z"
   },
   {
    "duration": 557,
    "start_time": "2022-04-26T06:29:52.402Z"
   },
   {
    "duration": 473,
    "start_time": "2022-04-26T06:29:52.961Z"
   },
   {
    "duration": 13,
    "start_time": "2022-04-26T06:29:53.436Z"
   },
   {
    "duration": 2509,
    "start_time": "2022-04-26T06:29:53.452Z"
   },
   {
    "duration": 10473,
    "start_time": "2022-04-26T06:29:55.964Z"
   },
   {
    "duration": 532,
    "start_time": "2022-04-26T06:30:06.439Z"
   },
   {
    "duration": 1042,
    "start_time": "2022-04-26T06:30:06.974Z"
   },
   {
    "duration": 1428,
    "start_time": "2022-04-26T06:30:08.018Z"
   },
   {
    "duration": 359,
    "start_time": "2022-04-26T06:30:09.448Z"
   },
   {
    "duration": 4,
    "start_time": "2022-04-26T06:30:09.809Z"
   },
   {
    "duration": 546,
    "start_time": "2022-04-26T06:30:09.815Z"
   },
   {
    "duration": 70,
    "start_time": "2022-04-26T06:30:10.363Z"
   },
   {
    "duration": 15,
    "start_time": "2022-04-26T06:30:10.436Z"
   },
   {
    "duration": 489,
    "start_time": "2022-04-26T06:30:10.482Z"
   },
   {
    "duration": 68,
    "start_time": "2022-04-26T06:30:10.973Z"
   },
   {
    "duration": 44,
    "start_time": "2022-04-26T06:30:11.044Z"
   },
   {
    "duration": 4,
    "start_time": "2022-04-26T06:33:50.797Z"
   },
   {
    "duration": 96,
    "start_time": "2022-04-26T06:35:37.870Z"
   },
   {
    "duration": 112,
    "start_time": "2022-04-26T06:35:56.749Z"
   },
   {
    "duration": 152,
    "start_time": "2022-04-26T06:50:02.652Z"
   },
   {
    "duration": 95,
    "start_time": "2022-04-26T06:50:07.628Z"
   },
   {
    "duration": 5,
    "start_time": "2022-04-26T06:50:10.109Z"
   },
   {
    "duration": 6,
    "start_time": "2022-04-26T06:50:19.964Z"
   },
   {
    "duration": 15468,
    "start_time": "2022-04-26T06:50:44.717Z"
   },
   {
    "duration": 10498,
    "start_time": "2022-04-26T06:53:57.045Z"
   },
   {
    "duration": 1498,
    "start_time": "2022-04-26T06:54:39.030Z"
   },
   {
    "duration": 96,
    "start_time": "2022-04-26T06:54:40.531Z"
   },
   {
    "duration": 139,
    "start_time": "2022-04-26T06:54:40.629Z"
   },
   {
    "duration": 0,
    "start_time": "2022-04-26T06:54:40.772Z"
   },
   {
    "duration": 0,
    "start_time": "2022-04-26T06:54:40.774Z"
   },
   {
    "duration": 0,
    "start_time": "2022-04-26T06:54:40.775Z"
   },
   {
    "duration": 0,
    "start_time": "2022-04-26T06:54:40.782Z"
   },
   {
    "duration": 0,
    "start_time": "2022-04-26T06:54:40.784Z"
   },
   {
    "duration": 0,
    "start_time": "2022-04-26T06:54:40.785Z"
   },
   {
    "duration": 0,
    "start_time": "2022-04-26T06:54:40.787Z"
   },
   {
    "duration": 0,
    "start_time": "2022-04-26T06:54:40.788Z"
   },
   {
    "duration": 0,
    "start_time": "2022-04-26T06:54:40.790Z"
   },
   {
    "duration": 0,
    "start_time": "2022-04-26T06:54:40.791Z"
   },
   {
    "duration": 0,
    "start_time": "2022-04-26T06:54:40.793Z"
   },
   {
    "duration": 0,
    "start_time": "2022-04-26T06:54:40.794Z"
   },
   {
    "duration": 0,
    "start_time": "2022-04-26T06:54:40.796Z"
   },
   {
    "duration": 0,
    "start_time": "2022-04-26T06:54:40.797Z"
   },
   {
    "duration": 0,
    "start_time": "2022-04-26T06:54:40.798Z"
   },
   {
    "duration": 0,
    "start_time": "2022-04-26T06:54:40.799Z"
   },
   {
    "duration": 0,
    "start_time": "2022-04-26T06:54:40.801Z"
   },
   {
    "duration": 0,
    "start_time": "2022-04-26T06:54:40.803Z"
   },
   {
    "duration": 0,
    "start_time": "2022-04-26T06:54:40.804Z"
   },
   {
    "duration": 0,
    "start_time": "2022-04-26T06:54:40.805Z"
   },
   {
    "duration": 0,
    "start_time": "2022-04-26T06:54:40.807Z"
   },
   {
    "duration": 1,
    "start_time": "2022-04-26T06:54:40.808Z"
   },
   {
    "duration": 0,
    "start_time": "2022-04-26T06:54:40.810Z"
   },
   {
    "duration": 0,
    "start_time": "2022-04-26T06:54:40.811Z"
   },
   {
    "duration": 0,
    "start_time": "2022-04-26T06:54:40.813Z"
   },
   {
    "duration": 0,
    "start_time": "2022-04-26T06:54:40.814Z"
   },
   {
    "duration": 0,
    "start_time": "2022-04-26T06:54:40.816Z"
   },
   {
    "duration": 0,
    "start_time": "2022-04-26T06:54:40.818Z"
   },
   {
    "duration": 0,
    "start_time": "2022-04-26T06:54:40.819Z"
   },
   {
    "duration": 0,
    "start_time": "2022-04-26T06:54:40.881Z"
   },
   {
    "duration": 0,
    "start_time": "2022-04-26T06:54:40.883Z"
   },
   {
    "duration": 0,
    "start_time": "2022-04-26T06:54:40.885Z"
   },
   {
    "duration": 0,
    "start_time": "2022-04-26T06:54:40.886Z"
   },
   {
    "duration": 0,
    "start_time": "2022-04-26T06:54:40.888Z"
   },
   {
    "duration": 0,
    "start_time": "2022-04-26T06:54:40.889Z"
   },
   {
    "duration": 0,
    "start_time": "2022-04-26T06:54:40.891Z"
   },
   {
    "duration": 0,
    "start_time": "2022-04-26T06:54:40.892Z"
   },
   {
    "duration": 0,
    "start_time": "2022-04-26T06:54:40.894Z"
   },
   {
    "duration": 1570,
    "start_time": "2022-04-26T06:58:40.645Z"
   },
   {
    "duration": 108,
    "start_time": "2022-04-26T06:58:42.217Z"
   },
   {
    "duration": 146,
    "start_time": "2022-04-26T06:58:42.327Z"
   },
   {
    "duration": 0,
    "start_time": "2022-04-26T06:58:42.482Z"
   },
   {
    "duration": 0,
    "start_time": "2022-04-26T06:58:42.483Z"
   },
   {
    "duration": 0,
    "start_time": "2022-04-26T06:58:42.485Z"
   },
   {
    "duration": 0,
    "start_time": "2022-04-26T06:58:42.486Z"
   },
   {
    "duration": 0,
    "start_time": "2022-04-26T06:58:42.488Z"
   },
   {
    "duration": 0,
    "start_time": "2022-04-26T06:58:42.489Z"
   },
   {
    "duration": 0,
    "start_time": "2022-04-26T06:58:42.490Z"
   },
   {
    "duration": 0,
    "start_time": "2022-04-26T06:58:42.492Z"
   },
   {
    "duration": 0,
    "start_time": "2022-04-26T06:58:42.493Z"
   },
   {
    "duration": 0,
    "start_time": "2022-04-26T06:58:42.495Z"
   },
   {
    "duration": 0,
    "start_time": "2022-04-26T06:58:42.496Z"
   },
   {
    "duration": 0,
    "start_time": "2022-04-26T06:58:42.498Z"
   },
   {
    "duration": 0,
    "start_time": "2022-04-26T06:58:42.499Z"
   },
   {
    "duration": 0,
    "start_time": "2022-04-26T06:58:42.501Z"
   },
   {
    "duration": 0,
    "start_time": "2022-04-26T06:58:42.502Z"
   },
   {
    "duration": 0,
    "start_time": "2022-04-26T06:58:42.504Z"
   },
   {
    "duration": 0,
    "start_time": "2022-04-26T06:58:42.505Z"
   },
   {
    "duration": 0,
    "start_time": "2022-04-26T06:58:42.506Z"
   },
   {
    "duration": 0,
    "start_time": "2022-04-26T06:58:42.508Z"
   },
   {
    "duration": 0,
    "start_time": "2022-04-26T06:58:42.509Z"
   },
   {
    "duration": 0,
    "start_time": "2022-04-26T06:58:42.510Z"
   },
   {
    "duration": 0,
    "start_time": "2022-04-26T06:58:42.512Z"
   },
   {
    "duration": 0,
    "start_time": "2022-04-26T06:58:42.514Z"
   },
   {
    "duration": 0,
    "start_time": "2022-04-26T06:58:42.515Z"
   },
   {
    "duration": 0,
    "start_time": "2022-04-26T06:58:42.517Z"
   },
   {
    "duration": 0,
    "start_time": "2022-04-26T06:58:42.518Z"
   },
   {
    "duration": 0,
    "start_time": "2022-04-26T06:58:42.520Z"
   },
   {
    "duration": 0,
    "start_time": "2022-04-26T06:58:42.582Z"
   },
   {
    "duration": 0,
    "start_time": "2022-04-26T06:58:42.583Z"
   },
   {
    "duration": 0,
    "start_time": "2022-04-26T06:58:42.585Z"
   },
   {
    "duration": 0,
    "start_time": "2022-04-26T06:58:42.587Z"
   },
   {
    "duration": 0,
    "start_time": "2022-04-26T06:58:42.588Z"
   },
   {
    "duration": 0,
    "start_time": "2022-04-26T06:58:42.589Z"
   },
   {
    "duration": 0,
    "start_time": "2022-04-26T06:58:42.590Z"
   },
   {
    "duration": 0,
    "start_time": "2022-04-26T06:58:42.591Z"
   },
   {
    "duration": 0,
    "start_time": "2022-04-26T06:58:42.592Z"
   },
   {
    "duration": 0,
    "start_time": "2022-04-26T06:58:42.594Z"
   },
   {
    "duration": 0,
    "start_time": "2022-04-26T06:58:42.595Z"
   },
   {
    "duration": 1524,
    "start_time": "2022-04-26T06:59:13.356Z"
   },
   {
    "duration": 95,
    "start_time": "2022-04-26T06:59:14.883Z"
   },
   {
    "duration": 29,
    "start_time": "2022-04-26T06:59:14.980Z"
   },
   {
    "duration": 21,
    "start_time": "2022-04-26T06:59:15.012Z"
   },
   {
    "duration": 4,
    "start_time": "2022-04-26T06:59:15.035Z"
   },
   {
    "duration": 10,
    "start_time": "2022-04-26T06:59:15.041Z"
   },
   {
    "duration": 34,
    "start_time": "2022-04-26T06:59:15.053Z"
   },
   {
    "duration": 12,
    "start_time": "2022-04-26T06:59:15.089Z"
   },
   {
    "duration": 14,
    "start_time": "2022-04-26T06:59:15.103Z"
   },
   {
    "duration": 7,
    "start_time": "2022-04-26T06:59:15.121Z"
   },
   {
    "duration": 12,
    "start_time": "2022-04-26T06:59:15.130Z"
   },
   {
    "duration": 40,
    "start_time": "2022-04-26T06:59:15.144Z"
   },
   {
    "duration": 21,
    "start_time": "2022-04-26T06:59:15.187Z"
   },
   {
    "duration": 18,
    "start_time": "2022-04-26T06:59:15.211Z"
   },
   {
    "duration": 22,
    "start_time": "2022-04-26T06:59:15.231Z"
   },
   {
    "duration": 15,
    "start_time": "2022-04-26T06:59:15.281Z"
   },
   {
    "duration": 7,
    "start_time": "2022-04-26T06:59:15.298Z"
   },
   {
    "duration": 25,
    "start_time": "2022-04-26T06:59:15.307Z"
   },
   {
    "duration": 558,
    "start_time": "2022-04-26T06:59:15.334Z"
   },
   {
    "duration": 6,
    "start_time": "2022-04-26T06:59:15.895Z"
   },
   {
    "duration": 23,
    "start_time": "2022-04-26T06:59:15.903Z"
   },
   {
    "duration": 1035,
    "start_time": "2022-04-26T06:59:15.928Z"
   },
   {
    "duration": 17,
    "start_time": "2022-04-26T06:59:16.966Z"
   },
   {
    "duration": 13,
    "start_time": "2022-04-26T06:59:16.985Z"
   },
   {
    "duration": 514,
    "start_time": "2022-04-26T06:59:17.000Z"
   },
   {
    "duration": 465,
    "start_time": "2022-04-26T06:59:17.516Z"
   },
   {
    "duration": 12,
    "start_time": "2022-04-26T06:59:17.984Z"
   },
   {
    "duration": 2407,
    "start_time": "2022-04-26T06:59:18.001Z"
   },
   {
    "duration": 5,
    "start_time": "2022-04-26T06:59:20.410Z"
   },
   {
    "duration": 10225,
    "start_time": "2022-04-26T06:59:20.417Z"
   },
   {
    "duration": 514,
    "start_time": "2022-04-26T06:59:30.644Z"
   },
   {
    "duration": 1009,
    "start_time": "2022-04-26T06:59:31.160Z"
   },
   {
    "duration": 1180,
    "start_time": "2022-04-26T06:59:32.171Z"
   },
   {
    "duration": 355,
    "start_time": "2022-04-26T06:59:33.353Z"
   },
   {
    "duration": 4,
    "start_time": "2022-04-26T06:59:33.710Z"
   },
   {
    "duration": 526,
    "start_time": "2022-04-26T06:59:33.716Z"
   },
   {
    "duration": 77,
    "start_time": "2022-04-26T06:59:34.244Z"
   },
   {
    "duration": 15,
    "start_time": "2022-04-26T06:59:34.324Z"
   },
   {
    "duration": 517,
    "start_time": "2022-04-26T06:59:34.341Z"
   },
   {
    "duration": 69,
    "start_time": "2022-04-26T06:59:34.860Z"
   },
   {
    "duration": 14,
    "start_time": "2022-04-26T06:59:34.931Z"
   },
   {
    "duration": 7,
    "start_time": "2022-04-26T07:02:42.749Z"
   },
   {
    "duration": 8,
    "start_time": "2022-04-26T07:03:06.182Z"
   },
   {
    "duration": 9,
    "start_time": "2022-04-26T07:03:29.285Z"
   },
   {
    "duration": 7,
    "start_time": "2022-04-26T07:03:32.927Z"
   },
   {
    "duration": 6,
    "start_time": "2022-04-26T07:03:41.989Z"
   },
   {
    "duration": 7,
    "start_time": "2022-04-26T07:03:48.517Z"
   },
   {
    "duration": 161,
    "start_time": "2022-04-26T10:17:21.382Z"
   },
   {
    "duration": 12,
    "start_time": "2022-04-26T10:17:34.862Z"
   },
   {
    "duration": 13,
    "start_time": "2022-04-26T10:17:38.038Z"
   },
   {
    "duration": 8,
    "start_time": "2022-04-26T10:17:40.997Z"
   },
   {
    "duration": 6,
    "start_time": "2022-04-26T10:17:45.797Z"
   },
   {
    "duration": 7,
    "start_time": "2022-04-26T10:18:47.045Z"
   },
   {
    "duration": 1526,
    "start_time": "2022-04-26T10:28:47.380Z"
   },
   {
    "duration": 107,
    "start_time": "2022-04-26T10:28:48.909Z"
   },
   {
    "duration": 31,
    "start_time": "2022-04-26T10:28:49.018Z"
   },
   {
    "duration": 38,
    "start_time": "2022-04-26T10:28:49.052Z"
   },
   {
    "duration": 4,
    "start_time": "2022-04-26T10:28:49.098Z"
   },
   {
    "duration": 11,
    "start_time": "2022-04-26T10:28:49.104Z"
   },
   {
    "duration": 13,
    "start_time": "2022-04-26T10:28:49.117Z"
   },
   {
    "duration": 10,
    "start_time": "2022-04-26T10:28:49.132Z"
   },
   {
    "duration": 13,
    "start_time": "2022-04-26T10:28:49.144Z"
   },
   {
    "duration": 11,
    "start_time": "2022-04-26T10:28:49.181Z"
   },
   {
    "duration": 17,
    "start_time": "2022-04-26T10:28:49.198Z"
   },
   {
    "duration": 9,
    "start_time": "2022-04-26T10:28:49.217Z"
   },
   {
    "duration": 28,
    "start_time": "2022-04-26T10:28:49.228Z"
   },
   {
    "duration": 44,
    "start_time": "2022-04-26T10:28:49.258Z"
   },
   {
    "duration": 18,
    "start_time": "2022-04-26T10:28:49.304Z"
   },
   {
    "duration": 14,
    "start_time": "2022-04-26T10:28:49.325Z"
   },
   {
    "duration": 7,
    "start_time": "2022-04-26T10:28:49.341Z"
   },
   {
    "duration": 52,
    "start_time": "2022-04-26T10:28:49.350Z"
   },
   {
    "duration": 590,
    "start_time": "2022-04-26T10:28:49.404Z"
   },
   {
    "duration": 7,
    "start_time": "2022-04-26T10:28:49.996Z"
   },
   {
    "duration": 39,
    "start_time": "2022-04-26T10:28:50.005Z"
   },
   {
    "duration": 1124,
    "start_time": "2022-04-26T10:28:50.046Z"
   },
   {
    "duration": 17,
    "start_time": "2022-04-26T10:28:51.173Z"
   },
   {
    "duration": 21,
    "start_time": "2022-04-26T10:28:51.192Z"
   },
   {
    "duration": 527,
    "start_time": "2022-04-26T10:28:51.215Z"
   },
   {
    "duration": 491,
    "start_time": "2022-04-26T10:28:51.744Z"
   },
   {
    "duration": 12,
    "start_time": "2022-04-26T10:28:52.237Z"
   },
   {
    "duration": 2588,
    "start_time": "2022-04-26T10:28:52.254Z"
   },
   {
    "duration": 5,
    "start_time": "2022-04-26T10:28:54.844Z"
   },
   {
    "duration": 11096,
    "start_time": "2022-04-26T10:28:54.851Z"
   },
   {
    "duration": 543,
    "start_time": "2022-04-26T10:29:05.950Z"
   },
   {
    "duration": 1268,
    "start_time": "2022-04-26T10:29:06.497Z"
   },
   {
    "duration": 1239,
    "start_time": "2022-04-26T10:29:07.767Z"
   },
   {
    "duration": 6,
    "start_time": "2022-04-26T10:29:09.009Z"
   },
   {
    "duration": 387,
    "start_time": "2022-04-26T10:29:09.018Z"
   },
   {
    "duration": 8,
    "start_time": "2022-04-26T10:29:09.408Z"
   },
   {
    "duration": 9,
    "start_time": "2022-04-26T10:29:09.418Z"
   },
   {
    "duration": 7,
    "start_time": "2022-04-26T10:29:09.429Z"
   },
   {
    "duration": 590,
    "start_time": "2022-04-26T10:29:09.438Z"
   },
   {
    "duration": 85,
    "start_time": "2022-04-26T10:29:10.031Z"
   },
   {
    "duration": 14,
    "start_time": "2022-04-26T10:29:10.119Z"
   },
   {
    "duration": 522,
    "start_time": "2022-04-26T10:29:10.136Z"
   },
   {
    "duration": 74,
    "start_time": "2022-04-26T10:29:10.660Z"
   },
   {
    "duration": 58,
    "start_time": "2022-04-26T10:29:10.738Z"
   },
   {
    "duration": 57,
    "start_time": "2022-04-26T17:32:36.189Z"
   },
   {
    "duration": 1688,
    "start_time": "2022-04-26T17:44:33.899Z"
   },
   {
    "duration": 143,
    "start_time": "2022-04-26T17:44:35.593Z"
   },
   {
    "duration": 25,
    "start_time": "2022-04-26T17:44:35.738Z"
   },
   {
    "duration": 42,
    "start_time": "2022-04-26T17:44:35.766Z"
   },
   {
    "duration": 45,
    "start_time": "2022-04-26T17:44:35.810Z"
   },
   {
    "duration": 20,
    "start_time": "2022-04-26T17:44:35.858Z"
   },
   {
    "duration": 52,
    "start_time": "2022-04-26T17:44:35.880Z"
   },
   {
    "duration": 57,
    "start_time": "2022-04-26T17:44:35.934Z"
   },
   {
    "duration": 23,
    "start_time": "2022-04-26T17:44:35.994Z"
   },
   {
    "duration": 31,
    "start_time": "2022-04-26T17:44:36.020Z"
   },
   {
    "duration": 63,
    "start_time": "2022-04-26T17:44:36.053Z"
   },
   {
    "duration": 18,
    "start_time": "2022-04-26T17:44:36.118Z"
   },
   {
    "duration": 52,
    "start_time": "2022-04-26T17:44:36.138Z"
   },
   {
    "duration": 53,
    "start_time": "2022-04-26T17:44:36.192Z"
   },
   {
    "duration": 16,
    "start_time": "2022-04-26T17:44:36.247Z"
   },
   {
    "duration": 52,
    "start_time": "2022-04-26T17:44:36.265Z"
   },
   {
    "duration": 35,
    "start_time": "2022-04-26T17:44:36.319Z"
   },
   {
    "duration": 71,
    "start_time": "2022-04-26T17:44:36.356Z"
   },
   {
    "duration": 418,
    "start_time": "2022-04-26T17:44:36.429Z"
   },
   {
    "duration": 6,
    "start_time": "2022-04-26T17:44:36.849Z"
   },
   {
    "duration": 74,
    "start_time": "2022-04-26T17:44:36.857Z"
   },
   {
    "duration": 867,
    "start_time": "2022-04-26T17:44:36.933Z"
   },
   {
    "duration": 12,
    "start_time": "2022-04-26T17:44:37.802Z"
   },
   {
    "duration": 50,
    "start_time": "2022-04-26T17:44:37.823Z"
   },
   {
    "duration": 379,
    "start_time": "2022-04-26T17:44:37.875Z"
   },
   {
    "duration": 345,
    "start_time": "2022-04-26T17:44:38.256Z"
   },
   {
    "duration": 15,
    "start_time": "2022-04-26T17:44:38.605Z"
   },
   {
    "duration": 2545,
    "start_time": "2022-04-26T17:44:38.625Z"
   },
   {
    "duration": 4,
    "start_time": "2022-04-26T17:44:41.173Z"
   },
   {
    "duration": 7890,
    "start_time": "2022-04-26T17:44:41.179Z"
   },
   {
    "duration": 334,
    "start_time": "2022-04-26T17:44:49.071Z"
   },
   {
    "duration": 757,
    "start_time": "2022-04-26T17:44:49.406Z"
   },
   {
    "duration": 1079,
    "start_time": "2022-04-26T17:44:50.165Z"
   },
   {
    "duration": 7,
    "start_time": "2022-04-26T17:44:51.247Z"
   },
   {
    "duration": 274,
    "start_time": "2022-04-26T17:44:51.256Z"
   },
   {
    "duration": 10,
    "start_time": "2022-04-26T17:45:48.887Z"
   },
   {
    "duration": 4,
    "start_time": "2022-04-26T17:46:11.536Z"
   },
   {
    "duration": 269,
    "start_time": "2022-04-26T17:46:13.493Z"
   }
  ],
  "kernelspec": {
   "display_name": "Python 3 (ipykernel)",
   "language": "python",
   "name": "python3"
  },
  "language_info": {
   "codemirror_mode": {
    "name": "ipython",
    "version": 3
   },
   "file_extension": ".py",
   "mimetype": "text/x-python",
   "name": "python",
   "nbconvert_exporter": "python",
   "pygments_lexer": "ipython3",
   "version": "3.9.13"
  },
  "toc": {
   "base_numbering": 1,
   "nav_menu": {},
   "number_sections": true,
   "sideBar": true,
   "skip_h1_title": true,
   "title_cell": "Table of Contents",
   "title_sidebar": "Contents",
   "toc_cell": false,
   "toc_position": {},
   "toc_section_display": true,
   "toc_window_display": false
  }
 },
 "nbformat": 4,
 "nbformat_minor": 5
}
